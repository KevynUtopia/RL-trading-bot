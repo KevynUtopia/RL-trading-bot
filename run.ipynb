{
  "cells": [
    {
      "cell_type": "code",
      "execution_count": 1,
      "metadata": {
        "colab": {
          "base_uri": "https://localhost:8080/"
        },
        "id": "Q4SfmryhcFLP",
        "outputId": "f3224cfa-b5f2-4494-def8-107e672eb53e"
      },
      "outputs": [
        {
          "output_type": "stream",
          "name": "stdout",
          "text": [
            "Mounted at /content/drive\n",
            "/content/drive/MyDrive/Colab Notebooks\n"
          ]
        }
      ],
      "source": [
        "from google.colab import drive\n",
        "import os\n",
        "\n",
        "drive.mount('/content/drive')\n",
        "%cd /content/drive/MyDrive/Colab Notebooks\n",
        "\n",
        "os.chdir('./project')"
      ]
    },
    {
      "cell_type": "markdown",
      "metadata": {
        "id": "mPk6s4EHk07u"
      },
      "source": [
        "## 0. Prepare libraries"
      ]
    },
    {
      "cell_type": "code",
      "execution_count": 2,
      "metadata": {
        "colab": {
          "base_uri": "https://localhost:8080/"
        },
        "id": "TNZa_stxk0Me",
        "outputId": "77cf81de-8d8b-44e8-95d9-40b08ec625f7"
      },
      "outputs": [
        {
          "output_type": "stream",
          "name": "stdout",
          "text": [
            "Looking in indexes: https://pypi.org/simple, https://us-python.pkg.dev/colab-wheels/public/simple/\n",
            "Collecting coloredlogs\n",
            "  Downloading coloredlogs-15.0.1-py2.py3-none-any.whl (46 kB)\n",
            "\u001b[2K     \u001b[90m━━━━━━━━━━━━━━━━━━━━━━━━━━━━━━━━━━━━━━━━\u001b[0m \u001b[32m46.0/46.0 kB\u001b[0m \u001b[31m2.8 MB/s\u001b[0m eta \u001b[36m0:00:00\u001b[0m\n",
            "\u001b[?25hCollecting humanfriendly>=9.1 (from coloredlogs)\n",
            "  Downloading humanfriendly-10.0-py2.py3-none-any.whl (86 kB)\n",
            "\u001b[2K     \u001b[90m━━━━━━━━━━━━━━━━━━━━━━━━━━━━━━━━━━━━━━━━\u001b[0m \u001b[32m86.8/86.8 kB\u001b[0m \u001b[31m10.5 MB/s\u001b[0m eta \u001b[36m0:00:00\u001b[0m\n",
            "\u001b[?25hInstalling collected packages: humanfriendly, coloredlogs\n",
            "Successfully installed coloredlogs-15.0.1 humanfriendly-10.0\n",
            "Looking in indexes: https://pypi.org/simple, https://us-python.pkg.dev/colab-wheels/public/simple/\n",
            "Collecting docopt\n",
            "  Downloading docopt-0.6.2.tar.gz (25 kB)\n",
            "  Preparing metadata (setup.py) ... \u001b[?25l\u001b[?25hdone\n",
            "Building wheels for collected packages: docopt\n",
            "  Building wheel for docopt (setup.py) ... \u001b[?25l\u001b[?25hdone\n",
            "  Created wheel for docopt: filename=docopt-0.6.2-py2.py3-none-any.whl size=13707 sha256=49f26651428470e183961fdfe1c403c7b137d691a60f03597f753c3d3181c1be\n",
            "  Stored in directory: /root/.cache/pip/wheels/fc/ab/d4/5da2067ac95b36618c629a5f93f809425700506f72c9732fac\n",
            "Successfully built docopt\n",
            "Installing collected packages: docopt\n",
            "Successfully installed docopt-0.6.2\n"
          ]
        }
      ],
      "source": [
        "!pip install coloredlogs\n",
        "!pip install docopt"
      ]
    },
    {
      "cell_type": "code",
      "execution_count": 3,
      "metadata": {
        "colab": {
          "base_uri": "https://localhost:8080/"
        },
        "id": "pnXAdKmtC5BN",
        "outputId": "f998ce66-bfe9-4564-97b0-cae3b436ea48"
      },
      "outputs": [
        {
          "output_type": "stream",
          "name": "stdout",
          "text": [
            "Looking in indexes: https://pypi.org/simple, https://us-python.pkg.dev/colab-wheels/public/simple/\n",
            "Collecting keras-beats\n",
            "  Downloading keras_beats-0.0.1-py3-none-any.whl (10 kB)\n",
            "Requirement already satisfied: tensorflow>=2.0.0 in /usr/local/lib/python3.10/dist-packages (from keras-beats) (2.12.0)\n",
            "Requirement already satisfied: pandas in /usr/local/lib/python3.10/dist-packages (from keras-beats) (1.5.3)\n",
            "Requirement already satisfied: numpy in /usr/local/lib/python3.10/dist-packages (from keras-beats) (1.22.4)\n",
            "Requirement already satisfied: absl-py>=1.0.0 in /usr/local/lib/python3.10/dist-packages (from tensorflow>=2.0.0->keras-beats) (1.4.0)\n",
            "Requirement already satisfied: astunparse>=1.6.0 in /usr/local/lib/python3.10/dist-packages (from tensorflow>=2.0.0->keras-beats) (1.6.3)\n",
            "Requirement already satisfied: flatbuffers>=2.0 in /usr/local/lib/python3.10/dist-packages (from tensorflow>=2.0.0->keras-beats) (23.3.3)\n",
            "Requirement already satisfied: gast<=0.4.0,>=0.2.1 in /usr/local/lib/python3.10/dist-packages (from tensorflow>=2.0.0->keras-beats) (0.4.0)\n",
            "Requirement already satisfied: google-pasta>=0.1.1 in /usr/local/lib/python3.10/dist-packages (from tensorflow>=2.0.0->keras-beats) (0.2.0)\n",
            "Requirement already satisfied: grpcio<2.0,>=1.24.3 in /usr/local/lib/python3.10/dist-packages (from tensorflow>=2.0.0->keras-beats) (1.54.0)\n",
            "Requirement already satisfied: h5py>=2.9.0 in /usr/local/lib/python3.10/dist-packages (from tensorflow>=2.0.0->keras-beats) (3.8.0)\n",
            "Requirement already satisfied: jax>=0.3.15 in /usr/local/lib/python3.10/dist-packages (from tensorflow>=2.0.0->keras-beats) (0.4.10)\n",
            "Requirement already satisfied: keras<2.13,>=2.12.0 in /usr/local/lib/python3.10/dist-packages (from tensorflow>=2.0.0->keras-beats) (2.12.0)\n",
            "Requirement already satisfied: libclang>=13.0.0 in /usr/local/lib/python3.10/dist-packages (from tensorflow>=2.0.0->keras-beats) (16.0.0)\n",
            "Requirement already satisfied: opt-einsum>=2.3.2 in /usr/local/lib/python3.10/dist-packages (from tensorflow>=2.0.0->keras-beats) (3.3.0)\n",
            "Requirement already satisfied: packaging in /usr/local/lib/python3.10/dist-packages (from tensorflow>=2.0.0->keras-beats) (23.1)\n",
            "Requirement already satisfied: protobuf!=4.21.0,!=4.21.1,!=4.21.2,!=4.21.3,!=4.21.4,!=4.21.5,<5.0.0dev,>=3.20.3 in /usr/local/lib/python3.10/dist-packages (from tensorflow>=2.0.0->keras-beats) (3.20.3)\n",
            "Requirement already satisfied: setuptools in /usr/local/lib/python3.10/dist-packages (from tensorflow>=2.0.0->keras-beats) (67.7.2)\n",
            "Requirement already satisfied: six>=1.12.0 in /usr/local/lib/python3.10/dist-packages (from tensorflow>=2.0.0->keras-beats) (1.16.0)\n",
            "Requirement already satisfied: tensorboard<2.13,>=2.12 in /usr/local/lib/python3.10/dist-packages (from tensorflow>=2.0.0->keras-beats) (2.12.2)\n",
            "Requirement already satisfied: tensorflow-estimator<2.13,>=2.12.0 in /usr/local/lib/python3.10/dist-packages (from tensorflow>=2.0.0->keras-beats) (2.12.0)\n",
            "Requirement already satisfied: termcolor>=1.1.0 in /usr/local/lib/python3.10/dist-packages (from tensorflow>=2.0.0->keras-beats) (2.3.0)\n",
            "Requirement already satisfied: typing-extensions>=3.6.6 in /usr/local/lib/python3.10/dist-packages (from tensorflow>=2.0.0->keras-beats) (4.5.0)\n",
            "Requirement already satisfied: wrapt<1.15,>=1.11.0 in /usr/local/lib/python3.10/dist-packages (from tensorflow>=2.0.0->keras-beats) (1.14.1)\n",
            "Requirement already satisfied: tensorflow-io-gcs-filesystem>=0.23.1 in /usr/local/lib/python3.10/dist-packages (from tensorflow>=2.0.0->keras-beats) (0.32.0)\n",
            "Requirement already satisfied: python-dateutil>=2.8.1 in /usr/local/lib/python3.10/dist-packages (from pandas->keras-beats) (2.8.2)\n",
            "Requirement already satisfied: pytz>=2020.1 in /usr/local/lib/python3.10/dist-packages (from pandas->keras-beats) (2022.7.1)\n",
            "Requirement already satisfied: wheel<1.0,>=0.23.0 in /usr/local/lib/python3.10/dist-packages (from astunparse>=1.6.0->tensorflow>=2.0.0->keras-beats) (0.40.0)\n",
            "Requirement already satisfied: ml-dtypes>=0.1.0 in /usr/local/lib/python3.10/dist-packages (from jax>=0.3.15->tensorflow>=2.0.0->keras-beats) (0.1.0)\n",
            "Requirement already satisfied: scipy>=1.7 in /usr/local/lib/python3.10/dist-packages (from jax>=0.3.15->tensorflow>=2.0.0->keras-beats) (1.10.1)\n",
            "Requirement already satisfied: google-auth<3,>=1.6.3 in /usr/local/lib/python3.10/dist-packages (from tensorboard<2.13,>=2.12->tensorflow>=2.0.0->keras-beats) (2.17.3)\n",
            "Requirement already satisfied: google-auth-oauthlib<1.1,>=0.5 in /usr/local/lib/python3.10/dist-packages (from tensorboard<2.13,>=2.12->tensorflow>=2.0.0->keras-beats) (1.0.0)\n",
            "Requirement already satisfied: markdown>=2.6.8 in /usr/local/lib/python3.10/dist-packages (from tensorboard<2.13,>=2.12->tensorflow>=2.0.0->keras-beats) (3.4.3)\n",
            "Requirement already satisfied: requests<3,>=2.21.0 in /usr/local/lib/python3.10/dist-packages (from tensorboard<2.13,>=2.12->tensorflow>=2.0.0->keras-beats) (2.27.1)\n",
            "Requirement already satisfied: tensorboard-data-server<0.8.0,>=0.7.0 in /usr/local/lib/python3.10/dist-packages (from tensorboard<2.13,>=2.12->tensorflow>=2.0.0->keras-beats) (0.7.0)\n",
            "Requirement already satisfied: tensorboard-plugin-wit>=1.6.0 in /usr/local/lib/python3.10/dist-packages (from tensorboard<2.13,>=2.12->tensorflow>=2.0.0->keras-beats) (1.8.1)\n",
            "Requirement already satisfied: werkzeug>=1.0.1 in /usr/local/lib/python3.10/dist-packages (from tensorboard<2.13,>=2.12->tensorflow>=2.0.0->keras-beats) (2.3.0)\n",
            "Requirement already satisfied: cachetools<6.0,>=2.0.0 in /usr/local/lib/python3.10/dist-packages (from google-auth<3,>=1.6.3->tensorboard<2.13,>=2.12->tensorflow>=2.0.0->keras-beats) (5.3.0)\n",
            "Requirement already satisfied: pyasn1-modules>=0.2.1 in /usr/local/lib/python3.10/dist-packages (from google-auth<3,>=1.6.3->tensorboard<2.13,>=2.12->tensorflow>=2.0.0->keras-beats) (0.3.0)\n",
            "Requirement already satisfied: rsa<5,>=3.1.4 in /usr/local/lib/python3.10/dist-packages (from google-auth<3,>=1.6.3->tensorboard<2.13,>=2.12->tensorflow>=2.0.0->keras-beats) (4.9)\n",
            "Requirement already satisfied: requests-oauthlib>=0.7.0 in /usr/local/lib/python3.10/dist-packages (from google-auth-oauthlib<1.1,>=0.5->tensorboard<2.13,>=2.12->tensorflow>=2.0.0->keras-beats) (1.3.1)\n",
            "Requirement already satisfied: urllib3<1.27,>=1.21.1 in /usr/local/lib/python3.10/dist-packages (from requests<3,>=2.21.0->tensorboard<2.13,>=2.12->tensorflow>=2.0.0->keras-beats) (1.26.15)\n",
            "Requirement already satisfied: certifi>=2017.4.17 in /usr/local/lib/python3.10/dist-packages (from requests<3,>=2.21.0->tensorboard<2.13,>=2.12->tensorflow>=2.0.0->keras-beats) (2022.12.7)\n",
            "Requirement already satisfied: charset-normalizer~=2.0.0 in /usr/local/lib/python3.10/dist-packages (from requests<3,>=2.21.0->tensorboard<2.13,>=2.12->tensorflow>=2.0.0->keras-beats) (2.0.12)\n",
            "Requirement already satisfied: idna<4,>=2.5 in /usr/local/lib/python3.10/dist-packages (from requests<3,>=2.21.0->tensorboard<2.13,>=2.12->tensorflow>=2.0.0->keras-beats) (3.4)\n",
            "Requirement already satisfied: MarkupSafe>=2.1.1 in /usr/local/lib/python3.10/dist-packages (from werkzeug>=1.0.1->tensorboard<2.13,>=2.12->tensorflow>=2.0.0->keras-beats) (2.1.2)\n",
            "Requirement already satisfied: pyasn1<0.6.0,>=0.4.6 in /usr/local/lib/python3.10/dist-packages (from pyasn1-modules>=0.2.1->google-auth<3,>=1.6.3->tensorboard<2.13,>=2.12->tensorflow>=2.0.0->keras-beats) (0.5.0)\n",
            "Requirement already satisfied: oauthlib>=3.0.0 in /usr/local/lib/python3.10/dist-packages (from requests-oauthlib>=0.7.0->google-auth-oauthlib<1.1,>=0.5->tensorboard<2.13,>=2.12->tensorflow>=2.0.0->keras-beats) (3.2.2)\n",
            "Installing collected packages: keras-beats\n",
            "Successfully installed keras-beats-0.0.1\n"
          ]
        }
      ],
      "source": [
        "!pip install keras-beats"
      ]
    },
    {
      "cell_type": "code",
      "execution_count": 4,
      "metadata": {
        "id": "eHPXp_UEgUWk"
      },
      "outputs": [],
      "source": [
        "import pandas as pd\n",
        "import numpy as np\n",
        "\n",
        "import altair as alt\n",
        "import seaborn as sns"
      ]
    },
    {
      "cell_type": "markdown",
      "metadata": {
        "id": "9xIiq1Txgm0r"
      },
      "source": [
        "### 1. Define parameters and Load model"
      ]
    },
    {
      "cell_type": "code",
      "execution_count": null,
      "metadata": {
        "id": "igOAqo67gQw3"
      },
      "outputs": [],
      "source": [
        "import tensorflow as tf\n",
        "tf.__version__\n",
        "import tensorflow.keras.optimizers.legacy"
      ]
    },
    {
      "cell_type": "code",
      "execution_count": null,
      "metadata": {
        "colab": {
          "base_uri": "https://localhost:8080/"
        },
        "id": "qFbnEKg3gdTU",
        "outputId": "91671dbd-8861-4473-b80a-001bf38a3fcb"
      },
      "outputs": [
        {
          "data": {
            "text/plain": [
              "keras.optimizers.legacy.adam.Adam"
            ]
          },
          "execution_count": 6,
          "metadata": {},
          "output_type": "execute_result"
        }
      ],
      "source": [
        "tensorflow.keras.optimizers.legacy.Adam"
      ]
    },
    {
      "cell_type": "code",
      "execution_count": null,
      "metadata": {
        "colab": {
          "base_uri": "https://localhost:8080/"
        },
        "id": "oJlu9MRs-xAq",
        "outputId": "3a4b1415-6e43-4fc0-f040-f9633dd4e476"
      },
      "outputs": [
        {
          "name": "stdout",
          "output_type": "stream",
          "text": [
            "Num GPUs Available:  1\n"
          ]
        }
      ],
      "source": [
        "import tensorflow as tf\n",
        "print(\"Num GPUs Available: \", len(tf.config.list_physical_devices('GPU')))"
      ]
    },
    {
      "cell_type": "code",
      "execution_count": null,
      "metadata": {
        "colab": {
          "base_uri": "https://localhost:8080/"
        },
        "id": "3rcyG7XA8N0G",
        "outputId": "04066b4f-656c-496a-8e9c-c1a37020a284"
      },
      "outputs": [
        {
          "name": "stdout",
          "output_type": "stream",
          "text": [
            "2023-06-19 15:27:08.447966: I tensorflow/core/platform/cpu_feature_guard.cc:182] This TensorFlow binary is optimized to use available CPU instructions in performance-critical operations.\n",
            "To enable the following instructions: AVX2 FMA, in other operations, rebuild TensorFlow with the appropriate compiler flags.\n",
            "2023-06-19 15:27:09.408322: W tensorflow/compiler/tf2tensorrt/utils/py_utils.cc:38] TF-TRT Warning: Could not find TensorRT\n",
            "\u001b[32m2023-06-19 15:27:10\u001b[0m \u001b[35m8f8a8aaa1e8f\u001b[0m \u001b[34mroot[546690]\u001b[0m \u001b[1;30mDEBUG\u001b[0m \u001b[32mswitching to TensorFlow for CPU\u001b[0m\n",
            "2023-06-19 15:27:10.965861: E tensorflow/compiler/xla/stream_executor/cuda/cuda_driver.cc:266] failed call to cuInit: CUDA_ERROR_NO_DEVICE: no CUDA-capable device is detected\n",
            "2023-06-19 15:27:10.965913: I tensorflow/compiler/xla/stream_executor/cuda/cuda_diagnostics.cc:168] retrieving CUDA diagnostic information for host: 8f8a8aaa1e8f\n",
            "2023-06-19 15:27:10.965938: I tensorflow/compiler/xla/stream_executor/cuda/cuda_diagnostics.cc:175] hostname: 8f8a8aaa1e8f\n",
            "2023-06-19 15:27:10.966055: I tensorflow/compiler/xla/stream_executor/cuda/cuda_diagnostics.cc:199] libcuda reported version is: 525.85.12\n",
            "2023-06-19 15:27:10.966080: I tensorflow/compiler/xla/stream_executor/cuda/cuda_diagnostics.cc:203] kernel reported version is: 525.85.12\n",
            "2023-06-19 15:27:10.966089: I tensorflow/compiler/xla/stream_executor/cuda/cuda_diagnostics.cc:309] kernel version seems to match DSO: 525.85.12\n",
            "train\n",
            "Episode 1/50:   0%|          | 0/49 [00:00<?, ?it/s]\n",
            "\u001b[32m2023-06-19 15:29:20\u001b[0m \u001b[35m8f8a8aaa1e8f\u001b[0m \u001b[34mroot[546690]\u001b[0m \u001b[1;30mINFO\u001b[0m Episode 1/50 - Train Position: +$284.10  Val Position: +$66.42  Train Loss: 1.0160)\n",
            "train\n",
            "Episode 2/50:   0%|          | 0/49 [00:00<?, ?it/s]\n",
            "\u001b[32m2023-06-19 15:33:03\u001b[0m \u001b[35m8f8a8aaa1e8f\u001b[0m \u001b[34mroot[546690]\u001b[0m \u001b[1;30mINFO\u001b[0m Episode 2/50 - Train Position: -$25.89  Val Position: +$46288.79  Train Loss: 0.2062)\n",
            "train\n",
            "Episode 3/50:   0%|          | 0/49 [00:00<?, ?it/s]\n",
            "\u001b[32m2023-06-19 15:36:47\u001b[0m \u001b[35m8f8a8aaa1e8f\u001b[0m \u001b[34mroot[546690]\u001b[0m \u001b[1;30mINFO\u001b[0m Episode 3/50 - Train Position: +$10.96  Val Position: +$77.39  Train Loss: 4.0816)\n",
            "train\n",
            "Episode 4/50:   0%|          | 0/49 [00:00<?, ?it/s]\n",
            "\u001b[32m2023-06-19 15:40:33\u001b[0m \u001b[35m8f8a8aaa1e8f\u001b[0m \u001b[34mroot[546690]\u001b[0m \u001b[1;30mINFO\u001b[0m Episode 4/50 - Train Position: -$7.38  Val Position: +$49496.30  Train Loss: 3.4186)\n",
            "train\n",
            "Episode 5/50:   0%|          | 0/49 [00:00<?, ?it/s]\n",
            "\u001b[32m2023-06-19 15:44:18\u001b[0m \u001b[35m8f8a8aaa1e8f\u001b[0m \u001b[34mroot[546690]\u001b[0m \u001b[1;30mINFO\u001b[0m Episode 5/50 - Train Position: +$77.43  Val Position: +$25286.52  Train Loss: 4.6674)\n",
            "train\n",
            "Episode 6/50:   0%|          | 0/49 [00:00<?, ?it/s]\n",
            "\u001b[32m2023-06-19 15:48:04\u001b[0m \u001b[35m8f8a8aaa1e8f\u001b[0m \u001b[34mroot[546690]\u001b[0m \u001b[1;30mINFO\u001b[0m Episode 6/50 - Train Position: +$145.06  Val Position: +$376.01  Train Loss: 4.6984)\n",
            "train\n",
            "Episode 7/50:   0%|          | 0/49 [00:00<?, ?it/s]\n",
            "Aborted!\n"
          ]
        }
      ],
      "source": [
        "!python train.py ./dataset/data/GOOG.csv ./dataset/data/GOOG_2019.csv --strategy dqn --episode-count 50 --model-name doubledqn_goog"
      ]
    },
    {
      "cell_type": "code",
      "execution_count": null,
      "metadata": {
        "colab": {
          "base_uri": "https://localhost:8080/"
        },
        "id": "gKdGBUV0VcU8",
        "outputId": "4a3751bf-7453-4f92-bd66-21614eaa6234"
      },
      "outputs": [
        {
          "name": "stdout",
          "output_type": "stream",
          "text": [
            "2023-06-19 09:47:44.276141: W tensorflow/compiler/tf2tensorrt/utils/py_utils.cc:38] TF-TRT Warning: Could not find TensorRT\n",
            "Traceback (most recent call last):\n",
            "  File \"/usr/lib/python3.10/inspect.py\", line 2421, in _signature_from_callable\n",
            "AttributeError: 'function' object has no attribute '__signature__'\n",
            "\n",
            "During handling of the above exception, another exception occurred:\n",
            "\n",
            "Traceback (most recent call last):\n",
            "  File \"/content/drive/MyDrive/Colab Notebooks/project/train.py\", line 34, in <module>\n",
            "    from trading_bot.agent import Agent\n",
            "  File \"/content/drive/MyDrive/Colab Notebooks/project/trading_bot/agent.py\", line 6, in <module>\n",
            "    import tensorflow as tf\n",
            "  File \"/usr/local/lib/python3.10/dist-packages/tensorflow/__init__.py\", line 37, in <module>\n",
            "    from tensorflow.python.tools import module_util as _module_util\n",
            "  File \"/usr/local/lib/python3.10/dist-packages/tensorflow/python/__init__.py\", line 45, in <module>\n",
            "    from tensorflow.python.feature_column import feature_column_lib as feature_column\n",
            "  File \"/usr/local/lib/python3.10/dist-packages/tensorflow/python/feature_column/feature_column_lib.py\", line 18, in <module>\n",
            "    from tensorflow.python.feature_column.feature_column import *\n",
            "  File \"/usr/local/lib/python3.10/dist-packages/tensorflow/python/feature_column/feature_column.py\", line 143, in <module>\n",
            "    from tensorflow.python.layers import base\n",
            "  File \"/usr/local/lib/python3.10/dist-packages/tensorflow/python/layers/base.py\", line 16, in <module>\n",
            "    from tensorflow.python.keras.legacy_tf_layers import base\n",
            "  File \"/usr/local/lib/python3.10/dist-packages/tensorflow/python/keras/__init__.py\", line 25, in <module>\n",
            "    from tensorflow.python.keras import models\n",
            "  File \"/usr/local/lib/python3.10/dist-packages/tensorflow/python/keras/models.py\", line 25, in <module>\n",
            "    from tensorflow.python.keras.engine import training_v1\n",
            "  File \"/usr/local/lib/python3.10/dist-packages/tensorflow/python/keras/engine/training_v1.py\", line 75, in <module>\n",
            "    class Model(training_lib.Model):\n",
            "  File \"/usr/local/lib/python3.10/dist-packages/tensorflow/python/keras/engine/training_v1.py\", line 1511, in Model\n",
            "    def _compile_weights_loss_and_weighted_metrics(self, sample_weights=None):\n",
            "  File \"/usr/local/lib/python3.10/dist-packages/tensorflow/python/trackable/base.py\", line 210, in no_automatic_dependency_tracking\n",
            "    return tf_decorator.make_decorator(\n",
            "  File \"/usr/local/lib/python3.10/dist-packages/tensorflow/python/util/tf_decorator.py\", line 136, in make_decorator\n",
            "    decorator = TFDecorator(decorator_name, target, decorator_doc,\n",
            "  File \"/usr/local/lib/python3.10/dist-packages/tensorflow/python/util/tf_decorator.py\", line 332, in __init__\n",
            "    self.__signature__ = inspect.signature(target)\n",
            "  File \"/usr/lib/python3.10/inspect.py\", line 3254, in signature\n",
            "    return Signature.from_callable(obj, follow_wrapped=follow_wrapped,\n",
            "  File \"/usr/lib/python3.10/inspect.py\", line 3002, in from_callable\n",
            "    return _signature_from_callable(obj, sigcls=cls,\n",
            "  File \"/usr/lib/python3.10/inspect.py\", line 2421, in _signature_from_callable\n",
            "    sig = obj.__signature__\n",
            "KeyboardInterrupt\n",
            "^C\n"
          ]
        }
      ],
      "source": [
        "!python train.py ./dataset/data/GOOG.csv ./dataset/data/GOOG_2019.csv --strategy t-dqn --episode-count 5 --model-name doubledqn_goog"
      ]
    },
    {
      "cell_type": "code",
      "execution_count": null,
      "metadata": {
        "id": "Ox4eLQ3igpKc"
      },
      "outputs": [],
      "source": [
        "from trading_bot.agent import Agent\n",
        "\n",
        "model_name = 'model_GOOG_50'\n",
        "test_stock = './dataset/data/GOOG_2019.csv'\n",
        "window_size = 20\n",
        "debug = True\n",
        "\n",
        "agent = Agent(window_size, strategy='double-dqn', pretrained=False)"
      ]
    },
    {
      "cell_type": "markdown",
      "metadata": {
        "id": "Vd6lI68fkZ7U"
      },
      "source": [
        "### 2. Load test data"
      ]
    },
    {
      "cell_type": "code",
      "execution_count": null,
      "metadata": {
        "colab": {
          "base_uri": "https://localhost:8080/",
          "height": 206
        },
        "id": "9eI0emsbhiDN",
        "outputId": "5d6e1905-9c59-4f61-f881-e223cfaf1110"
      },
      "outputs": [
        {
          "data": {
            "text/html": [
              "\n",
              "  <div id=\"df-67737415-328c-4361-a1ea-85669573ae15\">\n",
              "    <div class=\"colab-df-container\">\n",
              "      <div>\n",
              "<style scoped>\n",
              "    .dataframe tbody tr th:only-of-type {\n",
              "        vertical-align: middle;\n",
              "    }\n",
              "\n",
              "    .dataframe tbody tr th {\n",
              "        vertical-align: top;\n",
              "    }\n",
              "\n",
              "    .dataframe thead th {\n",
              "        text-align: right;\n",
              "    }\n",
              "</style>\n",
              "<table border=\"1\" class=\"dataframe\">\n",
              "  <thead>\n",
              "    <tr style=\"text-align: right;\">\n",
              "      <th></th>\n",
              "      <th>date</th>\n",
              "      <th>actual</th>\n",
              "    </tr>\n",
              "  </thead>\n",
              "  <tbody>\n",
              "    <tr>\n",
              "      <th>0</th>\n",
              "      <td>2019-01-02</td>\n",
              "      <td>1045.849976</td>\n",
              "    </tr>\n",
              "    <tr>\n",
              "      <th>1</th>\n",
              "      <td>2019-01-03</td>\n",
              "      <td>1016.059998</td>\n",
              "    </tr>\n",
              "    <tr>\n",
              "      <th>2</th>\n",
              "      <td>2019-01-04</td>\n",
              "      <td>1070.709961</td>\n",
              "    </tr>\n",
              "    <tr>\n",
              "      <th>3</th>\n",
              "      <td>2019-01-07</td>\n",
              "      <td>1068.390015</td>\n",
              "    </tr>\n",
              "    <tr>\n",
              "      <th>4</th>\n",
              "      <td>2019-01-08</td>\n",
              "      <td>1076.280029</td>\n",
              "    </tr>\n",
              "  </tbody>\n",
              "</table>\n",
              "</div>\n",
              "      <button class=\"colab-df-convert\" onclick=\"convertToInteractive('df-67737415-328c-4361-a1ea-85669573ae15')\"\n",
              "              title=\"Convert this dataframe to an interactive table.\"\n",
              "              style=\"display:none;\">\n",
              "        \n",
              "  <svg xmlns=\"http://www.w3.org/2000/svg\" height=\"24px\"viewBox=\"0 0 24 24\"\n",
              "       width=\"24px\">\n",
              "    <path d=\"M0 0h24v24H0V0z\" fill=\"none\"/>\n",
              "    <path d=\"M18.56 5.44l.94 2.06.94-2.06 2.06-.94-2.06-.94-.94-2.06-.94 2.06-2.06.94zm-11 1L8.5 8.5l.94-2.06 2.06-.94-2.06-.94L8.5 2.5l-.94 2.06-2.06.94zm10 10l.94 2.06.94-2.06 2.06-.94-2.06-.94-.94-2.06-.94 2.06-2.06.94z\"/><path d=\"M17.41 7.96l-1.37-1.37c-.4-.4-.92-.59-1.43-.59-.52 0-1.04.2-1.43.59L10.3 9.45l-7.72 7.72c-.78.78-.78 2.05 0 2.83L4 21.41c.39.39.9.59 1.41.59.51 0 1.02-.2 1.41-.59l7.78-7.78 2.81-2.81c.8-.78.8-2.07 0-2.86zM5.41 20L4 18.59l7.72-7.72 1.47 1.35L5.41 20z\"/>\n",
              "  </svg>\n",
              "      </button>\n",
              "      \n",
              "  <style>\n",
              "    .colab-df-container {\n",
              "      display:flex;\n",
              "      flex-wrap:wrap;\n",
              "      gap: 12px;\n",
              "    }\n",
              "\n",
              "    .colab-df-convert {\n",
              "      background-color: #E8F0FE;\n",
              "      border: none;\n",
              "      border-radius: 50%;\n",
              "      cursor: pointer;\n",
              "      display: none;\n",
              "      fill: #1967D2;\n",
              "      height: 32px;\n",
              "      padding: 0 0 0 0;\n",
              "      width: 32px;\n",
              "    }\n",
              "\n",
              "    .colab-df-convert:hover {\n",
              "      background-color: #E2EBFA;\n",
              "      box-shadow: 0px 1px 2px rgba(60, 64, 67, 0.3), 0px 1px 3px 1px rgba(60, 64, 67, 0.15);\n",
              "      fill: #174EA6;\n",
              "    }\n",
              "\n",
              "    [theme=dark] .colab-df-convert {\n",
              "      background-color: #3B4455;\n",
              "      fill: #D2E3FC;\n",
              "    }\n",
              "\n",
              "    [theme=dark] .colab-df-convert:hover {\n",
              "      background-color: #434B5C;\n",
              "      box-shadow: 0px 1px 3px 1px rgba(0, 0, 0, 0.15);\n",
              "      filter: drop-shadow(0px 1px 2px rgba(0, 0, 0, 0.3));\n",
              "      fill: #FFFFFF;\n",
              "    }\n",
              "  </style>\n",
              "\n",
              "      <script>\n",
              "        const buttonEl =\n",
              "          document.querySelector('#df-67737415-328c-4361-a1ea-85669573ae15 button.colab-df-convert');\n",
              "        buttonEl.style.display =\n",
              "          google.colab.kernel.accessAllowed ? 'block' : 'none';\n",
              "\n",
              "        async function convertToInteractive(key) {\n",
              "          const element = document.querySelector('#df-67737415-328c-4361-a1ea-85669573ae15');\n",
              "          const dataTable =\n",
              "            await google.colab.kernel.invokeFunction('convertToInteractive',\n",
              "                                                     [key], {});\n",
              "          if (!dataTable) return;\n",
              "\n",
              "          const docLinkHtml = 'Like what you see? Visit the ' +\n",
              "            '<a target=\"_blank\" href=https://colab.research.google.com/notebooks/data_table.ipynb>data table notebook</a>'\n",
              "            + ' to learn more about interactive tables.';\n",
              "          element.innerHTML = '';\n",
              "          dataTable['output_type'] = 'display_data';\n",
              "          await google.colab.output.renderOutput(dataTable, element);\n",
              "          const docLink = document.createElement('div');\n",
              "          docLink.innerHTML = docLinkHtml;\n",
              "          element.appendChild(docLink);\n",
              "        }\n",
              "      </script>\n",
              "    </div>\n",
              "  </div>\n",
              "  "
            ],
            "text/plain": [
              "        date       actual\n",
              "0 2019-01-02  1045.849976\n",
              "1 2019-01-03  1016.059998\n",
              "2 2019-01-04  1070.709961\n",
              "3 2019-01-07  1068.390015\n",
              "4 2019-01-08  1076.280029"
            ]
          },
          "execution_count": 15,
          "metadata": {},
          "output_type": "execute_result"
        }
      ],
      "source": [
        "# read csv into dataframe\n",
        "df = pd.read_csv(test_stock)\n",
        "# filter out the desired features\n",
        "df = df[['Date', 'Adj Close']]\n",
        "# rename feature column names\n",
        "df = df.rename(columns={'Adj Close': 'actual', 'Date': 'date'})\n",
        "# convert dates from object to DateTime type\n",
        "dates = df['date']\n",
        "dates = pd.to_datetime(dates, infer_datetime_format=True)\n",
        "df['date'] = dates\n",
        "\n",
        "df.head()"
      ]
    },
    {
      "cell_type": "markdown",
      "metadata": {
        "id": "61kQkimckrN6"
      },
      "source": [
        "### 3. Running Eval"
      ]
    },
    {
      "cell_type": "code",
      "execution_count": null,
      "metadata": {
        "colab": {
          "base_uri": "https://localhost:8080/"
        },
        "id": "uoADk76gkrpK",
        "outputId": "221e3f13-9d7a-49f8-9ca1-8f05736b2feb"
      },
      "outputs": [
        {
          "name": "stderr",
          "output_type": "stream",
          "text": [
            "2023-05-31 02:47:18 633684638fd9 root[1152] DEBUG switching to TensorFlow for CPU\n",
            "2023-05-31 02:47:18 633684638fd9 root[1152] DEBUG Buy at: $1045.85\n"
          ]
        },
        {
          "name": "stdout",
          "output_type": "stream",
          "text": [
            "1/1 [==============================] - 0s 68ms/step\n"
          ]
        },
        {
          "name": "stderr",
          "output_type": "stream",
          "text": [
            "2023-05-31 02:47:18 633684638fd9 root[1152] DEBUG Buy at: $1016.06\n"
          ]
        },
        {
          "name": "stdout",
          "output_type": "stream",
          "text": [
            "1/1 [==============================] - 0s 20ms/step\n"
          ]
        },
        {
          "name": "stderr",
          "output_type": "stream",
          "text": [
            "2023-05-31 02:47:18 633684638fd9 root[1152] DEBUG Buy at: $1070.71\n"
          ]
        },
        {
          "name": "stdout",
          "output_type": "stream",
          "text": [
            "1/1 [==============================] - 0s 20ms/step\n"
          ]
        },
        {
          "name": "stderr",
          "output_type": "stream",
          "text": [
            "2023-05-31 02:47:18 633684638fd9 root[1152] DEBUG Buy at: $1068.39\n"
          ]
        },
        {
          "name": "stdout",
          "output_type": "stream",
          "text": [
            "1/1 [==============================] - 0s 20ms/step\n"
          ]
        },
        {
          "name": "stderr",
          "output_type": "stream",
          "text": [
            "2023-05-31 02:47:18 633684638fd9 root[1152] DEBUG Buy at: $1076.28\n"
          ]
        },
        {
          "name": "stdout",
          "output_type": "stream",
          "text": [
            "1/1 [==============================] - 0s 20ms/step\n"
          ]
        },
        {
          "name": "stderr",
          "output_type": "stream",
          "text": [
            "2023-05-31 02:47:18 633684638fd9 root[1152] DEBUG Buy at: $1074.66\n"
          ]
        },
        {
          "name": "stdout",
          "output_type": "stream",
          "text": [
            "1/1 [==============================] - 0s 20ms/step\n"
          ]
        },
        {
          "name": "stderr",
          "output_type": "stream",
          "text": [
            "2023-05-31 02:47:18 633684638fd9 root[1152] DEBUG Buy at: $1070.33\n"
          ]
        },
        {
          "name": "stdout",
          "output_type": "stream",
          "text": [
            "1/1 [==============================] - 0s 19ms/step\n"
          ]
        },
        {
          "name": "stderr",
          "output_type": "stream",
          "text": [
            "2023-05-31 02:47:18 633684638fd9 root[1152] DEBUG Buy at: $1057.19\n"
          ]
        },
        {
          "name": "stdout",
          "output_type": "stream",
          "text": [
            "1/1 [==============================] - 0s 20ms/step\n"
          ]
        },
        {
          "name": "stderr",
          "output_type": "stream",
          "text": [
            "2023-05-31 02:47:18 633684638fd9 root[1152] DEBUG Buy at: $1044.69\n"
          ]
        },
        {
          "name": "stdout",
          "output_type": "stream",
          "text": [
            "1/1 [==============================] - 0s 20ms/step\n"
          ]
        },
        {
          "name": "stderr",
          "output_type": "stream",
          "text": [
            "2023-05-31 02:47:18 633684638fd9 root[1152] DEBUG Buy at: $1077.15\n"
          ]
        },
        {
          "name": "stdout",
          "output_type": "stream",
          "text": [
            "1/1 [==============================] - 0s 22ms/step\n"
          ]
        },
        {
          "name": "stderr",
          "output_type": "stream",
          "text": [
            "2023-05-31 02:47:18 633684638fd9 root[1152] DEBUG Buy at: $1080.97\n"
          ]
        },
        {
          "name": "stdout",
          "output_type": "stream",
          "text": [
            "1/1 [==============================] - 0s 20ms/step\n"
          ]
        },
        {
          "name": "stderr",
          "output_type": "stream",
          "text": [
            "2023-05-31 02:47:18 633684638fd9 root[1152] DEBUG Buy at: $1089.90\n"
          ]
        },
        {
          "name": "stdout",
          "output_type": "stream",
          "text": [
            "1/1 [==============================] - 0s 21ms/step\n"
          ]
        },
        {
          "name": "stderr",
          "output_type": "stream",
          "text": [
            "2023-05-31 02:47:18 633684638fd9 root[1152] DEBUG Buy at: $1098.26\n"
          ]
        },
        {
          "name": "stdout",
          "output_type": "stream",
          "text": [
            "1/1 [==============================] - 0s 21ms/step\n"
          ]
        },
        {
          "name": "stderr",
          "output_type": "stream",
          "text": [
            "2023-05-31 02:47:18 633684638fd9 root[1152] DEBUG Buy at: $1070.52\n"
          ]
        },
        {
          "name": "stdout",
          "output_type": "stream",
          "text": [
            "1/1 [==============================] - 0s 20ms/step\n"
          ]
        },
        {
          "name": "stderr",
          "output_type": "stream",
          "text": [
            "2023-05-31 02:47:18 633684638fd9 root[1152] DEBUG Buy at: $1075.57\n"
          ]
        },
        {
          "name": "stdout",
          "output_type": "stream",
          "text": [
            "1/1 [==============================] - 0s 20ms/step\n"
          ]
        },
        {
          "name": "stderr",
          "output_type": "stream",
          "text": [
            "2023-05-31 02:47:19 633684638fd9 root[1152] DEBUG Buy at: $1073.90\n"
          ]
        },
        {
          "name": "stdout",
          "output_type": "stream",
          "text": [
            "1/1 [==============================] - 0s 19ms/step\n"
          ]
        },
        {
          "name": "stderr",
          "output_type": "stream",
          "text": [
            "2023-05-31 02:47:19 633684638fd9 root[1152] DEBUG Buy at: $1090.99\n"
          ]
        },
        {
          "name": "stdout",
          "output_type": "stream",
          "text": [
            "1/1 [==============================] - 0s 20ms/step\n"
          ]
        },
        {
          "name": "stderr",
          "output_type": "stream",
          "text": [
            "2023-05-31 02:47:19 633684638fd9 root[1152] DEBUG Buy at: $1070.08\n"
          ]
        },
        {
          "name": "stdout",
          "output_type": "stream",
          "text": [
            "1/1 [==============================] - 0s 20ms/step\n"
          ]
        },
        {
          "name": "stderr",
          "output_type": "stream",
          "text": [
            "2023-05-31 02:47:19 633684638fd9 root[1152] DEBUG Buy at: $1060.62\n"
          ]
        },
        {
          "name": "stdout",
          "output_type": "stream",
          "text": [
            "1/1 [==============================] - 0s 21ms/step\n"
          ]
        },
        {
          "name": "stderr",
          "output_type": "stream",
          "text": [
            "2023-05-31 02:47:19 633684638fd9 root[1152] DEBUG Buy at: $1089.06\n"
          ]
        },
        {
          "name": "stdout",
          "output_type": "stream",
          "text": [
            "1/1 [==============================] - 0s 20ms/step\n"
          ]
        },
        {
          "name": "stderr",
          "output_type": "stream",
          "text": [
            "2023-05-31 02:47:19 633684638fd9 root[1152] DEBUG Buy at: $1116.37\n"
          ]
        },
        {
          "name": "stdout",
          "output_type": "stream",
          "text": [
            "1/1 [==============================] - 0s 20ms/step\n"
          ]
        },
        {
          "name": "stderr",
          "output_type": "stream",
          "text": [
            "2023-05-31 02:47:19 633684638fd9 root[1152] DEBUG Buy at: $1110.75\n"
          ]
        },
        {
          "name": "stdout",
          "output_type": "stream",
          "text": [
            "1/1 [==============================] - 0s 20ms/step\n"
          ]
        },
        {
          "name": "stderr",
          "output_type": "stream",
          "text": [
            "2023-05-31 02:47:19 633684638fd9 root[1152] DEBUG Buy at: $1132.80\n"
          ]
        },
        {
          "name": "stdout",
          "output_type": "stream",
          "text": [
            "1/1 [==============================] - 0s 20ms/step\n"
          ]
        },
        {
          "name": "stderr",
          "output_type": "stream",
          "text": [
            "2023-05-31 02:47:19 633684638fd9 root[1152] DEBUG Buy at: $1145.99\n"
          ]
        },
        {
          "name": "stdout",
          "output_type": "stream",
          "text": [
            "1/1 [==============================] - 0s 20ms/step\n"
          ]
        },
        {
          "name": "stderr",
          "output_type": "stream",
          "text": [
            "2023-05-31 02:47:19 633684638fd9 root[1152] DEBUG Buy at: $1115.23\n"
          ]
        },
        {
          "name": "stdout",
          "output_type": "stream",
          "text": [
            "1/1 [==============================] - 0s 19ms/step\n"
          ]
        },
        {
          "name": "stderr",
          "output_type": "stream",
          "text": [
            "2023-05-31 02:47:19 633684638fd9 root[1152] DEBUG Buy at: $1098.71\n"
          ]
        },
        {
          "name": "stdout",
          "output_type": "stream",
          "text": [
            "1/1 [==============================] - 0s 20ms/step\n"
          ]
        },
        {
          "name": "stderr",
          "output_type": "stream",
          "text": [
            "2023-05-31 02:47:19 633684638fd9 root[1152] DEBUG Buy at: $1095.06\n"
          ]
        },
        {
          "name": "stdout",
          "output_type": "stream",
          "text": [
            "1/1 [==============================] - 0s 20ms/step\n"
          ]
        },
        {
          "name": "stderr",
          "output_type": "stream",
          "text": [
            "2023-05-31 02:47:19 633684638fd9 root[1152] DEBUG Buy at: $1095.01\n"
          ]
        },
        {
          "name": "stdout",
          "output_type": "stream",
          "text": [
            "1/1 [==============================] - 0s 19ms/step\n"
          ]
        },
        {
          "name": "stderr",
          "output_type": "stream",
          "text": [
            "2023-05-31 02:47:19 633684638fd9 root[1152] DEBUG Buy at: $1121.37\n"
          ]
        },
        {
          "name": "stdout",
          "output_type": "stream",
          "text": [
            "1/1 [==============================] - 0s 19ms/step\n"
          ]
        },
        {
          "name": "stderr",
          "output_type": "stream",
          "text": [
            "2023-05-31 02:47:19 633684638fd9 root[1152] DEBUG Buy at: $1120.16\n"
          ]
        },
        {
          "name": "stdout",
          "output_type": "stream",
          "text": [
            "1/1 [==============================] - 0s 20ms/step\n"
          ]
        },
        {
          "name": "stderr",
          "output_type": "stream",
          "text": [
            "2023-05-31 02:47:19 633684638fd9 root[1152] DEBUG Buy at: $1121.67\n"
          ]
        },
        {
          "name": "stdout",
          "output_type": "stream",
          "text": [
            "1/1 [==============================] - 0s 20ms/step\n"
          ]
        },
        {
          "name": "stderr",
          "output_type": "stream",
          "text": [
            "2023-05-31 02:47:19 633684638fd9 root[1152] DEBUG Buy at: $1113.65\n"
          ]
        },
        {
          "name": "stdout",
          "output_type": "stream",
          "text": [
            "1/1 [==============================] - 0s 20ms/step\n"
          ]
        },
        {
          "name": "stderr",
          "output_type": "stream",
          "text": [
            "2023-05-31 02:47:19 633684638fd9 root[1152] DEBUG Buy at: $1118.56\n"
          ]
        },
        {
          "name": "stdout",
          "output_type": "stream",
          "text": [
            "1/1 [==============================] - 0s 20ms/step\n"
          ]
        },
        {
          "name": "stderr",
          "output_type": "stream",
          "text": [
            "2023-05-31 02:47:19 633684638fd9 root[1152] DEBUG Buy at: $1113.80\n"
          ]
        },
        {
          "name": "stdout",
          "output_type": "stream",
          "text": [
            "1/1 [==============================] - 0s 19ms/step\n"
          ]
        },
        {
          "name": "stderr",
          "output_type": "stream",
          "text": [
            "2023-05-31 02:47:20 633684638fd9 root[1152] DEBUG Buy at: $1096.97\n"
          ]
        },
        {
          "name": "stdout",
          "output_type": "stream",
          "text": [
            "1/1 [==============================] - 0s 19ms/step\n"
          ]
        },
        {
          "name": "stderr",
          "output_type": "stream",
          "text": [
            "2023-05-31 02:47:20 633684638fd9 root[1152] DEBUG Buy at: $1110.37\n"
          ]
        },
        {
          "name": "stdout",
          "output_type": "stream",
          "text": [
            "1/1 [==============================] - 0s 19ms/step\n"
          ]
        },
        {
          "name": "stderr",
          "output_type": "stream",
          "text": [
            "2023-05-31 02:47:20 633684638fd9 root[1152] DEBUG Buy at: $1109.40\n"
          ]
        },
        {
          "name": "stdout",
          "output_type": "stream",
          "text": [
            "1/1 [==============================] - 0s 22ms/step\n"
          ]
        },
        {
          "name": "stderr",
          "output_type": "stream",
          "text": [
            "2023-05-31 02:47:20 633684638fd9 root[1152] DEBUG Buy at: $1115.13\n"
          ]
        },
        {
          "name": "stdout",
          "output_type": "stream",
          "text": [
            "1/1 [==============================] - 0s 20ms/step\n"
          ]
        },
        {
          "name": "stderr",
          "output_type": "stream",
          "text": [
            "2023-05-31 02:47:20 633684638fd9 root[1152] DEBUG Buy at: $1116.05\n"
          ]
        },
        {
          "name": "stdout",
          "output_type": "stream",
          "text": [
            "1/1 [==============================] - 0s 20ms/step\n"
          ]
        },
        {
          "name": "stderr",
          "output_type": "stream",
          "text": [
            "2023-05-31 02:47:20 633684638fd9 root[1152] DEBUG Buy at: $1119.92\n"
          ]
        },
        {
          "name": "stdout",
          "output_type": "stream",
          "text": [
            "1/1 [==============================] - 0s 19ms/step\n"
          ]
        },
        {
          "name": "stderr",
          "output_type": "stream",
          "text": [
            "2023-05-31 02:47:20 633684638fd9 root[1152] DEBUG Sell at: $1140.99 | Position: +$95.14\n"
          ]
        },
        {
          "name": "stdout",
          "output_type": "stream",
          "text": [
            "1/1 [==============================] - 0s 19ms/step\n"
          ]
        },
        {
          "name": "stderr",
          "output_type": "stream",
          "text": [
            "2023-05-31 02:47:20 633684638fd9 root[1152] DEBUG Buy at: $1147.80\n"
          ]
        },
        {
          "name": "stdout",
          "output_type": "stream",
          "text": [
            "1/1 [==============================] - 0s 20ms/step\n"
          ]
        },
        {
          "name": "stderr",
          "output_type": "stream",
          "text": [
            "2023-05-31 02:47:20 633684638fd9 root[1152] DEBUG Buy at: $1162.03\n"
          ]
        },
        {
          "name": "stdout",
          "output_type": "stream",
          "text": [
            "1/1 [==============================] - 0s 19ms/step\n"
          ]
        },
        {
          "name": "stderr",
          "output_type": "stream",
          "text": [
            "2023-05-31 02:47:20 633684638fd9 root[1152] DEBUG Buy at: $1157.86\n"
          ]
        },
        {
          "name": "stdout",
          "output_type": "stream",
          "text": [
            "1/1 [==============================] - 0s 21ms/step\n"
          ]
        },
        {
          "name": "stderr",
          "output_type": "stream",
          "text": [
            "2023-05-31 02:47:20 633684638fd9 root[1152] DEBUG Buy at: $1143.30\n"
          ]
        },
        {
          "name": "stdout",
          "output_type": "stream",
          "text": [
            "1/1 [==============================] - 0s 19ms/step\n"
          ]
        },
        {
          "name": "stderr",
          "output_type": "stream",
          "text": [
            "2023-05-31 02:47:20 633684638fd9 root[1152] DEBUG Buy at: $1142.32\n"
          ]
        },
        {
          "name": "stdout",
          "output_type": "stream",
          "text": [
            "1/1 [==============================] - 0s 19ms/step\n"
          ]
        },
        {
          "name": "stderr",
          "output_type": "stream",
          "text": [
            "2023-05-31 02:47:20 633684638fd9 root[1152] DEBUG Buy at: $1175.76\n"
          ]
        },
        {
          "name": "stdout",
          "output_type": "stream",
          "text": [
            "1/1 [==============================] - 0s 21ms/step\n"
          ]
        },
        {
          "name": "stderr",
          "output_type": "stream",
          "text": [
            "2023-05-31 02:47:20 633684638fd9 root[1152] DEBUG Buy at: $1193.20\n"
          ]
        },
        {
          "name": "stdout",
          "output_type": "stream",
          "text": [
            "1/1 [==============================] - 0s 20ms/step\n"
          ]
        },
        {
          "name": "stderr",
          "output_type": "stream",
          "text": [
            "2023-05-31 02:47:20 633684638fd9 root[1152] DEBUG Buy at: $1193.32\n"
          ]
        },
        {
          "name": "stdout",
          "output_type": "stream",
          "text": [
            "1/1 [==============================] - 0s 19ms/step\n"
          ]
        },
        {
          "name": "stderr",
          "output_type": "stream",
          "text": [
            "2023-05-31 02:47:20 633684638fd9 root[1152] DEBUG Buy at: $1185.55\n"
          ]
        },
        {
          "name": "stdout",
          "output_type": "stream",
          "text": [
            "1/1 [==============================] - 0s 20ms/step\n"
          ]
        },
        {
          "name": "stderr",
          "output_type": "stream",
          "text": [
            "2023-05-31 02:47:20 633684638fd9 root[1152] DEBUG Buy at: $1184.46\n"
          ]
        },
        {
          "name": "stdout",
          "output_type": "stream",
          "text": [
            "1/1 [==============================] - 0s 20ms/step\n"
          ]
        },
        {
          "name": "stderr",
          "output_type": "stream",
          "text": [
            "2023-05-31 02:47:20 633684638fd9 root[1152] DEBUG Buy at: $1184.26\n"
          ]
        },
        {
          "name": "stdout",
          "output_type": "stream",
          "text": [
            "1/1 [==============================] - 0s 20ms/step\n"
          ]
        },
        {
          "name": "stderr",
          "output_type": "stream",
          "text": [
            "2023-05-31 02:47:21 633684638fd9 root[1152] DEBUG Buy at: $1198.85\n"
          ]
        },
        {
          "name": "stdout",
          "output_type": "stream",
          "text": [
            "1/1 [==============================] - 0s 21ms/step\n"
          ]
        },
        {
          "name": "stderr",
          "output_type": "stream",
          "text": [
            "2023-05-31 02:47:21 633684638fd9 root[1152] DEBUG Buy at: $1223.97\n"
          ]
        },
        {
          "name": "stdout",
          "output_type": "stream",
          "text": [
            "1/1 [==============================] - 0s 20ms/step\n"
          ]
        },
        {
          "name": "stderr",
          "output_type": "stream",
          "text": [
            "2023-05-31 02:47:21 633684638fd9 root[1152] DEBUG Buy at: $1231.54\n"
          ]
        },
        {
          "name": "stdout",
          "output_type": "stream",
          "text": [
            "1/1 [==============================] - 0s 19ms/step\n"
          ]
        },
        {
          "name": "stderr",
          "output_type": "stream",
          "text": [
            "2023-05-31 02:47:21 633684638fd9 root[1152] DEBUG Buy at: $1205.50\n"
          ]
        },
        {
          "name": "stdout",
          "output_type": "stream",
          "text": [
            "1/1 [==============================] - 0s 20ms/step\n"
          ]
        },
        {
          "name": "stderr",
          "output_type": "stream",
          "text": [
            "2023-05-31 02:47:21 633684638fd9 root[1152] DEBUG Buy at: $1193.00\n"
          ]
        },
        {
          "name": "stdout",
          "output_type": "stream",
          "text": [
            "1/1 [==============================] - 0s 19ms/step\n"
          ]
        },
        {
          "name": "stderr",
          "output_type": "stream",
          "text": [
            "2023-05-31 02:47:21 633684638fd9 root[1152] DEBUG Buy at: $1184.62\n"
          ]
        },
        {
          "name": "stdout",
          "output_type": "stream",
          "text": [
            "1/1 [==============================] - 0s 20ms/step\n"
          ]
        },
        {
          "name": "stderr",
          "output_type": "stream",
          "text": [
            "2023-05-31 02:47:21 633684638fd9 root[1152] DEBUG Buy at: $1173.02\n"
          ]
        },
        {
          "name": "stdout",
          "output_type": "stream",
          "text": [
            "1/1 [==============================] - 0s 20ms/step\n"
          ]
        },
        {
          "name": "stderr",
          "output_type": "stream",
          "text": [
            "2023-05-31 02:47:21 633684638fd9 root[1152] DEBUG Sell at: $1168.49 | Position: +$152.43\n"
          ]
        },
        {
          "name": "stdout",
          "output_type": "stream",
          "text": [
            "1/1 [==============================] - 0s 20ms/step\n"
          ]
        },
        {
          "name": "stderr",
          "output_type": "stream",
          "text": [
            "2023-05-31 02:47:21 633684638fd9 root[1152] DEBUG Buy at: $1173.31\n"
          ]
        },
        {
          "name": "stdout",
          "output_type": "stream",
          "text": [
            "1/1 [==============================] - 0s 20ms/step\n"
          ]
        },
        {
          "name": "stderr",
          "output_type": "stream",
          "text": [
            "2023-05-31 02:47:21 633684638fd9 root[1152] DEBUG Buy at: $1194.43\n"
          ]
        },
        {
          "name": "stdout",
          "output_type": "stream",
          "text": [
            "1/1 [==============================] - 0s 20ms/step\n"
          ]
        },
        {
          "name": "stderr",
          "output_type": "stream",
          "text": [
            "2023-05-31 02:47:21 633684638fd9 root[1152] DEBUG Buy at: $1200.49\n"
          ]
        },
        {
          "name": "stdout",
          "output_type": "stream",
          "text": [
            "1/1 [==============================] - 0s 20ms/step\n"
          ]
        },
        {
          "name": "stderr",
          "output_type": "stream",
          "text": [
            "2023-05-31 02:47:21 633684638fd9 root[1152] DEBUG Buy at: $1205.92\n"
          ]
        },
        {
          "name": "stdout",
          "output_type": "stream",
          "text": [
            "1/1 [==============================] - 0s 20ms/step\n"
          ]
        },
        {
          "name": "stderr",
          "output_type": "stream",
          "text": [
            "2023-05-31 02:47:21 633684638fd9 root[1152] DEBUG Buy at: $1215.00\n"
          ]
        },
        {
          "name": "stdout",
          "output_type": "stream",
          "text": [
            "1/1 [==============================] - 0s 20ms/step\n"
          ]
        },
        {
          "name": "stderr",
          "output_type": "stream",
          "text": [
            "2023-05-31 02:47:21 633684638fd9 root[1152] DEBUG Buy at: $1207.15\n"
          ]
        },
        {
          "name": "stdout",
          "output_type": "stream",
          "text": [
            "1/1 [==============================] - 0s 20ms/step\n"
          ]
        },
        {
          "name": "stderr",
          "output_type": "stream",
          "text": [
            "2023-05-31 02:47:21 633684638fd9 root[1152] DEBUG Buy at: $1203.84\n"
          ]
        },
        {
          "name": "stdout",
          "output_type": "stream",
          "text": [
            "1/1 [==============================] - 0s 22ms/step\n"
          ]
        },
        {
          "name": "stderr",
          "output_type": "stream",
          "text": [
            "2023-05-31 02:47:21 633684638fd9 root[1152] DEBUG Buy at: $1197.25\n"
          ]
        },
        {
          "name": "stdout",
          "output_type": "stream",
          "text": [
            "1/1 [==============================] - 0s 19ms/step\n"
          ]
        },
        {
          "name": "stderr",
          "output_type": "stream",
          "text": [
            "2023-05-31 02:47:21 633684638fd9 root[1152] DEBUG Buy at: $1202.16\n"
          ]
        },
        {
          "name": "stdout",
          "output_type": "stream",
          "text": [
            "1/1 [==============================] - 0s 19ms/step\n"
          ]
        },
        {
          "name": "stderr",
          "output_type": "stream",
          "text": [
            "2023-05-31 02:47:21 633684638fd9 root[1152] DEBUG Buy at: $1204.62\n"
          ]
        },
        {
          "name": "stdout",
          "output_type": "stream",
          "text": [
            "1/1 [==============================] - 0s 20ms/step\n"
          ]
        },
        {
          "name": "stderr",
          "output_type": "stream",
          "text": [
            "2023-05-31 02:47:22 633684638fd9 root[1152] DEBUG Buy at: $1217.87\n"
          ]
        },
        {
          "name": "stdout",
          "output_type": "stream",
          "text": [
            "1/1 [==============================] - 0s 20ms/step\n"
          ]
        },
        {
          "name": "stderr",
          "output_type": "stream",
          "text": [
            "2023-05-31 02:47:22 633684638fd9 root[1152] DEBUG Buy at: $1221.10\n"
          ]
        },
        {
          "name": "stdout",
          "output_type": "stream",
          "text": [
            "1/1 [==============================] - 0s 21ms/step\n"
          ]
        },
        {
          "name": "stderr",
          "output_type": "stream",
          "text": [
            "2023-05-31 02:47:22 633684638fd9 root[1152] DEBUG Buy at: $1227.13\n"
          ]
        },
        {
          "name": "stdout",
          "output_type": "stream",
          "text": [
            "1/1 [==============================] - 0s 20ms/step\n"
          ]
        },
        {
          "name": "stderr",
          "output_type": "stream",
          "text": [
            "2023-05-31 02:47:22 633684638fd9 root[1152] DEBUG Buy at: $1236.34\n"
          ]
        },
        {
          "name": "stdout",
          "output_type": "stream",
          "text": [
            "1/1 [==============================] - 0s 21ms/step\n"
          ]
        },
        {
          "name": "stderr",
          "output_type": "stream",
          "text": [
            "2023-05-31 02:47:22 633684638fd9 root[1152] DEBUG Buy at: $1236.37\n"
          ]
        },
        {
          "name": "stdout",
          "output_type": "stream",
          "text": [
            "1/1 [==============================] - 0s 20ms/step\n"
          ]
        },
        {
          "name": "stderr",
          "output_type": "stream",
          "text": [
            "2023-05-31 02:47:22 633684638fd9 root[1152] DEBUG Buy at: $1248.84\n"
          ]
        },
        {
          "name": "stdout",
          "output_type": "stream",
          "text": [
            "1/1 [==============================] - 0s 20ms/step\n"
          ]
        },
        {
          "name": "stderr",
          "output_type": "stream",
          "text": [
            "2023-05-31 02:47:22 633684638fd9 root[1152] DEBUG Buy at: $1264.55\n"
          ]
        },
        {
          "name": "stdout",
          "output_type": "stream",
          "text": [
            "1/1 [==============================] - 0s 20ms/step\n"
          ]
        },
        {
          "name": "stderr",
          "output_type": "stream",
          "text": [
            "2023-05-31 02:47:22 633684638fd9 root[1152] DEBUG Buy at: $1256.00\n"
          ]
        },
        {
          "name": "stdout",
          "output_type": "stream",
          "text": [
            "1/1 [==============================] - 0s 20ms/step\n"
          ]
        },
        {
          "name": "stderr",
          "output_type": "stream",
          "text": [
            "2023-05-31 02:47:22 633684638fd9 root[1152] DEBUG Buy at: $1263.45\n"
          ]
        },
        {
          "name": "stdout",
          "output_type": "stream",
          "text": [
            "1/1 [==============================] - 0s 19ms/step\n"
          ]
        },
        {
          "name": "stderr",
          "output_type": "stream",
          "text": [
            "2023-05-31 02:47:22 633684638fd9 root[1152] DEBUG Buy at: $1272.18\n"
          ]
        },
        {
          "name": "stdout",
          "output_type": "stream",
          "text": [
            "1/1 [==============================] - 0s 20ms/step\n"
          ]
        },
        {
          "name": "stderr",
          "output_type": "stream",
          "text": [
            "2023-05-31 02:47:22 633684638fd9 root[1152] DEBUG Buy at: $1287.58\n"
          ]
        },
        {
          "name": "stdout",
          "output_type": "stream",
          "text": [
            "1/1 [==============================] - 0s 19ms/step\n"
          ]
        },
        {
          "name": "stderr",
          "output_type": "stream",
          "text": [
            "2023-05-31 02:47:22 633684638fd9 root[1152] DEBUG Buy at: $1188.48\n"
          ]
        },
        {
          "name": "stdout",
          "output_type": "stream",
          "text": [
            "1/1 [==============================] - 0s 21ms/step\n"
          ]
        },
        {
          "name": "stderr",
          "output_type": "stream",
          "text": [
            "2023-05-31 02:47:22 633684638fd9 root[1152] DEBUG Buy at: $1168.08\n"
          ]
        },
        {
          "name": "stdout",
          "output_type": "stream",
          "text": [
            "1/1 [==============================] - 0s 22ms/step\n"
          ]
        },
        {
          "name": "stderr",
          "output_type": "stream",
          "text": [
            "2023-05-31 02:47:22 633684638fd9 root[1152] DEBUG Buy at: $1162.61\n"
          ]
        },
        {
          "name": "stdout",
          "output_type": "stream",
          "text": [
            "1/1 [==============================] - 0s 20ms/step\n"
          ]
        },
        {
          "name": "stderr",
          "output_type": "stream",
          "text": [
            "2023-05-31 02:47:22 633684638fd9 root[1152] DEBUG Buy at: $1185.40\n"
          ]
        },
        {
          "name": "stdout",
          "output_type": "stream",
          "text": [
            "1/1 [==============================] - 0s 20ms/step\n"
          ]
        },
        {
          "name": "stderr",
          "output_type": "stream",
          "text": [
            "2023-05-31 02:47:22 633684638fd9 root[1152] DEBUG Buy at: $1189.39\n"
          ]
        },
        {
          "name": "stdout",
          "output_type": "stream",
          "text": [
            "1/1 [==============================] - 0s 20ms/step\n"
          ]
        },
        {
          "name": "stderr",
          "output_type": "stream",
          "text": [
            "2023-05-31 02:47:22 633684638fd9 root[1152] DEBUG Buy at: $1174.10\n"
          ]
        },
        {
          "name": "stdout",
          "output_type": "stream",
          "text": [
            "1/1 [==============================] - 0s 21ms/step\n"
          ]
        },
        {
          "name": "stderr",
          "output_type": "stream",
          "text": [
            "2023-05-31 02:47:22 633684638fd9 root[1152] DEBUG Buy at: $1166.27\n"
          ]
        },
        {
          "name": "stdout",
          "output_type": "stream",
          "text": [
            "1/1 [==============================] - 0s 19ms/step\n"
          ]
        },
        {
          "name": "stderr",
          "output_type": "stream",
          "text": [
            "2023-05-31 02:47:23 633684638fd9 root[1152] DEBUG Buy at: $1162.38\n"
          ]
        },
        {
          "name": "stdout",
          "output_type": "stream",
          "text": [
            "1/1 [==============================] - 0s 19ms/step\n"
          ]
        },
        {
          "name": "stderr",
          "output_type": "stream",
          "text": [
            "2023-05-31 02:47:23 633684638fd9 root[1152] DEBUG Buy at: $1164.27\n"
          ]
        },
        {
          "name": "stdout",
          "output_type": "stream",
          "text": [
            "1/1 [==============================] - 0s 19ms/step\n"
          ]
        },
        {
          "name": "stderr",
          "output_type": "stream",
          "text": [
            "2023-05-31 02:47:23 633684638fd9 root[1152] DEBUG Buy at: $1132.03\n"
          ]
        },
        {
          "name": "stdout",
          "output_type": "stream",
          "text": [
            "1/1 [==============================] - 0s 20ms/step\n"
          ]
        },
        {
          "name": "stderr",
          "output_type": "stream",
          "text": [
            "2023-05-31 02:47:23 633684638fd9 root[1152] DEBUG Buy at: $1120.44\n"
          ]
        },
        {
          "name": "stdout",
          "output_type": "stream",
          "text": [
            "1/1 [==============================] - 0s 20ms/step\n",
            "1/1 [==============================] - 0s 20ms/step\n"
          ]
        },
        {
          "name": "stderr",
          "output_type": "stream",
          "text": [
            "2023-05-31 02:47:23 633684638fd9 root[1152] DEBUG Buy at: $1178.98\n"
          ]
        },
        {
          "name": "stdout",
          "output_type": "stream",
          "text": [
            "1/1 [==============================] - 0s 21ms/step\n"
          ]
        },
        {
          "name": "stderr",
          "output_type": "stream",
          "text": [
            "2023-05-31 02:47:23 633684638fd9 root[1152] DEBUG Buy at: $1162.30\n"
          ]
        },
        {
          "name": "stdout",
          "output_type": "stream",
          "text": [
            "1/1 [==============================] - 0s 20ms/step\n"
          ]
        },
        {
          "name": "stderr",
          "output_type": "stream",
          "text": [
            "2023-05-31 02:47:23 633684638fd9 root[1152] DEBUG Buy at: $1138.85\n"
          ]
        },
        {
          "name": "stdout",
          "output_type": "stream",
          "text": [
            "1/1 [==============================] - 0s 20ms/step\n"
          ]
        },
        {
          "name": "stderr",
          "output_type": "stream",
          "text": [
            "2023-05-31 02:47:23 633684638fd9 root[1152] DEBUG Buy at: $1149.63\n"
          ]
        },
        {
          "name": "stdout",
          "output_type": "stream",
          "text": [
            "1/1 [==============================] - 0s 20ms/step\n"
          ]
        },
        {
          "name": "stderr",
          "output_type": "stream",
          "text": [
            "2023-05-31 02:47:23 633684638fd9 root[1152] DEBUG Buy at: $1151.42\n"
          ]
        },
        {
          "name": "stdout",
          "output_type": "stream",
          "text": [
            "1/1 [==============================] - 0s 21ms/step\n"
          ]
        },
        {
          "name": "stderr",
          "output_type": "stream",
          "text": [
            "2023-05-31 02:47:23 633684638fd9 root[1152] DEBUG Buy at: $1140.77\n"
          ]
        },
        {
          "name": "stdout",
          "output_type": "stream",
          "text": [
            "1/1 [==============================] - 0s 20ms/step\n"
          ]
        },
        {
          "name": "stderr",
          "output_type": "stream",
          "text": [
            "2023-05-31 02:47:23 633684638fd9 root[1152] DEBUG Buy at: $1133.47\n"
          ]
        },
        {
          "name": "stdout",
          "output_type": "stream",
          "text": [
            "1/1 [==============================] - 0s 19ms/step\n"
          ]
        },
        {
          "name": "stderr",
          "output_type": "stream",
          "text": [
            "2023-05-31 02:47:23 633684638fd9 root[1152] DEBUG Buy at: $1134.15\n"
          ]
        },
        {
          "name": "stdout",
          "output_type": "stream",
          "text": [
            "1/1 [==============================] - 0s 20ms/step\n"
          ]
        },
        {
          "name": "stderr",
          "output_type": "stream",
          "text": [
            "2023-05-31 02:47:23 633684638fd9 root[1152] DEBUG Buy at: $1116.46\n"
          ]
        },
        {
          "name": "stdout",
          "output_type": "stream",
          "text": [
            "1/1 [==============================] - 0s 19ms/step\n"
          ]
        },
        {
          "name": "stderr",
          "output_type": "stream",
          "text": [
            "2023-05-31 02:47:23 633684638fd9 root[1152] DEBUG Buy at: $1117.95\n"
          ]
        },
        {
          "name": "stdout",
          "output_type": "stream",
          "text": [
            "1/1 [==============================] - 0s 20ms/step\n"
          ]
        },
        {
          "name": "stderr",
          "output_type": "stream",
          "text": [
            "2023-05-31 02:47:23 633684638fd9 root[1152] DEBUG Buy at: $1103.63\n"
          ]
        },
        {
          "name": "stdout",
          "output_type": "stream",
          "text": [
            "1/1 [==============================] - 0s 19ms/step\n"
          ]
        },
        {
          "name": "stderr",
          "output_type": "stream",
          "text": [
            "2023-05-31 02:47:23 633684638fd9 root[1152] DEBUG Buy at: $1036.23\n"
          ]
        },
        {
          "name": "stdout",
          "output_type": "stream",
          "text": [
            "1/1 [==============================] - 0s 20ms/step\n"
          ]
        },
        {
          "name": "stderr",
          "output_type": "stream",
          "text": [
            "2023-05-31 02:47:23 633684638fd9 root[1152] DEBUG Sell at: $1053.05 | Position: -$17.66\n"
          ]
        },
        {
          "name": "stdout",
          "output_type": "stream",
          "text": [
            "1/1 [==============================] - 0s 23ms/step\n"
          ]
        },
        {
          "name": "stderr",
          "output_type": "stream",
          "text": [
            "2023-05-31 02:47:24 633684638fd9 root[1152] DEBUG Buy at: $1042.22\n"
          ]
        },
        {
          "name": "stdout",
          "output_type": "stream",
          "text": [
            "1/1 [==============================] - 0s 21ms/step\n"
          ]
        },
        {
          "name": "stderr",
          "output_type": "stream",
          "text": [
            "2023-05-31 02:47:24 633684638fd9 root[1152] DEBUG Buy at: $1044.34\n"
          ]
        },
        {
          "name": "stdout",
          "output_type": "stream",
          "text": [
            "1/1 [==============================] - 0s 21ms/step\n"
          ]
        },
        {
          "name": "stderr",
          "output_type": "stream",
          "text": [
            "2023-05-31 02:47:24 633684638fd9 root[1152] DEBUG Buy at: $1066.04\n"
          ]
        },
        {
          "name": "stdout",
          "output_type": "stream",
          "text": [
            "1/1 [==============================] - 0s 20ms/step\n"
          ]
        },
        {
          "name": "stderr",
          "output_type": "stream",
          "text": [
            "2023-05-31 02:47:24 633684638fd9 root[1152] DEBUG Buy at: $1080.38\n"
          ]
        },
        {
          "name": "stdout",
          "output_type": "stream",
          "text": [
            "1/1 [==============================] - 0s 21ms/step\n"
          ]
        },
        {
          "name": "stderr",
          "output_type": "stream",
          "text": [
            "2023-05-31 02:47:24 633684638fd9 root[1152] DEBUG Buy at: $1078.72\n"
          ]
        },
        {
          "name": "stdout",
          "output_type": "stream",
          "text": [
            "1/1 [==============================] - 0s 20ms/step\n"
          ]
        },
        {
          "name": "stderr",
          "output_type": "stream",
          "text": [
            "2023-05-31 02:47:24 633684638fd9 root[1152] DEBUG Buy at: $1077.03\n"
          ]
        },
        {
          "name": "stdout",
          "output_type": "stream",
          "text": [
            "1/1 [==============================] - 0s 19ms/step\n"
          ]
        },
        {
          "name": "stderr",
          "output_type": "stream",
          "text": [
            "2023-05-31 02:47:24 633684638fd9 root[1152] DEBUG Buy at: $1088.77\n"
          ]
        },
        {
          "name": "stdout",
          "output_type": "stream",
          "text": [
            "1/1 [==============================] - 0s 20ms/step\n"
          ]
        },
        {
          "name": "stderr",
          "output_type": "stream",
          "text": [
            "2023-05-31 02:47:24 633684638fd9 root[1152] DEBUG Buy at: $1085.35\n"
          ]
        },
        {
          "name": "stdout",
          "output_type": "stream",
          "text": [
            "1/1 [==============================] - 0s 20ms/step\n"
          ]
        },
        {
          "name": "stderr",
          "output_type": "stream",
          "text": [
            "2023-05-31 02:47:24 633684638fd9 root[1152] DEBUG Buy at: $1092.50\n"
          ]
        },
        {
          "name": "stdout",
          "output_type": "stream",
          "text": [
            "1/1 [==============================] - 0s 22ms/step\n"
          ]
        },
        {
          "name": "stderr",
          "output_type": "stream",
          "text": [
            "2023-05-31 02:47:24 633684638fd9 root[1152] DEBUG Buy at: $1103.60\n"
          ]
        },
        {
          "name": "stdout",
          "output_type": "stream",
          "text": [
            "1/1 [==============================] - 0s 20ms/step\n"
          ]
        },
        {
          "name": "stderr",
          "output_type": "stream",
          "text": [
            "2023-05-31 02:47:24 633684638fd9 root[1152] DEBUG Buy at: $1102.33\n"
          ]
        },
        {
          "name": "stdout",
          "output_type": "stream",
          "text": [
            "1/1 [==============================] - 0s 19ms/step\n"
          ]
        },
        {
          "name": "stderr",
          "output_type": "stream",
          "text": [
            "2023-05-31 02:47:24 633684638fd9 root[1152] DEBUG Buy at: $1111.42\n"
          ]
        },
        {
          "name": "stdout",
          "output_type": "stream",
          "text": [
            "1/1 [==============================] - 0s 20ms/step\n"
          ]
        },
        {
          "name": "stderr",
          "output_type": "stream",
          "text": [
            "2023-05-31 02:47:24 633684638fd9 root[1152] DEBUG Buy at: $1121.88\n"
          ]
        },
        {
          "name": "stdout",
          "output_type": "stream",
          "text": [
            "1/1 [==============================] - 0s 20ms/step\n"
          ]
        },
        {
          "name": "stderr",
          "output_type": "stream",
          "text": [
            "2023-05-31 02:47:24 633684638fd9 root[1152] DEBUG Buy at: $1115.52\n"
          ]
        },
        {
          "name": "stdout",
          "output_type": "stream",
          "text": [
            "1/1 [==============================] - 0s 20ms/step\n"
          ]
        },
        {
          "name": "stderr",
          "output_type": "stream",
          "text": [
            "2023-05-31 02:47:24 633684638fd9 root[1152] DEBUG Buy at: $1086.35\n"
          ]
        },
        {
          "name": "stdout",
          "output_type": "stream",
          "text": [
            "1/1 [==============================] - 0s 20ms/step\n"
          ]
        },
        {
          "name": "stderr",
          "output_type": "stream",
          "text": [
            "2023-05-31 02:47:24 633684638fd9 root[1152] DEBUG Buy at: $1079.80\n"
          ]
        },
        {
          "name": "stdout",
          "output_type": "stream",
          "text": [
            "1/1 [==============================] - 0s 20ms/step\n"
          ]
        },
        {
          "name": "stderr",
          "output_type": "stream",
          "text": [
            "2023-05-31 02:47:24 633684638fd9 root[1152] DEBUG Buy at: $1076.01\n"
          ]
        },
        {
          "name": "stdout",
          "output_type": "stream",
          "text": [
            "1/1 [==============================] - 0s 20ms/step\n"
          ]
        },
        {
          "name": "stderr",
          "output_type": "stream",
          "text": [
            "2023-05-31 02:47:24 633684638fd9 root[1152] DEBUG Buy at: $1080.91\n"
          ]
        },
        {
          "name": "stdout",
          "output_type": "stream",
          "text": [
            "1/1 [==============================] - 0s 20ms/step\n"
          ]
        },
        {
          "name": "stderr",
          "output_type": "stream",
          "text": [
            "2023-05-31 02:47:25 633684638fd9 root[1152] DEBUG Buy at: $1097.95\n"
          ]
        },
        {
          "name": "stdout",
          "output_type": "stream",
          "text": [
            "1/1 [==============================] - 0s 20ms/step\n"
          ]
        },
        {
          "name": "stderr",
          "output_type": "stream",
          "text": [
            "2023-05-31 02:47:25 633684638fd9 root[1152] DEBUG Buy at: $1111.25\n"
          ]
        },
        {
          "name": "stdout",
          "output_type": "stream",
          "text": [
            "1/1 [==============================] - 0s 20ms/step\n"
          ]
        },
        {
          "name": "stderr",
          "output_type": "stream",
          "text": [
            "2023-05-31 02:47:25 633684638fd9 root[1152] DEBUG Sell at: $1121.58 | Position: +$53.19\n"
          ]
        },
        {
          "name": "stdout",
          "output_type": "stream",
          "text": [
            "1/1 [==============================] - 0s 19ms/step\n"
          ]
        },
        {
          "name": "stderr",
          "output_type": "stream",
          "text": [
            "2023-05-31 02:47:25 633684638fd9 root[1152] DEBUG Buy at: $1131.59\n"
          ]
        },
        {
          "name": "stdout",
          "output_type": "stream",
          "text": [
            "1/1 [==============================] - 0s 21ms/step\n"
          ]
        },
        {
          "name": "stderr",
          "output_type": "stream",
          "text": [
            "2023-05-31 02:47:25 633684638fd9 root[1152] DEBUG Buy at: $1116.35\n"
          ]
        },
        {
          "name": "stdout",
          "output_type": "stream",
          "text": [
            "1/1 [==============================] - 0s 20ms/step\n"
          ]
        },
        {
          "name": "stderr",
          "output_type": "stream",
          "text": [
            "2023-05-31 02:47:25 633684638fd9 root[1152] DEBUG Buy at: $1124.83\n"
          ]
        },
        {
          "name": "stdout",
          "output_type": "stream",
          "text": [
            "1/1 [==============================] - 0s 19ms/step\n"
          ]
        },
        {
          "name": "stderr",
          "output_type": "stream",
          "text": [
            "2023-05-31 02:47:25 633684638fd9 root[1152] DEBUG Buy at: $1140.48\n"
          ]
        },
        {
          "name": "stdout",
          "output_type": "stream",
          "text": [
            "1/1 [==============================] - 0s 19ms/step\n"
          ]
        },
        {
          "name": "stderr",
          "output_type": "stream",
          "text": [
            "2023-05-31 02:47:25 633684638fd9 root[1152] DEBUG Buy at: $1144.21\n"
          ]
        },
        {
          "name": "stdout",
          "output_type": "stream",
          "text": [
            "1/1 [==============================] - 0s 21ms/step\n"
          ]
        },
        {
          "name": "stderr",
          "output_type": "stream",
          "text": [
            "2023-05-31 02:47:25 633684638fd9 root[1152] DEBUG Buy at: $1144.90\n"
          ]
        },
        {
          "name": "stdout",
          "output_type": "stream",
          "text": [
            "1/1 [==============================] - 0s 20ms/step\n"
          ]
        },
        {
          "name": "stderr",
          "output_type": "stream",
          "text": [
            "2023-05-31 02:47:25 633684638fd9 root[1152] DEBUG Buy at: $1150.34\n"
          ]
        },
        {
          "name": "stdout",
          "output_type": "stream",
          "text": [
            "1/1 [==============================] - 0s 20ms/step\n"
          ]
        },
        {
          "name": "stderr",
          "output_type": "stream",
          "text": [
            "2023-05-31 02:47:25 633684638fd9 root[1152] DEBUG Buy at: $1153.58\n"
          ]
        },
        {
          "name": "stdout",
          "output_type": "stream",
          "text": [
            "1/1 [==============================] - 0s 21ms/step\n"
          ]
        },
        {
          "name": "stderr",
          "output_type": "stream",
          "text": [
            "2023-05-31 02:47:25 633684638fd9 root[1152] DEBUG Buy at: $1146.35\n"
          ]
        },
        {
          "name": "stdout",
          "output_type": "stream",
          "text": [
            "1/1 [==============================] - 0s 20ms/step\n"
          ]
        },
        {
          "name": "stderr",
          "output_type": "stream",
          "text": [
            "2023-05-31 02:47:25 633684638fd9 root[1152] DEBUG Buy at: $1146.33\n"
          ]
        },
        {
          "name": "stdout",
          "output_type": "stream",
          "text": [
            "1/1 [==============================] - 0s 22ms/step\n"
          ]
        },
        {
          "name": "stderr",
          "output_type": "stream",
          "text": [
            "2023-05-31 02:47:25 633684638fd9 root[1152] DEBUG Buy at: $1130.10\n"
          ]
        },
        {
          "name": "stdout",
          "output_type": "stream",
          "text": [
            "1/1 [==============================] - 0s 21ms/step\n"
          ]
        },
        {
          "name": "stderr",
          "output_type": "stream",
          "text": [
            "2023-05-31 02:47:25 633684638fd9 root[1152] DEBUG Buy at: $1138.07\n"
          ]
        },
        {
          "name": "stdout",
          "output_type": "stream",
          "text": [
            "1/1 [==============================] - 0s 20ms/step\n"
          ]
        },
        {
          "name": "stderr",
          "output_type": "stream",
          "text": [
            "2023-05-31 02:47:25 633684638fd9 root[1152] DEBUG Buy at: $1146.21\n"
          ]
        },
        {
          "name": "stdout",
          "output_type": "stream",
          "text": [
            "1/1 [==============================] - 0s 20ms/step\n"
          ]
        },
        {
          "name": "stderr",
          "output_type": "stream",
          "text": [
            "2023-05-31 02:47:25 633684638fd9 root[1152] DEBUG Buy at: $1137.81\n"
          ]
        },
        {
          "name": "stdout",
          "output_type": "stream",
          "text": [
            "1/1 [==============================] - 0s 20ms/step\n"
          ]
        },
        {
          "name": "stderr",
          "output_type": "stream",
          "text": [
            "2023-05-31 02:47:25 633684638fd9 root[1152] DEBUG Buy at: $1132.12\n"
          ]
        },
        {
          "name": "stdout",
          "output_type": "stream",
          "text": [
            "1/1 [==============================] - 0s 20ms/step\n"
          ]
        },
        {
          "name": "stderr",
          "output_type": "stream",
          "text": [
            "2023-05-31 02:47:26 633684638fd9 root[1152] DEBUG Sell at: $1250.41 | Position: +$174.13\n"
          ]
        },
        {
          "name": "stdout",
          "output_type": "stream",
          "text": [
            "1/1 [==============================] - 0s 20ms/step\n"
          ]
        },
        {
          "name": "stderr",
          "output_type": "stream",
          "text": [
            "2023-05-31 02:47:26 633684638fd9 root[1152] DEBUG Buy at: $1239.41\n"
          ]
        },
        {
          "name": "stdout",
          "output_type": "stream",
          "text": [
            "1/1 [==============================] - 0s 20ms/step\n"
          ]
        },
        {
          "name": "stderr",
          "output_type": "stream",
          "text": [
            "2023-05-31 02:47:26 633684638fd9 root[1152] DEBUG Buy at: $1225.14\n"
          ]
        },
        {
          "name": "stdout",
          "output_type": "stream",
          "text": [
            "1/1 [==============================] - 0s 19ms/step\n"
          ]
        },
        {
          "name": "stderr",
          "output_type": "stream",
          "text": [
            "2023-05-31 02:47:26 633684638fd9 root[1152] DEBUG Buy at: $1216.68\n"
          ]
        },
        {
          "name": "stdout",
          "output_type": "stream",
          "text": [
            "1/1 [==============================] - 0s 22ms/step\n"
          ]
        },
        {
          "name": "stderr",
          "output_type": "stream",
          "text": [
            "2023-05-31 02:47:26 633684638fd9 root[1152] DEBUG Buy at: $1209.01\n"
          ]
        },
        {
          "name": "stdout",
          "output_type": "stream",
          "text": [
            "1/1 [==============================] - 0s 20ms/step\n"
          ]
        },
        {
          "name": "stderr",
          "output_type": "stream",
          "text": [
            "2023-05-31 02:47:26 633684638fd9 root[1152] DEBUG Buy at: $1193.99\n"
          ]
        },
        {
          "name": "stdout",
          "output_type": "stream",
          "text": [
            "1/1 [==============================] - 0s 20ms/step\n"
          ]
        },
        {
          "name": "stderr",
          "output_type": "stream",
          "text": [
            "2023-05-31 02:47:26 633684638fd9 root[1152] DEBUG Buy at: $1152.32\n"
          ]
        },
        {
          "name": "stdout",
          "output_type": "stream",
          "text": [
            "1/1 [==============================] - 0s 19ms/step\n"
          ]
        },
        {
          "name": "stderr",
          "output_type": "stream",
          "text": [
            "2023-05-31 02:47:26 633684638fd9 root[1152] DEBUG Buy at: $1169.95\n"
          ]
        },
        {
          "name": "stdout",
          "output_type": "stream",
          "text": [
            "1/1 [==============================] - 0s 19ms/step\n"
          ]
        },
        {
          "name": "stderr",
          "output_type": "stream",
          "text": [
            "2023-05-31 02:47:26 633684638fd9 root[1152] DEBUG Sell at: $1173.99 | Position: +$99.33\n"
          ]
        },
        {
          "name": "stdout",
          "output_type": "stream",
          "text": [
            "1/1 [==============================] - 0s 20ms/step\n"
          ]
        },
        {
          "name": "stderr",
          "output_type": "stream",
          "text": [
            "2023-05-31 02:47:26 633684638fd9 root[1152] DEBUG Buy at: $1204.80\n"
          ]
        },
        {
          "name": "stdout",
          "output_type": "stream",
          "text": [
            "1/1 [==============================] - 0s 19ms/step\n"
          ]
        },
        {
          "name": "stderr",
          "output_type": "stream",
          "text": [
            "2023-05-31 02:47:26 633684638fd9 root[1152] DEBUG Buy at: $1188.01\n"
          ]
        },
        {
          "name": "stdout",
          "output_type": "stream",
          "text": [
            "1/1 [==============================] - 0s 19ms/step\n"
          ]
        },
        {
          "name": "stderr",
          "output_type": "stream",
          "text": [
            "2023-05-31 02:47:26 633684638fd9 root[1152] DEBUG Buy at: $1174.71\n"
          ]
        },
        {
          "name": "stdout",
          "output_type": "stream",
          "text": [
            "1/1 [==============================] - 0s 21ms/step\n"
          ]
        },
        {
          "name": "stderr",
          "output_type": "stream",
          "text": [
            "2023-05-31 02:47:26 633684638fd9 root[1152] DEBUG Buy at: $1197.27\n"
          ]
        },
        {
          "name": "stdout",
          "output_type": "stream",
          "text": [
            "1/1 [==============================] - 0s 21ms/step\n",
            "1/1 [==============================] - 0s 20ms/step\n"
          ]
        },
        {
          "name": "stderr",
          "output_type": "stream",
          "text": [
            "2023-05-31 02:47:26 633684638fd9 root[1152] DEBUG Buy at: $1167.26\n"
          ]
        },
        {
          "name": "stdout",
          "output_type": "stream",
          "text": [
            "1/1 [==============================] - 0s 20ms/step\n"
          ]
        },
        {
          "name": "stderr",
          "output_type": "stream",
          "text": [
            "2023-05-31 02:47:26 633684638fd9 root[1152] DEBUG Buy at: $1177.60\n"
          ]
        },
        {
          "name": "stdout",
          "output_type": "stream",
          "text": [
            "1/1 [==============================] - 0s 20ms/step\n"
          ]
        },
        {
          "name": "stderr",
          "output_type": "stream",
          "text": [
            "2023-05-31 02:47:26 633684638fd9 root[1152] DEBUG Buy at: $1198.45\n"
          ]
        },
        {
          "name": "stdout",
          "output_type": "stream",
          "text": [
            "1/1 [==============================] - 0s 26ms/step\n"
          ]
        },
        {
          "name": "stderr",
          "output_type": "stream",
          "text": [
            "2023-05-31 02:47:26 633684638fd9 root[1152] DEBUG Buy at: $1182.69\n"
          ]
        },
        {
          "name": "stdout",
          "output_type": "stream",
          "text": [
            "1/1 [==============================] - 0s 21ms/step\n"
          ]
        },
        {
          "name": "stderr",
          "output_type": "stream",
          "text": [
            "2023-05-31 02:47:27 633684638fd9 root[1152] DEBUG Buy at: $1191.25\n"
          ]
        },
        {
          "name": "stdout",
          "output_type": "stream",
          "text": [
            "1/1 [==============================] - 0s 20ms/step\n"
          ]
        },
        {
          "name": "stderr",
          "output_type": "stream",
          "text": [
            "2023-05-31 02:47:27 633684638fd9 root[1152] DEBUG Buy at: $1189.53\n"
          ]
        },
        {
          "name": "stdout",
          "output_type": "stream",
          "text": [
            "1/1 [==============================] - 0s 20ms/step\n"
          ]
        },
        {
          "name": "stderr",
          "output_type": "stream",
          "text": [
            "2023-05-31 02:47:27 633684638fd9 root[1152] DEBUG Buy at: $1151.29\n"
          ]
        },
        {
          "name": "stdout",
          "output_type": "stream",
          "text": [
            "1/1 [==============================] - 0s 20ms/step\n"
          ]
        },
        {
          "name": "stderr",
          "output_type": "stream",
          "text": [
            "2023-05-31 02:47:27 633684638fd9 root[1152] DEBUG Buy at: $1168.89\n"
          ]
        },
        {
          "name": "stdout",
          "output_type": "stream",
          "text": [
            "1/1 [==============================] - 0s 22ms/step\n"
          ]
        },
        {
          "name": "stderr",
          "output_type": "stream",
          "text": [
            "2023-05-31 02:47:27 633684638fd9 root[1152] DEBUG Buy at: $1167.84\n"
          ]
        },
        {
          "name": "stdout",
          "output_type": "stream",
          "text": [
            "1/1 [==============================] - 0s 21ms/step\n"
          ]
        },
        {
          "name": "stderr",
          "output_type": "stream",
          "text": [
            "2023-05-31 02:47:27 633684638fd9 root[1152] DEBUG Buy at: $1171.02\n"
          ]
        },
        {
          "name": "stdout",
          "output_type": "stream",
          "text": [
            "1/1 [==============================] - 0s 21ms/step\n"
          ]
        },
        {
          "name": "stderr",
          "output_type": "stream",
          "text": [
            "2023-05-31 02:47:27 633684638fd9 root[1152] DEBUG Buy at: $1192.85\n"
          ]
        },
        {
          "name": "stdout",
          "output_type": "stream",
          "text": [
            "1/1 [==============================] - 0s 20ms/step\n"
          ]
        },
        {
          "name": "stderr",
          "output_type": "stream",
          "text": [
            "2023-05-31 02:47:27 633684638fd9 root[1152] DEBUG Buy at: $1188.10\n"
          ]
        },
        {
          "name": "stdout",
          "output_type": "stream",
          "text": [
            "1/1 [==============================] - 0s 20ms/step\n"
          ]
        },
        {
          "name": "stderr",
          "output_type": "stream",
          "text": [
            "2023-05-31 02:47:27 633684638fd9 root[1152] DEBUG Buy at: $1168.39\n"
          ]
        },
        {
          "name": "stdout",
          "output_type": "stream",
          "text": [
            "1/1 [==============================] - 0s 20ms/step\n"
          ]
        },
        {
          "name": "stderr",
          "output_type": "stream",
          "text": [
            "2023-05-31 02:47:27 633684638fd9 root[1152] DEBUG Buy at: $1181.41\n"
          ]
        },
        {
          "name": "stdout",
          "output_type": "stream",
          "text": [
            "1/1 [==============================] - 0s 20ms/step\n"
          ]
        },
        {
          "name": "stderr",
          "output_type": "stream",
          "text": [
            "2023-05-31 02:47:27 633684638fd9 root[1152] DEBUG Buy at: $1211.38\n"
          ]
        },
        {
          "name": "stdout",
          "output_type": "stream",
          "text": [
            "1/1 [==============================] - 0s 20ms/step\n"
          ]
        },
        {
          "name": "stderr",
          "output_type": "stream",
          "text": [
            "2023-05-31 02:47:27 633684638fd9 root[1152] DEBUG Buy at: $1204.93\n"
          ]
        },
        {
          "name": "stdout",
          "output_type": "stream",
          "text": [
            "1/1 [==============================] - 0s 21ms/step\n"
          ]
        },
        {
          "name": "stderr",
          "output_type": "stream",
          "text": [
            "2023-05-31 02:47:27 633684638fd9 root[1152] DEBUG Buy at: $1204.41\n"
          ]
        },
        {
          "name": "stdout",
          "output_type": "stream",
          "text": [
            "1/1 [==============================] - 0s 20ms/step\n"
          ]
        },
        {
          "name": "stderr",
          "output_type": "stream",
          "text": [
            "2023-05-31 02:47:27 633684638fd9 root[1152] DEBUG Buy at: $1206.00\n"
          ]
        },
        {
          "name": "stdout",
          "output_type": "stream",
          "text": [
            "1/1 [==============================] - 0s 20ms/step\n"
          ]
        },
        {
          "name": "stderr",
          "output_type": "stream",
          "text": [
            "2023-05-31 02:47:27 633684638fd9 root[1152] DEBUG Buy at: $1220.17\n"
          ]
        },
        {
          "name": "stdout",
          "output_type": "stream",
          "text": [
            "1/1 [==============================] - 0s 19ms/step\n"
          ]
        },
        {
          "name": "stderr",
          "output_type": "stream",
          "text": [
            "2023-05-31 02:47:27 633684638fd9 root[1152] DEBUG Buy at: $1234.25\n"
          ]
        },
        {
          "name": "stdout",
          "output_type": "stream",
          "text": [
            "1/1 [==============================] - 0s 21ms/step\n"
          ]
        },
        {
          "name": "stderr",
          "output_type": "stream",
          "text": [
            "2023-05-31 02:47:27 633684638fd9 root[1152] DEBUG Buy at: $1239.56\n"
          ]
        },
        {
          "name": "stdout",
          "output_type": "stream",
          "text": [
            "1/1 [==============================] - 0s 21ms/step\n"
          ]
        },
        {
          "name": "stderr",
          "output_type": "stream",
          "text": [
            "2023-05-31 02:47:27 633684638fd9 root[1152] DEBUG Buy at: $1231.30\n"
          ]
        },
        {
          "name": "stdout",
          "output_type": "stream",
          "text": [
            "1/1 [==============================] - 0s 21ms/step\n"
          ]
        },
        {
          "name": "stderr",
          "output_type": "stream",
          "text": [
            "2023-05-31 02:47:28 633684638fd9 root[1152] DEBUG Buy at: $1229.15\n"
          ]
        },
        {
          "name": "stdout",
          "output_type": "stream",
          "text": [
            "1/1 [==============================] - 0s 20ms/step\n"
          ]
        },
        {
          "name": "stderr",
          "output_type": "stream",
          "text": [
            "2023-05-31 02:47:28 633684638fd9 root[1152] DEBUG Buy at: $1232.41\n"
          ]
        },
        {
          "name": "stdout",
          "output_type": "stream",
          "text": [
            "1/1 [==============================] - 0s 20ms/step\n"
          ]
        },
        {
          "name": "stderr",
          "output_type": "stream",
          "text": [
            "2023-05-31 02:47:28 633684638fd9 root[1152] DEBUG Buy at: $1238.71\n"
          ]
        },
        {
          "name": "stdout",
          "output_type": "stream",
          "text": [
            "1/1 [==============================] - 0s 21ms/step\n"
          ]
        },
        {
          "name": "stderr",
          "output_type": "stream",
          "text": [
            "2023-05-31 02:47:28 633684638fd9 root[1152] DEBUG Buy at: $1229.93\n"
          ]
        },
        {
          "name": "stdout",
          "output_type": "stream",
          "text": [
            "1/1 [==============================] - 0s 21ms/step\n"
          ]
        },
        {
          "name": "stderr",
          "output_type": "stream",
          "text": [
            "2023-05-31 02:47:28 633684638fd9 root[1152] DEBUG Buy at: $1234.03\n"
          ]
        },
        {
          "name": "stdout",
          "output_type": "stream",
          "text": [
            "1/1 [==============================] - 0s 20ms/step\n"
          ]
        },
        {
          "name": "stderr",
          "output_type": "stream",
          "text": [
            "2023-05-31 02:47:28 633684638fd9 root[1152] DEBUG Buy at: $1218.76\n"
          ]
        },
        {
          "name": "stdout",
          "output_type": "stream",
          "text": [
            "1/1 [==============================] - 0s 21ms/step\n"
          ]
        },
        {
          "name": "stderr",
          "output_type": "stream",
          "text": [
            "2023-05-31 02:47:28 633684638fd9 root[1152] DEBUG Buy at: $1246.52\n"
          ]
        },
        {
          "name": "stdout",
          "output_type": "stream",
          "text": [
            "1/1 [==============================] - 0s 21ms/step\n"
          ]
        },
        {
          "name": "stderr",
          "output_type": "stream",
          "text": [
            "2023-05-31 02:47:28 633684638fd9 root[1152] DEBUG Buy at: $1241.39\n"
          ]
        },
        {
          "name": "stdout",
          "output_type": "stream",
          "text": [
            "1/1 [==============================] - 0s 20ms/step\n"
          ]
        },
        {
          "name": "stderr",
          "output_type": "stream",
          "text": [
            "2023-05-31 02:47:28 633684638fd9 root[1152] DEBUG Buy at: $1225.09\n"
          ]
        },
        {
          "name": "stdout",
          "output_type": "stream",
          "text": [
            "1/1 [==============================] - 0s 20ms/step\n"
          ]
        },
        {
          "name": "stderr",
          "output_type": "stream",
          "text": [
            "2023-05-31 02:47:28 633684638fd9 root[1152] DEBUG Sell at: $1219.00 | Position: +$148.67\n"
          ]
        },
        {
          "name": "stdout",
          "output_type": "stream",
          "text": [
            "1/1 [==============================] - 0s 27ms/step\n"
          ]
        },
        {
          "name": "stderr",
          "output_type": "stream",
          "text": [
            "2023-05-31 02:47:28 633684638fd9 root[1152] DEBUG Buy at: $1205.10\n"
          ]
        },
        {
          "name": "stdout",
          "output_type": "stream",
          "text": [
            "1/1 [==============================] - 0s 20ms/step\n"
          ]
        },
        {
          "name": "stderr",
          "output_type": "stream",
          "text": [
            "2023-05-31 02:47:28 633684638fd9 root[1152] DEBUG Buy at: $1176.63\n"
          ]
        },
        {
          "name": "stdout",
          "output_type": "stream",
          "text": [
            "1/1 [==============================] - 0s 20ms/step\n"
          ]
        },
        {
          "name": "stderr",
          "output_type": "stream",
          "text": [
            "2023-05-31 02:47:28 633684638fd9 root[1152] DEBUG Buy at: $1187.83\n"
          ]
        },
        {
          "name": "stdout",
          "output_type": "stream",
          "text": [
            "1/1 [==============================] - 0s 20ms/step\n"
          ]
        },
        {
          "name": "stderr",
          "output_type": "stream",
          "text": [
            "2023-05-31 02:47:28 633684638fd9 root[1152] DEBUG Sell at: $1209.00 | Position: +$151.81\n"
          ]
        },
        {
          "name": "stdout",
          "output_type": "stream",
          "text": [
            "1/1 [==============================] - 0s 19ms/step\n"
          ]
        },
        {
          "name": "stderr",
          "output_type": "stream",
          "text": [
            "2023-05-31 02:47:28 633684638fd9 root[1152] DEBUG Buy at: $1207.68\n"
          ]
        },
        {
          "name": "stdout",
          "output_type": "stream",
          "text": [
            "1/1 [==============================] - 0s 20ms/step\n"
          ]
        },
        {
          "name": "stderr",
          "output_type": "stream",
          "text": [
            "2023-05-31 02:47:28 633684638fd9 root[1152] DEBUG Buy at: $1189.13\n"
          ]
        },
        {
          "name": "stdout",
          "output_type": "stream",
          "text": [
            "1/1 [==============================] - 0s 20ms/step\n"
          ]
        },
        {
          "name": "stderr",
          "output_type": "stream",
          "text": [
            "2023-05-31 02:47:28 633684638fd9 root[1152] DEBUG Buy at: $1202.31\n"
          ]
        },
        {
          "name": "stdout",
          "output_type": "stream",
          "text": [
            "1/1 [==============================] - 0s 20ms/step\n"
          ]
        },
        {
          "name": "stderr",
          "output_type": "stream",
          "text": [
            "2023-05-31 02:47:28 633684638fd9 root[1152] DEBUG Buy at: $1208.67\n"
          ]
        },
        {
          "name": "stdout",
          "output_type": "stream",
          "text": [
            "1/1 [==============================] - 0s 21ms/step\n"
          ]
        },
        {
          "name": "stderr",
          "output_type": "stream",
          "text": [
            "2023-05-31 02:47:29 633684638fd9 root[1152] DEBUG Buy at: $1215.45\n"
          ]
        },
        {
          "name": "stdout",
          "output_type": "stream",
          "text": [
            "1/1 [==============================] - 0s 20ms/step\n"
          ]
        },
        {
          "name": "stderr",
          "output_type": "stream",
          "text": [
            "2023-05-31 02:47:29 633684638fd9 root[1152] DEBUG Buy at: $1217.14\n"
          ]
        },
        {
          "name": "stdout",
          "output_type": "stream",
          "text": [
            "1/1 [==============================] - 0s 20ms/step\n"
          ]
        },
        {
          "name": "stderr",
          "output_type": "stream",
          "text": [
            "2023-05-31 02:47:29 633684638fd9 root[1152] DEBUG Buy at: $1243.01\n"
          ]
        },
        {
          "name": "stdout",
          "output_type": "stream",
          "text": [
            "1/1 [==============================] - 0s 22ms/step\n"
          ]
        },
        {
          "name": "stderr",
          "output_type": "stream",
          "text": [
            "2023-05-31 02:47:29 633684638fd9 root[1152] DEBUG Buy at: $1243.64\n"
          ]
        },
        {
          "name": "stdout",
          "output_type": "stream",
          "text": [
            "1/1 [==============================] - 0s 21ms/step\n"
          ]
        },
        {
          "name": "stderr",
          "output_type": "stream",
          "text": [
            "2023-05-31 02:47:29 633684638fd9 root[1152] DEBUG Buy at: $1253.07\n"
          ]
        },
        {
          "name": "stdout",
          "output_type": "stream",
          "text": [
            "1/1 [==============================] - 0s 20ms/step\n"
          ]
        },
        {
          "name": "stderr",
          "output_type": "stream",
          "text": [
            "2023-05-31 02:47:29 633684638fd9 root[1152] DEBUG Buy at: $1245.49\n"
          ]
        },
        {
          "name": "stdout",
          "output_type": "stream",
          "text": [
            "1/1 [==============================] - 0s 20ms/step\n"
          ]
        },
        {
          "name": "stderr",
          "output_type": "stream",
          "text": [
            "2023-05-31 02:47:29 633684638fd9 root[1152] DEBUG Buy at: $1246.15\n"
          ]
        },
        {
          "name": "stdout",
          "output_type": "stream",
          "text": [
            "1/1 [==============================] - 0s 20ms/step\n"
          ]
        },
        {
          "name": "stderr",
          "output_type": "stream",
          "text": [
            "2023-05-31 02:47:29 633684638fd9 root[1152] DEBUG Buy at: $1242.80\n"
          ]
        },
        {
          "name": "stdout",
          "output_type": "stream",
          "text": [
            "1/1 [==============================] - 0s 19ms/step\n"
          ]
        },
        {
          "name": "stderr",
          "output_type": "stream",
          "text": [
            "2023-05-31 02:47:29 633684638fd9 root[1152] DEBUG Buy at: $1259.13\n"
          ]
        },
        {
          "name": "stdout",
          "output_type": "stream",
          "text": [
            "1/1 [==============================] - 0s 20ms/step\n"
          ]
        },
        {
          "name": "stderr",
          "output_type": "stream",
          "text": [
            "2023-05-31 02:47:29 633684638fd9 root[1152] DEBUG Buy at: $1260.99\n"
          ]
        },
        {
          "name": "stdout",
          "output_type": "stream",
          "text": [
            "1/1 [==============================] - 0s 21ms/step\n"
          ]
        },
        {
          "name": "stderr",
          "output_type": "stream",
          "text": [
            "2023-05-31 02:47:29 633684638fd9 root[1152] DEBUG Buy at: $1265.13\n"
          ]
        },
        {
          "name": "stdout",
          "output_type": "stream",
          "text": [
            "1/1 [==============================] - 0s 19ms/step\n"
          ]
        },
        {
          "name": "stderr",
          "output_type": "stream",
          "text": [
            "2023-05-31 02:47:29 633684638fd9 root[1152] DEBUG Buy at: $1290.00\n"
          ]
        },
        {
          "name": "stdout",
          "output_type": "stream",
          "text": [
            "1/1 [==============================] - 0s 21ms/step\n"
          ]
        },
        {
          "name": "stderr",
          "output_type": "stream",
          "text": [
            "2023-05-31 02:47:29 633684638fd9 root[1152] DEBUG Buy at: $1262.62\n"
          ]
        },
        {
          "name": "stdout",
          "output_type": "stream",
          "text": [
            "1/1 [==============================] - 0s 20ms/step\n"
          ]
        },
        {
          "name": "stderr",
          "output_type": "stream",
          "text": [
            "2023-05-31 02:47:29 633684638fd9 root[1152] DEBUG Buy at: $1261.29\n"
          ]
        },
        {
          "name": "stdout",
          "output_type": "stream",
          "text": [
            "1/1 [==============================] - 0s 20ms/step\n"
          ]
        },
        {
          "name": "stderr",
          "output_type": "stream",
          "text": [
            "2023-05-31 02:47:29 633684638fd9 root[1152] DEBUG Buy at: $1260.11\n"
          ]
        },
        {
          "name": "stdout",
          "output_type": "stream",
          "text": [
            "1/1 [==============================] - 0s 20ms/step\n"
          ]
        },
        {
          "name": "stderr",
          "output_type": "stream",
          "text": [
            "2023-05-31 02:47:29 633684638fd9 root[1152] DEBUG Buy at: $1273.74\n"
          ]
        },
        {
          "name": "stdout",
          "output_type": "stream",
          "text": [
            "1/1 [==============================] - 0s 21ms/step\n"
          ]
        },
        {
          "name": "stderr",
          "output_type": "stream",
          "text": [
            "2023-05-31 02:47:29 633684638fd9 root[1152] DEBUG Buy at: $1291.37\n"
          ]
        },
        {
          "name": "stdout",
          "output_type": "stream",
          "text": [
            "1/1 [==============================] - 0s 19ms/step\n"
          ]
        },
        {
          "name": "stderr",
          "output_type": "stream",
          "text": [
            "2023-05-31 02:47:29 633684638fd9 root[1152] DEBUG Buy at: $1292.03\n"
          ]
        },
        {
          "name": "stdout",
          "output_type": "stream",
          "text": [
            "1/1 [==============================] - 0s 19ms/step\n"
          ]
        },
        {
          "name": "stderr",
          "output_type": "stream",
          "text": [
            "2023-05-31 02:47:30 633684638fd9 root[1152] DEBUG Buy at: $1291.80\n"
          ]
        },
        {
          "name": "stdout",
          "output_type": "stream",
          "text": [
            "1/1 [==============================] - 0s 19ms/step\n"
          ]
        },
        {
          "name": "stderr",
          "output_type": "stream",
          "text": [
            "2023-05-31 02:47:30 633684638fd9 root[1152] DEBUG Buy at: $1308.86\n"
          ]
        },
        {
          "name": "stdout",
          "output_type": "stream",
          "text": [
            "1/1 [==============================] - 0s 19ms/step\n"
          ]
        },
        {
          "name": "stderr",
          "output_type": "stream",
          "text": [
            "2023-05-31 02:47:30 633684638fd9 root[1152] DEBUG Buy at: $1311.37\n"
          ]
        },
        {
          "name": "stdout",
          "output_type": "stream",
          "text": [
            "1/1 [==============================] - 0s 21ms/step\n"
          ]
        },
        {
          "name": "stderr",
          "output_type": "stream",
          "text": [
            "2023-05-31 02:47:30 633684638fd9 root[1152] DEBUG Buy at: $1299.19\n"
          ]
        },
        {
          "name": "stdout",
          "output_type": "stream",
          "text": [
            "1/1 [==============================] - 0s 21ms/step\n"
          ]
        },
        {
          "name": "stderr",
          "output_type": "stream",
          "text": [
            "2023-05-31 02:47:30 633684638fd9 root[1152] DEBUG Buy at: $1298.80\n"
          ]
        },
        {
          "name": "stdout",
          "output_type": "stream",
          "text": [
            "1/1 [==============================] - 0s 19ms/step\n"
          ]
        },
        {
          "name": "stderr",
          "output_type": "stream",
          "text": [
            "2023-05-31 02:47:30 633684638fd9 root[1152] DEBUG Buy at: $1298.00\n"
          ]
        },
        {
          "name": "stdout",
          "output_type": "stream",
          "text": [
            "1/1 [==============================] - 0s 19ms/step\n"
          ]
        },
        {
          "name": "stderr",
          "output_type": "stream",
          "text": [
            "2023-05-31 02:47:30 633684638fd9 root[1152] DEBUG Buy at: $1311.46\n"
          ]
        },
        {
          "name": "stdout",
          "output_type": "stream",
          "text": [
            "1/1 [==============================] - 0s 20ms/step\n"
          ]
        },
        {
          "name": "stderr",
          "output_type": "stream",
          "text": [
            "2023-05-31 02:47:30 633684638fd9 root[1152] DEBUG Buy at: $1334.87\n"
          ]
        },
        {
          "name": "stdout",
          "output_type": "stream",
          "text": [
            "1/1 [==============================] - 0s 19ms/step\n"
          ]
        },
        {
          "name": "stderr",
          "output_type": "stream",
          "text": [
            "2023-05-31 02:47:30 633684638fd9 root[1152] DEBUG Buy at: $1320.70\n"
          ]
        },
        {
          "name": "stdout",
          "output_type": "stream",
          "text": [
            "1/1 [==============================] - 0s 20ms/step\n"
          ]
        },
        {
          "name": "stderr",
          "output_type": "stream",
          "text": [
            "2023-05-31 02:47:30 633684638fd9 root[1152] DEBUG Buy at: $1315.46\n"
          ]
        },
        {
          "name": "stdout",
          "output_type": "stream",
          "text": [
            "1/1 [==============================] - 0s 20ms/step\n"
          ]
        },
        {
          "name": "stderr",
          "output_type": "stream",
          "text": [
            "2023-05-31 02:47:30 633684638fd9 root[1152] DEBUG Buy at: $1303.05\n"
          ]
        },
        {
          "name": "stdout",
          "output_type": "stream",
          "text": [
            "1/1 [==============================] - 0s 21ms/step\n"
          ]
        },
        {
          "name": "stderr",
          "output_type": "stream",
          "text": [
            "2023-05-31 02:47:30 633684638fd9 root[1152] DEBUG Buy at: $1301.35\n"
          ]
        },
        {
          "name": "stdout",
          "output_type": "stream",
          "text": [
            "1/1 [==============================] - 0s 20ms/step\n"
          ]
        },
        {
          "name": "stderr",
          "output_type": "stream",
          "text": [
            "2023-05-31 02:47:30 633684638fd9 root[1152] DEBUG Buy at: $1295.34\n"
          ]
        },
        {
          "name": "stdout",
          "output_type": "stream",
          "text": [
            "1/1 [==============================] - 0s 19ms/step\n"
          ]
        },
        {
          "name": "stderr",
          "output_type": "stream",
          "text": [
            "2023-05-31 02:47:30 633684638fd9 root[1152] DEBUG Buy at: $1306.69\n"
          ]
        },
        {
          "name": "stdout",
          "output_type": "stream",
          "text": [
            "1/1 [==============================] - 0s 19ms/step\n"
          ]
        },
        {
          "name": "stderr",
          "output_type": "stream",
          "text": [
            "2023-05-31 02:47:30 633684638fd9 root[1152] DEBUG Sell at: $1313.55 | Position: +$268.86\n"
          ]
        },
        {
          "name": "stdout",
          "output_type": "stream",
          "text": [
            "1/1 [==============================] - 0s 19ms/step\n"
          ]
        },
        {
          "name": "stderr",
          "output_type": "stream",
          "text": [
            "2023-05-31 02:47:30 633684638fd9 root[1152] DEBUG Sell at: $1312.99 | Position: +$235.84\n"
          ]
        },
        {
          "name": "stdout",
          "output_type": "stream",
          "text": [
            "1/1 [==============================] - 0s 20ms/step\n"
          ]
        },
        {
          "name": "stderr",
          "output_type": "stream",
          "text": [
            "2023-05-31 02:47:30 633684638fd9 root[1152] DEBUG Buy at: $1304.96\n"
          ]
        },
        {
          "name": "stdout",
          "output_type": "stream",
          "text": [
            "1/1 [==============================] - 0s 20ms/step\n"
          ]
        },
        {
          "name": "stderr",
          "output_type": "stream",
          "text": [
            "2023-05-31 02:47:30 633684638fd9 root[1152] DEBUG Buy at: $1289.92\n"
          ]
        },
        {
          "name": "stdout",
          "output_type": "stream",
          "text": [
            "1/1 [==============================] - 0s 20ms/step\n"
          ]
        },
        {
          "name": "stderr",
          "output_type": "stream",
          "text": [
            "2023-05-31 02:47:31 633684638fd9 root[1152] DEBUG Buy at: $1295.28\n"
          ]
        },
        {
          "name": "stdout",
          "output_type": "stream",
          "text": [
            "1/1 [==============================] - 0s 20ms/step\n"
          ]
        },
        {
          "name": "stderr",
          "output_type": "stream",
          "text": [
            "2023-05-31 02:47:31 633684638fd9 root[1152] DEBUG Buy at: $1320.54\n"
          ]
        },
        {
          "name": "stdout",
          "output_type": "stream",
          "text": [
            "1/1 [==============================] - 0s 21ms/step\n"
          ]
        },
        {
          "name": "stderr",
          "output_type": "stream",
          "text": [
            "2023-05-31 02:47:31 633684638fd9 root[1152] DEBUG Buy at: $1328.13\n"
          ]
        },
        {
          "name": "stdout",
          "output_type": "stream",
          "text": [
            "1/1 [==============================] - 0s 21ms/step\n"
          ]
        },
        {
          "name": "stderr",
          "output_type": "stream",
          "text": [
            "2023-05-31 02:47:31 633684638fd9 root[1152] DEBUG Buy at: $1340.62\n"
          ]
        },
        {
          "name": "stdout",
          "output_type": "stream",
          "text": [
            "1/1 [==============================] - 0s 19ms/step\n"
          ]
        },
        {
          "name": "stderr",
          "output_type": "stream",
          "text": [
            "2023-05-31 02:47:31 633684638fd9 root[1152] DEBUG Buy at: $1343.56\n"
          ]
        },
        {
          "name": "stdout",
          "output_type": "stream",
          "text": [
            "1/1 [==============================] - 0s 20ms/step\n"
          ]
        },
        {
          "name": "stderr",
          "output_type": "stream",
          "text": [
            "2023-05-31 02:47:31 633684638fd9 root[1152] DEBUG Buy at: $1344.66\n"
          ]
        },
        {
          "name": "stdout",
          "output_type": "stream",
          "text": [
            "1/1 [==============================] - 0s 20ms/step\n"
          ]
        },
        {
          "name": "stderr",
          "output_type": "stream",
          "text": [
            "2023-05-31 02:47:31 633684638fd9 root[1152] DEBUG Buy at: $1345.02\n"
          ]
        },
        {
          "name": "stdout",
          "output_type": "stream",
          "text": [
            "1/1 [==============================] - 0s 20ms/step\n"
          ]
        },
        {
          "name": "stderr",
          "output_type": "stream",
          "text": [
            "2023-05-31 02:47:31 633684638fd9 root[1152] DEBUG Buy at: $1350.27\n"
          ]
        },
        {
          "name": "stdout",
          "output_type": "stream",
          "text": [
            "1/1 [==============================] - 0s 21ms/step\n"
          ]
        },
        {
          "name": "stderr",
          "output_type": "stream",
          "text": [
            "2023-05-31 02:47:31 633684638fd9 root[1152] DEBUG Buy at: $1347.83\n"
          ]
        },
        {
          "name": "stdout",
          "output_type": "stream",
          "text": [
            "1/1 [==============================] - 0s 19ms/step\n"
          ]
        },
        {
          "name": "stderr",
          "output_type": "stream",
          "text": [
            "2023-05-31 02:47:31 633684638fd9 root[1152] DEBUG Buy at: $1361.17\n"
          ]
        },
        {
          "name": "stdout",
          "output_type": "stream",
          "text": [
            "1/1 [==============================] - 0s 20ms/step\n"
          ]
        },
        {
          "name": "stderr",
          "output_type": "stream",
          "text": [
            "2023-05-31 02:47:31 633684638fd9 root[1152] DEBUG Buy at: $1355.12\n"
          ]
        },
        {
          "name": "stdout",
          "output_type": "stream",
          "text": [
            "1/1 [==============================] - 0s 21ms/step\n"
          ]
        },
        {
          "name": "stderr",
          "output_type": "stream",
          "text": [
            "2023-05-31 02:47:31 633684638fd9 root[1152] DEBUG Buy at: $1352.62\n"
          ]
        },
        {
          "name": "stdout",
          "output_type": "stream",
          "text": [
            "1/1 [==============================] - 0s 20ms/step\n"
          ]
        },
        {
          "name": "stderr",
          "output_type": "stream",
          "text": [
            "2023-05-31 02:47:31 633684638fd9 root[1152] DEBUG Buy at: $1356.04\n"
          ]
        },
        {
          "name": "stdout",
          "output_type": "stream",
          "text": [
            "1/1 [==============================] - 0s 20ms/step\n"
          ]
        },
        {
          "name": "stderr",
          "output_type": "stream",
          "text": [
            "2023-05-31 02:47:31 633684638fd9 root[1152] DEBUG Buy at: $1349.59\n"
          ]
        },
        {
          "name": "stdout",
          "output_type": "stream",
          "text": [
            "1/1 [==============================] - 0s 20ms/step\n"
          ]
        },
        {
          "name": "stderr",
          "output_type": "stream",
          "text": [
            "2023-05-31 02:47:31 633684638fd9 root[1152] DEBUG Buy at: $1348.84\n"
          ]
        },
        {
          "name": "stdout",
          "output_type": "stream",
          "text": [
            "1/1 [==============================] - 0s 19ms/step\n"
          ]
        },
        {
          "name": "stderr",
          "output_type": "stream",
          "text": [
            "2023-05-31 02:47:31 633684638fd9 root[1152] DEBUG Buy at: $1343.56\n"
          ]
        },
        {
          "name": "stdout",
          "output_type": "stream",
          "text": [
            "1/1 [==============================] - 0s 20ms/step\n"
          ]
        },
        {
          "name": "stderr",
          "output_type": "stream",
          "text": [
            "2023-05-31 02:47:31 633684638fd9 root[1152] DEBUG Buy at: $1360.40\n"
          ]
        },
        {
          "name": "stdout",
          "output_type": "stream",
          "text": [
            "1/1 [==============================] - 0s 19ms/step\n"
          ]
        },
        {
          "name": "stderr",
          "output_type": "stream",
          "text": [
            "2023-05-31 02:47:31 633684638fd9 root[1152] DEBUG Buy at: $1351.89\n",
            "2023-05-31 02:47:31 633684638fd9 root[1152] INFO model_GOOG_50: +$1361.74\n",
            "\n"
          ]
        }
      ],
      "source": [
        "import logging\n",
        "import coloredlogs\n",
        "\n",
        "from trading_bot.utils import show_eval_result, switch_k_backend_device, get_stock_data\n",
        "from trading_bot.methods import evaluate_model\n",
        "\n",
        "coloredlogs.install(level='DEBUG')\n",
        "switch_k_backend_device()\n",
        "\n",
        "test_data = get_stock_data(test_stock)\n",
        "initial_offset = test_data[1] - test_data[0]\n",
        "\n",
        "test_result, history = evaluate_model(agent, test_data, window_size, debug)\n",
        "show_eval_result(model_name, test_result, initial_offset)"
      ]
    },
    {
      "cell_type": "markdown",
      "metadata": {
        "id": "oiVgaOUqmToa"
      },
      "source": [
        "## 4. Visualize"
      ]
    },
    {
      "cell_type": "code",
      "execution_count": null,
      "metadata": {
        "id": "f3ikQrwOmVvi"
      },
      "outputs": [],
      "source": [
        "def visualize(df, history, title=\"trading session\"):\n",
        "    # add history to dataframe\n",
        "    position = [history[0][0]] + [x[0] for x in history]\n",
        "    actions = ['HOLD'] + [x[1] for x in history]\n",
        "    df['position'] = position\n",
        "    df['action'] = actions\n",
        "\n",
        "    # specify y-axis scale for stock prices\n",
        "    scale = alt.Scale(domain=(min(min(df['actual']), min(df['position'])) - 50, max(max(df['actual']), max(df['position'])) + 50), clamp=True)\n",
        "\n",
        "    # plot a line chart for stock positions\n",
        "    actual = alt.Chart(df).mark_line(\n",
        "        color='green',\n",
        "        opacity=0.5\n",
        "    ).encode(\n",
        "        x='date:T',\n",
        "        y=alt.Y('position', axis=alt.Axis(format='$.2f', title='Price'), scale=scale)\n",
        "    ).interactive(\n",
        "        bind_y=False\n",
        "    )\n",
        "\n",
        "    # plot the BUY and SELL actions as points\n",
        "    points = alt.Chart(df).transform_filter(\n",
        "        alt.datum.action != 'HOLD'\n",
        "    ).mark_point(\n",
        "        filled=True\n",
        "    ).encode(\n",
        "        x=alt.X('date:T', axis=alt.Axis(title='Date')),\n",
        "        y=alt.Y('position', axis=alt.Axis(format='$.2f', title='Price'), scale=scale),\n",
        "        color='action'\n",
        "    ).interactive(bind_y=False)\n",
        "\n",
        "    # merge the two charts\n",
        "    chart = alt.layer(actual, points, title=title).properties(height=300, width=1000)\n",
        "\n",
        "    return chart"
      ]
    },
    {
      "cell_type": "code",
      "execution_count": null,
      "metadata": {
        "colab": {
          "base_uri": "https://localhost:8080/",
          "height": 385
        },
        "id": "IinnTBWmmXL6",
        "outputId": "8eff5276-3e66-429d-eb5b-2c6e548d82d4"
      },
      "outputs": [
        {
          "data": {
            "text/html": [
              "\n",
              "<div id=\"altair-viz-db2483cbc9834a4c8b1898abde76ed81\"></div>\n",
              "<script type=\"text/javascript\">\n",
              "  var VEGA_DEBUG = (typeof VEGA_DEBUG == \"undefined\") ? {} : VEGA_DEBUG;\n",
              "  (function(spec, embedOpt){\n",
              "    let outputDiv = document.currentScript.previousElementSibling;\n",
              "    if (outputDiv.id !== \"altair-viz-db2483cbc9834a4c8b1898abde76ed81\") {\n",
              "      outputDiv = document.getElementById(\"altair-viz-db2483cbc9834a4c8b1898abde76ed81\");\n",
              "    }\n",
              "    const paths = {\n",
              "      \"vega\": \"https://cdn.jsdelivr.net/npm//vega@5?noext\",\n",
              "      \"vega-lib\": \"https://cdn.jsdelivr.net/npm//vega-lib?noext\",\n",
              "      \"vega-lite\": \"https://cdn.jsdelivr.net/npm//vega-lite@4.17.0?noext\",\n",
              "      \"vega-embed\": \"https://cdn.jsdelivr.net/npm//vega-embed@6?noext\",\n",
              "    };\n",
              "\n",
              "    function maybeLoadScript(lib, version) {\n",
              "      var key = `${lib.replace(\"-\", \"\")}_version`;\n",
              "      return (VEGA_DEBUG[key] == version) ?\n",
              "        Promise.resolve(paths[lib]) :\n",
              "        new Promise(function(resolve, reject) {\n",
              "          var s = document.createElement('script');\n",
              "          document.getElementsByTagName(\"head\")[0].appendChild(s);\n",
              "          s.async = true;\n",
              "          s.onload = () => {\n",
              "            VEGA_DEBUG[key] = version;\n",
              "            return resolve(paths[lib]);\n",
              "          };\n",
              "          s.onerror = () => reject(`Error loading script: ${paths[lib]}`);\n",
              "          s.src = paths[lib];\n",
              "        });\n",
              "    }\n",
              "\n",
              "    function showError(err) {\n",
              "      outputDiv.innerHTML = `<div class=\"error\" style=\"color:red;\">${err}</div>`;\n",
              "      throw err;\n",
              "    }\n",
              "\n",
              "    function displayChart(vegaEmbed) {\n",
              "      vegaEmbed(outputDiv, spec, embedOpt)\n",
              "        .catch(err => showError(`Javascript Error: ${err.message}<br>This usually means there's a typo in your chart specification. See the javascript console for the full traceback.`));\n",
              "    }\n",
              "\n",
              "    if(typeof define === \"function\" && define.amd) {\n",
              "      requirejs.config({paths});\n",
              "      require([\"vega-embed\"], displayChart, err => showError(`Error loading script: ${err.message}`));\n",
              "    } else {\n",
              "      maybeLoadScript(\"vega\", \"5\")\n",
              "        .then(() => maybeLoadScript(\"vega-lite\", \"4.17.0\"))\n",
              "        .then(() => maybeLoadScript(\"vega-embed\", \"6\"))\n",
              "        .catch(showError)\n",
              "        .then(() => displayChart(vegaEmbed));\n",
              "    }\n",
              "  })({\"config\": {\"view\": {\"continuousWidth\": 400, \"continuousHeight\": 300}}, \"layer\": [{\"mark\": {\"type\": \"line\", \"color\": \"green\", \"opacity\": 0.5}, \"encoding\": {\"x\": {\"field\": \"date\", \"type\": \"temporal\"}, \"y\": {\"axis\": {\"format\": \"$.2f\", \"title\": \"Price\"}, \"field\": \"position\", \"scale\": {\"clamp\": true, \"domain\": [966.059998, 1411.170044]}, \"type\": \"quantitative\"}}, \"selection\": {\"selector003\": {\"type\": \"interval\", \"bind\": \"scales\", \"encodings\": [\"x\"]}}}, {\"mark\": {\"type\": \"point\", \"filled\": true}, \"encoding\": {\"color\": {\"field\": \"action\", \"type\": \"nominal\"}, \"x\": {\"axis\": {\"title\": \"Date\"}, \"field\": \"date\", \"type\": \"temporal\"}, \"y\": {\"axis\": {\"format\": \"$.2f\", \"title\": \"Price\"}, \"field\": \"position\", \"scale\": {\"clamp\": true, \"domain\": [966.059998, 1411.170044]}, \"type\": \"quantitative\"}}, \"selection\": {\"selector004\": {\"type\": \"interval\", \"bind\": \"scales\", \"encodings\": [\"x\"]}}, \"transform\": [{\"filter\": \"(datum.action !== 'HOLD')\"}]}], \"data\": {\"name\": \"data-d86984fc063ed119110ca3fd9c76ee71\"}, \"height\": 300, \"title\": \"./dataset/data/GOOG_2019.csv\", \"width\": 1000, \"$schema\": \"https://vega.github.io/schema/vega-lite/v4.17.0.json\", \"datasets\": {\"data-d86984fc063ed119110ca3fd9c76ee71\": [{\"date\": \"2019-01-02T00:00:00\", \"actual\": 1045.849976, \"position\": 1045.849976, \"action\": \"HOLD\"}, {\"date\": \"2019-01-03T00:00:00\", \"actual\": 1016.059998, \"position\": 1045.849976, \"action\": \"BUY\"}, {\"date\": \"2019-01-04T00:00:00\", \"actual\": 1070.709961, \"position\": 1016.059998, \"action\": \"BUY\"}, {\"date\": \"2019-01-07T00:00:00\", \"actual\": 1068.390015, \"position\": 1070.709961, \"action\": \"BUY\"}, {\"date\": \"2019-01-08T00:00:00\", \"actual\": 1076.280029, \"position\": 1068.390015, \"action\": \"BUY\"}, {\"date\": \"2019-01-09T00:00:00\", \"actual\": 1074.660034, \"position\": 1076.280029, \"action\": \"BUY\"}, {\"date\": \"2019-01-10T00:00:00\", \"actual\": 1070.329956, \"position\": 1074.660034, \"action\": \"BUY\"}, {\"date\": \"2019-01-11T00:00:00\", \"actual\": 1057.189941, \"position\": 1070.329956, \"action\": \"BUY\"}, {\"date\": \"2019-01-14T00:00:00\", \"actual\": 1044.689941, \"position\": 1057.189941, \"action\": \"BUY\"}, {\"date\": \"2019-01-15T00:00:00\", \"actual\": 1077.150024, \"position\": 1044.689941, \"action\": \"BUY\"}, {\"date\": \"2019-01-16T00:00:00\", \"actual\": 1080.969971, \"position\": 1077.150024, \"action\": \"BUY\"}, {\"date\": \"2019-01-17T00:00:00\", \"actual\": 1089.900024, \"position\": 1080.969971, \"action\": \"BUY\"}, {\"date\": \"2019-01-18T00:00:00\", \"actual\": 1098.26001, \"position\": 1089.900024, \"action\": \"BUY\"}, {\"date\": \"2019-01-22T00:00:00\", \"actual\": 1070.52002, \"position\": 1098.26001, \"action\": \"BUY\"}, {\"date\": \"2019-01-23T00:00:00\", \"actual\": 1075.569946, \"position\": 1070.52002, \"action\": \"BUY\"}, {\"date\": \"2019-01-24T00:00:00\", \"actual\": 1073.900024, \"position\": 1075.569946, \"action\": \"BUY\"}, {\"date\": \"2019-01-25T00:00:00\", \"actual\": 1090.98999, \"position\": 1073.900024, \"action\": \"BUY\"}, {\"date\": \"2019-01-28T00:00:00\", \"actual\": 1070.079956, \"position\": 1090.98999, \"action\": \"BUY\"}, {\"date\": \"2019-01-29T00:00:00\", \"actual\": 1060.619995, \"position\": 1070.079956, \"action\": \"BUY\"}, {\"date\": \"2019-01-30T00:00:00\", \"actual\": 1089.060059, \"position\": 1060.619995, \"action\": \"BUY\"}, {\"date\": \"2019-01-31T00:00:00\", \"actual\": 1116.369995, \"position\": 1089.060059, \"action\": \"BUY\"}, {\"date\": \"2019-02-01T00:00:00\", \"actual\": 1110.75, \"position\": 1116.369995, \"action\": \"BUY\"}, {\"date\": \"2019-02-04T00:00:00\", \"actual\": 1132.800049, \"position\": 1110.75, \"action\": \"BUY\"}, {\"date\": \"2019-02-05T00:00:00\", \"actual\": 1145.98999, \"position\": 1132.800049, \"action\": \"BUY\"}, {\"date\": \"2019-02-06T00:00:00\", \"actual\": 1115.22998, \"position\": 1145.98999, \"action\": \"BUY\"}, {\"date\": \"2019-02-07T00:00:00\", \"actual\": 1098.709961, \"position\": 1115.22998, \"action\": \"BUY\"}, {\"date\": \"2019-02-08T00:00:00\", \"actual\": 1095.060059, \"position\": 1098.709961, \"action\": \"BUY\"}, {\"date\": \"2019-02-11T00:00:00\", \"actual\": 1095.01001, \"position\": 1095.060059, \"action\": \"BUY\"}, {\"date\": \"2019-02-12T00:00:00\", \"actual\": 1121.369995, \"position\": 1095.01001, \"action\": \"BUY\"}, {\"date\": \"2019-02-13T00:00:00\", \"actual\": 1120.160034, \"position\": 1121.369995, \"action\": \"BUY\"}, {\"date\": \"2019-02-14T00:00:00\", \"actual\": 1121.670044, \"position\": 1120.160034, \"action\": \"BUY\"}, {\"date\": \"2019-02-15T00:00:00\", \"actual\": 1113.650024, \"position\": 1121.670044, \"action\": \"BUY\"}, {\"date\": \"2019-02-19T00:00:00\", \"actual\": 1118.560059, \"position\": 1113.650024, \"action\": \"BUY\"}, {\"date\": \"2019-02-20T00:00:00\", \"actual\": 1113.800049, \"position\": 1118.560059, \"action\": \"BUY\"}, {\"date\": \"2019-02-21T00:00:00\", \"actual\": 1096.969971, \"position\": 1113.800049, \"action\": \"BUY\"}, {\"date\": \"2019-02-22T00:00:00\", \"actual\": 1110.369995, \"position\": 1096.969971, \"action\": \"BUY\"}, {\"date\": \"2019-02-25T00:00:00\", \"actual\": 1109.400024, \"position\": 1110.369995, \"action\": \"BUY\"}, {\"date\": \"2019-02-26T00:00:00\", \"actual\": 1115.130005, \"position\": 1109.400024, \"action\": \"BUY\"}, {\"date\": \"2019-02-27T00:00:00\", \"actual\": 1116.050049, \"position\": 1115.130005, \"action\": \"BUY\"}, {\"date\": \"2019-02-28T00:00:00\", \"actual\": 1119.920044, \"position\": 1116.050049, \"action\": \"BUY\"}, {\"date\": \"2019-03-01T00:00:00\", \"actual\": 1140.98999, \"position\": 1119.920044, \"action\": \"BUY\"}, {\"date\": \"2019-03-04T00:00:00\", \"actual\": 1147.800049, \"position\": 1140.98999, \"action\": \"SELL\"}, {\"date\": \"2019-03-05T00:00:00\", \"actual\": 1162.030029, \"position\": 1147.800049, \"action\": \"BUY\"}, {\"date\": \"2019-03-06T00:00:00\", \"actual\": 1157.859985, \"position\": 1162.030029, \"action\": \"BUY\"}, {\"date\": \"2019-03-07T00:00:00\", \"actual\": 1143.300049, \"position\": 1157.859985, \"action\": \"BUY\"}, {\"date\": \"2019-03-08T00:00:00\", \"actual\": 1142.319946, \"position\": 1143.300049, \"action\": \"BUY\"}, {\"date\": \"2019-03-11T00:00:00\", \"actual\": 1175.76001, \"position\": 1142.319946, \"action\": \"BUY\"}, {\"date\": \"2019-03-12T00:00:00\", \"actual\": 1193.199951, \"position\": 1175.76001, \"action\": \"BUY\"}, {\"date\": \"2019-03-13T00:00:00\", \"actual\": 1193.319946, \"position\": 1193.199951, \"action\": \"BUY\"}, {\"date\": \"2019-03-14T00:00:00\", \"actual\": 1185.550049, \"position\": 1193.319946, \"action\": \"BUY\"}, {\"date\": \"2019-03-15T00:00:00\", \"actual\": 1184.459961, \"position\": 1185.550049, \"action\": \"BUY\"}, {\"date\": \"2019-03-18T00:00:00\", \"actual\": 1184.26001, \"position\": 1184.459961, \"action\": \"BUY\"}, {\"date\": \"2019-03-19T00:00:00\", \"actual\": 1198.849976, \"position\": 1184.26001, \"action\": \"BUY\"}, {\"date\": \"2019-03-20T00:00:00\", \"actual\": 1223.969971, \"position\": 1198.849976, \"action\": \"BUY\"}, {\"date\": \"2019-03-21T00:00:00\", \"actual\": 1231.540039, \"position\": 1223.969971, \"action\": \"BUY\"}, {\"date\": \"2019-03-22T00:00:00\", \"actual\": 1205.5, \"position\": 1231.540039, \"action\": \"BUY\"}, {\"date\": \"2019-03-25T00:00:00\", \"actual\": 1193.0, \"position\": 1205.5, \"action\": \"BUY\"}, {\"date\": \"2019-03-26T00:00:00\", \"actual\": 1184.619995, \"position\": 1193.0, \"action\": \"BUY\"}, {\"date\": \"2019-03-27T00:00:00\", \"actual\": 1173.02002, \"position\": 1184.619995, \"action\": \"BUY\"}, {\"date\": \"2019-03-28T00:00:00\", \"actual\": 1168.48999, \"position\": 1173.02002, \"action\": \"BUY\"}, {\"date\": \"2019-03-29T00:00:00\", \"actual\": 1173.310059, \"position\": 1168.48999, \"action\": \"SELL\"}, {\"date\": \"2019-04-01T00:00:00\", \"actual\": 1194.430054, \"position\": 1173.310059, \"action\": \"BUY\"}, {\"date\": \"2019-04-02T00:00:00\", \"actual\": 1200.48999, \"position\": 1194.430054, \"action\": \"BUY\"}, {\"date\": \"2019-04-03T00:00:00\", \"actual\": 1205.920044, \"position\": 1200.48999, \"action\": \"BUY\"}, {\"date\": \"2019-04-04T00:00:00\", \"actual\": 1215.0, \"position\": 1205.920044, \"action\": \"BUY\"}, {\"date\": \"2019-04-05T00:00:00\", \"actual\": 1207.150024, \"position\": 1215.0, \"action\": \"BUY\"}, {\"date\": \"2019-04-08T00:00:00\", \"actual\": 1203.839966, \"position\": 1207.150024, \"action\": \"BUY\"}, {\"date\": \"2019-04-09T00:00:00\", \"actual\": 1197.25, \"position\": 1203.839966, \"action\": \"BUY\"}, {\"date\": \"2019-04-10T00:00:00\", \"actual\": 1202.160034, \"position\": 1197.25, \"action\": \"BUY\"}, {\"date\": \"2019-04-11T00:00:00\", \"actual\": 1204.619995, \"position\": 1202.160034, \"action\": \"BUY\"}, {\"date\": \"2019-04-12T00:00:00\", \"actual\": 1217.869995, \"position\": 1204.619995, \"action\": \"BUY\"}, {\"date\": \"2019-04-15T00:00:00\", \"actual\": 1221.099976, \"position\": 1217.869995, \"action\": \"BUY\"}, {\"date\": \"2019-04-16T00:00:00\", \"actual\": 1227.130005, \"position\": 1221.099976, \"action\": \"BUY\"}, {\"date\": \"2019-04-17T00:00:00\", \"actual\": 1236.339966, \"position\": 1227.130005, \"action\": \"BUY\"}, {\"date\": \"2019-04-18T00:00:00\", \"actual\": 1236.369995, \"position\": 1236.339966, \"action\": \"BUY\"}, {\"date\": \"2019-04-22T00:00:00\", \"actual\": 1248.839966, \"position\": 1236.369995, \"action\": \"BUY\"}, {\"date\": \"2019-04-23T00:00:00\", \"actual\": 1264.550049, \"position\": 1248.839966, \"action\": \"BUY\"}, {\"date\": \"2019-04-24T00:00:00\", \"actual\": 1256.0, \"position\": 1264.550049, \"action\": \"BUY\"}, {\"date\": \"2019-04-25T00:00:00\", \"actual\": 1263.449951, \"position\": 1256.0, \"action\": \"BUY\"}, {\"date\": \"2019-04-26T00:00:00\", \"actual\": 1272.180054, \"position\": 1263.449951, \"action\": \"BUY\"}, {\"date\": \"2019-04-29T00:00:00\", \"actual\": 1287.579956, \"position\": 1272.180054, \"action\": \"BUY\"}, {\"date\": \"2019-04-30T00:00:00\", \"actual\": 1188.47998, \"position\": 1287.579956, \"action\": \"BUY\"}, {\"date\": \"2019-05-01T00:00:00\", \"actual\": 1168.079956, \"position\": 1188.47998, \"action\": \"BUY\"}, {\"date\": \"2019-05-02T00:00:00\", \"actual\": 1162.609985, \"position\": 1168.079956, \"action\": \"BUY\"}, {\"date\": \"2019-05-03T00:00:00\", \"actual\": 1185.400024, \"position\": 1162.609985, \"action\": \"BUY\"}, {\"date\": \"2019-05-06T00:00:00\", \"actual\": 1189.390015, \"position\": 1185.400024, \"action\": \"BUY\"}, {\"date\": \"2019-05-07T00:00:00\", \"actual\": 1174.099976, \"position\": 1189.390015, \"action\": \"BUY\"}, {\"date\": \"2019-05-08T00:00:00\", \"actual\": 1166.27002, \"position\": 1174.099976, \"action\": \"BUY\"}, {\"date\": \"2019-05-09T00:00:00\", \"actual\": 1162.380005, \"position\": 1166.27002, \"action\": \"BUY\"}, {\"date\": \"2019-05-10T00:00:00\", \"actual\": 1164.27002, \"position\": 1162.380005, \"action\": \"BUY\"}, {\"date\": \"2019-05-13T00:00:00\", \"actual\": 1132.030029, \"position\": 1164.27002, \"action\": \"BUY\"}, {\"date\": \"2019-05-14T00:00:00\", \"actual\": 1120.439941, \"position\": 1132.030029, \"action\": \"BUY\"}, {\"date\": \"2019-05-15T00:00:00\", \"actual\": 1164.209961, \"position\": 1120.439941, \"action\": \"BUY\"}, {\"date\": \"2019-05-16T00:00:00\", \"actual\": 1178.97998, \"position\": 1164.209961, \"action\": \"HOLD\"}, {\"date\": \"2019-05-17T00:00:00\", \"actual\": 1162.300049, \"position\": 1178.97998, \"action\": \"BUY\"}, {\"date\": \"2019-05-20T00:00:00\", \"actual\": 1138.849976, \"position\": 1162.300049, \"action\": \"BUY\"}, {\"date\": \"2019-05-21T00:00:00\", \"actual\": 1149.630005, \"position\": 1138.849976, \"action\": \"BUY\"}, {\"date\": \"2019-05-22T00:00:00\", \"actual\": 1151.420044, \"position\": 1149.630005, \"action\": \"BUY\"}, {\"date\": \"2019-05-23T00:00:00\", \"actual\": 1140.77002, \"position\": 1151.420044, \"action\": \"BUY\"}, {\"date\": \"2019-05-24T00:00:00\", \"actual\": 1133.469971, \"position\": 1140.77002, \"action\": \"BUY\"}, {\"date\": \"2019-05-28T00:00:00\", \"actual\": 1134.150024, \"position\": 1133.469971, \"action\": \"BUY\"}, {\"date\": \"2019-05-29T00:00:00\", \"actual\": 1116.459961, \"position\": 1134.150024, \"action\": \"BUY\"}, {\"date\": \"2019-05-30T00:00:00\", \"actual\": 1117.949951, \"position\": 1116.459961, \"action\": \"BUY\"}, {\"date\": \"2019-05-31T00:00:00\", \"actual\": 1103.630005, \"position\": 1117.949951, \"action\": \"BUY\"}, {\"date\": \"2019-06-03T00:00:00\", \"actual\": 1036.22998, \"position\": 1103.630005, \"action\": \"BUY\"}, {\"date\": \"2019-06-04T00:00:00\", \"actual\": 1053.050049, \"position\": 1036.22998, \"action\": \"BUY\"}, {\"date\": \"2019-06-05T00:00:00\", \"actual\": 1042.219971, \"position\": 1053.050049, \"action\": \"SELL\"}, {\"date\": \"2019-06-06T00:00:00\", \"actual\": 1044.339966, \"position\": 1042.219971, \"action\": \"BUY\"}, {\"date\": \"2019-06-07T00:00:00\", \"actual\": 1066.040039, \"position\": 1044.339966, \"action\": \"BUY\"}, {\"date\": \"2019-06-10T00:00:00\", \"actual\": 1080.380005, \"position\": 1066.040039, \"action\": \"BUY\"}, {\"date\": \"2019-06-11T00:00:00\", \"actual\": 1078.719971, \"position\": 1080.380005, \"action\": \"BUY\"}, {\"date\": \"2019-06-12T00:00:00\", \"actual\": 1077.030029, \"position\": 1078.719971, \"action\": \"BUY\"}, {\"date\": \"2019-06-13T00:00:00\", \"actual\": 1088.77002, \"position\": 1077.030029, \"action\": \"BUY\"}, {\"date\": \"2019-06-14T00:00:00\", \"actual\": 1085.349976, \"position\": 1088.77002, \"action\": \"BUY\"}, {\"date\": \"2019-06-17T00:00:00\", \"actual\": 1092.5, \"position\": 1085.349976, \"action\": \"BUY\"}, {\"date\": \"2019-06-18T00:00:00\", \"actual\": 1103.599976, \"position\": 1092.5, \"action\": \"BUY\"}, {\"date\": \"2019-06-19T00:00:00\", \"actual\": 1102.329956, \"position\": 1103.599976, \"action\": \"BUY\"}, {\"date\": \"2019-06-20T00:00:00\", \"actual\": 1111.420044, \"position\": 1102.329956, \"action\": \"BUY\"}, {\"date\": \"2019-06-21T00:00:00\", \"actual\": 1121.880005, \"position\": 1111.420044, \"action\": \"BUY\"}, {\"date\": \"2019-06-24T00:00:00\", \"actual\": 1115.52002, \"position\": 1121.880005, \"action\": \"BUY\"}, {\"date\": \"2019-06-25T00:00:00\", \"actual\": 1086.349976, \"position\": 1115.52002, \"action\": \"BUY\"}, {\"date\": \"2019-06-26T00:00:00\", \"actual\": 1079.800049, \"position\": 1086.349976, \"action\": \"BUY\"}, {\"date\": \"2019-06-27T00:00:00\", \"actual\": 1076.01001, \"position\": 1079.800049, \"action\": \"BUY\"}, {\"date\": \"2019-06-28T00:00:00\", \"actual\": 1080.910034, \"position\": 1076.01001, \"action\": \"BUY\"}, {\"date\": \"2019-07-01T00:00:00\", \"actual\": 1097.949951, \"position\": 1080.910034, \"action\": \"BUY\"}, {\"date\": \"2019-07-02T00:00:00\", \"actual\": 1111.25, \"position\": 1097.949951, \"action\": \"BUY\"}, {\"date\": \"2019-07-03T00:00:00\", \"actual\": 1121.579956, \"position\": 1111.25, \"action\": \"BUY\"}, {\"date\": \"2019-07-05T00:00:00\", \"actual\": 1131.589966, \"position\": 1121.579956, \"action\": \"SELL\"}, {\"date\": \"2019-07-08T00:00:00\", \"actual\": 1116.349976, \"position\": 1131.589966, \"action\": \"BUY\"}, {\"date\": \"2019-07-09T00:00:00\", \"actual\": 1124.829956, \"position\": 1116.349976, \"action\": \"BUY\"}, {\"date\": \"2019-07-10T00:00:00\", \"actual\": 1140.47998, \"position\": 1124.829956, \"action\": \"BUY\"}, {\"date\": \"2019-07-11T00:00:00\", \"actual\": 1144.209961, \"position\": 1140.47998, \"action\": \"BUY\"}, {\"date\": \"2019-07-12T00:00:00\", \"actual\": 1144.900024, \"position\": 1144.209961, \"action\": \"BUY\"}, {\"date\": \"2019-07-15T00:00:00\", \"actual\": 1150.339966, \"position\": 1144.900024, \"action\": \"BUY\"}, {\"date\": \"2019-07-16T00:00:00\", \"actual\": 1153.579956, \"position\": 1150.339966, \"action\": \"BUY\"}, {\"date\": \"2019-07-17T00:00:00\", \"actual\": 1146.349976, \"position\": 1153.579956, \"action\": \"BUY\"}, {\"date\": \"2019-07-18T00:00:00\", \"actual\": 1146.329956, \"position\": 1146.349976, \"action\": \"BUY\"}, {\"date\": \"2019-07-19T00:00:00\", \"actual\": 1130.099976, \"position\": 1146.329956, \"action\": \"BUY\"}, {\"date\": \"2019-07-22T00:00:00\", \"actual\": 1138.069946, \"position\": 1130.099976, \"action\": \"BUY\"}, {\"date\": \"2019-07-23T00:00:00\", \"actual\": 1146.209961, \"position\": 1138.069946, \"action\": \"BUY\"}, {\"date\": \"2019-07-24T00:00:00\", \"actual\": 1137.810059, \"position\": 1146.209961, \"action\": \"BUY\"}, {\"date\": \"2019-07-25T00:00:00\", \"actual\": 1132.119995, \"position\": 1137.810059, \"action\": \"BUY\"}, {\"date\": \"2019-07-26T00:00:00\", \"actual\": 1250.410034, \"position\": 1132.119995, \"action\": \"BUY\"}, {\"date\": \"2019-07-29T00:00:00\", \"actual\": 1239.410034, \"position\": 1250.410034, \"action\": \"SELL\"}, {\"date\": \"2019-07-30T00:00:00\", \"actual\": 1225.140015, \"position\": 1239.410034, \"action\": \"BUY\"}, {\"date\": \"2019-07-31T00:00:00\", \"actual\": 1216.680054, \"position\": 1225.140015, \"action\": \"BUY\"}, {\"date\": \"2019-08-01T00:00:00\", \"actual\": 1209.01001, \"position\": 1216.680054, \"action\": \"BUY\"}, {\"date\": \"2019-08-02T00:00:00\", \"actual\": 1193.98999, \"position\": 1209.01001, \"action\": \"BUY\"}, {\"date\": \"2019-08-05T00:00:00\", \"actual\": 1152.319946, \"position\": 1193.98999, \"action\": \"BUY\"}, {\"date\": \"2019-08-06T00:00:00\", \"actual\": 1169.949951, \"position\": 1152.319946, \"action\": \"BUY\"}, {\"date\": \"2019-08-07T00:00:00\", \"actual\": 1173.98999, \"position\": 1169.949951, \"action\": \"BUY\"}, {\"date\": \"2019-08-08T00:00:00\", \"actual\": 1204.800049, \"position\": 1173.98999, \"action\": \"SELL\"}, {\"date\": \"2019-08-09T00:00:00\", \"actual\": 1188.01001, \"position\": 1204.800049, \"action\": \"BUY\"}, {\"date\": \"2019-08-12T00:00:00\", \"actual\": 1174.709961, \"position\": 1188.01001, \"action\": \"BUY\"}, {\"date\": \"2019-08-13T00:00:00\", \"actual\": 1197.27002, \"position\": 1174.709961, \"action\": \"BUY\"}, {\"date\": \"2019-08-14T00:00:00\", \"actual\": 1164.290039, \"position\": 1197.27002, \"action\": \"BUY\"}, {\"date\": \"2019-08-15T00:00:00\", \"actual\": 1167.26001, \"position\": 1164.290039, \"action\": \"HOLD\"}, {\"date\": \"2019-08-16T00:00:00\", \"actual\": 1177.599976, \"position\": 1167.26001, \"action\": \"BUY\"}, {\"date\": \"2019-08-19T00:00:00\", \"actual\": 1198.449951, \"position\": 1177.599976, \"action\": \"BUY\"}, {\"date\": \"2019-08-20T00:00:00\", \"actual\": 1182.689941, \"position\": 1198.449951, \"action\": \"BUY\"}, {\"date\": \"2019-08-21T00:00:00\", \"actual\": 1191.25, \"position\": 1182.689941, \"action\": \"BUY\"}, {\"date\": \"2019-08-22T00:00:00\", \"actual\": 1189.530029, \"position\": 1191.25, \"action\": \"BUY\"}, {\"date\": \"2019-08-23T00:00:00\", \"actual\": 1151.290039, \"position\": 1189.530029, \"action\": \"BUY\"}, {\"date\": \"2019-08-26T00:00:00\", \"actual\": 1168.890015, \"position\": 1151.290039, \"action\": \"BUY\"}, {\"date\": \"2019-08-27T00:00:00\", \"actual\": 1167.839966, \"position\": 1168.890015, \"action\": \"BUY\"}, {\"date\": \"2019-08-28T00:00:00\", \"actual\": 1171.02002, \"position\": 1167.839966, \"action\": \"BUY\"}, {\"date\": \"2019-08-29T00:00:00\", \"actual\": 1192.849976, \"position\": 1171.02002, \"action\": \"BUY\"}, {\"date\": \"2019-08-30T00:00:00\", \"actual\": 1188.099976, \"position\": 1192.849976, \"action\": \"BUY\"}, {\"date\": \"2019-09-03T00:00:00\", \"actual\": 1168.390015, \"position\": 1188.099976, \"action\": \"BUY\"}, {\"date\": \"2019-09-04T00:00:00\", \"actual\": 1181.410034, \"position\": 1168.390015, \"action\": \"BUY\"}, {\"date\": \"2019-09-05T00:00:00\", \"actual\": 1211.380005, \"position\": 1181.410034, \"action\": \"BUY\"}, {\"date\": \"2019-09-06T00:00:00\", \"actual\": 1204.930054, \"position\": 1211.380005, \"action\": \"BUY\"}, {\"date\": \"2019-09-09T00:00:00\", \"actual\": 1204.410034, \"position\": 1204.930054, \"action\": \"BUY\"}, {\"date\": \"2019-09-10T00:00:00\", \"actual\": 1206.0, \"position\": 1204.410034, \"action\": \"BUY\"}, {\"date\": \"2019-09-11T00:00:00\", \"actual\": 1220.170044, \"position\": 1206.0, \"action\": \"BUY\"}, {\"date\": \"2019-09-12T00:00:00\", \"actual\": 1234.25, \"position\": 1220.170044, \"action\": \"BUY\"}, {\"date\": \"2019-09-13T00:00:00\", \"actual\": 1239.560059, \"position\": 1234.25, \"action\": \"BUY\"}, {\"date\": \"2019-09-16T00:00:00\", \"actual\": 1231.300049, \"position\": 1239.560059, \"action\": \"BUY\"}, {\"date\": \"2019-09-17T00:00:00\", \"actual\": 1229.150024, \"position\": 1231.300049, \"action\": \"BUY\"}, {\"date\": \"2019-09-18T00:00:00\", \"actual\": 1232.410034, \"position\": 1229.150024, \"action\": \"BUY\"}, {\"date\": \"2019-09-19T00:00:00\", \"actual\": 1238.709961, \"position\": 1232.410034, \"action\": \"BUY\"}, {\"date\": \"2019-09-20T00:00:00\", \"actual\": 1229.930054, \"position\": 1238.709961, \"action\": \"BUY\"}, {\"date\": \"2019-09-23T00:00:00\", \"actual\": 1234.030029, \"position\": 1229.930054, \"action\": \"BUY\"}, {\"date\": \"2019-09-24T00:00:00\", \"actual\": 1218.76001, \"position\": 1234.030029, \"action\": \"BUY\"}, {\"date\": \"2019-09-25T00:00:00\", \"actual\": 1246.52002, \"position\": 1218.76001, \"action\": \"BUY\"}, {\"date\": \"2019-09-26T00:00:00\", \"actual\": 1241.390015, \"position\": 1246.52002, \"action\": \"BUY\"}, {\"date\": \"2019-09-27T00:00:00\", \"actual\": 1225.089966, \"position\": 1241.390015, \"action\": \"BUY\"}, {\"date\": \"2019-09-30T00:00:00\", \"actual\": 1219.0, \"position\": 1225.089966, \"action\": \"BUY\"}, {\"date\": \"2019-10-01T00:00:00\", \"actual\": 1205.099976, \"position\": 1219.0, \"action\": \"SELL\"}, {\"date\": \"2019-10-02T00:00:00\", \"actual\": 1176.630005, \"position\": 1205.099976, \"action\": \"BUY\"}, {\"date\": \"2019-10-03T00:00:00\", \"actual\": 1187.829956, \"position\": 1176.630005, \"action\": \"BUY\"}, {\"date\": \"2019-10-04T00:00:00\", \"actual\": 1209.0, \"position\": 1187.829956, \"action\": \"BUY\"}, {\"date\": \"2019-10-07T00:00:00\", \"actual\": 1207.680054, \"position\": 1209.0, \"action\": \"SELL\"}, {\"date\": \"2019-10-08T00:00:00\", \"actual\": 1189.130005, \"position\": 1207.680054, \"action\": \"BUY\"}, {\"date\": \"2019-10-09T00:00:00\", \"actual\": 1202.310059, \"position\": 1189.130005, \"action\": \"BUY\"}, {\"date\": \"2019-10-10T00:00:00\", \"actual\": 1208.670044, \"position\": 1202.310059, \"action\": \"BUY\"}, {\"date\": \"2019-10-11T00:00:00\", \"actual\": 1215.449951, \"position\": 1208.670044, \"action\": \"BUY\"}, {\"date\": \"2019-10-14T00:00:00\", \"actual\": 1217.140015, \"position\": 1215.449951, \"action\": \"BUY\"}, {\"date\": \"2019-10-15T00:00:00\", \"actual\": 1243.01001, \"position\": 1217.140015, \"action\": \"BUY\"}, {\"date\": \"2019-10-16T00:00:00\", \"actual\": 1243.640015, \"position\": 1243.01001, \"action\": \"BUY\"}, {\"date\": \"2019-10-17T00:00:00\", \"actual\": 1253.069946, \"position\": 1243.640015, \"action\": \"BUY\"}, {\"date\": \"2019-10-18T00:00:00\", \"actual\": 1245.48999, \"position\": 1253.069946, \"action\": \"BUY\"}, {\"date\": \"2019-10-21T00:00:00\", \"actual\": 1246.150024, \"position\": 1245.48999, \"action\": \"BUY\"}, {\"date\": \"2019-10-22T00:00:00\", \"actual\": 1242.800049, \"position\": 1246.150024, \"action\": \"BUY\"}, {\"date\": \"2019-10-23T00:00:00\", \"actual\": 1259.130005, \"position\": 1242.800049, \"action\": \"BUY\"}, {\"date\": \"2019-10-24T00:00:00\", \"actual\": 1260.98999, \"position\": 1259.130005, \"action\": \"BUY\"}, {\"date\": \"2019-10-25T00:00:00\", \"actual\": 1265.130005, \"position\": 1260.98999, \"action\": \"BUY\"}, {\"date\": \"2019-10-28T00:00:00\", \"actual\": 1290.0, \"position\": 1265.130005, \"action\": \"BUY\"}, {\"date\": \"2019-10-29T00:00:00\", \"actual\": 1262.619995, \"position\": 1290.0, \"action\": \"BUY\"}, {\"date\": \"2019-10-30T00:00:00\", \"actual\": 1261.290039, \"position\": 1262.619995, \"action\": \"BUY\"}, {\"date\": \"2019-10-31T00:00:00\", \"actual\": 1260.109985, \"position\": 1261.290039, \"action\": \"BUY\"}, {\"date\": \"2019-11-01T00:00:00\", \"actual\": 1273.73999, \"position\": 1260.109985, \"action\": \"BUY\"}, {\"date\": \"2019-11-04T00:00:00\", \"actual\": 1291.369995, \"position\": 1273.73999, \"action\": \"BUY\"}, {\"date\": \"2019-11-05T00:00:00\", \"actual\": 1292.030029, \"position\": 1291.369995, \"action\": \"BUY\"}, {\"date\": \"2019-11-06T00:00:00\", \"actual\": 1291.800049, \"position\": 1292.030029, \"action\": \"BUY\"}, {\"date\": \"2019-11-07T00:00:00\", \"actual\": 1308.859985, \"position\": 1291.800049, \"action\": \"BUY\"}, {\"date\": \"2019-11-08T00:00:00\", \"actual\": 1311.369995, \"position\": 1308.859985, \"action\": \"BUY\"}, {\"date\": \"2019-11-11T00:00:00\", \"actual\": 1299.189941, \"position\": 1311.369995, \"action\": \"BUY\"}, {\"date\": \"2019-11-12T00:00:00\", \"actual\": 1298.800049, \"position\": 1299.189941, \"action\": \"BUY\"}, {\"date\": \"2019-11-13T00:00:00\", \"actual\": 1298.0, \"position\": 1298.800049, \"action\": \"BUY\"}, {\"date\": \"2019-11-14T00:00:00\", \"actual\": 1311.459961, \"position\": 1298.0, \"action\": \"BUY\"}, {\"date\": \"2019-11-15T00:00:00\", \"actual\": 1334.869995, \"position\": 1311.459961, \"action\": \"BUY\"}, {\"date\": \"2019-11-18T00:00:00\", \"actual\": 1320.699951, \"position\": 1334.869995, \"action\": \"BUY\"}, {\"date\": \"2019-11-19T00:00:00\", \"actual\": 1315.459961, \"position\": 1320.699951, \"action\": \"BUY\"}, {\"date\": \"2019-11-20T00:00:00\", \"actual\": 1303.050049, \"position\": 1315.459961, \"action\": \"BUY\"}, {\"date\": \"2019-11-21T00:00:00\", \"actual\": 1301.349976, \"position\": 1303.050049, \"action\": \"BUY\"}, {\"date\": \"2019-11-22T00:00:00\", \"actual\": 1295.339966, \"position\": 1301.349976, \"action\": \"BUY\"}, {\"date\": \"2019-11-25T00:00:00\", \"actual\": 1306.689941, \"position\": 1295.339966, \"action\": \"BUY\"}, {\"date\": \"2019-11-26T00:00:00\", \"actual\": 1313.550049, \"position\": 1306.689941, \"action\": \"BUY\"}, {\"date\": \"2019-11-27T00:00:00\", \"actual\": 1312.98999, \"position\": 1313.550049, \"action\": \"SELL\"}, {\"date\": \"2019-11-29T00:00:00\", \"actual\": 1304.959961, \"position\": 1312.98999, \"action\": \"SELL\"}, {\"date\": \"2019-12-02T00:00:00\", \"actual\": 1289.920044, \"position\": 1304.959961, \"action\": \"BUY\"}, {\"date\": \"2019-12-03T00:00:00\", \"actual\": 1295.280029, \"position\": 1289.920044, \"action\": \"BUY\"}, {\"date\": \"2019-12-04T00:00:00\", \"actual\": 1320.540039, \"position\": 1295.280029, \"action\": \"BUY\"}, {\"date\": \"2019-12-05T00:00:00\", \"actual\": 1328.130005, \"position\": 1320.540039, \"action\": \"BUY\"}, {\"date\": \"2019-12-06T00:00:00\", \"actual\": 1340.619995, \"position\": 1328.130005, \"action\": \"BUY\"}, {\"date\": \"2019-12-09T00:00:00\", \"actual\": 1343.560059, \"position\": 1340.619995, \"action\": \"BUY\"}, {\"date\": \"2019-12-10T00:00:00\", \"actual\": 1344.660034, \"position\": 1343.560059, \"action\": \"BUY\"}, {\"date\": \"2019-12-11T00:00:00\", \"actual\": 1345.02002, \"position\": 1344.660034, \"action\": \"BUY\"}, {\"date\": \"2019-12-12T00:00:00\", \"actual\": 1350.27002, \"position\": 1345.02002, \"action\": \"BUY\"}, {\"date\": \"2019-12-13T00:00:00\", \"actual\": 1347.829956, \"position\": 1350.27002, \"action\": \"BUY\"}, {\"date\": \"2019-12-16T00:00:00\", \"actual\": 1361.170044, \"position\": 1347.829956, \"action\": \"BUY\"}, {\"date\": \"2019-12-17T00:00:00\", \"actual\": 1355.119995, \"position\": 1361.170044, \"action\": \"BUY\"}, {\"date\": \"2019-12-18T00:00:00\", \"actual\": 1352.619995, \"position\": 1355.119995, \"action\": \"BUY\"}, {\"date\": \"2019-12-19T00:00:00\", \"actual\": 1356.040039, \"position\": 1352.619995, \"action\": \"BUY\"}, {\"date\": \"2019-12-20T00:00:00\", \"actual\": 1349.589966, \"position\": 1356.040039, \"action\": \"BUY\"}, {\"date\": \"2019-12-23T00:00:00\", \"actual\": 1348.839966, \"position\": 1349.589966, \"action\": \"BUY\"}, {\"date\": \"2019-12-24T00:00:00\", \"actual\": 1343.560059, \"position\": 1348.839966, \"action\": \"BUY\"}, {\"date\": \"2019-12-26T00:00:00\", \"actual\": 1360.400024, \"position\": 1343.560059, \"action\": \"BUY\"}, {\"date\": \"2019-12-27T00:00:00\", \"actual\": 1351.890015, \"position\": 1360.400024, \"action\": \"BUY\"}, {\"date\": \"2019-12-30T00:00:00\", \"actual\": 1336.140015, \"position\": 1351.890015, \"action\": \"BUY\"}]}}, {\"mode\": \"vega-lite\"});\n",
              "</script>"
            ],
            "text/plain": [
              "alt.LayerChart(...)"
            ]
          },
          "execution_count": 18,
          "metadata": {},
          "output_type": "execute_result"
        }
      ],
      "source": [
        "chart = visualize(df, history, title=test_stock)\n",
        "chart"
      ]
    },
    {
      "cell_type": "markdown",
      "metadata": {
        "id": "fsQyfFdcmwNe"
      },
      "source": [
        "## 5. Other trials"
      ]
    },
    {
      "cell_type": "code",
      "execution_count": null,
      "metadata": {
        "colab": {
          "base_uri": "https://localhost:8080/"
        },
        "id": "t2KKxDAcZbc4",
        "outputId": "eb49a7fe-32fa-4aa8-8461-241aabf5fc4f"
      },
      "outputs": [
        {
          "name": "stdout",
          "output_type": "stream",
          "text": [
            "2023-06-19 15:51:25.756364: I tensorflow/core/platform/cpu_feature_guard.cc:182] This TensorFlow binary is optimized to use available CPU instructions in performance-critical operations.\n",
            "To enable the following instructions: AVX2 FMA, in other operations, rebuild TensorFlow with the appropriate compiler flags.\n",
            "2023-06-19 15:51:26.685351: W tensorflow/compiler/tf2tensorrt/utils/py_utils.cc:38] TF-TRT Warning: Could not find TensorRT\n",
            "\u001b[32m2023-06-19 15:51:28\u001b[0m \u001b[35m8f8a8aaa1e8f\u001b[0m \u001b[34mroot[774185]\u001b[0m \u001b[1;30mDEBUG\u001b[0m \u001b[32mswitching to TensorFlow for CPU\u001b[0m\n",
            "2023-06-19 15:51:28.292555: E tensorflow/compiler/xla/stream_executor/cuda/cuda_driver.cc:266] failed call to cuInit: CUDA_ERROR_NO_DEVICE: no CUDA-capable device is detected\n",
            "2023-06-19 15:51:28.292597: I tensorflow/compiler/xla/stream_executor/cuda/cuda_diagnostics.cc:168] retrieving CUDA diagnostic information for host: 8f8a8aaa1e8f\n",
            "2023-06-19 15:51:28.292608: I tensorflow/compiler/xla/stream_executor/cuda/cuda_diagnostics.cc:175] hostname: 8f8a8aaa1e8f\n",
            "2023-06-19 15:51:28.292733: I tensorflow/compiler/xla/stream_executor/cuda/cuda_diagnostics.cc:199] libcuda reported version is: 525.85.12\n",
            "2023-06-19 15:51:28.292760: I tensorflow/compiler/xla/stream_executor/cuda/cuda_diagnostics.cc:203] kernel reported version is: 525.85.12\n",
            "2023-06-19 15:51:28.292769: I tensorflow/compiler/xla/stream_executor/cuda/cuda_diagnostics.cc:309] kernel version seems to match DSO: 525.85.12\n",
            "train\n",
            "Episode 1/10:   0%|          | 0/49 [00:00<?, ?it/s]\n",
            "\u001b[32m2023-06-19 15:53:39\u001b[0m \u001b[35m8f8a8aaa1e8f\u001b[0m \u001b[34mroot[774185]\u001b[0m \u001b[1;30mINFO\u001b[0m Episode 1/10 - Train Position: +$10.01  Val Position: USELESS  Train Loss: 0.0764\n",
            "train\n",
            "Episode 2/10:   0%|          | 0/49 [00:00<?, ?it/s]\n",
            "\u001b[32m2023-06-19 15:57:20\u001b[0m \u001b[35m8f8a8aaa1e8f\u001b[0m \u001b[34mroot[774185]\u001b[0m \u001b[1;30mINFO\u001b[0m Episode 2/10 - Train Position: +$29.94  Val Position: USELESS  Train Loss: 0.0391\n",
            "train\n",
            "Episode 3/10:   0%|          | 0/49 [00:00<?, ?it/s]\n",
            "\u001b[32m2023-06-19 16:01:04\u001b[0m \u001b[35m8f8a8aaa1e8f\u001b[0m \u001b[34mroot[774185]\u001b[0m \u001b[1;30mINFO\u001b[0m Episode 3/10 - Train Position: +$32.85  Val Position: USELESS  Train Loss: 0.0103\n",
            "train\n",
            "Episode 4/10:   0%|          | 0/49 [00:00<?, ?it/s]\n",
            "\u001b[32m2023-06-19 16:04:52\u001b[0m \u001b[35m8f8a8aaa1e8f\u001b[0m \u001b[34mroot[774185]\u001b[0m \u001b[1;30mINFO\u001b[0m Episode 4/10 - Train Position: +$19.12  Val Position: +$15.18  Train Loss: 0.0054)\n",
            "train\n",
            "Episode 5/10:   0%|          | 0/49 [00:00<?, ?it/s]\n",
            "\u001b[32m2023-06-19 16:08:36\u001b[0m \u001b[35m8f8a8aaa1e8f\u001b[0m \u001b[34mroot[774185]\u001b[0m \u001b[1;30mINFO\u001b[0m Episode 5/10 - Train Position: +$11.45  Val Position: +$4191.17  Train Loss: 0.0098)\n",
            "train\n",
            "Episode 6/10:   0%|          | 0/49 [00:00<?, ?it/s]\n",
            "\u001b[32m2023-06-19 16:12:19\u001b[0m \u001b[35m8f8a8aaa1e8f\u001b[0m \u001b[34mroot[774185]\u001b[0m \u001b[1;30mINFO\u001b[0m Episode 6/10 - Train Position: +$2.14  Val Position: +$10962.91  Train Loss: 0.1334)\n",
            "train\n",
            "Episode 7/10:   0%|          | 0/49 [00:00<?, ?it/s]\n",
            "\u001b[32m2023-06-19 16:16:01\u001b[0m \u001b[35m8f8a8aaa1e8f\u001b[0m \u001b[34mroot[774185]\u001b[0m \u001b[1;30mINFO\u001b[0m Episode 7/10 - Train Position: +$3.26  Val Position: +$7911.46  Train Loss: 0.5620)\n",
            "train\n",
            "Episode 8/10:   0%|          | 0/49 [00:00<?, ?it/s]\n",
            "\u001b[32m2023-06-19 16:19:46\u001b[0m \u001b[35m8f8a8aaa1e8f\u001b[0m \u001b[34mroot[774185]\u001b[0m \u001b[1;30mINFO\u001b[0m Episode 8/10 - Train Position: +$2.66  Val Position: +$2229.66  Train Loss: 0.5991)\n",
            "train\n",
            "Episode 9/10:   0%|          | 0/49 [00:00<?, ?it/s]\n",
            "\u001b[32m2023-06-19 16:23:31\u001b[0m \u001b[35m8f8a8aaa1e8f\u001b[0m \u001b[34mroot[774185]\u001b[0m \u001b[1;30mINFO\u001b[0m Episode 9/10 - Train Position: +$0.27  Val Position: USELESS  Train Loss: 1.3224\n",
            "train\n",
            "Episode 10/10:   0%|          | 0/49 [00:00<?, ?it/s]\n",
            "INFO:tensorflow:Assets written to: models/tdqn_aapl_10/assets\n",
            "\u001b[32m2023-06-19 16:25:59\u001b[0m \u001b[35m8f8a8aaa1e8f\u001b[0m \u001b[34mtensorflow[774185]\u001b[0m \u001b[1;30mINFO\u001b[0m Assets written to: models/tdqn_aapl_10/assets\n",
            "\u001b[32m2023-06-19 16:27:19\u001b[0m \u001b[35m8f8a8aaa1e8f\u001b[0m \u001b[34mroot[774185]\u001b[0m \u001b[1;30mINFO\u001b[0m Episode 10/10 - Train Position: +$8.82  Val Position: USELESS  Train Loss: 1.0085\n"
          ]
        }
      ],
      "source": [
        "!python train.py ./dataset/data/AAPL.csv ./dataset/data/AAPL_2018.csv --strategy dqn --episode-count 10 --model-name tdqn_aapl"
      ]
    },
    {
      "cell_type": "code",
      "execution_count": null,
      "metadata": {
        "colab": {
          "base_uri": "https://localhost:8080/"
        },
        "id": "f6cPi0v_cTWl",
        "outputId": "80d8eebe-6137-4726-ef6a-79c8120ec2ae"
      },
      "outputs": [
        {
          "name": "stdout",
          "output_type": "stream",
          "text": [
            "2023-06-19 17:03:28.408716: I tensorflow/core/platform/cpu_feature_guard.cc:182] This TensorFlow binary is optimized to use available CPU instructions in performance-critical operations.\n",
            "To enable the following instructions: AVX2 FMA, in other operations, rebuild TensorFlow with the appropriate compiler flags.\n",
            "2023-06-19 17:03:29.431203: W tensorflow/compiler/tf2tensorrt/utils/py_utils.cc:38] TF-TRT Warning: Could not find TensorRT\n",
            "\u001b[32m2023-06-19 17:03:31\u001b[0m \u001b[35m8f8a8aaa1e8f\u001b[0m \u001b[34mroot[1125564]\u001b[0m \u001b[1;30mDEBUG\u001b[0m \u001b[32mswitching to TensorFlow for CPU\u001b[0m\n",
            "2023-06-19 17:03:31.067208: E tensorflow/compiler/xla/stream_executor/cuda/cuda_driver.cc:266] failed call to cuInit: CUDA_ERROR_NO_DEVICE: no CUDA-capable device is detected\n",
            "2023-06-19 17:03:31.067258: I tensorflow/compiler/xla/stream_executor/cuda/cuda_diagnostics.cc:168] retrieving CUDA diagnostic information for host: 8f8a8aaa1e8f\n",
            "2023-06-19 17:03:31.067271: I tensorflow/compiler/xla/stream_executor/cuda/cuda_diagnostics.cc:175] hostname: 8f8a8aaa1e8f\n",
            "2023-06-19 17:03:31.067436: I tensorflow/compiler/xla/stream_executor/cuda/cuda_diagnostics.cc:199] libcuda reported version is: 525.85.12\n",
            "2023-06-19 17:03:31.067476: I tensorflow/compiler/xla/stream_executor/cuda/cuda_diagnostics.cc:203] kernel reported version is: 525.85.12\n",
            "2023-06-19 17:03:31.067493: I tensorflow/compiler/xla/stream_executor/cuda/cuda_diagnostics.cc:309] kernel version seems to match DSO: 525.85.12\n",
            "train\n",
            "Episode 1/10:   0%|          | 0/49 [00:00<?, ?it/s]\n",
            "\u001b[32m2023-06-19 17:06:27\u001b[0m \u001b[35m8f8a8aaa1e8f\u001b[0m \u001b[34mroot[1125564]\u001b[0m \u001b[1;30mINFO\u001b[0m Episode 1/10 - Train Position: +$22.91  Val Position: USELESS  Train Loss: 0.0829\n",
            "train\n",
            "Episode 2/10:   0%|          | 0/49 [00:00<?, ?it/s]\n",
            "\u001b[32m2023-06-19 17:12:12\u001b[0m \u001b[35m8f8a8aaa1e8f\u001b[0m \u001b[34mroot[1125564]\u001b[0m \u001b[1;30mINFO\u001b[0m Episode 2/10 - Train Position: +$11.39  Val Position: -$12.35  Train Loss: 0.0168)\n",
            "train\n",
            "Episode 3/10:   0%|          | 0/49 [00:00<?, ?it/s]\n",
            "\u001b[32m2023-06-19 17:17:56\u001b[0m \u001b[35m8f8a8aaa1e8f\u001b[0m \u001b[34mroot[1125564]\u001b[0m \u001b[1;30mINFO\u001b[0m Episode 3/10 - Train Position: +$6.37  Val Position: USELESS  Train Loss: 0.0078\n",
            "train\n",
            "Episode 4/10:   0%|          | 0/49 [00:00<?, ?it/s]\n",
            "\u001b[32m2023-06-19 17:23:36\u001b[0m \u001b[35m8f8a8aaa1e8f\u001b[0m \u001b[34mroot[1125564]\u001b[0m \u001b[1;30mINFO\u001b[0m Episode 4/10 - Train Position: +$3.55  Val Position: +$865.38  Train Loss: 0.0056)\n",
            "train\n",
            "Episode 5/10:   0%|          | 0/49 [00:00<?, ?it/s]\n",
            "\u001b[32m2023-06-19 17:29:12\u001b[0m \u001b[35m8f8a8aaa1e8f\u001b[0m \u001b[34mroot[1125564]\u001b[0m \u001b[1;30mINFO\u001b[0m Episode 5/10 - Train Position: +$6.82  Val Position: +$122.35  Train Loss: 0.0348)\n",
            "train\n",
            "Episode 6/10:   0%|          | 0/49 [00:00<?, ?it/s]\n",
            "\u001b[32m2023-06-19 17:34:48\u001b[0m \u001b[35m8f8a8aaa1e8f\u001b[0m \u001b[34mroot[1125564]\u001b[0m \u001b[1;30mINFO\u001b[0m Episode 6/10 - Train Position: +$4.91  Val Position: +$1041.92  Train Loss: 0.0264)\n",
            "train\n",
            "Episode 7/10:   0%|          | 0/49 [00:00<?, ?it/s]\n",
            "\u001b[32m2023-06-19 17:40:13\u001b[0m \u001b[35m8f8a8aaa1e8f\u001b[0m \u001b[34mroot[1125564]\u001b[0m \u001b[1;30mINFO\u001b[0m Episode 7/10 - Train Position: +$0.70  Val Position: -$7.35  Train Loss: 0.0646)\n",
            "train\n",
            "Episode 8/10:   0%|          | 0/49 [00:00<?, ?it/s]\n",
            "\u001b[32m2023-06-19 17:45:15\u001b[0m \u001b[35m8f8a8aaa1e8f\u001b[0m \u001b[34mroot[1125564]\u001b[0m \u001b[1;30mINFO\u001b[0m Episode 8/10 - Train Position: +$2.39  Val Position: +$19.29  Train Loss: 0.0802)\n",
            "train\n",
            "Episode 9/10:   0%|          | 0/49 [00:00<?, ?it/s]\n",
            "Aborted!\n"
          ]
        }
      ],
      "source": [
        "!python train.py ./dataset/data/AAPL.csv ./dataset/data/AAPL_2018.csv --strategy double-dqn --episode-count 10 --model-name tdqn_aapl"
      ]
    },
    {
      "cell_type": "code",
      "execution_count": null,
      "metadata": {
        "id": "pZNE4z1Tmyql"
      },
      "outputs": [],
      "source": [
        "model_name = 'model_AAPL'\n",
        "test_stock = './dataset/data/AAPL.csv'\n",
        "window_size = 10\n",
        "debug = True\n",
        "\n",
        "agent = Agent(window_size, reset_every=2000, strategy='double-dqn', pretrained=False)"
      ]
    },
    {
      "cell_type": "code",
      "execution_count": null,
      "metadata": {
        "colab": {
          "base_uri": "https://localhost:8080/",
          "height": 206
        },
        "id": "saMNGrqpweJk",
        "outputId": "9c4dec33-459f-422a-a6ee-7c787ccddb38"
      },
      "outputs": [
        {
          "data": {
            "text/html": [
              "\n",
              "  <div id=\"df-aadf596b-ce64-41d7-918f-c5b54730c61a\">\n",
              "    <div class=\"colab-df-container\">\n",
              "      <div>\n",
              "<style scoped>\n",
              "    .dataframe tbody tr th:only-of-type {\n",
              "        vertical-align: middle;\n",
              "    }\n",
              "\n",
              "    .dataframe tbody tr th {\n",
              "        vertical-align: top;\n",
              "    }\n",
              "\n",
              "    .dataframe thead th {\n",
              "        text-align: right;\n",
              "    }\n",
              "</style>\n",
              "<table border=\"1\" class=\"dataframe\">\n",
              "  <thead>\n",
              "    <tr style=\"text-align: right;\">\n",
              "      <th></th>\n",
              "      <th>date</th>\n",
              "      <th>actual</th>\n",
              "    </tr>\n",
              "  </thead>\n",
              "  <tbody>\n",
              "    <tr>\n",
              "      <th>0</th>\n",
              "      <td>2010-08-12</td>\n",
              "      <td>35.970001</td>\n",
              "    </tr>\n",
              "    <tr>\n",
              "      <th>1</th>\n",
              "      <td>2010-08-13</td>\n",
              "      <td>35.585712</td>\n",
              "    </tr>\n",
              "    <tr>\n",
              "      <th>2</th>\n",
              "      <td>2010-08-16</td>\n",
              "      <td>35.377144</td>\n",
              "    </tr>\n",
              "    <tr>\n",
              "      <th>3</th>\n",
              "      <td>2010-08-17</td>\n",
              "      <td>35.995716</td>\n",
              "    </tr>\n",
              "    <tr>\n",
              "      <th>4</th>\n",
              "      <td>2010-08-18</td>\n",
              "      <td>36.152859</td>\n",
              "    </tr>\n",
              "  </tbody>\n",
              "</table>\n",
              "</div>\n",
              "      <button class=\"colab-df-convert\" onclick=\"convertToInteractive('df-aadf596b-ce64-41d7-918f-c5b54730c61a')\"\n",
              "              title=\"Convert this dataframe to an interactive table.\"\n",
              "              style=\"display:none;\">\n",
              "        \n",
              "  <svg xmlns=\"http://www.w3.org/2000/svg\" height=\"24px\"viewBox=\"0 0 24 24\"\n",
              "       width=\"24px\">\n",
              "    <path d=\"M0 0h24v24H0V0z\" fill=\"none\"/>\n",
              "    <path d=\"M18.56 5.44l.94 2.06.94-2.06 2.06-.94-2.06-.94-.94-2.06-.94 2.06-2.06.94zm-11 1L8.5 8.5l.94-2.06 2.06-.94-2.06-.94L8.5 2.5l-.94 2.06-2.06.94zm10 10l.94 2.06.94-2.06 2.06-.94-2.06-.94-.94-2.06-.94 2.06-2.06.94z\"/><path d=\"M17.41 7.96l-1.37-1.37c-.4-.4-.92-.59-1.43-.59-.52 0-1.04.2-1.43.59L10.3 9.45l-7.72 7.72c-.78.78-.78 2.05 0 2.83L4 21.41c.39.39.9.59 1.41.59.51 0 1.02-.2 1.41-.59l7.78-7.78 2.81-2.81c.8-.78.8-2.07 0-2.86zM5.41 20L4 18.59l7.72-7.72 1.47 1.35L5.41 20z\"/>\n",
              "  </svg>\n",
              "      </button>\n",
              "      \n",
              "  <style>\n",
              "    .colab-df-container {\n",
              "      display:flex;\n",
              "      flex-wrap:wrap;\n",
              "      gap: 12px;\n",
              "    }\n",
              "\n",
              "    .colab-df-convert {\n",
              "      background-color: #E8F0FE;\n",
              "      border: none;\n",
              "      border-radius: 50%;\n",
              "      cursor: pointer;\n",
              "      display: none;\n",
              "      fill: #1967D2;\n",
              "      height: 32px;\n",
              "      padding: 0 0 0 0;\n",
              "      width: 32px;\n",
              "    }\n",
              "\n",
              "    .colab-df-convert:hover {\n",
              "      background-color: #E2EBFA;\n",
              "      box-shadow: 0px 1px 2px rgba(60, 64, 67, 0.3), 0px 1px 3px 1px rgba(60, 64, 67, 0.15);\n",
              "      fill: #174EA6;\n",
              "    }\n",
              "\n",
              "    [theme=dark] .colab-df-convert {\n",
              "      background-color: #3B4455;\n",
              "      fill: #D2E3FC;\n",
              "    }\n",
              "\n",
              "    [theme=dark] .colab-df-convert:hover {\n",
              "      background-color: #434B5C;\n",
              "      box-shadow: 0px 1px 3px 1px rgba(0, 0, 0, 0.15);\n",
              "      filter: drop-shadow(0px 1px 2px rgba(0, 0, 0, 0.3));\n",
              "      fill: #FFFFFF;\n",
              "    }\n",
              "  </style>\n",
              "\n",
              "      <script>\n",
              "        const buttonEl =\n",
              "          document.querySelector('#df-aadf596b-ce64-41d7-918f-c5b54730c61a button.colab-df-convert');\n",
              "        buttonEl.style.display =\n",
              "          google.colab.kernel.accessAllowed ? 'block' : 'none';\n",
              "\n",
              "        async function convertToInteractive(key) {\n",
              "          const element = document.querySelector('#df-aadf596b-ce64-41d7-918f-c5b54730c61a');\n",
              "          const dataTable =\n",
              "            await google.colab.kernel.invokeFunction('convertToInteractive',\n",
              "                                                     [key], {});\n",
              "          if (!dataTable) return;\n",
              "\n",
              "          const docLinkHtml = 'Like what you see? Visit the ' +\n",
              "            '<a target=\"_blank\" href=https://colab.research.google.com/notebooks/data_table.ipynb>data table notebook</a>'\n",
              "            + ' to learn more about interactive tables.';\n",
              "          element.innerHTML = '';\n",
              "          dataTable['output_type'] = 'display_data';\n",
              "          await google.colab.output.renderOutput(dataTable, element);\n",
              "          const docLink = document.createElement('div');\n",
              "          docLink.innerHTML = docLinkHtml;\n",
              "          element.appendChild(docLink);\n",
              "        }\n",
              "      </script>\n",
              "    </div>\n",
              "  </div>\n",
              "  "
            ],
            "text/plain": [
              "        date     actual\n",
              "0 2010-08-12  35.970001\n",
              "1 2010-08-13  35.585712\n",
              "2 2010-08-16  35.377144\n",
              "3 2010-08-17  35.995716\n",
              "4 2010-08-18  36.152859"
            ]
          },
          "execution_count": 35,
          "metadata": {},
          "output_type": "execute_result"
        }
      ],
      "source": [
        "# read csv into dataframe\n",
        "df = pd.read_csv(test_stock)\n",
        "# filter out the desired features\n",
        "df = df[['Date', 'Close']]\n",
        "# rename feature column names\n",
        "df = df.rename(columns={'Close': 'actual', 'Date': 'date'})\n",
        "# convert dates from object to DateTime type\n",
        "dates = df['date']\n",
        "dates = pd.to_datetime(dates, infer_datetime_format=True)\n",
        "df['date'] = dates\n",
        "\n",
        "df.head()"
      ]
    },
    {
      "cell_type": "code",
      "execution_count": null,
      "metadata": {
        "colab": {
          "base_uri": "https://localhost:8080/"
        },
        "id": "Ul6glBnlxMx3",
        "outputId": "efe741aa-65dc-4f21-f6ed-55f724a715d9"
      },
      "outputs": [
        {
          "name": "stderr",
          "output_type": "stream",
          "text": [
            "2023-05-31 02:53:50 633684638fd9 root[1152] DEBUG switching to TensorFlow for CPU\n",
            "2023-05-31 02:53:50 633684638fd9 root[1152] DEBUG Buy at: $24.17\n"
          ]
        },
        {
          "name": "stdout",
          "output_type": "stream",
          "text": [
            "1/1 [==============================] - 0s 69ms/step\n",
            "1/1 [==============================] - 0s 20ms/step\n",
            "1/1 [==============================] - 0s 20ms/step\n",
            "1/1 [==============================] - 0s 21ms/step\n",
            "1/1 [==============================] - 0s 21ms/step\n",
            "1/1 [==============================] - 0s 23ms/step\n",
            "1/1 [==============================] - 0s 21ms/step\n",
            "1/1 [==============================] - 0s 21ms/step\n",
            "1/1 [==============================] - 0s 22ms/step\n",
            "1/1 [==============================] - 0s 21ms/step\n",
            "1/1 [==============================] - 0s 20ms/step\n",
            "1/1 [==============================] - 0s 20ms/step\n",
            "1/1 [==============================] - 0s 20ms/step\n",
            "1/1 [==============================] - 0s 20ms/step\n",
            "1/1 [==============================] - 0s 20ms/step\n",
            "1/1 [==============================] - 0s 20ms/step\n",
            "1/1 [==============================] - 0s 20ms/step\n",
            "1/1 [==============================] - 0s 19ms/step\n",
            "1/1 [==============================] - 0s 20ms/step\n",
            "1/1 [==============================] - 0s 19ms/step\n",
            "1/1 [==============================] - 0s 20ms/step\n",
            "1/1 [==============================] - 0s 20ms/step\n",
            "1/1 [==============================] - 0s 21ms/step\n",
            "1/1 [==============================] - 0s 21ms/step\n",
            "1/1 [==============================] - 0s 20ms/step\n",
            "1/1 [==============================] - 0s 20ms/step\n",
            "1/1 [==============================] - 0s 21ms/step\n",
            "1/1 [==============================] - 0s 21ms/step\n",
            "1/1 [==============================] - 0s 20ms/step\n",
            "1/1 [==============================] - 0s 20ms/step\n",
            "1/1 [==============================] - 0s 19ms/step\n",
            "1/1 [==============================] - 0s 19ms/step\n",
            "1/1 [==============================] - 0s 19ms/step\n",
            "1/1 [==============================] - 0s 20ms/step\n",
            "1/1 [==============================] - 0s 20ms/step\n",
            "1/1 [==============================] - 0s 21ms/step\n",
            "1/1 [==============================] - 0s 20ms/step\n",
            "1/1 [==============================] - 0s 21ms/step\n",
            "1/1 [==============================] - 0s 20ms/step\n",
            "1/1 [==============================] - 0s 21ms/step\n",
            "1/1 [==============================] - 0s 20ms/step\n",
            "1/1 [==============================] - 0s 20ms/step\n",
            "1/1 [==============================] - 0s 20ms/step\n",
            "1/1 [==============================] - 0s 20ms/step\n",
            "1/1 [==============================] - 0s 19ms/step\n",
            "1/1 [==============================] - 0s 22ms/step\n",
            "1/1 [==============================] - 0s 21ms/step\n",
            "1/1 [==============================] - 0s 19ms/step\n",
            "1/1 [==============================] - 0s 19ms/step\n",
            "1/1 [==============================] - 0s 19ms/step\n"
          ]
        },
        {
          "name": "stderr",
          "output_type": "stream",
          "text": [
            "2023-05-31 02:53:53 633684638fd9 root[1152] DEBUG Buy at: $29.52\n"
          ]
        },
        {
          "name": "stdout",
          "output_type": "stream",
          "text": [
            "1/1 [==============================] - 0s 20ms/step\n",
            "1/1 [==============================] - 0s 20ms/step\n",
            "1/1 [==============================] - 0s 20ms/step\n",
            "1/1 [==============================] - 0s 19ms/step\n",
            "1/1 [==============================] - 0s 20ms/step\n",
            "1/1 [==============================] - 0s 20ms/step\n",
            "1/1 [==============================] - 0s 20ms/step\n",
            "1/1 [==============================] - 0s 21ms/step\n",
            "1/1 [==============================] - 0s 21ms/step\n",
            "1/1 [==============================] - 0s 21ms/step\n",
            "1/1 [==============================] - 0s 20ms/step\n",
            "1/1 [==============================] - 0s 19ms/step\n",
            "1/1 [==============================] - 0s 19ms/step\n",
            "1/1 [==============================] - 0s 20ms/step\n",
            "1/1 [==============================] - 0s 20ms/step\n",
            "1/1 [==============================] - 0s 20ms/step\n",
            "1/1 [==============================] - 0s 19ms/step\n",
            "1/1 [==============================] - 0s 19ms/step\n",
            "1/1 [==============================] - 0s 19ms/step\n",
            "1/1 [==============================] - 0s 21ms/step\n",
            "1/1 [==============================] - 0s 19ms/step\n",
            "1/1 [==============================] - 0s 19ms/step\n",
            "1/1 [==============================] - 0s 21ms/step\n",
            "1/1 [==============================] - 0s 21ms/step\n",
            "1/1 [==============================] - 0s 20ms/step\n",
            "1/1 [==============================] - 0s 19ms/step\n",
            "1/1 [==============================] - 0s 19ms/step\n",
            "1/1 [==============================] - 0s 19ms/step\n",
            "1/1 [==============================] - 0s 20ms/step\n",
            "1/1 [==============================] - 0s 20ms/step\n",
            "1/1 [==============================] - 0s 20ms/step\n",
            "1/1 [==============================] - 0s 20ms/step\n",
            "1/1 [==============================] - 0s 19ms/step\n",
            "1/1 [==============================] - 0s 21ms/step\n",
            "1/1 [==============================] - 0s 20ms/step\n",
            "1/1 [==============================] - 0s 20ms/step\n",
            "1/1 [==============================] - 0s 19ms/step\n",
            "1/1 [==============================] - 0s 19ms/step\n",
            "1/1 [==============================] - 0s 19ms/step\n",
            "1/1 [==============================] - 0s 19ms/step\n",
            "1/1 [==============================] - 0s 20ms/step\n",
            "1/1 [==============================] - 0s 20ms/step\n",
            "1/1 [==============================] - 0s 19ms/step\n",
            "1/1 [==============================] - 0s 19ms/step\n",
            "1/1 [==============================] - 0s 23ms/step\n",
            "1/1 [==============================] - 0s 19ms/step\n",
            "1/1 [==============================] - 0s 20ms/step\n",
            "1/1 [==============================] - 0s 20ms/step\n",
            "1/1 [==============================] - 0s 20ms/step\n",
            "1/1 [==============================] - 0s 21ms/step\n",
            "1/1 [==============================] - 0s 20ms/step\n",
            "1/1 [==============================] - 0s 19ms/step\n",
            "1/1 [==============================] - 0s 20ms/step\n",
            "1/1 [==============================] - 0s 19ms/step\n",
            "1/1 [==============================] - 0s 20ms/step\n",
            "1/1 [==============================] - 0s 19ms/step\n",
            "1/1 [==============================] - 0s 20ms/step\n",
            "1/1 [==============================] - 0s 20ms/step\n",
            "1/1 [==============================] - 0s 20ms/step\n",
            "1/1 [==============================] - 0s 20ms/step\n",
            "1/1 [==============================] - 0s 20ms/step\n",
            "1/1 [==============================] - 0s 19ms/step\n",
            "1/1 [==============================] - 0s 20ms/step\n",
            "1/1 [==============================] - 0s 19ms/step\n",
            "1/1 [==============================] - 0s 20ms/step\n",
            "1/1 [==============================] - 0s 19ms/step\n",
            "1/1 [==============================] - 0s 21ms/step\n",
            "1/1 [==============================] - 0s 21ms/step\n",
            "1/1 [==============================] - 0s 22ms/step\n",
            "1/1 [==============================] - 0s 20ms/step\n"
          ]
        },
        {
          "name": "stderr",
          "output_type": "stream",
          "text": [
            "2023-05-31 02:53:56 633684638fd9 root[1152] DEBUG Buy at: $33.05\n"
          ]
        },
        {
          "name": "stdout",
          "output_type": "stream",
          "text": [
            "1/1 [==============================] - 0s 21ms/step\n",
            "1/1 [==============================] - 0s 20ms/step\n",
            "1/1 [==============================] - 0s 20ms/step\n",
            "1/1 [==============================] - 0s 20ms/step\n",
            "1/1 [==============================] - 0s 19ms/step\n",
            "1/1 [==============================] - 0s 19ms/step\n",
            "1/1 [==============================] - 0s 21ms/step\n",
            "1/1 [==============================] - 0s 20ms/step\n",
            "1/1 [==============================] - 0s 19ms/step\n",
            "1/1 [==============================] - 0s 20ms/step\n",
            "1/1 [==============================] - 0s 20ms/step\n",
            "1/1 [==============================] - 0s 19ms/step\n",
            "1/1 [==============================] - 0s 19ms/step\n",
            "1/1 [==============================] - 0s 20ms/step\n",
            "1/1 [==============================] - 0s 20ms/step\n"
          ]
        },
        {
          "name": "stderr",
          "output_type": "stream",
          "text": [
            "2023-05-31 02:53:57 633684638fd9 root[1152] DEBUG Buy at: $32.92\n"
          ]
        },
        {
          "name": "stdout",
          "output_type": "stream",
          "text": [
            "1/1 [==============================] - 0s 21ms/step\n",
            "1/1 [==============================] - 0s 20ms/step\n",
            "1/1 [==============================] - 0s 20ms/step\n",
            "1/1 [==============================] - 0s 19ms/step\n",
            "1/1 [==============================] - 0s 21ms/step\n",
            "1/1 [==============================] - 0s 21ms/step\n",
            "1/1 [==============================] - 0s 20ms/step\n",
            "1/1 [==============================] - 0s 20ms/step\n",
            "1/1 [==============================] - 0s 20ms/step\n",
            "1/1 [==============================] - 0s 20ms/step\n",
            "1/1 [==============================] - 0s 21ms/step\n",
            "1/1 [==============================] - 0s 19ms/step\n",
            "1/1 [==============================] - 0s 20ms/step\n",
            "1/1 [==============================] - 0s 20ms/step\n",
            "1/1 [==============================] - 0s 20ms/step\n",
            "1/1 [==============================] - 0s 20ms/step\n"
          ]
        },
        {
          "name": "stderr",
          "output_type": "stream",
          "text": [
            "2023-05-31 02:53:58 633684638fd9 root[1152] DEBUG Buy at: $31.74\n"
          ]
        },
        {
          "name": "stdout",
          "output_type": "stream",
          "text": [
            "1/1 [==============================] - 0s 20ms/step\n",
            "1/1 [==============================] - 0s 21ms/step\n",
            "1/1 [==============================] - 0s 21ms/step\n",
            "1/1 [==============================] - 0s 21ms/step\n",
            "1/1 [==============================] - 0s 20ms/step\n",
            "1/1 [==============================] - 0s 20ms/step\n",
            "1/1 [==============================] - 0s 21ms/step\n",
            "1/1 [==============================] - 0s 19ms/step\n",
            "1/1 [==============================] - 0s 21ms/step\n",
            "1/1 [==============================] - 0s 19ms/step\n",
            "1/1 [==============================] - 0s 20ms/step\n",
            "1/1 [==============================] - 0s 19ms/step\n",
            "1/1 [==============================] - 0s 19ms/step\n",
            "1/1 [==============================] - 0s 20ms/step\n",
            "1/1 [==============================] - 0s 20ms/step\n",
            "1/1 [==============================] - 0s 20ms/step\n",
            "1/1 [==============================] - 0s 20ms/step\n",
            "1/1 [==============================] - 0s 20ms/step\n",
            "1/1 [==============================] - 0s 19ms/step\n",
            "1/1 [==============================] - 0s 21ms/step\n",
            "1/1 [==============================] - 0s 19ms/step\n",
            "1/1 [==============================] - 0s 19ms/step\n",
            "1/1 [==============================] - 0s 20ms/step\n",
            "1/1 [==============================] - 0s 20ms/step\n",
            "1/1 [==============================] - 0s 20ms/step\n",
            "1/1 [==============================] - 0s 19ms/step\n",
            "1/1 [==============================] - 0s 19ms/step\n",
            "1/1 [==============================] - 0s 19ms/step\n",
            "1/1 [==============================] - 0s 19ms/step\n",
            "1/1 [==============================] - 0s 19ms/step\n",
            "1/1 [==============================] - 0s 20ms/step\n",
            "1/1 [==============================] - 0s 19ms/step\n",
            "1/1 [==============================] - 0s 19ms/step\n",
            "1/1 [==============================] - 0s 20ms/step\n",
            "1/1 [==============================] - 0s 19ms/step\n",
            "1/1 [==============================] - 0s 19ms/step\n",
            "1/1 [==============================] - 0s 19ms/step\n",
            "1/1 [==============================] - 0s 20ms/step\n",
            "1/1 [==============================] - 0s 19ms/step\n",
            "1/1 [==============================] - 0s 19ms/step\n",
            "1/1 [==============================] - 0s 19ms/step\n",
            "1/1 [==============================] - 0s 19ms/step\n",
            "1/1 [==============================] - 0s 20ms/step\n",
            "1/1 [==============================] - 0s 19ms/step\n",
            "1/1 [==============================] - 0s 19ms/step\n",
            "1/1 [==============================] - 0s 19ms/step\n",
            "1/1 [==============================] - 0s 20ms/step\n",
            "1/1 [==============================] - 0s 22ms/step\n",
            "1/1 [==============================] - 0s 21ms/step\n",
            "1/1 [==============================] - 0s 20ms/step\n",
            "1/1 [==============================] - 0s 20ms/step\n",
            "1/1 [==============================] - 0s 20ms/step\n",
            "1/1 [==============================] - 0s 20ms/step\n",
            "1/1 [==============================] - 0s 20ms/step\n",
            "1/1 [==============================] - 0s 20ms/step\n",
            "1/1 [==============================] - 0s 20ms/step\n",
            "1/1 [==============================] - 0s 20ms/step\n",
            "1/1 [==============================] - 0s 21ms/step\n",
            "1/1 [==============================] - 0s 19ms/step\n",
            "1/1 [==============================] - 0s 19ms/step\n",
            "1/1 [==============================] - 0s 21ms/step\n",
            "1/1 [==============================] - 0s 20ms/step\n",
            "1/1 [==============================] - 0s 20ms/step\n",
            "1/1 [==============================] - 0s 20ms/step\n",
            "1/1 [==============================] - 0s 22ms/step\n",
            "1/1 [==============================] - 0s 20ms/step\n",
            "1/1 [==============================] - 0s 19ms/step\n",
            "1/1 [==============================] - 0s 21ms/step\n",
            "1/1 [==============================] - 0s 20ms/step\n",
            "1/1 [==============================] - 0s 20ms/step\n",
            "1/1 [==============================] - 0s 20ms/step\n",
            "1/1 [==============================] - 0s 20ms/step\n",
            "1/1 [==============================] - 0s 20ms/step\n",
            "1/1 [==============================] - 0s 21ms/step\n",
            "1/1 [==============================] - 0s 22ms/step\n",
            "1/1 [==============================] - 0s 22ms/step\n",
            "1/1 [==============================] - 0s 20ms/step\n",
            "1/1 [==============================] - 0s 20ms/step\n",
            "1/1 [==============================] - 0s 20ms/step\n",
            "1/1 [==============================] - 0s 20ms/step\n",
            "1/1 [==============================] - 0s 20ms/step\n",
            "1/1 [==============================] - 0s 20ms/step\n",
            "1/1 [==============================] - 0s 22ms/step\n",
            "1/1 [==============================] - 0s 20ms/step\n",
            "1/1 [==============================] - 0s 21ms/step\n",
            "1/1 [==============================] - 0s 20ms/step\n",
            "1/1 [==============================] - 0s 20ms/step\n",
            "1/1 [==============================] - 0s 20ms/step\n",
            "1/1 [==============================] - 0s 20ms/step\n",
            "1/1 [==============================] - 0s 21ms/step\n",
            "1/1 [==============================] - 0s 21ms/step\n",
            "1/1 [==============================] - 0s 20ms/step\n",
            "1/1 [==============================] - 0s 20ms/step\n"
          ]
        },
        {
          "name": "stderr",
          "output_type": "stream",
          "text": [
            "2023-05-31 02:54:03 633684638fd9 root[1152] DEBUG Buy at: $38.09\n"
          ]
        },
        {
          "name": "stdout",
          "output_type": "stream",
          "text": [
            "1/1 [==============================] - 0s 19ms/step\n",
            "1/1 [==============================] - 0s 19ms/step\n",
            "1/1 [==============================] - 0s 20ms/step\n",
            "1/1 [==============================] - 0s 21ms/step\n",
            "1/1 [==============================] - 0s 21ms/step\n",
            "1/1 [==============================] - 0s 20ms/step\n",
            "1/1 [==============================] - 0s 22ms/step\n",
            "1/1 [==============================] - 0s 20ms/step\n",
            "1/1 [==============================] - 0s 22ms/step\n",
            "1/1 [==============================] - 0s 20ms/step\n",
            "1/1 [==============================] - 0s 20ms/step\n",
            "1/1 [==============================] - 0s 20ms/step\n",
            "1/1 [==============================] - 0s 21ms/step\n",
            "1/1 [==============================] - 0s 20ms/step\n"
          ]
        },
        {
          "name": "stderr",
          "output_type": "stream",
          "text": [
            "2023-05-31 02:54:04 633684638fd9 root[1152] DEBUG Buy at: $34.18\n"
          ]
        },
        {
          "name": "stdout",
          "output_type": "stream",
          "text": [
            "1/1 [==============================] - 0s 20ms/step\n",
            "1/1 [==============================] - 0s 21ms/step\n"
          ]
        },
        {
          "name": "stderr",
          "output_type": "stream",
          "text": [
            "2023-05-31 02:54:04 633684638fd9 root[1152] DEBUG Buy at: $35.87\n"
          ]
        },
        {
          "name": "stdout",
          "output_type": "stream",
          "text": [
            "1/1 [==============================] - 0s 20ms/step\n",
            "1/1 [==============================] - 0s 20ms/step\n",
            "1/1 [==============================] - 0s 22ms/step\n",
            "1/1 [==============================] - 0s 21ms/step\n",
            "1/1 [==============================] - 0s 20ms/step\n",
            "1/1 [==============================] - 0s 20ms/step\n",
            "1/1 [==============================] - 0s 20ms/step\n",
            "1/1 [==============================] - 0s 20ms/step\n",
            "1/1 [==============================] - 0s 21ms/step\n",
            "1/1 [==============================] - 0s 22ms/step\n",
            "1/1 [==============================] - 0s 20ms/step\n",
            "1/1 [==============================] - 0s 20ms/step\n",
            "1/1 [==============================] - 0s 20ms/step\n",
            "1/1 [==============================] - 0s 20ms/step\n",
            "1/1 [==============================] - 0s 19ms/step\n",
            "1/1 [==============================] - 0s 20ms/step\n",
            "1/1 [==============================] - 0s 20ms/step\n",
            "1/1 [==============================] - 0s 21ms/step\n",
            "1/1 [==============================] - 0s 22ms/step\n",
            "1/1 [==============================] - 0s 20ms/step\n",
            "1/1 [==============================] - 0s 19ms/step\n"
          ]
        },
        {
          "name": "stderr",
          "output_type": "stream",
          "text": [
            "2023-05-31 02:54:05 633684638fd9 root[1152] DEBUG Buy at: $38.57\n"
          ]
        },
        {
          "name": "stdout",
          "output_type": "stream",
          "text": [
            "1/1 [==============================] - 0s 19ms/step\n",
            "1/1 [==============================] - 0s 20ms/step\n"
          ]
        },
        {
          "name": "stderr",
          "output_type": "stream",
          "text": [
            "2023-05-31 02:54:05 633684638fd9 root[1152] DEBUG Buy at: $38.70\n"
          ]
        },
        {
          "name": "stdout",
          "output_type": "stream",
          "text": [
            "1/1 [==============================] - 0s 19ms/step\n",
            "1/1 [==============================] - 0s 19ms/step\n",
            "1/1 [==============================] - 0s 20ms/step\n",
            "1/1 [==============================] - 0s 20ms/step\n",
            "1/1 [==============================] - 0s 20ms/step\n",
            "1/1 [==============================] - 0s 20ms/step\n",
            "1/1 [==============================] - 0s 20ms/step\n",
            "1/1 [==============================] - 0s 19ms/step\n",
            "1/1 [==============================] - 0s 20ms/step\n",
            "1/1 [==============================] - 0s 20ms/step\n",
            "1/1 [==============================] - 0s 21ms/step\n",
            "1/1 [==============================] - 0s 19ms/step\n",
            "1/1 [==============================] - 0s 20ms/step\n",
            "1/1 [==============================] - 0s 20ms/step\n",
            "1/1 [==============================] - 0s 20ms/step\n",
            "1/1 [==============================] - 0s 19ms/step\n",
            "1/1 [==============================] - 0s 19ms/step\n"
          ]
        },
        {
          "name": "stderr",
          "output_type": "stream",
          "text": [
            "2023-05-31 02:54:06 633684638fd9 root[1152] DEBUG Sell at: $38.27 | Position: +$14.10\n"
          ]
        },
        {
          "name": "stdout",
          "output_type": "stream",
          "text": [
            "1/1 [==============================] - 0s 19ms/step\n"
          ]
        },
        {
          "name": "stderr",
          "output_type": "stream",
          "text": [
            "2023-05-31 02:54:06 633684638fd9 root[1152] DEBUG Buy at: $37.95\n"
          ]
        },
        {
          "name": "stdout",
          "output_type": "stream",
          "text": [
            "1/1 [==============================] - 0s 19ms/step\n",
            "1/1 [==============================] - 0s 19ms/step\n",
            "1/1 [==============================] - 0s 19ms/step\n",
            "1/1 [==============================] - 0s 20ms/step\n",
            "1/1 [==============================] - 0s 20ms/step\n",
            "1/1 [==============================] - 0s 20ms/step\n",
            "1/1 [==============================] - 0s 20ms/step\n",
            "1/1 [==============================] - 0s 19ms/step\n",
            "1/1 [==============================] - 0s 19ms/step\n",
            "1/1 [==============================] - 0s 20ms/step\n",
            "1/1 [==============================] - 0s 20ms/step\n",
            "1/1 [==============================] - 0s 20ms/step\n",
            "1/1 [==============================] - 0s 19ms/step\n",
            "1/1 [==============================] - 0s 20ms/step\n",
            "1/1 [==============================] - 0s 19ms/step\n",
            "1/1 [==============================] - 0s 19ms/step\n",
            "1/1 [==============================] - 0s 20ms/step\n"
          ]
        },
        {
          "name": "stderr",
          "output_type": "stream",
          "text": [
            "2023-05-31 02:54:07 633684638fd9 root[1152] DEBUG Buy at: $36.41\n"
          ]
        },
        {
          "name": "stdout",
          "output_type": "stream",
          "text": [
            "1/1 [==============================] - 0s 19ms/step\n",
            "1/1 [==============================] - 0s 19ms/step\n",
            "1/1 [==============================] - 0s 19ms/step\n",
            "1/1 [==============================] - 0s 19ms/step\n",
            "1/1 [==============================] - 0s 19ms/step\n",
            "1/1 [==============================] - 0s 19ms/step\n",
            "1/1 [==============================] - 0s 20ms/step\n",
            "1/1 [==============================] - 0s 20ms/step\n",
            "1/1 [==============================] - 0s 19ms/step\n",
            "1/1 [==============================] - 0s 19ms/step\n",
            "1/1 [==============================] - 0s 19ms/step\n",
            "1/1 [==============================] - 0s 19ms/step\n",
            "1/1 [==============================] - 0s 20ms/step\n",
            "1/1 [==============================] - 0s 20ms/step\n",
            "1/1 [==============================] - 0s 19ms/step\n",
            "1/1 [==============================] - 0s 19ms/step\n",
            "1/1 [==============================] - 0s 19ms/step\n",
            "1/1 [==============================] - 0s 20ms/step\n",
            "1/1 [==============================] - 0s 19ms/step\n",
            "1/1 [==============================] - 0s 19ms/step\n",
            "1/1 [==============================] - 0s 19ms/step\n",
            "1/1 [==============================] - 0s 20ms/step\n",
            "1/1 [==============================] - 0s 20ms/step\n",
            "1/1 [==============================] - 0s 19ms/step\n",
            "1/1 [==============================] - 0s 19ms/step\n",
            "1/1 [==============================] - 0s 20ms/step\n",
            "1/1 [==============================] - 0s 20ms/step\n",
            "1/1 [==============================] - 0s 20ms/step\n",
            "1/1 [==============================] - 0s 20ms/step\n",
            "1/1 [==============================] - 0s 19ms/step\n",
            "1/1 [==============================] - 0s 21ms/step\n",
            "1/1 [==============================] - 0s 21ms/step\n",
            "1/1 [==============================] - 0s 20ms/step\n",
            "1/1 [==============================] - 0s 19ms/step\n",
            "1/1 [==============================] - 0s 22ms/step\n",
            "1/1 [==============================] - 0s 19ms/step\n",
            "1/1 [==============================] - 0s 20ms/step\n",
            "1/1 [==============================] - 0s 19ms/step\n",
            "1/1 [==============================] - 0s 20ms/step\n",
            "1/1 [==============================] - 0s 20ms/step\n",
            "1/1 [==============================] - 0s 21ms/step\n",
            "1/1 [==============================] - 0s 20ms/step\n",
            "1/1 [==============================] - 0s 20ms/step\n",
            "1/1 [==============================] - 0s 19ms/step\n",
            "1/1 [==============================] - 0s 19ms/step\n",
            "1/1 [==============================] - 0s 20ms/step\n",
            "1/1 [==============================] - 0s 19ms/step\n",
            "1/1 [==============================] - 0s 20ms/step\n",
            "1/1 [==============================] - 0s 21ms/step\n",
            "1/1 [==============================] - 0s 21ms/step\n",
            "1/1 [==============================] - 0s 19ms/step\n",
            "1/1 [==============================] - 0s 20ms/step\n",
            "1/1 [==============================] - 0s 20ms/step\n",
            "1/1 [==============================] - 0s 19ms/step\n",
            "1/1 [==============================] - 0s 20ms/step\n",
            "1/1 [==============================] - 0s 20ms/step\n",
            "1/1 [==============================] - 0s 20ms/step\n",
            "1/1 [==============================] - 0s 21ms/step\n",
            "1/1 [==============================] - 0s 20ms/step\n",
            "1/1 [==============================] - 0s 21ms/step\n",
            "1/1 [==============================] - 0s 19ms/step\n",
            "1/1 [==============================] - 0s 19ms/step\n",
            "1/1 [==============================] - 0s 21ms/step\n",
            "1/1 [==============================] - 0s 19ms/step\n",
            "1/1 [==============================] - 0s 19ms/step\n"
          ]
        },
        {
          "name": "stderr",
          "output_type": "stream",
          "text": [
            "2023-05-31 02:54:10 633684638fd9 root[1152] DEBUG Buy at: $48.20\n"
          ]
        },
        {
          "name": "stdout",
          "output_type": "stream",
          "text": [
            "1/1 [==============================] - 0s 19ms/step\n",
            "1/1 [==============================] - 0s 21ms/step\n",
            "1/1 [==============================] - 0s 20ms/step\n",
            "1/1 [==============================] - 0s 20ms/step\n",
            "1/1 [==============================] - 0s 20ms/step\n",
            "1/1 [==============================] - 0s 20ms/step\n",
            "1/1 [==============================] - 0s 20ms/step\n",
            "1/1 [==============================] - 0s 19ms/step\n",
            "1/1 [==============================] - 0s 19ms/step\n",
            "1/1 [==============================] - 0s 20ms/step\n",
            "1/1 [==============================] - 0s 20ms/step\n"
          ]
        },
        {
          "name": "stderr",
          "output_type": "stream",
          "text": [
            "2023-05-31 02:54:11 633684638fd9 root[1152] DEBUG Buy at: $50.90\n"
          ]
        },
        {
          "name": "stdout",
          "output_type": "stream",
          "text": [
            "1/1 [==============================] - 0s 20ms/step\n"
          ]
        },
        {
          "name": "stderr",
          "output_type": "stream",
          "text": [
            "2023-05-31 02:54:11 633684638fd9 root[1152] DEBUG Buy at: $50.95\n"
          ]
        },
        {
          "name": "stdout",
          "output_type": "stream",
          "text": [
            "1/1 [==============================] - 0s 19ms/step\n",
            "1/1 [==============================] - 0s 20ms/step\n",
            "1/1 [==============================] - 0s 19ms/step\n",
            "1/1 [==============================] - 0s 20ms/step\n",
            "1/1 [==============================] - 0s 19ms/step\n",
            "1/1 [==============================] - 0s 20ms/step\n",
            "1/1 [==============================] - 0s 21ms/step\n",
            "1/1 [==============================] - 0s 21ms/step\n",
            "1/1 [==============================] - 0s 20ms/step\n"
          ]
        },
        {
          "name": "stderr",
          "output_type": "stream",
          "text": [
            "2023-05-31 02:54:11 633684638fd9 root[1152] DEBUG Buy at: $58.17\n"
          ]
        },
        {
          "name": "stdout",
          "output_type": "stream",
          "text": [
            "1/1 [==============================] - 0s 20ms/step\n",
            "1/1 [==============================] - 0s 20ms/step\n",
            "1/1 [==============================] - 0s 19ms/step\n",
            "1/1 [==============================] - 0s 21ms/step\n",
            "1/1 [==============================] - 0s 19ms/step\n",
            "1/1 [==============================] - 0s 19ms/step\n",
            "1/1 [==============================] - 0s 19ms/step\n",
            "1/1 [==============================] - 0s 20ms/step\n",
            "1/1 [==============================] - 0s 19ms/step\n",
            "1/1 [==============================] - 0s 19ms/step\n"
          ]
        },
        {
          "name": "stderr",
          "output_type": "stream",
          "text": [
            "2023-05-31 02:54:12 633684638fd9 root[1152] DEBUG Buy at: $60.41\n"
          ]
        },
        {
          "name": "stdout",
          "output_type": "stream",
          "text": [
            "1/1 [==============================] - 0s 21ms/step\n",
            "1/1 [==============================] - 0s 19ms/step\n",
            "1/1 [==============================] - 0s 20ms/step\n",
            "1/1 [==============================] - 0s 19ms/step\n",
            "1/1 [==============================] - 0s 19ms/step\n",
            "1/1 [==============================] - 0s 20ms/step\n"
          ]
        },
        {
          "name": "stderr",
          "output_type": "stream",
          "text": [
            "2023-05-31 02:54:12 633684638fd9 root[1152] DEBUG Sell at: $59.79 | Position: +$30.27\n"
          ]
        },
        {
          "name": "stdout",
          "output_type": "stream",
          "text": [
            "1/1 [==============================] - 0s 21ms/step\n"
          ]
        },
        {
          "name": "stderr",
          "output_type": "stream",
          "text": [
            "2023-05-31 02:54:12 633684638fd9 root[1152] DEBUG Buy at: $58.10\n"
          ]
        },
        {
          "name": "stdout",
          "output_type": "stream",
          "text": [
            "1/1 [==============================] - 0s 20ms/step\n",
            "1/1 [==============================] - 0s 19ms/step\n",
            "1/1 [==============================] - 0s 20ms/step\n",
            "1/1 [==============================] - 0s 20ms/step\n"
          ]
        },
        {
          "name": "stderr",
          "output_type": "stream",
          "text": [
            "2023-05-31 02:54:12 633684638fd9 root[1152] DEBUG Buy at: $56.39\n"
          ]
        },
        {
          "name": "stdout",
          "output_type": "stream",
          "text": [
            "1/1 [==============================] - 0s 19ms/step\n",
            "1/1 [==============================] - 0s 20ms/step\n",
            "1/1 [==============================] - 0s 20ms/step\n"
          ]
        },
        {
          "name": "stderr",
          "output_type": "stream",
          "text": [
            "2023-05-31 02:54:13 633684638fd9 root[1152] DEBUG Buy at: $53.79\n"
          ]
        },
        {
          "name": "stdout",
          "output_type": "stream",
          "text": [
            "1/1 [==============================] - 0s 21ms/step\n",
            "1/1 [==============================] - 0s 23ms/step\n",
            "1/1 [==============================] - 0s 20ms/step\n",
            "1/1 [==============================] - 0s 20ms/step\n",
            "1/1 [==============================] - 0s 20ms/step\n",
            "1/1 [==============================] - 0s 20ms/step\n",
            "1/1 [==============================] - 0s 19ms/step\n"
          ]
        },
        {
          "name": "stderr",
          "output_type": "stream",
          "text": [
            "2023-05-31 02:54:13 633684638fd9 root[1152] DEBUG Buy at: $55.85\n"
          ]
        },
        {
          "name": "stdout",
          "output_type": "stream",
          "text": [
            "1/1 [==============================] - 0s 20ms/step\n"
          ]
        },
        {
          "name": "stderr",
          "output_type": "stream",
          "text": [
            "2023-05-31 02:54:13 633684638fd9 root[1152] DEBUG Sell at: $54.26 | Position: +$21.21\n"
          ]
        },
        {
          "name": "stdout",
          "output_type": "stream",
          "text": [
            "1/1 [==============================] - 0s 20ms/step\n",
            "1/1 [==============================] - 0s 20ms/step\n",
            "1/1 [==============================] - 0s 20ms/step\n"
          ]
        },
        {
          "name": "stderr",
          "output_type": "stream",
          "text": [
            "2023-05-31 02:54:13 633684638fd9 root[1152] DEBUG Buy at: $54.64\n"
          ]
        },
        {
          "name": "stdout",
          "output_type": "stream",
          "text": [
            "1/1 [==============================] - 0s 19ms/step\n",
            "1/1 [==============================] - 0s 20ms/step\n",
            "1/1 [==============================] - 0s 19ms/step\n",
            "1/1 [==============================] - 0s 20ms/step\n",
            "1/1 [==============================] - 0s 21ms/step\n",
            "1/1 [==============================] - 0s 19ms/step\n"
          ]
        },
        {
          "name": "stderr",
          "output_type": "stream",
          "text": [
            "2023-05-31 02:54:14 633684638fd9 root[1152] DEBUG Buy at: $50.89\n"
          ]
        },
        {
          "name": "stdout",
          "output_type": "stream",
          "text": [
            "1/1 [==============================] - 0s 19ms/step\n",
            "1/1 [==============================] - 0s 20ms/step\n",
            "1/1 [==============================] - 0s 20ms/step\n",
            "1/1 [==============================] - 0s 20ms/step\n",
            "1/1 [==============================] - 0s 22ms/step\n",
            "1/1 [==============================] - 0s 19ms/step\n",
            "1/1 [==============================] - 0s 20ms/step\n",
            "1/1 [==============================] - 0s 20ms/step\n",
            "1/1 [==============================] - 0s 20ms/step\n",
            "1/1 [==============================] - 0s 19ms/step\n",
            "1/1 [==============================] - 0s 21ms/step\n",
            "1/1 [==============================] - 0s 21ms/step\n",
            "1/1 [==============================] - 0s 21ms/step\n",
            "1/1 [==============================] - 0s 20ms/step\n",
            "1/1 [==============================] - 0s 20ms/step\n",
            "1/1 [==============================] - 0s 20ms/step\n",
            "1/1 [==============================] - 0s 20ms/step\n",
            "1/1 [==============================] - 0s 20ms/step\n",
            "1/1 [==============================] - 0s 20ms/step\n"
          ]
        },
        {
          "name": "stderr",
          "output_type": "stream",
          "text": [
            "2023-05-31 02:54:15 633684638fd9 root[1152] DEBUG Buy at: $54.87\n"
          ]
        },
        {
          "name": "stdout",
          "output_type": "stream",
          "text": [
            "1/1 [==============================] - 0s 20ms/step\n",
            "1/1 [==============================] - 0s 20ms/step\n",
            "1/1 [==============================] - 0s 24ms/step\n",
            "1/1 [==============================] - 0s 22ms/step\n",
            "1/1 [==============================] - 0s 21ms/step\n",
            "1/1 [==============================] - 0s 20ms/step\n",
            "1/1 [==============================] - 0s 22ms/step\n",
            "1/1 [==============================] - 0s 22ms/step\n"
          ]
        },
        {
          "name": "stderr",
          "output_type": "stream",
          "text": [
            "2023-05-31 02:54:15 633684638fd9 root[1152] DEBUG Buy at: $54.91\n"
          ]
        },
        {
          "name": "stdout",
          "output_type": "stream",
          "text": [
            "1/1 [==============================] - 0s 21ms/step\n",
            "1/1 [==============================] - 0s 21ms/step\n",
            "1/1 [==============================] - 0s 20ms/step\n",
            "1/1 [==============================] - 0s 20ms/step\n",
            "1/1 [==============================] - 0s 21ms/step\n",
            "1/1 [==============================] - 0s 20ms/step\n",
            "1/1 [==============================] - 0s 20ms/step\n",
            "1/1 [==============================] - 0s 20ms/step\n",
            "1/1 [==============================] - 0s 20ms/step\n",
            "1/1 [==============================] - 0s 20ms/step\n"
          ]
        },
        {
          "name": "stderr",
          "output_type": "stream",
          "text": [
            "2023-05-31 02:54:16 633684638fd9 root[1152] DEBUG Buy at: $58.03\n"
          ]
        },
        {
          "name": "stdout",
          "output_type": "stream",
          "text": [
            "1/1 [==============================] - 0s 21ms/step\n",
            "1/1 [==============================] - 0s 21ms/step\n",
            "1/1 [==============================] - 0s 21ms/step\n",
            "1/1 [==============================] - 0s 19ms/step\n",
            "1/1 [==============================] - 0s 19ms/step\n",
            "1/1 [==============================] - 0s 19ms/step\n",
            "1/1 [==============================] - 0s 19ms/step\n",
            "1/1 [==============================] - 0s 20ms/step\n",
            "1/1 [==============================] - 0s 19ms/step\n",
            "1/1 [==============================] - 0s 21ms/step\n"
          ]
        },
        {
          "name": "stderr",
          "output_type": "stream",
          "text": [
            "2023-05-31 02:54:16 633684638fd9 root[1152] DEBUG Buy at: $55.20\n"
          ]
        },
        {
          "name": "stdout",
          "output_type": "stream",
          "text": [
            "1/1 [==============================] - 0s 20ms/step\n",
            "1/1 [==============================] - 0s 20ms/step\n",
            "1/1 [==============================] - 0s 20ms/step\n",
            "1/1 [==============================] - 0s 20ms/step\n",
            "1/1 [==============================] - 0s 20ms/step\n",
            "1/1 [==============================] - 0s 21ms/step\n",
            "1/1 [==============================] - 0s 21ms/step\n",
            "1/1 [==============================] - 0s 21ms/step\n",
            "1/1 [==============================] - 0s 21ms/step\n"
          ]
        },
        {
          "name": "stderr",
          "output_type": "stream",
          "text": [
            "2023-05-31 02:54:17 633684638fd9 root[1152] DEBUG Buy at: $59.61\n"
          ]
        },
        {
          "name": "stdout",
          "output_type": "stream",
          "text": [
            "1/1 [==============================] - 0s 20ms/step\n",
            "1/1 [==============================] - 0s 22ms/step\n",
            "1/1 [==============================] - 0s 20ms/step\n",
            "1/1 [==============================] - 0s 19ms/step\n",
            "1/1 [==============================] - 0s 19ms/step\n",
            "1/1 [==============================] - 0s 19ms/step\n",
            "1/1 [==============================] - 0s 19ms/step\n",
            "1/1 [==============================] - 0s 20ms/step\n",
            "1/1 [==============================] - 0s 20ms/step\n",
            "1/1 [==============================] - 0s 20ms/step\n",
            "1/1 [==============================] - 0s 19ms/step\n",
            "1/1 [==============================] - 0s 19ms/step\n",
            "1/1 [==============================] - 0s 20ms/step\n",
            "1/1 [==============================] - 0s 19ms/step\n",
            "1/1 [==============================] - 0s 19ms/step\n"
          ]
        },
        {
          "name": "stderr",
          "output_type": "stream",
          "text": [
            "2023-05-31 02:54:17 633684638fd9 root[1152] DEBUG Buy at: $66.78\n"
          ]
        },
        {
          "name": "stdout",
          "output_type": "stream",
          "text": [
            "1/1 [==============================] - 0s 19ms/step\n",
            "1/1 [==============================] - 0s 20ms/step\n",
            "1/1 [==============================] - 0s 19ms/step\n",
            "1/1 [==============================] - 0s 19ms/step\n",
            "1/1 [==============================] - 0s 19ms/step\n",
            "1/1 [==============================] - 0s 19ms/step\n",
            "1/1 [==============================] - 0s 19ms/step\n",
            "1/1 [==============================] - 0s 20ms/step\n",
            "1/1 [==============================] - 0s 19ms/step\n",
            "1/1 [==============================] - 0s 19ms/step\n",
            "1/1 [==============================] - 0s 20ms/step\n"
          ]
        },
        {
          "name": "stderr",
          "output_type": "stream",
          "text": [
            "2023-05-31 02:54:18 633684638fd9 root[1152] DEBUG Buy at: $67.59\n"
          ]
        },
        {
          "name": "stdout",
          "output_type": "stream",
          "text": [
            "1/1 [==============================] - 0s 19ms/step\n",
            "1/1 [==============================] - 0s 19ms/step\n",
            "1/1 [==============================] - 0s 19ms/step\n",
            "1/1 [==============================] - 0s 20ms/step\n",
            "1/1 [==============================] - 0s 19ms/step\n",
            "1/1 [==============================] - 0s 19ms/step\n"
          ]
        },
        {
          "name": "stderr",
          "output_type": "stream",
          "text": [
            "2023-05-31 02:54:18 633684638fd9 root[1152] DEBUG Buy at: $69.28\n"
          ]
        },
        {
          "name": "stdout",
          "output_type": "stream",
          "text": [
            "1/1 [==============================] - 0s 19ms/step\n"
          ]
        },
        {
          "name": "stderr",
          "output_type": "stream",
          "text": [
            "2023-05-31 02:54:18 633684638fd9 root[1152] DEBUG Buy at: $68.36\n"
          ]
        },
        {
          "name": "stdout",
          "output_type": "stream",
          "text": [
            "1/1 [==============================] - 0s 19ms/step\n"
          ]
        },
        {
          "name": "stderr",
          "output_type": "stream",
          "text": [
            "2023-05-31 02:54:18 633684638fd9 root[1152] DEBUG Buy at: $66.65\n"
          ]
        },
        {
          "name": "stdout",
          "output_type": "stream",
          "text": [
            "1/1 [==============================] - 0s 21ms/step\n",
            "1/1 [==============================] - 0s 21ms/step\n",
            "1/1 [==============================] - 0s 19ms/step\n",
            "1/1 [==============================] - 0s 19ms/step\n",
            "1/1 [==============================] - 0s 20ms/step\n",
            "1/1 [==============================] - 0s 19ms/step\n",
            "1/1 [==============================] - 0s 19ms/step\n",
            "1/1 [==============================] - 0s 19ms/step\n"
          ]
        },
        {
          "name": "stderr",
          "output_type": "stream",
          "text": [
            "2023-05-31 02:54:19 633684638fd9 root[1152] DEBUG Sell at: $64.58 | Position: +$31.66\n"
          ]
        },
        {
          "name": "stdout",
          "output_type": "stream",
          "text": [
            "1/1 [==============================] - 0s 20ms/step\n",
            "1/1 [==============================] - 0s 20ms/step\n",
            "1/1 [==============================] - 0s 21ms/step\n",
            "1/1 [==============================] - 0s 20ms/step\n",
            "1/1 [==============================] - 0s 20ms/step\n",
            "1/1 [==============================] - 0s 20ms/step\n",
            "1/1 [==============================] - 0s 20ms/step\n",
            "1/1 [==============================] - 0s 20ms/step\n",
            "1/1 [==============================] - 0s 20ms/step\n",
            "1/1 [==============================] - 0s 19ms/step\n"
          ]
        },
        {
          "name": "stderr",
          "output_type": "stream",
          "text": [
            "2023-05-31 02:54:19 633684638fd9 root[1152] DEBUG Sell at: $60.35 | Position: +$28.61\n"
          ]
        },
        {
          "name": "stdout",
          "output_type": "stream",
          "text": [
            "1/1 [==============================] - 0s 19ms/step\n",
            "1/1 [==============================] - 0s 20ms/step\n",
            "1/1 [==============================] - 0s 20ms/step\n"
          ]
        },
        {
          "name": "stderr",
          "output_type": "stream",
          "text": [
            "2023-05-31 02:54:19 633684638fd9 root[1152] DEBUG Buy at: $61.04\n"
          ]
        },
        {
          "name": "stdout",
          "output_type": "stream",
          "text": [
            "1/1 [==============================] - 0s 19ms/step\n",
            "1/1 [==============================] - 0s 20ms/step\n"
          ]
        },
        {
          "name": "stderr",
          "output_type": "stream",
          "text": [
            "2023-05-31 02:54:20 633684638fd9 root[1152] DEBUG Buy at: $59.77\n"
          ]
        },
        {
          "name": "stdout",
          "output_type": "stream",
          "text": [
            "1/1 [==============================] - 0s 20ms/step\n",
            "1/1 [==============================] - 0s 21ms/step\n",
            "1/1 [==============================] - 0s 21ms/step\n"
          ]
        },
        {
          "name": "stderr",
          "output_type": "stream",
          "text": [
            "2023-05-31 02:54:20 633684638fd9 root[1152] DEBUG Sell at: $57.08 | Position: +$18.99\n"
          ]
        },
        {
          "name": "stdout",
          "output_type": "stream",
          "text": [
            "1/1 [==============================] - 0s 20ms/step\n",
            "1/1 [==============================] - 0s 20ms/step\n",
            "1/1 [==============================] - 0s 19ms/step\n",
            "1/1 [==============================] - 0s 20ms/step\n",
            "1/1 [==============================] - 0s 19ms/step\n",
            "1/1 [==============================] - 0s 20ms/step\n",
            "1/1 [==============================] - 0s 20ms/step\n"
          ]
        },
        {
          "name": "stderr",
          "output_type": "stream",
          "text": [
            "2023-05-31 02:54:20 633684638fd9 root[1152] DEBUG Buy at: $55.49\n"
          ]
        },
        {
          "name": "stdout",
          "output_type": "stream",
          "text": [
            "1/1 [==============================] - 0s 20ms/step\n",
            "1/1 [==============================] - 0s 20ms/step\n",
            "1/1 [==============================] - 0s 20ms/step\n",
            "1/1 [==============================] - 0s 20ms/step\n",
            "1/1 [==============================] - 0s 19ms/step\n",
            "1/1 [==============================] - 0s 22ms/step\n",
            "1/1 [==============================] - 0s 21ms/step\n",
            "1/1 [==============================] - 0s 19ms/step\n",
            "1/1 [==============================] - 0s 20ms/step\n",
            "1/1 [==============================] - 0s 20ms/step\n",
            "1/1 [==============================] - 0s 20ms/step\n",
            "1/1 [==============================] - 0s 20ms/step\n"
          ]
        },
        {
          "name": "stderr",
          "output_type": "stream",
          "text": [
            "2023-05-31 02:54:21 633684638fd9 root[1152] DEBUG Buy at: $59.82\n"
          ]
        },
        {
          "name": "stdout",
          "output_type": "stream",
          "text": [
            "1/1 [==============================] - 0s 20ms/step\n",
            "1/1 [==============================] - 0s 19ms/step\n",
            "1/1 [==============================] - 0s 20ms/step\n"
          ]
        },
        {
          "name": "stderr",
          "output_type": "stream",
          "text": [
            "2023-05-31 02:54:21 633684638fd9 root[1152] DEBUG Sell at: $55.07 | Position: +$20.89\n"
          ]
        },
        {
          "name": "stdout",
          "output_type": "stream",
          "text": [
            "1/1 [==============================] - 0s 21ms/step\n",
            "1/1 [==============================] - 0s 20ms/step\n",
            "1/1 [==============================] - 0s 19ms/step\n"
          ]
        },
        {
          "name": "stderr",
          "output_type": "stream",
          "text": [
            "2023-05-31 02:54:21 633684638fd9 root[1152] DEBUG Buy at: $54.16\n"
          ]
        },
        {
          "name": "stdout",
          "output_type": "stream",
          "text": [
            "1/1 [==============================] - 0s 20ms/step\n",
            "1/1 [==============================] - 0s 20ms/step\n",
            "1/1 [==============================] - 0s 20ms/step\n",
            "1/1 [==============================] - 0s 20ms/step\n",
            "1/1 [==============================] - 0s 19ms/step\n",
            "1/1 [==============================] - 0s 19ms/step\n"
          ]
        },
        {
          "name": "stderr",
          "output_type": "stream",
          "text": [
            "2023-05-31 02:54:21 633684638fd9 root[1152] DEBUG Buy at: $54.57\n"
          ]
        },
        {
          "name": "stdout",
          "output_type": "stream",
          "text": [
            "1/1 [==============================] - 0s 19ms/step\n",
            "1/1 [==============================] - 0s 20ms/step\n",
            "1/1 [==============================] - 0s 20ms/step\n",
            "1/1 [==============================] - 0s 19ms/step\n",
            "1/1 [==============================] - 0s 19ms/step\n"
          ]
        },
        {
          "name": "stderr",
          "output_type": "stream",
          "text": [
            "2023-05-31 02:54:22 633684638fd9 root[1152] DEBUG Buy at: $52.44\n"
          ]
        },
        {
          "name": "stdout",
          "output_type": "stream",
          "text": [
            "1/1 [==============================] - 0s 20ms/step\n"
          ]
        },
        {
          "name": "stderr",
          "output_type": "stream",
          "text": [
            "2023-05-31 02:54:22 633684638fd9 root[1152] DEBUG Sell at: $52.65 | Position: +$16.78\n"
          ]
        },
        {
          "name": "stdout",
          "output_type": "stream",
          "text": [
            "1/1 [==============================] - 0s 19ms/step\n",
            "1/1 [==============================] - 0s 19ms/step\n",
            "1/1 [==============================] - 0s 19ms/step\n",
            "1/1 [==============================] - 0s 20ms/step\n",
            "1/1 [==============================] - 0s 20ms/step\n",
            "1/1 [==============================] - 0s 19ms/step\n",
            "1/1 [==============================] - 0s 20ms/step\n"
          ]
        },
        {
          "name": "stderr",
          "output_type": "stream",
          "text": [
            "2023-05-31 02:54:22 633684638fd9 root[1152] DEBUG Buy at: $53.69\n"
          ]
        },
        {
          "name": "stdout",
          "output_type": "stream",
          "text": [
            "1/1 [==============================] - 0s 21ms/step\n"
          ]
        },
        {
          "name": "stderr",
          "output_type": "stream",
          "text": [
            "2023-05-31 02:54:22 633684638fd9 root[1152] DEBUG Buy at: $52.86\n"
          ]
        },
        {
          "name": "stdout",
          "output_type": "stream",
          "text": [
            "1/1 [==============================] - 0s 21ms/step\n"
          ]
        },
        {
          "name": "stderr",
          "output_type": "stream",
          "text": [
            "2023-05-31 02:54:22 633684638fd9 root[1152] DEBUG Sell at: $53.51 | Position: +$14.94\n"
          ]
        },
        {
          "name": "stdout",
          "output_type": "stream",
          "text": [
            "1/1 [==============================] - 0s 20ms/step\n",
            "1/1 [==============================] - 0s 19ms/step\n",
            "1/1 [==============================] - 0s 19ms/step\n",
            "1/1 [==============================] - 0s 19ms/step\n",
            "1/1 [==============================] - 0s 20ms/step\n",
            "1/1 [==============================] - 0s 19ms/step\n"
          ]
        },
        {
          "name": "stderr",
          "output_type": "stream",
          "text": [
            "2023-05-31 02:54:23 633684638fd9 root[1152] DEBUG Buy at: $51.11\n"
          ]
        },
        {
          "name": "stdout",
          "output_type": "stream",
          "text": [
            "1/1 [==============================] - 0s 19ms/step\n",
            "1/1 [==============================] - 0s 19ms/step\n",
            "1/1 [==============================] - 0s 21ms/step\n",
            "1/1 [==============================] - 0s 21ms/step\n"
          ]
        },
        {
          "name": "stderr",
          "output_type": "stream",
          "text": [
            "2023-05-31 02:54:23 633684638fd9 root[1152] DEBUG Sell at: $44.96 | Position: +$6.26\n"
          ]
        },
        {
          "name": "stdout",
          "output_type": "stream",
          "text": [
            "1/1 [==============================] - 0s 20ms/step\n"
          ]
        },
        {
          "name": "stderr",
          "output_type": "stream",
          "text": [
            "2023-05-31 02:54:23 633684638fd9 root[1152] DEBUG Sell at: $45.98 | Position: +$8.03\n"
          ]
        },
        {
          "name": "stdout",
          "output_type": "stream",
          "text": [
            "1/1 [==============================] - 0s 20ms/step\n"
          ]
        },
        {
          "name": "stderr",
          "output_type": "stream",
          "text": [
            "2023-05-31 02:54:23 633684638fd9 root[1152] DEBUG Buy at: $46.84\n"
          ]
        },
        {
          "name": "stdout",
          "output_type": "stream",
          "text": [
            "1/1 [==============================] - 0s 19ms/step\n",
            "1/1 [==============================] - 0s 19ms/step\n",
            "1/1 [==============================] - 0s 19ms/step\n",
            "1/1 [==============================] - 0s 19ms/step\n",
            "1/1 [==============================] - 0s 19ms/step\n",
            "1/1 [==============================] - 0s 20ms/step\n",
            "1/1 [==============================] - 0s 20ms/step\n",
            "1/1 [==============================] - 0s 20ms/step\n",
            "1/1 [==============================] - 0s 20ms/step\n",
            "1/1 [==============================] - 0s 20ms/step\n",
            "1/1 [==============================] - 0s 20ms/step\n",
            "1/1 [==============================] - 0s 20ms/step\n",
            "1/1 [==============================] - 0s 20ms/step\n"
          ]
        },
        {
          "name": "stderr",
          "output_type": "stream",
          "text": [
            "2023-05-31 02:54:24 633684638fd9 root[1152] DEBUG Buy at: $49.02\n"
          ]
        },
        {
          "name": "stdout",
          "output_type": "stream",
          "text": [
            "1/1 [==============================] - 0s 19ms/step\n",
            "1/1 [==============================] - 0s 20ms/step\n"
          ]
        },
        {
          "name": "stderr",
          "output_type": "stream",
          "text": [
            "2023-05-31 02:54:24 633684638fd9 root[1152] DEBUG Buy at: $47.82\n"
          ]
        },
        {
          "name": "stdout",
          "output_type": "stream",
          "text": [
            "1/1 [==============================] - 0s 20ms/step\n",
            "1/1 [==============================] - 0s 20ms/step\n",
            "1/1 [==============================] - 0s 20ms/step\n",
            "1/1 [==============================] - 0s 19ms/step\n",
            "1/1 [==============================] - 0s 19ms/step\n",
            "1/1 [==============================] - 0s 19ms/step\n",
            "1/1 [==============================] - 0s 20ms/step\n",
            "1/1 [==============================] - 0s 21ms/step\n",
            "1/1 [==============================] - 0s 21ms/step\n",
            "1/1 [==============================] - 0s 21ms/step\n",
            "1/1 [==============================] - 0s 20ms/step\n",
            "1/1 [==============================] - 0s 19ms/step\n",
            "1/1 [==============================] - 0s 19ms/step\n",
            "1/1 [==============================] - 0s 20ms/step\n",
            "1/1 [==============================] - 0s 20ms/step\n",
            "1/1 [==============================] - 0s 20ms/step\n",
            "1/1 [==============================] - 0s 22ms/step\n"
          ]
        },
        {
          "name": "stderr",
          "output_type": "stream",
          "text": [
            "2023-05-31 02:54:25 633684638fd9 root[1152] DEBUG Buy at: $47.27\n"
          ]
        },
        {
          "name": "stdout",
          "output_type": "stream",
          "text": [
            "1/1 [==============================] - 0s 22ms/step\n",
            "1/1 [==============================] - 0s 21ms/step\n",
            "1/1 [==============================] - 0s 20ms/step\n",
            "1/1 [==============================] - 0s 19ms/step\n",
            "1/1 [==============================] - 0s 19ms/step\n",
            "1/1 [==============================] - 0s 19ms/step\n"
          ]
        },
        {
          "name": "stderr",
          "output_type": "stream",
          "text": [
            "2023-05-31 02:54:25 633684638fd9 root[1152] DEBUG Buy at: $49.39\n"
          ]
        },
        {
          "name": "stdout",
          "output_type": "stream",
          "text": [
            "1/1 [==============================] - 0s 19ms/step\n",
            "1/1 [==============================] - 0s 19ms/step\n",
            "1/1 [==============================] - 0s 20ms/step\n",
            "1/1 [==============================] - 0s 22ms/step\n",
            "1/1 [==============================] - 0s 21ms/step\n"
          ]
        },
        {
          "name": "stderr",
          "output_type": "stream",
          "text": [
            "2023-05-31 02:54:25 633684638fd9 root[1152] DEBUG Buy at: $45.79\n"
          ]
        },
        {
          "name": "stdout",
          "output_type": "stream",
          "text": [
            "1/1 [==============================] - 0s 20ms/step\n"
          ]
        },
        {
          "name": "stderr",
          "output_type": "stream",
          "text": [
            "2023-05-31 02:54:25 633684638fd9 root[1152] DEBUG Buy at: $46.02\n"
          ]
        },
        {
          "name": "stdout",
          "output_type": "stream",
          "text": [
            "1/1 [==============================] - 0s 21ms/step\n",
            "1/1 [==============================] - 0s 20ms/step\n",
            "1/1 [==============================] - 0s 20ms/step\n",
            "1/1 [==============================] - 0s 19ms/step\n",
            "1/1 [==============================] - 0s 20ms/step\n",
            "1/1 [==============================] - 0s 19ms/step\n",
            "1/1 [==============================] - 0s 20ms/step\n",
            "1/1 [==============================] - 0s 20ms/step\n",
            "1/1 [==============================] - 0s 20ms/step\n",
            "1/1 [==============================] - 0s 20ms/step\n"
          ]
        },
        {
          "name": "stderr",
          "output_type": "stream",
          "text": [
            "2023-05-31 02:54:26 633684638fd9 root[1152] DEBUG Buy at: $42.91\n"
          ]
        },
        {
          "name": "stdout",
          "output_type": "stream",
          "text": [
            "1/1 [==============================] - 0s 19ms/step\n"
          ]
        },
        {
          "name": "stderr",
          "output_type": "stream",
          "text": [
            "2023-05-31 02:54:26 633684638fd9 root[1152] DEBUG Sell at: $41.77 | Position: +$5.36\n"
          ]
        },
        {
          "name": "stdout",
          "output_type": "stream",
          "text": [
            "1/1 [==============================] - 0s 19ms/step\n",
            "1/1 [==============================] - 0s 19ms/step\n"
          ]
        },
        {
          "name": "stderr",
          "output_type": "stream",
          "text": [
            "2023-05-31 02:54:26 633684638fd9 root[1152] DEBUG Buy at: $42.47\n"
          ]
        },
        {
          "name": "stdout",
          "output_type": "stream",
          "text": [
            "1/1 [==============================] - 0s 20ms/step\n",
            "1/1 [==============================] - 0s 20ms/step\n",
            "1/1 [==============================] - 0s 21ms/step\n",
            "1/1 [==============================] - 0s 21ms/step\n",
            "1/1 [==============================] - 0s 19ms/step\n",
            "1/1 [==============================] - 0s 19ms/step\n",
            "1/1 [==============================] - 0s 19ms/step\n",
            "1/1 [==============================] - 0s 20ms/step\n",
            "1/1 [==============================] - 0s 20ms/step\n",
            "1/1 [==============================] - 0s 19ms/step\n",
            "1/1 [==============================] - 0s 21ms/step\n"
          ]
        },
        {
          "name": "stderr",
          "output_type": "stream",
          "text": [
            "2023-05-31 02:54:27 633684638fd9 root[1152] DEBUG Buy at: $48.86\n"
          ]
        },
        {
          "name": "stdout",
          "output_type": "stream",
          "text": [
            "1/1 [==============================] - 0s 22ms/step\n",
            "1/1 [==============================] - 0s 21ms/step\n",
            "1/1 [==============================] - 0s 20ms/step\n",
            "1/1 [==============================] - 0s 19ms/step\n",
            "1/1 [==============================] - 0s 19ms/step\n",
            "1/1 [==============================] - 0s 19ms/step\n"
          ]
        },
        {
          "name": "stderr",
          "output_type": "stream",
          "text": [
            "2023-05-31 02:54:27 633684638fd9 root[1152] DEBUG Sell at: $47.89 | Position: -$0.31\n"
          ]
        },
        {
          "name": "stdout",
          "output_type": "stream",
          "text": [
            "1/1 [==============================] - 0s 20ms/step\n",
            "1/1 [==============================] - 0s 20ms/step\n"
          ]
        },
        {
          "name": "stderr",
          "output_type": "stream",
          "text": [
            "2023-05-31 02:54:27 633684638fd9 root[1152] DEBUG Buy at: $48.38\n"
          ]
        },
        {
          "name": "stdout",
          "output_type": "stream",
          "text": [
            "1/1 [==============================] - 0s 20ms/step\n",
            "1/1 [==============================] - 0s 22ms/step\n",
            "1/1 [==============================] - 0s 21ms/step\n",
            "1/1 [==============================] - 0s 21ms/step\n",
            "1/1 [==============================] - 0s 20ms/step\n",
            "1/1 [==============================] - 0s 21ms/step\n",
            "1/1 [==============================] - 0s 20ms/step\n",
            "1/1 [==============================] - 0s 23ms/step\n",
            "1/1 [==============================] - 0s 21ms/step\n",
            "1/1 [==============================] - 0s 20ms/step\n",
            "1/1 [==============================] - 0s 24ms/step\n",
            "1/1 [==============================] - 0s 25ms/step\n",
            "1/1 [==============================] - 0s 25ms/step\n",
            "1/1 [==============================] - 0s 25ms/step\n",
            "1/1 [==============================] - 0s 25ms/step\n",
            "1/1 [==============================] - 0s 25ms/step\n",
            "1/1 [==============================] - 0s 26ms/step\n",
            "1/1 [==============================] - 0s 26ms/step\n",
            "1/1 [==============================] - 0s 25ms/step\n",
            "1/1 [==============================] - 0s 25ms/step\n",
            "1/1 [==============================] - 0s 24ms/step\n",
            "1/1 [==============================] - 0s 24ms/step\n",
            "1/1 [==============================] - 0s 26ms/step\n",
            "1/1 [==============================] - 0s 25ms/step\n",
            "1/1 [==============================] - 0s 24ms/step\n",
            "1/1 [==============================] - 0s 25ms/step\n",
            "1/1 [==============================] - 0s 25ms/step\n",
            "1/1 [==============================] - 0s 24ms/step\n",
            "1/1 [==============================] - 0s 25ms/step\n",
            "1/1 [==============================] - 0s 24ms/step\n",
            "1/1 [==============================] - 0s 25ms/step\n",
            "1/1 [==============================] - 0s 25ms/step\n",
            "1/1 [==============================] - 0s 24ms/step\n",
            "1/1 [==============================] - 0s 26ms/step\n",
            "1/1 [==============================] - 0s 26ms/step\n",
            "1/1 [==============================] - 0s 25ms/step\n"
          ]
        },
        {
          "name": "stderr",
          "output_type": "stream",
          "text": [
            "2023-05-31 02:54:29 633684638fd9 root[1152] DEBUG Buy at: $46.99\n"
          ]
        },
        {
          "name": "stdout",
          "output_type": "stream",
          "text": [
            "1/1 [==============================] - 0s 25ms/step\n",
            "1/1 [==============================] - 0s 25ms/step\n",
            "1/1 [==============================] - 0s 25ms/step\n",
            "1/1 [==============================] - 0s 24ms/step\n",
            "1/1 [==============================] - 0s 24ms/step\n",
            "1/1 [==============================] - 0s 27ms/step\n",
            "1/1 [==============================] - 0s 27ms/step\n",
            "1/1 [==============================] - 0s 25ms/step\n",
            "1/1 [==============================] - 0s 26ms/step\n",
            "1/1 [==============================] - 0s 25ms/step\n",
            "1/1 [==============================] - 0s 26ms/step\n",
            "1/1 [==============================] - 0s 25ms/step\n",
            "1/1 [==============================] - 0s 25ms/step\n",
            "1/1 [==============================] - 0s 25ms/step\n",
            "1/1 [==============================] - 0s 26ms/step\n",
            "1/1 [==============================] - 0s 26ms/step\n",
            "1/1 [==============================] - 0s 26ms/step\n",
            "1/1 [==============================] - 0s 26ms/step\n",
            "1/1 [==============================] - 0s 25ms/step\n",
            "1/1 [==============================] - 0s 25ms/step\n",
            "1/1 [==============================] - 0s 26ms/step\n",
            "1/1 [==============================] - 0s 25ms/step\n",
            "1/1 [==============================] - 0s 24ms/step\n",
            "1/1 [==============================] - 0s 23ms/step\n",
            "1/1 [==============================] - 0s 23ms/step\n",
            "1/1 [==============================] - 0s 23ms/step\n",
            "1/1 [==============================] - 0s 24ms/step\n",
            "1/1 [==============================] - 0s 25ms/step\n",
            "1/1 [==============================] - 0s 23ms/step\n"
          ]
        },
        {
          "name": "stderr",
          "output_type": "stream",
          "text": [
            "2023-05-31 02:54:31 633684638fd9 root[1152] DEBUG Buy at: $58.65\n"
          ]
        },
        {
          "name": "stdout",
          "output_type": "stream",
          "text": [
            "1/1 [==============================] - 0s 23ms/step\n",
            "1/1 [==============================] - 0s 24ms/step\n"
          ]
        },
        {
          "name": "stderr",
          "output_type": "stream",
          "text": [
            "2023-05-31 02:54:31 633684638fd9 root[1152] DEBUG Buy at: $58.87\n"
          ]
        },
        {
          "name": "stdout",
          "output_type": "stream",
          "text": [
            "1/1 [==============================] - 0s 23ms/step\n",
            "1/1 [==============================] - 0s 24ms/step\n",
            "1/1 [==============================] - 0s 24ms/step\n",
            "1/1 [==============================] - 0s 24ms/step\n",
            "1/1 [==============================] - 0s 24ms/step\n",
            "1/1 [==============================] - 0s 22ms/step\n",
            "1/1 [==============================] - 0s 22ms/step\n",
            "1/1 [==============================] - 0s 24ms/step\n",
            "1/1 [==============================] - 0s 25ms/step\n",
            "1/1 [==============================] - 0s 25ms/step\n",
            "1/1 [==============================] - 0s 25ms/step\n",
            "1/1 [==============================] - 0s 28ms/step\n",
            "1/1 [==============================] - 0s 25ms/step\n"
          ]
        },
        {
          "name": "stderr",
          "output_type": "stream",
          "text": [
            "2023-05-31 02:54:32 633684638fd9 root[1152] DEBUG Sell at: $54.75 | Position: +$3.84\n"
          ]
        },
        {
          "name": "stdout",
          "output_type": "stream",
          "text": [
            "1/1 [==============================] - 0s 25ms/step\n",
            "1/1 [==============================] - 0s 24ms/step\n"
          ]
        },
        {
          "name": "stderr",
          "output_type": "stream",
          "text": [
            "2023-05-31 02:54:32 633684638fd9 root[1152] DEBUG Buy at: $54.42\n"
          ]
        },
        {
          "name": "stdout",
          "output_type": "stream",
          "text": [
            "1/1 [==============================] - 0s 25ms/step\n"
          ]
        },
        {
          "name": "stderr",
          "output_type": "stream",
          "text": [
            "2023-05-31 02:54:32 633684638fd9 root[1152] DEBUG Buy at: $52.69\n"
          ]
        },
        {
          "name": "stdout",
          "output_type": "stream",
          "text": [
            "1/1 [==============================] - 0s 25ms/step\n",
            "1/1 [==============================] - 0s 24ms/step\n",
            "1/1 [==============================] - 0s 25ms/step\n",
            "1/1 [==============================] - 0s 25ms/step\n",
            "1/1 [==============================] - 0s 24ms/step\n",
            "1/1 [==============================] - 0s 24ms/step\n",
            "1/1 [==============================] - 0s 23ms/step\n",
            "1/1 [==============================] - 0s 24ms/step\n",
            "1/1 [==============================] - 0s 23ms/step\n"
          ]
        },
        {
          "name": "stderr",
          "output_type": "stream",
          "text": [
            "2023-05-31 02:54:33 633684638fd9 root[1152] DEBUG Buy at: $56.51\n"
          ]
        },
        {
          "name": "stdout",
          "output_type": "stream",
          "text": [
            "1/1 [==============================] - 0s 28ms/step\n"
          ]
        },
        {
          "name": "stderr",
          "output_type": "stream",
          "text": [
            "2023-05-31 02:54:33 633684638fd9 root[1152] DEBUG Buy at: $55.80\n"
          ]
        },
        {
          "name": "stdout",
          "output_type": "stream",
          "text": [
            "1/1 [==============================] - 0s 24ms/step\n",
            "1/1 [==============================] - 0s 23ms/step\n",
            "1/1 [==============================] - 0s 23ms/step\n",
            "1/1 [==============================] - 0s 23ms/step\n",
            "1/1 [==============================] - 0s 22ms/step\n",
            "1/1 [==============================] - 0s 25ms/step\n"
          ]
        },
        {
          "name": "stderr",
          "output_type": "stream",
          "text": [
            "2023-05-31 02:54:33 633684638fd9 root[1152] DEBUG Buy at: $56.29\n"
          ]
        },
        {
          "name": "stdout",
          "output_type": "stream",
          "text": [
            "1/1 [==============================] - 0s 23ms/step\n",
            "1/1 [==============================] - 0s 23ms/step\n",
            "1/1 [==============================] - 0s 21ms/step\n",
            "1/1 [==============================] - 0s 22ms/step\n",
            "1/1 [==============================] - 0s 22ms/step\n",
            "1/1 [==============================] - 0s 21ms/step\n",
            "1/1 [==============================] - 0s 21ms/step\n",
            "1/1 [==============================] - 0s 21ms/step\n",
            "1/1 [==============================] - 0s 21ms/step\n",
            "1/1 [==============================] - 0s 23ms/step\n",
            "1/1 [==============================] - 0s 21ms/step\n",
            "1/1 [==============================] - 0s 21ms/step\n",
            "1/1 [==============================] - 0s 22ms/step\n",
            "1/1 [==============================] - 0s 21ms/step\n",
            "1/1 [==============================] - 0s 21ms/step\n",
            "1/1 [==============================] - 0s 21ms/step\n",
            "1/1 [==============================] - 0s 22ms/step\n",
            "1/1 [==============================] - 0s 22ms/step\n",
            "1/1 [==============================] - 0s 22ms/step\n",
            "1/1 [==============================] - 0s 21ms/step\n",
            "1/1 [==============================] - 0s 20ms/step\n",
            "1/1 [==============================] - 0s 21ms/step\n",
            "1/1 [==============================] - 0s 20ms/step\n",
            "1/1 [==============================] - 0s 20ms/step\n",
            "1/1 [==============================] - 0s 22ms/step\n",
            "1/1 [==============================] - 0s 21ms/step\n",
            "1/1 [==============================] - 0s 22ms/step\n",
            "1/1 [==============================] - 0s 20ms/step\n",
            "1/1 [==============================] - 0s 20ms/step\n",
            "1/1 [==============================] - 0s 20ms/step\n",
            "1/1 [==============================] - 0s 22ms/step\n"
          ]
        },
        {
          "name": "stderr",
          "output_type": "stream",
          "text": [
            "2023-05-31 02:54:35 633684638fd9 root[1152] DEBUG Buy at: $62.83\n"
          ]
        },
        {
          "name": "stdout",
          "output_type": "stream",
          "text": [
            "1/1 [==============================] - 0s 21ms/step\n",
            "1/1 [==============================] - 0s 20ms/step\n",
            "1/1 [==============================] - 0s 20ms/step\n",
            "1/1 [==============================] - 0s 19ms/step\n",
            "1/1 [==============================] - 0s 22ms/step\n",
            "1/1 [==============================] - 0s 20ms/step\n",
            "1/1 [==============================] - 0s 21ms/step\n",
            "1/1 [==============================] - 0s 19ms/step\n",
            "1/1 [==============================] - 0s 20ms/step\n",
            "1/1 [==============================] - 0s 21ms/step\n",
            "1/1 [==============================] - 0s 19ms/step\n",
            "1/1 [==============================] - 0s 19ms/step\n",
            "1/1 [==============================] - 0s 19ms/step\n",
            "1/1 [==============================] - 0s 21ms/step\n",
            "1/1 [==============================] - 0s 20ms/step\n",
            "1/1 [==============================] - 0s 20ms/step\n"
          ]
        },
        {
          "name": "stderr",
          "output_type": "stream",
          "text": [
            "2023-05-31 02:54:36 633684638fd9 root[1152] DEBUG Buy at: $67.64\n"
          ]
        },
        {
          "name": "stdout",
          "output_type": "stream",
          "text": [
            "1/1 [==============================] - 0s 19ms/step\n",
            "1/1 [==============================] - 0s 19ms/step\n",
            "1/1 [==============================] - 0s 20ms/step\n",
            "1/1 [==============================] - 0s 19ms/step\n",
            "1/1 [==============================] - 0s 20ms/step\n",
            "1/1 [==============================] - 0s 20ms/step\n",
            "1/1 [==============================] - 0s 21ms/step\n",
            "1/1 [==============================] - 0s 20ms/step\n",
            "1/1 [==============================] - 0s 20ms/step\n",
            "1/1 [==============================] - 0s 19ms/step\n",
            "1/1 [==============================] - 0s 20ms/step\n",
            "1/1 [==============================] - 0s 19ms/step\n",
            "1/1 [==============================] - 0s 19ms/step\n"
          ]
        },
        {
          "name": "stderr",
          "output_type": "stream",
          "text": [
            "2023-05-31 02:54:37 633684638fd9 root[1152] DEBUG Sell at: $66.00 | Position: +$15.06\n"
          ]
        },
        {
          "name": "stdout",
          "output_type": "stream",
          "text": [
            "1/1 [==============================] - 0s 19ms/step\n",
            "1/1 [==============================] - 0s 19ms/step\n",
            "1/1 [==============================] - 0s 20ms/step\n",
            "1/1 [==============================] - 0s 20ms/step\n",
            "1/1 [==============================] - 0s 19ms/step\n",
            "1/1 [==============================] - 0s 21ms/step\n",
            "1/1 [==============================] - 0s 19ms/step\n",
            "1/1 [==============================] - 0s 20ms/step\n",
            "1/1 [==============================] - 0s 19ms/step\n",
            "1/1 [==============================] - 0s 19ms/step\n",
            "1/1 [==============================] - 0s 20ms/step\n",
            "1/1 [==============================] - 0s 21ms/step\n",
            "1/1 [==============================] - 0s 20ms/step\n"
          ]
        },
        {
          "name": "stderr",
          "output_type": "stream",
          "text": [
            "2023-05-31 02:54:37 633684638fd9 root[1152] DEBUG Buy at: $67.86\n"
          ]
        },
        {
          "name": "stdout",
          "output_type": "stream",
          "text": [
            "1/1 [==============================] - 0s 20ms/step\n",
            "1/1 [==============================] - 0s 19ms/step\n",
            "1/1 [==============================] - 0s 20ms/step\n",
            "1/1 [==============================] - 0s 21ms/step\n"
          ]
        },
        {
          "name": "stderr",
          "output_type": "stream",
          "text": [
            "2023-05-31 02:54:37 633684638fd9 root[1152] DEBUG Sell at: $61.10 | Position: +$2.92\n"
          ]
        },
        {
          "name": "stdout",
          "output_type": "stream",
          "text": [
            "1/1 [==============================] - 0s 20ms/step\n"
          ]
        },
        {
          "name": "stderr",
          "output_type": "stream",
          "text": [
            "2023-05-31 02:54:38 633684638fd9 root[1152] DEBUG Sell at: $60.98 | Position: +$0.56\n"
          ]
        },
        {
          "name": "stdout",
          "output_type": "stream",
          "text": [
            "1/1 [==============================] - 0s 20ms/step\n"
          ]
        },
        {
          "name": "stderr",
          "output_type": "stream",
          "text": [
            "2023-05-31 02:54:38 633684638fd9 root[1152] DEBUG Buy at: $61.08\n"
          ]
        },
        {
          "name": "stdout",
          "output_type": "stream",
          "text": [
            "1/1 [==============================] - 0s 19ms/step\n",
            "1/1 [==============================] - 0s 20ms/step\n",
            "1/1 [==============================] - 0s 20ms/step\n",
            "1/1 [==============================] - 0s 21ms/step\n",
            "1/1 [==============================] - 0s 21ms/step\n",
            "1/1 [==============================] - 0s 20ms/step\n",
            "1/1 [==============================] - 0s 19ms/step\n",
            "1/1 [==============================] - 0s 19ms/step\n",
            "1/1 [==============================] - 0s 20ms/step\n",
            "1/1 [==============================] - 0s 20ms/step\n",
            "1/1 [==============================] - 0s 20ms/step\n",
            "1/1 [==============================] - 0s 20ms/step\n",
            "1/1 [==============================] - 0s 21ms/step\n",
            "1/1 [==============================] - 0s 21ms/step\n",
            "1/1 [==============================] - 0s 20ms/step\n",
            "1/1 [==============================] - 0s 21ms/step\n",
            "1/1 [==============================] - 0s 21ms/step\n",
            "1/1 [==============================] - 0s 20ms/step\n",
            "1/1 [==============================] - 0s 20ms/step\n",
            "1/1 [==============================] - 0s 20ms/step\n",
            "1/1 [==============================] - 0s 20ms/step\n",
            "1/1 [==============================] - 0s 20ms/step\n",
            "1/1 [==============================] - 0s 20ms/step\n",
            "1/1 [==============================] - 0s 20ms/step\n",
            "1/1 [==============================] - 0s 20ms/step\n",
            "1/1 [==============================] - 0s 20ms/step\n",
            "1/1 [==============================] - 0s 20ms/step\n",
            "1/1 [==============================] - 0s 19ms/step\n",
            "1/1 [==============================] - 0s 20ms/step\n",
            "1/1 [==============================] - 0s 21ms/step\n",
            "1/1 [==============================] - 0s 20ms/step\n",
            "1/1 [==============================] - 0s 20ms/step\n",
            "1/1 [==============================] - 0s 19ms/step\n",
            "1/1 [==============================] - 0s 21ms/step\n",
            "1/1 [==============================] - 0s 21ms/step\n",
            "1/1 [==============================] - 0s 21ms/step\n",
            "1/1 [==============================] - 0s 19ms/step\n",
            "1/1 [==============================] - 0s 21ms/step\n",
            "1/1 [==============================] - 0s 22ms/step\n",
            "1/1 [==============================] - 0s 21ms/step\n"
          ]
        },
        {
          "name": "stderr",
          "output_type": "stream",
          "text": [
            "2023-05-31 02:54:40 633684638fd9 root[1152] DEBUG Buy at: $68.33\n"
          ]
        },
        {
          "name": "stdout",
          "output_type": "stream",
          "text": [
            "1/1 [==============================] - 0s 20ms/step\n",
            "1/1 [==============================] - 0s 20ms/step\n",
            "1/1 [==============================] - 0s 20ms/step\n",
            "1/1 [==============================] - 0s 20ms/step\n",
            "1/1 [==============================] - 0s 21ms/step\n",
            "1/1 [==============================] - 0s 20ms/step\n",
            "1/1 [==============================] - 0s 20ms/step\n"
          ]
        },
        {
          "name": "stderr",
          "output_type": "stream",
          "text": [
            "2023-05-31 02:54:40 633684638fd9 root[1152] DEBUG Buy at: $67.52\n"
          ]
        },
        {
          "name": "stdout",
          "output_type": "stream",
          "text": [
            "1/1 [==============================] - 0s 20ms/step\n",
            "1/1 [==============================] - 0s 20ms/step\n",
            "1/1 [==============================] - 0s 20ms/step\n",
            "1/1 [==============================] - 0s 20ms/step\n",
            "1/1 [==============================] - 0s 19ms/step\n",
            "1/1 [==============================] - 0s 19ms/step\n",
            "1/1 [==============================] - 0s 19ms/step\n",
            "1/1 [==============================] - 0s 21ms/step\n",
            "1/1 [==============================] - 0s 21ms/step\n",
            "1/1 [==============================] - 0s 21ms/step\n",
            "1/1 [==============================] - 0s 20ms/step\n",
            "1/1 [==============================] - 0s 20ms/step\n",
            "1/1 [==============================] - 0s 21ms/step\n",
            "1/1 [==============================] - 0s 20ms/step\n",
            "1/1 [==============================] - 0s 20ms/step\n",
            "1/1 [==============================] - 0s 20ms/step\n"
          ]
        },
        {
          "name": "stderr",
          "output_type": "stream",
          "text": [
            "2023-05-31 02:54:41 633684638fd9 root[1152] DEBUG Buy at: $75.44\n"
          ]
        },
        {
          "name": "stdout",
          "output_type": "stream",
          "text": [
            "1/1 [==============================] - 0s 20ms/step\n",
            "1/1 [==============================] - 0s 20ms/step\n",
            "1/1 [==============================] - 0s 20ms/step\n",
            "1/1 [==============================] - 0s 20ms/step\n",
            "1/1 [==============================] - 0s 20ms/step\n",
            "1/1 [==============================] - 0s 20ms/step\n",
            "1/1 [==============================] - 0s 20ms/step\n",
            "1/1 [==============================] - 0s 19ms/step\n",
            "1/1 [==============================] - 0s 20ms/step\n",
            "1/1 [==============================] - 0s 20ms/step\n",
            "1/1 [==============================] - 0s 20ms/step\n",
            "1/1 [==============================] - 0s 19ms/step\n",
            "1/1 [==============================] - 0s 19ms/step\n",
            "1/1 [==============================] - 0s 19ms/step\n",
            "1/1 [==============================] - 0s 19ms/step\n",
            "1/1 [==============================] - 0s 20ms/step\n",
            "1/1 [==============================] - 0s 20ms/step\n",
            "1/1 [==============================] - 0s 19ms/step\n",
            "1/1 [==============================] - 0s 21ms/step\n",
            "1/1 [==============================] - 0s 19ms/step\n",
            "1/1 [==============================] - 0s 20ms/step\n",
            "1/1 [==============================] - 0s 19ms/step\n"
          ]
        },
        {
          "name": "stderr",
          "output_type": "stream",
          "text": [
            "2023-05-31 02:54:42 633684638fd9 root[1152] DEBUG Buy at: $85.41\n"
          ]
        },
        {
          "name": "stdout",
          "output_type": "stream",
          "text": [
            "1/1 [==============================] - 0s 19ms/step\n",
            "1/1 [==============================] - 0s 19ms/step\n",
            "1/1 [==============================] - 0s 19ms/step\n",
            "1/1 [==============================] - 0s 21ms/step\n",
            "1/1 [==============================] - 0s 20ms/step\n",
            "1/1 [==============================] - 0s 20ms/step\n"
          ]
        },
        {
          "name": "stderr",
          "output_type": "stream",
          "text": [
            "2023-05-31 02:54:42 633684638fd9 root[1152] DEBUG Sell at: $85.57 | Position: +$27.47\n"
          ]
        },
        {
          "name": "stdout",
          "output_type": "stream",
          "text": [
            "1/1 [==============================] - 0s 20ms/step\n"
          ]
        },
        {
          "name": "stderr",
          "output_type": "stream",
          "text": [
            "2023-05-31 02:54:43 633684638fd9 root[1152] DEBUG Buy at: $84.64\n"
          ]
        },
        {
          "name": "stdout",
          "output_type": "stream",
          "text": [
            "1/1 [==============================] - 0s 20ms/step\n",
            "1/1 [==============================] - 0s 20ms/step\n"
          ]
        },
        {
          "name": "stderr",
          "output_type": "stream",
          "text": [
            "2023-05-31 02:54:43 633684638fd9 root[1152] DEBUG Buy at: $85.38\n"
          ]
        },
        {
          "name": "stdout",
          "output_type": "stream",
          "text": [
            "1/1 [==============================] - 0s 19ms/step\n",
            "1/1 [==============================] - 0s 19ms/step\n",
            "1/1 [==============================] - 0s 19ms/step\n",
            "1/1 [==============================] - 0s 19ms/step\n",
            "1/1 [==============================] - 0s 19ms/step\n",
            "1/1 [==============================] - 0s 20ms/step\n",
            "1/1 [==============================] - 0s 20ms/step\n",
            "1/1 [==============================] - 0s 20ms/step\n",
            "1/1 [==============================] - 0s 20ms/step\n",
            "1/1 [==============================] - 0s 20ms/step\n",
            "1/1 [==============================] - 0s 20ms/step\n",
            "1/1 [==============================] - 0s 20ms/step\n",
            "1/1 [==============================] - 0s 19ms/step\n",
            "1/1 [==============================] - 0s 19ms/step\n"
          ]
        },
        {
          "name": "stderr",
          "output_type": "stream",
          "text": [
            "2023-05-31 02:54:43 633684638fd9 root[1152] DEBUG Buy at: $88.41\n"
          ]
        },
        {
          "name": "stdout",
          "output_type": "stream",
          "text": [
            "1/1 [==============================] - 0s 20ms/step\n",
            "1/1 [==============================] - 0s 20ms/step\n",
            "1/1 [==============================] - 0s 20ms/step\n",
            "1/1 [==============================] - 0s 20ms/step\n",
            "1/1 [==============================] - 0s 19ms/step\n",
            "1/1 [==============================] - 0s 19ms/step\n",
            "1/1 [==============================] - 0s 20ms/step\n",
            "1/1 [==============================] - 0s 20ms/step\n",
            "1/1 [==============================] - 0s 20ms/step\n"
          ]
        },
        {
          "name": "stderr",
          "output_type": "stream",
          "text": [
            "2023-05-31 02:54:44 633684638fd9 root[1152] DEBUG Buy at: $87.10\n"
          ]
        },
        {
          "name": "stdout",
          "output_type": "stream",
          "text": [
            "1/1 [==============================] - 0s 20ms/step\n",
            "1/1 [==============================] - 0s 20ms/step\n",
            "1/1 [==============================] - 0s 19ms/step\n",
            "1/1 [==============================] - 0s 20ms/step\n",
            "1/1 [==============================] - 0s 20ms/step\n",
            "1/1 [==============================] - 0s 19ms/step\n",
            "1/1 [==============================] - 0s 20ms/step\n"
          ]
        },
        {
          "name": "stderr",
          "output_type": "stream",
          "text": [
            "2023-05-31 02:54:44 633684638fd9 root[1152] DEBUG Buy at: $91.01\n"
          ]
        },
        {
          "name": "stdout",
          "output_type": "stream",
          "text": [
            "1/1 [==============================] - 0s 19ms/step\n",
            "1/1 [==============================] - 0s 19ms/step\n"
          ]
        },
        {
          "name": "stderr",
          "output_type": "stream",
          "text": [
            "2023-05-31 02:54:44 633684638fd9 root[1152] DEBUG Buy at: $89.13\n"
          ]
        },
        {
          "name": "stdout",
          "output_type": "stream",
          "text": [
            "1/1 [==============================] - 0s 20ms/step\n",
            "1/1 [==============================] - 0s 20ms/step\n",
            "1/1 [==============================] - 0s 19ms/step\n",
            "1/1 [==============================] - 0s 19ms/step\n",
            "1/1 [==============================] - 0s 19ms/step\n",
            "1/1 [==============================] - 0s 19ms/step\n",
            "1/1 [==============================] - 0s 19ms/step\n",
            "1/1 [==============================] - 0s 19ms/step\n",
            "1/1 [==============================] - 0s 19ms/step\n",
            "1/1 [==============================] - 0s 20ms/step\n",
            "1/1 [==============================] - 0s 20ms/step\n",
            "1/1 [==============================] - 0s 21ms/step\n",
            "1/1 [==============================] - 0s 20ms/step\n",
            "1/1 [==============================] - 0s 20ms/step\n",
            "1/1 [==============================] - 0s 20ms/step\n",
            "1/1 [==============================] - 0s 20ms/step\n",
            "1/1 [==============================] - 0s 20ms/step\n",
            "1/1 [==============================] - 0s 19ms/step\n",
            "1/1 [==============================] - 0s 21ms/step\n",
            "1/1 [==============================] - 0s 20ms/step\n",
            "1/1 [==============================] - 0s 20ms/step\n",
            "1/1 [==============================] - 0s 19ms/step\n"
          ]
        },
        {
          "name": "stderr",
          "output_type": "stream",
          "text": [
            "2023-05-31 02:54:46 633684638fd9 root[1152] DEBUG Buy at: $92.20\n"
          ]
        },
        {
          "name": "stdout",
          "output_type": "stream",
          "text": [
            "1/1 [==============================] - 0s 20ms/step\n",
            "1/1 [==============================] - 0s 22ms/step\n",
            "1/1 [==============================] - 0s 20ms/step\n"
          ]
        },
        {
          "name": "stderr",
          "output_type": "stream",
          "text": [
            "2023-05-31 02:54:46 633684638fd9 root[1152] DEBUG Buy at: $91.66\n"
          ]
        },
        {
          "name": "stdout",
          "output_type": "stream",
          "text": [
            "1/1 [==============================] - 0s 20ms/step\n"
          ]
        },
        {
          "name": "stderr",
          "output_type": "stream",
          "text": [
            "2023-05-31 02:54:46 633684638fd9 root[1152] DEBUG Buy at: $91.31\n"
          ]
        },
        {
          "name": "stdout",
          "output_type": "stream",
          "text": [
            "1/1 [==============================] - 0s 20ms/step\n",
            "1/1 [==============================] - 0s 21ms/step\n",
            "1/1 [==============================] - 0s 21ms/step\n",
            "1/1 [==============================] - 0s 20ms/step\n",
            "1/1 [==============================] - 0s 21ms/step\n",
            "1/1 [==============================] - 0s 21ms/step\n",
            "1/1 [==============================] - 0s 20ms/step\n",
            "1/1 [==============================] - 0s 20ms/step\n"
          ]
        },
        {
          "name": "stderr",
          "output_type": "stream",
          "text": [
            "2023-05-31 02:54:46 633684638fd9 root[1152] DEBUG Buy at: $94.08\n"
          ]
        },
        {
          "name": "stdout",
          "output_type": "stream",
          "text": [
            "1/1 [==============================] - 0s 21ms/step\n",
            "1/1 [==============================] - 0s 19ms/step\n",
            "1/1 [==============================] - 0s 20ms/step\n",
            "1/1 [==============================] - 0s 20ms/step\n"
          ]
        },
        {
          "name": "stderr",
          "output_type": "stream",
          "text": [
            "2023-05-31 02:54:46 633684638fd9 root[1152] DEBUG Sell at: $91.20 | Position: +$34.80\n"
          ]
        },
        {
          "name": "stdout",
          "output_type": "stream",
          "text": [
            "1/1 [==============================] - 0s 19ms/step\n",
            "1/1 [==============================] - 0s 19ms/step\n",
            "1/1 [==============================] - 0s 20ms/step\n"
          ]
        },
        {
          "name": "stderr",
          "output_type": "stream",
          "text": [
            "2023-05-31 02:54:47 633684638fd9 root[1152] DEBUG Buy at: $93.88\n"
          ]
        },
        {
          "name": "stdout",
          "output_type": "stream",
          "text": [
            "1/1 [==============================] - 0s 20ms/step\n",
            "1/1 [==============================] - 0s 19ms/step\n",
            "1/1 [==============================] - 0s 20ms/step\n",
            "1/1 [==============================] - 0s 20ms/step\n",
            "1/1 [==============================] - 0s 21ms/step\n",
            "1/1 [==============================] - 0s 19ms/step\n",
            "1/1 [==============================] - 0s 20ms/step\n",
            "1/1 [==============================] - 0s 19ms/step\n",
            "1/1 [==============================] - 0s 19ms/step\n",
            "1/1 [==============================] - 0s 21ms/step\n"
          ]
        },
        {
          "name": "stderr",
          "output_type": "stream",
          "text": [
            "2023-05-31 02:54:47 633684638fd9 root[1152] DEBUG Sell at: $92.02 | Position: +$38.23\n"
          ]
        },
        {
          "name": "stdout",
          "output_type": "stream",
          "text": [
            "1/1 [==============================] - 0s 20ms/step\n",
            "1/1 [==============================] - 0s 20ms/step\n"
          ]
        },
        {
          "name": "stderr",
          "output_type": "stream",
          "text": [
            "2023-05-31 02:54:47 633684638fd9 root[1152] DEBUG Buy at: $89.70\n"
          ]
        },
        {
          "name": "stdout",
          "output_type": "stream",
          "text": [
            "1/1 [==============================] - 0s 20ms/step\n",
            "1/1 [==============================] - 0s 20ms/step\n",
            "1/1 [==============================] - 0s 21ms/step\n",
            "1/1 [==============================] - 0s 20ms/step\n",
            "1/1 [==============================] - 0s 21ms/step\n",
            "1/1 [==============================] - 0s 19ms/step\n",
            "1/1 [==============================] - 0s 19ms/step\n",
            "1/1 [==============================] - 0s 19ms/step\n",
            "1/1 [==============================] - 0s 19ms/step\n"
          ]
        },
        {
          "name": "stderr",
          "output_type": "stream",
          "text": [
            "2023-05-31 02:54:48 633684638fd9 root[1152] DEBUG Buy at: $100.02\n"
          ]
        },
        {
          "name": "stdout",
          "output_type": "stream",
          "text": [
            "1/1 [==============================] - 0s 20ms/step\n",
            "1/1 [==============================] - 0s 19ms/step\n",
            "1/1 [==============================] - 0s 20ms/step\n",
            "1/1 [==============================] - 0s 20ms/step\n"
          ]
        },
        {
          "name": "stderr",
          "output_type": "stream",
          "text": [
            "2023-05-31 02:54:48 633684638fd9 root[1152] DEBUG Buy at: $101.20\n"
          ]
        },
        {
          "name": "stdout",
          "output_type": "stream",
          "text": [
            "1/1 [==============================] - 0s 19ms/step\n",
            "1/1 [==============================] - 0s 19ms/step\n",
            "1/1 [==============================] - 0s 19ms/step\n",
            "1/1 [==============================] - 0s 19ms/step\n",
            "1/1 [==============================] - 0s 20ms/step\n",
            "1/1 [==============================] - 0s 21ms/step\n",
            "1/1 [==============================] - 0s 20ms/step\n",
            "1/1 [==============================] - 0s 20ms/step\n",
            "1/1 [==============================] - 0s 20ms/step\n",
            "1/1 [==============================] - 0s 20ms/step\n",
            "1/1 [==============================] - 0s 19ms/step\n",
            "1/1 [==============================] - 0s 19ms/step\n",
            "1/1 [==============================] - 0s 19ms/step\n",
            "1/1 [==============================] - 0s 20ms/step\n",
            "1/1 [==============================] - 0s 20ms/step\n",
            "1/1 [==============================] - 0s 20ms/step\n",
            "1/1 [==============================] - 0s 20ms/step\n",
            "1/1 [==============================] - 0s 19ms/step\n"
          ]
        },
        {
          "name": "stderr",
          "output_type": "stream",
          "text": [
            "2023-05-31 02:54:49 633684638fd9 root[1152] DEBUG Sell at: $107.69 | Position: +$51.84\n"
          ]
        },
        {
          "name": "stdout",
          "output_type": "stream",
          "text": [
            "1/1 [==============================] - 0s 19ms/step\n",
            "1/1 [==============================] - 0s 20ms/step\n"
          ]
        },
        {
          "name": "stderr",
          "output_type": "stream",
          "text": [
            "2023-05-31 02:54:49 633684638fd9 root[1152] DEBUG Buy at: $108.50\n"
          ]
        },
        {
          "name": "stdout",
          "output_type": "stream",
          "text": [
            "1/1 [==============================] - 0s 19ms/step\n"
          ]
        },
        {
          "name": "stderr",
          "output_type": "stream",
          "text": [
            "2023-05-31 02:54:49 633684638fd9 root[1152] DEBUG Buy at: $108.08\n"
          ]
        },
        {
          "name": "stdout",
          "output_type": "stream",
          "text": [
            "1/1 [==============================] - 0s 19ms/step\n",
            "1/1 [==============================] - 0s 20ms/step\n",
            "1/1 [==============================] - 0s 20ms/step\n",
            "1/1 [==============================] - 0s 20ms/step\n",
            "1/1 [==============================] - 0s 20ms/step\n"
          ]
        },
        {
          "name": "stderr",
          "output_type": "stream",
          "text": [
            "2023-05-31 02:54:49 633684638fd9 root[1152] DEBUG Sell at: $104.46 | Position: +$49.82\n"
          ]
        },
        {
          "name": "stdout",
          "output_type": "stream",
          "text": [
            "1/1 [==============================] - 0s 20ms/step\n",
            "1/1 [==============================] - 0s 20ms/step\n"
          ]
        },
        {
          "name": "stderr",
          "output_type": "stream",
          "text": [
            "2023-05-31 02:54:49 633684638fd9 root[1152] DEBUG Sell at: $101.29 | Position: +$50.40\n"
          ]
        },
        {
          "name": "stdout",
          "output_type": "stream",
          "text": [
            "1/1 [==============================] - 0s 20ms/step\n",
            "1/1 [==============================] - 0s 19ms/step\n",
            "1/1 [==============================] - 0s 19ms/step\n",
            "1/1 [==============================] - 0s 20ms/step\n"
          ]
        },
        {
          "name": "stderr",
          "output_type": "stream",
          "text": [
            "2023-05-31 02:54:50 633684638fd9 root[1152] DEBUG Buy at: $104.61\n"
          ]
        },
        {
          "name": "stdout",
          "output_type": "stream",
          "text": [
            "1/1 [==============================] - 0s 20ms/step\n",
            "1/1 [==============================] - 0s 20ms/step\n",
            "1/1 [==============================] - 0s 20ms/step\n",
            "1/1 [==============================] - 0s 21ms/step\n",
            "1/1 [==============================] - 0s 19ms/step\n",
            "1/1 [==============================] - 0s 19ms/step\n"
          ]
        },
        {
          "name": "stderr",
          "output_type": "stream",
          "text": [
            "2023-05-31 02:54:50 633684638fd9 root[1152] DEBUG Sell at: $105.30 | Position: +$50.44\n"
          ]
        },
        {
          "name": "stdout",
          "output_type": "stream",
          "text": [
            "1/1 [==============================] - 0s 20ms/step\n",
            "1/1 [==============================] - 0s 22ms/step\n",
            "1/1 [==============================] - 0s 20ms/step\n"
          ]
        },
        {
          "name": "stderr",
          "output_type": "stream",
          "text": [
            "2023-05-31 02:54:50 633684638fd9 root[1152] DEBUG Buy at: $99.44\n"
          ]
        },
        {
          "name": "stdout",
          "output_type": "stream",
          "text": [
            "1/1 [==============================] - 0s 21ms/step\n"
          ]
        },
        {
          "name": "stderr",
          "output_type": "stream",
          "text": [
            "2023-05-31 02:54:50 633684638fd9 root[1152] DEBUG Sell at: $99.45 | Position: +$44.53\n"
          ]
        },
        {
          "name": "stdout",
          "output_type": "stream",
          "text": [
            "1/1 [==============================] - 0s 20ms/step\n",
            "1/1 [==============================] - 0s 20ms/step\n",
            "1/1 [==============================] - 0s 20ms/step\n",
            "1/1 [==============================] - 0s 20ms/step\n",
            "1/1 [==============================] - 0s 20ms/step\n",
            "1/1 [==============================] - 0s 21ms/step\n"
          ]
        },
        {
          "name": "stderr",
          "output_type": "stream",
          "text": [
            "2023-05-31 02:54:50 633684638fd9 root[1152] DEBUG Buy at: $102.76\n"
          ]
        },
        {
          "name": "stdout",
          "output_type": "stream",
          "text": [
            "1/1 [==============================] - 0s 21ms/step\n"
          ]
        },
        {
          "name": "stderr",
          "output_type": "stream",
          "text": [
            "2023-05-31 02:54:51 633684638fd9 root[1152] DEBUG Sell at: $99.97 | Position: +$41.95\n"
          ]
        },
        {
          "name": "stdout",
          "output_type": "stream",
          "text": [
            "1/1 [==============================] - 0s 20ms/step\n"
          ]
        },
        {
          "name": "stderr",
          "output_type": "stream",
          "text": [
            "2023-05-31 02:54:51 633684638fd9 root[1152] DEBUG Sell at: $99.19 | Position: +$44.00\n"
          ]
        },
        {
          "name": "stdout",
          "output_type": "stream",
          "text": [
            "1/1 [==============================] - 0s 21ms/step\n",
            "1/1 [==============================] - 0s 21ms/step\n",
            "1/1 [==============================] - 0s 21ms/step\n",
            "1/1 [==============================] - 0s 21ms/step\n",
            "1/1 [==============================] - 0s 20ms/step\n",
            "1/1 [==============================] - 0s 20ms/step\n",
            "1/1 [==============================] - 0s 21ms/step\n",
            "1/1 [==============================] - 0s 21ms/step\n"
          ]
        },
        {
          "name": "stderr",
          "output_type": "stream",
          "text": [
            "2023-05-31 02:54:51 633684638fd9 root[1152] DEBUG Sell at: $111.28 | Position: +$51.67\n"
          ]
        },
        {
          "name": "stdout",
          "output_type": "stream",
          "text": [
            "1/1 [==============================] - 0s 19ms/step\n"
          ]
        },
        {
          "name": "stderr",
          "output_type": "stream",
          "text": [
            "2023-05-31 02:54:51 633684638fd9 root[1152] DEBUG Buy at: $109.65\n"
          ]
        },
        {
          "name": "stdout",
          "output_type": "stream",
          "text": [
            "1/1 [==============================] - 0s 21ms/step\n",
            "1/1 [==============================] - 0s 21ms/step\n",
            "1/1 [==============================] - 0s 21ms/step\n",
            "1/1 [==============================] - 0s 20ms/step\n",
            "1/1 [==============================] - 0s 20ms/step\n",
            "1/1 [==============================] - 0s 21ms/step\n",
            "1/1 [==============================] - 0s 20ms/step\n",
            "1/1 [==============================] - 0s 21ms/step\n",
            "1/1 [==============================] - 0s 21ms/step\n",
            "1/1 [==============================] - 0s 21ms/step\n",
            "1/1 [==============================] - 0s 21ms/step\n",
            "1/1 [==============================] - 0s 23ms/step\n",
            "1/1 [==============================] - 0s 20ms/step\n"
          ]
        },
        {
          "name": "stderr",
          "output_type": "stream",
          "text": [
            "2023-05-31 02:54:52 633684638fd9 root[1152] DEBUG Buy at: $120.69\n"
          ]
        },
        {
          "name": "stdout",
          "output_type": "stream",
          "text": [
            "1/1 [==============================] - 0s 20ms/step\n"
          ]
        },
        {
          "name": "stderr",
          "output_type": "stream",
          "text": [
            "2023-05-31 02:54:52 633684638fd9 root[1152] DEBUG Buy at: $121.67\n"
          ]
        },
        {
          "name": "stdout",
          "output_type": "stream",
          "text": [
            "1/1 [==============================] - 0s 20ms/step\n",
            "1/1 [==============================] - 0s 21ms/step\n",
            "1/1 [==============================] - 0s 22ms/step\n",
            "1/1 [==============================] - 0s 20ms/step\n",
            "1/1 [==============================] - 0s 21ms/step\n"
          ]
        },
        {
          "name": "stderr",
          "output_type": "stream",
          "text": [
            "2023-05-31 02:54:52 633684638fd9 root[1152] DEBUG Buy at: $120.70\n"
          ]
        },
        {
          "name": "stdout",
          "output_type": "stream",
          "text": [
            "1/1 [==============================] - 0s 21ms/step\n"
          ]
        },
        {
          "name": "stderr",
          "output_type": "stream",
          "text": [
            "2023-05-31 02:54:52 633684638fd9 root[1152] DEBUG Buy at: $121.29\n"
          ]
        },
        {
          "name": "stdout",
          "output_type": "stream",
          "text": [
            "1/1 [==============================] - 0s 20ms/step\n",
            "1/1 [==============================] - 0s 20ms/step\n"
          ]
        },
        {
          "name": "stderr",
          "output_type": "stream",
          "text": [
            "2023-05-31 02:54:52 633684638fd9 root[1152] DEBUG Buy at: $120.77\n"
          ]
        },
        {
          "name": "stdout",
          "output_type": "stream",
          "text": [
            "1/1 [==============================] - 0s 19ms/step\n",
            "1/1 [==============================] - 0s 20ms/step\n",
            "1/1 [==============================] - 0s 19ms/step\n",
            "1/1 [==============================] - 0s 19ms/step\n"
          ]
        },
        {
          "name": "stderr",
          "output_type": "stream",
          "text": [
            "2023-05-31 02:54:53 633684638fd9 root[1152] DEBUG Buy at: $116.99\n"
          ]
        },
        {
          "name": "stdout",
          "output_type": "stream",
          "text": [
            "1/1 [==============================] - 0s 21ms/step\n",
            "1/1 [==============================] - 0s 20ms/step\n",
            "1/1 [==============================] - 0s 20ms/step\n",
            "1/1 [==============================] - 0s 20ms/step\n",
            "1/1 [==============================] - 0s 19ms/step\n",
            "1/1 [==============================] - 0s 19ms/step\n",
            "1/1 [==============================] - 0s 20ms/step\n",
            "1/1 [==============================] - 0s 20ms/step\n"
          ]
        },
        {
          "name": "stderr",
          "output_type": "stream",
          "text": [
            "2023-05-31 02:54:53 633684638fd9 root[1152] DEBUG Sell at: $118.29 | Position: +$51.51\n"
          ]
        },
        {
          "name": "stdout",
          "output_type": "stream",
          "text": [
            "1/1 [==============================] - 0s 20ms/step\n",
            "1/1 [==============================] - 0s 19ms/step\n"
          ]
        },
        {
          "name": "stderr",
          "output_type": "stream",
          "text": [
            "2023-05-31 02:54:53 633684638fd9 root[1152] DEBUG Buy at: $119.03\n"
          ]
        },
        {
          "name": "stdout",
          "output_type": "stream",
          "text": [
            "1/1 [==============================] - 0s 20ms/step\n"
          ]
        },
        {
          "name": "stderr",
          "output_type": "stream",
          "text": [
            "2023-05-31 02:54:53 633684638fd9 root[1152] DEBUG Sell at: $115.92 | Position: +$48.34\n"
          ]
        },
        {
          "name": "stdout",
          "output_type": "stream",
          "text": [
            "1/1 [==============================] - 0s 20ms/step\n",
            "1/1 [==============================] - 0s 19ms/step\n",
            "1/1 [==============================] - 0s 20ms/step\n",
            "1/1 [==============================] - 0s 20ms/step\n",
            "1/1 [==============================] - 0s 19ms/step\n",
            "1/1 [==============================] - 0s 19ms/step\n",
            "1/1 [==============================] - 0s 20ms/step\n",
            "1/1 [==============================] - 0s 20ms/step\n",
            "1/1 [==============================] - 0s 19ms/step\n"
          ]
        },
        {
          "name": "stderr",
          "output_type": "stream",
          "text": [
            "2023-05-31 02:54:54 633684638fd9 root[1152] DEBUG Sell at: $118.01 | Position: +$48.73\n"
          ]
        },
        {
          "name": "stdout",
          "output_type": "stream",
          "text": [
            "1/1 [==============================] - 0s 19ms/step\n",
            "1/1 [==============================] - 0s 19ms/step\n"
          ]
        },
        {
          "name": "stderr",
          "output_type": "stream",
          "text": [
            "2023-05-31 02:54:54 633684638fd9 root[1152] DEBUG Buy at: $119.42\n"
          ]
        },
        {
          "name": "stdout",
          "output_type": "stream",
          "text": [
            "1/1 [==============================] - 0s 19ms/step\n",
            "1/1 [==============================] - 0s 19ms/step\n",
            "1/1 [==============================] - 0s 19ms/step\n",
            "1/1 [==============================] - 0s 20ms/step\n",
            "1/1 [==============================] - 0s 19ms/step\n",
            "1/1 [==============================] - 0s 21ms/step\n",
            "1/1 [==============================] - 0s 20ms/step\n",
            "1/1 [==============================] - 0s 20ms/step\n",
            "1/1 [==============================] - 0s 19ms/step\n",
            "1/1 [==============================] - 0s 20ms/step\n",
            "1/1 [==============================] - 0s 20ms/step\n",
            "1/1 [==============================] - 0s 19ms/step\n",
            "1/1 [==============================] - 0s 19ms/step\n"
          ]
        },
        {
          "name": "stderr",
          "output_type": "stream",
          "text": [
            "2023-05-31 02:54:54 633684638fd9 root[1152] DEBUG Sell at: $120.87 | Position: +$52.50\n"
          ]
        },
        {
          "name": "stdout",
          "output_type": "stream",
          "text": [
            "1/1 [==============================] - 0s 19ms/step\n"
          ]
        },
        {
          "name": "stderr",
          "output_type": "stream",
          "text": [
            "2023-05-31 02:54:54 633684638fd9 root[1152] DEBUG Sell at: $117.59 | Position: +$50.93\n"
          ]
        },
        {
          "name": "stdout",
          "output_type": "stream",
          "text": [
            "1/1 [==============================] - 0s 20ms/step\n",
            "1/1 [==============================] - 0s 20ms/step\n"
          ]
        },
        {
          "name": "stderr",
          "output_type": "stream",
          "text": [
            "2023-05-31 02:54:55 633684638fd9 root[1152] DEBUG Buy at: $120.92\n"
          ]
        },
        {
          "name": "stdout",
          "output_type": "stream",
          "text": [
            "1/1 [==============================] - 0s 19ms/step\n"
          ]
        },
        {
          "name": "stderr",
          "output_type": "stream",
          "text": [
            "2023-05-31 02:54:55 633684638fd9 root[1152] DEBUG Sell at: $118.20 | Position: +$57.16\n"
          ]
        },
        {
          "name": "stdout",
          "output_type": "stream",
          "text": [
            "1/1 [==============================] - 0s 19ms/step\n",
            "1/1 [==============================] - 0s 20ms/step\n",
            "1/1 [==============================] - 0s 19ms/step\n",
            "1/1 [==============================] - 0s 19ms/step\n",
            "1/1 [==============================] - 0s 19ms/step\n"
          ]
        },
        {
          "name": "stderr",
          "output_type": "stream",
          "text": [
            "2023-05-31 02:54:55 633684638fd9 root[1152] DEBUG Sell at: $118.76 | Position: +$58.98\n"
          ]
        },
        {
          "name": "stdout",
          "output_type": "stream",
          "text": [
            "1/1 [==============================] - 0s 19ms/step\n",
            "1/1 [==============================] - 0s 20ms/step\n",
            "1/1 [==============================] - 0s 21ms/step\n",
            "1/1 [==============================] - 0s 21ms/step\n",
            "1/1 [==============================] - 0s 20ms/step\n",
            "1/1 [==============================] - 0s 19ms/step\n",
            "1/1 [==============================] - 0s 19ms/step\n",
            "1/1 [==============================] - 0s 21ms/step\n",
            "1/1 [==============================] - 0s 20ms/step\n"
          ]
        },
        {
          "name": "stderr",
          "output_type": "stream",
          "text": [
            "2023-05-31 02:54:55 633684638fd9 root[1152] DEBUG Sell at: $122.30 | Position: +$66.80\n"
          ]
        },
        {
          "name": "stdout",
          "output_type": "stream",
          "text": [
            "1/1 [==============================] - 0s 19ms/step\n",
            "1/1 [==============================] - 0s 20ms/step\n",
            "1/1 [==============================] - 0s 20ms/step\n"
          ]
        },
        {
          "name": "stderr",
          "output_type": "stream",
          "text": [
            "2023-05-31 02:54:56 633684638fd9 root[1152] DEBUG Buy at: $122.92\n"
          ]
        },
        {
          "name": "stdout",
          "output_type": "stream",
          "text": [
            "1/1 [==============================] - 0s 19ms/step\n",
            "1/1 [==============================] - 0s 19ms/step\n"
          ]
        },
        {
          "name": "stderr",
          "output_type": "stream",
          "text": [
            "2023-05-31 02:54:56 633684638fd9 root[1152] DEBUG Buy at: $122.62\n"
          ]
        },
        {
          "name": "stdout",
          "output_type": "stream",
          "text": [
            "1/1 [==============================] - 0s 20ms/step\n",
            "1/1 [==============================] - 0s 21ms/step\n",
            "1/1 [==============================] - 0s 20ms/step\n",
            "1/1 [==============================] - 0s 20ms/step\n",
            "1/1 [==============================] - 0s 19ms/step\n",
            "1/1 [==============================] - 0s 20ms/step\n",
            "1/1 [==============================] - 0s 20ms/step\n",
            "1/1 [==============================] - 0s 20ms/step\n",
            "1/1 [==============================] - 0s 20ms/step\n",
            "1/1 [==============================] - 0s 20ms/step\n",
            "1/1 [==============================] - 0s 19ms/step\n"
          ]
        },
        {
          "name": "stderr",
          "output_type": "stream",
          "text": [
            "2023-05-31 02:54:56 633684638fd9 root[1152] DEBUG Buy at: $120.11\n"
          ]
        },
        {
          "name": "stdout",
          "output_type": "stream",
          "text": [
            "1/1 [==============================] - 0s 19ms/step\n",
            "1/1 [==============================] - 0s 19ms/step\n",
            "1/1 [==============================] - 0s 20ms/step\n",
            "1/1 [==============================] - 0s 20ms/step\n",
            "1/1 [==============================] - 0s 20ms/step\n",
            "1/1 [==============================] - 0s 20ms/step\n",
            "1/1 [==============================] - 0s 20ms/step\n",
            "1/1 [==============================] - 0s 19ms/step\n",
            "1/1 [==============================] - 0s 22ms/step\n",
            "1/1 [==============================] - 0s 19ms/step\n",
            "1/1 [==============================] - 0s 19ms/step\n"
          ]
        },
        {
          "name": "stderr",
          "output_type": "stream",
          "text": [
            "2023-05-31 02:54:57 633684638fd9 root[1152] DEBUG Buy at: $119.30\n"
          ]
        },
        {
          "name": "stdout",
          "output_type": "stream",
          "text": [
            "1/1 [==============================] - 0s 19ms/step\n",
            "1/1 [==============================] - 0s 19ms/step\n",
            "1/1 [==============================] - 0s 19ms/step\n",
            "1/1 [==============================] - 0s 19ms/step\n"
          ]
        },
        {
          "name": "stderr",
          "output_type": "stream",
          "text": [
            "2023-05-31 02:54:57 633684638fd9 root[1152] DEBUG Sell at: $113.29 | Position: +$53.46\n"
          ]
        },
        {
          "name": "stdout",
          "output_type": "stream",
          "text": [
            "1/1 [==============================] - 0s 20ms/step\n",
            "1/1 [==============================] - 0s 21ms/step\n"
          ]
        },
        {
          "name": "stderr",
          "output_type": "stream",
          "text": [
            "2023-05-31 02:54:57 633684638fd9 root[1152] DEBUG Buy at: $118.56\n"
          ]
        },
        {
          "name": "stdout",
          "output_type": "stream",
          "text": [
            "1/1 [==============================] - 0s 20ms/step\n",
            "1/1 [==============================] - 0s 19ms/step\n",
            "1/1 [==============================] - 0s 20ms/step\n",
            "1/1 [==============================] - 0s 20ms/step\n",
            "1/1 [==============================] - 0s 22ms/step\n",
            "1/1 [==============================] - 0s 21ms/step\n"
          ]
        },
        {
          "name": "stderr",
          "output_type": "stream",
          "text": [
            "2023-05-31 02:54:57 633684638fd9 root[1152] DEBUG Sell at: $123.36 | Position: +$69.21\n"
          ]
        },
        {
          "name": "stdout",
          "output_type": "stream",
          "text": [
            "1/1 [==============================] - 0s 20ms/step\n"
          ]
        },
        {
          "name": "stderr",
          "output_type": "stream",
          "text": [
            "2023-05-31 02:54:58 633684638fd9 root[1152] DEBUG Sell at: $118.14 | Position: +$63.57\n"
          ]
        },
        {
          "name": "stdout",
          "output_type": "stream",
          "text": [
            "1/1 [==============================] - 0s 21ms/step\n",
            "1/1 [==============================] - 0s 20ms/step\n"
          ]
        },
        {
          "name": "stderr",
          "output_type": "stream",
          "text": [
            "2023-05-31 02:54:58 633684638fd9 root[1152] DEBUG Buy at: $117.47\n"
          ]
        },
        {
          "name": "stdout",
          "output_type": "stream",
          "text": [
            "1/1 [==============================] - 0s 20ms/step\n"
          ]
        },
        {
          "name": "stderr",
          "output_type": "stream",
          "text": [
            "2023-05-31 02:54:58 633684638fd9 root[1152] DEBUG Buy at: $115.83\n"
          ]
        },
        {
          "name": "stdout",
          "output_type": "stream",
          "text": [
            "1/1 [==============================] - 0s 19ms/step\n",
            "1/1 [==============================] - 0s 20ms/step\n",
            "1/1 [==============================] - 0s 19ms/step\n",
            "1/1 [==============================] - 0s 20ms/step\n",
            "1/1 [==============================] - 0s 20ms/step\n"
          ]
        },
        {
          "name": "stderr",
          "output_type": "stream",
          "text": [
            "2023-05-31 02:54:58 633684638fd9 root[1152] DEBUG Sell at: $111.75 | Position: +$59.31\n"
          ]
        },
        {
          "name": "stdout",
          "output_type": "stream",
          "text": [
            "1/1 [==============================] - 0s 22ms/step\n"
          ]
        },
        {
          "name": "stderr",
          "output_type": "stream",
          "text": [
            "2023-05-31 02:54:58 633684638fd9 root[1152] DEBUG Sell at: $108.16 | Position: +$54.47\n"
          ]
        },
        {
          "name": "stdout",
          "output_type": "stream",
          "text": [
            "1/1 [==============================] - 0s 21ms/step\n",
            "1/1 [==============================] - 0s 20ms/step\n",
            "1/1 [==============================] - 0s 20ms/step\n"
          ]
        },
        {
          "name": "stderr",
          "output_type": "stream",
          "text": [
            "2023-05-31 02:54:58 633684638fd9 root[1152] DEBUG Buy at: $109.49\n"
          ]
        },
        {
          "name": "stdout",
          "output_type": "stream",
          "text": [
            "1/1 [==============================] - 0s 20ms/step\n",
            "1/1 [==============================] - 0s 21ms/step\n",
            "1/1 [==============================] - 0s 20ms/step\n",
            "1/1 [==============================] - 0s 21ms/step\n",
            "1/1 [==============================] - 0s 20ms/step\n",
            "1/1 [==============================] - 0s 20ms/step\n",
            "1/1 [==============================] - 0s 20ms/step\n",
            "1/1 [==============================] - 0s 20ms/step\n"
          ]
        },
        {
          "name": "stderr",
          "output_type": "stream",
          "text": [
            "2023-05-31 02:54:59 633684638fd9 root[1152] DEBUG Sell at: $109.00 | Position: +$56.15\n"
          ]
        },
        {
          "name": "stdout",
          "output_type": "stream",
          "text": [
            "1/1 [==============================] - 0s 20ms/step\n"
          ]
        },
        {
          "name": "stderr",
          "output_type": "stream",
          "text": [
            "2023-05-31 02:54:59 633684638fd9 root[1152] DEBUG Sell at: $106.77 | Position: +$55.66\n"
          ]
        },
        {
          "name": "stdout",
          "output_type": "stream",
          "text": [
            "1/1 [==============================] - 0s 20ms/step\n"
          ]
        },
        {
          "name": "stderr",
          "output_type": "stream",
          "text": [
            "2023-05-31 02:54:59 633684638fd9 root[1152] DEBUG Sell at: $100.24 | Position: +$53.39\n"
          ]
        },
        {
          "name": "stdout",
          "output_type": "stream",
          "text": [
            "1/1 [==============================] - 0s 20ms/step\n"
          ]
        },
        {
          "name": "stderr",
          "output_type": "stream",
          "text": [
            "2023-05-31 02:54:59 633684638fd9 root[1152] DEBUG Buy at: $97.73\n"
          ]
        },
        {
          "name": "stdout",
          "output_type": "stream",
          "text": [
            "1/1 [==============================] - 0s 20ms/step\n",
            "1/1 [==============================] - 0s 20ms/step\n",
            "1/1 [==============================] - 0s 20ms/step\n",
            "1/1 [==============================] - 0s 20ms/step\n",
            "1/1 [==============================] - 0s 20ms/step\n",
            "1/1 [==============================] - 0s 20ms/step\n",
            "1/1 [==============================] - 0s 20ms/step\n",
            "1/1 [==============================] - 0s 19ms/step\n"
          ]
        },
        {
          "name": "stderr",
          "output_type": "stream",
          "text": [
            "2023-05-31 02:54:59 633684638fd9 root[1152] DEBUG Sell at: $104.60 | Position: +$55.58\n"
          ]
        },
        {
          "name": "stdout",
          "output_type": "stream",
          "text": [
            "1/1 [==============================] - 0s 21ms/step\n"
          ]
        },
        {
          "name": "stderr",
          "output_type": "stream",
          "text": [
            "2023-05-31 02:54:59 633684638fd9 root[1152] DEBUG Buy at: $103.56\n"
          ]
        },
        {
          "name": "stdout",
          "output_type": "stream",
          "text": [
            "1/1 [==============================] - 0s 20ms/step\n",
            "1/1 [==============================] - 0s 20ms/step\n"
          ]
        },
        {
          "name": "stderr",
          "output_type": "stream",
          "text": [
            "2023-05-31 02:54:59 633684638fd9 root[1152] DEBUG Buy at: $104.40\n"
          ]
        },
        {
          "name": "stdout",
          "output_type": "stream",
          "text": [
            "1/1 [==============================] - 0s 20ms/step\n",
            "1/1 [==============================] - 0s 20ms/step\n",
            "1/1 [==============================] - 0s 20ms/step\n",
            "1/1 [==============================] - 0s 20ms/step\n",
            "1/1 [==============================] - 0s 20ms/step\n",
            "1/1 [==============================] - 0s 19ms/step\n"
          ]
        },
        {
          "name": "stderr",
          "output_type": "stream",
          "text": [
            "2023-05-31 02:55:00 633684638fd9 root[1152] DEBUG Sell at: $107.97 | Position: +$60.15\n"
          ]
        },
        {
          "name": "stdout",
          "output_type": "stream",
          "text": [
            "1/1 [==============================] - 0s 20ms/step\n"
          ]
        },
        {
          "name": "stderr",
          "output_type": "stream",
          "text": [
            "2023-05-31 02:55:00 633684638fd9 root[1152] DEBUG Sell at: $107.52 | Position: +$60.26\n"
          ]
        },
        {
          "name": "stdout",
          "output_type": "stream",
          "text": [
            "1/1 [==============================] - 0s 20ms/step\n",
            "1/1 [==============================] - 0s 19ms/step\n"
          ]
        },
        {
          "name": "stderr",
          "output_type": "stream",
          "text": [
            "2023-05-31 02:55:00 633684638fd9 root[1152] DEBUG Buy at: $107.48\n"
          ]
        },
        {
          "name": "stdout",
          "output_type": "stream",
          "text": [
            "1/1 [==============================] - 0s 19ms/step\n",
            "1/1 [==============================] - 0s 19ms/step\n",
            "1/1 [==============================] - 0s 20ms/step\n",
            "1/1 [==============================] - 0s 19ms/step\n",
            "1/1 [==============================] - 0s 20ms/step\n"
          ]
        },
        {
          "name": "stderr",
          "output_type": "stream",
          "text": [
            "2023-05-31 02:55:00 633684638fd9 root[1152] DEBUG Sell at: $103.36 | Position: +$53.98\n"
          ]
        },
        {
          "name": "stdout",
          "output_type": "stream",
          "text": [
            "1/1 [==============================] - 0s 19ms/step\n",
            "1/1 [==============================] - 0s 19ms/step\n"
          ]
        },
        {
          "name": "stderr",
          "output_type": "stream",
          "text": [
            "2023-05-31 02:55:00 633684638fd9 root[1152] DEBUG Buy at: $103.86\n"
          ]
        },
        {
          "name": "stdout",
          "output_type": "stream",
          "text": [
            "1/1 [==============================] - 0s 20ms/step\n",
            "1/1 [==============================] - 0s 20ms/step\n",
            "1/1 [==============================] - 0s 20ms/step\n",
            "1/1 [==============================] - 0s 19ms/step\n",
            "1/1 [==============================] - 0s 20ms/step\n",
            "1/1 [==============================] - 0s 19ms/step\n",
            "1/1 [==============================] - 0s 20ms/step\n"
          ]
        },
        {
          "name": "stderr",
          "output_type": "stream",
          "text": [
            "2023-05-31 02:55:01 633684638fd9 root[1152] DEBUG Buy at: $105.77\n"
          ]
        },
        {
          "name": "stdout",
          "output_type": "stream",
          "text": [
            "1/1 [==============================] - 0s 21ms/step\n",
            "1/1 [==============================] - 0s 19ms/step\n",
            "1/1 [==============================] - 0s 21ms/step\n",
            "1/1 [==============================] - 0s 20ms/step\n",
            "1/1 [==============================] - 0s 19ms/step\n",
            "1/1 [==============================] - 0s 20ms/step\n",
            "1/1 [==============================] - 0s 19ms/step\n",
            "1/1 [==============================] - 0s 19ms/step\n",
            "1/1 [==============================] - 0s 20ms/step\n",
            "1/1 [==============================] - 0s 20ms/step\n",
            "1/1 [==============================] - 0s 20ms/step\n"
          ]
        },
        {
          "name": "stderr",
          "output_type": "stream",
          "text": [
            "2023-05-31 02:55:01 633684638fd9 root[1152] DEBUG Sell at: $108.57 | Position: +$62.78\n"
          ]
        },
        {
          "name": "stdout",
          "output_type": "stream",
          "text": [
            "1/1 [==============================] - 0s 20ms/step\n",
            "1/1 [==============================] - 0s 20ms/step\n"
          ]
        },
        {
          "name": "stderr",
          "output_type": "stream",
          "text": [
            "2023-05-31 02:55:01 633684638fd9 root[1152] DEBUG Buy at: $114.23\n"
          ]
        },
        {
          "name": "stdout",
          "output_type": "stream",
          "text": [
            "1/1 [==============================] - 0s 19ms/step\n"
          ]
        },
        {
          "name": "stderr",
          "output_type": "stream",
          "text": [
            "2023-05-31 02:55:01 633684638fd9 root[1152] DEBUG Buy at: $113.26\n"
          ]
        },
        {
          "name": "stdout",
          "output_type": "stream",
          "text": [
            "1/1 [==============================] - 0s 20ms/step\n",
            "1/1 [==============================] - 0s 20ms/step\n",
            "1/1 [==============================] - 0s 20ms/step\n"
          ]
        },
        {
          "name": "stderr",
          "output_type": "stream",
          "text": [
            "2023-05-31 02:55:01 633684638fd9 root[1152] DEBUG Buy at: $115.63\n"
          ]
        },
        {
          "name": "stdout",
          "output_type": "stream",
          "text": [
            "1/1 [==============================] - 0s 20ms/step\n"
          ]
        },
        {
          "name": "stderr",
          "output_type": "stream",
          "text": [
            "2023-05-31 02:55:02 633684638fd9 root[1152] DEBUG Sell at: $115.09 | Position: +$69.07\n"
          ]
        },
        {
          "name": "stdout",
          "output_type": "stream",
          "text": [
            "1/1 [==============================] - 0s 20ms/step\n"
          ]
        },
        {
          "name": "stderr",
          "output_type": "stream",
          "text": [
            "2023-05-31 02:55:02 633684638fd9 root[1152] DEBUG Sell at: $115.23 | Position: +$72.32\n"
          ]
        },
        {
          "name": "stdout",
          "output_type": "stream",
          "text": [
            "1/1 [==============================] - 0s 20ms/step\n",
            "1/1 [==============================] - 0s 20ms/step\n",
            "1/1 [==============================] - 0s 19ms/step\n"
          ]
        },
        {
          "name": "stderr",
          "output_type": "stream",
          "text": [
            "2023-05-31 02:55:02 633684638fd9 root[1152] DEBUG Sell at: $110.52 | Position: +$68.04\n"
          ]
        },
        {
          "name": "stdout",
          "output_type": "stream",
          "text": [
            "1/1 [==============================] - 0s 21ms/step\n",
            "1/1 [==============================] - 0s 20ms/step\n"
          ]
        },
        {
          "name": "stderr",
          "output_type": "stream",
          "text": [
            "2023-05-31 02:55:02 633684638fd9 root[1152] DEBUG Buy at: $106.93\n"
          ]
        },
        {
          "name": "stdout",
          "output_type": "stream",
          "text": [
            "1/1 [==============================] - 0s 20ms/step\n",
            "1/1 [==============================] - 0s 20ms/step\n",
            "1/1 [==============================] - 0s 19ms/step\n",
            "1/1 [==============================] - 0s 21ms/step\n",
            "1/1 [==============================] - 0s 21ms/step\n",
            "1/1 [==============================] - 0s 22ms/step\n",
            "1/1 [==============================] - 0s 22ms/step\n",
            "1/1 [==============================] - 0s 21ms/step\n",
            "1/1 [==============================] - 0s 20ms/step\n"
          ]
        },
        {
          "name": "stderr",
          "output_type": "stream",
          "text": [
            "2023-05-31 02:55:02 633684638fd9 root[1152] DEBUG Buy at: $112.13\n"
          ]
        },
        {
          "name": "stdout",
          "output_type": "stream",
          "text": [
            "1/1 [==============================] - 0s 21ms/step\n",
            "1/1 [==============================] - 0s 20ms/step\n"
          ]
        },
        {
          "name": "stderr",
          "output_type": "stream",
          "text": [
            "2023-05-31 02:55:02 633684638fd9 root[1152] DEBUG Buy at: $111.69\n"
          ]
        },
        {
          "name": "stdout",
          "output_type": "stream",
          "text": [
            "1/1 [==============================] - 0s 20ms/step\n",
            "1/1 [==============================] - 0s 20ms/step\n",
            "1/1 [==============================] - 0s 20ms/step\n",
            "1/1 [==============================] - 0s 20ms/step\n",
            "1/1 [==============================] - 0s 22ms/step\n",
            "1/1 [==============================] - 0s 21ms/step\n",
            "1/1 [==============================] - 0s 20ms/step\n",
            "1/1 [==============================] - 0s 20ms/step\n",
            "1/1 [==============================] - 0s 20ms/step\n"
          ]
        },
        {
          "name": "stderr",
          "output_type": "stream",
          "text": [
            "2023-05-31 02:55:03 633684638fd9 root[1152] DEBUG Sell at: $107.06 | Position: +$58.20\n"
          ]
        },
        {
          "name": "stdout",
          "output_type": "stream",
          "text": [
            "1/1 [==============================] - 0s 20ms/step\n"
          ]
        },
        {
          "name": "stderr",
          "output_type": "stream",
          "text": [
            "2023-05-31 02:55:03 633684638fd9 root[1152] DEBUG Sell at: $105.17 | Position: +$56.78\n"
          ]
        },
        {
          "name": "stdout",
          "output_type": "stream",
          "text": [
            "1/1 [==============================] - 0s 20ms/step\n",
            "1/1 [==============================] - 0s 21ms/step\n",
            "1/1 [==============================] - 0s 21ms/step\n"
          ]
        },
        {
          "name": "stderr",
          "output_type": "stream",
          "text": [
            "2023-05-31 02:55:03 633684638fd9 root[1152] DEBUG Sell at: $100.92 | Position: +$53.94\n"
          ]
        },
        {
          "name": "stdout",
          "output_type": "stream",
          "text": [
            "1/1 [==============================] - 0s 21ms/step\n",
            "1/1 [==============================] - 0s 20ms/step\n",
            "1/1 [==============================] - 0s 20ms/step\n",
            "1/1 [==============================] - 0s 20ms/step\n",
            "1/1 [==============================] - 0s 21ms/step\n",
            "1/1 [==============================] - 0s 21ms/step\n",
            "1/1 [==============================] - 0s 20ms/step\n",
            "1/1 [==============================] - 0s 20ms/step\n"
          ]
        },
        {
          "name": "stderr",
          "output_type": "stream",
          "text": [
            "2023-05-31 02:55:04 633684638fd9 root[1152] DEBUG Sell at: $100.19 | Position: +$41.54\n"
          ]
        },
        {
          "name": "stdout",
          "output_type": "stream",
          "text": [
            "1/1 [==============================] - 0s 20ms/step\n",
            "1/1 [==============================] - 0s 20ms/step\n"
          ]
        },
        {
          "name": "stderr",
          "output_type": "stream",
          "text": [
            "2023-05-31 02:55:04 633684638fd9 root[1152] DEBUG Buy at: $97.76\n"
          ]
        },
        {
          "name": "stdout",
          "output_type": "stream",
          "text": [
            "1/1 [==============================] - 0s 20ms/step\n"
          ]
        },
        {
          "name": "stderr",
          "output_type": "stream",
          "text": [
            "2023-05-31 02:55:04 633684638fd9 root[1152] DEBUG Buy at: $95.85\n"
          ]
        },
        {
          "name": "stdout",
          "output_type": "stream",
          "text": [
            "1/1 [==============================] - 0s 19ms/step\n",
            "1/1 [==============================] - 0s 19ms/step\n",
            "1/1 [==============================] - 0s 19ms/step\n",
            "1/1 [==============================] - 0s 19ms/step\n",
            "1/1 [==============================] - 0s 20ms/step\n",
            "1/1 [==============================] - 0s 21ms/step\n",
            "1/1 [==============================] - 0s 21ms/step\n",
            "1/1 [==============================] - 0s 21ms/step\n"
          ]
        },
        {
          "name": "stderr",
          "output_type": "stream",
          "text": [
            "2023-05-31 02:55:04 633684638fd9 root[1152] DEBUG Sell at: $92.00 | Position: +$33.13\n"
          ]
        },
        {
          "name": "stdout",
          "output_type": "stream",
          "text": [
            "1/1 [==============================] - 0s 20ms/step\n"
          ]
        },
        {
          "name": "stderr",
          "output_type": "stream",
          "text": [
            "2023-05-31 02:55:04 633684638fd9 root[1152] DEBUG Sell at: $92.13 | Position: +$37.71\n"
          ]
        },
        {
          "name": "stdout",
          "output_type": "stream",
          "text": [
            "1/1 [==============================] - 0s 21ms/step\n"
          ]
        },
        {
          "name": "stderr",
          "output_type": "stream",
          "text": [
            "2023-05-31 02:55:04 633684638fd9 root[1152] DEBUG Buy at: $91.66\n"
          ]
        },
        {
          "name": "stdout",
          "output_type": "stream",
          "text": [
            "1/1 [==============================] - 0s 20ms/step\n",
            "1/1 [==============================] - 0s 19ms/step\n",
            "1/1 [==============================] - 0s 20ms/step\n",
            "1/1 [==============================] - 0s 20ms/step\n",
            "1/1 [==============================] - 0s 20ms/step\n",
            "1/1 [==============================] - 0s 19ms/step\n",
            "1/1 [==============================] - 0s 19ms/step\n"
          ]
        },
        {
          "name": "stderr",
          "output_type": "stream",
          "text": [
            "2023-05-31 02:55:05 633684638fd9 root[1152] DEBUG Buy at: $91.78\n"
          ]
        },
        {
          "name": "stdout",
          "output_type": "stream",
          "text": [
            "1/1 [==============================] - 0s 19ms/step\n",
            "1/1 [==============================] - 0s 19ms/step\n",
            "1/1 [==============================] - 0s 19ms/step\n",
            "1/1 [==============================] - 0s 20ms/step\n"
          ]
        },
        {
          "name": "stderr",
          "output_type": "stream",
          "text": [
            "2023-05-31 02:55:05 633684638fd9 root[1152] DEBUG Buy at: $89.98\n"
          ]
        },
        {
          "name": "stdout",
          "output_type": "stream",
          "text": [
            "1/1 [==============================] - 0s 20ms/step\n"
          ]
        },
        {
          "name": "stderr",
          "output_type": "stream",
          "text": [
            "2023-05-31 02:55:05 633684638fd9 root[1152] DEBUG Sell at: $90.92 | Position: +$38.24\n"
          ]
        },
        {
          "name": "stdout",
          "output_type": "stream",
          "text": [
            "1/1 [==============================] - 0s 19ms/step\n",
            "1/1 [==============================] - 0s 20ms/step\n"
          ]
        },
        {
          "name": "stderr",
          "output_type": "stream",
          "text": [
            "2023-05-31 02:55:05 633684638fd9 root[1152] DEBUG Buy at: $90.22\n"
          ]
        },
        {
          "name": "stdout",
          "output_type": "stream",
          "text": [
            "1/1 [==============================] - 0s 19ms/step\n",
            "1/1 [==============================] - 0s 20ms/step\n",
            "1/1 [==============================] - 0s 20ms/step\n",
            "1/1 [==============================] - 0s 20ms/step\n",
            "1/1 [==============================] - 0s 20ms/step\n",
            "1/1 [==============================] - 0s 21ms/step\n",
            "1/1 [==============================] - 0s 20ms/step\n",
            "1/1 [==============================] - 0s 19ms/step\n"
          ]
        },
        {
          "name": "stderr",
          "output_type": "stream",
          "text": [
            "2023-05-31 02:55:06 633684638fd9 root[1152] DEBUG Buy at: $90.62\n"
          ]
        },
        {
          "name": "stdout",
          "output_type": "stream",
          "text": [
            "1/1 [==============================] - 0s 21ms/step\n",
            "1/1 [==============================] - 0s 20ms/step\n",
            "1/1 [==============================] - 0s 19ms/step\n"
          ]
        },
        {
          "name": "stderr",
          "output_type": "stream",
          "text": [
            "2023-05-31 02:55:06 633684638fd9 root[1152] DEBUG Buy at: $92.74\n"
          ]
        },
        {
          "name": "stdout",
          "output_type": "stream",
          "text": [
            "1/1 [==============================] - 0s 19ms/step\n",
            "1/1 [==============================] - 0s 19ms/step\n",
            "1/1 [==============================] - 0s 19ms/step\n",
            "1/1 [==============================] - 0s 20ms/step\n",
            "1/1 [==============================] - 0s 19ms/step\n",
            "1/1 [==============================] - 0s 19ms/step\n",
            "1/1 [==============================] - 0s 21ms/step\n",
            "1/1 [==============================] - 0s 20ms/step\n",
            "1/1 [==============================] - 0s 20ms/step\n"
          ]
        },
        {
          "name": "stderr",
          "output_type": "stream",
          "text": [
            "2023-05-31 02:55:06 633684638fd9 root[1152] DEBUG Buy at: $96.82\n"
          ]
        },
        {
          "name": "stdout",
          "output_type": "stream",
          "text": [
            "1/1 [==============================] - 0s 19ms/step\n"
          ]
        },
        {
          "name": "stderr",
          "output_type": "stream",
          "text": [
            "2023-05-31 02:55:06 633684638fd9 root[1152] DEBUG Buy at: $97.86\n"
          ]
        },
        {
          "name": "stdout",
          "output_type": "stream",
          "text": [
            "1/1 [==============================] - 0s 20ms/step\n",
            "1/1 [==============================] - 0s 20ms/step\n",
            "1/1 [==============================] - 0s 21ms/step\n",
            "1/1 [==============================] - 0s 19ms/step\n",
            "1/1 [==============================] - 0s 19ms/step\n",
            "1/1 [==============================] - 0s 20ms/step\n",
            "1/1 [==============================] - 0s 23ms/step\n",
            "1/1 [==============================] - 0s 21ms/step\n"
          ]
        },
        {
          "name": "stderr",
          "output_type": "stream",
          "text": [
            "2023-05-31 02:55:07 633684638fd9 root[1152] DEBUG Buy at: $101.57\n"
          ]
        },
        {
          "name": "stdout",
          "output_type": "stream",
          "text": [
            "1/1 [==============================] - 0s 19ms/step\n",
            "1/1 [==============================] - 0s 21ms/step\n",
            "1/1 [==============================] - 0s 20ms/step\n",
            "1/1 [==============================] - 0s 20ms/step\n",
            "1/1 [==============================] - 0s 19ms/step\n",
            "1/1 [==============================] - 0s 20ms/step\n",
            "1/1 [==============================] - 0s 20ms/step\n",
            "1/1 [==============================] - 0s 20ms/step\n",
            "1/1 [==============================] - 0s 19ms/step\n",
            "1/1 [==============================] - 0s 20ms/step\n",
            "1/1 [==============================] - 0s 19ms/step\n"
          ]
        },
        {
          "name": "stderr",
          "output_type": "stream",
          "text": [
            "2023-05-31 02:55:07 633684638fd9 root[1152] DEBUG Buy at: $103.99\n"
          ]
        },
        {
          "name": "stdout",
          "output_type": "stream",
          "text": [
            "1/1 [==============================] - 0s 19ms/step\n",
            "1/1 [==============================] - 0s 19ms/step\n",
            "1/1 [==============================] - 0s 20ms/step\n",
            "1/1 [==============================] - 0s 19ms/step\n",
            "1/1 [==============================] - 0s 20ms/step\n",
            "1/1 [==============================] - 0s 20ms/step\n"
          ]
        },
        {
          "name": "stderr",
          "output_type": "stream",
          "text": [
            "2023-05-31 02:55:08 633684638fd9 root[1152] DEBUG Sell at: $102.86 | Position: +$46.35\n"
          ]
        },
        {
          "name": "stdout",
          "output_type": "stream",
          "text": [
            "1/1 [==============================] - 0s 23ms/step\n",
            "1/1 [==============================] - 0s 20ms/step\n"
          ]
        },
        {
          "name": "stderr",
          "output_type": "stream",
          "text": [
            "2023-05-31 02:55:08 633684638fd9 root[1152] DEBUG Buy at: $102.52\n"
          ]
        },
        {
          "name": "stdout",
          "output_type": "stream",
          "text": [
            "1/1 [==============================] - 0s 19ms/step\n"
          ]
        },
        {
          "name": "stderr",
          "output_type": "stream",
          "text": [
            "2023-05-31 02:55:08 633684638fd9 root[1152] DEBUG Buy at: $101.41\n"
          ]
        },
        {
          "name": "stdout",
          "output_type": "stream",
          "text": [
            "1/1 [==============================] - 0s 19ms/step\n",
            "1/1 [==============================] - 0s 19ms/step\n",
            "1/1 [==============================] - 0s 19ms/step\n",
            "1/1 [==============================] - 0s 20ms/step\n"
          ]
        },
        {
          "name": "stderr",
          "output_type": "stream",
          "text": [
            "2023-05-31 02:55:08 633684638fd9 root[1152] DEBUG Sell at: $93.61 | Position: +$37.81\n"
          ]
        },
        {
          "name": "stdout",
          "output_type": "stream",
          "text": [
            "1/1 [==============================] - 0s 20ms/step\n"
          ]
        },
        {
          "name": "stderr",
          "output_type": "stream",
          "text": [
            "2023-05-31 02:55:08 633684638fd9 root[1152] DEBUG Sell at: $90.75 | Position: +$34.46\n"
          ]
        },
        {
          "name": "stdout",
          "output_type": "stream",
          "text": [
            "1/1 [==============================] - 0s 20ms/step\n"
          ]
        },
        {
          "name": "stderr",
          "output_type": "stream",
          "text": [
            "2023-05-31 02:55:08 633684638fd9 root[1152] DEBUG Sell at: $89.71 | Position: +$26.87\n"
          ]
        },
        {
          "name": "stdout",
          "output_type": "stream",
          "text": [
            "1/1 [==============================] - 0s 20ms/step\n"
          ]
        },
        {
          "name": "stderr",
          "output_type": "stream",
          "text": [
            "2023-05-31 02:55:08 633684638fd9 root[1152] DEBUG Buy at: $89.61\n"
          ]
        },
        {
          "name": "stdout",
          "output_type": "stream",
          "text": [
            "1/1 [==============================] - 0s 19ms/step\n",
            "1/1 [==============================] - 0s 20ms/step\n",
            "1/1 [==============================] - 0s 20ms/step\n",
            "1/1 [==============================] - 0s 20ms/step\n",
            "1/1 [==============================] - 0s 19ms/step\n",
            "1/1 [==============================] - 0s 20ms/step\n",
            "1/1 [==============================] - 0s 24ms/step\n",
            "1/1 [==============================] - 0s 20ms/step\n"
          ]
        },
        {
          "name": "stderr",
          "output_type": "stream",
          "text": [
            "2023-05-31 02:55:09 633684638fd9 root[1152] DEBUG Sell at: $86.98 | Position: +$19.34\n"
          ]
        },
        {
          "name": "stdout",
          "output_type": "stream",
          "text": [
            "1/1 [==============================] - 0s 20ms/step\n",
            "1/1 [==============================] - 0s 19ms/step\n",
            "1/1 [==============================] - 0s 20ms/step\n"
          ]
        },
        {
          "name": "stderr",
          "output_type": "stream",
          "text": [
            "2023-05-31 02:55:09 633684638fd9 root[1152] DEBUG Buy at: $90.01\n"
          ]
        },
        {
          "name": "stdout",
          "output_type": "stream",
          "text": [
            "1/1 [==============================] - 0s 19ms/step\n",
            "1/1 [==============================] - 0s 19ms/step\n",
            "1/1 [==============================] - 0s 19ms/step\n",
            "1/1 [==============================] - 0s 19ms/step\n",
            "1/1 [==============================] - 0s 19ms/step\n",
            "1/1 [==============================] - 0s 19ms/step\n",
            "1/1 [==============================] - 0s 19ms/step\n",
            "1/1 [==============================] - 0s 19ms/step\n",
            "1/1 [==============================] - 0s 19ms/step\n",
            "1/1 [==============================] - 0s 20ms/step\n"
          ]
        },
        {
          "name": "stderr",
          "output_type": "stream",
          "text": [
            "2023-05-31 02:55:09 633684638fd9 root[1152] DEBUG Sell at: $94.80 | Position: +$26.94\n"
          ]
        },
        {
          "name": "stdout",
          "output_type": "stream",
          "text": [
            "1/1 [==============================] - 0s 20ms/step\n"
          ]
        },
        {
          "name": "stderr",
          "output_type": "stream",
          "text": [
            "2023-05-31 02:55:09 633684638fd9 root[1152] DEBUG Buy at: $94.09\n"
          ]
        },
        {
          "name": "stdout",
          "output_type": "stream",
          "text": [
            "1/1 [==============================] - 0s 19ms/step\n"
          ]
        },
        {
          "name": "stderr",
          "output_type": "stream",
          "text": [
            "2023-05-31 02:55:09 633684638fd9 root[1152] DEBUG Buy at: $94.28\n"
          ]
        },
        {
          "name": "stdout",
          "output_type": "stream",
          "text": [
            "1/1 [==============================] - 0s 19ms/step\n",
            "1/1 [==============================] - 0s 20ms/step\n",
            "1/1 [==============================] - 0s 20ms/step\n",
            "1/1 [==============================] - 0s 20ms/step\n",
            "1/1 [==============================] - 0s 20ms/step\n",
            "1/1 [==============================] - 0s 20ms/step\n",
            "1/1 [==============================] - 0s 20ms/step\n",
            "1/1 [==============================] - 0s 19ms/step\n"
          ]
        },
        {
          "name": "stderr",
          "output_type": "stream",
          "text": [
            "2023-05-31 02:55:10 633684638fd9 root[1152] DEBUG Buy at: $93.53\n"
          ]
        },
        {
          "name": "stdout",
          "output_type": "stream",
          "text": [
            "1/1 [==============================] - 0s 19ms/step\n"
          ]
        },
        {
          "name": "stderr",
          "output_type": "stream",
          "text": [
            "2023-05-31 02:55:10 633684638fd9 root[1152] DEBUG Buy at: $93.92\n"
          ]
        },
        {
          "name": "stdout",
          "output_type": "stream",
          "text": [
            "1/1 [==============================] - 0s 21ms/step\n",
            "1/1 [==============================] - 0s 21ms/step\n",
            "1/1 [==============================] - 0s 21ms/step\n",
            "1/1 [==============================] - 0s 20ms/step\n",
            "1/1 [==============================] - 0s 20ms/step\n",
            "1/1 [==============================] - 0s 20ms/step\n",
            "1/1 [==============================] - 0s 19ms/step\n"
          ]
        },
        {
          "name": "stderr",
          "output_type": "stream",
          "text": [
            "2023-05-31 02:55:10 633684638fd9 root[1152] DEBUG Sell at: $88.62 | Position: +$27.54\n"
          ]
        },
        {
          "name": "stdout",
          "output_type": "stream",
          "text": [
            "1/1 [==============================] - 0s 20ms/step\n",
            "1/1 [==============================] - 0s 20ms/step\n",
            "1/1 [==============================] - 0s 20ms/step\n",
            "1/1 [==============================] - 0s 21ms/step\n",
            "1/1 [==============================] - 0s 22ms/step\n",
            "1/1 [==============================] - 0s 20ms/step\n",
            "1/1 [==============================] - 0s 20ms/step\n",
            "1/1 [==============================] - 0s 21ms/step\n",
            "1/1 [==============================] - 0s 19ms/step\n",
            "1/1 [==============================] - 0s 20ms/step\n",
            "1/1 [==============================] - 0s 19ms/step\n",
            "1/1 [==============================] - 0s 19ms/step\n",
            "1/1 [==============================] - 0s 20ms/step\n",
            "1/1 [==============================] - 0s 20ms/step\n",
            "1/1 [==============================] - 0s 20ms/step\n",
            "1/1 [==============================] - 0s 20ms/step\n",
            "1/1 [==============================] - 0s 19ms/step\n",
            "1/1 [==============================] - 0s 20ms/step\n"
          ]
        },
        {
          "name": "stderr",
          "output_type": "stream",
          "text": [
            "2023-05-31 02:55:11 633684638fd9 root[1152] DEBUG Buy at: $94.99\n"
          ]
        },
        {
          "name": "stdout",
          "output_type": "stream",
          "text": [
            "1/1 [==============================] - 0s 20ms/step\n"
          ]
        },
        {
          "name": "stderr",
          "output_type": "stream",
          "text": [
            "2023-05-31 02:55:11 633684638fd9 root[1152] DEBUG Sell at: $93.72 | Position: +$25.39\n"
          ]
        },
        {
          "name": "stdout",
          "output_type": "stream",
          "text": [
            "1/1 [==============================] - 0s 20ms/step\n"
          ]
        },
        {
          "name": "stderr",
          "output_type": "stream",
          "text": [
            "2023-05-31 02:55:11 633684638fd9 root[1152] DEBUG Buy at: $93.08\n"
          ]
        },
        {
          "name": "stdout",
          "output_type": "stream",
          "text": [
            "1/1 [==============================] - 0s 20ms/step\n",
            "1/1 [==============================] - 0s 21ms/step\n",
            "1/1 [==============================] - 0s 20ms/step\n",
            "1/1 [==============================] - 0s 20ms/step\n",
            "1/1 [==============================] - 0s 20ms/step\n",
            "1/1 [==============================] - 0s 19ms/step\n",
            "1/1 [==============================] - 0s 20ms/step\n",
            "1/1 [==============================] - 0s 20ms/step\n",
            "1/1 [==============================] - 0s 21ms/step\n",
            "1/1 [==============================] - 0s 21ms/step\n",
            "1/1 [==============================] - 0s 20ms/step\n",
            "1/1 [==============================] - 0s 20ms/step\n",
            "1/1 [==============================] - 0s 20ms/step\n",
            "1/1 [==============================] - 0s 19ms/step\n"
          ]
        },
        {
          "name": "stderr",
          "output_type": "stream",
          "text": [
            "2023-05-31 02:55:12 633684638fd9 root[1152] DEBUG Buy at: $105.98\n"
          ]
        },
        {
          "name": "stdout",
          "output_type": "stream",
          "text": [
            "1/1 [==============================] - 0s 20ms/step\n",
            "1/1 [==============================] - 0s 19ms/step\n",
            "1/1 [==============================] - 0s 20ms/step\n",
            "1/1 [==============================] - 0s 20ms/step\n",
            "1/1 [==============================] - 0s 20ms/step\n",
            "1/1 [==============================] - 0s 20ms/step\n",
            "1/1 [==============================] - 0s 20ms/step\n",
            "1/1 [==============================] - 0s 19ms/step\n",
            "1/1 [==============================] - 0s 19ms/step\n",
            "1/1 [==============================] - 0s 19ms/step\n",
            "1/1 [==============================] - 0s 20ms/step\n",
            "1/1 [==============================] - 0s 21ms/step\n",
            "1/1 [==============================] - 0s 20ms/step\n",
            "1/1 [==============================] - 0s 19ms/step\n",
            "1/1 [==============================] - 0s 20ms/step\n",
            "1/1 [==============================] - 0s 20ms/step\n",
            "1/1 [==============================] - 0s 20ms/step\n",
            "1/1 [==============================] - 0s 20ms/step\n"
          ]
        },
        {
          "name": "stderr",
          "output_type": "stream",
          "text": [
            "2023-05-31 02:55:13 633684638fd9 root[1152] DEBUG Sell at: $99.83 | Position: +$32.32\n"
          ]
        },
        {
          "name": "stdout",
          "output_type": "stream",
          "text": [
            "1/1 [==============================] - 0s 21ms/step\n",
            "1/1 [==============================] - 0s 21ms/step\n"
          ]
        },
        {
          "name": "stderr",
          "output_type": "stream",
          "text": [
            "2023-05-31 02:55:13 633684638fd9 root[1152] DEBUG Buy at: $104.50\n"
          ]
        },
        {
          "name": "stdout",
          "output_type": "stream",
          "text": [
            "1/1 [==============================] - 0s 19ms/step\n",
            "1/1 [==============================] - 0s 19ms/step\n",
            "1/1 [==============================] - 0s 20ms/step\n",
            "1/1 [==============================] - 0s 20ms/step\n",
            "1/1 [==============================] - 0s 20ms/step\n",
            "1/1 [==============================] - 0s 20ms/step\n"
          ]
        },
        {
          "name": "stderr",
          "output_type": "stream",
          "text": [
            "2023-05-31 02:55:13 633684638fd9 root[1152] DEBUG Buy at: $109.92\n"
          ]
        },
        {
          "name": "stdout",
          "output_type": "stream",
          "text": [
            "1/1 [==============================] - 0s 19ms/step\n"
          ]
        },
        {
          "name": "stderr",
          "output_type": "stream",
          "text": [
            "2023-05-31 02:55:14 633684638fd9 root[1152] DEBUG Buy at: $110.96\n"
          ]
        },
        {
          "name": "stdout",
          "output_type": "stream",
          "text": [
            "1/1 [==============================] - 0s 21ms/step\n",
            "1/1 [==============================] - 0s 20ms/step\n",
            "1/1 [==============================] - 0s 20ms/step\n",
            "1/1 [==============================] - 0s 20ms/step\n",
            "1/1 [==============================] - 0s 20ms/step\n",
            "1/1 [==============================] - 0s 21ms/step\n",
            "1/1 [==============================] - 0s 20ms/step\n",
            "1/1 [==============================] - 0s 19ms/step\n",
            "1/1 [==============================] - 0s 19ms/step\n",
            "1/1 [==============================] - 0s 20ms/step\n",
            "1/1 [==============================] - 0s 20ms/step\n",
            "1/1 [==============================] - 0s 20ms/step\n",
            "1/1 [==============================] - 0s 20ms/step\n",
            "1/1 [==============================] - 0s 19ms/step\n",
            "1/1 [==============================] - 0s 21ms/step\n",
            "1/1 [==============================] - 0s 21ms/step\n",
            "1/1 [==============================] - 0s 22ms/step\n",
            "1/1 [==============================] - 0s 21ms/step\n"
          ]
        },
        {
          "name": "stderr",
          "output_type": "stream",
          "text": [
            "2023-05-31 02:55:15 633684638fd9 root[1152] DEBUG Buy at: $113.71\n"
          ]
        },
        {
          "name": "stdout",
          "output_type": "stream",
          "text": [
            "1/1 [==============================] - 0s 20ms/step\n",
            "1/1 [==============================] - 0s 21ms/step\n",
            "1/1 [==============================] - 0s 20ms/step\n",
            "1/1 [==============================] - 0s 19ms/step\n",
            "1/1 [==============================] - 0s 20ms/step\n",
            "1/1 [==============================] - 0s 20ms/step\n",
            "1/1 [==============================] - 0s 21ms/step\n",
            "1/1 [==============================] - 0s 20ms/step\n",
            "1/1 [==============================] - 0s 21ms/step\n"
          ]
        },
        {
          "name": "stderr",
          "output_type": "stream",
          "text": [
            "2023-05-31 02:55:15 633684638fd9 root[1152] DEBUG Buy at: $109.91\n"
          ]
        },
        {
          "name": "stdout",
          "output_type": "stream",
          "text": [
            "1/1 [==============================] - 0s 19ms/step\n"
          ]
        },
        {
          "name": "stderr",
          "output_type": "stream",
          "text": [
            "2023-05-31 02:55:15 633684638fd9 root[1152] DEBUG Buy at: $107.93\n"
          ]
        },
        {
          "name": "stdout",
          "output_type": "stream",
          "text": [
            "1/1 [==============================] - 0s 20ms/step\n",
            "1/1 [==============================] - 0s 20ms/step\n",
            "1/1 [==============================] - 0s 20ms/step\n",
            "1/1 [==============================] - 0s 21ms/step\n",
            "1/1 [==============================] - 0s 21ms/step\n",
            "1/1 [==============================] - 0s 20ms/step\n",
            "1/1 [==============================] - 0s 21ms/step\n",
            "1/1 [==============================] - 0s 20ms/step\n",
            "1/1 [==============================] - 0s 20ms/step\n",
            "1/1 [==============================] - 0s 19ms/step\n",
            "1/1 [==============================] - 0s 20ms/step\n"
          ]
        },
        {
          "name": "stderr",
          "output_type": "stream",
          "text": [
            "2023-05-31 02:55:16 633684638fd9 root[1152] DEBUG Sell at: $107.02 | Position: +$31.58\n"
          ]
        },
        {
          "name": "stdout",
          "output_type": "stream",
          "text": [
            "1/1 [==============================] - 0s 19ms/step\n"
          ]
        },
        {
          "name": "stderr",
          "output_type": "stream",
          "text": [
            "2023-05-31 02:55:16 633684638fd9 root[1152] DEBUG Buy at: $106.98\n"
          ]
        },
        {
          "name": "stdout",
          "output_type": "stream",
          "text": [
            "1/1 [==============================] - 0s 21ms/step\n",
            "1/1 [==============================] - 0s 21ms/step\n",
            "1/1 [==============================] - 0s 20ms/step\n",
            "1/1 [==============================] - 0s 21ms/step\n"
          ]
        },
        {
          "name": "stderr",
          "output_type": "stream",
          "text": [
            "2023-05-31 02:55:16 633684638fd9 root[1152] DEBUG Buy at: $108.23\n"
          ]
        },
        {
          "name": "stdout",
          "output_type": "stream",
          "text": [
            "1/1 [==============================] - 0s 21ms/step\n",
            "1/1 [==============================] - 0s 19ms/step\n",
            "1/1 [==============================] - 0s 21ms/step\n",
            "1/1 [==============================] - 0s 21ms/step\n",
            "1/1 [==============================] - 0s 20ms/step\n"
          ]
        },
        {
          "name": "stderr",
          "output_type": "stream",
          "text": [
            "2023-05-31 02:55:16 633684638fd9 root[1152] DEBUG Buy at: $106.53\n"
          ]
        },
        {
          "name": "stdout",
          "output_type": "stream",
          "text": [
            "1/1 [==============================] - 0s 20ms/step\n",
            "1/1 [==============================] - 0s 21ms/step\n",
            "1/1 [==============================] - 0s 21ms/step\n",
            "1/1 [==============================] - 0s 21ms/step\n",
            "1/1 [==============================] - 0s 20ms/step\n",
            "1/1 [==============================] - 0s 20ms/step\n",
            "1/1 [==============================] - 0s 19ms/step\n",
            "1/1 [==============================] - 0s 21ms/step\n",
            "1/1 [==============================] - 0s 21ms/step\n",
            "1/1 [==============================] - 0s 20ms/step\n",
            "1/1 [==============================] - 0s 20ms/step\n",
            "1/1 [==============================] - 0s 20ms/step\n",
            "1/1 [==============================] - 0s 19ms/step\n",
            "1/1 [==============================] - 0s 19ms/step\n",
            "1/1 [==============================] - 0s 21ms/step\n",
            "1/1 [==============================] - 0s 20ms/step\n",
            "1/1 [==============================] - 0s 20ms/step\n",
            "1/1 [==============================] - 0s 20ms/step\n",
            "1/1 [==============================] - 0s 20ms/step\n",
            "1/1 [==============================] - 0s 20ms/step\n",
            "1/1 [==============================] - 0s 19ms/step\n",
            "1/1 [==============================] - 0s 20ms/step\n",
            "1/1 [==============================] - 0s 20ms/step\n",
            "1/1 [==============================] - 0s 20ms/step\n",
            "1/1 [==============================] - 0s 20ms/step\n",
            "1/1 [==============================] - 0s 19ms/step\n",
            "1/1 [==============================] - 0s 19ms/step\n",
            "1/1 [==============================] - 0s 20ms/step\n",
            "1/1 [==============================] - 0s 19ms/step\n"
          ]
        },
        {
          "name": "stderr",
          "output_type": "stream",
          "text": [
            "2023-05-31 02:55:18 633684638fd9 root[1152] DEBUG Buy at: $115.83\n"
          ]
        },
        {
          "name": "stdout",
          "output_type": "stream",
          "text": [
            "1/1 [==============================] - 0s 20ms/step\n",
            "1/1 [==============================] - 0s 20ms/step\n"
          ]
        },
        {
          "name": "stderr",
          "output_type": "stream",
          "text": [
            "2023-05-31 02:55:18 633684638fd9 root[1152] DEBUG Buy at: $116.75\n"
          ]
        },
        {
          "name": "stdout",
          "output_type": "stream",
          "text": [
            "1/1 [==============================] - 0s 19ms/step\n",
            "1/1 [==============================] - 0s 19ms/step\n",
            "1/1 [==============================] - 0s 19ms/step\n",
            "1/1 [==============================] - 0s 20ms/step\n",
            "1/1 [==============================] - 0s 19ms/step\n",
            "1/1 [==============================] - 0s 20ms/step\n",
            "1/1 [==============================] - 0s 21ms/step\n",
            "1/1 [==============================] - 0s 20ms/step\n",
            "1/1 [==============================] - 0s 19ms/step\n",
            "1/1 [==============================] - 0s 21ms/step\n",
            "1/1 [==============================] - 0s 20ms/step\n",
            "1/1 [==============================] - 0s 19ms/step\n",
            "1/1 [==============================] - 0s 19ms/step\n",
            "1/1 [==============================] - 0s 20ms/step\n",
            "1/1 [==============================] - 0s 20ms/step\n",
            "1/1 [==============================] - 0s 20ms/step\n",
            "1/1 [==============================] - 0s 20ms/step\n",
            "1/1 [==============================] - 0s 20ms/step\n",
            "1/1 [==============================] - 0s 19ms/step\n",
            "1/1 [==============================] - 0s 19ms/step\n",
            "1/1 [==============================] - 0s 19ms/step\n",
            "1/1 [==============================] - 0s 19ms/step\n",
            "1/1 [==============================] - 0s 19ms/step\n",
            "1/1 [==============================] - 0s 20ms/step\n"
          ]
        },
        {
          "name": "stderr",
          "output_type": "stream",
          "text": [
            "2023-05-31 02:55:19 633684638fd9 root[1152] DEBUG Buy at: $133.99\n"
          ]
        },
        {
          "name": "stdout",
          "output_type": "stream",
          "text": [
            "1/1 [==============================] - 0s 24ms/step\n",
            "1/1 [==============================] - 0s 24ms/step\n",
            "1/1 [==============================] - 0s 24ms/step\n",
            "1/1 [==============================] - 0s 24ms/step\n",
            "1/1 [==============================] - 0s 24ms/step\n",
            "1/1 [==============================] - 0s 24ms/step\n",
            "1/1 [==============================] - 0s 25ms/step\n",
            "1/1 [==============================] - 0s 24ms/step\n",
            "1/1 [==============================] - 0s 25ms/step\n",
            "1/1 [==============================] - 0s 24ms/step\n",
            "1/1 [==============================] - 0s 25ms/step\n",
            "1/1 [==============================] - 0s 25ms/step\n",
            "1/1 [==============================] - 0s 24ms/step\n",
            "1/1 [==============================] - 0s 26ms/step\n",
            "1/1 [==============================] - 0s 25ms/step\n",
            "1/1 [==============================] - 0s 25ms/step\n",
            "1/1 [==============================] - 0s 26ms/step\n",
            "1/1 [==============================] - 0s 25ms/step\n",
            "1/1 [==============================] - 0s 26ms/step\n",
            "1/1 [==============================] - 0s 25ms/step\n",
            "1/1 [==============================] - 0s 25ms/step\n",
            "1/1 [==============================] - 0s 24ms/step\n",
            "1/1 [==============================] - 0s 25ms/step\n",
            "1/1 [==============================] - 0s 24ms/step\n",
            "1/1 [==============================] - 0s 24ms/step\n",
            "1/1 [==============================] - 0s 25ms/step\n",
            "1/1 [==============================] - 0s 25ms/step\n",
            "1/1 [==============================] - 0s 24ms/step\n",
            "1/1 [==============================] - 0s 24ms/step\n",
            "1/1 [==============================] - 0s 24ms/step\n"
          ]
        },
        {
          "name": "stderr",
          "output_type": "stream",
          "text": [
            "2023-05-31 02:55:21 633684638fd9 root[1152] DEBUG Buy at: $140.74\n"
          ]
        },
        {
          "name": "stdout",
          "output_type": "stream",
          "text": [
            "1/1 [==============================] - 0s 25ms/step\n"
          ]
        },
        {
          "name": "stderr",
          "output_type": "stream",
          "text": [
            "2023-05-31 02:55:21 633684638fd9 root[1152] DEBUG Buy at: $140.39\n"
          ]
        },
        {
          "name": "stdout",
          "output_type": "stream",
          "text": [
            "1/1 [==============================] - 0s 24ms/step\n",
            "1/1 [==============================] - 0s 25ms/step\n",
            "1/1 [==============================] - 0s 24ms/step\n",
            "1/1 [==============================] - 0s 24ms/step\n",
            "1/1 [==============================] - 0s 24ms/step\n",
            "1/1 [==============================] - 0s 24ms/step\n",
            "1/1 [==============================] - 0s 24ms/step\n",
            "1/1 [==============================] - 0s 25ms/step\n",
            "1/1 [==============================] - 0s 27ms/step\n",
            "1/1 [==============================] - 0s 25ms/step\n",
            "1/1 [==============================] - 0s 24ms/step\n",
            "1/1 [==============================] - 0s 25ms/step\n",
            "1/1 [==============================] - 0s 24ms/step\n",
            "1/1 [==============================] - 0s 25ms/step\n",
            "1/1 [==============================] - 0s 24ms/step\n",
            "1/1 [==============================] - 0s 24ms/step\n",
            "1/1 [==============================] - 0s 25ms/step\n",
            "1/1 [==============================] - 0s 24ms/step\n",
            "1/1 [==============================] - 0s 24ms/step\n",
            "1/1 [==============================] - 0s 23ms/step\n",
            "1/1 [==============================] - 0s 23ms/step\n",
            "1/1 [==============================] - 0s 25ms/step\n",
            "1/1 [==============================] - 0s 24ms/step\n",
            "1/1 [==============================] - 0s 23ms/step\n",
            "1/1 [==============================] - 0s 24ms/step\n",
            "1/1 [==============================] - 0s 23ms/step\n"
          ]
        },
        {
          "name": "stderr",
          "output_type": "stream",
          "text": [
            "2023-05-31 02:55:23 633684638fd9 root[1152] DEBUG Buy at: $152.78\n"
          ]
        },
        {
          "name": "stdout",
          "output_type": "stream",
          "text": [
            "1/1 [==============================] - 0s 25ms/step\n"
          ]
        },
        {
          "name": "stderr",
          "output_type": "stream",
          "text": [
            "2023-05-31 02:55:23 633684638fd9 root[1152] DEBUG Sell at: $152.56 | Position: +$67.14\n"
          ]
        },
        {
          "name": "stdout",
          "output_type": "stream",
          "text": [
            "1/1 [==============================] - 0s 26ms/step\n"
          ]
        },
        {
          "name": "stderr",
          "output_type": "stream",
          "text": [
            "2023-05-31 02:55:23 633684638fd9 root[1152] DEBUG Sell at: $147.43 | Position: +$62.80\n"
          ]
        },
        {
          "name": "stdout",
          "output_type": "stream",
          "text": [
            "1/1 [==============================] - 0s 26ms/step\n",
            "1/1 [==============================] - 0s 24ms/step\n",
            "1/1 [==============================] - 0s 23ms/step\n"
          ]
        },
        {
          "name": "stderr",
          "output_type": "stream",
          "text": [
            "2023-05-31 02:55:23 633684638fd9 root[1152] DEBUG Buy at: $151.10\n"
          ]
        },
        {
          "name": "stdout",
          "output_type": "stream",
          "text": [
            "1/1 [==============================] - 0s 24ms/step\n",
            "1/1 [==============================] - 0s 24ms/step\n",
            "1/1 [==============================] - 0s 25ms/step\n",
            "1/1 [==============================] - 0s 25ms/step\n"
          ]
        },
        {
          "name": "stderr",
          "output_type": "stream",
          "text": [
            "2023-05-31 02:55:24 633684638fd9 root[1152] DEBUG Buy at: $150.73\n"
          ]
        },
        {
          "name": "stdout",
          "output_type": "stream",
          "text": [
            "1/1 [==============================] - 0s 24ms/step\n",
            "1/1 [==============================] - 0s 26ms/step\n",
            "1/1 [==============================] - 0s 25ms/step\n",
            "1/1 [==============================] - 0s 25ms/step\n",
            "1/1 [==============================] - 0s 24ms/step\n",
            "1/1 [==============================] - 0s 28ms/step\n",
            "1/1 [==============================] - 0s 25ms/step\n",
            "1/1 [==============================] - 0s 26ms/step\n",
            "1/1 [==============================] - 0s 26ms/step\n"
          ]
        },
        {
          "name": "stderr",
          "output_type": "stream",
          "text": [
            "2023-05-31 02:55:24 633684638fd9 root[1152] DEBUG Sell at: $146.19 | Position: +$60.81\n"
          ]
        },
        {
          "name": "stdout",
          "output_type": "stream",
          "text": [
            "1/1 [==============================] - 0s 24ms/step\n"
          ]
        },
        {
          "name": "stderr",
          "output_type": "stream",
          "text": [
            "2023-05-31 02:55:24 633684638fd9 root[1152] DEBUG Sell at: $142.69 | Position: +$54.28\n"
          ]
        },
        {
          "name": "stdout",
          "output_type": "stream",
          "text": [
            "1/1 [==============================] - 0s 22ms/step\n",
            "1/1 [==============================] - 0s 22ms/step\n"
          ]
        },
        {
          "name": "stderr",
          "output_type": "stream",
          "text": [
            "2023-05-31 02:55:24 633684638fd9 root[1152] DEBUG Buy at: $142.44\n"
          ]
        },
        {
          "name": "stdout",
          "output_type": "stream",
          "text": [
            "1/1 [==============================] - 0s 23ms/step\n"
          ]
        },
        {
          "name": "stderr",
          "output_type": "stream",
          "text": [
            "2023-05-31 02:55:24 633684638fd9 root[1152] DEBUG Sell at: $141.58 | Position: +$54.48\n"
          ]
        },
        {
          "name": "stdout",
          "output_type": "stream",
          "text": [
            "1/1 [==============================] - 0s 23ms/step\n",
            "1/1 [==============================] - 0s 23ms/step\n",
            "1/1 [==============================] - 0s 24ms/step\n",
            "1/1 [==============================] - 0s 23ms/step\n",
            "1/1 [==============================] - 0s 23ms/step\n",
            "1/1 [==============================] - 0s 22ms/step\n",
            "1/1 [==============================] - 0s 21ms/step\n",
            "1/1 [==============================] - 0s 21ms/step\n"
          ]
        },
        {
          "name": "stderr",
          "output_type": "stream",
          "text": [
            "2023-05-31 02:55:25 633684638fd9 root[1152] DEBUG Sell at: $141.04 | Position: +$50.03\n"
          ]
        },
        {
          "name": "stdout",
          "output_type": "stream",
          "text": [
            "1/1 [==============================] - 0s 21ms/step\n",
            "1/1 [==============================] - 0s 23ms/step\n"
          ]
        },
        {
          "name": "stderr",
          "output_type": "stream",
          "text": [
            "2023-05-31 02:55:25 633684638fd9 root[1152] DEBUG Buy at: $140.99\n"
          ]
        },
        {
          "name": "stdout",
          "output_type": "stream",
          "text": [
            "1/1 [==============================] - 0s 23ms/step\n",
            "1/1 [==============================] - 0s 22ms/step\n",
            "1/1 [==============================] - 0s 22ms/step\n",
            "1/1 [==============================] - 0s 22ms/step\n",
            "1/1 [==============================] - 0s 21ms/step\n",
            "1/1 [==============================] - 0s 20ms/step\n",
            "1/1 [==============================] - 0s 21ms/step\n"
          ]
        },
        {
          "name": "stderr",
          "output_type": "stream",
          "text": [
            "2023-05-31 02:55:25 633684638fd9 root[1152] DEBUG Buy at: $142.80\n"
          ]
        },
        {
          "name": "stdout",
          "output_type": "stream",
          "text": [
            "1/1 [==============================] - 0s 21ms/step\n",
            "1/1 [==============================] - 0s 23ms/step\n",
            "1/1 [==============================] - 0s 23ms/step\n",
            "1/1 [==============================] - 0s 21ms/step\n",
            "1/1 [==============================] - 0s 20ms/step\n",
            "1/1 [==============================] - 0s 20ms/step\n",
            "1/1 [==============================] - 0s 20ms/step\n",
            "1/1 [==============================] - 0s 19ms/step\n",
            "1/1 [==============================] - 0s 20ms/step\n",
            "1/1 [==============================] - 0s 20ms/step\n"
          ]
        },
        {
          "name": "stderr",
          "output_type": "stream",
          "text": [
            "2023-05-31 02:55:26 633684638fd9 root[1152] DEBUG Buy at: $149.88\n"
          ]
        },
        {
          "name": "stdout",
          "output_type": "stream",
          "text": [
            "1/1 [==============================] - 0s 22ms/step\n",
            "1/1 [==============================] - 0s 22ms/step\n",
            "1/1 [==============================] - 0s 21ms/step\n"
          ]
        },
        {
          "name": "stderr",
          "output_type": "stream",
          "text": [
            "2023-05-31 02:55:26 633684638fd9 root[1152] DEBUG Sell at: $146.70 | Position: +$57.56\n"
          ]
        },
        {
          "name": "stdout",
          "output_type": "stream",
          "text": [
            "1/1 [==============================] - 0s 20ms/step\n",
            "1/1 [==============================] - 0s 21ms/step\n"
          ]
        },
        {
          "name": "stderr",
          "output_type": "stream",
          "text": [
            "2023-05-31 02:55:26 633684638fd9 root[1152] DEBUG Buy at: $147.24\n"
          ]
        },
        {
          "name": "stdout",
          "output_type": "stream",
          "text": [
            "1/1 [==============================] - 0s 21ms/step\n",
            "1/1 [==============================] - 0s 20ms/step\n",
            "1/1 [==============================] - 0s 20ms/step\n",
            "1/1 [==============================] - 0s 19ms/step\n",
            "1/1 [==============================] - 0s 22ms/step\n"
          ]
        },
        {
          "name": "stderr",
          "output_type": "stream",
          "text": [
            "2023-05-31 02:55:26 633684638fd9 root[1152] INFO model_AAPL: +$3161.89\n",
            "\n"
          ]
        }
      ],
      "source": [
        "coloredlogs.install(level='DEBUG')\n",
        "switch_k_backend_device()\n",
        "\n",
        "test_data = get_stock_data(test_stock)\n",
        "initial_offset = test_data[1] - test_data[0]\n",
        "\n",
        "test_result, history = evaluate_model(agent, test_data, window_size, debug)\n",
        "show_eval_result(model_name, test_result, initial_offset)"
      ]
    },
    {
      "cell_type": "code",
      "execution_count": null,
      "metadata": {
        "colab": {
          "base_uri": "https://localhost:8080/",
          "height": 380
        },
        "id": "5uuAiMZ7xS4C",
        "outputId": "2c5248d3-c2b5-4713-dd48-eccf47373f55"
      },
      "outputs": [
        {
          "data": {
            "text/html": [
              "\n",
              "<div id=\"altair-viz-893dd752ecb44ddcae96cbc55cd89e60\"></div>\n",
              "<script type=\"text/javascript\">\n",
              "  var VEGA_DEBUG = (typeof VEGA_DEBUG == \"undefined\") ? {} : VEGA_DEBUG;\n",
              "  (function(spec, embedOpt){\n",
              "    let outputDiv = document.currentScript.previousElementSibling;\n",
              "    if (outputDiv.id !== \"altair-viz-893dd752ecb44ddcae96cbc55cd89e60\") {\n",
              "      outputDiv = document.getElementById(\"altair-viz-893dd752ecb44ddcae96cbc55cd89e60\");\n",
              "    }\n",
              "    const paths = {\n",
              "      \"vega\": \"https://cdn.jsdelivr.net/npm//vega@5?noext\",\n",
              "      \"vega-lib\": \"https://cdn.jsdelivr.net/npm//vega-lib?noext\",\n",
              "      \"vega-lite\": \"https://cdn.jsdelivr.net/npm//vega-lite@4.17.0?noext\",\n",
              "      \"vega-embed\": \"https://cdn.jsdelivr.net/npm//vega-embed@6?noext\",\n",
              "    };\n",
              "\n",
              "    function maybeLoadScript(lib, version) {\n",
              "      var key = `${lib.replace(\"-\", \"\")}_version`;\n",
              "      return (VEGA_DEBUG[key] == version) ?\n",
              "        Promise.resolve(paths[lib]) :\n",
              "        new Promise(function(resolve, reject) {\n",
              "          var s = document.createElement('script');\n",
              "          document.getElementsByTagName(\"head\")[0].appendChild(s);\n",
              "          s.async = true;\n",
              "          s.onload = () => {\n",
              "            VEGA_DEBUG[key] = version;\n",
              "            return resolve(paths[lib]);\n",
              "          };\n",
              "          s.onerror = () => reject(`Error loading script: ${paths[lib]}`);\n",
              "          s.src = paths[lib];\n",
              "        });\n",
              "    }\n",
              "\n",
              "    function showError(err) {\n",
              "      outputDiv.innerHTML = `<div class=\"error\" style=\"color:red;\">${err}</div>`;\n",
              "      throw err;\n",
              "    }\n",
              "\n",
              "    function displayChart(vegaEmbed) {\n",
              "      vegaEmbed(outputDiv, spec, embedOpt)\n",
              "        .catch(err => showError(`Javascript Error: ${err.message}<br>This usually means there's a typo in your chart specification. See the javascript console for the full traceback.`));\n",
              "    }\n",
              "\n",
              "    if(typeof define === \"function\" && define.amd) {\n",
              "      requirejs.config({paths});\n",
              "      require([\"vega-embed\"], displayChart, err => showError(`Error loading script: ${err.message}`));\n",
              "    } else {\n",
              "      maybeLoadScript(\"vega\", \"5\")\n",
              "        .then(() => maybeLoadScript(\"vega-lite\", \"4.17.0\"))\n",
              "        .then(() => maybeLoadScript(\"vega-embed\", \"6\"))\n",
              "        .catch(showError)\n",
              "        .then(() => displayChart(vegaEmbed));\n",
              "    }\n",
              "  })({\"config\": {\"view\": {\"continuousWidth\": 400, \"continuousHeight\": 300}}, \"layer\": [{\"mark\": {\"type\": \"line\", \"color\": \"green\", \"opacity\": 0.5}, \"encoding\": {\"x\": {\"field\": \"date\", \"type\": \"temporal\"}, \"y\": {\"axis\": {\"format\": \"$.2f\", \"title\": \"Price\"}, \"field\": \"position\", \"scale\": {\"clamp\": true, \"domain\": [-26.966742, 211.059998]}, \"type\": \"quantitative\"}}, \"selection\": {\"selector007\": {\"type\": \"interval\", \"bind\": \"scales\", \"encodings\": [\"x\"]}}}, {\"mark\": {\"type\": \"point\", \"filled\": true}, \"encoding\": {\"color\": {\"field\": \"action\", \"type\": \"nominal\"}, \"x\": {\"axis\": {\"title\": \"Date\"}, \"field\": \"date\", \"type\": \"temporal\"}, \"y\": {\"axis\": {\"format\": \"$.2f\", \"title\": \"Price\"}, \"field\": \"position\", \"scale\": {\"clamp\": true, \"domain\": [-26.966742, 211.059998]}, \"type\": \"quantitative\"}}, \"selection\": {\"selector008\": {\"type\": \"interval\", \"bind\": \"scales\", \"encodings\": [\"x\"]}}, \"transform\": [{\"filter\": \"(datum.action !== 'HOLD')\"}]}], \"data\": {\"name\": \"data-d0f4ed2861167371923e1b562d9b18ba\"}, \"height\": 300, \"title\": \"./dataset/data/AAPL.csv\", \"width\": 1000, \"$schema\": \"https://vega.github.io/schema/vega-lite/v4.17.0.json\", \"datasets\": {\"data-d0f4ed2861167371923e1b562d9b18ba\": [{\"date\": \"2010-08-12T00:00:00\", \"actual\": 35.970001, \"position\": 24.171816, \"action\": \"HOLD\"}, {\"date\": \"2010-08-13T00:00:00\", \"actual\": 35.585712, \"position\": 24.171816, \"action\": \"BUY\"}, {\"date\": \"2010-08-16T00:00:00\", \"actual\": 35.377144, \"position\": 23.913574, \"action\": \"HOLD\"}, {\"date\": \"2010-08-17T00:00:00\", \"actual\": 35.995716, \"position\": 23.773415, \"action\": \"HOLD\"}, {\"date\": \"2010-08-18T00:00:00\", \"actual\": 36.152859, \"position\": 24.1891, \"action\": \"HOLD\"}, {\"date\": \"2010-08-19T00:00:00\", \"actual\": 35.697144, \"position\": 24.294704, \"action\": \"HOLD\"}, {\"date\": \"2010-08-20T00:00:00\", \"actual\": 35.662857, \"position\": 23.988459, \"action\": \"HOLD\"}, {\"date\": \"2010-08-23T00:00:00\", \"actual\": 35.114285, \"position\": 23.96542, \"action\": \"HOLD\"}, {\"date\": \"2010-08-24T00:00:00\", \"actual\": 34.275715, \"position\": 23.596777, \"action\": \"HOLD\"}, {\"date\": \"2010-08-25T00:00:00\", \"actual\": 34.69857, \"position\": 23.033258, \"action\": \"HOLD\"}, {\"date\": \"2010-08-26T00:00:00\", \"actual\": 34.325714, \"position\": 23.317417, \"action\": \"HOLD\"}, {\"date\": \"2010-08-27T00:00:00\", \"actual\": 34.517143, \"position\": 23.066858, \"action\": \"HOLD\"}, {\"date\": \"2010-08-30T00:00:00\", \"actual\": 34.642857, \"position\": 23.195499, \"action\": \"HOLD\"}, {\"date\": \"2010-08-31T00:00:00\", \"actual\": 34.728573, \"position\": 23.279978, \"action\": \"HOLD\"}, {\"date\": \"2010-09-01T00:00:00\", \"actual\": 35.761429, \"position\": 23.33758, \"action\": \"HOLD\"}, {\"date\": \"2010-09-02T00:00:00\", \"actual\": 36.024284, \"position\": 24.031658, \"action\": \"HOLD\"}, {\"date\": \"2010-09-03T00:00:00\", \"actual\": 36.967144, \"position\": 24.208294, \"action\": \"HOLD\"}, {\"date\": \"2010-09-07T00:00:00\", \"actual\": 36.830002, \"position\": 24.8419, \"action\": \"HOLD\"}, {\"date\": \"2010-09-08T00:00:00\", \"actual\": 37.560001, \"position\": 24.749739, \"action\": \"HOLD\"}, {\"date\": \"2010-09-09T00:00:00\", \"actual\": 37.581429, \"position\": 25.240299, \"action\": \"HOLD\"}, {\"date\": \"2010-09-10T00:00:00\", \"actual\": 37.630001, \"position\": 25.254692, \"action\": \"HOLD\"}, {\"date\": \"2010-09-13T00:00:00\", \"actual\": 38.148571, \"position\": 25.28734, \"action\": \"HOLD\"}, {\"date\": \"2010-09-14T00:00:00\", \"actual\": 38.294285, \"position\": 25.635815, \"action\": \"HOLD\"}, {\"date\": \"2010-09-15T00:00:00\", \"actual\": 38.602856, \"position\": 25.73374, \"action\": \"HOLD\"}, {\"date\": \"2010-09-16T00:00:00\", \"actual\": 39.509998, \"position\": 25.941095, \"action\": \"HOLD\"}, {\"date\": \"2010-09-17T00:00:00\", \"actual\": 39.33857, \"position\": 26.550694, \"action\": \"HOLD\"}, {\"date\": \"2010-09-20T00:00:00\", \"actual\": 40.46143, \"position\": 26.43549, \"action\": \"HOLD\"}, {\"date\": \"2010-09-21T00:00:00\", \"actual\": 40.53857, \"position\": 27.19006, \"action\": \"HOLD\"}, {\"date\": \"2010-09-22T00:00:00\", \"actual\": 41.107143, \"position\": 27.241896, \"action\": \"HOLD\"}, {\"date\": \"2010-09-23T00:00:00\", \"actual\": 41.274284, \"position\": 27.623968, \"action\": \"HOLD\"}, {\"date\": \"2010-09-24T00:00:00\", \"actual\": 41.759998, \"position\": 27.736303, \"action\": \"HOLD\"}, {\"date\": \"2010-09-27T00:00:00\", \"actual\": 41.594284, \"position\": 28.062693, \"action\": \"HOLD\"}, {\"date\": \"2010-09-28T00:00:00\", \"actual\": 40.98, \"position\": 27.951332, \"action\": \"HOLD\"}, {\"date\": \"2010-09-29T00:00:00\", \"actual\": 41.052856, \"position\": 27.538542, \"action\": \"HOLD\"}, {\"date\": \"2010-09-30T00:00:00\", \"actual\": 40.535713, \"position\": 27.58749, \"action\": \"HOLD\"}, {\"date\": \"2010-10-01T00:00:00\", \"actual\": 40.360001, \"position\": 27.239973, \"action\": \"HOLD\"}, {\"date\": \"2010-10-04T00:00:00\", \"actual\": 39.805714, \"position\": 27.121899, \"action\": \"HOLD\"}, {\"date\": \"2010-10-05T00:00:00\", \"actual\": 41.277142, \"position\": 26.749413, \"action\": \"HOLD\"}, {\"date\": \"2010-10-06T00:00:00\", \"actual\": 41.312859, \"position\": 27.738211, \"action\": \"HOLD\"}, {\"date\": \"2010-10-07T00:00:00\", \"actual\": 41.317142, \"position\": 27.762213, \"action\": \"HOLD\"}, {\"date\": \"2010-10-08T00:00:00\", \"actual\": 42.009998, \"position\": 27.765099, \"action\": \"HOLD\"}, {\"date\": \"2010-10-11T00:00:00\", \"actual\": 42.194286, \"position\": 28.230688, \"action\": \"HOLD\"}, {\"date\": \"2010-10-12T00:00:00\", \"actual\": 42.648571, \"position\": 28.354528, \"action\": \"HOLD\"}, {\"date\": \"2010-10-13T00:00:00\", \"actual\": 42.877144, \"position\": 28.659813, \"action\": \"HOLD\"}, {\"date\": \"2010-10-14T00:00:00\", \"actual\": 43.187141, \"position\": 28.813412, \"action\": \"HOLD\"}, {\"date\": \"2010-10-15T00:00:00\", \"actual\": 44.962856, \"position\": 29.021738, \"action\": \"HOLD\"}, {\"date\": \"2010-10-18T00:00:00\", \"actual\": 45.42857, \"position\": 30.21501, \"action\": \"HOLD\"}, {\"date\": \"2010-10-19T00:00:00\", \"actual\": 44.212856, \"position\": 30.527967, \"action\": \"HOLD\"}, {\"date\": \"2010-10-20T00:00:00\", \"actual\": 44.361427, \"position\": 29.711012, \"action\": \"HOLD\"}, {\"date\": \"2010-10-21T00:00:00\", \"actual\": 44.217144, \"position\": 29.810854, \"action\": \"HOLD\"}, {\"date\": \"2010-10-22T00:00:00\", \"actual\": 43.924286, \"position\": 29.713896, \"action\": \"HOLD\"}, {\"date\": \"2010-10-25T00:00:00\", \"actual\": 44.119999, \"position\": 29.517092, \"action\": \"BUY\"}, {\"date\": \"2010-10-26T00:00:00\", \"actual\": 44.007141, \"position\": 29.648617, \"action\": \"HOLD\"}, {\"date\": \"2010-10-27T00:00:00\", \"actual\": 43.975716, \"position\": 29.572775, \"action\": \"HOLD\"}, {\"date\": \"2010-10-28T00:00:00\", \"actual\": 43.605713, \"position\": 29.551661, \"action\": \"HOLD\"}, {\"date\": \"2010-10-29T00:00:00\", \"actual\": 42.997143, \"position\": 29.303013, \"action\": \"HOLD\"}, {\"date\": \"2010-11-01T00:00:00\", \"actual\": 43.454285, \"position\": 28.894049, \"action\": \"HOLD\"}, {\"date\": \"2010-11-02T00:00:00\", \"actual\": 44.194286, \"position\": 29.201252, \"action\": \"HOLD\"}, {\"date\": \"2010-11-03T00:00:00\", \"actual\": 44.685715, \"position\": 29.698532, \"action\": \"HOLD\"}, {\"date\": \"2010-11-04T00:00:00\", \"actual\": 45.467144, \"position\": 30.028772, \"action\": \"HOLD\"}, {\"date\": \"2010-11-05T00:00:00\", \"actual\": 45.304287, \"position\": 30.553896, \"action\": \"HOLD\"}, {\"date\": \"2010-11-08T00:00:00\", \"actual\": 45.517143, \"position\": 30.444448, \"action\": \"HOLD\"}, {\"date\": \"2010-11-09T00:00:00\", \"actual\": 45.154285, \"position\": 30.587496, \"action\": \"HOLD\"}, {\"date\": \"2010-11-10T00:00:00\", \"actual\": 45.432858, \"position\": 30.343655, \"action\": \"HOLD\"}, {\"date\": \"2010-11-11T00:00:00\", \"actual\": 45.235714, \"position\": 30.530851, \"action\": \"HOLD\"}, {\"date\": \"2010-11-12T00:00:00\", \"actual\": 44.004284, \"position\": 30.398371, \"action\": \"HOLD\"}, {\"date\": \"2010-11-15T00:00:00\", \"actual\": 43.862858, \"position\": 29.570858, \"action\": \"HOLD\"}, {\"date\": \"2010-11-16T00:00:00\", \"actual\": 43.084286, \"position\": 29.475811, \"action\": \"HOLD\"}, {\"date\": \"2010-11-17T00:00:00\", \"actual\": 42.92857, \"position\": 28.95261, \"action\": \"HOLD\"}, {\"date\": \"2010-11-18T00:00:00\", \"actual\": 44.061428, \"position\": 28.847979, \"action\": \"HOLD\"}, {\"date\": \"2010-11-19T00:00:00\", \"actual\": 43.818573, \"position\": 29.609255, \"action\": \"HOLD\"}, {\"date\": \"2010-11-22T00:00:00\", \"actual\": 44.765713, \"position\": 29.446045, \"action\": \"HOLD\"}, {\"date\": \"2010-11-23T00:00:00\", \"actual\": 44.104286, \"position\": 30.082533, \"action\": \"HOLD\"}, {\"date\": \"2010-11-24T00:00:00\", \"actual\": 44.971428, \"position\": 29.63805, \"action\": \"HOLD\"}, {\"date\": \"2010-11-26T00:00:00\", \"actual\": 45.0, \"position\": 30.220772, \"action\": \"HOLD\"}, {\"date\": \"2010-11-29T00:00:00\", \"actual\": 45.267143, \"position\": 30.239969, \"action\": \"HOLD\"}, {\"date\": \"2010-11-30T00:00:00\", \"actual\": 44.450001, \"position\": 30.419497, \"action\": \"HOLD\"}, {\"date\": \"2010-12-01T00:00:00\", \"actual\": 45.200001, \"position\": 29.870371, \"action\": \"HOLD\"}, {\"date\": \"2010-12-02T00:00:00\", \"actual\": 45.450001, \"position\": 30.374369, \"action\": \"HOLD\"}, {\"date\": \"2010-12-03T00:00:00\", \"actual\": 45.348572, \"position\": 30.542376, \"action\": \"HOLD\"}, {\"date\": \"2010-12-06T00:00:00\", \"actual\": 45.735714, \"position\": 30.474209, \"action\": \"HOLD\"}, {\"date\": \"2010-12-07T00:00:00\", \"actual\": 45.458572, \"position\": 30.734369, \"action\": \"HOLD\"}, {\"date\": \"2010-12-08T00:00:00\", \"actual\": 45.85857, \"position\": 30.548128, \"action\": \"HOLD\"}, {\"date\": \"2010-12-09T00:00:00\", \"actual\": 45.68, \"position\": 30.816925, \"action\": \"HOLD\"}, {\"date\": \"2010-12-10T00:00:00\", \"actual\": 45.794285, \"position\": 30.696932, \"action\": \"HOLD\"}, {\"date\": \"2010-12-13T00:00:00\", \"actual\": 45.952858, \"position\": 30.773731, \"action\": \"HOLD\"}, {\"date\": \"2010-12-14T00:00:00\", \"actual\": 45.755714, \"position\": 30.880293, \"action\": \"HOLD\"}, {\"date\": \"2010-12-15T00:00:00\", \"actual\": 45.765713, \"position\": 30.747803, \"action\": \"HOLD\"}, {\"date\": \"2010-12-16T00:00:00\", \"actual\": 45.892857, \"position\": 30.754528, \"action\": \"HOLD\"}, {\"date\": \"2010-12-17T00:00:00\", \"actual\": 45.80143, \"position\": 30.839972, \"action\": \"HOLD\"}, {\"date\": \"2010-12-20T00:00:00\", \"actual\": 46.029999, \"position\": 30.778528, \"action\": \"HOLD\"}, {\"date\": \"2010-12-21T00:00:00\", \"actual\": 46.314285, \"position\": 30.932127, \"action\": \"HOLD\"}, {\"date\": \"2010-12-22T00:00:00\", \"actual\": 46.451427, \"position\": 31.123171, \"action\": \"HOLD\"}, {\"date\": \"2010-12-23T00:00:00\", \"actual\": 46.228573, \"position\": 31.215328, \"action\": \"HOLD\"}, {\"date\": \"2010-12-27T00:00:00\", \"actual\": 46.382858, \"position\": 31.065569, \"action\": \"HOLD\"}, {\"date\": \"2010-12-28T00:00:00\", \"actual\": 46.495716, \"position\": 31.169252, \"action\": \"HOLD\"}, {\"date\": \"2010-12-29T00:00:00\", \"actual\": 46.470001, \"position\": 31.245087, \"action\": \"HOLD\"}, {\"date\": \"2010-12-30T00:00:00\", \"actual\": 46.237144, \"position\": 31.227812, \"action\": \"HOLD\"}, {\"date\": \"2010-12-31T00:00:00\", \"actual\": 46.080002, \"position\": 31.071333, \"action\": \"HOLD\"}, {\"date\": \"2011-01-03T00:00:00\", \"actual\": 47.081429, \"position\": 30.965734, \"action\": \"HOLD\"}, {\"date\": \"2011-01-04T00:00:00\", \"actual\": 47.327145, \"position\": 31.638695, \"action\": \"HOLD\"}, {\"date\": \"2011-01-05T00:00:00\", \"actual\": 47.714287, \"position\": 31.803814, \"action\": \"HOLD\"}, {\"date\": \"2011-01-06T00:00:00\", \"actual\": 47.675713, \"position\": 32.063969, \"action\": \"HOLD\"}, {\"date\": \"2011-01-07T00:00:00\", \"actual\": 48.017143, \"position\": 32.038055, \"action\": \"HOLD\"}, {\"date\": \"2011-01-10T00:00:00\", \"actual\": 48.921429, \"position\": 32.267494, \"action\": \"HOLD\"}, {\"date\": \"2011-01-11T00:00:00\", \"actual\": 48.805714, \"position\": 32.875168, \"action\": \"HOLD\"}, {\"date\": \"2011-01-12T00:00:00\", \"actual\": 49.202858, \"position\": 32.797409, \"action\": \"HOLD\"}, {\"date\": \"2011-01-13T00:00:00\", \"actual\": 49.382858, \"position\": 33.064281, \"action\": \"HOLD\"}, {\"date\": \"2011-01-14T00:00:00\", \"actual\": 49.782856, \"position\": 33.185257, \"action\": \"HOLD\"}, {\"date\": \"2011-01-18T00:00:00\", \"actual\": 48.664288, \"position\": 33.454048, \"action\": \"HOLD\"}, {\"date\": \"2011-01-19T00:00:00\", \"actual\": 48.405716, \"position\": 32.702374, \"action\": \"HOLD\"}, {\"date\": \"2011-01-20T00:00:00\", \"actual\": 47.525715, \"position\": 32.52861, \"action\": \"HOLD\"}, {\"date\": \"2011-01-21T00:00:00\", \"actual\": 46.674286, \"position\": 31.937254, \"action\": \"HOLD\"}, {\"date\": \"2011-01-24T00:00:00\", \"actual\": 48.207142, \"position\": 31.365086, \"action\": \"HOLD\"}, {\"date\": \"2011-01-25T00:00:00\", \"actual\": 48.771427, \"position\": 32.395172, \"action\": \"HOLD\"}, {\"date\": \"2011-01-26T00:00:00\", \"actual\": 49.121429, \"position\": 32.774368, \"action\": \"HOLD\"}, {\"date\": \"2011-01-27T00:00:00\", \"actual\": 49.029999, \"position\": 33.009563, \"action\": \"HOLD\"}, {\"date\": \"2011-01-28T00:00:00\", \"actual\": 48.014286, \"position\": 32.948135, \"action\": \"HOLD\"}, {\"date\": \"2011-01-31T00:00:00\", \"actual\": 48.474285, \"position\": 32.265572, \"action\": \"HOLD\"}, {\"date\": \"2011-02-01T00:00:00\", \"actual\": 49.290001, \"position\": 32.574692, \"action\": \"HOLD\"}, {\"date\": \"2011-02-02T00:00:00\", \"actual\": 49.188572, \"position\": 33.122852, \"action\": \"HOLD\"}, {\"date\": \"2011-02-03T00:00:00\", \"actual\": 49.062859, \"position\": 33.054684, \"action\": \"BUY\"}, {\"date\": \"2011-02-04T00:00:00\", \"actual\": 49.5, \"position\": 32.970207, \"action\": \"HOLD\"}, {\"date\": \"2011-02-07T00:00:00\", \"actual\": 50.26857, \"position\": 33.263973, \"action\": \"HOLD\"}, {\"date\": \"2011-02-08T00:00:00\", \"actual\": 50.742859, \"position\": 33.78046, \"action\": \"HOLD\"}, {\"date\": \"2011-02-09T00:00:00\", \"actual\": 51.165714, \"position\": 34.099167, \"action\": \"HOLD\"}, {\"date\": \"2011-02-10T00:00:00\", \"actual\": 50.648571, \"position\": 34.383324, \"action\": \"HOLD\"}, {\"date\": \"2011-02-11T00:00:00\", \"actual\": 50.978573, \"position\": 34.03582, \"action\": \"HOLD\"}, {\"date\": \"2011-02-14T00:00:00\", \"actual\": 51.311428, \"position\": 34.257572, \"action\": \"HOLD\"}, {\"date\": \"2011-02-15T00:00:00\", \"actual\": 51.414288, \"position\": 34.481251, \"action\": \"HOLD\"}, {\"date\": \"2011-02-16T00:00:00\", \"actual\": 51.875713, \"position\": 34.550369, \"action\": \"HOLD\"}, {\"date\": \"2011-02-17T00:00:00\", \"actual\": 51.185715, \"position\": 34.860443, \"action\": \"HOLD\"}, {\"date\": \"2011-02-18T00:00:00\", \"actual\": 50.080002, \"position\": 34.396759, \"action\": \"HOLD\"}, {\"date\": \"2011-02-22T00:00:00\", \"actual\": 48.372856, \"position\": 33.653728, \"action\": \"HOLD\"}, {\"date\": \"2011-02-23T00:00:00\", \"actual\": 48.945713, \"position\": 32.506523, \"action\": \"HOLD\"}, {\"date\": \"2011-02-24T00:00:00\", \"actual\": 48.982857, \"position\": 32.891483, \"action\": \"HOLD\"}, {\"date\": \"2011-02-25T00:00:00\", \"actual\": 49.737144, \"position\": 32.916458, \"action\": \"BUY\"}, {\"date\": \"2011-02-28T00:00:00\", \"actual\": 50.458572, \"position\": 33.423336, \"action\": \"HOLD\"}, {\"date\": \"2011-03-01T00:00:00\", \"actual\": 49.901428, \"position\": 33.908138, \"action\": \"HOLD\"}, {\"date\": \"2011-03-02T00:00:00\", \"actual\": 50.302856, \"position\": 33.53373, \"action\": \"HOLD\"}, {\"date\": \"2011-03-03T00:00:00\", \"actual\": 51.365715, \"position\": 33.803493, \"action\": \"HOLD\"}, {\"date\": \"2011-03-04T00:00:00\", \"actual\": 51.42857, \"position\": 34.517735, \"action\": \"HOLD\"}, {\"date\": \"2011-03-07T00:00:00\", \"actual\": 50.765713, \"position\": 34.559971, \"action\": \"HOLD\"}, {\"date\": \"2011-03-08T00:00:00\", \"actual\": 50.822857, \"position\": 34.114521, \"action\": \"HOLD\"}, {\"date\": \"2011-03-09T00:00:00\", \"actual\": 50.352856, \"position\": 34.152924, \"action\": \"HOLD\"}, {\"date\": \"2011-03-10T00:00:00\", \"actual\": 49.524284, \"position\": 33.837082, \"action\": \"HOLD\"}, {\"date\": \"2011-03-11T00:00:00\", \"actual\": 50.284286, \"position\": 33.280289, \"action\": \"HOLD\"}, {\"date\": \"2011-03-14T00:00:00\", \"actual\": 50.508572, \"position\": 33.791019, \"action\": \"HOLD\"}, {\"date\": \"2011-03-15T00:00:00\", \"actual\": 49.347141, \"position\": 33.941738, \"action\": \"HOLD\"}, {\"date\": \"2011-03-16T00:00:00\", \"actual\": 47.144287, \"position\": 33.161251, \"action\": \"HOLD\"}, {\"date\": \"2011-03-17T00:00:00\", \"actual\": 47.805714, \"position\": 31.680927, \"action\": \"HOLD\"}, {\"date\": \"2011-03-18T00:00:00\", \"actual\": 47.238571, \"position\": 32.125408, \"action\": \"HOLD\"}, {\"date\": \"2011-03-21T00:00:00\", \"actual\": 48.471428, \"position\": 31.744289, \"action\": \"BUY\"}, {\"date\": \"2011-03-22T00:00:00\", \"actual\": 48.742859, \"position\": 32.572777, \"action\": \"HOLD\"}, {\"date\": \"2011-03-23T00:00:00\", \"actual\": 48.455715, \"position\": 32.755173, \"action\": \"HOLD\"}, {\"date\": \"2011-03-24T00:00:00\", \"actual\": 49.281429, \"position\": 32.562214, \"action\": \"HOLD\"}, {\"date\": \"2011-03-25T00:00:00\", \"actual\": 50.220001, \"position\": 33.117088, \"action\": \"HOLD\"}, {\"date\": \"2011-03-28T00:00:00\", \"actual\": 50.062859, \"position\": 33.74781, \"action\": \"HOLD\"}, {\"date\": \"2011-03-29T00:00:00\", \"actual\": 50.137142, \"position\": 33.6422, \"action\": \"HOLD\"}, {\"date\": \"2011-03-30T00:00:00\", \"actual\": 49.804287, \"position\": 33.692135, \"action\": \"HOLD\"}, {\"date\": \"2011-03-31T00:00:00\", \"actual\": 49.787144, \"position\": 33.468452, \"action\": \"HOLD\"}, {\"date\": \"2011-04-01T00:00:00\", \"actual\": 49.222858, \"position\": 33.456932, \"action\": \"HOLD\"}, {\"date\": \"2011-04-04T00:00:00\", \"actual\": 48.741428, \"position\": 33.077728, \"action\": \"HOLD\"}, {\"date\": \"2011-04-05T00:00:00\", \"actual\": 48.412857, \"position\": 32.754211, \"action\": \"HOLD\"}, {\"date\": \"2011-04-06T00:00:00\", \"actual\": 48.291428, \"position\": 32.533401, \"action\": \"HOLD\"}, {\"date\": \"2011-04-07T00:00:00\", \"actual\": 48.297142, \"position\": 32.451805, \"action\": \"HOLD\"}, {\"date\": \"2011-04-08T00:00:00\", \"actual\": 47.865715, \"position\": 32.45565, \"action\": \"HOLD\"}, {\"date\": \"2011-04-11T00:00:00\", \"actual\": 47.257141, \"position\": 32.16573, \"action\": \"HOLD\"}, {\"date\": \"2011-04-12T00:00:00\", \"actual\": 47.485714, \"position\": 31.756765, \"action\": \"HOLD\"}, {\"date\": \"2011-04-13T00:00:00\", \"actual\": 48.01857, \"position\": 31.910364, \"action\": \"HOLD\"}, {\"date\": \"2011-04-14T00:00:00\", \"actual\": 47.488571, \"position\": 32.26844, \"action\": \"HOLD\"}, {\"date\": \"2011-04-15T00:00:00\", \"actual\": 46.779999, \"position\": 31.912287, \"action\": \"HOLD\"}, {\"date\": \"2011-04-18T00:00:00\", \"actual\": 47.407143, \"position\": 31.436131, \"action\": \"HOLD\"}, {\"date\": \"2011-04-19T00:00:00\", \"actual\": 48.265713, \"position\": 31.857578, \"action\": \"HOLD\"}, {\"date\": \"2011-04-20T00:00:00\", \"actual\": 48.915714, \"position\": 32.434528, \"action\": \"HOLD\"}, {\"date\": \"2011-04-21T00:00:00\", \"actual\": 50.099998, \"position\": 32.87133, \"action\": \"HOLD\"}, {\"date\": \"2011-04-25T00:00:00\", \"actual\": 50.43, \"position\": 33.667171, \"action\": \"HOLD\"}, {\"date\": \"2011-04-26T00:00:00\", \"actual\": 50.060001, \"position\": 33.888927, \"action\": \"HOLD\"}, {\"date\": \"2011-04-27T00:00:00\", \"actual\": 50.021427, \"position\": 33.640289, \"action\": \"HOLD\"}, {\"date\": \"2011-04-28T00:00:00\", \"actual\": 49.535713, \"position\": 33.614368, \"action\": \"HOLD\"}, {\"date\": \"2011-04-29T00:00:00\", \"actual\": 50.01857, \"position\": 33.287975, \"action\": \"HOLD\"}, {\"date\": \"2011-05-02T00:00:00\", \"actual\": 49.468571, \"position\": 33.61245, \"action\": \"HOLD\"}, {\"date\": \"2011-05-03T00:00:00\", \"actual\": 49.742859, \"position\": 33.242855, \"action\": \"HOLD\"}, {\"date\": \"2011-05-04T00:00:00\", \"actual\": 49.938572, \"position\": 33.427162, \"action\": \"HOLD\"}, {\"date\": \"2011-05-05T00:00:00\", \"actual\": 49.535713, \"position\": 33.558693, \"action\": \"HOLD\"}, {\"date\": \"2011-05-06T00:00:00\", \"actual\": 49.522858, \"position\": 33.287975, \"action\": \"HOLD\"}, {\"date\": \"2011-05-09T00:00:00\", \"actual\": 49.657143, \"position\": 33.279331, \"action\": \"HOLD\"}, {\"date\": \"2011-05-10T00:00:00\", \"actual\": 49.921429, \"position\": 33.369564, \"action\": \"HOLD\"}, {\"date\": \"2011-05-11T00:00:00\", \"actual\": 49.604286, \"position\": 33.547165, \"action\": \"HOLD\"}, {\"date\": \"2011-05-12T00:00:00\", \"actual\": 49.509998, \"position\": 33.334049, \"action\": \"HOLD\"}, {\"date\": \"2011-05-13T00:00:00\", \"actual\": 48.642857, \"position\": 33.270683, \"action\": \"HOLD\"}, {\"date\": \"2011-05-16T00:00:00\", \"actual\": 47.614285, \"position\": 32.687977, \"action\": \"HOLD\"}, {\"date\": \"2011-05-17T00:00:00\", \"actual\": 48.02, \"position\": 31.996769, \"action\": \"HOLD\"}, {\"date\": \"2011-05-18T00:00:00\", \"actual\": 48.552856, \"position\": 32.269405, \"action\": \"HOLD\"}, {\"date\": \"2011-05-19T00:00:00\", \"actual\": 48.647144, \"position\": 32.627487, \"action\": \"HOLD\"}, {\"date\": \"2011-05-20T00:00:00\", \"actual\": 47.888573, \"position\": 32.690849, \"action\": \"HOLD\"}, {\"date\": \"2011-05-23T00:00:00\", \"actual\": 47.771427, \"position\": 32.181099, \"action\": \"HOLD\"}, {\"date\": \"2011-05-24T00:00:00\", \"actual\": 47.455715, \"position\": 32.102371, \"action\": \"HOLD\"}, {\"date\": \"2011-05-25T00:00:00\", \"actual\": 48.111427, \"position\": 31.890202, \"action\": \"HOLD\"}, {\"date\": \"2011-05-26T00:00:00\", \"actual\": 47.857143, \"position\": 32.330845, \"action\": \"HOLD\"}, {\"date\": \"2011-05-27T00:00:00\", \"actual\": 48.201427, \"position\": 32.159966, \"action\": \"HOLD\"}, {\"date\": \"2011-05-31T00:00:00\", \"actual\": 49.689999, \"position\": 32.391327, \"action\": \"HOLD\"}, {\"date\": \"2011-06-01T00:00:00\", \"actual\": 49.35857, \"position\": 33.391644, \"action\": \"HOLD\"}, {\"date\": \"2011-06-02T00:00:00\", \"actual\": 49.442856, \"position\": 33.16893, \"action\": \"HOLD\"}, {\"date\": \"2011-06-03T00:00:00\", \"actual\": 49.062859, \"position\": 33.225567, \"action\": \"HOLD\"}, {\"date\": \"2011-06-06T00:00:00\", \"actual\": 48.291428, \"position\": 32.970207, \"action\": \"HOLD\"}, {\"date\": \"2011-06-07T00:00:00\", \"actual\": 47.434284, \"position\": 32.451805, \"action\": \"HOLD\"}, {\"date\": \"2011-06-08T00:00:00\", \"actual\": 47.462856, \"position\": 31.875807, \"action\": \"HOLD\"}, {\"date\": \"2011-06-09T00:00:00\", \"actual\": 47.355713, \"position\": 31.895004, \"action\": \"HOLD\"}, {\"date\": \"2011-06-10T00:00:00\", \"actual\": 46.557144, \"position\": 31.823009, \"action\": \"HOLD\"}, {\"date\": \"2011-06-13T00:00:00\", \"actual\": 46.657143, \"position\": 31.286371, \"action\": \"HOLD\"}, {\"date\": \"2011-06-14T00:00:00\", \"actual\": 47.491428, \"position\": 31.353571, \"action\": \"HOLD\"}, {\"date\": \"2011-06-15T00:00:00\", \"actual\": 46.67857, \"position\": 31.914213, \"action\": \"HOLD\"}, {\"date\": \"2011-06-16T00:00:00\", \"actual\": 46.451427, \"position\": 31.367975, \"action\": \"HOLD\"}, {\"date\": \"2011-06-17T00:00:00\", \"actual\": 45.751427, \"position\": 31.215328, \"action\": \"HOLD\"}, {\"date\": \"2011-06-20T00:00:00\", \"actual\": 45.045715, \"position\": 30.744926, \"action\": \"HOLD\"}, {\"date\": \"2011-06-21T00:00:00\", \"actual\": 46.471428, \"position\": 30.270702, \"action\": \"HOLD\"}, {\"date\": \"2011-06-22T00:00:00\", \"actual\": 46.087143, \"position\": 31.228775, \"action\": \"HOLD\"}, {\"date\": \"2011-06-23T00:00:00\", \"actual\": 47.318573, \"position\": 30.970528, \"action\": \"HOLD\"}, {\"date\": \"2011-06-24T00:00:00\", \"actual\": 46.621429, \"position\": 31.79805, \"action\": \"HOLD\"}, {\"date\": \"2011-06-27T00:00:00\", \"actual\": 47.434284, \"position\": 31.329573, \"action\": \"HOLD\"}, {\"date\": \"2011-06-28T00:00:00\", \"actual\": 47.894287, \"position\": 31.875807, \"action\": \"HOLD\"}, {\"date\": \"2011-06-29T00:00:00\", \"actual\": 47.720001, \"position\": 32.184937, \"action\": \"HOLD\"}, {\"date\": \"2011-06-30T00:00:00\", \"actual\": 47.952858, \"position\": 32.067814, \"action\": \"HOLD\"}, {\"date\": \"2011-07-01T00:00:00\", \"actual\": 49.037144, \"position\": 32.224289, \"action\": \"HOLD\"}, {\"date\": \"2011-07-05T00:00:00\", \"actual\": 49.918571, \"position\": 32.952934, \"action\": \"HOLD\"}, {\"date\": \"2011-07-06T00:00:00\", \"actual\": 50.251427, \"position\": 33.54525, \"action\": \"HOLD\"}, {\"date\": \"2011-07-07T00:00:00\", \"actual\": 51.028572, \"position\": 33.768929, \"action\": \"HOLD\"}, {\"date\": \"2011-07-08T00:00:00\", \"actual\": 51.387142, \"position\": 34.29118, \"action\": \"HOLD\"}, {\"date\": \"2011-07-11T00:00:00\", \"actual\": 50.57143, \"position\": 34.532135, \"action\": \"HOLD\"}, {\"date\": \"2011-07-12T00:00:00\", \"actual\": 50.535713, \"position\": 33.983971, \"action\": \"HOLD\"}, {\"date\": \"2011-07-13T00:00:00\", \"actual\": 51.145714, \"position\": 33.959972, \"action\": \"HOLD\"}, {\"date\": \"2011-07-14T00:00:00\", \"actual\": 51.110001, \"position\": 34.369888, \"action\": \"HOLD\"}, {\"date\": \"2011-07-15T00:00:00\", \"actual\": 52.131428, \"position\": 34.345882, \"action\": \"HOLD\"}, {\"date\": \"2011-07-18T00:00:00\", \"actual\": 53.400002, \"position\": 35.032284, \"action\": \"HOLD\"}, {\"date\": \"2011-07-19T00:00:00\", \"actual\": 53.835712, \"position\": 35.884769, \"action\": \"HOLD\"}, {\"date\": \"2011-07-20T00:00:00\", \"actual\": 55.271427, \"position\": 36.17757, \"action\": \"HOLD\"}, {\"date\": \"2011-07-21T00:00:00\", \"actual\": 55.327145, \"position\": 37.142365, \"action\": \"HOLD\"}, {\"date\": \"2011-07-22T00:00:00\", \"actual\": 56.185715, \"position\": 37.179806, \"action\": \"HOLD\"}, {\"date\": \"2011-07-25T00:00:00\", \"actual\": 56.92857, \"position\": 37.756763, \"action\": \"HOLD\"}, {\"date\": \"2011-07-26T00:00:00\", \"actual\": 57.630001, \"position\": 38.255959, \"action\": \"HOLD\"}, {\"date\": \"2011-07-27T00:00:00\", \"actual\": 56.084286, \"position\": 38.727325, \"action\": \"HOLD\"}, {\"date\": \"2011-07-28T00:00:00\", \"actual\": 55.974285, \"position\": 37.688606, \"action\": \"HOLD\"}, {\"date\": \"2011-07-29T00:00:00\", \"actual\": 55.782856, \"position\": 37.614689, \"action\": \"HOLD\"}, {\"date\": \"2011-08-01T00:00:00\", \"actual\": 56.67857, \"position\": 37.486042, \"action\": \"HOLD\"}, {\"date\": \"2011-08-02T00:00:00\", \"actual\": 55.558571, \"position\": 38.087971, \"action\": \"BUY\"}, {\"date\": \"2011-08-03T00:00:00\", \"actual\": 56.081429, \"position\": 37.335327, \"action\": \"HOLD\"}, {\"date\": \"2011-08-04T00:00:00\", \"actual\": 53.91, \"position\": 37.686684, \"action\": \"HOLD\"}, {\"date\": \"2011-08-05T00:00:00\", \"actual\": 53.374287, \"position\": 36.227478, \"action\": \"HOLD\"}, {\"date\": \"2011-08-08T00:00:00\", \"actual\": 50.458572, \"position\": 35.867481, \"action\": \"HOLD\"}, {\"date\": \"2011-08-09T00:00:00\", \"actual\": 53.43, \"position\": 33.908138, \"action\": \"HOLD\"}, {\"date\": \"2011-08-10T00:00:00\", \"actual\": 51.955715, \"position\": 35.90493, \"action\": \"HOLD\"}, {\"date\": \"2011-08-11T00:00:00\", \"actual\": 53.385715, \"position\": 34.914204, \"action\": \"HOLD\"}, {\"date\": \"2011-08-12T00:00:00\", \"actual\": 53.855713, \"position\": 35.875168, \"action\": \"HOLD\"}, {\"date\": \"2011-08-15T00:00:00\", \"actual\": 54.772858, \"position\": 36.191002, \"action\": \"HOLD\"}, {\"date\": \"2011-08-16T00:00:00\", \"actual\": 54.354286, \"position\": 36.807331, \"action\": \"HOLD\"}, {\"date\": \"2011-08-17T00:00:00\", \"actual\": 54.348572, \"position\": 36.526051, \"action\": \"HOLD\"}, {\"date\": \"2011-08-18T00:00:00\", \"actual\": 52.292858, \"position\": 36.522205, \"action\": \"HOLD\"}, {\"date\": \"2011-08-19T00:00:00\", \"actual\": 50.861427, \"position\": 35.140762, \"action\": \"HOLD\"}, {\"date\": \"2011-08-22T00:00:00\", \"actual\": 50.919998, \"position\": 34.178848, \"action\": \"BUY\"}, {\"date\": \"2011-08-23T00:00:00\", \"actual\": 53.371429, \"position\": 34.218212, \"action\": \"HOLD\"}, {\"date\": \"2011-08-24T00:00:00\", \"actual\": 53.740002, \"position\": 35.86557, \"action\": \"BUY\"}, {\"date\": \"2011-08-25T00:00:00\", \"actual\": 53.388573, \"position\": 36.113251, \"action\": \"HOLD\"}, {\"date\": \"2011-08-26T00:00:00\", \"actual\": 54.797142, \"position\": 35.877087, \"action\": \"HOLD\"}, {\"date\": \"2011-08-29T00:00:00\", \"actual\": 55.709999, \"position\": 36.823647, \"action\": \"HOLD\"}, {\"date\": \"2011-08-30T00:00:00\", \"actual\": 55.712856, \"position\": 37.43708, \"action\": \"HOLD\"}, {\"date\": \"2011-08-31T00:00:00\", \"actual\": 54.975716, \"position\": 37.438999, \"action\": \"HOLD\"}, {\"date\": \"2011-09-01T00:00:00\", \"actual\": 54.432858, \"position\": 36.943653, \"action\": \"HOLD\"}, {\"date\": \"2011-09-02T00:00:00\", \"actual\": 53.435715, \"position\": 36.578846, \"action\": \"HOLD\"}, {\"date\": \"2011-09-06T00:00:00\", \"actual\": 54.248573, \"position\": 35.908764, \"action\": \"HOLD\"}, {\"date\": \"2011-09-07T00:00:00\", \"actual\": 54.847141, \"position\": 36.454998, \"action\": \"HOLD\"}, {\"date\": \"2011-09-08T00:00:00\", \"actual\": 54.877144, \"position\": 36.857239, \"action\": \"HOLD\"}, {\"date\": \"2011-09-09T00:00:00\", \"actual\": 53.925713, \"position\": 36.877403, \"action\": \"HOLD\"}, {\"date\": \"2011-09-12T00:00:00\", \"actual\": 54.277142, \"position\": 36.238041, \"action\": \"HOLD\"}, {\"date\": \"2011-09-13T00:00:00\", \"actual\": 54.945713, \"position\": 36.474201, \"action\": \"HOLD\"}, {\"date\": \"2011-09-14T00:00:00\", \"actual\": 55.614285, \"position\": 36.923481, \"action\": \"HOLD\"}, {\"date\": \"2011-09-15T00:00:00\", \"actual\": 56.137142, \"position\": 37.372757, \"action\": \"HOLD\"}, {\"date\": \"2011-09-16T00:00:00\", \"actual\": 57.214287, \"position\": 37.724125, \"action\": \"HOLD\"}, {\"date\": \"2011-09-19T00:00:00\", \"actual\": 58.804287, \"position\": 38.447968, \"action\": \"HOLD\"}, {\"date\": \"2011-09-20T00:00:00\", \"actual\": 59.064285, \"position\": 39.516449, \"action\": \"HOLD\"}, {\"date\": \"2011-09-21T00:00:00\", \"actual\": 58.877144, \"position\": 39.691166, \"action\": \"HOLD\"}, {\"date\": \"2011-09-22T00:00:00\", \"actual\": 57.402859, \"position\": 39.565399, \"action\": \"HOLD\"}, {\"date\": \"2011-09-23T00:00:00\", \"actual\": 57.757141, \"position\": 38.574688, \"action\": \"BUY\"}, {\"date\": \"2011-09-26T00:00:00\", \"actual\": 57.595715, \"position\": 38.812767, \"action\": \"HOLD\"}, {\"date\": \"2011-09-27T00:00:00\", \"actual\": 57.037144, \"position\": 38.704285, \"action\": \"BUY\"}, {\"date\": \"2011-09-28T00:00:00\", \"actual\": 56.715714, \"position\": 38.328922, \"action\": \"HOLD\"}, {\"date\": \"2011-09-29T00:00:00\", \"actual\": 55.795715, \"position\": 38.112919, \"action\": \"HOLD\"}, {\"date\": \"2011-09-30T00:00:00\", \"actual\": 54.474285, \"position\": 37.49469, \"action\": \"HOLD\"}, {\"date\": \"2011-10-03T00:00:00\", \"actual\": 53.514286, \"position\": 36.606682, \"action\": \"HOLD\"}, {\"date\": \"2011-10-04T00:00:00\", \"actual\": 53.214287, \"position\": 35.961571, \"action\": \"HOLD\"}, {\"date\": \"2011-10-05T00:00:00\", \"actual\": 54.035713, \"position\": 35.759968, \"action\": \"HOLD\"}, {\"date\": \"2011-10-06T00:00:00\", \"actual\": 53.91, \"position\": 36.311966, \"action\": \"HOLD\"}, {\"date\": \"2011-10-07T00:00:00\", \"actual\": 52.828571, \"position\": 36.227478, \"action\": \"HOLD\"}, {\"date\": \"2011-10-10T00:00:00\", \"actual\": 55.544285, \"position\": 35.500771, \"action\": \"HOLD\"}, {\"date\": \"2011-10-11T00:00:00\", \"actual\": 57.184284, \"position\": 37.325733, \"action\": \"HOLD\"}, {\"date\": \"2011-10-12T00:00:00\", \"actual\": 57.455715, \"position\": 38.427811, \"action\": \"HOLD\"}, {\"date\": \"2011-10-13T00:00:00\", \"actual\": 58.347141, \"position\": 38.610199, \"action\": \"HOLD\"}, {\"date\": \"2011-10-14T00:00:00\", \"actual\": 60.285713, \"position\": 39.209248, \"action\": \"HOLD\"}, {\"date\": \"2011-10-17T00:00:00\", \"actual\": 59.998573, \"position\": 40.511959, \"action\": \"HOLD\"}, {\"date\": \"2011-10-18T00:00:00\", \"actual\": 60.32, \"position\": 40.319008, \"action\": \"HOLD\"}, {\"date\": \"2011-10-19T00:00:00\", \"actual\": 56.945713, \"position\": 40.534996, \"action\": \"HOLD\"}, {\"date\": \"2011-10-20T00:00:00\", \"actual\": 56.472858, \"position\": 38.267475, \"action\": \"SELL\"}, {\"date\": \"2011-10-21T00:00:00\", \"actual\": 56.124287, \"position\": 37.949726, \"action\": \"BUY\"}, {\"date\": \"2011-10-24T00:00:00\", \"actual\": 57.967144, \"position\": 37.715485, \"action\": \"HOLD\"}, {\"date\": \"2011-10-25T00:00:00\", \"actual\": 56.824287, \"position\": 38.953876, \"action\": \"HOLD\"}, {\"date\": \"2011-10-26T00:00:00\", \"actual\": 57.228573, \"position\": 38.185886, \"action\": \"HOLD\"}, {\"date\": \"2011-10-27T00:00:00\", \"actual\": 57.812859, \"position\": 38.457565, \"action\": \"HOLD\"}, {\"date\": \"2011-10-28T00:00:00\", \"actual\": 57.849998, \"position\": 38.850208, \"action\": \"HOLD\"}, {\"date\": \"2011-10-31T00:00:00\", \"actual\": 57.825714, \"position\": 38.87516, \"action\": \"HOLD\"}, {\"date\": \"2011-11-01T00:00:00\", \"actual\": 56.644287, \"position\": 38.858845, \"action\": \"HOLD\"}, {\"date\": \"2011-11-02T00:00:00\", \"actual\": 56.772858, \"position\": 38.064922, \"action\": \"HOLD\"}, {\"date\": \"2011-11-03T00:00:00\", \"actual\": 57.581429, \"position\": 38.151325, \"action\": \"HOLD\"}, {\"date\": \"2011-11-04T00:00:00\", \"actual\": 57.177143, \"position\": 38.694683, \"action\": \"HOLD\"}, {\"date\": \"2011-11-07T00:00:00\", \"actual\": 57.104286, \"position\": 38.423004, \"action\": \"HOLD\"}, {\"date\": \"2011-11-08T00:00:00\", \"actual\": 58.032856, \"position\": 38.37405, \"action\": \"HOLD\"}, {\"date\": \"2011-11-09T00:00:00\", \"actual\": 56.468571, \"position\": 38.998047, \"action\": \"HOLD\"}, {\"date\": \"2011-11-10T00:00:00\", \"actual\": 55.031429, \"position\": 37.94685, \"action\": \"HOLD\"}, {\"date\": \"2011-11-11T00:00:00\", \"actual\": 54.945713, \"position\": 36.981083, \"action\": \"HOLD\"}, {\"date\": \"2011-11-14T00:00:00\", \"actual\": 54.18, \"position\": 36.923481, \"action\": \"HOLD\"}, {\"date\": \"2011-11-15T00:00:00\", \"actual\": 55.547142, \"position\": 36.408924, \"action\": \"BUY\"}, {\"date\": \"2011-11-16T00:00:00\", \"actual\": 54.967144, \"position\": 37.327641, \"action\": \"HOLD\"}, {\"date\": \"2011-11-17T00:00:00\", \"actual\": 53.915714, \"position\": 36.937889, \"action\": \"HOLD\"}, {\"date\": \"2011-11-18T00:00:00\", \"actual\": 53.562859, \"position\": 36.231316, \"action\": \"HOLD\"}, {\"date\": \"2011-11-21T00:00:00\", \"actual\": 52.715714, \"position\": 35.994217, \"action\": \"HOLD\"}, {\"date\": \"2011-11-22T00:00:00\", \"actual\": 53.787144, \"position\": 35.424927, \"action\": \"HOLD\"}, {\"date\": \"2011-11-23T00:00:00\", \"actual\": 52.427143, \"position\": 36.144932, \"action\": \"HOLD\"}, {\"date\": \"2011-11-25T00:00:00\", \"actual\": 51.938572, \"position\": 35.230995, \"action\": \"HOLD\"}, {\"date\": \"2011-11-28T00:00:00\", \"actual\": 53.73143, \"position\": 34.902691, \"action\": \"HOLD\"}, {\"date\": \"2011-11-29T00:00:00\", \"actual\": 53.314285, \"position\": 36.107487, \"action\": \"HOLD\"}, {\"date\": \"2011-11-30T00:00:00\", \"actual\": 54.599998, \"position\": 35.827171, \"action\": \"HOLD\"}, {\"date\": \"2011-12-01T00:00:00\", \"actual\": 55.418571, \"position\": 36.69117, \"action\": \"HOLD\"}, {\"date\": \"2011-12-02T00:00:00\", \"actual\": 55.671429, \"position\": 37.241245, \"action\": \"HOLD\"}, {\"date\": \"2011-12-05T00:00:00\", \"actual\": 56.144287, \"position\": 37.411163, \"action\": \"HOLD\"}, {\"date\": \"2011-12-06T00:00:00\", \"actual\": 55.849998, \"position\": 37.728928, \"action\": \"HOLD\"}, {\"date\": \"2011-12-07T00:00:00\", \"actual\": 55.584286, \"position\": 37.531166, \"action\": \"HOLD\"}, {\"date\": \"2011-12-08T00:00:00\", \"actual\": 55.808571, \"position\": 37.352608, \"action\": \"HOLD\"}, {\"date\": \"2011-12-09T00:00:00\", \"actual\": 56.23143, \"position\": 37.503319, \"action\": \"HOLD\"}, {\"date\": \"2011-12-12T00:00:00\", \"actual\": 55.977142, \"position\": 37.787479, \"action\": \"HOLD\"}, {\"date\": \"2011-12-13T00:00:00\", \"actual\": 55.544285, \"position\": 37.616604, \"action\": \"HOLD\"}, {\"date\": \"2011-12-14T00:00:00\", \"actual\": 54.312859, \"position\": 37.325733, \"action\": \"HOLD\"}, {\"date\": \"2011-12-15T00:00:00\", \"actual\": 54.134285, \"position\": 36.498207, \"action\": \"HOLD\"}, {\"date\": \"2011-12-16T00:00:00\", \"actual\": 54.431427, \"position\": 36.378208, \"action\": \"HOLD\"}, {\"date\": \"2011-12-19T00:00:00\", \"actual\": 54.601429, \"position\": 36.577881, \"action\": \"HOLD\"}, {\"date\": \"2011-12-20T00:00:00\", \"actual\": 56.564285, \"position\": 36.69212, \"action\": \"HOLD\"}, {\"date\": \"2011-12-21T00:00:00\", \"actual\": 56.635715, \"position\": 38.011166, \"action\": \"HOLD\"}, {\"date\": \"2011-12-22T00:00:00\", \"actual\": 56.935715, \"position\": 38.05917, \"action\": \"HOLD\"}, {\"date\": \"2011-12-23T00:00:00\", \"actual\": 57.618572, \"position\": 38.260769, \"action\": \"HOLD\"}, {\"date\": \"2011-12-27T00:00:00\", \"actual\": 58.075714, \"position\": 38.719643, \"action\": \"HOLD\"}, {\"date\": \"2011-12-28T00:00:00\", \"actual\": 57.52, \"position\": 39.026852, \"action\": \"HOLD\"}, {\"date\": \"2011-12-29T00:00:00\", \"actual\": 57.874287, \"position\": 38.653404, \"action\": \"HOLD\"}, {\"date\": \"2011-12-30T00:00:00\", \"actual\": 57.857143, \"position\": 38.891483, \"action\": \"HOLD\"}, {\"date\": \"2012-01-03T00:00:00\", \"actual\": 58.747143, \"position\": 38.879959, \"action\": \"HOLD\"}, {\"date\": \"2012-01-04T00:00:00\", \"actual\": 59.062859, \"position\": 39.478039, \"action\": \"HOLD\"}, {\"date\": \"2012-01-05T00:00:00\", \"actual\": 59.718571, \"position\": 39.690201, \"action\": \"HOLD\"}, {\"date\": \"2012-01-06T00:00:00\", \"actual\": 60.342857, \"position\": 40.130848, \"action\": \"HOLD\"}, {\"date\": \"2012-01-09T00:00:00\", \"actual\": 60.247143, \"position\": 40.550362, \"action\": \"HOLD\"}, {\"date\": \"2012-01-10T00:00:00\", \"actual\": 60.462856, \"position\": 40.486038, \"action\": \"HOLD\"}, {\"date\": \"2012-01-11T00:00:00\", \"actual\": 60.364285, \"position\": 40.630997, \"action\": \"HOLD\"}, {\"date\": \"2012-01-12T00:00:00\", \"actual\": 60.19857, \"position\": 40.564766, \"action\": \"HOLD\"}, {\"date\": \"2012-01-13T00:00:00\", \"actual\": 59.972858, \"position\": 40.453407, \"action\": \"HOLD\"}, {\"date\": \"2012-01-17T00:00:00\", \"actual\": 60.671429, \"position\": 40.301727, \"action\": \"HOLD\"}, {\"date\": \"2012-01-18T00:00:00\", \"actual\": 61.30143, \"position\": 40.77116, \"action\": \"HOLD\"}, {\"date\": \"2012-01-19T00:00:00\", \"actual\": 61.107143, \"position\": 41.194523, \"action\": \"HOLD\"}, {\"date\": \"2012-01-20T00:00:00\", \"actual\": 60.042858, \"position\": 41.063957, \"action\": \"HOLD\"}, {\"date\": \"2012-01-23T00:00:00\", \"actual\": 61.058571, \"position\": 40.348766, \"action\": \"HOLD\"}, {\"date\": \"2012-01-24T00:00:00\", \"actual\": 60.058571, \"position\": 41.031315, \"action\": \"HOLD\"}, {\"date\": \"2012-01-25T00:00:00\", \"actual\": 63.808571, \"position\": 40.359322, \"action\": \"HOLD\"}, {\"date\": \"2012-01-26T00:00:00\", \"actual\": 63.51857, \"position\": 42.879318, \"action\": \"HOLD\"}, {\"date\": \"2012-01-27T00:00:00\", \"actual\": 63.897144, \"position\": 42.684444, \"action\": \"HOLD\"}, {\"date\": \"2012-01-30T00:00:00\", \"actual\": 64.715714, \"position\": 42.938839, \"action\": \"HOLD\"}, {\"date\": \"2012-01-31T00:00:00\", \"actual\": 65.211426, \"position\": 43.488911, \"action\": \"HOLD\"}, {\"date\": \"2012-02-01T00:00:00\", \"actual\": 65.169998, \"position\": 43.822041, \"action\": \"HOLD\"}, {\"date\": \"2012-02-02T00:00:00\", \"actual\": 65.017143, \"position\": 43.794197, \"action\": \"HOLD\"}, {\"date\": \"2012-02-03T00:00:00\", \"actual\": 65.668571, \"position\": 43.691483, \"action\": \"HOLD\"}, {\"date\": \"2012-02-06T00:00:00\", \"actual\": 66.281425, \"position\": 44.129234, \"action\": \"HOLD\"}, {\"date\": \"2012-02-07T00:00:00\", \"actual\": 66.975716, \"position\": 44.541084, \"action\": \"HOLD\"}, {\"date\": \"2012-02-08T00:00:00\", \"actual\": 68.097145, \"position\": 45.007641, \"action\": \"HOLD\"}, {\"date\": \"2012-02-09T00:00:00\", \"actual\": 70.452858, \"position\": 45.761238, \"action\": \"HOLD\"}, {\"date\": \"2012-02-10T00:00:00\", \"actual\": 70.488571, \"position\": 47.344288, \"action\": \"HOLD\"}, {\"date\": \"2012-02-13T00:00:00\", \"actual\": 71.800003, \"position\": 47.368282, \"action\": \"HOLD\"}, {\"date\": \"2012-02-14T00:00:00\", \"actual\": 72.779999, \"position\": 48.249557, \"action\": \"HOLD\"}, {\"date\": \"2012-02-15T00:00:00\", \"actual\": 71.095711, \"position\": 48.908108, \"action\": \"HOLD\"}, {\"date\": \"2012-02-16T00:00:00\", \"actual\": 71.744286, \"position\": 47.776268, \"action\": \"HOLD\"}, {\"date\": \"2012-02-17T00:00:00\", \"actual\": 71.73143, \"position\": 48.21212, \"action\": \"HOLD\"}, {\"date\": \"2012-02-21T00:00:00\", \"actual\": 73.550003, \"position\": 48.203476, \"action\": \"BUY\"}, {\"date\": \"2012-02-22T00:00:00\", \"actual\": 73.291428, \"position\": 49.425552, \"action\": \"HOLD\"}, {\"date\": \"2012-02-23T00:00:00\", \"actual\": 73.769997, \"position\": 49.251797, \"action\": \"HOLD\"}, {\"date\": \"2012-02-24T00:00:00\", \"actual\": 74.629997, \"position\": 49.573395, \"action\": \"HOLD\"}, {\"date\": \"2012-02-27T00:00:00\", \"actual\": 75.108574, \"position\": 50.151314, \"action\": \"HOLD\"}, {\"date\": \"2012-02-28T00:00:00\", \"actual\": 76.487144, \"position\": 50.472923, \"action\": \"HOLD\"}, {\"date\": \"2012-02-29T00:00:00\", \"actual\": 77.491432, \"position\": 51.399315, \"action\": \"HOLD\"}, {\"date\": \"2012-03-01T00:00:00\", \"actual\": 77.781425, \"position\": 52.074196, \"action\": \"HOLD\"}, {\"date\": \"2012-03-02T00:00:00\", \"actual\": 77.882858, \"position\": 52.269073, \"action\": \"HOLD\"}, {\"date\": \"2012-03-05T00:00:00\", \"actual\": 76.165718, \"position\": 52.337219, \"action\": \"HOLD\"}, {\"date\": \"2012-03-06T00:00:00\", \"actual\": 75.751427, \"position\": 51.183311, \"action\": \"HOLD\"}, {\"date\": \"2012-03-07T00:00:00\", \"actual\": 75.812859, \"position\": 50.904903, \"action\": \"BUY\"}, {\"date\": \"2012-03-08T00:00:00\", \"actual\": 77.427139, \"position\": 50.94619, \"action\": \"BUY\"}, {\"date\": \"2012-03-09T00:00:00\", \"actual\": 77.881432, \"position\": 52.030987, \"action\": \"HOLD\"}, {\"date\": \"2012-03-12T00:00:00\", \"actual\": 78.85714, \"position\": 52.336273, \"action\": \"HOLD\"}, {\"date\": \"2012-03-13T00:00:00\", \"actual\": 81.157143, \"position\": 52.991943, \"action\": \"HOLD\"}, {\"date\": \"2012-03-14T00:00:00\", \"actual\": 84.225716, \"position\": 54.537556, \"action\": \"HOLD\"}, {\"date\": \"2012-03-15T00:00:00\", \"actual\": 83.651428, \"position\": 56.599628, \"action\": \"HOLD\"}, {\"date\": \"2012-03-16T00:00:00\", \"actual\": 83.652855, \"position\": 56.213711, \"action\": \"HOLD\"}, {\"date\": \"2012-03-19T00:00:00\", \"actual\": 85.871429, \"position\": 56.214668, \"action\": \"HOLD\"}, {\"date\": \"2012-03-20T00:00:00\", \"actual\": 86.565712, \"position\": 57.705555, \"action\": \"HOLD\"}, {\"date\": \"2012-03-21T00:00:00\", \"actual\": 86.071426, \"position\": 58.172104, \"action\": \"BUY\"}, {\"date\": \"2012-03-22T00:00:00\", \"actual\": 85.620003, \"position\": 57.839939, \"action\": \"HOLD\"}, {\"date\": \"2012-03-23T00:00:00\", \"actual\": 85.150002, \"position\": 57.536591, \"action\": \"HOLD\"}, {\"date\": \"2012-03-26T00:00:00\", \"actual\": 86.711426, \"position\": 57.220741, \"action\": \"HOLD\"}, {\"date\": \"2012-03-27T00:00:00\", \"actual\": 87.78286, \"position\": 58.270004, \"action\": \"HOLD\"}, {\"date\": \"2012-03-28T00:00:00\", \"actual\": 88.23143, \"position\": 58.990032, \"action\": \"HOLD\"}, {\"date\": \"2012-03-29T00:00:00\", \"actual\": 87.122856, \"position\": 59.291466, \"action\": \"HOLD\"}, {\"date\": \"2012-03-30T00:00:00\", \"actual\": 85.650002, \"position\": 58.546505, \"action\": \"HOLD\"}, {\"date\": \"2012-04-02T00:00:00\", \"actual\": 88.375717, \"position\": 57.556755, \"action\": \"HOLD\"}, {\"date\": \"2012-04-03T00:00:00\", \"actual\": 89.902855, \"position\": 59.388424, \"action\": \"HOLD\"}, {\"date\": \"2012-04-04T00:00:00\", \"actual\": 89.187141, \"position\": 60.414665, \"action\": \"BUY\"}, {\"date\": \"2012-04-05T00:00:00\", \"actual\": 90.525711, \"position\": 59.933704, \"action\": \"HOLD\"}, {\"date\": \"2012-04-09T00:00:00\", \"actual\": 90.889999, \"position\": 60.833221, \"action\": \"HOLD\"}, {\"date\": \"2012-04-10T00:00:00\", \"actual\": 89.777145, \"position\": 61.078003, \"action\": \"HOLD\"}, {\"date\": \"2012-04-11T00:00:00\", \"actual\": 89.457146, \"position\": 60.330189, \"action\": \"HOLD\"}, {\"date\": \"2012-04-12T00:00:00\", \"actual\": 88.96714, \"position\": 60.115143, \"action\": \"HOLD\"}, {\"date\": \"2012-04-13T00:00:00\", \"actual\": 86.461426, \"position\": 59.785854, \"action\": \"SELL\"}, {\"date\": \"2012-04-16T00:00:00\", \"actual\": 82.875717, \"position\": 58.102028, \"action\": \"BUY\"}, {\"date\": \"2012-04-17T00:00:00\", \"actual\": 87.099998, \"position\": 55.692432, \"action\": \"HOLD\"}, {\"date\": \"2012-04-18T00:00:00\", \"actual\": 86.905716, \"position\": 58.531128, \"action\": \"HOLD\"}, {\"date\": \"2012-04-19T00:00:00\", \"actual\": 83.919998, \"position\": 58.400581, \"action\": \"HOLD\"}, {\"date\": \"2012-04-20T00:00:00\", \"actual\": 81.854286, \"position\": 56.394188, \"action\": \"BUY\"}, {\"date\": \"2012-04-23T00:00:00\", \"actual\": 81.671425, \"position\": 55.006023, \"action\": \"HOLD\"}, {\"date\": \"2012-04-24T00:00:00\", \"actual\": 80.040001, \"position\": 54.883133, \"action\": \"HOLD\"}, {\"date\": \"2012-04-25T00:00:00\", \"actual\": 87.14286, \"position\": 53.786823, \"action\": \"BUY\"}, {\"date\": \"2012-04-26T00:00:00\", \"actual\": 86.814285, \"position\": 58.559948, \"action\": \"HOLD\"}, {\"date\": \"2012-04-27T00:00:00\", \"actual\": 86.14286, \"position\": 58.339165, \"action\": \"HOLD\"}, {\"date\": \"2012-04-30T00:00:00\", \"actual\": 83.425713, \"position\": 57.887939, \"action\": \"HOLD\"}, {\"date\": \"2012-05-01T00:00:00\", \"actual\": 83.16143, \"position\": 56.062031, \"action\": \"HOLD\"}, {\"date\": \"2012-05-02T00:00:00\", \"actual\": 83.711426, \"position\": 55.884426, \"action\": \"HOLD\"}, {\"date\": \"2012-05-03T00:00:00\", \"actual\": 83.117142, \"position\": 56.254021, \"action\": \"HOLD\"}, {\"date\": \"2012-05-04T00:00:00\", \"actual\": 80.75, \"position\": 55.854675, \"action\": \"BUY\"}, {\"date\": \"2012-05-07T00:00:00\", \"actual\": 81.354286, \"position\": 54.263947, \"action\": \"SELL\"}, {\"date\": \"2012-05-08T00:00:00\", \"actual\": 81.168571, \"position\": 54.670036, \"action\": \"HOLD\"}, {\"date\": \"2012-05-09T00:00:00\", \"actual\": 81.311432, \"position\": 54.545223, \"action\": \"HOLD\"}, {\"date\": \"2012-05-10T00:00:00\", \"actual\": 81.502853, \"position\": 54.641224, \"action\": \"BUY\"}, {\"date\": \"2012-05-11T00:00:00\", \"actual\": 80.958572, \"position\": 54.769859, \"action\": \"HOLD\"}, {\"date\": \"2012-05-14T00:00:00\", \"actual\": 79.745712, \"position\": 54.404114, \"action\": \"HOLD\"}, {\"date\": \"2012-05-15T00:00:00\", \"actual\": 79.024284, \"position\": 53.589069, \"action\": \"HOLD\"}, {\"date\": \"2012-05-16T00:00:00\", \"actual\": 78.011429, \"position\": 53.104279, \"action\": \"HOLD\"}, {\"date\": \"2012-05-17T00:00:00\", \"actual\": 75.73143, \"position\": 52.423618, \"action\": \"HOLD\"}, {\"date\": \"2012-05-18T00:00:00\", \"actual\": 75.76857, \"position\": 50.891468, \"action\": \"BUY\"}, {\"date\": \"2012-05-21T00:00:00\", \"actual\": 80.182854, \"position\": 50.916431, \"action\": \"HOLD\"}, {\"date\": \"2012-05-22T00:00:00\", \"actual\": 79.567146, \"position\": 53.882828, \"action\": \"HOLD\"}, {\"date\": \"2012-05-23T00:00:00\", \"actual\": 81.508568, \"position\": 53.469082, \"action\": \"HOLD\"}, {\"date\": \"2012-05-24T00:00:00\", \"actual\": 80.760002, \"position\": 54.773716, \"action\": \"HOLD\"}, {\"date\": \"2012-05-25T00:00:00\", \"actual\": 80.327141, \"position\": 54.270668, \"action\": \"HOLD\"}, {\"date\": \"2012-05-29T00:00:00\", \"actual\": 81.752853, \"position\": 53.979794, \"action\": \"HOLD\"}, {\"date\": \"2012-05-30T00:00:00\", \"actual\": 82.738571, \"position\": 54.937881, \"action\": \"HOLD\"}, {\"date\": \"2012-05-31T00:00:00\", \"actual\": 82.53286, \"position\": 55.600273, \"action\": \"HOLD\"}, {\"date\": \"2012-06-01T00:00:00\", \"actual\": 80.141426, \"position\": 55.46204, \"action\": \"HOLD\"}, {\"date\": \"2012-06-04T00:00:00\", \"actual\": 80.612854, \"position\": 53.854984, \"action\": \"HOLD\"}, {\"date\": \"2012-06-05T00:00:00\", \"actual\": 80.404289, \"position\": 54.171795, \"action\": \"HOLD\"}, {\"date\": \"2012-06-06T00:00:00\", \"actual\": 81.637146, \"position\": 54.031635, \"action\": \"HOLD\"}, {\"date\": \"2012-06-07T00:00:00\", \"actual\": 81.674286, \"position\": 54.860107, \"action\": \"HOLD\"}, {\"date\": \"2012-06-08T00:00:00\", \"actual\": 82.902855, \"position\": 54.885075, \"action\": \"HOLD\"}, {\"date\": \"2012-06-11T00:00:00\", \"actual\": 81.595711, \"position\": 55.71067, \"action\": \"HOLD\"}, {\"date\": \"2012-06-12T00:00:00\", \"actual\": 82.308571, \"position\": 54.832275, \"action\": \"HOLD\"}, {\"date\": \"2012-06-13T00:00:00\", \"actual\": 81.737144, \"position\": 55.311321, \"action\": \"HOLD\"}, {\"date\": \"2012-06-14T00:00:00\", \"actual\": 81.647141, \"position\": 54.927303, \"action\": \"HOLD\"}, {\"date\": \"2012-06-15T00:00:00\", \"actual\": 82.01857, \"position\": 54.866825, \"action\": \"BUY\"}, {\"date\": \"2012-06-18T00:00:00\", \"actual\": 83.682854, \"position\": 55.116421, \"action\": \"HOLD\"}, {\"date\": \"2012-06-19T00:00:00\", \"actual\": 83.915718, \"position\": 56.234829, \"action\": \"HOLD\"}, {\"date\": \"2012-06-20T00:00:00\", \"actual\": 83.677139, \"position\": 56.391312, \"action\": \"HOLD\"}, {\"date\": \"2012-06-21T00:00:00\", \"actual\": 82.524284, \"position\": 56.230984, \"action\": \"HOLD\"}, {\"date\": \"2012-06-22T00:00:00\", \"actual\": 83.157143, \"position\": 55.456268, \"action\": \"HOLD\"}, {\"date\": \"2012-06-25T00:00:00\", \"actual\": 81.538574, \"position\": 55.881546, \"action\": \"HOLD\"}, {\"date\": \"2012-06-26T00:00:00\", \"actual\": 81.718575, \"position\": 54.793869, \"action\": \"HOLD\"}, {\"date\": \"2012-06-27T00:00:00\", \"actual\": 82.071426, \"position\": 54.914829, \"action\": \"BUY\"}, {\"date\": \"2012-06-28T00:00:00\", \"actual\": 81.292854, \"position\": 55.151939, \"action\": \"HOLD\"}, {\"date\": \"2012-06-29T00:00:00\", \"actual\": 83.428574, \"position\": 54.628754, \"action\": \"HOLD\"}, {\"date\": \"2012-07-02T00:00:00\", \"actual\": 84.645714, \"position\": 56.063938, \"action\": \"HOLD\"}, {\"date\": \"2012-07-03T00:00:00\", \"actual\": 85.629997, \"position\": 56.881874, \"action\": \"HOLD\"}, {\"date\": \"2012-07-05T00:00:00\", \"actual\": 87.134285, \"position\": 57.543312, \"action\": \"HOLD\"}, {\"date\": \"2012-07-06T00:00:00\", \"actual\": 86.554283, \"position\": 58.554176, \"action\": \"HOLD\"}, {\"date\": \"2012-07-09T00:00:00\", \"actual\": 87.69857, \"position\": 58.164429, \"action\": \"HOLD\"}, {\"date\": \"2012-07-10T00:00:00\", \"actual\": 86.887146, \"position\": 58.933395, \"action\": \"HOLD\"}, {\"date\": \"2012-07-11T00:00:00\", \"actual\": 86.347145, \"position\": 58.388107, \"action\": \"HOLD\"}, {\"date\": \"2012-07-12T00:00:00\", \"actual\": 85.557144, \"position\": 58.025223, \"action\": \"BUY\"}, {\"date\": \"2012-07-13T00:00:00\", \"actual\": 86.424286, \"position\": 57.494343, \"action\": \"HOLD\"}, {\"date\": \"2012-07-16T00:00:00\", \"actual\": 86.701431, \"position\": 58.077068, \"action\": \"HOLD\"}, {\"date\": \"2012-07-17T00:00:00\", \"actual\": 86.705711, \"position\": 58.263313, \"action\": \"HOLD\"}, {\"date\": \"2012-07-18T00:00:00\", \"actual\": 86.608574, \"position\": 58.266186, \"action\": \"HOLD\"}, {\"date\": \"2012-07-19T00:00:00\", \"actual\": 87.760002, \"position\": 58.200905, \"action\": \"HOLD\"}, {\"date\": \"2012-07-20T00:00:00\", \"actual\": 86.328575, \"position\": 58.974655, \"action\": \"HOLD\"}, {\"date\": \"2012-07-23T00:00:00\", \"actual\": 86.261429, \"position\": 58.012745, \"action\": \"HOLD\"}, {\"date\": \"2012-07-24T00:00:00\", \"actual\": 85.845711, \"position\": 57.967625, \"action\": \"HOLD\"}, {\"date\": \"2012-07-25T00:00:00\", \"actual\": 82.138573, \"position\": 57.688267, \"action\": \"HOLD\"}, {\"date\": \"2012-07-26T00:00:00\", \"actual\": 82.125717, \"position\": 55.197071, \"action\": \"BUY\"}, {\"date\": \"2012-07-27T00:00:00\", \"actual\": 83.594284, \"position\": 55.188431, \"action\": \"HOLD\"}, {\"date\": \"2012-07-30T00:00:00\", \"actual\": 85.004288, \"position\": 56.175308, \"action\": \"HOLD\"}, {\"date\": \"2012-07-31T00:00:00\", \"actual\": 87.251427, \"position\": 57.122822, \"action\": \"HOLD\"}, {\"date\": \"2012-08-01T00:00:00\", \"actual\": 86.687141, \"position\": 58.6329, \"action\": \"HOLD\"}, {\"date\": \"2012-08-02T00:00:00\", \"actual\": 86.827141, \"position\": 58.2537, \"action\": \"HOLD\"}, {\"date\": \"2012-08-03T00:00:00\", \"actual\": 87.957146, \"position\": 58.34779, \"action\": \"HOLD\"}, {\"date\": \"2012-08-06T00:00:00\", \"actual\": 88.935715, \"position\": 59.107151, \"action\": \"HOLD\"}, {\"date\": \"2012-08-07T00:00:00\", \"actual\": 88.701431, \"position\": 59.764736, \"action\": \"HOLD\"}, {\"date\": \"2012-08-08T00:00:00\", \"actual\": 88.55143, \"position\": 59.607311, \"action\": \"BUY\"}, {\"date\": \"2012-08-09T00:00:00\", \"actual\": 88.675713, \"position\": 59.506516, \"action\": \"HOLD\"}, {\"date\": \"2012-08-10T00:00:00\", \"actual\": 88.814285, \"position\": 61.428341, \"action\": \"HOLD\"}, {\"date\": \"2012-08-13T00:00:00\", \"actual\": 90.0, \"position\": 61.524334, \"action\": \"HOLD\"}, {\"date\": \"2012-08-14T00:00:00\", \"actual\": 90.241432, \"position\": 62.345711, \"action\": \"HOLD\"}, {\"date\": \"2012-08-15T00:00:00\", \"actual\": 90.118568, \"position\": 62.512959, \"action\": \"HOLD\"}, {\"date\": \"2012-08-16T00:00:00\", \"actual\": 90.905716, \"position\": 62.427849, \"action\": \"HOLD\"}, {\"date\": \"2012-08-17T00:00:00\", \"actual\": 92.587143, \"position\": 62.973118, \"action\": \"HOLD\"}, {\"date\": \"2012-08-20T00:00:00\", \"actual\": 95.021431, \"position\": 64.137917, \"action\": \"HOLD\"}, {\"date\": \"2012-08-21T00:00:00\", \"actual\": 93.722855, \"position\": 65.824219, \"action\": \"HOLD\"}, {\"date\": \"2012-08-22T00:00:00\", \"actual\": 95.552856, \"position\": 64.924637, \"action\": \"HOLD\"}, {\"date\": \"2012-08-23T00:00:00\", \"actual\": 94.66143, \"position\": 66.192345, \"action\": \"HOLD\"}, {\"date\": \"2012-08-24T00:00:00\", \"actual\": 94.745712, \"position\": 65.574814, \"action\": \"HOLD\"}, {\"date\": \"2012-08-27T00:00:00\", \"actual\": 96.525711, \"position\": 65.633209, \"action\": \"HOLD\"}, {\"date\": \"2012-08-28T00:00:00\", \"actual\": 96.400002, \"position\": 66.866272, \"action\": \"HOLD\"}, {\"date\": \"2012-08-29T00:00:00\", \"actual\": 96.209999, \"position\": 66.779182, \"action\": \"BUY\"}, {\"date\": \"2012-08-30T00:00:00\", \"actual\": 94.83857, \"position\": 66.647575, \"action\": \"HOLD\"}, {\"date\": \"2012-08-31T00:00:00\", \"actual\": 95.034286, \"position\": 65.697548, \"action\": \"HOLD\"}, {\"date\": \"2012-09-04T00:00:00\", \"actual\": 96.424286, \"position\": 65.833115, \"action\": \"HOLD\"}, {\"date\": \"2012-09-05T00:00:00\", \"actual\": 95.747147, \"position\": 66.796005, \"action\": \"HOLD\"}, {\"date\": \"2012-09-06T00:00:00\", \"actual\": 96.610001, \"position\": 66.32692, \"action\": \"HOLD\"}, {\"date\": \"2012-09-07T00:00:00\", \"actual\": 97.205711, \"position\": 66.924667, \"action\": \"HOLD\"}, {\"date\": \"2012-09-10T00:00:00\", \"actual\": 94.677139, \"position\": 67.337318, \"action\": \"HOLD\"}, {\"date\": \"2012-09-11T00:00:00\", \"actual\": 94.370003, \"position\": 65.585693, \"action\": \"HOLD\"}, {\"date\": \"2012-09-12T00:00:00\", \"actual\": 95.684288, \"position\": 65.37294, \"action\": \"HOLD\"}, {\"date\": \"2012-09-13T00:00:00\", \"actual\": 97.568573, \"position\": 66.283386, \"action\": \"HOLD\"}, {\"date\": \"2012-09-14T00:00:00\", \"actual\": 98.754288, \"position\": 67.588707, \"action\": \"BUY\"}, {\"date\": \"2012-09-17T00:00:00\", \"actual\": 99.968575, \"position\": 68.410072, \"action\": \"HOLD\"}, {\"date\": \"2012-09-18T00:00:00\", \"actual\": 100.272858, \"position\": 69.251244, \"action\": \"HOLD\"}, {\"date\": \"2012-09-19T00:00:00\", \"actual\": 100.300003, \"position\": 69.462044, \"action\": \"HOLD\"}, {\"date\": \"2012-09-20T00:00:00\", \"actual\": 99.814285, \"position\": 69.48085, \"action\": \"HOLD\"}, {\"date\": \"2012-09-21T00:00:00\", \"actual\": 100.012856, \"position\": 69.144341, \"action\": \"HOLD\"}, {\"date\": \"2012-09-24T00:00:00\", \"actual\": 98.684288, \"position\": 69.281906, \"action\": \"BUY\"}, {\"date\": \"2012-09-25T00:00:00\", \"actual\": 96.220001, \"position\": 68.361595, \"action\": \"BUY\"}, {\"date\": \"2012-09-26T00:00:00\", \"actual\": 95.025711, \"position\": 66.654503, \"action\": \"BUY\"}, {\"date\": \"2012-09-27T00:00:00\", \"actual\": 97.331429, \"position\": 65.827179, \"action\": \"HOLD\"}, {\"date\": \"2012-09-28T00:00:00\", \"actual\": 95.300003, \"position\": 67.424416, \"action\": \"HOLD\"}, {\"date\": \"2012-10-01T00:00:00\", \"actual\": 94.19857, \"position\": 66.017181, \"action\": \"HOLD\"}, {\"date\": \"2012-10-02T00:00:00\", \"actual\": 94.472855, \"position\": 65.254189, \"action\": \"HOLD\"}, {\"date\": \"2012-10-03T00:00:00\", \"actual\": 95.921425, \"position\": 65.444199, \"action\": \"HOLD\"}, {\"date\": \"2012-10-04T00:00:00\", \"actual\": 95.257141, \"position\": 66.447655, \"action\": \"HOLD\"}, {\"date\": \"2012-10-05T00:00:00\", \"actual\": 93.227142, \"position\": 65.987503, \"action\": \"HOLD\"}, {\"date\": \"2012-10-08T00:00:00\", \"actual\": 91.167145, \"position\": 64.581245, \"action\": \"SELL\"}, {\"date\": \"2012-10-09T00:00:00\", \"actual\": 90.835716, \"position\": 63.154232, \"action\": \"HOLD\"}, {\"date\": \"2012-10-10T00:00:00\", \"actual\": 91.558571, \"position\": 62.924629, \"action\": \"HOLD\"}, {\"date\": \"2012-10-11T00:00:00\", \"actual\": 89.728569, \"position\": 63.425373, \"action\": \"HOLD\"}, {\"date\": \"2012-10-12T00:00:00\", \"actual\": 89.958572, \"position\": 62.157677, \"action\": \"HOLD\"}, {\"date\": \"2012-10-15T00:00:00\", \"actual\": 90.68, \"position\": 62.316998, \"action\": \"HOLD\"}, {\"date\": \"2012-10-16T00:00:00\", \"actual\": 92.827141, \"position\": 62.816772, \"action\": \"HOLD\"}, {\"date\": \"2012-10-17T00:00:00\", \"actual\": 92.087143, \"position\": 64.304169, \"action\": \"HOLD\"}, {\"date\": \"2012-10-18T00:00:00\", \"actual\": 90.377144, \"position\": 63.791519, \"action\": \"HOLD\"}, {\"date\": \"2012-10-19T00:00:00\", \"actual\": 87.120003, \"position\": 62.606968, \"action\": \"HOLD\"}, {\"date\": \"2012-10-22T00:00:00\", \"actual\": 90.575714, \"position\": 60.350655, \"action\": \"SELL\"}, {\"date\": \"2012-10-23T00:00:00\", \"actual\": 87.622856, \"position\": 62.744534, \"action\": \"HOLD\"}, {\"date\": \"2012-10-24T00:00:00\", \"actual\": 88.118568, \"position\": 60.698986, \"action\": \"HOLD\"}, {\"date\": \"2012-10-25T00:00:00\", \"actual\": 87.077141, \"position\": 61.042381, \"action\": \"BUY\"}, {\"date\": \"2012-10-26T00:00:00\", \"actual\": 86.285713, \"position\": 60.320946, \"action\": \"HOLD\"}, {\"date\": \"2012-10-31T00:00:00\", \"actual\": 85.045715, \"position\": 59.772701, \"action\": \"BUY\"}, {\"date\": \"2012-11-01T00:00:00\", \"actual\": 85.220001, \"position\": 58.913731, \"action\": \"HOLD\"}, {\"date\": \"2012-11-02T00:00:00\", \"actual\": 82.400002, \"position\": 59.034454, \"action\": \"HOLD\"}, {\"date\": \"2012-11-05T00:00:00\", \"actual\": 83.517143, \"position\": 57.080956, \"action\": \"SELL\"}, {\"date\": \"2012-11-06T00:00:00\", \"actual\": 83.264282, \"position\": 57.854839, \"action\": \"HOLD\"}, {\"date\": \"2012-11-07T00:00:00\", \"actual\": 79.714287, \"position\": 57.679668, \"action\": \"HOLD\"}, {\"date\": \"2012-11-08T00:00:00\", \"actual\": 76.821426, \"position\": 57.035721, \"action\": \"HOLD\"}, {\"date\": \"2012-11-09T00:00:00\", \"actual\": 78.151428, \"position\": 54.965874, \"action\": \"HOLD\"}, {\"date\": \"2012-11-12T00:00:00\", \"actual\": 77.547142, \"position\": 55.917492, \"action\": \"HOLD\"}, {\"date\": \"2012-11-13T00:00:00\", \"actual\": 77.557144, \"position\": 55.485126, \"action\": \"HOLD\"}, {\"date\": \"2012-11-14T00:00:00\", \"actual\": 76.697144, \"position\": 55.49229, \"action\": \"BUY\"}, {\"date\": \"2012-11-15T00:00:00\", \"actual\": 75.08857, \"position\": 54.876957, \"action\": \"HOLD\"}, {\"date\": \"2012-11-16T00:00:00\", \"actual\": 75.382858, \"position\": 53.726017, \"action\": \"HOLD\"}, {\"date\": \"2012-11-19T00:00:00\", \"actual\": 80.818573, \"position\": 53.936588, \"action\": \"HOLD\"}, {\"date\": \"2012-11-20T00:00:00\", \"actual\": 80.129997, \"position\": 57.825844, \"action\": \"HOLD\"}, {\"date\": \"2012-11-21T00:00:00\", \"actual\": 80.242859, \"position\": 57.333164, \"action\": \"HOLD\"}, {\"date\": \"2012-11-23T00:00:00\", \"actual\": 81.64286, \"position\": 57.413921, \"action\": \"HOLD\"}, {\"date\": \"2012-11-26T00:00:00\", \"actual\": 84.218575, \"position\": 58.415619, \"action\": \"HOLD\"}, {\"date\": \"2012-11-27T00:00:00\", \"actual\": 83.540001, \"position\": 60.258549, \"action\": \"HOLD\"}, {\"date\": \"2012-11-28T00:00:00\", \"actual\": 83.277145, \"position\": 59.773029, \"action\": \"HOLD\"}, {\"date\": \"2012-11-29T00:00:00\", \"actual\": 84.194283, \"position\": 59.584949, \"action\": \"HOLD\"}, {\"date\": \"2012-11-30T00:00:00\", \"actual\": 83.611427, \"position\": 60.241169, \"action\": \"HOLD\"}, {\"date\": \"2012-12-03T00:00:00\", \"actual\": 83.741432, \"position\": 59.824135, \"action\": \"BUY\"}, {\"date\": \"2012-12-04T00:00:00\", \"actual\": 82.264282, \"position\": 59.917156, \"action\": \"HOLD\"}, {\"date\": \"2012-12-05T00:00:00\", \"actual\": 76.970001, \"position\": 58.86026, \"action\": \"HOLD\"}, {\"date\": \"2012-12-06T00:00:00\", \"actual\": 78.177139, \"position\": 55.072189, \"action\": \"SELL\"}, {\"date\": \"2012-12-07T00:00:00\", \"actual\": 76.178574, \"position\": 55.935898, \"action\": \"HOLD\"}, {\"date\": \"2012-12-10T00:00:00\", \"actual\": 75.688568, \"position\": 54.505901, \"action\": \"HOLD\"}, {\"date\": \"2012-12-11T00:00:00\", \"actual\": 77.341431, \"position\": 54.155312, \"action\": \"BUY\"}, {\"date\": \"2012-12-12T00:00:00\", \"actual\": 77.0, \"position\": 55.337944, \"action\": \"HOLD\"}, {\"date\": \"2012-12-13T00:00:00\", \"actual\": 75.669998, \"position\": 55.093655, \"action\": \"HOLD\"}, {\"date\": \"2012-12-14T00:00:00\", \"actual\": 72.827141, \"position\": 54.142025, \"action\": \"HOLD\"}, {\"date\": \"2012-12-17T00:00:00\", \"actual\": 74.118568, \"position\": 52.107964, \"action\": \"HOLD\"}, {\"date\": \"2012-12-18T00:00:00\", \"actual\": 76.271431, \"position\": 53.031982, \"action\": \"HOLD\"}, {\"date\": \"2012-12-19T00:00:00\", \"actual\": 75.187141, \"position\": 54.57235, \"action\": \"BUY\"}, {\"date\": \"2012-12-20T00:00:00\", \"actual\": 74.53286, \"position\": 53.796539, \"action\": \"HOLD\"}, {\"date\": \"2012-12-21T00:00:00\", \"actual\": 74.190002, \"position\": 53.328415, \"action\": \"HOLD\"}, {\"date\": \"2012-12-24T00:00:00\", \"actual\": 74.309998, \"position\": 53.083096, \"action\": \"HOLD\"}, {\"date\": \"2012-12-26T00:00:00\", \"actual\": 73.285713, \"position\": 53.168938, \"action\": \"HOLD\"}, {\"date\": \"2012-12-27T00:00:00\", \"actual\": 73.580002, \"position\": 52.436077, \"action\": \"BUY\"}, {\"date\": \"2012-12-28T00:00:00\", \"actual\": 72.798569, \"position\": 52.646633, \"action\": \"SELL\"}, {\"date\": \"2012-12-31T00:00:00\", \"actual\": 76.024284, \"position\": 52.087517, \"action\": \"HOLD\"}, {\"date\": \"2013-01-02T00:00:00\", \"actual\": 78.432854, \"position\": 54.395519, \"action\": \"HOLD\"}, {\"date\": \"2013-01-03T00:00:00\", \"actual\": 77.442856, \"position\": 56.11887, \"action\": \"HOLD\"}, {\"date\": \"2013-01-04T00:00:00\", \"actual\": 75.285713, \"position\": 55.41053, \"action\": \"HOLD\"}, {\"date\": \"2013-01-07T00:00:00\", \"actual\": 74.842857, \"position\": 53.867073, \"action\": \"HOLD\"}, {\"date\": \"2013-01-08T00:00:00\", \"actual\": 75.044289, \"position\": 53.550209, \"action\": \"HOLD\"}, {\"date\": \"2013-01-09T00:00:00\", \"actual\": 73.871429, \"position\": 53.694336, \"action\": \"BUY\"}, {\"date\": \"2013-01-10T00:00:00\", \"actual\": 74.78714, \"position\": 52.855141, \"action\": \"BUY\"}, {\"date\": \"2013-01-11T00:00:00\", \"actual\": 74.328575, \"position\": 53.510345, \"action\": \"SELL\"}, {\"date\": \"2013-01-14T00:00:00\", \"actual\": 71.678574, \"position\": 53.182232, \"action\": \"HOLD\"}, {\"date\": \"2013-01-15T00:00:00\", \"actual\": 69.417145, \"position\": 51.286152, \"action\": \"HOLD\"}, {\"date\": \"2013-01-16T00:00:00\", \"actual\": 72.298569, \"position\": 49.668106, \"action\": \"HOLD\"}, {\"date\": \"2013-01-17T00:00:00\", \"actual\": 71.811432, \"position\": 51.729763, \"action\": \"HOLD\"}, {\"date\": \"2013-01-18T00:00:00\", \"actual\": 71.428574, \"position\": 51.381218, \"action\": \"HOLD\"}, {\"date\": \"2013-01-22T00:00:00\", \"actual\": 72.110001, \"position\": 51.107292, \"action\": \"BUY\"}, {\"date\": \"2013-01-23T00:00:00\", \"actual\": 73.43, \"position\": 51.594852, \"action\": \"HOLD\"}, {\"date\": \"2013-01-24T00:00:00\", \"actual\": 64.35714, \"position\": 52.539307, \"action\": \"HOLD\"}, {\"date\": \"2013-01-25T00:00:00\", \"actual\": 62.84, \"position\": 46.047665, \"action\": \"HOLD\"}, {\"date\": \"2013-01-28T00:00:00\", \"actual\": 64.261429, \"position\": 44.962143, \"action\": \"SELL\"}, {\"date\": \"2013-01-29T00:00:00\", \"actual\": 65.46714, \"position\": 45.979191, \"action\": \"SELL\"}, {\"date\": \"2013-01-30T00:00:00\", \"actual\": 65.261429, \"position\": 46.841866, \"action\": \"BUY\"}, {\"date\": \"2013-01-31T00:00:00\", \"actual\": 65.07, \"position\": 46.694683, \"action\": \"HOLD\"}, {\"date\": \"2013-02-01T00:00:00\", \"actual\": 64.802856, \"position\": 46.557709, \"action\": \"HOLD\"}, {\"date\": \"2013-02-04T00:00:00\", \"actual\": 63.188572, \"position\": 46.36657, \"action\": \"HOLD\"}, {\"date\": \"2013-02-05T00:00:00\", \"actual\": 65.405716, \"position\": 45.211544, \"action\": \"HOLD\"}, {\"date\": \"2013-02-06T00:00:00\", \"actual\": 65.335716, \"position\": 46.79792, \"action\": \"HOLD\"}, {\"date\": \"2013-02-07T00:00:00\", \"actual\": 66.888573, \"position\": 46.747833, \"action\": \"HOLD\"}, {\"date\": \"2013-02-08T00:00:00\", \"actual\": 67.854286, \"position\": 49.882107, \"action\": \"HOLD\"}, {\"date\": \"2013-02-11T00:00:00\", \"actual\": 68.561432, \"position\": 50.602283, \"action\": \"HOLD\"}, {\"date\": \"2013-02-12T00:00:00\", \"actual\": 66.842857, \"position\": 51.129639, \"action\": \"HOLD\"}, {\"date\": \"2013-02-13T00:00:00\", \"actual\": 66.715714, \"position\": 49.848011, \"action\": \"HOLD\"}, {\"date\": \"2013-02-14T00:00:00\", \"actual\": 66.655716, \"position\": 49.753197, \"action\": \"HOLD\"}, {\"date\": \"2013-02-15T00:00:00\", \"actual\": 65.737144, \"position\": 49.708454, \"action\": \"HOLD\"}, {\"date\": \"2013-02-19T00:00:00\", \"actual\": 65.71286, \"position\": 49.023434, \"action\": \"BUY\"}, {\"date\": \"2013-02-20T00:00:00\", \"actual\": 64.121429, \"position\": 49.005325, \"action\": \"HOLD\"}, {\"date\": \"2013-02-21T00:00:00\", \"actual\": 63.722858, \"position\": 47.818512, \"action\": \"BUY\"}, {\"date\": \"2013-02-22T00:00:00\", \"actual\": 64.401428, \"position\": 47.521278, \"action\": \"HOLD\"}, {\"date\": \"2013-02-25T00:00:00\", \"actual\": 63.257141, \"position\": 48.027321, \"action\": \"HOLD\"}, {\"date\": \"2013-02-26T00:00:00\", \"actual\": 64.138573, \"position\": 47.173977, \"action\": \"HOLD\"}, {\"date\": \"2013-02-27T00:00:00\", \"actual\": 63.509998, \"position\": 47.831299, \"action\": \"HOLD\"}, {\"date\": \"2013-02-28T00:00:00\", \"actual\": 63.057144, \"position\": 47.362541, \"action\": \"HOLD\"}, {\"date\": \"2013-03-01T00:00:00\", \"actual\": 61.495716, \"position\": 47.02483, \"action\": \"HOLD\"}, {\"date\": \"2013-03-04T00:00:00\", \"actual\": 60.007141, \"position\": 45.860394, \"action\": \"HOLD\"}, {\"date\": \"2013-03-05T00:00:00\", \"actual\": 61.591427, \"position\": 44.750282, \"action\": \"HOLD\"}, {\"date\": \"2013-03-06T00:00:00\", \"actual\": 60.808571, \"position\": 45.93177, \"action\": \"HOLD\"}, {\"date\": \"2013-03-07T00:00:00\", \"actual\": 61.511429, \"position\": 45.347954, \"action\": \"HOLD\"}, {\"date\": \"2013-03-08T00:00:00\", \"actual\": 61.674286, \"position\": 45.872112, \"action\": \"HOLD\"}, {\"date\": \"2013-03-11T00:00:00\", \"actual\": 62.552856, \"position\": 45.993565, \"action\": \"HOLD\"}, {\"date\": \"2013-03-12T00:00:00\", \"actual\": 61.204285, \"position\": 46.64875, \"action\": \"HOLD\"}, {\"date\": \"2013-03-13T00:00:00\", \"actual\": 61.192856, \"position\": 45.643055, \"action\": \"HOLD\"}, {\"date\": \"2013-03-14T00:00:00\", \"actual\": 61.785713, \"position\": 45.634529, \"action\": \"HOLD\"}, {\"date\": \"2013-03-15T00:00:00\", \"actual\": 63.380001, \"position\": 46.076653, \"action\": \"HOLD\"}, {\"date\": \"2013-03-18T00:00:00\", \"actual\": 65.102859, \"position\": 47.265602, \"action\": \"BUY\"}, {\"date\": \"2013-03-19T00:00:00\", \"actual\": 64.927139, \"position\": 48.550411, \"action\": \"HOLD\"}, {\"date\": \"2013-03-20T00:00:00\", \"actual\": 64.582855, \"position\": 48.419376, \"action\": \"HOLD\"}, {\"date\": \"2013-03-21T00:00:00\", \"actual\": 64.675713, \"position\": 48.162624, \"action\": \"HOLD\"}, {\"date\": \"2013-03-22T00:00:00\", \"actual\": 65.987144, \"position\": 48.231873, \"action\": \"HOLD\"}, {\"date\": \"2013-03-25T00:00:00\", \"actual\": 66.225716, \"position\": 49.209873, \"action\": \"HOLD\"}, {\"date\": \"2013-03-26T00:00:00\", \"actual\": 65.877144, \"position\": 49.387787, \"action\": \"BUY\"}, {\"date\": \"2013-03-27T00:00:00\", \"actual\": 64.582855, \"position\": 49.127838, \"action\": \"HOLD\"}, {\"date\": \"2013-03-28T00:00:00\", \"actual\": 63.237144, \"position\": 48.162624, \"action\": \"HOLD\"}, {\"date\": \"2013-04-01T00:00:00\", \"actual\": 61.272858, \"position\": 47.159058, \"action\": \"HOLD\"}, {\"date\": \"2013-04-02T00:00:00\", \"actual\": 61.398571, \"position\": 45.694187, \"action\": \"HOLD\"}, {\"date\": \"2013-04-03T00:00:00\", \"actual\": 61.712856, \"position\": 45.787945, \"action\": \"BUY\"}, {\"date\": \"2013-04-04T00:00:00\", \"actual\": 61.102856, \"position\": 46.022331, \"action\": \"BUY\"}, {\"date\": \"2013-04-05T00:00:00\", \"actual\": 60.457142, \"position\": 45.567406, \"action\": \"HOLD\"}, {\"date\": \"2013-04-08T00:00:00\", \"actual\": 60.887142, \"position\": 45.085869, \"action\": \"HOLD\"}, {\"date\": \"2013-04-09T00:00:00\", \"actual\": 60.997143, \"position\": 45.406548, \"action\": \"HOLD\"}, {\"date\": \"2013-04-10T00:00:00\", \"actual\": 62.241428, \"position\": 45.488579, \"action\": \"HOLD\"}, {\"date\": \"2013-04-11T00:00:00\", \"actual\": 62.047142, \"position\": 46.416504, \"action\": \"HOLD\"}, {\"date\": \"2013-04-12T00:00:00\", \"actual\": 61.400002, \"position\": 46.271622, \"action\": \"HOLD\"}, {\"date\": \"2013-04-15T00:00:00\", \"actual\": 59.978573, \"position\": 45.789009, \"action\": \"HOLD\"}, {\"date\": \"2013-04-16T00:00:00\", \"actual\": 60.89143, \"position\": 44.728985, \"action\": \"HOLD\"}, {\"date\": \"2013-04-17T00:00:00\", \"actual\": 57.542858, \"position\": 45.40974, \"action\": \"HOLD\"}, {\"date\": \"2013-04-18T00:00:00\", \"actual\": 56.007141, \"position\": 42.912548, \"action\": \"BUY\"}, {\"date\": \"2013-04-19T00:00:00\", \"actual\": 55.790001, \"position\": 41.767284, \"action\": \"SELL\"}, {\"date\": \"2013-04-22T00:00:00\", \"actual\": 56.952858, \"position\": 41.605354, \"action\": \"HOLD\"}, {\"date\": \"2013-04-23T00:00:00\", \"actual\": 58.01857, \"position\": 42.472557, \"action\": \"BUY\"}, {\"date\": \"2013-04-24T00:00:00\", \"actual\": 57.922855, \"position\": 43.267307, \"action\": \"HOLD\"}, {\"date\": \"2013-04-25T00:00:00\", \"actual\": 58.34, \"position\": 43.195934, \"action\": \"HOLD\"}, {\"date\": \"2013-04-26T00:00:00\", \"actual\": 59.599998, \"position\": 43.507019, \"action\": \"HOLD\"}, {\"date\": \"2013-04-29T00:00:00\", \"actual\": 61.445713, \"position\": 44.446663, \"action\": \"HOLD\"}, {\"date\": \"2013-04-30T00:00:00\", \"actual\": 63.254284, \"position\": 45.823101, \"action\": \"HOLD\"}, {\"date\": \"2013-05-01T00:00:00\", \"actual\": 62.755714, \"position\": 47.171841, \"action\": \"HOLD\"}, {\"date\": \"2013-05-02T00:00:00\", \"actual\": 63.645714, \"position\": 46.800037, \"action\": \"HOLD\"}, {\"date\": \"2013-05-03T00:00:00\", \"actual\": 64.28286, \"position\": 47.463753, \"action\": \"HOLD\"}, {\"date\": \"2013-05-06T00:00:00\", \"actual\": 65.815712, \"position\": 47.938904, \"action\": \"HOLD\"}, {\"date\": \"2013-05-07T00:00:00\", \"actual\": 65.522858, \"position\": 49.082027, \"action\": \"HOLD\"}, {\"date\": \"2013-05-08T00:00:00\", \"actual\": 66.262856, \"position\": 48.863625, \"action\": \"BUY\"}, {\"date\": \"2013-05-09T00:00:00\", \"actual\": 65.252853, \"position\": 49.415493, \"action\": \"HOLD\"}, {\"date\": \"2013-05-10T00:00:00\", \"actual\": 64.709999, \"position\": 51.01022, \"action\": \"HOLD\"}, {\"date\": \"2013-05-13T00:00:00\", \"actual\": 64.96286, \"position\": 50.585846, \"action\": \"HOLD\"}, {\"date\": \"2013-05-14T00:00:00\", \"actual\": 63.408573, \"position\": 50.78352, \"action\": \"HOLD\"}, {\"date\": \"2013-05-15T00:00:00\", \"actual\": 61.264286, \"position\": 49.568485, \"action\": \"HOLD\"}, {\"date\": \"2013-05-16T00:00:00\", \"actual\": 62.082859, \"position\": 47.892227, \"action\": \"SELL\"}, {\"date\": \"2013-05-17T00:00:00\", \"actual\": 61.894287, \"position\": 48.532135, \"action\": \"HOLD\"}, {\"date\": \"2013-05-20T00:00:00\", \"actual\": 63.275715, \"position\": 48.384708, \"action\": \"BUY\"}, {\"date\": \"2013-05-21T00:00:00\", \"actual\": 62.808571, \"position\": 49.464622, \"action\": \"HOLD\"}, {\"date\": \"2013-05-22T00:00:00\", \"actual\": 63.049999, \"position\": 49.09943, \"action\": \"HOLD\"}, {\"date\": \"2013-05-23T00:00:00\", \"actual\": 63.162857, \"position\": 49.288166, \"action\": \"HOLD\"}, {\"date\": \"2013-05-24T00:00:00\", \"actual\": 63.592857, \"position\": 49.376404, \"action\": \"HOLD\"}, {\"date\": \"2013-05-28T00:00:00\", \"actual\": 63.062859, \"position\": 49.71254, \"action\": \"HOLD\"}, {\"date\": \"2013-05-29T00:00:00\", \"actual\": 63.564285, \"position\": 49.298222, \"action\": \"HOLD\"}, {\"date\": \"2013-05-30T00:00:00\", \"actual\": 64.511429, \"position\": 49.690205, \"action\": \"HOLD\"}, {\"date\": \"2013-05-31T00:00:00\", \"actual\": 64.247147, \"position\": 50.430611, \"action\": \"HOLD\"}, {\"date\": \"2013-06-03T00:00:00\", \"actual\": 64.388573, \"position\": 50.224026, \"action\": \"HOLD\"}, {\"date\": \"2013-06-04T00:00:00\", \"actual\": 64.187141, \"position\": 50.334583, \"action\": \"HOLD\"}, {\"date\": \"2013-06-05T00:00:00\", \"actual\": 63.587143, \"position\": 50.177113, \"action\": \"HOLD\"}, {\"date\": \"2013-06-06T00:00:00\", \"actual\": 62.637142, \"position\": 49.708073, \"action\": \"HOLD\"}, {\"date\": \"2013-06-07T00:00:00\", \"actual\": 63.115715, \"position\": 48.965431, \"action\": \"HOLD\"}, {\"date\": \"2013-06-10T00:00:00\", \"actual\": 62.69857, \"position\": 49.33955, \"action\": \"HOLD\"}, {\"date\": \"2013-06-11T00:00:00\", \"actual\": 62.514286, \"position\": 49.013451, \"action\": \"HOLD\"}, {\"date\": \"2013-06-12T00:00:00\", \"actual\": 61.741428, \"position\": 48.869389, \"action\": \"HOLD\"}, {\"date\": \"2013-06-13T00:00:00\", \"actual\": 62.279999, \"position\": 48.265221, \"action\": \"HOLD\"}, {\"date\": \"2013-06-14T00:00:00\", \"actual\": 61.435715, \"position\": 48.68623, \"action\": \"HOLD\"}, {\"date\": \"2013-06-17T00:00:00\", \"actual\": 61.714287, \"position\": 48.026234, \"action\": \"HOLD\"}, {\"date\": \"2013-06-18T00:00:00\", \"actual\": 61.681427, \"position\": 48.243999, \"action\": \"HOLD\"}, {\"date\": \"2013-06-19T00:00:00\", \"actual\": 60.42857, \"position\": 48.218319, \"action\": \"HOLD\"}, {\"date\": \"2013-06-20T00:00:00\", \"actual\": 59.548573, \"position\": 47.238911, \"action\": \"HOLD\"}, {\"date\": \"2013-06-21T00:00:00\", \"actual\": 59.07143, \"position\": 46.550999, \"action\": \"HOLD\"}, {\"date\": \"2013-06-24T00:00:00\", \"actual\": 57.505714, \"position\": 46.177994, \"action\": \"HOLD\"}, {\"date\": \"2013-06-25T00:00:00\", \"actual\": 57.51857, \"position\": 44.954037, \"action\": \"HOLD\"}, {\"date\": \"2013-06-26T00:00:00\", \"actual\": 56.867142, \"position\": 44.964077, \"action\": \"HOLD\"}, {\"date\": \"2013-06-27T00:00:00\", \"actual\": 56.254284, \"position\": 44.454842, \"action\": \"HOLD\"}, {\"date\": \"2013-06-28T00:00:00\", \"actual\": 56.647144, \"position\": 43.975746, \"action\": \"HOLD\"}, {\"date\": \"2013-07-01T00:00:00\", \"actual\": 58.459999, \"position\": 44.282856, \"action\": \"HOLD\"}, {\"date\": \"2013-07-02T00:00:00\", \"actual\": 59.784286, \"position\": 45.700024, \"action\": \"HOLD\"}, {\"date\": \"2013-07-03T00:00:00\", \"actual\": 60.114285, \"position\": 46.735256, \"action\": \"HOLD\"}, {\"date\": \"2013-07-05T00:00:00\", \"actual\": 59.631428, \"position\": 46.99324, \"action\": \"HOLD\"}, {\"date\": \"2013-07-08T00:00:00\", \"actual\": 59.292858, \"position\": 46.615765, \"action\": \"HOLD\"}, {\"date\": \"2013-07-09T00:00:00\", \"actual\": 60.335712, \"position\": 46.351101, \"action\": \"HOLD\"}, {\"date\": \"2013-07-10T00:00:00\", \"actual\": 60.104286, \"position\": 47.166321, \"action\": \"HOLD\"}, {\"date\": \"2013-07-11T00:00:00\", \"actual\": 61.041428, \"position\": 46.985416, \"action\": \"BUY\"}, {\"date\": \"2013-07-12T00:00:00\", \"actual\": 60.93, \"position\": 47.718018, \"action\": \"HOLD\"}, {\"date\": \"2013-07-15T00:00:00\", \"actual\": 61.062859, \"position\": 47.630898, \"action\": \"HOLD\"}, {\"date\": \"2013-07-16T00:00:00\", \"actual\": 61.457142, \"position\": 47.734756, \"action\": \"HOLD\"}, {\"date\": \"2013-07-17T00:00:00\", \"actual\": 61.472858, \"position\": 48.042988, \"action\": \"HOLD\"}, {\"date\": \"2013-07-18T00:00:00\", \"actual\": 61.68, \"position\": 48.055279, \"action\": \"HOLD\"}, {\"date\": \"2013-07-19T00:00:00\", \"actual\": 60.707142, \"position\": 48.217205, \"action\": \"HOLD\"}, {\"date\": \"2013-07-22T00:00:00\", \"actual\": 60.901428, \"position\": 47.456684, \"action\": \"HOLD\"}, {\"date\": \"2013-07-23T00:00:00\", \"actual\": 59.855713, \"position\": 47.608566, \"action\": \"HOLD\"}, {\"date\": \"2013-07-24T00:00:00\", \"actual\": 62.93, \"position\": 46.791103, \"action\": \"HOLD\"}, {\"date\": \"2013-07-25T00:00:00\", \"actual\": 62.642857, \"position\": 49.194363, \"action\": \"HOLD\"}, {\"date\": \"2013-07-26T00:00:00\", \"actual\": 62.998573, \"position\": 48.969887, \"action\": \"HOLD\"}, {\"date\": \"2013-07-29T00:00:00\", \"actual\": 63.970001, \"position\": 49.247967, \"action\": \"HOLD\"}, {\"date\": \"2013-07-30T00:00:00\", \"actual\": 64.760002, \"position\": 50.007366, \"action\": \"HOLD\"}, {\"date\": \"2013-07-31T00:00:00\", \"actual\": 64.647141, \"position\": 50.624939, \"action\": \"HOLD\"}, {\"date\": \"2013-08-01T00:00:00\", \"actual\": 65.239998, \"position\": 50.536705, \"action\": \"HOLD\"}, {\"date\": \"2013-08-02T00:00:00\", \"actual\": 66.077141, \"position\": 51.000156, \"action\": \"HOLD\"}, {\"date\": \"2013-08-05T00:00:00\", \"actual\": 67.064285, \"position\": 51.654587, \"action\": \"HOLD\"}, {\"date\": \"2013-08-06T00:00:00\", \"actual\": 66.464287, \"position\": 52.42627, \"action\": \"HOLD\"}, {\"date\": \"2013-08-07T00:00:00\", \"actual\": 66.425713, \"position\": 51.957214, \"action\": \"HOLD\"}, {\"date\": \"2013-08-08T00:00:00\", \"actual\": 65.858574, \"position\": 51.927071, \"action\": \"HOLD\"}, {\"date\": \"2013-08-09T00:00:00\", \"actual\": 64.921425, \"position\": 53.961407, \"action\": \"HOLD\"}, {\"date\": \"2013-08-12T00:00:00\", \"actual\": 66.765717, \"position\": 53.193562, \"action\": \"HOLD\"}, {\"date\": \"2013-08-13T00:00:00\", \"actual\": 69.938568, \"position\": 54.704689, \"action\": \"HOLD\"}, {\"date\": \"2013-08-14T00:00:00\", \"actual\": 71.214287, \"position\": 57.304371, \"action\": \"HOLD\"}, {\"date\": \"2013-08-15T00:00:00\", \"actual\": 71.129997, \"position\": 58.349628, \"action\": \"HOLD\"}, {\"date\": \"2013-08-16T00:00:00\", \"actual\": 71.761429, \"position\": 58.280575, \"action\": \"HOLD\"}, {\"date\": \"2013-08-19T00:00:00\", \"actual\": 72.534286, \"position\": 58.797932, \"action\": \"HOLD\"}, {\"date\": \"2013-08-20T00:00:00\", \"actual\": 71.581429, \"position\": 59.431183, \"action\": \"HOLD\"}, {\"date\": \"2013-08-21T00:00:00\", \"actual\": 71.765717, \"position\": 58.650459, \"action\": \"BUY\"}, {\"date\": \"2013-08-22T00:00:00\", \"actual\": 71.851425, \"position\": 58.801445, \"action\": \"HOLD\"}, {\"date\": \"2013-08-23T00:00:00\", \"actual\": 71.574287, \"position\": 58.87167, \"action\": \"BUY\"}, {\"date\": \"2013-08-26T00:00:00\", \"actual\": 71.852859, \"position\": 58.644596, \"action\": \"HOLD\"}, {\"date\": \"2013-08-27T00:00:00\", \"actual\": 69.798569, \"position\": 58.872845, \"action\": \"HOLD\"}, {\"date\": \"2013-08-28T00:00:00\", \"actual\": 70.128571, \"position\": 57.189667, \"action\": \"HOLD\"}, {\"date\": \"2013-08-29T00:00:00\", \"actual\": 70.242859, \"position\": 57.460041, \"action\": \"HOLD\"}, {\"date\": \"2013-08-30T00:00:00\", \"actual\": 69.602859, \"position\": 57.553684, \"action\": \"HOLD\"}, {\"date\": \"2013-09-03T00:00:00\", \"actual\": 69.797142, \"position\": 57.029301, \"action\": \"HOLD\"}, {\"date\": \"2013-09-04T00:00:00\", \"actual\": 71.241432, \"position\": 57.188484, \"action\": \"HOLD\"}, {\"date\": \"2013-09-05T00:00:00\", \"actual\": 70.752853, \"position\": 58.371876, \"action\": \"HOLD\"}, {\"date\": \"2013-09-06T00:00:00\", \"actual\": 71.174286, \"position\": 57.971546, \"action\": \"HOLD\"}, {\"date\": \"2013-09-09T00:00:00\", \"actual\": 72.309998, \"position\": 58.316849, \"action\": \"HOLD\"}, {\"date\": \"2013-09-10T00:00:00\", \"actual\": 70.662857, \"position\": 59.247417, \"action\": \"HOLD\"}, {\"date\": \"2013-09-11T00:00:00\", \"actual\": 66.815712, \"position\": 57.897804, \"action\": \"HOLD\"}, {\"date\": \"2013-09-12T00:00:00\", \"actual\": 67.527145, \"position\": 54.74564, \"action\": \"SELL\"}, {\"date\": \"2013-09-13T00:00:00\", \"actual\": 66.414284, \"position\": 55.328552, \"action\": \"HOLD\"}, {\"date\": \"2013-09-16T00:00:00\", \"actual\": 64.302856, \"position\": 54.416737, \"action\": \"BUY\"}, {\"date\": \"2013-09-17T00:00:00\", \"actual\": 65.045715, \"position\": 52.686726, \"action\": \"BUY\"}, {\"date\": \"2013-09-18T00:00:00\", \"actual\": 66.382858, \"position\": 53.295391, \"action\": \"HOLD\"}, {\"date\": \"2013-09-19T00:00:00\", \"actual\": 67.471428, \"position\": 54.390984, \"action\": \"HOLD\"}, {\"date\": \"2013-09-20T00:00:00\", \"actual\": 66.772858, \"position\": 55.282909, \"action\": \"HOLD\"}, {\"date\": \"2013-09-23T00:00:00\", \"actual\": 70.091431, \"position\": 54.710537, \"action\": \"HOLD\"}, {\"date\": \"2013-09-24T00:00:00\", \"actual\": 69.871429, \"position\": 57.429626, \"action\": \"HOLD\"}, {\"date\": \"2013-09-25T00:00:00\", \"actual\": 68.790001, \"position\": 57.249359, \"action\": \"HOLD\"}, {\"date\": \"2013-09-26T00:00:00\", \"actual\": 69.459999, \"position\": 56.363281, \"action\": \"HOLD\"}, {\"date\": \"2013-09-27T00:00:00\", \"actual\": 68.964287, \"position\": 56.912243, \"action\": \"HOLD\"}, {\"date\": \"2013-09-30T00:00:00\", \"actual\": 68.10714, \"position\": 56.506096, \"action\": \"BUY\"}, {\"date\": \"2013-10-01T00:00:00\", \"actual\": 69.708572, \"position\": 55.803791, \"action\": \"BUY\"}, {\"date\": \"2013-10-02T00:00:00\", \"actual\": 69.937141, \"position\": 57.115917, \"action\": \"HOLD\"}, {\"date\": \"2013-10-03T00:00:00\", \"actual\": 69.058571, \"position\": 57.303196, \"action\": \"HOLD\"}, {\"date\": \"2013-10-04T00:00:00\", \"actual\": 69.004288, \"position\": 56.58334, \"action\": \"HOLD\"}, {\"date\": \"2013-10-07T00:00:00\", \"actual\": 69.678574, \"position\": 56.53886, \"action\": \"HOLD\"}, {\"date\": \"2013-10-08T00:00:00\", \"actual\": 68.705711, \"position\": 57.091335, \"action\": \"HOLD\"}, {\"date\": \"2013-10-09T00:00:00\", \"actual\": 69.512856, \"position\": 56.294216, \"action\": \"BUY\"}, {\"date\": \"2013-10-10T00:00:00\", \"actual\": 69.94857, \"position\": 56.955563, \"action\": \"HOLD\"}, {\"date\": \"2013-10-11T00:00:00\", \"actual\": 70.401428, \"position\": 57.312565, \"action\": \"HOLD\"}, {\"date\": \"2013-10-14T00:00:00\", \"actual\": 70.862854, \"position\": 57.683609, \"action\": \"HOLD\"}, {\"date\": \"2013-10-15T00:00:00\", \"actual\": 71.239998, \"position\": 58.061687, \"action\": \"HOLD\"}, {\"date\": \"2013-10-16T00:00:00\", \"actual\": 71.587143, \"position\": 58.370701, \"action\": \"HOLD\"}, {\"date\": \"2013-10-17T00:00:00\", \"actual\": 72.071426, \"position\": 58.65514, \"action\": \"HOLD\"}, {\"date\": \"2013-10-18T00:00:00\", \"actual\": 72.69857, \"position\": 59.051937, \"action\": \"HOLD\"}, {\"date\": \"2013-10-21T00:00:00\", \"actual\": 74.480003, \"position\": 59.565788, \"action\": \"HOLD\"}, {\"date\": \"2013-10-22T00:00:00\", \"actual\": 74.267143, \"position\": 61.02541, \"action\": \"HOLD\"}, {\"date\": \"2013-10-23T00:00:00\", \"actual\": 74.994286, \"position\": 60.85099, \"action\": \"HOLD\"}, {\"date\": \"2013-10-24T00:00:00\", \"actual\": 75.987144, \"position\": 61.446785, \"action\": \"HOLD\"}, {\"date\": \"2013-10-25T00:00:00\", \"actual\": 75.137146, \"position\": 62.260284, \"action\": \"HOLD\"}, {\"date\": \"2013-10-28T00:00:00\", \"actual\": 75.697144, \"position\": 61.563847, \"action\": \"HOLD\"}, {\"date\": \"2013-10-29T00:00:00\", \"actual\": 73.811432, \"position\": 62.022671, \"action\": \"HOLD\"}, {\"date\": \"2013-10-30T00:00:00\", \"actual\": 74.985718, \"position\": 60.477608, \"action\": \"HOLD\"}, {\"date\": \"2013-10-31T00:00:00\", \"actual\": 74.671425, \"position\": 61.43977, \"action\": \"HOLD\"}, {\"date\": \"2013-11-01T00:00:00\", \"actual\": 74.290001, \"position\": 61.18224, \"action\": \"HOLD\"}, {\"date\": \"2013-11-04T00:00:00\", \"actual\": 75.25, \"position\": 60.86974, \"action\": \"HOLD\"}, {\"date\": \"2013-11-05T00:00:00\", \"actual\": 75.064285, \"position\": 61.656311, \"action\": \"HOLD\"}, {\"date\": \"2013-11-06T00:00:00\", \"actual\": 74.417145, \"position\": 61.50415, \"action\": \"HOLD\"}, {\"date\": \"2013-11-07T00:00:00\", \"actual\": 73.21286, \"position\": 63.556316, \"action\": \"HOLD\"}, {\"date\": \"2013-11-08T00:00:00\", \"actual\": 74.365715, \"position\": 62.527794, \"action\": \"HOLD\"}, {\"date\": \"2013-11-11T00:00:00\", \"actual\": 74.150002, \"position\": 63.51239, \"action\": \"HOLD\"}, {\"date\": \"2013-11-12T00:00:00\", \"actual\": 74.28714, \"position\": 63.328152, \"action\": \"HOLD\"}, {\"date\": \"2013-11-13T00:00:00\", \"actual\": 74.375717, \"position\": 63.445282, \"action\": \"HOLD\"}, {\"date\": \"2013-11-14T00:00:00\", \"actual\": 75.451431, \"position\": 63.52095, \"action\": \"HOLD\"}, {\"date\": \"2013-11-15T00:00:00\", \"actual\": 74.998573, \"position\": 64.439667, \"action\": \"HOLD\"}, {\"date\": \"2013-11-18T00:00:00\", \"actual\": 74.089996, \"position\": 64.052887, \"action\": \"HOLD\"}, {\"date\": \"2013-11-19T00:00:00\", \"actual\": 74.221428, \"position\": 63.276924, \"action\": \"HOLD\"}, {\"date\": \"2013-11-20T00:00:00\", \"actual\": 73.571426, \"position\": 63.389168, \"action\": \"HOLD\"}, {\"date\": \"2013-11-21T00:00:00\", \"actual\": 74.44857, \"position\": 62.834023, \"action\": \"BUY\"}, {\"date\": \"2013-11-22T00:00:00\", \"actual\": 74.257141, \"position\": 63.583153, \"action\": \"HOLD\"}, {\"date\": \"2013-11-25T00:00:00\", \"actual\": 74.82, \"position\": 63.41967, \"action\": \"HOLD\"}, {\"date\": \"2013-11-26T00:00:00\", \"actual\": 76.199997, \"position\": 63.90036, \"action\": \"HOLD\"}, {\"date\": \"2013-11-27T00:00:00\", \"actual\": 77.994286, \"position\": 65.078964, \"action\": \"HOLD\"}, {\"date\": \"2013-11-29T00:00:00\", \"actual\": 79.438568, \"position\": 66.611382, \"action\": \"HOLD\"}, {\"date\": \"2013-12-02T00:00:00\", \"actual\": 78.747147, \"position\": 67.844879, \"action\": \"HOLD\"}, {\"date\": \"2013-12-03T00:00:00\", \"actual\": 80.902855, \"position\": 67.254379, \"action\": \"HOLD\"}, {\"date\": \"2013-12-04T00:00:00\", \"actual\": 80.714287, \"position\": 69.095459, \"action\": \"HOLD\"}, {\"date\": \"2013-12-05T00:00:00\", \"actual\": 81.128571, \"position\": 68.93441, \"action\": \"HOLD\"}, {\"date\": \"2013-12-06T00:00:00\", \"actual\": 80.002853, \"position\": 69.288246, \"action\": \"HOLD\"}, {\"date\": \"2013-12-09T00:00:00\", \"actual\": 80.918571, \"position\": 68.326805, \"action\": \"HOLD\"}, {\"date\": \"2013-12-10T00:00:00\", \"actual\": 80.792854, \"position\": 69.108879, \"action\": \"HOLD\"}, {\"date\": \"2013-12-11T00:00:00\", \"actual\": 80.194283, \"position\": 69.001526, \"action\": \"HOLD\"}, {\"date\": \"2013-12-12T00:00:00\", \"actual\": 80.077141, \"position\": 68.49028, \"action\": \"HOLD\"}, {\"date\": \"2013-12-13T00:00:00\", \"actual\": 79.204285, \"position\": 68.390251, \"action\": \"HOLD\"}, {\"date\": \"2013-12-16T00:00:00\", \"actual\": 79.64286, \"position\": 67.644798, \"action\": \"BUY\"}, {\"date\": \"2013-12-17T00:00:00\", \"actual\": 79.284286, \"position\": 68.019371, \"action\": \"HOLD\"}, {\"date\": \"2013-12-18T00:00:00\", \"actual\": 78.681427, \"position\": 67.713127, \"action\": \"HOLD\"}, {\"date\": \"2013-12-19T00:00:00\", \"actual\": 77.779999, \"position\": 67.198242, \"action\": \"HOLD\"}, {\"date\": \"2013-12-20T00:00:00\", \"actual\": 78.431427, \"position\": 66.428375, \"action\": \"HOLD\"}, {\"date\": \"2013-12-23T00:00:00\", \"actual\": 81.441429, \"position\": 66.984726, \"action\": \"HOLD\"}, {\"date\": \"2013-12-24T00:00:00\", \"actual\": 81.095711, \"position\": 69.55542, \"action\": \"HOLD\"}, {\"date\": \"2013-12-26T00:00:00\", \"actual\": 80.557144, \"position\": 69.260162, \"action\": \"HOLD\"}, {\"date\": \"2013-12-27T00:00:00\", \"actual\": 80.012856, \"position\": 68.800194, \"action\": \"HOLD\"}, {\"date\": \"2013-12-30T00:00:00\", \"actual\": 79.21714, \"position\": 68.33535, \"action\": \"HOLD\"}, {\"date\": \"2013-12-31T00:00:00\", \"actual\": 80.145714, \"position\": 67.655769, \"action\": \"HOLD\"}, {\"date\": \"2014-01-02T00:00:00\", \"actual\": 79.01857, \"position\": 68.44883, \"action\": \"HOLD\"}, {\"date\": \"2014-01-03T00:00:00\", \"actual\": 77.28286, \"position\": 67.486176, \"action\": \"HOLD\"}, {\"date\": \"2014-01-06T00:00:00\", \"actual\": 77.704285, \"position\": 66.003777, \"action\": \"SELL\"}, {\"date\": \"2014-01-07T00:00:00\", \"actual\": 77.148575, \"position\": 66.363701, \"action\": \"HOLD\"}, {\"date\": \"2014-01-08T00:00:00\", \"actual\": 77.637146, \"position\": 65.889114, \"action\": \"HOLD\"}, {\"date\": \"2014-01-09T00:00:00\", \"actual\": 76.645714, \"position\": 66.306381, \"action\": \"HOLD\"}, {\"date\": \"2014-01-10T00:00:00\", \"actual\": 76.134285, \"position\": 65.459641, \"action\": \"HOLD\"}, {\"date\": \"2014-01-13T00:00:00\", \"actual\": 76.53286, \"position\": 65.022835, \"action\": \"HOLD\"}, {\"date\": \"2014-01-14T00:00:00\", \"actual\": 78.055717, \"position\": 65.363243, \"action\": \"HOLD\"}, {\"date\": \"2014-01-15T00:00:00\", \"actual\": 79.622856, \"position\": 66.663857, \"action\": \"HOLD\"}, {\"date\": \"2014-01-16T00:00:00\", \"actual\": 79.178574, \"position\": 68.002266, \"action\": \"HOLD\"}, {\"date\": \"2014-01-17T00:00:00\", \"actual\": 77.238571, \"position\": 67.622818, \"action\": \"HOLD\"}, {\"date\": \"2014-01-21T00:00:00\", \"actual\": 78.438568, \"position\": 65.965965, \"action\": \"HOLD\"}, {\"date\": \"2014-01-22T00:00:00\", \"actual\": 78.78714, \"position\": 66.990822, \"action\": \"HOLD\"}, {\"date\": \"2014-01-23T00:00:00\", \"actual\": 79.454285, \"position\": 67.288521, \"action\": \"HOLD\"}, {\"date\": \"2014-01-24T00:00:00\", \"actual\": 78.010002, \"position\": 67.858315, \"action\": \"BUY\"}, {\"date\": \"2014-01-27T00:00:00\", \"actual\": 78.64286, \"position\": 66.624802, \"action\": \"HOLD\"}, {\"date\": \"2014-01-28T00:00:00\", \"actual\": 72.35714, \"position\": 67.165314, \"action\": \"HOLD\"}, {\"date\": \"2014-01-29T00:00:00\", \"actual\": 71.535713, \"position\": 61.796963, \"action\": \"HOLD\"}, {\"date\": \"2014-01-30T00:00:00\", \"actual\": 71.397141, \"position\": 61.095417, \"action\": \"SELL\"}, {\"date\": \"2014-01-31T00:00:00\", \"actual\": 71.514282, \"position\": 60.977062, \"action\": \"SELL\"}, {\"date\": \"2014-02-03T00:00:00\", \"actual\": 71.647141, \"position\": 61.077103, \"action\": \"BUY\"}, {\"date\": \"2014-02-04T00:00:00\", \"actual\": 72.684288, \"position\": 61.190567, \"action\": \"HOLD\"}, {\"date\": \"2014-02-05T00:00:00\", \"actual\": 73.227142, \"position\": 62.076363, \"action\": \"HOLD\"}, {\"date\": \"2014-02-06T00:00:00\", \"actual\": 73.215714, \"position\": 62.539982, \"action\": \"HOLD\"}, {\"date\": \"2014-02-07T00:00:00\", \"actual\": 74.239998, \"position\": 65.247871, \"action\": \"HOLD\"}, {\"date\": \"2014-02-10T00:00:00\", \"actual\": 75.57, \"position\": 66.160698, \"action\": \"HOLD\"}, {\"date\": \"2014-02-11T00:00:00\", \"actual\": 76.565712, \"position\": 67.34597, \"action\": \"HOLD\"}, {\"date\": \"2014-02-12T00:00:00\", \"actual\": 76.559998, \"position\": 68.233299, \"action\": \"HOLD\"}, {\"date\": \"2014-02-13T00:00:00\", \"actual\": 77.775711, \"position\": 68.228233, \"action\": \"HOLD\"}, {\"date\": \"2014-02-14T00:00:00\", \"actual\": 77.71286, \"position\": 69.311623, \"action\": \"HOLD\"}, {\"date\": \"2014-02-18T00:00:00\", \"actual\": 77.998573, \"position\": 69.255623, \"action\": \"HOLD\"}, {\"date\": \"2014-02-19T00:00:00\", \"actual\": 76.767143, \"position\": 69.510231, \"action\": \"HOLD\"}, {\"date\": \"2014-02-20T00:00:00\", \"actual\": 75.878571, \"position\": 68.412819, \"action\": \"HOLD\"}, {\"date\": \"2014-02-21T00:00:00\", \"actual\": 75.035713, \"position\": 67.620949, \"action\": \"HOLD\"}, {\"date\": \"2014-02-24T00:00:00\", \"actual\": 75.364288, \"position\": 66.869812, \"action\": \"HOLD\"}, {\"date\": \"2014-02-25T00:00:00\", \"actual\": 74.580002, \"position\": 67.162636, \"action\": \"HOLD\"}, {\"date\": \"2014-02-26T00:00:00\", \"actual\": 73.907143, \"position\": 66.463692, \"action\": \"HOLD\"}, {\"date\": \"2014-02-27T00:00:00\", \"actual\": 75.381432, \"position\": 65.864059, \"action\": \"HOLD\"}, {\"date\": \"2014-02-28T00:00:00\", \"actual\": 75.177139, \"position\": 67.17791, \"action\": \"HOLD\"}, {\"date\": \"2014-03-03T00:00:00\", \"actual\": 75.394287, \"position\": 66.995827, \"action\": \"HOLD\"}, {\"date\": \"2014-03-04T00:00:00\", \"actual\": 75.891426, \"position\": 67.189369, \"action\": \"HOLD\"}, {\"date\": \"2014-03-05T00:00:00\", \"actual\": 76.05143, \"position\": 67.632393, \"action\": \"HOLD\"}, {\"date\": \"2014-03-06T00:00:00\", \"actual\": 75.821426, \"position\": 67.774994, \"action\": \"HOLD\"}, {\"date\": \"2014-03-07T00:00:00\", \"actual\": 75.777145, \"position\": 67.57003, \"action\": \"HOLD\"}, {\"date\": \"2014-03-10T00:00:00\", \"actual\": 75.845711, \"position\": 67.530548, \"action\": \"HOLD\"}, {\"date\": \"2014-03-11T00:00:00\", \"actual\": 76.584282, \"position\": 67.591652, \"action\": \"HOLD\"}, {\"date\": \"2014-03-12T00:00:00\", \"actual\": 76.658569, \"position\": 68.249847, \"action\": \"HOLD\"}, {\"date\": \"2014-03-13T00:00:00\", \"actual\": 75.807144, \"position\": 68.316055, \"action\": \"HOLD\"}, {\"date\": \"2014-03-14T00:00:00\", \"actual\": 74.955711, \"position\": 67.557289, \"action\": \"HOLD\"}, {\"date\": \"2014-03-17T00:00:00\", \"actual\": 75.248573, \"position\": 66.798523, \"action\": \"HOLD\"}, {\"date\": \"2014-03-18T00:00:00\", \"actual\": 75.914284, \"position\": 67.059509, \"action\": \"HOLD\"}, {\"date\": \"2014-03-19T00:00:00\", \"actual\": 75.894287, \"position\": 67.652779, \"action\": \"HOLD\"}, {\"date\": \"2014-03-20T00:00:00\", \"actual\": 75.528572, \"position\": 67.634964, \"action\": \"HOLD\"}, {\"date\": \"2014-03-21T00:00:00\", \"actual\": 76.124283, \"position\": 67.309036, \"action\": \"HOLD\"}, {\"date\": \"2014-03-24T00:00:00\", \"actual\": 77.027145, \"position\": 67.839905, \"action\": \"HOLD\"}, {\"date\": \"2014-03-25T00:00:00\", \"actual\": 77.855713, \"position\": 68.644524, \"action\": \"HOLD\"}, {\"date\": \"2014-03-26T00:00:00\", \"actual\": 77.111427, \"position\": 69.382919, \"action\": \"HOLD\"}, {\"date\": \"2014-03-27T00:00:00\", \"actual\": 76.779999, \"position\": 68.719627, \"action\": \"HOLD\"}, {\"date\": \"2014-03-28T00:00:00\", \"actual\": 76.694283, \"position\": 68.424263, \"action\": \"HOLD\"}, {\"date\": \"2014-03-31T00:00:00\", \"actual\": 76.677139, \"position\": 68.347893, \"action\": \"HOLD\"}, {\"date\": \"2014-04-01T00:00:00\", \"actual\": 77.378571, \"position\": 68.332603, \"action\": \"BUY\"}, {\"date\": \"2014-04-02T00:00:00\", \"actual\": 77.507141, \"position\": 68.957703, \"action\": \"HOLD\"}, {\"date\": \"2014-04-03T00:00:00\", \"actual\": 76.970001, \"position\": 69.072289, \"action\": \"HOLD\"}, {\"date\": \"2014-04-04T00:00:00\", \"actual\": 75.974289, \"position\": 68.593613, \"action\": \"HOLD\"}, {\"date\": \"2014-04-07T00:00:00\", \"actual\": 74.781425, \"position\": 67.706261, \"action\": \"HOLD\"}, {\"date\": \"2014-04-08T00:00:00\", \"actual\": 74.777145, \"position\": 66.643211, \"action\": \"HOLD\"}, {\"date\": \"2014-04-09T00:00:00\", \"actual\": 75.760002, \"position\": 66.639374, \"action\": \"HOLD\"}, {\"date\": \"2014-04-10T00:00:00\", \"actual\": 74.78286, \"position\": 67.515274, \"action\": \"BUY\"}, {\"date\": \"2014-04-11T00:00:00\", \"actual\": 74.230003, \"position\": 66.644478, \"action\": \"HOLD\"}, {\"date\": \"2014-04-14T00:00:00\", \"actual\": 74.525711, \"position\": 66.151787, \"action\": \"HOLD\"}, {\"date\": \"2014-04-15T00:00:00\", \"actual\": 73.994286, \"position\": 66.415321, \"action\": \"HOLD\"}, {\"date\": \"2014-04-16T00:00:00\", \"actual\": 74.144287, \"position\": 65.941719, \"action\": \"HOLD\"}, {\"date\": \"2014-04-17T00:00:00\", \"actual\": 74.991432, \"position\": 66.075401, \"action\": \"HOLD\"}, {\"date\": \"2014-04-21T00:00:00\", \"actual\": 75.881432, \"position\": 66.830345, \"action\": \"HOLD\"}, {\"date\": \"2014-04-22T00:00:00\", \"actual\": 75.957146, \"position\": 67.623489, \"action\": \"HOLD\"}, {\"date\": \"2014-04-23T00:00:00\", \"actual\": 74.964287, \"position\": 67.690956, \"action\": \"HOLD\"}, {\"date\": \"2014-04-24T00:00:00\", \"actual\": 81.110001, \"position\": 66.80616, \"action\": \"HOLD\"}, {\"date\": \"2014-04-25T00:00:00\", \"actual\": 81.705711, \"position\": 72.283058, \"action\": \"HOLD\"}, {\"date\": \"2014-04-28T00:00:00\", \"actual\": 84.870003, \"position\": 72.813927, \"action\": \"HOLD\"}, {\"date\": \"2014-04-29T00:00:00\", \"actual\": 84.618568, \"position\": 75.633858, \"action\": \"HOLD\"}, {\"date\": \"2014-04-30T00:00:00\", \"actual\": 84.298569, \"position\": 75.409798, \"action\": \"HOLD\"}, {\"date\": \"2014-05-01T00:00:00\", \"actual\": 84.497147, \"position\": 75.124626, \"action\": \"HOLD\"}, {\"date\": \"2014-05-02T00:00:00\", \"actual\": 84.654289, \"position\": 75.301582, \"action\": \"HOLD\"}, {\"date\": \"2014-05-05T00:00:00\", \"actual\": 85.851425, \"position\": 75.441628, \"action\": \"BUY\"}, {\"date\": \"2014-05-06T00:00:00\", \"actual\": 84.915718, \"position\": 76.508484, \"action\": \"HOLD\"}, {\"date\": \"2014-05-07T00:00:00\", \"actual\": 84.618568, \"position\": 75.674606, \"action\": \"HOLD\"}, {\"date\": \"2014-05-08T00:00:00\", \"actual\": 83.998573, \"position\": 75.409798, \"action\": \"HOLD\"}, {\"date\": \"2014-05-09T00:00:00\", \"actual\": 83.648575, \"position\": 77.885483, \"action\": \"HOLD\"}, {\"date\": \"2014-05-12T00:00:00\", \"actual\": 84.690002, \"position\": 77.560959, \"action\": \"HOLD\"}, {\"date\": \"2014-05-13T00:00:00\", \"actual\": 84.822861, \"position\": 78.526588, \"action\": \"HOLD\"}, {\"date\": \"2014-05-14T00:00:00\", \"actual\": 84.83857, \"position\": 78.649788, \"action\": \"HOLD\"}, {\"date\": \"2014-05-15T00:00:00\", \"actual\": 84.117142, \"position\": 78.664345, \"action\": \"HOLD\"}, {\"date\": \"2014-05-16T00:00:00\", \"actual\": 85.358574, \"position\": 77.995438, \"action\": \"HOLD\"}, {\"date\": \"2014-05-19T00:00:00\", \"actual\": 86.370003, \"position\": 79.146515, \"action\": \"HOLD\"}, {\"date\": \"2014-05-20T00:00:00\", \"actual\": 86.387146, \"position\": 80.08432, \"action\": \"HOLD\"}, {\"date\": \"2014-05-21T00:00:00\", \"actual\": 86.615715, \"position\": 80.100212, \"action\": \"HOLD\"}, {\"date\": \"2014-05-22T00:00:00\", \"actual\": 86.752853, \"position\": 80.312164, \"action\": \"HOLD\"}, {\"date\": \"2014-05-23T00:00:00\", \"actual\": 87.732857, \"position\": 80.439331, \"action\": \"HOLD\"}, {\"date\": \"2014-05-27T00:00:00\", \"actual\": 89.375717, \"position\": 81.348, \"action\": \"HOLD\"}, {\"date\": \"2014-05-28T00:00:00\", \"actual\": 89.144287, \"position\": 82.871315, \"action\": \"HOLD\"}, {\"date\": \"2014-05-29T00:00:00\", \"actual\": 90.76857, \"position\": 82.656731, \"action\": \"HOLD\"}, {\"date\": \"2014-05-30T00:00:00\", \"actual\": 90.428574, \"position\": 84.162796, \"action\": \"HOLD\"}, {\"date\": \"2014-06-02T00:00:00\", \"actual\": 89.807144, \"position\": 83.847534, \"action\": \"HOLD\"}, {\"date\": \"2014-06-03T00:00:00\", \"actual\": 91.077141, \"position\": 83.271339, \"action\": \"HOLD\"}, {\"date\": \"2014-06-04T00:00:00\", \"actual\": 92.117142, \"position\": 84.448914, \"action\": \"HOLD\"}, {\"date\": \"2014-06-05T00:00:00\", \"actual\": 92.478569, \"position\": 85.413208, \"action\": \"BUY\"}, {\"date\": \"2014-06-06T00:00:00\", \"actual\": 92.224289, \"position\": 85.748337, \"action\": \"HOLD\"}, {\"date\": \"2014-06-09T00:00:00\", \"actual\": 93.699997, \"position\": 85.512581, \"action\": \"HOLD\"}, {\"date\": \"2014-06-10T00:00:00\", \"actual\": 94.25, \"position\": 86.880882, \"action\": \"HOLD\"}, {\"date\": \"2014-06-11T00:00:00\", \"actual\": 93.860001, \"position\": 87.390854, \"action\": \"HOLD\"}, {\"date\": \"2014-06-12T00:00:00\", \"actual\": 92.290001, \"position\": 87.029251, \"action\": \"HOLD\"}, {\"date\": \"2014-06-13T00:00:00\", \"actual\": 91.279999, \"position\": 85.573494, \"action\": \"SELL\"}, {\"date\": \"2014-06-16T00:00:00\", \"actual\": 92.199997, \"position\": 84.636986, \"action\": \"BUY\"}, {\"date\": \"2014-06-17T00:00:00\", \"actual\": 92.080002, \"position\": 85.490044, \"action\": \"HOLD\"}, {\"date\": \"2014-06-18T00:00:00\", \"actual\": 92.18, \"position\": 85.378777, \"action\": \"BUY\"}, {\"date\": \"2014-06-19T00:00:00\", \"actual\": 91.860001, \"position\": 85.471512, \"action\": \"HOLD\"}, {\"date\": \"2014-06-20T00:00:00\", \"actual\": 90.910004, \"position\": 85.174797, \"action\": \"HOLD\"}, {\"date\": \"2014-06-23T00:00:00\", \"actual\": 90.830002, \"position\": 84.29393, \"action\": \"HOLD\"}, {\"date\": \"2014-06-24T00:00:00\", \"actual\": 90.279999, \"position\": 84.219749, \"action\": \"HOLD\"}, {\"date\": \"2014-06-25T00:00:00\", \"actual\": 90.360001, \"position\": 83.709801, \"action\": \"HOLD\"}, {\"date\": \"2014-06-26T00:00:00\", \"actual\": 90.900002, \"position\": 83.783936, \"action\": \"HOLD\"}, {\"date\": \"2014-06-27T00:00:00\", \"actual\": 91.980003, \"position\": 84.284676, \"action\": \"HOLD\"}, {\"date\": \"2014-06-30T00:00:00\", \"actual\": 92.93, \"position\": 85.286057, \"action\": \"HOLD\"}, {\"date\": \"2014-07-01T00:00:00\", \"actual\": 93.519997, \"position\": 86.166939, \"action\": \"HOLD\"}, {\"date\": \"2014-07-02T00:00:00\", \"actual\": 93.480003, \"position\": 86.713982, \"action\": \"HOLD\"}, {\"date\": \"2014-07-03T00:00:00\", \"actual\": 94.029999, \"position\": 86.676888, \"action\": \"HOLD\"}, {\"date\": \"2014-07-07T00:00:00\", \"actual\": 95.970001, \"position\": 87.186874, \"action\": \"HOLD\"}, {\"date\": \"2014-07-08T00:00:00\", \"actual\": 95.349998, \"position\": 88.985687, \"action\": \"HOLD\"}, {\"date\": \"2014-07-09T00:00:00\", \"actual\": 95.389999, \"position\": 88.410805, \"action\": \"BUY\"}, {\"date\": \"2014-07-10T00:00:00\", \"actual\": 95.040001, \"position\": 88.447891, \"action\": \"HOLD\"}, {\"date\": \"2014-07-11T00:00:00\", \"actual\": 95.220001, \"position\": 88.12336, \"action\": \"HOLD\"}, {\"date\": \"2014-07-14T00:00:00\", \"actual\": 96.449997, \"position\": 88.29026, \"action\": \"HOLD\"}, {\"date\": \"2014-07-15T00:00:00\", \"actual\": 95.32, \"position\": 89.430748, \"action\": \"HOLD\"}, {\"date\": \"2014-07-16T00:00:00\", \"actual\": 94.779999, \"position\": 88.383003, \"action\": \"HOLD\"}, {\"date\": \"2014-07-17T00:00:00\", \"actual\": 93.089996, \"position\": 87.882294, \"action\": \"HOLD\"}, {\"date\": \"2014-07-18T00:00:00\", \"actual\": 94.43, \"position\": 86.315277, \"action\": \"HOLD\"}, {\"date\": \"2014-07-21T00:00:00\", \"actual\": 93.940002, \"position\": 87.557755, \"action\": \"HOLD\"}, {\"date\": \"2014-07-22T00:00:00\", \"actual\": 94.720001, \"position\": 87.103439, \"action\": \"BUY\"}, {\"date\": \"2014-07-23T00:00:00\", \"actual\": 97.190002, \"position\": 87.826653, \"action\": \"HOLD\"}, {\"date\": \"2014-07-24T00:00:00\", \"actual\": 97.029999, \"position\": 90.11689, \"action\": \"HOLD\"}, {\"date\": \"2014-07-25T00:00:00\", \"actual\": 97.669998, \"position\": 89.968544, \"action\": \"HOLD\"}, {\"date\": \"2014-07-28T00:00:00\", \"actual\": 99.019997, \"position\": 90.561958, \"action\": \"HOLD\"}, {\"date\": \"2014-07-29T00:00:00\", \"actual\": 98.379997, \"position\": 91.813713, \"action\": \"HOLD\"}, {\"date\": \"2014-07-30T00:00:00\", \"actual\": 98.150002, \"position\": 91.220299, \"action\": \"HOLD\"}, {\"date\": \"2014-07-31T00:00:00\", \"actual\": 95.599998, \"position\": 91.007019, \"action\": \"BUY\"}, {\"date\": \"2014-08-01T00:00:00\", \"actual\": 96.129997, \"position\": 88.642609, \"action\": \"HOLD\"}, {\"date\": \"2014-08-04T00:00:00\", \"actual\": 95.589996, \"position\": 89.134033, \"action\": \"BUY\"}, {\"date\": \"2014-08-05T00:00:00\", \"actual\": 95.120003, \"position\": 88.633331, \"action\": \"HOLD\"}, {\"date\": \"2014-08-06T00:00:00\", \"actual\": 94.959999, \"position\": 88.19754, \"action\": \"HOLD\"}, {\"date\": \"2014-08-07T00:00:00\", \"actual\": 94.480003, \"position\": 88.049202, \"action\": \"HOLD\"}, {\"date\": \"2014-08-08T00:00:00\", \"actual\": 94.739998, \"position\": 88.039871, \"action\": \"HOLD\"}, {\"date\": \"2014-08-11T00:00:00\", \"actual\": 95.989998, \"position\": 88.282135, \"action\": \"HOLD\"}, {\"date\": \"2014-08-12T00:00:00\", \"actual\": 95.970001, \"position\": 89.446953, \"action\": \"HOLD\"}, {\"date\": \"2014-08-13T00:00:00\", \"actual\": 97.239998, \"position\": 89.428314, \"action\": \"HOLD\"}, {\"date\": \"2014-08-14T00:00:00\", \"actual\": 97.5, \"position\": 90.61174, \"action\": \"HOLD\"}, {\"date\": \"2014-08-15T00:00:00\", \"actual\": 97.980003, \"position\": 90.854004, \"action\": \"HOLD\"}, {\"date\": \"2014-08-18T00:00:00\", \"actual\": 99.160004, \"position\": 91.301308, \"action\": \"HOLD\"}, {\"date\": \"2014-08-19T00:00:00\", \"actual\": 100.529999, \"position\": 92.400871, \"action\": \"HOLD\"}, {\"date\": \"2014-08-20T00:00:00\", \"actual\": 100.57, \"position\": 93.677475, \"action\": \"HOLD\"}, {\"date\": \"2014-08-21T00:00:00\", \"actual\": 100.580002, \"position\": 93.71476, \"action\": \"HOLD\"}, {\"date\": \"2014-08-22T00:00:00\", \"actual\": 101.32, \"position\": 93.724068, \"action\": \"HOLD\"}, {\"date\": \"2014-08-25T00:00:00\", \"actual\": 101.540001, \"position\": 94.413635, \"action\": \"HOLD\"}, {\"date\": \"2014-08-26T00:00:00\", \"actual\": 100.889999, \"position\": 94.618637, \"action\": \"HOLD\"}, {\"date\": \"2014-08-27T00:00:00\", \"actual\": 102.129997, \"position\": 94.012939, \"action\": \"HOLD\"}, {\"date\": \"2014-08-28T00:00:00\", \"actual\": 102.25, \"position\": 95.168411, \"action\": \"HOLD\"}, {\"date\": \"2014-08-29T00:00:00\", \"actual\": 102.5, \"position\": 95.280251, \"action\": \"HOLD\"}, {\"date\": \"2014-09-02T00:00:00\", \"actual\": 103.300003, \"position\": 95.513176, \"action\": \"HOLD\"}, {\"date\": \"2014-09-03T00:00:00\", \"actual\": 98.940002, \"position\": 96.258659, \"action\": \"HOLD\"}, {\"date\": \"2014-09-04T00:00:00\", \"actual\": 98.120003, \"position\": 92.195854, \"action\": \"BUY\"}, {\"date\": \"2014-09-05T00:00:00\", \"actual\": 98.970001, \"position\": 91.431755, \"action\": \"HOLD\"}, {\"date\": \"2014-09-08T00:00:00\", \"actual\": 98.360001, \"position\": 92.223808, \"action\": \"HOLD\"}, {\"date\": \"2014-09-09T00:00:00\", \"actual\": 97.989998, \"position\": 91.655396, \"action\": \"BUY\"}, {\"date\": \"2014-09-10T00:00:00\", \"actual\": 101.0, \"position\": 91.310616, \"action\": \"BUY\"}, {\"date\": \"2014-09-11T00:00:00\", \"actual\": 101.43, \"position\": 94.115448, \"action\": \"HOLD\"}, {\"date\": \"2014-09-12T00:00:00\", \"actual\": 101.660004, \"position\": 94.516129, \"action\": \"HOLD\"}, {\"date\": \"2014-09-15T00:00:00\", \"actual\": 101.629997, \"position\": 94.730461, \"action\": \"HOLD\"}, {\"date\": \"2014-09-16T00:00:00\", \"actual\": 100.860001, \"position\": 94.702477, \"action\": \"HOLD\"}, {\"date\": \"2014-09-17T00:00:00\", \"actual\": 101.580002, \"position\": 93.984978, \"action\": \"HOLD\"}, {\"date\": \"2014-09-18T00:00:00\", \"actual\": 101.790001, \"position\": 94.655922, \"action\": \"HOLD\"}, {\"date\": \"2014-09-19T00:00:00\", \"actual\": 100.959999, \"position\": 94.851601, \"action\": \"HOLD\"}, {\"date\": \"2014-09-22T00:00:00\", \"actual\": 101.059998, \"position\": 94.078171, \"action\": \"BUY\"}, {\"date\": \"2014-09-23T00:00:00\", \"actual\": 102.639999, \"position\": 94.171349, \"action\": \"HOLD\"}, {\"date\": \"2014-09-24T00:00:00\", \"actual\": 101.75, \"position\": 95.643654, \"action\": \"HOLD\"}, {\"date\": \"2014-09-25T00:00:00\", \"actual\": 97.870003, \"position\": 94.814316, \"action\": \"HOLD\"}, {\"date\": \"2014-09-26T00:00:00\", \"actual\": 100.75, \"position\": 91.198814, \"action\": \"SELL\"}, {\"date\": \"2014-09-29T00:00:00\", \"actual\": 100.110001, \"position\": 93.882469, \"action\": \"HOLD\"}, {\"date\": \"2014-09-30T00:00:00\", \"actual\": 100.75, \"position\": 93.286087, \"action\": \"HOLD\"}, {\"date\": \"2014-10-01T00:00:00\", \"actual\": 99.18, \"position\": 93.882469, \"action\": \"BUY\"}, {\"date\": \"2014-10-02T00:00:00\", \"actual\": 99.900002, \"position\": 92.41951, \"action\": \"HOLD\"}, {\"date\": \"2014-10-03T00:00:00\", \"actual\": 99.620003, \"position\": 93.090416, \"action\": \"HOLD\"}, {\"date\": \"2014-10-06T00:00:00\", \"actual\": 99.620003, \"position\": 92.829514, \"action\": \"HOLD\"}, {\"date\": \"2014-10-07T00:00:00\", \"actual\": 98.75, \"position\": 92.829514, \"action\": \"HOLD\"}, {\"date\": \"2014-10-08T00:00:00\", \"actual\": 100.800003, \"position\": 92.018806, \"action\": \"HOLD\"}, {\"date\": \"2014-10-09T00:00:00\", \"actual\": 101.019997, \"position\": 93.929092, \"action\": \"HOLD\"}, {\"date\": \"2014-10-10T00:00:00\", \"actual\": 100.730003, \"position\": 94.134064, \"action\": \"HOLD\"}, {\"date\": \"2014-10-13T00:00:00\", \"actual\": 99.809998, \"position\": 93.863831, \"action\": \"HOLD\"}, {\"date\": \"2014-10-14T00:00:00\", \"actual\": 98.75, \"position\": 93.006561, \"action\": \"HOLD\"}, {\"date\": \"2014-10-15T00:00:00\", \"actual\": 97.540001, \"position\": 92.018806, \"action\": \"SELL\"}, {\"date\": \"2014-10-16T00:00:00\", \"actual\": 96.260002, \"position\": 90.891273, \"action\": \"HOLD\"}, {\"date\": \"2014-10-17T00:00:00\", \"actual\": 97.669998, \"position\": 89.698524, \"action\": \"BUY\"}, {\"date\": \"2014-10-20T00:00:00\", \"actual\": 99.760002, \"position\": 91.012421, \"action\": \"HOLD\"}, {\"date\": \"2014-10-21T00:00:00\", \"actual\": 102.470001, \"position\": 92.959969, \"action\": \"HOLD\"}, {\"date\": \"2014-10-22T00:00:00\", \"actual\": 102.989998, \"position\": 95.485252, \"action\": \"HOLD\"}, {\"date\": \"2014-10-23T00:00:00\", \"actual\": 104.830002, \"position\": 95.969803, \"action\": \"HOLD\"}, {\"date\": \"2014-10-24T00:00:00\", \"actual\": 105.220001, \"position\": 97.68438, \"action\": \"HOLD\"}, {\"date\": \"2014-10-27T00:00:00\", \"actual\": 105.110001, \"position\": 98.047798, \"action\": \"HOLD\"}, {\"date\": \"2014-10-28T00:00:00\", \"actual\": 106.739998, \"position\": 97.94529, \"action\": \"HOLD\"}, {\"date\": \"2014-10-29T00:00:00\", \"actual\": 107.339996, \"position\": 99.464172, \"action\": \"HOLD\"}, {\"date\": \"2014-10-30T00:00:00\", \"actual\": 106.980003, \"position\": 100.023285, \"action\": \"BUY\"}, {\"date\": \"2014-10-31T00:00:00\", \"actual\": 108.0, \"position\": 99.687836, \"action\": \"HOLD\"}, {\"date\": \"2014-11-03T00:00:00\", \"actual\": 109.400002, \"position\": 100.638283, \"action\": \"HOLD\"}, {\"date\": \"2014-11-04T00:00:00\", \"actual\": 108.599998, \"position\": 101.942863, \"action\": \"HOLD\"}, {\"date\": \"2014-11-05T00:00:00\", \"actual\": 108.860001, \"position\": 101.197388, \"action\": \"BUY\"}, {\"date\": \"2014-11-06T00:00:00\", \"actual\": 108.699997, \"position\": 101.439667, \"action\": \"HOLD\"}, {\"date\": \"2014-11-07T00:00:00\", \"actual\": 109.010002, \"position\": 101.72979, \"action\": \"HOLD\"}, {\"date\": \"2014-11-10T00:00:00\", \"actual\": 108.830002, \"position\": 102.019913, \"action\": \"HOLD\"}, {\"date\": \"2014-11-11T00:00:00\", \"actual\": 109.699997, \"position\": 101.851456, \"action\": \"HOLD\"}, {\"date\": \"2014-11-12T00:00:00\", \"actual\": 111.25, \"position\": 102.665672, \"action\": \"HOLD\"}, {\"date\": \"2014-11-13T00:00:00\", \"actual\": 112.82, \"position\": 104.116295, \"action\": \"HOLD\"}, {\"date\": \"2014-11-14T00:00:00\", \"actual\": 114.18, \"position\": 105.585594, \"action\": \"HOLD\"}, {\"date\": \"2014-11-17T00:00:00\", \"actual\": 113.989998, \"position\": 106.858391, \"action\": \"HOLD\"}, {\"date\": \"2014-11-18T00:00:00\", \"actual\": 115.470001, \"position\": 106.680573, \"action\": \"HOLD\"}, {\"date\": \"2014-11-19T00:00:00\", \"actual\": 114.669998, \"position\": 108.065674, \"action\": \"HOLD\"}, {\"date\": \"2014-11-20T00:00:00\", \"actual\": 116.309998, \"position\": 107.316971, \"action\": \"HOLD\"}, {\"date\": \"2014-11-21T00:00:00\", \"actual\": 116.470001, \"position\": 108.851807, \"action\": \"HOLD\"}, {\"date\": \"2014-11-24T00:00:00\", \"actual\": 118.629997, \"position\": 109.001556, \"action\": \"HOLD\"}, {\"date\": \"2014-11-25T00:00:00\", \"actual\": 117.599998, \"position\": 111.023064, \"action\": \"HOLD\"}, {\"date\": \"2014-11-26T00:00:00\", \"actual\": 119.0, \"position\": 110.059097, \"action\": \"HOLD\"}, {\"date\": \"2014-11-28T00:00:00\", \"actual\": 118.93, \"position\": 111.369316, \"action\": \"HOLD\"}, {\"date\": \"2014-12-01T00:00:00\", \"actual\": 115.07, \"position\": 111.303802, \"action\": \"HOLD\"}, {\"date\": \"2014-12-02T00:00:00\", \"actual\": 114.629997, \"position\": 107.69133, \"action\": \"SELL\"}, {\"date\": \"2014-12-03T00:00:00\", \"actual\": 115.93, \"position\": 107.279541, \"action\": \"HOLD\"}, {\"date\": \"2014-12-04T00:00:00\", \"actual\": 115.489998, \"position\": 108.496193, \"action\": \"BUY\"}, {\"date\": \"2014-12-05T00:00:00\", \"actual\": 115.0, \"position\": 108.084389, \"action\": \"BUY\"}, {\"date\": \"2014-12-08T00:00:00\", \"actual\": 112.400002, \"position\": 107.625816, \"action\": \"HOLD\"}, {\"date\": \"2014-12-09T00:00:00\", \"actual\": 114.120003, \"position\": 105.192535, \"action\": \"HOLD\"}, {\"date\": \"2014-12-10T00:00:00\", \"actual\": 111.949997, \"position\": 106.802246, \"action\": \"HOLD\"}, {\"date\": \"2014-12-11T00:00:00\", \"actual\": 111.620003, \"position\": 104.771408, \"action\": \"HOLD\"}, {\"date\": \"2014-12-12T00:00:00\", \"actual\": 109.730003, \"position\": 104.462563, \"action\": \"SELL\"}, {\"date\": \"2014-12-15T00:00:00\", \"actual\": 108.230003, \"position\": 102.693748, \"action\": \"HOLD\"}, {\"date\": \"2014-12-16T00:00:00\", \"actual\": 106.75, \"position\": 101.28994, \"action\": \"SELL\"}, {\"date\": \"2014-12-17T00:00:00\", \"actual\": 109.410004, \"position\": 99.904823, \"action\": \"HOLD\"}, {\"date\": \"2014-12-18T00:00:00\", \"actual\": 112.650002, \"position\": 102.394249, \"action\": \"HOLD\"}, {\"date\": \"2014-12-19T00:00:00\", \"actual\": 111.779999, \"position\": 105.426498, \"action\": \"HOLD\"}, {\"date\": \"2014-12-22T00:00:00\", \"actual\": 112.940002, \"position\": 104.612289, \"action\": \"BUY\"}, {\"date\": \"2014-12-23T00:00:00\", \"actual\": 112.540001, \"position\": 105.697906, \"action\": \"HOLD\"}, {\"date\": \"2014-12-24T00:00:00\", \"actual\": 112.010002, \"position\": 105.323563, \"action\": \"HOLD\"}, {\"date\": \"2014-12-26T00:00:00\", \"actual\": 113.989998, \"position\": 104.827553, \"action\": \"HOLD\"}, {\"date\": \"2014-12-29T00:00:00\", \"actual\": 113.910004, \"position\": 106.680573, \"action\": \"HOLD\"}, {\"date\": \"2014-12-30T00:00:00\", \"actual\": 112.519997, \"position\": 106.605721, \"action\": \"HOLD\"}, {\"date\": \"2014-12-31T00:00:00\", \"actual\": 110.379997, \"position\": 105.30484, \"action\": \"SELL\"}, {\"date\": \"2015-01-02T00:00:00\", \"actual\": 109.330002, \"position\": 103.302063, \"action\": \"HOLD\"}, {\"date\": \"2015-01-05T00:00:00\", \"actual\": 106.25, \"position\": 102.319397, \"action\": \"HOLD\"}, {\"date\": \"2015-01-06T00:00:00\", \"actual\": 106.260002, \"position\": 99.43689, \"action\": \"BUY\"}, {\"date\": \"2015-01-07T00:00:00\", \"actual\": 107.75, \"position\": 99.446251, \"action\": \"SELL\"}, {\"date\": \"2015-01-08T00:00:00\", \"actual\": 111.889999, \"position\": 100.840714, \"action\": \"HOLD\"}, {\"date\": \"2015-01-09T00:00:00\", \"actual\": 112.010002, \"position\": 104.715256, \"action\": \"HOLD\"}, {\"date\": \"2015-01-12T00:00:00\", \"actual\": 109.25, \"position\": 104.827553, \"action\": \"HOLD\"}, {\"date\": \"2015-01-13T00:00:00\", \"actual\": 110.220001, \"position\": 102.244522, \"action\": \"HOLD\"}, {\"date\": \"2015-01-14T00:00:00\", \"actual\": 109.800003, \"position\": 103.152313, \"action\": \"HOLD\"}, {\"date\": \"2015-01-15T00:00:00\", \"actual\": 106.82, \"position\": 102.759262, \"action\": \"BUY\"}, {\"date\": \"2015-01-16T00:00:00\", \"actual\": 105.989998, \"position\": 99.970337, \"action\": \"SELL\"}, {\"date\": \"2015-01-20T00:00:00\", \"actual\": 108.720001, \"position\": 99.193558, \"action\": \"SELL\"}, {\"date\": \"2015-01-21T00:00:00\", \"actual\": 109.550003, \"position\": 101.748512, \"action\": \"HOLD\"}, {\"date\": \"2015-01-22T00:00:00\", \"actual\": 112.400002, \"position\": 102.525291, \"action\": \"HOLD\"}, {\"date\": \"2015-01-23T00:00:00\", \"actual\": 112.980003, \"position\": 105.192535, \"action\": \"HOLD\"}, {\"date\": \"2015-01-26T00:00:00\", \"actual\": 113.099998, \"position\": 105.735344, \"action\": \"HOLD\"}, {\"date\": \"2015-01-27T00:00:00\", \"actual\": 109.139999, \"position\": 105.847649, \"action\": \"HOLD\"}, {\"date\": \"2015-01-28T00:00:00\", \"actual\": 115.309998, \"position\": 102.141586, \"action\": \"HOLD\"}, {\"date\": \"2015-01-29T00:00:00\", \"actual\": 118.900002, \"position\": 107.915932, \"action\": \"HOLD\"}, {\"date\": \"2015-01-30T00:00:00\", \"actual\": 117.160004, \"position\": 111.275742, \"action\": \"SELL\"}, {\"date\": \"2015-02-02T00:00:00\", \"actual\": 118.629997, \"position\": 109.647324, \"action\": \"BUY\"}, {\"date\": \"2015-02-03T00:00:00\", \"actual\": 118.650002, \"position\": 111.023064, \"action\": \"HOLD\"}, {\"date\": \"2015-02-04T00:00:00\", \"actual\": 119.559998, \"position\": 111.041771, \"action\": \"HOLD\"}, {\"date\": \"2015-02-05T00:00:00\", \"actual\": 119.940002, \"position\": 111.893402, \"action\": \"HOLD\"}, {\"date\": \"2015-02-06T00:00:00\", \"actual\": 118.93, \"position\": 112.692047, \"action\": \"HOLD\"}, {\"date\": \"2015-02-09T00:00:00\", \"actual\": 119.720001, \"position\": 111.743088, \"action\": \"HOLD\"}, {\"date\": \"2015-02-10T00:00:00\", \"actual\": 122.019997, \"position\": 112.485352, \"action\": \"HOLD\"}, {\"date\": \"2015-02-11T00:00:00\", \"actual\": 124.879997, \"position\": 114.646355, \"action\": \"HOLD\"}, {\"date\": \"2015-02-12T00:00:00\", \"actual\": 126.459999, \"position\": 117.333511, \"action\": \"HOLD\"}, {\"date\": \"2015-02-13T00:00:00\", \"actual\": 127.080002, \"position\": 118.818039, \"action\": \"HOLD\"}, {\"date\": \"2015-02-17T00:00:00\", \"actual\": 127.830002, \"position\": 119.400589, \"action\": \"HOLD\"}, {\"date\": \"2015-02-18T00:00:00\", \"actual\": 128.720001, \"position\": 120.105263, \"action\": \"HOLD\"}, {\"date\": \"2015-02-19T00:00:00\", \"actual\": 128.449997, \"position\": 120.94149, \"action\": \"HOLD\"}, {\"date\": \"2015-02-20T00:00:00\", \"actual\": 129.5, \"position\": 120.687782, \"action\": \"BUY\"}, {\"date\": \"2015-02-23T00:00:00\", \"actual\": 133.0, \"position\": 121.674324, \"action\": \"BUY\"}, {\"date\": \"2015-02-24T00:00:00\", \"actual\": 132.169998, \"position\": 124.96283, \"action\": \"HOLD\"}, {\"date\": \"2015-02-25T00:00:00\", \"actual\": 128.789993, \"position\": 124.182976, \"action\": \"HOLD\"}, {\"date\": \"2015-02-26T00:00:00\", \"actual\": 130.419998, \"position\": 121.007233, \"action\": \"HOLD\"}, {\"date\": \"2015-02-27T00:00:00\", \"actual\": 128.460007, \"position\": 122.538734, \"action\": \"HOLD\"}, {\"date\": \"2015-03-02T00:00:00\", \"actual\": 129.089996, \"position\": 120.697182, \"action\": \"BUY\"}, {\"date\": \"2015-03-03T00:00:00\", \"actual\": 129.360001, \"position\": 121.289131, \"action\": \"BUY\"}, {\"date\": \"2015-03-04T00:00:00\", \"actual\": 128.539993, \"position\": 121.542801, \"action\": \"HOLD\"}, {\"date\": \"2015-03-05T00:00:00\", \"actual\": 126.410004, \"position\": 120.772346, \"action\": \"BUY\"}, {\"date\": \"2015-03-06T00:00:00\", \"actual\": 126.599998, \"position\": 118.77108, \"action\": \"HOLD\"}, {\"date\": \"2015-03-09T00:00:00\", \"actual\": 127.139999, \"position\": 118.949585, \"action\": \"HOLD\"}, {\"date\": \"2015-03-10T00:00:00\", \"actual\": 124.510002, \"position\": 119.45697, \"action\": \"HOLD\"}, {\"date\": \"2015-03-11T00:00:00\", \"actual\": 122.239998, \"position\": 116.985886, \"action\": \"BUY\"}, {\"date\": \"2015-03-12T00:00:00\", \"actual\": 124.449997, \"position\": 114.853058, \"action\": \"HOLD\"}, {\"date\": \"2015-03-13T00:00:00\", \"actual\": 123.589996, \"position\": 116.929497, \"action\": \"HOLD\"}, {\"date\": \"2015-03-16T00:00:00\", \"actual\": 124.949997, \"position\": 116.121483, \"action\": \"HOLD\"}, {\"date\": \"2015-03-17T00:00:00\", \"actual\": 127.040001, \"position\": 117.399284, \"action\": \"HOLD\"}, {\"date\": \"2015-03-18T00:00:00\", \"actual\": 128.470001, \"position\": 119.362991, \"action\": \"HOLD\"}, {\"date\": \"2015-03-19T00:00:00\", \"actual\": 127.5, \"position\": 120.706596, \"action\": \"HOLD\"}, {\"date\": \"2015-03-20T00:00:00\", \"actual\": 125.900002, \"position\": 119.795204, \"action\": \"HOLD\"}, {\"date\": \"2015-03-23T00:00:00\", \"actual\": 127.209999, \"position\": 118.291885, \"action\": \"SELL\"}, {\"date\": \"2015-03-24T00:00:00\", \"actual\": 126.690002, \"position\": 119.522736, \"action\": \"HOLD\"}, {\"date\": \"2015-03-25T00:00:00\", \"actual\": 123.379997, \"position\": 119.034157, \"action\": \"BUY\"}, {\"date\": \"2015-03-26T00:00:00\", \"actual\": 124.239998, \"position\": 115.924164, \"action\": \"SELL\"}, {\"date\": \"2015-03-27T00:00:00\", \"actual\": 123.25, \"position\": 116.732201, \"action\": \"HOLD\"}, {\"date\": \"2015-03-30T00:00:00\", \"actual\": 126.370003, \"position\": 115.802032, \"action\": \"HOLD\"}, {\"date\": \"2015-03-31T00:00:00\", \"actual\": 124.43, \"position\": 118.733505, \"action\": \"HOLD\"}, {\"date\": \"2015-04-01T00:00:00\", \"actual\": 124.25, \"position\": 116.910706, \"action\": \"HOLD\"}, {\"date\": \"2015-04-02T00:00:00\", \"actual\": 125.32, \"position\": 116.741592, \"action\": \"HOLD\"}, {\"date\": \"2015-04-06T00:00:00\", \"actual\": 127.349998, \"position\": 117.746933, \"action\": \"HOLD\"}, {\"date\": \"2015-04-07T00:00:00\", \"actual\": 126.010002, \"position\": 119.654259, \"action\": \"HOLD\"}, {\"date\": \"2015-04-08T00:00:00\", \"actual\": 125.599998, \"position\": 118.395248, \"action\": \"HOLD\"}, {\"date\": \"2015-04-09T00:00:00\", \"actual\": 126.559998, \"position\": 118.01001, \"action\": \"SELL\"}, {\"date\": \"2015-04-10T00:00:00\", \"actual\": 127.099998, \"position\": 118.912003, \"action\": \"HOLD\"}, {\"date\": \"2015-04-13T00:00:00\", \"actual\": 126.849998, \"position\": 119.419373, \"action\": \"BUY\"}, {\"date\": \"2015-04-14T00:00:00\", \"actual\": 126.300003, \"position\": 119.184486, \"action\": \"HOLD\"}, {\"date\": \"2015-04-15T00:00:00\", \"actual\": 126.779999, \"position\": 118.667725, \"action\": \"HOLD\"}, {\"date\": \"2015-04-16T00:00:00\", \"actual\": 126.169998, \"position\": 119.118713, \"action\": \"HOLD\"}, {\"date\": \"2015-04-17T00:00:00\", \"actual\": 124.75, \"position\": 118.54557, \"action\": \"HOLD\"}, {\"date\": \"2015-04-20T00:00:00\", \"actual\": 127.599998, \"position\": 117.21138, \"action\": \"HOLD\"}, {\"date\": \"2015-04-21T00:00:00\", \"actual\": 126.910004, \"position\": 119.889153, \"action\": \"HOLD\"}, {\"date\": \"2015-04-22T00:00:00\", \"actual\": 128.619995, \"position\": 119.240868, \"action\": \"HOLD\"}, {\"date\": \"2015-04-23T00:00:00\", \"actual\": 129.669998, \"position\": 120.847511, \"action\": \"HOLD\"}, {\"date\": \"2015-04-24T00:00:00\", \"actual\": 130.279999, \"position\": 121.834076, \"action\": \"HOLD\"}, {\"date\": \"2015-04-27T00:00:00\", \"actual\": 132.649994, \"position\": 122.407204, \"action\": \"HOLD\"}, {\"date\": \"2015-04-28T00:00:00\", \"actual\": 130.559998, \"position\": 124.633965, \"action\": \"HOLD\"}, {\"date\": \"2015-04-29T00:00:00\", \"actual\": 128.639999, \"position\": 122.670296, \"action\": \"HOLD\"}, {\"date\": \"2015-04-30T00:00:00\", \"actual\": 125.150002, \"position\": 120.866318, \"action\": \"SELL\"}, {\"date\": \"2015-05-01T00:00:00\", \"actual\": 128.949997, \"position\": 117.587212, \"action\": \"SELL\"}, {\"date\": \"2015-05-04T00:00:00\", \"actual\": 128.699997, \"position\": 121.157585, \"action\": \"HOLD\"}, {\"date\": \"2015-05-05T00:00:00\", \"actual\": 125.800003, \"position\": 120.922684, \"action\": \"BUY\"}, {\"date\": \"2015-05-06T00:00:00\", \"actual\": 125.010002, \"position\": 118.197945, \"action\": \"SELL\"}, {\"date\": \"2015-05-07T00:00:00\", \"actual\": 125.260002, \"position\": 117.455666, \"action\": \"HOLD\"}, {\"date\": \"2015-05-08T00:00:00\", \"actual\": 127.620003, \"position\": 118.182167, \"action\": \"HOLD\"}, {\"date\": \"2015-05-11T00:00:00\", \"actual\": 126.32, \"position\": 120.408821, \"action\": \"HOLD\"}, {\"date\": \"2015-05-12T00:00:00\", \"actual\": 125.870003, \"position\": 119.182259, \"action\": \"HOLD\"}, {\"date\": \"2015-05-13T00:00:00\", \"actual\": 126.010002, \"position\": 118.75769, \"action\": \"SELL\"}, {\"date\": \"2015-05-14T00:00:00\", \"actual\": 128.949997, \"position\": 118.889786, \"action\": \"HOLD\"}, {\"date\": \"2015-05-15T00:00:00\", \"actual\": 128.770004, \"position\": 121.663658, \"action\": \"HOLD\"}, {\"date\": \"2015-05-18T00:00:00\", \"actual\": 130.190002, \"position\": 121.493835, \"action\": \"HOLD\"}, {\"date\": \"2015-05-19T00:00:00\", \"actual\": 130.070007, \"position\": 122.833603, \"action\": \"HOLD\"}, {\"date\": \"2015-05-20T00:00:00\", \"actual\": 130.059998, \"position\": 122.720383, \"action\": \"HOLD\"}, {\"date\": \"2015-05-21T00:00:00\", \"actual\": 131.389999, \"position\": 122.71093, \"action\": \"HOLD\"}, {\"date\": \"2015-05-22T00:00:00\", \"actual\": 132.539993, \"position\": 123.96579, \"action\": \"HOLD\"}, {\"date\": \"2015-05-26T00:00:00\", \"actual\": 129.619995, \"position\": 125.050819, \"action\": \"HOLD\"}, {\"date\": \"2015-05-27T00:00:00\", \"actual\": 132.039993, \"position\": 122.295799, \"action\": \"SELL\"}, {\"date\": \"2015-05-28T00:00:00\", \"actual\": 131.779999, \"position\": 124.579063, \"action\": \"HOLD\"}, {\"date\": \"2015-05-29T00:00:00\", \"actual\": 130.279999, \"position\": 124.33374, \"action\": \"HOLD\"}, {\"date\": \"2015-06-01T00:00:00\", \"actual\": 130.539993, \"position\": 122.91851, \"action\": \"BUY\"}, {\"date\": \"2015-06-02T00:00:00\", \"actual\": 129.960007, \"position\": 123.163811, \"action\": \"HOLD\"}, {\"date\": \"2015-06-03T00:00:00\", \"actual\": 130.119995, \"position\": 122.6166, \"action\": \"BUY\"}, {\"date\": \"2015-06-04T00:00:00\", \"actual\": 129.360001, \"position\": 122.76754, \"action\": \"HOLD\"}, {\"date\": \"2015-06-05T00:00:00\", \"actual\": 128.649994, \"position\": 122.050491, \"action\": \"HOLD\"}, {\"date\": \"2015-06-08T00:00:00\", \"actual\": 127.800003, \"position\": 121.380615, \"action\": \"HOLD\"}, {\"date\": \"2015-06-09T00:00:00\", \"actual\": 127.419998, \"position\": 120.578629, \"action\": \"HOLD\"}, {\"date\": \"2015-06-10T00:00:00\", \"actual\": 128.880005, \"position\": 120.220108, \"action\": \"HOLD\"}, {\"date\": \"2015-06-11T00:00:00\", \"actual\": 128.589996, \"position\": 121.597626, \"action\": \"HOLD\"}, {\"date\": \"2015-06-12T00:00:00\", \"actual\": 127.169998, \"position\": 121.324005, \"action\": \"HOLD\"}, {\"date\": \"2015-06-15T00:00:00\", \"actual\": 126.919998, \"position\": 119.984238, \"action\": \"HOLD\"}, {\"date\": \"2015-06-16T00:00:00\", \"actual\": 127.599998, \"position\": 119.748367, \"action\": \"HOLD\"}, {\"date\": \"2015-06-17T00:00:00\", \"actual\": 127.300003, \"position\": 120.389938, \"action\": \"HOLD\"}, {\"date\": \"2015-06-18T00:00:00\", \"actual\": 127.879997, \"position\": 120.106895, \"action\": \"BUY\"}, {\"date\": \"2015-06-19T00:00:00\", \"actual\": 126.599998, \"position\": 120.654121, \"action\": \"HOLD\"}, {\"date\": \"2015-06-22T00:00:00\", \"actual\": 127.610001, \"position\": 119.446442, \"action\": \"HOLD\"}, {\"date\": \"2015-06-23T00:00:00\", \"actual\": 127.029999, \"position\": 120.399376, \"action\": \"HOLD\"}, {\"date\": \"2015-06-24T00:00:00\", \"actual\": 128.110001, \"position\": 119.85215, \"action\": \"HOLD\"}, {\"date\": \"2015-06-25T00:00:00\", \"actual\": 127.5, \"position\": 120.871132, \"action\": \"HOLD\"}, {\"date\": \"2015-06-26T00:00:00\", \"actual\": 126.75, \"position\": 120.295593, \"action\": \"HOLD\"}, {\"date\": \"2015-06-29T00:00:00\", \"actual\": 124.529999, \"position\": 119.587975, \"action\": \"HOLD\"}, {\"date\": \"2015-06-30T00:00:00\", \"actual\": 125.43, \"position\": 117.493423, \"action\": \"HOLD\"}, {\"date\": \"2015-07-01T00:00:00\", \"actual\": 126.599998, \"position\": 118.34256, \"action\": \"HOLD\"}, {\"date\": \"2015-07-02T00:00:00\", \"actual\": 126.440002, \"position\": 119.446442, \"action\": \"HOLD\"}, {\"date\": \"2015-07-06T00:00:00\", \"actual\": 126.0, \"position\": 119.295486, \"action\": \"BUY\"}, {\"date\": \"2015-07-07T00:00:00\", \"actual\": 125.690002, \"position\": 118.880356, \"action\": \"HOLD\"}, {\"date\": \"2015-07-08T00:00:00\", \"actual\": 122.57, \"position\": 118.587868, \"action\": \"HOLD\"}, {\"date\": \"2015-07-09T00:00:00\", \"actual\": 120.07, \"position\": 115.644165, \"action\": \"HOLD\"}, {\"date\": \"2015-07-10T00:00:00\", \"actual\": 123.279999, \"position\": 113.285416, \"action\": \"SELL\"}, {\"date\": \"2015-07-13T00:00:00\", \"actual\": 125.660004, \"position\": 116.314041, \"action\": \"HOLD\"}, {\"date\": \"2015-07-14T00:00:00\", \"actual\": 125.610001, \"position\": 118.559563, \"action\": \"BUY\"}, {\"date\": \"2015-07-15T00:00:00\", \"actual\": 126.82, \"position\": 118.512383, \"action\": \"HOLD\"}, {\"date\": \"2015-07-16T00:00:00\", \"actual\": 128.509995, \"position\": 119.654015, \"action\": \"HOLD\"}, {\"date\": \"2015-07-17T00:00:00\", \"actual\": 129.619995, \"position\": 121.248528, \"action\": \"HOLD\"}, {\"date\": \"2015-07-20T00:00:00\", \"actual\": 132.070007, \"position\": 122.295799, \"action\": \"HOLD\"}, {\"date\": \"2015-07-21T00:00:00\", \"actual\": 130.75, \"position\": 124.607368, \"action\": \"HOLD\"}, {\"date\": \"2015-07-22T00:00:00\", \"actual\": 125.220001, \"position\": 123.361961, \"action\": \"SELL\"}, {\"date\": \"2015-07-23T00:00:00\", \"actual\": 125.160004, \"position\": 118.144432, \"action\": \"SELL\"}, {\"date\": \"2015-07-24T00:00:00\", \"actual\": 124.5, \"position\": 118.087807, \"action\": \"HOLD\"}, {\"date\": \"2015-07-27T00:00:00\", \"actual\": 122.769997, \"position\": 117.465096, \"action\": \"BUY\"}, {\"date\": \"2015-07-28T00:00:00\", \"actual\": 123.379997, \"position\": 115.832848, \"action\": \"BUY\"}, {\"date\": \"2015-07-29T00:00:00\", \"actual\": 122.989998, \"position\": 116.408379, \"action\": \"HOLD\"}, {\"date\": \"2015-07-30T00:00:00\", \"actual\": 122.370003, \"position\": 116.040428, \"action\": \"HOLD\"}, {\"date\": \"2015-07-31T00:00:00\", \"actual\": 121.300003, \"position\": 115.45546, \"action\": \"HOLD\"}, {\"date\": \"2015-08-03T00:00:00\", \"actual\": 118.440002, \"position\": 114.445923, \"action\": \"HOLD\"}, {\"date\": \"2015-08-04T00:00:00\", \"actual\": 114.639999, \"position\": 111.747543, \"action\": \"SELL\"}, {\"date\": \"2015-08-05T00:00:00\", \"actual\": 115.400002, \"position\": 108.162247, \"action\": \"SELL\"}, {\"date\": \"2015-08-06T00:00:00\", \"actual\": 115.129997, \"position\": 108.879303, \"action\": \"HOLD\"}, {\"date\": \"2015-08-07T00:00:00\", \"actual\": 115.519997, \"position\": 109.116234, \"action\": \"HOLD\"}, {\"date\": \"2015-08-10T00:00:00\", \"actual\": 119.720001, \"position\": 109.48587, \"action\": \"BUY\"}, {\"date\": \"2015-08-11T00:00:00\", \"actual\": 113.489998, \"position\": 113.466499, \"action\": \"HOLD\"}, {\"date\": \"2015-08-12T00:00:00\", \"actual\": 115.239998, \"position\": 107.561905, \"action\": \"HOLD\"}, {\"date\": \"2015-08-13T00:00:00\", \"actual\": 115.150002, \"position\": 109.220497, \"action\": \"HOLD\"}, {\"date\": \"2015-08-14T00:00:00\", \"actual\": 115.959999, \"position\": 109.135193, \"action\": \"HOLD\"}, {\"date\": \"2015-08-17T00:00:00\", \"actual\": 117.160004, \"position\": 109.902893, \"action\": \"HOLD\"}, {\"date\": \"2015-08-18T00:00:00\", \"actual\": 116.5, \"position\": 111.040215, \"action\": \"HOLD\"}, {\"date\": \"2015-08-19T00:00:00\", \"actual\": 115.010002, \"position\": 110.41468, \"action\": \"HOLD\"}, {\"date\": \"2015-08-20T00:00:00\", \"actual\": 112.650002, \"position\": 109.002518, \"action\": \"SELL\"}, {\"date\": \"2015-08-21T00:00:00\", \"actual\": 105.760002, \"position\": 106.765793, \"action\": \"SELL\"}, {\"date\": \"2015-08-24T00:00:00\", \"actual\": 103.120003, \"position\": 100.235687, \"action\": \"SELL\"}, {\"date\": \"2015-08-25T00:00:00\", \"actual\": 103.739998, \"position\": 97.733597, \"action\": \"BUY\"}, {\"date\": \"2015-08-26T00:00:00\", \"actual\": 109.690002, \"position\": 98.321205, \"action\": \"HOLD\"}, {\"date\": \"2015-08-27T00:00:00\", \"actual\": 112.919998, \"position\": 103.960411, \"action\": \"HOLD\"}, {\"date\": \"2015-08-28T00:00:00\", \"actual\": 113.290001, \"position\": 107.02169, \"action\": \"HOLD\"}, {\"date\": \"2015-08-31T00:00:00\", \"actual\": 112.760002, \"position\": 107.372368, \"action\": \"HOLD\"}, {\"date\": \"2015-09-01T00:00:00\", \"actual\": 107.720001, \"position\": 106.870049, \"action\": \"HOLD\"}, {\"date\": \"2015-09-02T00:00:00\", \"actual\": 112.339996, \"position\": 102.093315, \"action\": \"HOLD\"}, {\"date\": \"2015-09-03T00:00:00\", \"actual\": 110.370003, \"position\": 106.471985, \"action\": \"HOLD\"}, {\"date\": \"2015-09-04T00:00:00\", \"actual\": 109.269997, \"position\": 104.604881, \"action\": \"SELL\"}, {\"date\": \"2015-09-08T00:00:00\", \"actual\": 112.309998, \"position\": 103.562332, \"action\": \"BUY\"}, {\"date\": \"2015-09-09T00:00:00\", \"actual\": 110.150002, \"position\": 106.44355, \"action\": \"HOLD\"}, {\"date\": \"2015-09-10T00:00:00\", \"actual\": 112.57, \"position\": 104.39637, \"action\": \"BUY\"}, {\"date\": \"2015-09-11T00:00:00\", \"actual\": 114.209999, \"position\": 106.689964, \"action\": \"HOLD\"}, {\"date\": \"2015-09-14T00:00:00\", \"actual\": 115.309998, \"position\": 108.244316, \"action\": \"HOLD\"}, {\"date\": \"2015-09-15T00:00:00\", \"actual\": 116.279999, \"position\": 109.286827, \"action\": \"HOLD\"}, {\"date\": \"2015-09-16T00:00:00\", \"actual\": 116.410004, \"position\": 110.206169, \"action\": \"HOLD\"}, {\"date\": \"2015-09-17T00:00:00\", \"actual\": 113.919998, \"position\": 110.329376, \"action\": \"HOLD\"}, {\"date\": \"2015-09-18T00:00:00\", \"actual\": 113.449997, \"position\": 107.969444, \"action\": \"SELL\"}, {\"date\": \"2015-09-21T00:00:00\", \"actual\": 115.209999, \"position\": 107.524002, \"action\": \"SELL\"}, {\"date\": \"2015-09-22T00:00:00\", \"actual\": 113.400002, \"position\": 109.192062, \"action\": \"HOLD\"}, {\"date\": \"2015-09-23T00:00:00\", \"actual\": 114.32, \"position\": 107.476608, \"action\": \"BUY\"}, {\"date\": \"2015-09-24T00:00:00\", \"actual\": 115.0, \"position\": 108.348557, \"action\": \"HOLD\"}, {\"date\": \"2015-09-25T00:00:00\", \"actual\": 114.709999, \"position\": 108.993042, \"action\": \"HOLD\"}, {\"date\": \"2015-09-28T00:00:00\", \"actual\": 112.440002, \"position\": 108.718178, \"action\": \"HOLD\"}, {\"date\": \"2015-09-29T00:00:00\", \"actual\": 109.059998, \"position\": 106.56675, \"action\": \"HOLD\"}, {\"date\": \"2015-09-30T00:00:00\", \"actual\": 110.300003, \"position\": 103.363312, \"action\": \"SELL\"}, {\"date\": \"2015-10-01T00:00:00\", \"actual\": 109.580002, \"position\": 104.538551, \"action\": \"HOLD\"}, {\"date\": \"2015-10-02T00:00:00\", \"actual\": 110.379997, \"position\": 103.856148, \"action\": \"BUY\"}, {\"date\": \"2015-10-05T00:00:00\", \"actual\": 110.779999, \"position\": 104.614357, \"action\": \"HOLD\"}, {\"date\": \"2015-10-06T00:00:00\", \"actual\": 111.309998, \"position\": 104.993469, \"action\": \"HOLD\"}, {\"date\": \"2015-10-07T00:00:00\", \"actual\": 110.779999, \"position\": 105.495781, \"action\": \"HOLD\"}, {\"date\": \"2015-10-08T00:00:00\", \"actual\": 109.5, \"position\": 104.993469, \"action\": \"HOLD\"}, {\"date\": \"2015-10-09T00:00:00\", \"actual\": 112.120003, \"position\": 103.780327, \"action\": \"HOLD\"}, {\"date\": \"2015-10-12T00:00:00\", \"actual\": 111.599998, \"position\": 106.263466, \"action\": \"HOLD\"}, {\"date\": \"2015-10-13T00:00:00\", \"actual\": 111.790001, \"position\": 105.77063, \"action\": \"BUY\"}, {\"date\": \"2015-10-14T00:00:00\", \"actual\": 110.209999, \"position\": 105.950699, \"action\": \"HOLD\"}, {\"date\": \"2015-10-15T00:00:00\", \"actual\": 111.860001, \"position\": 104.453232, \"action\": \"HOLD\"}, {\"date\": \"2015-10-16T00:00:00\", \"actual\": 111.040001, \"position\": 106.017059, \"action\": \"HOLD\"}, {\"date\": \"2015-10-19T00:00:00\", \"actual\": 111.730003, \"position\": 105.239891, \"action\": \"HOLD\"}, {\"date\": \"2015-10-20T00:00:00\", \"actual\": 113.769997, \"position\": 105.893852, \"action\": \"HOLD\"}, {\"date\": \"2015-10-21T00:00:00\", \"actual\": 113.760002, \"position\": 107.827286, \"action\": \"HOLD\"}, {\"date\": \"2015-10-22T00:00:00\", \"actual\": 115.5, \"position\": 107.817802, \"action\": \"HOLD\"}, {\"date\": \"2015-10-23T00:00:00\", \"actual\": 119.080002, \"position\": 109.466919, \"action\": \"HOLD\"}, {\"date\": \"2015-10-26T00:00:00\", \"actual\": 115.279999, \"position\": 112.859917, \"action\": \"HOLD\"}, {\"date\": \"2015-10-27T00:00:00\", \"actual\": 114.550003, \"position\": 109.258415, \"action\": \"HOLD\"}, {\"date\": \"2015-10-28T00:00:00\", \"actual\": 119.269997, \"position\": 108.566544, \"action\": \"SELL\"}, {\"date\": \"2015-10-29T00:00:00\", \"actual\": 120.529999, \"position\": 113.039986, \"action\": \"HOLD\"}, {\"date\": \"2015-10-30T00:00:00\", \"actual\": 119.5, \"position\": 114.234177, \"action\": \"BUY\"}, {\"date\": \"2015-11-02T00:00:00\", \"actual\": 121.18, \"position\": 113.25798, \"action\": \"BUY\"}, {\"date\": \"2015-11-03T00:00:00\", \"actual\": 122.57, \"position\": 114.850227, \"action\": \"HOLD\"}, {\"date\": \"2015-11-04T00:00:00\", \"actual\": 122.0, \"position\": 116.16761, \"action\": \"HOLD\"}, {\"date\": \"2015-11-05T00:00:00\", \"actual\": 120.919998, \"position\": 115.627396, \"action\": \"BUY\"}, {\"date\": \"2015-11-06T00:00:00\", \"actual\": 121.059998, \"position\": 115.094368, \"action\": \"SELL\"}, {\"date\": \"2015-11-09T00:00:00\", \"actual\": 120.57, \"position\": 115.227623, \"action\": \"SELL\"}, {\"date\": \"2015-11-10T00:00:00\", \"actual\": 116.769997, \"position\": 114.761238, \"action\": \"HOLD\"}, {\"date\": \"2015-11-11T00:00:00\", \"actual\": 116.110001, \"position\": 111.144302, \"action\": \"HOLD\"}, {\"date\": \"2015-11-12T00:00:00\", \"actual\": 115.720001, \"position\": 110.516113, \"action\": \"SELL\"}, {\"date\": \"2015-11-13T00:00:00\", \"actual\": 112.339996, \"position\": 110.14489, \"action\": \"HOLD\"}, {\"date\": \"2015-11-16T00:00:00\", \"actual\": 114.18, \"position\": 106.927734, \"action\": \"BUY\"}, {\"date\": \"2015-11-17T00:00:00\", \"actual\": 113.690002, \"position\": 108.679085, \"action\": \"HOLD\"}, {\"date\": \"2015-11-18T00:00:00\", \"actual\": 117.290001, \"position\": 108.2127, \"action\": \"HOLD\"}, {\"date\": \"2015-11-19T00:00:00\", \"actual\": 118.779999, \"position\": 111.639236, \"action\": \"HOLD\"}, {\"date\": \"2015-11-20T00:00:00\", \"actual\": 119.300003, \"position\": 113.057449, \"action\": \"HOLD\"}, {\"date\": \"2015-11-23T00:00:00\", \"actual\": 117.75, \"position\": 113.552414, \"action\": \"HOLD\"}, {\"date\": \"2015-11-24T00:00:00\", \"actual\": 118.879997, \"position\": 112.077087, \"action\": \"HOLD\"}, {\"date\": \"2015-11-25T00:00:00\", \"actual\": 118.029999, \"position\": 113.152649, \"action\": \"HOLD\"}, {\"date\": \"2015-11-27T00:00:00\", \"actual\": 117.809998, \"position\": 112.343605, \"action\": \"HOLD\"}, {\"date\": \"2015-11-30T00:00:00\", \"actual\": 118.300003, \"position\": 112.134209, \"action\": \"BUY\"}, {\"date\": \"2015-12-01T00:00:00\", \"actual\": 117.339996, \"position\": 112.600594, \"action\": \"HOLD\"}, {\"date\": \"2015-12-02T00:00:00\", \"actual\": 116.279999, \"position\": 111.686836, \"action\": \"BUY\"}, {\"date\": \"2015-12-03T00:00:00\", \"actual\": 115.199997, \"position\": 110.67791, \"action\": \"HOLD\"}, {\"date\": \"2015-12-04T00:00:00\", \"actual\": 119.029999, \"position\": 109.64994, \"action\": \"HOLD\"}, {\"date\": \"2015-12-07T00:00:00\", \"actual\": 118.279999, \"position\": 113.29541, \"action\": \"HOLD\"}, {\"date\": \"2015-12-08T00:00:00\", \"actual\": 118.230003, \"position\": 112.581558, \"action\": \"HOLD\"}, {\"date\": \"2015-12-09T00:00:00\", \"actual\": 115.620003, \"position\": 112.533966, \"action\": \"HOLD\"}, {\"date\": \"2015-12-10T00:00:00\", \"actual\": 116.169998, \"position\": 110.049706, \"action\": \"HOLD\"}, {\"date\": \"2015-12-11T00:00:00\", \"actual\": 113.18, \"position\": 110.573204, \"action\": \"HOLD\"}, {\"date\": \"2015-12-14T00:00:00\", \"actual\": 112.480003, \"position\": 107.727272, \"action\": \"HOLD\"}, {\"date\": \"2015-12-15T00:00:00\", \"actual\": 110.489998, \"position\": 107.060997, \"action\": \"SELL\"}, {\"date\": \"2015-12-16T00:00:00\", \"actual\": 111.339996, \"position\": 105.166855, \"action\": \"SELL\"}, {\"date\": \"2015-12-17T00:00:00\", \"actual\": 108.980003, \"position\": 105.975899, \"action\": \"HOLD\"}, {\"date\": \"2015-12-18T00:00:00\", \"actual\": 106.029999, \"position\": 103.729607, \"action\": \"HOLD\"}, {\"date\": \"2015-12-21T00:00:00\", \"actual\": 107.330002, \"position\": 100.921738, \"action\": \"SELL\"}, {\"date\": \"2015-12-22T00:00:00\", \"actual\": 107.230003, \"position\": 102.159111, \"action\": \"HOLD\"}, {\"date\": \"2015-12-23T00:00:00\", \"actual\": 108.610001, \"position\": 102.063919, \"action\": \"HOLD\"}, {\"date\": \"2015-12-24T00:00:00\", \"actual\": 108.029999, \"position\": 103.377434, \"action\": \"HOLD\"}, {\"date\": \"2015-12-28T00:00:00\", \"actual\": 106.82, \"position\": 102.825378, \"action\": \"HOLD\"}, {\"date\": \"2015-12-29T00:00:00\", \"actual\": 108.739998, \"position\": 101.673683, \"action\": \"HOLD\"}, {\"date\": \"2015-12-30T00:00:00\", \"actual\": 107.32, \"position\": 103.50116, \"action\": \"HOLD\"}, {\"date\": \"2015-12-31T00:00:00\", \"actual\": 105.260002, \"position\": 102.14959, \"action\": \"HOLD\"}, {\"date\": \"2016-01-04T00:00:00\", \"actual\": 105.349998, \"position\": 100.188835, \"action\": \"SELL\"}, {\"date\": \"2016-01-05T00:00:00\", \"actual\": 102.709999, \"position\": 100.274513, \"action\": \"HOLD\"}, {\"date\": \"2016-01-06T00:00:00\", \"actual\": 100.699997, \"position\": 97.761681, \"action\": \"BUY\"}, {\"date\": \"2016-01-07T00:00:00\", \"actual\": 96.449997, \"position\": 95.848511, \"action\": \"BUY\"}, {\"date\": \"2016-01-08T00:00:00\", \"actual\": 96.959999, \"position\": 91.803276, \"action\": \"HOLD\"}, {\"date\": \"2016-01-11T00:00:00\", \"actual\": 98.529999, \"position\": 92.288696, \"action\": \"HOLD\"}, {\"date\": \"2016-01-12T00:00:00\", \"actual\": 99.959999, \"position\": 93.783073, \"action\": \"HOLD\"}, {\"date\": \"2016-01-13T00:00:00\", \"actual\": 97.389999, \"position\": 95.144165, \"action\": \"HOLD\"}, {\"date\": \"2016-01-14T00:00:00\", \"actual\": 99.519997, \"position\": 92.69799, \"action\": \"HOLD\"}, {\"date\": \"2016-01-15T00:00:00\", \"actual\": 97.129997, \"position\": 94.725372, \"action\": \"HOLD\"}, {\"date\": \"2016-01-19T00:00:00\", \"actual\": 96.660004, \"position\": 92.450516, \"action\": \"HOLD\"}, {\"date\": \"2016-01-20T00:00:00\", \"actual\": 96.790001, \"position\": 92.003166, \"action\": \"SELL\"}, {\"date\": \"2016-01-21T00:00:00\", \"actual\": 96.300003, \"position\": 92.1269, \"action\": \"SELL\"}, {\"date\": \"2016-01-22T00:00:00\", \"actual\": 101.419998, \"position\": 91.6605, \"action\": \"BUY\"}, {\"date\": \"2016-01-25T00:00:00\", \"actual\": 99.440002, \"position\": 96.533836, \"action\": \"HOLD\"}, {\"date\": \"2016-01-26T00:00:00\", \"actual\": 99.989998, \"position\": 94.649239, \"action\": \"HOLD\"}, {\"date\": \"2016-01-27T00:00:00\", \"actual\": 93.419998, \"position\": 95.172729, \"action\": \"HOLD\"}, {\"date\": \"2016-01-28T00:00:00\", \"actual\": 94.089996, \"position\": 88.91925, \"action\": \"HOLD\"}, {\"date\": \"2016-01-29T00:00:00\", \"actual\": 97.339996, \"position\": 89.556976, \"action\": \"HOLD\"}, {\"date\": \"2016-02-01T00:00:00\", \"actual\": 96.43, \"position\": 92.650391, \"action\": \"HOLD\"}, {\"date\": \"2016-02-02T00:00:00\", \"actual\": 94.480003, \"position\": 91.784241, \"action\": \"BUY\"}, {\"date\": \"2016-02-03T00:00:00\", \"actual\": 96.349998, \"position\": 89.928192, \"action\": \"HOLD\"}, {\"date\": \"2016-02-04T00:00:00\", \"actual\": 96.599998, \"position\": 91.708099, \"action\": \"HOLD\"}, {\"date\": \"2016-02-05T00:00:00\", \"actual\": 94.019997, \"position\": 92.444969, \"action\": \"HOLD\"}, {\"date\": \"2016-02-08T00:00:00\", \"actual\": 95.010002, \"position\": 89.975929, \"action\": \"BUY\"}, {\"date\": \"2016-02-09T00:00:00\", \"actual\": 94.989998, \"position\": 90.923355, \"action\": \"SELL\"}, {\"date\": \"2016-02-10T00:00:00\", \"actual\": 94.269997, \"position\": 90.904213, \"action\": \"HOLD\"}, {\"date\": \"2016-02-11T00:00:00\", \"actual\": 93.699997, \"position\": 90.215187, \"action\": \"BUY\"}, {\"date\": \"2016-02-12T00:00:00\", \"actual\": 93.989998, \"position\": 89.669716, \"action\": \"HOLD\"}, {\"date\": \"2016-02-16T00:00:00\", \"actual\": 96.639999, \"position\": 89.947243, \"action\": \"HOLD\"}, {\"date\": \"2016-02-17T00:00:00\", \"actual\": 98.120003, \"position\": 92.483246, \"action\": \"HOLD\"}, {\"date\": \"2016-02-18T00:00:00\", \"actual\": 96.260002, \"position\": 93.899597, \"action\": \"HOLD\"}, {\"date\": \"2016-02-19T00:00:00\", \"actual\": 96.040001, \"position\": 92.119606, \"action\": \"HOLD\"}, {\"date\": \"2016-02-22T00:00:00\", \"actual\": 96.879997, \"position\": 91.90905, \"action\": \"HOLD\"}, {\"date\": \"2016-02-23T00:00:00\", \"actual\": 94.690002, \"position\": 92.712921, \"action\": \"HOLD\"}, {\"date\": \"2016-02-24T00:00:00\", \"actual\": 96.099998, \"position\": 90.617134, \"action\": \"BUY\"}, {\"date\": \"2016-02-25T00:00:00\", \"actual\": 96.760002, \"position\": 91.966469, \"action\": \"HOLD\"}, {\"date\": \"2016-02-26T00:00:00\", \"actual\": 96.910004, \"position\": 92.598099, \"action\": \"HOLD\"}, {\"date\": \"2016-02-29T00:00:00\", \"actual\": 96.690002, \"position\": 92.741638, \"action\": \"BUY\"}, {\"date\": \"2016-03-01T00:00:00\", \"actual\": 100.529999, \"position\": 92.531113, \"action\": \"HOLD\"}, {\"date\": \"2016-03-02T00:00:00\", \"actual\": 100.75, \"position\": 96.205925, \"action\": \"HOLD\"}, {\"date\": \"2016-03-03T00:00:00\", \"actual\": 101.5, \"position\": 96.416466, \"action\": \"HOLD\"}, {\"date\": \"2016-03-04T00:00:00\", \"actual\": 103.010002, \"position\": 97.134209, \"action\": \"HOLD\"}, {\"date\": \"2016-03-07T00:00:00\", \"actual\": 101.870003, \"position\": 98.579269, \"action\": \"HOLD\"}, {\"date\": \"2016-03-08T00:00:00\", \"actual\": 101.029999, \"position\": 97.488304, \"action\": \"HOLD\"}, {\"date\": \"2016-03-09T00:00:00\", \"actual\": 101.120003, \"position\": 96.68441, \"action\": \"HOLD\"}, {\"date\": \"2016-03-10T00:00:00\", \"actual\": 101.169998, \"position\": 96.770554, \"action\": \"HOLD\"}, {\"date\": \"2016-03-11T00:00:00\", \"actual\": 102.260002, \"position\": 96.81839, \"action\": \"BUY\"}, {\"date\": \"2016-03-14T00:00:00\", \"actual\": 102.519997, \"position\": 97.861526, \"action\": \"BUY\"}, {\"date\": \"2016-03-15T00:00:00\", \"actual\": 104.580002, \"position\": 98.110329, \"action\": \"HOLD\"}, {\"date\": \"2016-03-16T00:00:00\", \"actual\": 105.970001, \"position\": 100.081726, \"action\": \"HOLD\"}, {\"date\": \"2016-03-17T00:00:00\", \"actual\": 105.800003, \"position\": 101.411957, \"action\": \"HOLD\"}, {\"date\": \"2016-03-18T00:00:00\", \"actual\": 105.919998, \"position\": 101.24926, \"action\": \"HOLD\"}, {\"date\": \"2016-03-21T00:00:00\", \"actual\": 105.910004, \"position\": 101.364082, \"action\": \"HOLD\"}, {\"date\": \"2016-03-22T00:00:00\", \"actual\": 106.720001, \"position\": 101.354515, \"action\": \"HOLD\"}, {\"date\": \"2016-03-23T00:00:00\", \"actual\": 106.129997, \"position\": 102.129684, \"action\": \"HOLD\"}, {\"date\": \"2016-03-24T00:00:00\", \"actual\": 105.669998, \"position\": 101.565056, \"action\": \"BUY\"}, {\"date\": \"2016-03-28T00:00:00\", \"actual\": 105.190002, \"position\": 101.12484, \"action\": \"HOLD\"}, {\"date\": \"2016-03-29T00:00:00\", \"actual\": 107.68, \"position\": 100.665497, \"action\": \"HOLD\"}, {\"date\": \"2016-03-30T00:00:00\", \"actual\": 109.559998, \"position\": 103.048386, \"action\": \"HOLD\"}, {\"date\": \"2016-03-31T00:00:00\", \"actual\": 108.989998, \"position\": 104.847527, \"action\": \"HOLD\"}, {\"date\": \"2016-04-01T00:00:00\", \"actual\": 109.989998, \"position\": 104.302032, \"action\": \"HOLD\"}, {\"date\": \"2016-04-04T00:00:00\", \"actual\": 111.120003, \"position\": 105.259033, \"action\": \"HOLD\"}, {\"date\": \"2016-04-05T00:00:00\", \"actual\": 109.809998, \"position\": 106.340446, \"action\": \"HOLD\"}, {\"date\": \"2016-04-06T00:00:00\", \"actual\": 110.959999, \"position\": 105.086777, \"action\": \"HOLD\"}, {\"date\": \"2016-04-07T00:00:00\", \"actual\": 108.540001, \"position\": 106.187309, \"action\": \"HOLD\"}, {\"date\": \"2016-04-08T00:00:00\", \"actual\": 108.660004, \"position\": 103.871399, \"action\": \"HOLD\"}, {\"date\": \"2016-04-11T00:00:00\", \"actual\": 109.019997, \"position\": 103.986237, \"action\": \"BUY\"}, {\"date\": \"2016-04-12T00:00:00\", \"actual\": 110.440002, \"position\": 104.330734, \"action\": \"HOLD\"}, {\"date\": \"2016-04-13T00:00:00\", \"actual\": 112.040001, \"position\": 105.689674, \"action\": \"HOLD\"}, {\"date\": \"2016-04-14T00:00:00\", \"actual\": 112.099998, \"position\": 107.220863, \"action\": \"HOLD\"}, {\"date\": \"2016-04-15T00:00:00\", \"actual\": 109.849998, \"position\": 107.278267, \"action\": \"HOLD\"}, {\"date\": \"2016-04-18T00:00:00\", \"actual\": 107.480003, \"position\": 105.125053, \"action\": \"HOLD\"}, {\"date\": \"2016-04-19T00:00:00\", \"actual\": 106.910004, \"position\": 102.856995, \"action\": \"SELL\"}, {\"date\": \"2016-04-20T00:00:00\", \"actual\": 107.129997, \"position\": 102.311501, \"action\": \"HOLD\"}, {\"date\": \"2016-04-21T00:00:00\", \"actual\": 105.970001, \"position\": 102.522049, \"action\": \"BUY\"}, {\"date\": \"2016-04-22T00:00:00\", \"actual\": 105.68, \"position\": 101.411957, \"action\": \"BUY\"}, {\"date\": \"2016-04-25T00:00:00\", \"actual\": 105.080002, \"position\": 101.134422, \"action\": \"HOLD\"}, {\"date\": \"2016-04-26T00:00:00\", \"actual\": 104.349998, \"position\": 100.560219, \"action\": \"HOLD\"}, {\"date\": \"2016-04-27T00:00:00\", \"actual\": 97.82, \"position\": 99.86161, \"action\": \"HOLD\"}, {\"date\": \"2016-04-28T00:00:00\", \"actual\": 94.830002, \"position\": 93.612503, \"action\": \"SELL\"}, {\"date\": \"2016-04-29T00:00:00\", \"actual\": 93.739998, \"position\": 90.751106, \"action\": \"SELL\"}, {\"date\": \"2016-05-02T00:00:00\", \"actual\": 93.639999, \"position\": 89.707985, \"action\": \"SELL\"}, {\"date\": \"2016-05-03T00:00:00\", \"actual\": 95.18, \"position\": 89.612282, \"action\": \"BUY\"}, {\"date\": \"2016-05-04T00:00:00\", \"actual\": 94.190002, \"position\": 91.086044, \"action\": \"HOLD\"}, {\"date\": \"2016-05-05T00:00:00\", \"actual\": 93.239998, \"position\": 90.138626, \"action\": \"HOLD\"}, {\"date\": \"2016-05-06T00:00:00\", \"actual\": 92.720001, \"position\": 89.772751, \"action\": \"HOLD\"}, {\"date\": \"2016-05-09T00:00:00\", \"actual\": 92.790001, \"position\": 89.272095, \"action\": \"HOLD\"}, {\"date\": \"2016-05-10T00:00:00\", \"actual\": 93.419998, \"position\": 89.3395, \"action\": \"HOLD\"}, {\"date\": \"2016-05-11T00:00:00\", \"actual\": 92.510002, \"position\": 89.946068, \"action\": \"HOLD\"}, {\"date\": \"2016-05-12T00:00:00\", \"actual\": 90.339996, \"position\": 89.069908, \"action\": \"HOLD\"}, {\"date\": \"2016-05-13T00:00:00\", \"actual\": 90.519997, \"position\": 86.980591, \"action\": \"SELL\"}, {\"date\": \"2016-05-16T00:00:00\", \"actual\": 93.879997, \"position\": 87.153908, \"action\": \"HOLD\"}, {\"date\": \"2016-05-17T00:00:00\", \"actual\": 93.489998, \"position\": 90.388962, \"action\": \"HOLD\"}, {\"date\": \"2016-05-18T00:00:00\", \"actual\": 94.559998, \"position\": 90.013474, \"action\": \"BUY\"}, {\"date\": \"2016-05-19T00:00:00\", \"actual\": 94.199997, \"position\": 91.043686, \"action\": \"HOLD\"}, {\"date\": \"2016-05-20T00:00:00\", \"actual\": 95.220001, \"position\": 90.69706, \"action\": \"HOLD\"}, {\"date\": \"2016-05-23T00:00:00\", \"actual\": 96.43, \"position\": 91.679131, \"action\": \"HOLD\"}, {\"date\": \"2016-05-24T00:00:00\", \"actual\": 97.900002, \"position\": 92.844124, \"action\": \"HOLD\"}, {\"date\": \"2016-05-25T00:00:00\", \"actual\": 99.620003, \"position\": 94.259468, \"action\": \"HOLD\"}, {\"date\": \"2016-05-26T00:00:00\", \"actual\": 100.410004, \"position\": 95.915504, \"action\": \"HOLD\"}, {\"date\": \"2016-05-27T00:00:00\", \"actual\": 100.349998, \"position\": 96.676132, \"action\": \"HOLD\"}, {\"date\": \"2016-05-31T00:00:00\", \"actual\": 99.860001, \"position\": 96.618355, \"action\": \"HOLD\"}, {\"date\": \"2016-06-01T00:00:00\", \"actual\": 98.459999, \"position\": 96.146599, \"action\": \"HOLD\"}, {\"date\": \"2016-06-02T00:00:00\", \"actual\": 97.720001, \"position\": 94.798653, \"action\": \"SELL\"}, {\"date\": \"2016-06-03T00:00:00\", \"actual\": 97.919998, \"position\": 94.086182, \"action\": \"BUY\"}, {\"date\": \"2016-06-06T00:00:00\", \"actual\": 98.629997, \"position\": 94.278725, \"action\": \"BUY\"}, {\"date\": \"2016-06-07T00:00:00\", \"actual\": 99.029999, \"position\": 94.962318, \"action\": \"HOLD\"}, {\"date\": \"2016-06-08T00:00:00\", \"actual\": 98.940002, \"position\": 95.34745, \"action\": \"HOLD\"}, {\"date\": \"2016-06-09T00:00:00\", \"actual\": 99.650002, \"position\": 95.260803, \"action\": \"HOLD\"}, {\"date\": \"2016-06-10T00:00:00\", \"actual\": 98.830002, \"position\": 95.944397, \"action\": \"HOLD\"}, {\"date\": \"2016-06-13T00:00:00\", \"actual\": 97.339996, \"position\": 95.154907, \"action\": \"HOLD\"}, {\"date\": \"2016-06-14T00:00:00\", \"actual\": 97.459999, \"position\": 93.720306, \"action\": \"HOLD\"}, {\"date\": \"2016-06-15T00:00:00\", \"actual\": 97.139999, \"position\": 93.835823, \"action\": \"HOLD\"}, {\"date\": \"2016-06-16T00:00:00\", \"actual\": 97.550003, \"position\": 93.527725, \"action\": \"BUY\"}, {\"date\": \"2016-06-17T00:00:00\", \"actual\": 95.330002, \"position\": 93.922485, \"action\": \"BUY\"}, {\"date\": \"2016-06-20T00:00:00\", \"actual\": 95.099998, \"position\": 91.785042, \"action\": \"HOLD\"}, {\"date\": \"2016-06-21T00:00:00\", \"actual\": 95.910004, \"position\": 91.563599, \"action\": \"HOLD\"}, {\"date\": \"2016-06-22T00:00:00\", \"actual\": 95.550003, \"position\": 92.343475, \"action\": \"HOLD\"}, {\"date\": \"2016-06-23T00:00:00\", \"actual\": 96.099998, \"position\": 91.996872, \"action\": \"HOLD\"}, {\"date\": \"2016-06-24T00:00:00\", \"actual\": 93.400002, \"position\": 92.526405, \"action\": \"HOLD\"}, {\"date\": \"2016-06-27T00:00:00\", \"actual\": 92.040001, \"position\": 89.926819, \"action\": \"HOLD\"}, {\"date\": \"2016-06-28T00:00:00\", \"actual\": 93.589996, \"position\": 88.617378, \"action\": \"SELL\"}, {\"date\": \"2016-06-29T00:00:00\", \"actual\": 94.400002, \"position\": 90.109749, \"action\": \"HOLD\"}, {\"date\": \"2016-06-30T00:00:00\", \"actual\": 95.599998, \"position\": 90.889633, \"action\": \"HOLD\"}, {\"date\": \"2016-07-01T00:00:00\", \"actual\": 95.889999, \"position\": 92.045006, \"action\": \"HOLD\"}, {\"date\": \"2016-07-05T00:00:00\", \"actual\": 94.989998, \"position\": 92.324219, \"action\": \"HOLD\"}, {\"date\": \"2016-07-06T00:00:00\", \"actual\": 95.529999, \"position\": 91.45768, \"action\": \"HOLD\"}, {\"date\": \"2016-07-07T00:00:00\", \"actual\": 95.940002, \"position\": 91.977615, \"action\": \"HOLD\"}, {\"date\": \"2016-07-08T00:00:00\", \"actual\": 96.68, \"position\": 92.372368, \"action\": \"HOLD\"}, {\"date\": \"2016-07-11T00:00:00\", \"actual\": 96.980003, \"position\": 93.084846, \"action\": \"HOLD\"}, {\"date\": \"2016-07-12T00:00:00\", \"actual\": 97.419998, \"position\": 93.373688, \"action\": \"HOLD\"}, {\"date\": \"2016-07-13T00:00:00\", \"actual\": 96.870003, \"position\": 93.797318, \"action\": \"HOLD\"}, {\"date\": \"2016-07-14T00:00:00\", \"actual\": 98.790001, \"position\": 93.267769, \"action\": \"HOLD\"}, {\"date\": \"2016-07-15T00:00:00\", \"actual\": 98.779999, \"position\": 95.116379, \"action\": \"HOLD\"}, {\"date\": \"2016-07-18T00:00:00\", \"actual\": 99.830002, \"position\": 95.106743, \"action\": \"HOLD\"}, {\"date\": \"2016-07-19T00:00:00\", \"actual\": 99.870003, \"position\": 96.117714, \"action\": \"HOLD\"}, {\"date\": \"2016-07-20T00:00:00\", \"actual\": 99.959999, \"position\": 96.156219, \"action\": \"HOLD\"}, {\"date\": \"2016-07-21T00:00:00\", \"actual\": 99.43, \"position\": 96.242867, \"action\": \"HOLD\"}, {\"date\": \"2016-07-22T00:00:00\", \"actual\": 98.660004, \"position\": 95.732582, \"action\": \"HOLD\"}, {\"date\": \"2016-07-25T00:00:00\", \"actual\": 97.339996, \"position\": 94.991211, \"action\": \"BUY\"}, {\"date\": \"2016-07-26T00:00:00\", \"actual\": 96.669998, \"position\": 93.720306, \"action\": \"SELL\"}, {\"date\": \"2016-07-27T00:00:00\", \"actual\": 102.949997, \"position\": 93.075211, \"action\": \"BUY\"}, {\"date\": \"2016-07-28T00:00:00\", \"actual\": 104.339996, \"position\": 99.121674, \"action\": \"HOLD\"}, {\"date\": \"2016-07-29T00:00:00\", \"actual\": 104.209999, \"position\": 100.459991, \"action\": \"HOLD\"}, {\"date\": \"2016-08-01T00:00:00\", \"actual\": 106.050003, \"position\": 100.334824, \"action\": \"HOLD\"}, {\"date\": \"2016-08-02T00:00:00\", \"actual\": 104.480003, \"position\": 102.106415, \"action\": \"HOLD\"}, {\"date\": \"2016-08-03T00:00:00\", \"actual\": 105.790001, \"position\": 100.594788, \"action\": \"HOLD\"}, {\"date\": \"2016-08-04T00:00:00\", \"actual\": 105.870003, \"position\": 101.856071, \"action\": \"HOLD\"}, {\"date\": \"2016-08-05T00:00:00\", \"actual\": 107.480003, \"position\": 102.485298, \"action\": \"HOLD\"}, {\"date\": \"2016-08-08T00:00:00\", \"actual\": 108.370003, \"position\": 104.043823, \"action\": \"HOLD\"}, {\"date\": \"2016-08-09T00:00:00\", \"actual\": 108.809998, \"position\": 104.905365, \"action\": \"HOLD\"}, {\"date\": \"2016-08-10T00:00:00\", \"actual\": 108.0, \"position\": 105.331291, \"action\": \"HOLD\"}, {\"date\": \"2016-08-11T00:00:00\", \"actual\": 107.93, \"position\": 104.547203, \"action\": \"HOLD\"}, {\"date\": \"2016-08-12T00:00:00\", \"actual\": 108.18, \"position\": 104.479439, \"action\": \"HOLD\"}, {\"date\": \"2016-08-15T00:00:00\", \"actual\": 109.480003, \"position\": 104.721436, \"action\": \"HOLD\"}, {\"date\": \"2016-08-16T00:00:00\", \"actual\": 109.379997, \"position\": 105.979889, \"action\": \"BUY\"}, {\"date\": \"2016-08-17T00:00:00\", \"actual\": 109.220001, \"position\": 105.88308, \"action\": \"HOLD\"}, {\"date\": \"2016-08-18T00:00:00\", \"actual\": 109.080002, \"position\": 105.728195, \"action\": \"HOLD\"}, {\"date\": \"2016-08-19T00:00:00\", \"actual\": 109.360001, \"position\": 105.592674, \"action\": \"HOLD\"}, {\"date\": \"2016-08-22T00:00:00\", \"actual\": 108.510002, \"position\": 105.863716, \"action\": \"HOLD\"}, {\"date\": \"2016-08-23T00:00:00\", \"actual\": 108.849998, \"position\": 105.040901, \"action\": \"HOLD\"}, {\"date\": \"2016-08-24T00:00:00\", \"actual\": 108.029999, \"position\": 105.370033, \"action\": \"HOLD\"}, {\"date\": \"2016-08-25T00:00:00\", \"actual\": 107.57, \"position\": 104.576241, \"action\": \"HOLD\"}, {\"date\": \"2016-08-26T00:00:00\", \"actual\": 106.940002, \"position\": 104.130951, \"action\": \"HOLD\"}, {\"date\": \"2016-08-29T00:00:00\", \"actual\": 106.82, \"position\": 103.521088, \"action\": \"HOLD\"}, {\"date\": \"2016-08-30T00:00:00\", \"actual\": 106.0, \"position\": 103.404922, \"action\": \"HOLD\"}, {\"date\": \"2016-08-31T00:00:00\", \"actual\": 106.099998, \"position\": 102.611137, \"action\": \"HOLD\"}, {\"date\": \"2016-09-01T00:00:00\", \"actual\": 106.730003, \"position\": 102.707939, \"action\": \"HOLD\"}, {\"date\": \"2016-09-02T00:00:00\", \"actual\": 107.730003, \"position\": 103.317795, \"action\": \"HOLD\"}, {\"date\": \"2016-09-06T00:00:00\", \"actual\": 107.699997, \"position\": 104.285843, \"action\": \"HOLD\"}, {\"date\": \"2016-09-07T00:00:00\", \"actual\": 108.360001, \"position\": 104.256783, \"action\": \"HOLD\"}, {\"date\": \"2016-09-08T00:00:00\", \"actual\": 105.519997, \"position\": 104.895683, \"action\": \"HOLD\"}, {\"date\": \"2016-09-09T00:00:00\", \"actual\": 103.129997, \"position\": 102.146477, \"action\": \"HOLD\"}, {\"date\": \"2016-09-12T00:00:00\", \"actual\": 105.440002, \"position\": 99.832893, \"action\": \"SELL\"}, {\"date\": \"2016-09-13T00:00:00\", \"actual\": 107.949997, \"position\": 102.069046, \"action\": \"HOLD\"}, {\"date\": \"2016-09-14T00:00:00\", \"actual\": 111.769997, \"position\": 104.498795, \"action\": \"BUY\"}, {\"date\": \"2016-09-15T00:00:00\", \"actual\": 115.57, \"position\": 108.196663, \"action\": \"HOLD\"}, {\"date\": \"2016-09-16T00:00:00\", \"actual\": 114.919998, \"position\": 111.875175, \"action\": \"HOLD\"}, {\"date\": \"2016-09-19T00:00:00\", \"actual\": 113.580002, \"position\": 111.245972, \"action\": \"HOLD\"}, {\"date\": \"2016-09-20T00:00:00\", \"actual\": 113.57, \"position\": 109.948807, \"action\": \"HOLD\"}, {\"date\": \"2016-09-21T00:00:00\", \"actual\": 113.550003, \"position\": 109.939125, \"action\": \"HOLD\"}, {\"date\": \"2016-09-22T00:00:00\", \"actual\": 114.620003, \"position\": 109.919762, \"action\": \"BUY\"}, {\"date\": \"2016-09-23T00:00:00\", \"actual\": 112.709999, \"position\": 110.955559, \"action\": \"BUY\"}, {\"date\": \"2016-09-26T00:00:00\", \"actual\": 112.879997, \"position\": 109.106613, \"action\": \"HOLD\"}, {\"date\": \"2016-09-27T00:00:00\", \"actual\": 113.089996, \"position\": 109.271187, \"action\": \"HOLD\"}, {\"date\": \"2016-09-28T00:00:00\", \"actual\": 113.949997, \"position\": 109.474457, \"action\": \"HOLD\"}, {\"date\": \"2016-09-29T00:00:00\", \"actual\": 112.18, \"position\": 110.306976, \"action\": \"HOLD\"}, {\"date\": \"2016-09-30T00:00:00\", \"actual\": 113.050003, \"position\": 108.593559, \"action\": \"HOLD\"}, {\"date\": \"2016-10-03T00:00:00\", \"actual\": 112.519997, \"position\": 109.435753, \"action\": \"HOLD\"}, {\"date\": \"2016-10-04T00:00:00\", \"actual\": 113.0, \"position\": 108.922684, \"action\": \"HOLD\"}, {\"date\": \"2016-10-05T00:00:00\", \"actual\": 113.050003, \"position\": 109.387352, \"action\": \"HOLD\"}, {\"date\": \"2016-10-06T00:00:00\", \"actual\": 113.889999, \"position\": 109.435753, \"action\": \"HOLD\"}, {\"date\": \"2016-10-07T00:00:00\", \"actual\": 114.059998, \"position\": 110.248878, \"action\": \"HOLD\"}, {\"date\": \"2016-10-10T00:00:00\", \"actual\": 116.050003, \"position\": 110.413445, \"action\": \"HOLD\"}, {\"date\": \"2016-10-11T00:00:00\", \"actual\": 116.300003, \"position\": 112.339836, \"action\": \"HOLD\"}, {\"date\": \"2016-10-12T00:00:00\", \"actual\": 117.339996, \"position\": 112.581856, \"action\": \"HOLD\"}, {\"date\": \"2016-10-13T00:00:00\", \"actual\": 116.980003, \"position\": 113.588593, \"action\": \"HOLD\"}, {\"date\": \"2016-10-14T00:00:00\", \"actual\": 117.629997, \"position\": 113.240112, \"action\": \"HOLD\"}, {\"date\": \"2016-10-17T00:00:00\", \"actual\": 117.550003, \"position\": 113.869324, \"action\": \"HOLD\"}, {\"date\": \"2016-10-18T00:00:00\", \"actual\": 117.470001, \"position\": 113.791885, \"action\": \"HOLD\"}, {\"date\": \"2016-10-19T00:00:00\", \"actual\": 117.120003, \"position\": 113.714439, \"action\": \"BUY\"}, {\"date\": \"2016-10-20T00:00:00\", \"actual\": 117.059998, \"position\": 113.375626, \"action\": \"HOLD\"}, {\"date\": \"2016-10-21T00:00:00\", \"actual\": 116.599998, \"position\": 113.317543, \"action\": \"HOLD\"}, {\"date\": \"2016-10-24T00:00:00\", \"actual\": 117.650002, \"position\": 112.872246, \"action\": \"HOLD\"}, {\"date\": \"2016-10-25T00:00:00\", \"actual\": 118.25, \"position\": 113.88868, \"action\": \"HOLD\"}, {\"date\": \"2016-10-26T00:00:00\", \"actual\": 115.589996, \"position\": 114.469498, \"action\": \"HOLD\"}, {\"date\": \"2016-10-27T00:00:00\", \"actual\": 114.480003, \"position\": 111.894531, \"action\": \"HOLD\"}, {\"date\": \"2016-10-28T00:00:00\", \"actual\": 113.720001, \"position\": 110.820038, \"action\": \"HOLD\"}, {\"date\": \"2016-10-31T00:00:00\", \"actual\": 113.540001, \"position\": 110.08432, \"action\": \"HOLD\"}, {\"date\": \"2016-11-01T00:00:00\", \"actual\": 111.489998, \"position\": 109.91008, \"action\": \"BUY\"}, {\"date\": \"2016-11-02T00:00:00\", \"actual\": 111.589996, \"position\": 107.925621, \"action\": \"BUY\"}, {\"date\": \"2016-11-03T00:00:00\", \"actual\": 109.830002, \"position\": 108.022415, \"action\": \"HOLD\"}, {\"date\": \"2016-11-04T00:00:00\", \"actual\": 108.839996, \"position\": 106.864563, \"action\": \"HOLD\"}, {\"date\": \"2016-11-07T00:00:00\", \"actual\": 110.410004, \"position\": 105.901283, \"action\": \"HOLD\"}, {\"date\": \"2016-11-08T00:00:00\", \"actual\": 111.059998, \"position\": 107.428894, \"action\": \"HOLD\"}, {\"date\": \"2016-11-09T00:00:00\", \"actual\": 110.879997, \"position\": 108.061333, \"action\": \"HOLD\"}, {\"date\": \"2016-11-10T00:00:00\", \"actual\": 107.790001, \"position\": 107.886208, \"action\": \"HOLD\"}, {\"date\": \"2016-11-11T00:00:00\", \"actual\": 108.43, \"position\": 104.879639, \"action\": \"HOLD\"}, {\"date\": \"2016-11-14T00:00:00\", \"actual\": 105.709999, \"position\": 105.50235, \"action\": \"HOLD\"}, {\"date\": \"2016-11-15T00:00:00\", \"actual\": 107.110001, \"position\": 102.855804, \"action\": \"HOLD\"}, {\"date\": \"2016-11-16T00:00:00\", \"actual\": 109.989998, \"position\": 104.218002, \"action\": \"HOLD\"}, {\"date\": \"2016-11-17T00:00:00\", \"actual\": 109.949997, \"position\": 107.020233, \"action\": \"SELL\"}, {\"date\": \"2016-11-18T00:00:00\", \"actual\": 110.059998, \"position\": 106.981316, \"action\": \"BUY\"}, {\"date\": \"2016-11-21T00:00:00\", \"actual\": 111.730003, \"position\": 107.088348, \"action\": \"HOLD\"}, {\"date\": \"2016-11-22T00:00:00\", \"actual\": 111.800003, \"position\": 108.713264, \"action\": \"HOLD\"}, {\"date\": \"2016-11-23T00:00:00\", \"actual\": 111.230003, \"position\": 108.781372, \"action\": \"HOLD\"}, {\"date\": \"2016-11-25T00:00:00\", \"actual\": 111.790001, \"position\": 108.226761, \"action\": \"BUY\"}, {\"date\": \"2016-11-28T00:00:00\", \"actual\": 111.57, \"position\": 108.771629, \"action\": \"HOLD\"}, {\"date\": \"2016-11-29T00:00:00\", \"actual\": 111.459999, \"position\": 108.557579, \"action\": \"HOLD\"}, {\"date\": \"2016-11-30T00:00:00\", \"actual\": 110.519997, \"position\": 108.450546, \"action\": \"HOLD\"}, {\"date\": \"2016-12-01T00:00:00\", \"actual\": 109.489998, \"position\": 107.535919, \"action\": \"HOLD\"}, {\"date\": \"2016-12-02T00:00:00\", \"actual\": 109.900002, \"position\": 106.533737, \"action\": \"BUY\"}, {\"date\": \"2016-12-05T00:00:00\", \"actual\": 109.110001, \"position\": 106.932678, \"action\": \"HOLD\"}, {\"date\": \"2016-12-06T00:00:00\", \"actual\": 109.949997, \"position\": 106.163994, \"action\": \"HOLD\"}, {\"date\": \"2016-12-07T00:00:00\", \"actual\": 111.029999, \"position\": 106.981316, \"action\": \"HOLD\"}, {\"date\": \"2016-12-08T00:00:00\", \"actual\": 112.120003, \"position\": 108.03215, \"action\": \"HOLD\"}, {\"date\": \"2016-12-09T00:00:00\", \"actual\": 113.949997, \"position\": 109.092728, \"action\": \"HOLD\"}, {\"date\": \"2016-12-12T00:00:00\", \"actual\": 113.300003, \"position\": 110.873322, \"action\": \"HOLD\"}, {\"date\": \"2016-12-13T00:00:00\", \"actual\": 115.190002, \"position\": 110.240868, \"action\": \"HOLD\"}, {\"date\": \"2016-12-14T00:00:00\", \"actual\": 115.190002, \"position\": 112.079834, \"action\": \"HOLD\"}, {\"date\": \"2016-12-15T00:00:00\", \"actual\": 115.82, \"position\": 112.079834, \"action\": \"HOLD\"}, {\"date\": \"2016-12-16T00:00:00\", \"actual\": 115.970001, \"position\": 112.692825, \"action\": \"HOLD\"}, {\"date\": \"2016-12-19T00:00:00\", \"actual\": 116.639999, \"position\": 112.838768, \"action\": \"HOLD\"}, {\"date\": \"2016-12-20T00:00:00\", \"actual\": 116.949997, \"position\": 113.490685, \"action\": \"HOLD\"}, {\"date\": \"2016-12-21T00:00:00\", \"actual\": 117.059998, \"position\": 113.792313, \"action\": \"HOLD\"}, {\"date\": \"2016-12-22T00:00:00\", \"actual\": 116.290001, \"position\": 113.899338, \"action\": \"HOLD\"}, {\"date\": \"2016-12-23T00:00:00\", \"actual\": 116.519997, \"position\": 113.150139, \"action\": \"HOLD\"}, {\"date\": \"2016-12-27T00:00:00\", \"actual\": 117.260002, \"position\": 113.373917, \"action\": \"HOLD\"}, {\"date\": \"2016-12-28T00:00:00\", \"actual\": 116.760002, \"position\": 114.093948, \"action\": \"HOLD\"}, {\"date\": \"2016-12-29T00:00:00\", \"actual\": 116.730003, \"position\": 113.607445, \"action\": \"HOLD\"}, {\"date\": \"2016-12-30T00:00:00\", \"actual\": 115.82, \"position\": 113.578247, \"action\": \"HOLD\"}, {\"date\": \"2017-01-03T00:00:00\", \"actual\": 116.150002, \"position\": 112.692825, \"action\": \"HOLD\"}, {\"date\": \"2017-01-04T00:00:00\", \"actual\": 116.019997, \"position\": 113.013916, \"action\": \"HOLD\"}, {\"date\": \"2017-01-05T00:00:00\", \"actual\": 116.610001, \"position\": 112.887413, \"action\": \"HOLD\"}, {\"date\": \"2017-01-06T00:00:00\", \"actual\": 117.910004, \"position\": 113.461502, \"action\": \"HOLD\"}, {\"date\": \"2017-01-09T00:00:00\", \"actual\": 118.989998, \"position\": 114.726402, \"action\": \"HOLD\"}, {\"date\": \"2017-01-10T00:00:00\", \"actual\": 119.110001, \"position\": 115.777237, \"action\": \"HOLD\"}, {\"date\": \"2017-01-11T00:00:00\", \"actual\": 119.75, \"position\": 115.893997, \"action\": \"HOLD\"}, {\"date\": \"2017-01-12T00:00:00\", \"actual\": 119.25, \"position\": 116.516708, \"action\": \"HOLD\"}, {\"date\": \"2017-01-13T00:00:00\", \"actual\": 119.040001, \"position\": 116.030212, \"action\": \"HOLD\"}, {\"date\": \"2017-01-17T00:00:00\", \"actual\": 120.0, \"position\": 115.825882, \"action\": \"BUY\"}, {\"date\": \"2017-01-18T00:00:00\", \"actual\": 119.989998, \"position\": 116.759972, \"action\": \"HOLD\"}, {\"date\": \"2017-01-19T00:00:00\", \"actual\": 119.779999, \"position\": 116.750229, \"action\": \"BUY\"}, {\"date\": \"2017-01-20T00:00:00\", \"actual\": 120.0, \"position\": 116.545898, \"action\": \"HOLD\"}, {\"date\": \"2017-01-23T00:00:00\", \"actual\": 120.080002, \"position\": 116.759972, \"action\": \"HOLD\"}, {\"date\": \"2017-01-24T00:00:00\", \"actual\": 119.970001, \"position\": 116.837799, \"action\": \"HOLD\"}, {\"date\": \"2017-01-25T00:00:00\", \"actual\": 121.879997, \"position\": 116.730774, \"action\": \"HOLD\"}, {\"date\": \"2017-01-26T00:00:00\", \"actual\": 121.940002, \"position\": 118.589195, \"action\": \"HOLD\"}, {\"date\": \"2017-01-27T00:00:00\", \"actual\": 121.949997, \"position\": 118.647583, \"action\": \"HOLD\"}, {\"date\": \"2017-01-30T00:00:00\", \"actual\": 121.629997, \"position\": 118.657303, \"action\": \"HOLD\"}, {\"date\": \"2017-01-31T00:00:00\", \"actual\": 121.349998, \"position\": 118.345947, \"action\": \"HOLD\"}, {\"date\": \"2017-02-01T00:00:00\", \"actual\": 128.75, \"position\": 118.073517, \"action\": \"HOLD\"}, {\"date\": \"2017-02-02T00:00:00\", \"actual\": 128.529999, \"position\": 125.273705, \"action\": \"HOLD\"}, {\"date\": \"2017-02-03T00:00:00\", \"actual\": 129.080002, \"position\": 125.059654, \"action\": \"HOLD\"}, {\"date\": \"2017-02-06T00:00:00\", \"actual\": 130.289993, \"position\": 125.594803, \"action\": \"HOLD\"}, {\"date\": \"2017-02-07T00:00:00\", \"actual\": 131.529999, \"position\": 126.772125, \"action\": \"HOLD\"}, {\"date\": \"2017-02-08T00:00:00\", \"actual\": 132.039993, \"position\": 127.97863, \"action\": \"HOLD\"}, {\"date\": \"2017-02-09T00:00:00\", \"actual\": 132.419998, \"position\": 128.474869, \"action\": \"HOLD\"}, {\"date\": \"2017-02-10T00:00:00\", \"actual\": 132.119995, \"position\": 129.403229, \"action\": \"HOLD\"}, {\"date\": \"2017-02-13T00:00:00\", \"actual\": 133.289993, \"position\": 129.110077, \"action\": \"HOLD\"}, {\"date\": \"2017-02-14T00:00:00\", \"actual\": 135.020004, \"position\": 130.253418, \"action\": \"HOLD\"}, {\"date\": \"2017-02-15T00:00:00\", \"actual\": 135.509995, \"position\": 131.944016, \"action\": \"HOLD\"}, {\"date\": \"2017-02-16T00:00:00\", \"actual\": 135.350006, \"position\": 132.422836, \"action\": \"HOLD\"}, {\"date\": \"2017-02-17T00:00:00\", \"actual\": 135.720001, \"position\": 132.266495, \"action\": \"HOLD\"}, {\"date\": \"2017-02-21T00:00:00\", \"actual\": 136.699997, \"position\": 132.628067, \"action\": \"HOLD\"}, {\"date\": \"2017-02-22T00:00:00\", \"actual\": 137.110001, \"position\": 133.585724, \"action\": \"HOLD\"}, {\"date\": \"2017-02-23T00:00:00\", \"actual\": 136.529999, \"position\": 133.986389, \"action\": \"BUY\"}, {\"date\": \"2017-02-24T00:00:00\", \"actual\": 136.660004, \"position\": 133.419601, \"action\": \"HOLD\"}, {\"date\": \"2017-02-27T00:00:00\", \"actual\": 136.929993, \"position\": 133.546661, \"action\": \"HOLD\"}, {\"date\": \"2017-02-28T00:00:00\", \"actual\": 136.990005, \"position\": 133.810471, \"action\": \"HOLD\"}, {\"date\": \"2017-03-01T00:00:00\", \"actual\": 139.789993, \"position\": 133.86911, \"action\": \"HOLD\"}, {\"date\": \"2017-03-02T00:00:00\", \"actual\": 138.960007, \"position\": 136.605331, \"action\": \"HOLD\"}, {\"date\": \"2017-03-03T00:00:00\", \"actual\": 139.779999, \"position\": 135.79425, \"action\": \"HOLD\"}, {\"date\": \"2017-03-06T00:00:00\", \"actual\": 139.339996, \"position\": 136.595566, \"action\": \"HOLD\"}, {\"date\": \"2017-03-07T00:00:00\", \"actual\": 139.520004, \"position\": 136.165573, \"action\": \"HOLD\"}, {\"date\": \"2017-03-08T00:00:00\", \"actual\": 139.0, \"position\": 136.341476, \"action\": \"HOLD\"}, {\"date\": \"2017-03-09T00:00:00\", \"actual\": 138.679993, \"position\": 135.833344, \"action\": \"HOLD\"}, {\"date\": \"2017-03-10T00:00:00\", \"actual\": 139.139999, \"position\": 135.520599, \"action\": \"HOLD\"}, {\"date\": \"2017-03-13T00:00:00\", \"actual\": 139.199997, \"position\": 135.970139, \"action\": \"HOLD\"}, {\"date\": \"2017-03-14T00:00:00\", \"actual\": 138.990005, \"position\": 136.028748, \"action\": \"HOLD\"}, {\"date\": \"2017-03-15T00:00:00\", \"actual\": 140.460007, \"position\": 135.823547, \"action\": \"HOLD\"}, {\"date\": \"2017-03-16T00:00:00\", \"actual\": 140.690002, \"position\": 137.260071, \"action\": \"HOLD\"}, {\"date\": \"2017-03-17T00:00:00\", \"actual\": 139.990005, \"position\": 137.484818, \"action\": \"HOLD\"}, {\"date\": \"2017-03-20T00:00:00\", \"actual\": 141.460007, \"position\": 136.800797, \"action\": \"HOLD\"}, {\"date\": \"2017-03-21T00:00:00\", \"actual\": 139.839996, \"position\": 138.237305, \"action\": \"HOLD\"}, {\"date\": \"2017-03-22T00:00:00\", \"actual\": 141.419998, \"position\": 136.65419, \"action\": \"HOLD\"}, {\"date\": \"2017-03-23T00:00:00\", \"actual\": 140.919998, \"position\": 138.198212, \"action\": \"HOLD\"}, {\"date\": \"2017-03-24T00:00:00\", \"actual\": 140.639999, \"position\": 137.709579, \"action\": \"HOLD\"}, {\"date\": \"2017-03-27T00:00:00\", \"actual\": 140.880005, \"position\": 137.435974, \"action\": \"HOLD\"}, {\"date\": \"2017-03-28T00:00:00\", \"actual\": 143.800003, \"position\": 137.670532, \"action\": \"HOLD\"}, {\"date\": \"2017-03-29T00:00:00\", \"actual\": 144.119995, \"position\": 140.523987, \"action\": \"HOLD\"}, {\"date\": \"2017-03-30T00:00:00\", \"actual\": 143.929993, \"position\": 140.8367, \"action\": \"HOLD\"}, {\"date\": \"2017-03-31T00:00:00\", \"actual\": 143.660004, \"position\": 140.651016, \"action\": \"HOLD\"}, {\"date\": \"2017-04-03T00:00:00\", \"actual\": 143.699997, \"position\": 140.387177, \"action\": \"HOLD\"}, {\"date\": \"2017-04-04T00:00:00\", \"actual\": 144.770004, \"position\": 140.426254, \"action\": \"HOLD\"}, {\"date\": \"2017-04-05T00:00:00\", \"actual\": 144.020004, \"position\": 141.471878, \"action\": \"HOLD\"}, {\"date\": \"2017-04-06T00:00:00\", \"actual\": 143.660004, \"position\": 140.738983, \"action\": \"BUY\"}, {\"date\": \"2017-04-07T00:00:00\", \"actual\": 143.339996, \"position\": 140.387177, \"action\": \"BUY\"}, {\"date\": \"2017-04-10T00:00:00\", \"actual\": 143.169998, \"position\": 140.074463, \"action\": \"HOLD\"}, {\"date\": \"2017-04-11T00:00:00\", \"actual\": 141.630005, \"position\": 139.908325, \"action\": \"HOLD\"}, {\"date\": \"2017-04-12T00:00:00\", \"actual\": 141.800003, \"position\": 138.403427, \"action\": \"HOLD\"}, {\"date\": \"2017-04-13T00:00:00\", \"actual\": 141.050003, \"position\": 138.56955, \"action\": \"HOLD\"}, {\"date\": \"2017-04-17T00:00:00\", \"actual\": 141.830002, \"position\": 137.836624, \"action\": \"HOLD\"}, {\"date\": \"2017-04-18T00:00:00\", \"actual\": 141.199997, \"position\": 138.598862, \"action\": \"HOLD\"}, {\"date\": \"2017-04-19T00:00:00\", \"actual\": 140.679993, \"position\": 137.9832, \"action\": \"HOLD\"}, {\"date\": \"2017-04-20T00:00:00\", \"actual\": 142.440002, \"position\": 137.475052, \"action\": \"HOLD\"}, {\"date\": \"2017-04-21T00:00:00\", \"actual\": 142.270004, \"position\": 139.194962, \"action\": \"HOLD\"}, {\"date\": \"2017-04-24T00:00:00\", \"actual\": 143.639999, \"position\": 139.028854, \"action\": \"HOLD\"}, {\"date\": \"2017-04-25T00:00:00\", \"actual\": 144.529999, \"position\": 140.36763, \"action\": \"HOLD\"}, {\"date\": \"2017-04-26T00:00:00\", \"actual\": 143.679993, \"position\": 141.23735, \"action\": \"HOLD\"}, {\"date\": \"2017-04-27T00:00:00\", \"actual\": 143.789993, \"position\": 140.406723, \"action\": \"HOLD\"}, {\"date\": \"2017-04-28T00:00:00\", \"actual\": 143.649994, \"position\": 140.514191, \"action\": \"HOLD\"}, {\"date\": \"2017-05-01T00:00:00\", \"actual\": 146.580002, \"position\": 140.37738, \"action\": \"HOLD\"}, {\"date\": \"2017-05-02T00:00:00\", \"actual\": 147.509995, \"position\": 143.240646, \"action\": \"HOLD\"}, {\"date\": \"2017-05-03T00:00:00\", \"actual\": 147.059998, \"position\": 144.149475, \"action\": \"HOLD\"}, {\"date\": \"2017-05-04T00:00:00\", \"actual\": 146.529999, \"position\": 143.709702, \"action\": \"HOLD\"}, {\"date\": \"2017-05-05T00:00:00\", \"actual\": 148.960007, \"position\": 143.191772, \"action\": \"HOLD\"}, {\"date\": \"2017-05-08T00:00:00\", \"actual\": 153.009995, \"position\": 145.566422, \"action\": \"HOLD\"}, {\"date\": \"2017-05-09T00:00:00\", \"actual\": 153.990005, \"position\": 149.524139, \"action\": \"HOLD\"}, {\"date\": \"2017-05-10T00:00:00\", \"actual\": 153.259995, \"position\": 150.481842, \"action\": \"HOLD\"}, {\"date\": \"2017-05-11T00:00:00\", \"actual\": 153.949997, \"position\": 149.768448, \"action\": \"HOLD\"}, {\"date\": \"2017-05-12T00:00:00\", \"actual\": 156.100006, \"position\": 151.063705, \"action\": \"HOLD\"}, {\"date\": \"2017-05-15T00:00:00\", \"actual\": 155.699997, \"position\": 153.173401, \"action\": \"HOLD\"}, {\"date\": \"2017-05-16T00:00:00\", \"actual\": 155.470001, \"position\": 152.780899, \"action\": \"BUY\"}, {\"date\": \"2017-05-17T00:00:00\", \"actual\": 150.25, \"position\": 152.555237, \"action\": \"SELL\"}, {\"date\": \"2017-05-18T00:00:00\", \"actual\": 152.539993, \"position\": 147.433075, \"action\": \"SELL\"}, {\"date\": \"2017-05-19T00:00:00\", \"actual\": 153.059998, \"position\": 149.680145, \"action\": \"HOLD\"}, {\"date\": \"2017-05-22T00:00:00\", \"actual\": 153.990005, \"position\": 150.190384, \"action\": \"HOLD\"}, {\"date\": \"2017-05-23T00:00:00\", \"actual\": 153.800003, \"position\": 151.102982, \"action\": \"BUY\"}, {\"date\": \"2017-05-24T00:00:00\", \"actual\": 153.339996, \"position\": 150.916519, \"action\": \"HOLD\"}, {\"date\": \"2017-05-25T00:00:00\", \"actual\": 153.869995, \"position\": 150.465149, \"action\": \"HOLD\"}, {\"date\": \"2017-05-26T00:00:00\", \"actual\": 153.610001, \"position\": 150.985199, \"action\": \"HOLD\"}, {\"date\": \"2017-05-30T00:00:00\", \"actual\": 153.669998, \"position\": 150.730072, \"action\": \"BUY\"}, {\"date\": \"2017-05-31T00:00:00\", \"actual\": 152.759995, \"position\": 150.788956, \"action\": \"HOLD\"}, {\"date\": \"2017-06-01T00:00:00\", \"actual\": 153.179993, \"position\": 149.896011, \"action\": \"HOLD\"}, {\"date\": \"2017-06-02T00:00:00\", \"actual\": 155.449997, \"position\": 150.308136, \"action\": \"HOLD\"}, {\"date\": \"2017-06-05T00:00:00\", \"actual\": 153.929993, \"position\": 152.535599, \"action\": \"HOLD\"}, {\"date\": \"2017-06-06T00:00:00\", \"actual\": 154.449997, \"position\": 151.044067, \"action\": \"HOLD\"}, {\"date\": \"2017-06-07T00:00:00\", \"actual\": 155.369995, \"position\": 151.554321, \"action\": \"HOLD\"}, {\"date\": \"2017-06-08T00:00:00\", \"actual\": 154.990005, \"position\": 152.457092, \"action\": \"HOLD\"}, {\"date\": \"2017-06-09T00:00:00\", \"actual\": 148.979996, \"position\": 152.084213, \"action\": \"HOLD\"}, {\"date\": \"2017-06-12T00:00:00\", \"actual\": 145.419998, \"position\": 146.186874, \"action\": \"SELL\"}, {\"date\": \"2017-06-13T00:00:00\", \"actual\": 146.589996, \"position\": 142.693649, \"action\": \"SELL\"}, {\"date\": \"2017-06-14T00:00:00\", \"actual\": 145.160004, \"position\": 143.84169, \"action\": \"HOLD\"}, {\"date\": \"2017-06-15T00:00:00\", \"actual\": 144.289993, \"position\": 142.438507, \"action\": \"BUY\"}, {\"date\": \"2017-06-16T00:00:00\", \"actual\": 142.270004, \"position\": 141.584808, \"action\": \"SELL\"}, {\"date\": \"2017-06-19T00:00:00\", \"actual\": 146.339996, \"position\": 139.602707, \"action\": \"HOLD\"}, {\"date\": \"2017-06-20T00:00:00\", \"actual\": 145.009995, \"position\": 143.596375, \"action\": \"HOLD\"}, {\"date\": \"2017-06-21T00:00:00\", \"actual\": 145.869995, \"position\": 142.291321, \"action\": \"HOLD\"}, {\"date\": \"2017-06-22T00:00:00\", \"actual\": 145.630005, \"position\": 143.135193, \"action\": \"HOLD\"}, {\"date\": \"2017-06-23T00:00:00\", \"actual\": 146.279999, \"position\": 142.899704, \"action\": \"HOLD\"}, {\"date\": \"2017-06-26T00:00:00\", \"actual\": 145.820007, \"position\": 143.537506, \"action\": \"HOLD\"}, {\"date\": \"2017-06-27T00:00:00\", \"actual\": 143.729996, \"position\": 143.086136, \"action\": \"HOLD\"}, {\"date\": \"2017-06-28T00:00:00\", \"actual\": 145.830002, \"position\": 141.035309, \"action\": \"SELL\"}, {\"date\": \"2017-06-29T00:00:00\", \"actual\": 143.679993, \"position\": 143.095947, \"action\": \"HOLD\"}, {\"date\": \"2017-06-30T00:00:00\", \"actual\": 144.020004, \"position\": 140.986252, \"action\": \"BUY\"}, {\"date\": \"2017-07-03T00:00:00\", \"actual\": 143.5, \"position\": 141.319901, \"action\": \"HOLD\"}, {\"date\": \"2017-07-05T00:00:00\", \"actual\": 144.089996, \"position\": 140.809631, \"action\": \"HOLD\"}, {\"date\": \"2017-07-06T00:00:00\", \"actual\": 142.729996, \"position\": 141.388565, \"action\": \"HOLD\"}, {\"date\": \"2017-07-07T00:00:00\", \"actual\": 144.179993, \"position\": 140.054062, \"action\": \"HOLD\"}, {\"date\": \"2017-07-10T00:00:00\", \"actual\": 145.059998, \"position\": 141.476883, \"action\": \"HOLD\"}, {\"date\": \"2017-07-11T00:00:00\", \"actual\": 145.529999, \"position\": 142.340378, \"action\": \"HOLD\"}, {\"date\": \"2017-07-12T00:00:00\", \"actual\": 145.740005, \"position\": 142.801575, \"action\": \"BUY\"}, {\"date\": \"2017-07-13T00:00:00\", \"actual\": 147.770004, \"position\": 143.007645, \"action\": \"HOLD\"}, {\"date\": \"2017-07-14T00:00:00\", \"actual\": 149.039993, \"position\": 144.999573, \"action\": \"HOLD\"}, {\"date\": \"2017-07-17T00:00:00\", \"actual\": 149.559998, \"position\": 146.245743, \"action\": \"HOLD\"}, {\"date\": \"2017-07-18T00:00:00\", \"actual\": 150.080002, \"position\": 146.756012, \"action\": \"HOLD\"}, {\"date\": \"2017-07-19T00:00:00\", \"actual\": 151.020004, \"position\": 147.266281, \"action\": \"HOLD\"}, {\"date\": \"2017-07-20T00:00:00\", \"actual\": 150.339996, \"position\": 148.188644, \"action\": \"HOLD\"}, {\"date\": \"2017-07-21T00:00:00\", \"actual\": 150.270004, \"position\": 147.521393, \"action\": \"HOLD\"}, {\"date\": \"2017-07-24T00:00:00\", \"actual\": 152.089996, \"position\": 147.452713, \"action\": \"HOLD\"}, {\"date\": \"2017-07-25T00:00:00\", \"actual\": 152.740005, \"position\": 149.238586, \"action\": \"HOLD\"}, {\"date\": \"2017-07-26T00:00:00\", \"actual\": 153.460007, \"position\": 149.876404, \"action\": \"BUY\"}, {\"date\": \"2017-07-27T00:00:00\", \"actual\": 150.559998, \"position\": 150.582916, \"action\": \"HOLD\"}, {\"date\": \"2017-07-28T00:00:00\", \"actual\": 149.5, \"position\": 147.737274, \"action\": \"HOLD\"}, {\"date\": \"2017-07-31T00:00:00\", \"actual\": 148.729996, \"position\": 146.697144, \"action\": \"SELL\"}, {\"date\": \"2017-08-01T00:00:00\", \"actual\": 150.050003, \"position\": 145.941574, \"action\": \"HOLD\"}, {\"date\": \"2017-08-02T00:00:00\", \"actual\": 157.139999, \"position\": 147.236847, \"action\": \"BUY\"}, {\"date\": \"2017-08-03T00:00:00\", \"actual\": 155.570007, \"position\": 154.193909, \"action\": \"HOLD\"}, {\"date\": \"2017-08-04T00:00:00\", \"actual\": 156.389999, \"position\": 152.65332, \"action\": \"HOLD\"}, {\"date\": \"2017-08-07T00:00:00\", \"actual\": 158.809998, \"position\": 153.457947, \"action\": \"HOLD\"}, {\"date\": \"2017-08-08T00:00:00\", \"actual\": 160.080002, \"position\": 155.832596, \"action\": \"HOLD\"}, {\"date\": \"2017-08-09T00:00:00\", \"actual\": 161.059998, \"position\": 157.078781, \"action\": \"HOLD\"}]}}, {\"mode\": \"vega-lite\"});\n",
              "</script>"
            ],
            "text/plain": [
              "alt.LayerChart(...)"
            ]
          },
          "execution_count": 37,
          "metadata": {},
          "output_type": "execute_result"
        }
      ],
      "source": [
        "chart = visualize(df, history, title=test_stock)\n",
        "chart"
      ]
    },
    {
      "cell_type": "markdown",
      "metadata": {
        "id": "OVNbgcscztNx"
      },
      "source": [
        "## 5.1 Ours"
      ]
    },
    {
      "cell_type": "code",
      "execution_count": null,
      "metadata": {
        "colab": {
          "base_uri": "https://localhost:8080/"
        },
        "id": "TOY7FERyZXZn",
        "outputId": "09df4bbd-ed43-4322-8590-61f6e5cf1dc8"
      },
      "outputs": [
        {
          "output_type": "stream",
          "name": "stdout",
          "text": [
            "2023-06-20 02:11:58.488221: I tensorflow/core/platform/cpu_feature_guard.cc:182] This TensorFlow binary is optimized to use available CPU instructions in performance-critical operations.\n",
            "To enable the following instructions: AVX2 AVX512F FMA, in other operations, rebuild TensorFlow with the appropriate compiler flags.\n",
            "2023-06-20 02:11:59.495644: W tensorflow/compiler/tf2tensorrt/utils/py_utils.cc:38] TF-TRT Warning: Could not find TensorRT\n",
            "\u001b[32m2023-06-20 02:12:01\u001b[0m \u001b[35m24832551a444\u001b[0m \u001b[34mroot[4544]\u001b[0m \u001b[1;30mDEBUG\u001b[0m \u001b[32mswitching to TensorFlow for CPU\u001b[0m\n",
            "2023-06-20 02:12:01.055301: E tensorflow/compiler/xla/stream_executor/cuda/cuda_driver.cc:266] failed call to cuInit: CUDA_ERROR_NO_DEVICE: no CUDA-capable device is detected\n",
            "2023-06-20 02:12:01.055339: I tensorflow/compiler/xla/stream_executor/cuda/cuda_diagnostics.cc:168] retrieving CUDA diagnostic information for host: 24832551a444\n",
            "2023-06-20 02:12:01.055351: I tensorflow/compiler/xla/stream_executor/cuda/cuda_diagnostics.cc:175] hostname: 24832551a444\n",
            "2023-06-20 02:12:01.055460: I tensorflow/compiler/xla/stream_executor/cuda/cuda_diagnostics.cc:199] libcuda reported version is: 525.85.12\n",
            "2023-06-20 02:12:01.055486: I tensorflow/compiler/xla/stream_executor/cuda/cuda_diagnostics.cc:203] kernel reported version is: 525.85.12\n",
            "2023-06-20 02:12:01.055496: I tensorflow/compiler/xla/stream_executor/cuda/cuda_diagnostics.cc:309] kernel version seems to match DSO: 525.85.12\n",
            "train\n",
            "Episode 1/15:   0%|          | 0/1018 [00:00<?, ?it/s]\n"
          ]
        }
      ],
      "source": [
        "!python train.py ./dataset/archive/BTC-2021min.csv ./dataset/archive/BTC-2021min.csv --strategy t-dqn --episode-count 15 --model-name tdqn_btc"
      ]
    },
    {
      "cell_type": "code",
      "execution_count": null,
      "metadata": {
        "id": "6FRArqwizxLS"
      },
      "outputs": [],
      "source": [
        "model_name = 'model_BTC_2021'\n",
        "test_stock = './dataset/archive/BTC-2021min.csv'\n",
        "window_size = 20\n",
        "debug = True\n",
        "\n",
        "agent = Agent(window_size, reset_every=2000, strategy='double-dqn\"', pretrained=False)"
      ]
    },
    {
      "cell_type": "code",
      "execution_count": null,
      "metadata": {
        "colab": {
          "base_uri": "https://localhost:8080/",
          "height": 260
        },
        "id": "8LiCIUmkz2_9",
        "outputId": "df30383e-0f02-44b0-b3fe-ad0d0d2bc64e"
      },
      "outputs": [
        {
          "name": "stdout",
          "output_type": "stream",
          "text": [
            "date      False\n",
            "actual    False\n",
            "dtype: bool\n"
          ]
        },
        {
          "data": {
            "text/html": [
              "\n",
              "  <div id=\"df-c0314cd6-6faf-44ad-a27d-e59bf7659666\">\n",
              "    <div class=\"colab-df-container\">\n",
              "      <div>\n",
              "<style scoped>\n",
              "    .dataframe tbody tr th:only-of-type {\n",
              "        vertical-align: middle;\n",
              "    }\n",
              "\n",
              "    .dataframe tbody tr th {\n",
              "        vertical-align: top;\n",
              "    }\n",
              "\n",
              "    .dataframe thead th {\n",
              "        text-align: right;\n",
              "    }\n",
              "</style>\n",
              "<table border=\"1\" class=\"dataframe\">\n",
              "  <thead>\n",
              "    <tr style=\"text-align: right;\">\n",
              "      <th></th>\n",
              "      <th>date</th>\n",
              "      <th>actual</th>\n",
              "    </tr>\n",
              "  </thead>\n",
              "  <tbody>\n",
              "    <tr>\n",
              "      <th>0</th>\n",
              "      <td>2022-03-01 03:43:00</td>\n",
              "      <td>43046.58</td>\n",
              "    </tr>\n",
              "    <tr>\n",
              "      <th>1</th>\n",
              "      <td>2022-03-01 03:41:00</td>\n",
              "      <td>43046.58</td>\n",
              "    </tr>\n",
              "    <tr>\n",
              "      <th>2</th>\n",
              "      <td>2022-03-01 03:40:00</td>\n",
              "      <td>43016.03</td>\n",
              "    </tr>\n",
              "    <tr>\n",
              "      <th>3</th>\n",
              "      <td>2022-03-01 03:39:00</td>\n",
              "      <td>42999.44</td>\n",
              "    </tr>\n",
              "    <tr>\n",
              "      <th>4</th>\n",
              "      <td>2022-03-01 03:38:00</td>\n",
              "      <td>43049.46</td>\n",
              "    </tr>\n",
              "  </tbody>\n",
              "</table>\n",
              "</div>\n",
              "      <button class=\"colab-df-convert\" onclick=\"convertToInteractive('df-c0314cd6-6faf-44ad-a27d-e59bf7659666')\"\n",
              "              title=\"Convert this dataframe to an interactive table.\"\n",
              "              style=\"display:none;\">\n",
              "        \n",
              "  <svg xmlns=\"http://www.w3.org/2000/svg\" height=\"24px\"viewBox=\"0 0 24 24\"\n",
              "       width=\"24px\">\n",
              "    <path d=\"M0 0h24v24H0V0z\" fill=\"none\"/>\n",
              "    <path d=\"M18.56 5.44l.94 2.06.94-2.06 2.06-.94-2.06-.94-.94-2.06-.94 2.06-2.06.94zm-11 1L8.5 8.5l.94-2.06 2.06-.94-2.06-.94L8.5 2.5l-.94 2.06-2.06.94zm10 10l.94 2.06.94-2.06 2.06-.94-2.06-.94-.94-2.06-.94 2.06-2.06.94z\"/><path d=\"M17.41 7.96l-1.37-1.37c-.4-.4-.92-.59-1.43-.59-.52 0-1.04.2-1.43.59L10.3 9.45l-7.72 7.72c-.78.78-.78 2.05 0 2.83L4 21.41c.39.39.9.59 1.41.59.51 0 1.02-.2 1.41-.59l7.78-7.78 2.81-2.81c.8-.78.8-2.07 0-2.86zM5.41 20L4 18.59l7.72-7.72 1.47 1.35L5.41 20z\"/>\n",
              "  </svg>\n",
              "      </button>\n",
              "      \n",
              "  <style>\n",
              "    .colab-df-container {\n",
              "      display:flex;\n",
              "      flex-wrap:wrap;\n",
              "      gap: 12px;\n",
              "    }\n",
              "\n",
              "    .colab-df-convert {\n",
              "      background-color: #E8F0FE;\n",
              "      border: none;\n",
              "      border-radius: 50%;\n",
              "      cursor: pointer;\n",
              "      display: none;\n",
              "      fill: #1967D2;\n",
              "      height: 32px;\n",
              "      padding: 0 0 0 0;\n",
              "      width: 32px;\n",
              "    }\n",
              "\n",
              "    .colab-df-convert:hover {\n",
              "      background-color: #E2EBFA;\n",
              "      box-shadow: 0px 1px 2px rgba(60, 64, 67, 0.3), 0px 1px 3px 1px rgba(60, 64, 67, 0.15);\n",
              "      fill: #174EA6;\n",
              "    }\n",
              "\n",
              "    [theme=dark] .colab-df-convert {\n",
              "      background-color: #3B4455;\n",
              "      fill: #D2E3FC;\n",
              "    }\n",
              "\n",
              "    [theme=dark] .colab-df-convert:hover {\n",
              "      background-color: #434B5C;\n",
              "      box-shadow: 0px 1px 3px 1px rgba(0, 0, 0, 0.15);\n",
              "      filter: drop-shadow(0px 1px 2px rgba(0, 0, 0, 0.3));\n",
              "      fill: #FFFFFF;\n",
              "    }\n",
              "  </style>\n",
              "\n",
              "      <script>\n",
              "        const buttonEl =\n",
              "          document.querySelector('#df-c0314cd6-6faf-44ad-a27d-e59bf7659666 button.colab-df-convert');\n",
              "        buttonEl.style.display =\n",
              "          google.colab.kernel.accessAllowed ? 'block' : 'none';\n",
              "\n",
              "        async function convertToInteractive(key) {\n",
              "          const element = document.querySelector('#df-c0314cd6-6faf-44ad-a27d-e59bf7659666');\n",
              "          const dataTable =\n",
              "            await google.colab.kernel.invokeFunction('convertToInteractive',\n",
              "                                                     [key], {});\n",
              "          if (!dataTable) return;\n",
              "\n",
              "          const docLinkHtml = 'Like what you see? Visit the ' +\n",
              "            '<a target=\"_blank\" href=https://colab.research.google.com/notebooks/data_table.ipynb>data table notebook</a>'\n",
              "            + ' to learn more about interactive tables.';\n",
              "          element.innerHTML = '';\n",
              "          dataTable['output_type'] = 'display_data';\n",
              "          await google.colab.output.renderOutput(dataTable, element);\n",
              "          const docLink = document.createElement('div');\n",
              "          docLink.innerHTML = docLinkHtml;\n",
              "          element.appendChild(docLink);\n",
              "        }\n",
              "      </script>\n",
              "    </div>\n",
              "  </div>\n",
              "  "
            ],
            "text/plain": [
              "                 date    actual\n",
              "0 2022-03-01 03:43:00  43046.58\n",
              "1 2022-03-01 03:41:00  43046.58\n",
              "2 2022-03-01 03:40:00  43016.03\n",
              "3 2022-03-01 03:39:00  42999.44\n",
              "4 2022-03-01 03:38:00  43049.46"
            ]
          },
          "execution_count": 59,
          "metadata": {},
          "output_type": "execute_result"
        }
      ],
      "source": [
        "# read csv into dataframe\n",
        "df = pd.read_csv(test_stock)\n",
        "# filter out the desired features\n",
        "df = df[['date', 'close']]\n",
        "# rename feature column names\n",
        "df = df.rename(columns={'close': 'actual', 'date': 'date'})\n",
        "# convert dates from object to DateTime type\n",
        "dates = df['date']\n",
        "dates = pd.to_datetime(dates, infer_datetime_format=True)\n",
        "df['date'] = dates\n",
        "print(df.isnull().any())\n",
        "df.head()"
      ]
    },
    {
      "cell_type": "code",
      "execution_count": null,
      "metadata": {
        "id": "6kppVhoV-EXW"
      },
      "outputs": [],
      "source": [
        "def get_stock_data(stock_file):\n",
        "    \"\"\"Reads stock data from csv file\n",
        "    \"\"\"\n",
        "    df = pd.read_csv(stock_file)\n",
        "    return list(df['close'])"
      ]
    },
    {
      "cell_type": "code",
      "execution_count": null,
      "metadata": {
        "colab": {
          "base_uri": "https://localhost:8080/"
        },
        "id": "HNGXKKYwz5KF",
        "outputId": "23fc60cd-db23-4577-f033-0cafc2888a12"
      },
      "outputs": [
        {
          "name": "stderr",
          "output_type": "stream",
          "text": [
            "2023-05-31 03:03:44 633684638fd9 root[1152] DEBUG switching to TensorFlow for CPU\n",
            "2023-05-31 03:03:45 633684638fd9 root[1152] DEBUG Buy at: $43046.58\n"
          ]
        },
        {
          "name": "stdout",
          "output_type": "stream",
          "text": [
            "1/1 [==============================] - 0s 76ms/step\n"
          ]
        },
        {
          "name": "stderr",
          "output_type": "stream",
          "text": [
            "2023-05-31 03:03:45 633684638fd9 root[1152] DEBUG Sell at: $43046.58 | Position: +$0.00\n"
          ]
        },
        {
          "name": "stdout",
          "output_type": "stream",
          "text": [
            "1/1 [==============================] - 0s 20ms/step\n",
            "1/1 [==============================] - 0s 19ms/step\n",
            "1/1 [==============================] - 0s 19ms/step\n",
            "1/1 [==============================] - 0s 20ms/step\n",
            "1/1 [==============================] - 0s 19ms/step\n",
            "1/1 [==============================] - 0s 19ms/step\n",
            "1/1 [==============================] - 0s 20ms/step\n",
            "1/1 [==============================] - 0s 19ms/step\n",
            "1/1 [==============================] - 0s 20ms/step\n",
            "1/1 [==============================] - 0s 20ms/step\n",
            "1/1 [==============================] - 0s 20ms/step\n",
            "1/1 [==============================] - 0s 20ms/step\n",
            "1/1 [==============================] - 0s 21ms/step\n",
            "1/1 [==============================] - 0s 19ms/step\n",
            "1/1 [==============================] - 0s 19ms/step\n",
            "1/1 [==============================] - 0s 19ms/step\n",
            "1/1 [==============================] - 0s 21ms/step\n",
            "1/1 [==============================] - 0s 21ms/step\n",
            "1/1 [==============================] - 0s 20ms/step\n",
            "1/1 [==============================] - 0s 20ms/step\n"
          ]
        },
        {
          "name": "stderr",
          "output_type": "stream",
          "text": [
            "2023-05-31 03:03:46 633684638fd9 root[1152] DEBUG Buy at: $42983.81\n"
          ]
        },
        {
          "name": "stdout",
          "output_type": "stream",
          "text": [
            "1/1 [==============================] - 0s 20ms/step\n"
          ]
        },
        {
          "name": "stderr",
          "output_type": "stream",
          "text": [
            "2023-05-31 03:03:46 633684638fd9 root[1152] DEBUG Sell at: $42984.45 | Position: +$0.64\n"
          ]
        },
        {
          "name": "stdout",
          "output_type": "stream",
          "text": [
            "1/1 [==============================] - 0s 19ms/step\n",
            "1/1 [==============================] - 0s 19ms/step\n",
            "1/1 [==============================] - 0s 20ms/step\n",
            "1/1 [==============================] - 0s 21ms/step\n",
            "1/1 [==============================] - 0s 20ms/step\n",
            "1/1 [==============================] - 0s 19ms/step\n",
            "1/1 [==============================] - 0s 22ms/step\n",
            "1/1 [==============================] - 0s 20ms/step\n",
            "1/1 [==============================] - 0s 19ms/step\n",
            "1/1 [==============================] - 0s 19ms/step\n",
            "1/1 [==============================] - 0s 19ms/step\n",
            "1/1 [==============================] - 0s 20ms/step\n",
            "1/1 [==============================] - 0s 20ms/step\n",
            "1/1 [==============================] - 0s 19ms/step\n",
            "1/1 [==============================] - 0s 19ms/step\n",
            "1/1 [==============================] - 0s 21ms/step\n",
            "1/1 [==============================] - 0s 20ms/step\n",
            "1/1 [==============================] - 0s 22ms/step\n",
            "1/1 [==============================] - 0s 22ms/step\n",
            "1/1 [==============================] - 0s 20ms/step\n"
          ]
        },
        {
          "name": "stderr",
          "output_type": "stream",
          "text": [
            "2023-05-31 03:03:47 633684638fd9 root[1152] DEBUG Buy at: $43161.21\n"
          ]
        },
        {
          "name": "stdout",
          "output_type": "stream",
          "text": [
            "1/1 [==============================] - 0s 20ms/step\n"
          ]
        },
        {
          "name": "stderr",
          "output_type": "stream",
          "text": [
            "2023-05-31 03:03:47 633684638fd9 root[1152] DEBUG Sell at: $43161.09 | Position: -$0.12\n"
          ]
        },
        {
          "name": "stdout",
          "output_type": "stream",
          "text": [
            "1/1 [==============================] - 0s 20ms/step\n",
            "1/1 [==============================] - 0s 21ms/step\n",
            "1/1 [==============================] - 0s 21ms/step\n",
            "1/1 [==============================] - 0s 22ms/step\n",
            "1/1 [==============================] - 0s 21ms/step\n",
            "1/1 [==============================] - 0s 20ms/step\n",
            "1/1 [==============================] - 0s 20ms/step\n",
            "1/1 [==============================] - 0s 19ms/step\n",
            "1/1 [==============================] - 0s 19ms/step\n",
            "1/1 [==============================] - 0s 19ms/step\n",
            "1/1 [==============================] - 0s 19ms/step\n",
            "1/1 [==============================] - 0s 19ms/step\n",
            "1/1 [==============================] - 0s 20ms/step\n",
            "1/1 [==============================] - 0s 20ms/step\n",
            "1/1 [==============================] - 0s 20ms/step\n",
            "1/1 [==============================] - 0s 21ms/step\n",
            "1/1 [==============================] - 0s 21ms/step\n",
            "1/1 [==============================] - 0s 19ms/step\n",
            "1/1 [==============================] - 0s 19ms/step\n",
            "1/1 [==============================] - 0s 20ms/step\n",
            "1/1 [==============================] - 0s 19ms/step\n",
            "1/1 [==============================] - 0s 20ms/step\n",
            "1/1 [==============================] - 0s 19ms/step\n",
            "1/1 [==============================] - 0s 19ms/step\n",
            "1/1 [==============================] - 0s 19ms/step\n",
            "1/1 [==============================] - 0s 20ms/step\n",
            "1/1 [==============================] - 0s 20ms/step\n",
            "1/1 [==============================] - 0s 20ms/step\n",
            "1/1 [==============================] - 0s 20ms/step\n",
            "1/1 [==============================] - 0s 21ms/step\n",
            "1/1 [==============================] - 0s 22ms/step\n"
          ]
        },
        {
          "name": "stderr",
          "output_type": "stream",
          "text": [
            "2023-05-31 03:03:49 633684638fd9 root[1152] DEBUG Buy at: $43065.39\n"
          ]
        },
        {
          "name": "stdout",
          "output_type": "stream",
          "text": [
            "1/1 [==============================] - 0s 20ms/step\n"
          ]
        },
        {
          "name": "stderr",
          "output_type": "stream",
          "text": [
            "2023-05-31 03:03:49 633684638fd9 root[1152] DEBUG Sell at: $43103.32 | Position: +$37.93\n"
          ]
        },
        {
          "name": "stdout",
          "output_type": "stream",
          "text": [
            "1/1 [==============================] - 0s 20ms/step\n",
            "1/1 [==============================] - 0s 20ms/step\n",
            "1/1 [==============================] - 0s 20ms/step\n",
            "1/1 [==============================] - 0s 20ms/step\n",
            "1/1 [==============================] - 0s 19ms/step\n",
            "1/1 [==============================] - 0s 19ms/step\n",
            "1/1 [==============================] - 0s 20ms/step\n",
            "1/1 [==============================] - 0s 20ms/step\n",
            "1/1 [==============================] - 0s 19ms/step\n",
            "1/1 [==============================] - 0s 19ms/step\n",
            "1/1 [==============================] - 0s 20ms/step\n",
            "1/1 [==============================] - 0s 20ms/step\n",
            "1/1 [==============================] - 0s 19ms/step\n",
            "1/1 [==============================] - 0s 20ms/step\n",
            "1/1 [==============================] - 0s 19ms/step\n",
            "1/1 [==============================] - 0s 19ms/step\n",
            "1/1 [==============================] - 0s 20ms/step\n",
            "1/1 [==============================] - 0s 19ms/step\n",
            "1/1 [==============================] - 0s 19ms/step\n",
            "1/1 [==============================] - 0s 19ms/step\n",
            "1/1 [==============================] - 0s 20ms/step\n",
            "1/1 [==============================] - 0s 19ms/step\n",
            "1/1 [==============================] - 0s 20ms/step\n",
            "1/1 [==============================] - 0s 20ms/step\n",
            "1/1 [==============================] - 0s 20ms/step\n",
            "1/1 [==============================] - 0s 20ms/step\n",
            "1/1 [==============================] - 0s 20ms/step\n",
            "1/1 [==============================] - 0s 21ms/step\n",
            "1/1 [==============================] - 0s 20ms/step\n",
            "1/1 [==============================] - 0s 20ms/step\n",
            "1/1 [==============================] - 0s 20ms/step\n",
            "1/1 [==============================] - 0s 20ms/step\n",
            "1/1 [==============================] - 0s 20ms/step\n",
            "1/1 [==============================] - 0s 20ms/step\n",
            "1/1 [==============================] - 0s 19ms/step\n",
            "1/1 [==============================] - 0s 19ms/step\n",
            "1/1 [==============================] - 0s 19ms/step\n",
            "1/1 [==============================] - 0s 19ms/step\n",
            "1/1 [==============================] - 0s 21ms/step\n",
            "1/1 [==============================] - 0s 22ms/step\n",
            "1/1 [==============================] - 0s 21ms/step\n",
            "1/1 [==============================] - 0s 21ms/step\n",
            "1/1 [==============================] - 0s 20ms/step\n",
            "1/1 [==============================] - 0s 20ms/step\n",
            "1/1 [==============================] - 0s 19ms/step\n",
            "1/1 [==============================] - 0s 21ms/step\n",
            "1/1 [==============================] - 0s 19ms/step\n",
            "1/1 [==============================] - 0s 19ms/step\n",
            "1/1 [==============================] - 0s 19ms/step\n",
            "1/1 [==============================] - 0s 20ms/step\n",
            "1/1 [==============================] - 0s 19ms/step\n",
            "1/1 [==============================] - 0s 21ms/step\n",
            "1/1 [==============================] - 0s 23ms/step\n",
            "1/1 [==============================] - 0s 20ms/step\n",
            "1/1 [==============================] - 0s 20ms/step\n",
            "1/1 [==============================] - 0s 20ms/step\n",
            "1/1 [==============================] - 0s 20ms/step\n",
            "1/1 [==============================] - 0s 20ms/step\n"
          ]
        },
        {
          "name": "stderr",
          "output_type": "stream",
          "text": [
            "2023-05-31 03:03:52 633684638fd9 root[1152] DEBUG Buy at: $43289.21\n"
          ]
        },
        {
          "name": "stdout",
          "output_type": "stream",
          "text": [
            "1/1 [==============================] - 0s 20ms/step\n"
          ]
        },
        {
          "name": "stderr",
          "output_type": "stream",
          "text": [
            "2023-05-31 03:03:52 633684638fd9 root[1152] DEBUG Sell at: $43319.76 | Position: +$30.55\n"
          ]
        },
        {
          "name": "stdout",
          "output_type": "stream",
          "text": [
            "1/1 [==============================] - 0s 21ms/step\n",
            "1/1 [==============================] - 0s 21ms/step\n",
            "1/1 [==============================] - 0s 20ms/step\n",
            "1/1 [==============================] - 0s 20ms/step\n",
            "1/1 [==============================] - 0s 19ms/step\n",
            "1/1 [==============================] - 0s 19ms/step\n",
            "1/1 [==============================] - 0s 20ms/step\n",
            "1/1 [==============================] - 0s 20ms/step\n",
            "1/1 [==============================] - 0s 20ms/step\n",
            "1/1 [==============================] - 0s 20ms/step\n",
            "1/1 [==============================] - 0s 21ms/step\n",
            "1/1 [==============================] - 0s 21ms/step\n",
            "1/1 [==============================] - 0s 20ms/step\n",
            "1/1 [==============================] - 0s 20ms/step\n",
            "1/1 [==============================] - 0s 21ms/step\n",
            "1/1 [==============================] - 0s 19ms/step\n",
            "1/1 [==============================] - 0s 21ms/step\n",
            "1/1 [==============================] - 0s 20ms/step\n",
            "1/1 [==============================] - 0s 20ms/step\n",
            "1/1 [==============================] - 0s 21ms/step\n",
            "1/1 [==============================] - 0s 21ms/step\n",
            "1/1 [==============================] - 0s 20ms/step\n",
            "1/1 [==============================] - 0s 21ms/step\n",
            "1/1 [==============================] - 0s 20ms/step\n",
            "1/1 [==============================] - 0s 20ms/step\n",
            "1/1 [==============================] - 0s 20ms/step\n",
            "1/1 [==============================] - 0s 20ms/step\n",
            "1/1 [==============================] - 0s 20ms/step\n",
            "1/1 [==============================] - 0s 21ms/step\n",
            "1/1 [==============================] - 0s 20ms/step\n",
            "1/1 [==============================] - 0s 19ms/step\n",
            "1/1 [==============================] - 0s 19ms/step\n",
            "1/1 [==============================] - 0s 19ms/step\n",
            "1/1 [==============================] - 0s 19ms/step\n",
            "1/1 [==============================] - 0s 20ms/step\n",
            "1/1 [==============================] - 0s 22ms/step\n",
            "1/1 [==============================] - 0s 19ms/step\n",
            "1/1 [==============================] - 0s 20ms/step\n",
            "1/1 [==============================] - 0s 20ms/step\n",
            "1/1 [==============================] - 0s 20ms/step\n",
            "1/1 [==============================] - 0s 20ms/step\n",
            "1/1 [==============================] - 0s 20ms/step\n",
            "1/1 [==============================] - 0s 20ms/step\n",
            "1/1 [==============================] - 0s 20ms/step\n",
            "1/1 [==============================] - 0s 20ms/step\n",
            "1/1 [==============================] - 0s 19ms/step\n",
            "1/1 [==============================] - 0s 20ms/step\n",
            "1/1 [==============================] - 0s 20ms/step\n",
            "1/1 [==============================] - 0s 19ms/step\n",
            "1/1 [==============================] - 0s 19ms/step\n",
            "1/1 [==============================] - 0s 19ms/step\n",
            "1/1 [==============================] - 0s 19ms/step\n",
            "1/1 [==============================] - 0s 20ms/step\n",
            "1/1 [==============================] - 0s 20ms/step\n",
            "1/1 [==============================] - 0s 20ms/step\n",
            "1/1 [==============================] - 0s 20ms/step\n",
            "1/1 [==============================] - 0s 19ms/step\n",
            "1/1 [==============================] - 0s 23ms/step\n",
            "1/1 [==============================] - 0s 20ms/step\n",
            "1/1 [==============================] - 0s 20ms/step\n",
            "1/1 [==============================] - 0s 19ms/step\n",
            "1/1 [==============================] - 0s 20ms/step\n",
            "1/1 [==============================] - 0s 20ms/step\n",
            "1/1 [==============================] - 0s 22ms/step\n",
            "1/1 [==============================] - 0s 20ms/step\n",
            "1/1 [==============================] - 0s 20ms/step\n",
            "1/1 [==============================] - 0s 20ms/step\n",
            "1/1 [==============================] - 0s 20ms/step\n",
            "1/1 [==============================] - 0s 20ms/step\n",
            "1/1 [==============================] - 0s 21ms/step\n",
            "1/1 [==============================] - 0s 20ms/step\n",
            "1/1 [==============================] - 0s 19ms/step\n",
            "1/1 [==============================] - 0s 20ms/step\n",
            "1/1 [==============================] - 0s 20ms/step\n",
            "1/1 [==============================] - 0s 20ms/step\n",
            "1/1 [==============================] - 0s 19ms/step\n",
            "1/1 [==============================] - 0s 19ms/step\n",
            "1/1 [==============================] - 0s 20ms/step\n",
            "1/1 [==============================] - 0s 19ms/step\n",
            "1/1 [==============================] - 0s 21ms/step\n",
            "1/1 [==============================] - 0s 19ms/step\n",
            "1/1 [==============================] - 0s 20ms/step\n",
            "1/1 [==============================] - 0s 19ms/step\n",
            "1/1 [==============================] - 0s 21ms/step\n",
            "1/1 [==============================] - 0s 20ms/step\n",
            "1/1 [==============================] - 0s 20ms/step\n",
            "1/1 [==============================] - 0s 19ms/step\n",
            "1/1 [==============================] - 0s 19ms/step\n",
            "1/1 [==============================] - 0s 20ms/step\n",
            "1/1 [==============================] - 0s 20ms/step\n",
            "1/1 [==============================] - 0s 21ms/step\n",
            "1/1 [==============================] - 0s 20ms/step\n",
            "1/1 [==============================] - 0s 20ms/step\n",
            "1/1 [==============================] - 0s 20ms/step\n",
            "1/1 [==============================] - 0s 21ms/step\n",
            "1/1 [==============================] - 0s 20ms/step\n",
            "1/1 [==============================] - 0s 20ms/step\n",
            "1/1 [==============================] - 0s 20ms/step\n",
            "1/1 [==============================] - 0s 19ms/step\n",
            "1/1 [==============================] - 0s 20ms/step\n",
            "1/1 [==============================] - 0s 20ms/step\n",
            "1/1 [==============================] - 0s 20ms/step\n",
            "1/1 [==============================] - 0s 20ms/step\n",
            "1/1 [==============================] - 0s 20ms/step\n",
            "1/1 [==============================] - 0s 20ms/step\n",
            "1/1 [==============================] - 0s 20ms/step\n",
            "1/1 [==============================] - 0s 20ms/step\n",
            "1/1 [==============================] - 0s 20ms/step\n",
            "1/1 [==============================] - 0s 21ms/step\n",
            "1/1 [==============================] - 0s 21ms/step\n",
            "1/1 [==============================] - 0s 20ms/step\n",
            "1/1 [==============================] - 0s 19ms/step\n",
            "1/1 [==============================] - 0s 21ms/step\n",
            "1/1 [==============================] - 0s 21ms/step\n",
            "1/1 [==============================] - 0s 20ms/step\n",
            "1/1 [==============================] - 0s 20ms/step\n",
            "1/1 [==============================] - 0s 20ms/step\n",
            "1/1 [==============================] - 0s 21ms/step\n",
            "1/1 [==============================] - 0s 19ms/step\n",
            "1/1 [==============================] - 0s 20ms/step\n",
            "1/1 [==============================] - 0s 20ms/step\n",
            "1/1 [==============================] - 0s 20ms/step\n",
            "1/1 [==============================] - 0s 19ms/step\n",
            "1/1 [==============================] - 0s 19ms/step\n",
            "1/1 [==============================] - 0s 19ms/step\n",
            "1/1 [==============================] - 0s 19ms/step\n",
            "1/1 [==============================] - 0s 20ms/step\n",
            "1/1 [==============================] - 0s 21ms/step\n",
            "1/1 [==============================] - 0s 20ms/step\n",
            "1/1 [==============================] - 0s 19ms/step\n",
            "1/1 [==============================] - 0s 19ms/step\n",
            "1/1 [==============================] - 0s 20ms/step\n",
            "1/1 [==============================] - 0s 20ms/step\n",
            "1/1 [==============================] - 0s 20ms/step\n",
            "1/1 [==============================] - 0s 20ms/step\n",
            "1/1 [==============================] - 0s 20ms/step\n",
            "1/1 [==============================] - 0s 20ms/step\n",
            "1/1 [==============================] - 0s 19ms/step\n",
            "1/1 [==============================] - 0s 20ms/step\n",
            "1/1 [==============================] - 0s 20ms/step\n",
            "1/1 [==============================] - 0s 21ms/step\n",
            "1/1 [==============================] - 0s 21ms/step\n",
            "1/1 [==============================] - 0s 20ms/step\n",
            "1/1 [==============================] - 0s 19ms/step\n",
            "1/1 [==============================] - 0s 20ms/step\n",
            "1/1 [==============================] - 0s 20ms/step\n",
            "1/1 [==============================] - 0s 20ms/step\n",
            "1/1 [==============================] - 0s 20ms/step\n",
            "1/1 [==============================] - 0s 20ms/step\n",
            "1/1 [==============================] - 0s 20ms/step\n",
            "1/1 [==============================] - 0s 20ms/step\n",
            "1/1 [==============================] - 0s 20ms/step\n",
            "1/1 [==============================] - 0s 20ms/step\n",
            "1/1 [==============================] - 0s 20ms/step\n",
            "1/1 [==============================] - 0s 20ms/step\n",
            "1/1 [==============================] - 0s 19ms/step\n",
            "1/1 [==============================] - 0s 19ms/step\n",
            "1/1 [==============================] - 0s 19ms/step\n",
            "1/1 [==============================] - 0s 20ms/step\n",
            "1/1 [==============================] - 0s 19ms/step\n",
            "1/1 [==============================] - 0s 19ms/step\n",
            "1/1 [==============================] - 0s 20ms/step\n",
            "1/1 [==============================] - 0s 20ms/step\n",
            "1/1 [==============================] - 0s 19ms/step\n",
            "1/1 [==============================] - 0s 20ms/step\n",
            "1/1 [==============================] - 0s 20ms/step\n",
            "1/1 [==============================] - 0s 20ms/step\n",
            "1/1 [==============================] - 0s 19ms/step\n",
            "1/1 [==============================] - 0s 21ms/step\n",
            "1/1 [==============================] - 0s 19ms/step\n",
            "1/1 [==============================] - 0s 20ms/step\n",
            "1/1 [==============================] - 0s 20ms/step\n",
            "1/1 [==============================] - 0s 20ms/step\n",
            "1/1 [==============================] - 0s 19ms/step\n",
            "1/1 [==============================] - 0s 19ms/step\n",
            "1/1 [==============================] - 0s 20ms/step\n",
            "1/1 [==============================] - 0s 20ms/step\n",
            "1/1 [==============================] - 0s 19ms/step\n",
            "1/1 [==============================] - 0s 19ms/step\n",
            "1/1 [==============================] - 0s 20ms/step\n",
            "1/1 [==============================] - 0s 20ms/step\n",
            "1/1 [==============================] - 0s 19ms/step\n",
            "1/1 [==============================] - 0s 19ms/step\n",
            "1/1 [==============================] - 0s 21ms/step\n",
            "1/1 [==============================] - 0s 21ms/step\n",
            "1/1 [==============================] - 0s 20ms/step\n",
            "1/1 [==============================] - 0s 20ms/step\n",
            "1/1 [==============================] - 0s 20ms/step\n",
            "1/1 [==============================] - 0s 20ms/step\n",
            "1/1 [==============================] - 0s 20ms/step\n",
            "1/1 [==============================] - 0s 19ms/step\n",
            "1/1 [==============================] - 0s 20ms/step\n",
            "1/1 [==============================] - 0s 19ms/step\n",
            "1/1 [==============================] - 0s 20ms/step\n",
            "1/1 [==============================] - 0s 19ms/step\n",
            "1/1 [==============================] - 0s 19ms/step\n",
            "1/1 [==============================] - 0s 20ms/step\n",
            "1/1 [==============================] - 0s 20ms/step\n",
            "1/1 [==============================] - 0s 20ms/step\n",
            "1/1 [==============================] - 0s 20ms/step\n",
            "1/1 [==============================] - 0s 19ms/step\n",
            "1/1 [==============================] - 0s 19ms/step\n",
            "1/1 [==============================] - 0s 19ms/step\n",
            "1/1 [==============================] - 0s 20ms/step\n",
            "1/1 [==============================] - 0s 21ms/step\n",
            "1/1 [==============================] - 0s 19ms/step\n",
            "1/1 [==============================] - 0s 20ms/step\n",
            "1/1 [==============================] - 0s 20ms/step\n",
            "1/1 [==============================] - 0s 19ms/step\n",
            "1/1 [==============================] - 0s 19ms/step\n",
            "1/1 [==============================] - 0s 21ms/step\n",
            "1/1 [==============================] - 0s 22ms/step\n",
            "1/1 [==============================] - 0s 21ms/step\n",
            "1/1 [==============================] - 0s 21ms/step\n",
            "1/1 [==============================] - 0s 21ms/step\n",
            "1/1 [==============================] - 0s 21ms/step\n",
            "1/1 [==============================] - 0s 22ms/step\n",
            "1/1 [==============================] - 0s 21ms/step\n",
            "1/1 [==============================] - 0s 20ms/step\n",
            "1/1 [==============================] - 0s 20ms/step\n",
            "1/1 [==============================] - 0s 20ms/step\n",
            "1/1 [==============================] - 0s 20ms/step\n",
            "1/1 [==============================] - 0s 20ms/step\n",
            "1/1 [==============================] - 0s 20ms/step\n",
            "1/1 [==============================] - 0s 21ms/step\n",
            "1/1 [==============================] - 0s 21ms/step\n",
            "1/1 [==============================] - 0s 20ms/step\n",
            "1/1 [==============================] - 0s 21ms/step\n",
            "1/1 [==============================] - 0s 20ms/step\n",
            "1/1 [==============================] - 0s 19ms/step\n",
            "1/1 [==============================] - 0s 21ms/step\n",
            "1/1 [==============================] - 0s 19ms/step\n",
            "1/1 [==============================] - 0s 22ms/step\n",
            "1/1 [==============================] - 0s 21ms/step\n",
            "1/1 [==============================] - 0s 20ms/step\n",
            "1/1 [==============================] - 0s 19ms/step\n",
            "1/1 [==============================] - 0s 19ms/step\n",
            "1/1 [==============================] - 0s 19ms/step\n",
            "1/1 [==============================] - 0s 20ms/step\n",
            "1/1 [==============================] - 0s 20ms/step\n",
            "1/1 [==============================] - 0s 20ms/step\n",
            "1/1 [==============================] - 0s 21ms/step\n",
            "1/1 [==============================] - 0s 21ms/step\n",
            "1/1 [==============================] - 0s 20ms/step\n",
            "1/1 [==============================] - 0s 20ms/step\n",
            "1/1 [==============================] - 0s 20ms/step\n",
            "1/1 [==============================] - 0s 19ms/step\n",
            "1/1 [==============================] - 0s 20ms/step\n",
            "1/1 [==============================] - 0s 20ms/step\n",
            "1/1 [==============================] - 0s 20ms/step\n",
            "1/1 [==============================] - 0s 20ms/step\n",
            "1/1 [==============================] - 0s 21ms/step\n",
            "1/1 [==============================] - 0s 23ms/step\n",
            "1/1 [==============================] - 0s 20ms/step\n",
            "1/1 [==============================] - 0s 20ms/step\n",
            "1/1 [==============================] - 0s 19ms/step\n",
            "1/1 [==============================] - 0s 20ms/step\n",
            "1/1 [==============================] - 0s 19ms/step\n",
            "1/1 [==============================] - 0s 19ms/step\n",
            "1/1 [==============================] - 0s 20ms/step\n",
            "1/1 [==============================] - 0s 20ms/step\n",
            "1/1 [==============================] - 0s 20ms/step\n",
            "1/1 [==============================] - 0s 20ms/step\n",
            "1/1 [==============================] - 0s 21ms/step\n",
            "1/1 [==============================] - 0s 20ms/step\n",
            "1/1 [==============================] - 0s 20ms/step\n",
            "1/1 [==============================] - 0s 22ms/step\n",
            "1/1 [==============================] - 0s 20ms/step\n",
            "1/1 [==============================] - 0s 20ms/step\n",
            "1/1 [==============================] - 0s 20ms/step\n",
            "1/1 [==============================] - 0s 20ms/step\n",
            "1/1 [==============================] - 0s 20ms/step\n",
            "1/1 [==============================] - 0s 20ms/step\n",
            "1/1 [==============================] - 0s 20ms/step\n",
            "1/1 [==============================] - 0s 20ms/step\n",
            "1/1 [==============================] - 0s 19ms/step\n",
            "1/1 [==============================] - 0s 19ms/step\n",
            "1/1 [==============================] - 0s 19ms/step\n",
            "1/1 [==============================] - 0s 19ms/step\n",
            "1/1 [==============================] - 0s 19ms/step\n",
            "1/1 [==============================] - 0s 20ms/step\n",
            "1/1 [==============================] - 0s 20ms/step\n",
            "1/1 [==============================] - 0s 20ms/step\n",
            "1/1 [==============================] - 0s 20ms/step\n",
            "1/1 [==============================] - 0s 20ms/step\n",
            "1/1 [==============================] - 0s 20ms/step\n",
            "1/1 [==============================] - 0s 21ms/step\n",
            "1/1 [==============================] - 0s 19ms/step\n",
            "1/1 [==============================] - 0s 19ms/step\n",
            "1/1 [==============================] - 0s 20ms/step\n",
            "1/1 [==============================] - 0s 19ms/step\n",
            "1/1 [==============================] - 0s 19ms/step\n",
            "1/1 [==============================] - 0s 19ms/step\n",
            "1/1 [==============================] - 0s 19ms/step\n",
            "1/1 [==============================] - 0s 19ms/step\n"
          ]
        },
        {
          "name": "stderr",
          "output_type": "stream",
          "text": [
            "2023-05-31 03:04:08 633684638fd9 root[1152] DEBUG Buy at: $41554.22\n"
          ]
        },
        {
          "name": "stdout",
          "output_type": "stream",
          "text": [
            "1/1 [==============================] - 0s 21ms/step\n"
          ]
        },
        {
          "name": "stderr",
          "output_type": "stream",
          "text": [
            "2023-05-31 03:04:08 633684638fd9 root[1152] DEBUG Sell at: $41621.94 | Position: +$67.72\n"
          ]
        },
        {
          "name": "stdout",
          "output_type": "stream",
          "text": [
            "1/1 [==============================] - 0s 21ms/step\n",
            "1/1 [==============================] - 0s 20ms/step\n",
            "1/1 [==============================] - 0s 20ms/step\n",
            "1/1 [==============================] - 0s 20ms/step\n",
            "1/1 [==============================] - 0s 20ms/step\n",
            "1/1 [==============================] - 0s 20ms/step\n",
            "1/1 [==============================] - 0s 19ms/step\n",
            "1/1 [==============================] - 0s 20ms/step\n",
            "1/1 [==============================] - 0s 21ms/step\n",
            "1/1 [==============================] - 0s 22ms/step\n",
            "1/1 [==============================] - 0s 21ms/step\n",
            "1/1 [==============================] - 0s 20ms/step\n",
            "1/1 [==============================] - 0s 19ms/step\n",
            "1/1 [==============================] - 0s 19ms/step\n",
            "1/1 [==============================] - 0s 19ms/step\n",
            "1/1 [==============================] - 0s 19ms/step\n",
            "1/1 [==============================] - 0s 20ms/step\n",
            "1/1 [==============================] - 0s 20ms/step\n",
            "1/1 [==============================] - 0s 20ms/step\n",
            "1/1 [==============================] - 0s 19ms/step\n",
            "1/1 [==============================] - 0s 19ms/step\n",
            "1/1 [==============================] - 0s 19ms/step\n",
            "1/1 [==============================] - 0s 20ms/step\n",
            "1/1 [==============================] - 0s 19ms/step\n",
            "1/1 [==============================] - 0s 21ms/step\n",
            "1/1 [==============================] - 0s 19ms/step\n",
            "1/1 [==============================] - 0s 20ms/step\n",
            "1/1 [==============================] - 0s 20ms/step\n",
            "1/1 [==============================] - 0s 21ms/step\n",
            "1/1 [==============================] - 0s 19ms/step\n",
            "1/1 [==============================] - 0s 19ms/step\n",
            "1/1 [==============================] - 0s 19ms/step\n",
            "1/1 [==============================] - 0s 20ms/step\n",
            "1/1 [==============================] - 0s 20ms/step\n",
            "1/1 [==============================] - 0s 20ms/step\n",
            "1/1 [==============================] - 0s 20ms/step\n",
            "1/1 [==============================] - 0s 21ms/step\n",
            "1/1 [==============================] - 0s 20ms/step\n",
            "1/1 [==============================] - 0s 19ms/step\n",
            "1/1 [==============================] - 0s 20ms/step\n",
            "1/1 [==============================] - 0s 20ms/step\n",
            "1/1 [==============================] - 0s 20ms/step\n",
            "1/1 [==============================] - 0s 20ms/step\n",
            "1/1 [==============================] - 0s 21ms/step\n",
            "1/1 [==============================] - 0s 21ms/step\n",
            "1/1 [==============================] - 0s 21ms/step\n",
            "1/1 [==============================] - 0s 20ms/step\n",
            "1/1 [==============================] - 0s 21ms/step\n",
            "1/1 [==============================] - 0s 22ms/step\n",
            "1/1 [==============================] - 0s 19ms/step\n",
            "1/1 [==============================] - 0s 20ms/step\n",
            "1/1 [==============================] - 0s 20ms/step\n",
            "1/1 [==============================] - 0s 19ms/step\n",
            "1/1 [==============================] - 0s 20ms/step\n",
            "1/1 [==============================] - 0s 20ms/step\n",
            "1/1 [==============================] - 0s 20ms/step\n",
            "1/1 [==============================] - 0s 20ms/step\n",
            "1/1 [==============================] - 0s 19ms/step\n",
            "1/1 [==============================] - 0s 19ms/step\n",
            "1/1 [==============================] - 0s 19ms/step\n",
            "1/1 [==============================] - 0s 20ms/step\n",
            "1/1 [==============================] - 0s 19ms/step\n",
            "1/1 [==============================] - 0s 20ms/step\n",
            "1/1 [==============================] - 0s 19ms/step\n",
            "1/1 [==============================] - 0s 19ms/step\n",
            "1/1 [==============================] - 0s 19ms/step\n",
            "1/1 [==============================] - 0s 19ms/step\n",
            "1/1 [==============================] - 0s 20ms/step\n",
            "1/1 [==============================] - 0s 20ms/step\n",
            "1/1 [==============================] - 0s 20ms/step\n",
            "1/1 [==============================] - 0s 21ms/step\n",
            "1/1 [==============================] - 0s 19ms/step\n",
            "1/1 [==============================] - 0s 20ms/step\n",
            "1/1 [==============================] - 0s 20ms/step\n",
            "1/1 [==============================] - 0s 20ms/step\n",
            "1/1 [==============================] - 0s 19ms/step\n",
            "1/1 [==============================] - 0s 19ms/step\n",
            "1/1 [==============================] - 0s 19ms/step\n",
            "1/1 [==============================] - 0s 21ms/step\n",
            "1/1 [==============================] - 0s 20ms/step\n",
            "1/1 [==============================] - 0s 20ms/step\n",
            "1/1 [==============================] - 0s 20ms/step\n",
            "1/1 [==============================] - 0s 20ms/step\n",
            "1/1 [==============================] - 0s 20ms/step\n",
            "1/1 [==============================] - 0s 19ms/step\n",
            "1/1 [==============================] - 0s 21ms/step\n",
            "1/1 [==============================] - 0s 20ms/step\n",
            "1/1 [==============================] - 0s 19ms/step\n",
            "1/1 [==============================] - 0s 19ms/step\n",
            "1/1 [==============================] - 0s 21ms/step\n",
            "1/1 [==============================] - 0s 20ms/step\n",
            "1/1 [==============================] - 0s 19ms/step\n",
            "1/1 [==============================] - 0s 19ms/step\n",
            "1/1 [==============================] - 0s 19ms/step\n",
            "1/1 [==============================] - 0s 19ms/step\n",
            "1/1 [==============================] - 0s 20ms/step\n",
            "1/1 [==============================] - 0s 20ms/step\n",
            "1/1 [==============================] - 0s 20ms/step\n",
            "1/1 [==============================] - 0s 21ms/step\n",
            "1/1 [==============================] - 0s 21ms/step\n",
            "1/1 [==============================] - 0s 20ms/step\n",
            "1/1 [==============================] - 0s 20ms/step\n",
            "1/1 [==============================] - 0s 20ms/step\n",
            "1/1 [==============================] - 0s 20ms/step\n",
            "1/1 [==============================] - 0s 19ms/step\n",
            "1/1 [==============================] - 0s 19ms/step\n",
            "1/1 [==============================] - 0s 19ms/step\n",
            "1/1 [==============================] - 0s 20ms/step\n",
            "1/1 [==============================] - 0s 21ms/step\n",
            "1/1 [==============================] - 0s 21ms/step\n",
            "1/1 [==============================] - 0s 20ms/step\n",
            "1/1 [==============================] - 0s 19ms/step\n"
          ]
        },
        {
          "name": "stderr",
          "output_type": "stream",
          "text": [
            "2023-05-31 03:04:14 633684638fd9 root[1152] DEBUG Buy at: $41088.64\n"
          ]
        },
        {
          "name": "stdout",
          "output_type": "stream",
          "text": [
            "1/1 [==============================] - 0s 19ms/step\n"
          ]
        },
        {
          "name": "stderr",
          "output_type": "stream",
          "text": [
            "2023-05-31 03:04:14 633684638fd9 root[1152] DEBUG Sell at: $41173.49 | Position: +$84.85\n"
          ]
        },
        {
          "name": "stdout",
          "output_type": "stream",
          "text": [
            "1/1 [==============================] - 0s 19ms/step\n",
            "1/1 [==============================] - 0s 20ms/step\n",
            "1/1 [==============================] - 0s 21ms/step\n",
            "1/1 [==============================] - 0s 20ms/step\n",
            "1/1 [==============================] - 0s 20ms/step\n",
            "1/1 [==============================] - 0s 21ms/step\n",
            "1/1 [==============================] - 0s 21ms/step\n",
            "1/1 [==============================] - 0s 20ms/step\n",
            "1/1 [==============================] - 0s 20ms/step\n",
            "1/1 [==============================] - 0s 21ms/step\n",
            "1/1 [==============================] - 0s 22ms/step\n",
            "1/1 [==============================] - 0s 21ms/step\n",
            "1/1 [==============================] - 0s 20ms/step\n",
            "1/1 [==============================] - 0s 19ms/step\n",
            "1/1 [==============================] - 0s 19ms/step\n",
            "1/1 [==============================] - 0s 19ms/step\n",
            "1/1 [==============================] - 0s 20ms/step\n",
            "1/1 [==============================] - 0s 19ms/step\n",
            "1/1 [==============================] - 0s 21ms/step\n",
            "1/1 [==============================] - 0s 20ms/step\n",
            "1/1 [==============================] - 0s 20ms/step\n",
            "1/1 [==============================] - 0s 20ms/step\n",
            "1/1 [==============================] - 0s 19ms/step\n",
            "1/1 [==============================] - 0s 19ms/step\n",
            "1/1 [==============================] - 0s 19ms/step\n",
            "1/1 [==============================] - 0s 21ms/step\n",
            "1/1 [==============================] - 0s 19ms/step\n",
            "1/1 [==============================] - 0s 19ms/step\n",
            "1/1 [==============================] - 0s 20ms/step\n",
            "1/1 [==============================] - 0s 21ms/step\n",
            "1/1 [==============================] - 0s 21ms/step\n",
            "1/1 [==============================] - 0s 22ms/step\n",
            "1/1 [==============================] - 0s 21ms/step\n",
            "1/1 [==============================] - 0s 20ms/step\n",
            "1/1 [==============================] - 0s 20ms/step\n",
            "1/1 [==============================] - 0s 20ms/step\n",
            "1/1 [==============================] - 0s 20ms/step\n",
            "1/1 [==============================] - 0s 19ms/step\n",
            "1/1 [==============================] - 0s 20ms/step\n",
            "1/1 [==============================] - 0s 20ms/step\n",
            "1/1 [==============================] - 0s 19ms/step\n",
            "1/1 [==============================] - 0s 19ms/step\n",
            "1/1 [==============================] - 0s 19ms/step\n",
            "1/1 [==============================] - 0s 20ms/step\n",
            "1/1 [==============================] - 0s 20ms/step\n",
            "1/1 [==============================] - 0s 20ms/step\n",
            "1/1 [==============================] - 0s 19ms/step\n",
            "1/1 [==============================] - 0s 21ms/step\n",
            "1/1 [==============================] - 0s 21ms/step\n",
            "1/1 [==============================] - 0s 20ms/step\n",
            "1/1 [==============================] - 0s 20ms/step\n",
            "1/1 [==============================] - 0s 19ms/step\n",
            "1/1 [==============================] - 0s 20ms/step\n",
            "1/1 [==============================] - 0s 19ms/step\n",
            "1/1 [==============================] - 0s 20ms/step\n",
            "1/1 [==============================] - 0s 20ms/step\n",
            "1/1 [==============================] - 0s 21ms/step\n",
            "1/1 [==============================] - 0s 20ms/step\n",
            "1/1 [==============================] - 0s 20ms/step\n",
            "1/1 [==============================] - 0s 20ms/step\n",
            "1/1 [==============================] - 0s 20ms/step\n",
            "1/1 [==============================] - 0s 19ms/step\n",
            "1/1 [==============================] - 0s 20ms/step\n",
            "1/1 [==============================] - 0s 20ms/step\n",
            "1/1 [==============================] - 0s 20ms/step\n",
            "1/1 [==============================] - 0s 21ms/step\n",
            "1/1 [==============================] - 0s 23ms/step\n",
            "1/1 [==============================] - 0s 21ms/step\n",
            "1/1 [==============================] - 0s 20ms/step\n",
            "1/1 [==============================] - 0s 20ms/step\n",
            "1/1 [==============================] - 0s 20ms/step\n",
            "1/1 [==============================] - 0s 20ms/step\n",
            "1/1 [==============================] - 0s 20ms/step\n",
            "1/1 [==============================] - 0s 21ms/step\n",
            "1/1 [==============================] - 0s 20ms/step\n",
            "1/1 [==============================] - 0s 19ms/step\n",
            "1/1 [==============================] - 0s 19ms/step\n",
            "1/1 [==============================] - 0s 20ms/step\n",
            "1/1 [==============================] - 0s 21ms/step\n",
            "1/1 [==============================] - 0s 20ms/step\n",
            "1/1 [==============================] - 0s 19ms/step\n",
            "1/1 [==============================] - 0s 19ms/step\n",
            "1/1 [==============================] - 0s 20ms/step\n",
            "1/1 [==============================] - 0s 20ms/step\n",
            "1/1 [==============================] - 0s 20ms/step\n",
            "1/1 [==============================] - 0s 20ms/step\n",
            "1/1 [==============================] - 0s 19ms/step\n",
            "1/1 [==============================] - 0s 19ms/step\n",
            "1/1 [==============================] - 0s 20ms/step\n",
            "1/1 [==============================] - 0s 20ms/step\n",
            "1/1 [==============================] - 0s 19ms/step\n",
            "1/1 [==============================] - 0s 19ms/step\n",
            "1/1 [==============================] - 0s 24ms/step\n",
            "1/1 [==============================] - 0s 24ms/step\n",
            "1/1 [==============================] - 0s 24ms/step\n",
            "1/1 [==============================] - 0s 24ms/step\n",
            "1/1 [==============================] - 0s 23ms/step\n",
            "1/1 [==============================] - 0s 24ms/step\n",
            "1/1 [==============================] - 0s 25ms/step\n",
            "1/1 [==============================] - 0s 25ms/step\n",
            "1/1 [==============================] - 0s 26ms/step\n",
            "1/1 [==============================] - 0s 25ms/step\n",
            "1/1 [==============================] - 0s 24ms/step\n",
            "1/1 [==============================] - 0s 25ms/step\n",
            "1/1 [==============================] - 0s 24ms/step\n",
            "1/1 [==============================] - 0s 24ms/step\n",
            "1/1 [==============================] - 0s 26ms/step\n",
            "1/1 [==============================] - 0s 25ms/step\n",
            "1/1 [==============================] - 0s 26ms/step\n",
            "1/1 [==============================] - 0s 26ms/step\n",
            "1/1 [==============================] - 0s 25ms/step\n",
            "1/1 [==============================] - 0s 25ms/step\n",
            "1/1 [==============================] - 0s 24ms/step\n",
            "1/1 [==============================] - 0s 26ms/step\n",
            "1/1 [==============================] - 0s 27ms/step\n",
            "1/1 [==============================] - 0s 25ms/step\n",
            "1/1 [==============================] - 0s 25ms/step\n",
            "1/1 [==============================] - 0s 24ms/step\n",
            "1/1 [==============================] - 0s 24ms/step\n",
            "1/1 [==============================] - 0s 25ms/step\n",
            "1/1 [==============================] - 0s 25ms/step\n",
            "1/1 [==============================] - 0s 25ms/step\n",
            "1/1 [==============================] - 0s 25ms/step\n",
            "1/1 [==============================] - 0s 25ms/step\n",
            "1/1 [==============================] - 0s 25ms/step\n",
            "1/1 [==============================] - 0s 25ms/step\n",
            "1/1 [==============================] - 0s 25ms/step\n",
            "1/1 [==============================] - 0s 24ms/step\n",
            "1/1 [==============================] - 0s 24ms/step\n",
            "1/1 [==============================] - 0s 24ms/step\n",
            "1/1 [==============================] - 0s 25ms/step\n",
            "1/1 [==============================] - 0s 28ms/step\n",
            "1/1 [==============================] - 0s 25ms/step\n",
            "1/1 [==============================] - 0s 24ms/step\n",
            "1/1 [==============================] - 0s 24ms/step\n",
            "1/1 [==============================] - 0s 24ms/step\n",
            "1/1 [==============================] - 0s 24ms/step\n",
            "1/1 [==============================] - 0s 25ms/step\n",
            "1/1 [==============================] - 0s 24ms/step\n",
            "1/1 [==============================] - 0s 24ms/step\n",
            "1/1 [==============================] - 0s 25ms/step\n",
            "1/1 [==============================] - 0s 24ms/step\n"
          ]
        },
        {
          "name": "stderr",
          "output_type": "stream",
          "text": [
            "2023-05-31 03:04:22 633684638fd9 root[1152] DEBUG Buy at: $40969.75\n"
          ]
        },
        {
          "name": "stdout",
          "output_type": "stream",
          "text": [
            "1/1 [==============================] - 0s 25ms/step\n"
          ]
        },
        {
          "name": "stderr",
          "output_type": "stream",
          "text": [
            "2023-05-31 03:04:23 633684638fd9 root[1152] DEBUG Sell at: $40907.84 | Position: -$61.91\n"
          ]
        },
        {
          "name": "stdout",
          "output_type": "stream",
          "text": [
            "1/1 [==============================] - 0s 27ms/step\n",
            "1/1 [==============================] - 0s 24ms/step\n",
            "1/1 [==============================] - 0s 25ms/step\n",
            "1/1 [==============================] - 0s 24ms/step\n",
            "1/1 [==============================] - 0s 25ms/step\n",
            "1/1 [==============================] - 0s 24ms/step\n",
            "1/1 [==============================] - 0s 23ms/step\n",
            "1/1 [==============================] - 0s 23ms/step\n",
            "1/1 [==============================] - 0s 27ms/step\n",
            "1/1 [==============================] - 0s 24ms/step\n",
            "1/1 [==============================] - 0s 24ms/step\n",
            "1/1 [==============================] - 0s 23ms/step\n",
            "1/1 [==============================] - 0s 24ms/step\n",
            "1/1 [==============================] - 0s 25ms/step\n",
            "1/1 [==============================] - 0s 24ms/step\n",
            "1/1 [==============================] - 0s 24ms/step\n",
            "1/1 [==============================] - 0s 24ms/step\n",
            "1/1 [==============================] - 0s 25ms/step\n",
            "1/1 [==============================] - 0s 23ms/step\n",
            "1/1 [==============================] - 0s 26ms/step\n",
            "1/1 [==============================] - 0s 24ms/step\n",
            "1/1 [==============================] - 0s 25ms/step\n",
            "1/1 [==============================] - 0s 26ms/step\n",
            "1/1 [==============================] - 0s 24ms/step\n",
            "1/1 [==============================] - 0s 26ms/step\n",
            "1/1 [==============================] - 0s 24ms/step\n",
            "1/1 [==============================] - 0s 24ms/step\n",
            "1/1 [==============================] - 0s 24ms/step\n",
            "1/1 [==============================] - 0s 23ms/step\n",
            "1/1 [==============================] - 0s 24ms/step\n",
            "1/1 [==============================] - 0s 25ms/step\n",
            "1/1 [==============================] - 0s 24ms/step\n",
            "1/1 [==============================] - 0s 23ms/step\n",
            "1/1 [==============================] - 0s 22ms/step\n",
            "1/1 [==============================] - 0s 23ms/step\n",
            "1/1 [==============================] - 0s 22ms/step\n",
            "1/1 [==============================] - 0s 23ms/step\n",
            "1/1 [==============================] - 0s 24ms/step\n",
            "1/1 [==============================] - 0s 24ms/step\n",
            "1/1 [==============================] - 0s 23ms/step\n",
            "1/1 [==============================] - 0s 21ms/step\n",
            "1/1 [==============================] - 0s 22ms/step\n",
            "1/1 [==============================] - 0s 22ms/step\n",
            "1/1 [==============================] - 0s 22ms/step\n",
            "1/1 [==============================] - 0s 20ms/step\n",
            "1/1 [==============================] - 0s 20ms/step\n",
            "1/1 [==============================] - 0s 22ms/step\n",
            "1/1 [==============================] - 0s 23ms/step\n",
            "1/1 [==============================] - 0s 22ms/step\n",
            "1/1 [==============================] - 0s 24ms/step\n",
            "1/1 [==============================] - 0s 21ms/step\n",
            "1/1 [==============================] - 0s 21ms/step\n",
            "1/1 [==============================] - 0s 21ms/step\n",
            "1/1 [==============================] - 0s 20ms/step\n",
            "1/1 [==============================] - 0s 20ms/step\n",
            "1/1 [==============================] - 0s 22ms/step\n",
            "1/1 [==============================] - 0s 21ms/step\n",
            "1/1 [==============================] - 0s 22ms/step\n",
            "1/1 [==============================] - 0s 21ms/step\n",
            "1/1 [==============================] - 0s 21ms/step\n",
            "1/1 [==============================] - 0s 21ms/step\n",
            "1/1 [==============================] - 0s 20ms/step\n",
            "1/1 [==============================] - 0s 20ms/step\n",
            "1/1 [==============================] - 0s 19ms/step\n",
            "1/1 [==============================] - 0s 22ms/step\n",
            "1/1 [==============================] - 0s 20ms/step\n",
            "1/1 [==============================] - 0s 21ms/step\n",
            "1/1 [==============================] - 0s 20ms/step\n",
            "1/1 [==============================] - 0s 20ms/step\n",
            "1/1 [==============================] - 0s 20ms/step\n",
            "1/1 [==============================] - 0s 19ms/step\n",
            "1/1 [==============================] - 0s 19ms/step\n",
            "1/1 [==============================] - 0s 19ms/step\n",
            "1/1 [==============================] - 0s 20ms/step\n",
            "1/1 [==============================] - 0s 20ms/step\n",
            "1/1 [==============================] - 0s 20ms/step\n",
            "1/1 [==============================] - 0s 19ms/step\n",
            "1/1 [==============================] - 0s 19ms/step\n",
            "1/1 [==============================] - 0s 19ms/step\n",
            "1/1 [==============================] - 0s 20ms/step\n",
            "1/1 [==============================] - 0s 19ms/step\n",
            "1/1 [==============================] - 0s 19ms/step\n",
            "1/1 [==============================] - 0s 19ms/step\n",
            "1/1 [==============================] - 0s 20ms/step\n",
            "1/1 [==============================] - 0s 19ms/step\n",
            "1/1 [==============================] - 0s 19ms/step\n",
            "1/1 [==============================] - 0s 19ms/step\n",
            "1/1 [==============================] - 0s 19ms/step\n",
            "1/1 [==============================] - 0s 19ms/step\n",
            "1/1 [==============================] - 0s 19ms/step\n",
            "1/1 [==============================] - 0s 19ms/step\n",
            "1/1 [==============================] - 0s 20ms/step\n",
            "1/1 [==============================] - 0s 20ms/step\n",
            "1/1 [==============================] - 0s 19ms/step\n",
            "1/1 [==============================] - 0s 19ms/step\n",
            "1/1 [==============================] - 0s 20ms/step\n",
            "1/1 [==============================] - 0s 20ms/step\n",
            "1/1 [==============================] - 0s 20ms/step\n",
            "1/1 [==============================] - 0s 20ms/step\n",
            "1/1 [==============================] - 0s 21ms/step\n",
            "1/1 [==============================] - 0s 22ms/step\n",
            "1/1 [==============================] - 0s 20ms/step\n",
            "1/1 [==============================] - 0s 21ms/step\n",
            "1/1 [==============================] - 0s 20ms/step\n",
            "1/1 [==============================] - 0s 20ms/step\n",
            "1/1 [==============================] - 0s 20ms/step\n",
            "1/1 [==============================] - 0s 20ms/step\n",
            "1/1 [==============================] - 0s 20ms/step\n",
            "1/1 [==============================] - 0s 20ms/step\n",
            "1/1 [==============================] - 0s 20ms/step\n",
            "1/1 [==============================] - 0s 20ms/step\n",
            "1/1 [==============================] - 0s 19ms/step\n",
            "1/1 [==============================] - 0s 19ms/step\n",
            "1/1 [==============================] - 0s 20ms/step\n",
            "1/1 [==============================] - 0s 20ms/step\n",
            "1/1 [==============================] - 0s 20ms/step\n",
            "1/1 [==============================] - 0s 20ms/step\n",
            "1/1 [==============================] - 0s 20ms/step\n",
            "1/1 [==============================] - 0s 21ms/step\n",
            "1/1 [==============================] - 0s 19ms/step\n",
            "1/1 [==============================] - 0s 20ms/step\n",
            "1/1 [==============================] - 0s 20ms/step\n",
            "1/1 [==============================] - 0s 20ms/step\n",
            "1/1 [==============================] - 0s 19ms/step\n",
            "1/1 [==============================] - 0s 20ms/step\n",
            "1/1 [==============================] - 0s 19ms/step\n",
            "1/1 [==============================] - 0s 20ms/step\n",
            "1/1 [==============================] - 0s 21ms/step\n",
            "1/1 [==============================] - 0s 22ms/step\n",
            "1/1 [==============================] - 0s 19ms/step\n",
            "1/1 [==============================] - 0s 19ms/step\n",
            "1/1 [==============================] - 0s 19ms/step\n",
            "1/1 [==============================] - 0s 20ms/step\n",
            "1/1 [==============================] - 0s 20ms/step\n",
            "1/1 [==============================] - 0s 20ms/step\n",
            "1/1 [==============================] - 0s 21ms/step\n",
            "1/1 [==============================] - 0s 19ms/step\n",
            "1/1 [==============================] - 0s 21ms/step\n",
            "1/1 [==============================] - 0s 20ms/step\n",
            "1/1 [==============================] - 0s 20ms/step\n",
            "1/1 [==============================] - 0s 20ms/step\n",
            "1/1 [==============================] - 0s 20ms/step\n",
            "1/1 [==============================] - 0s 20ms/step\n",
            "1/1 [==============================] - 0s 20ms/step\n",
            "1/1 [==============================] - 0s 21ms/step\n",
            "1/1 [==============================] - 0s 20ms/step\n",
            "1/1 [==============================] - 0s 19ms/step\n",
            "1/1 [==============================] - 0s 21ms/step\n",
            "1/1 [==============================] - 0s 20ms/step\n",
            "1/1 [==============================] - 0s 20ms/step\n",
            "1/1 [==============================] - 0s 20ms/step\n",
            "1/1 [==============================] - 0s 19ms/step\n",
            "1/1 [==============================] - 0s 20ms/step\n",
            "1/1 [==============================] - 0s 20ms/step\n",
            "1/1 [==============================] - 0s 19ms/step\n",
            "1/1 [==============================] - 0s 20ms/step\n",
            "1/1 [==============================] - 0s 19ms/step\n",
            "1/1 [==============================] - 0s 19ms/step\n",
            "1/1 [==============================] - 0s 20ms/step\n",
            "1/1 [==============================] - 0s 20ms/step\n",
            "1/1 [==============================] - 0s 19ms/step\n",
            "1/1 [==============================] - 0s 19ms/step\n",
            "1/1 [==============================] - 0s 21ms/step\n",
            "1/1 [==============================] - 0s 20ms/step\n",
            "1/1 [==============================] - 0s 20ms/step\n",
            "1/1 [==============================] - 0s 20ms/step\n",
            "1/1 [==============================] - 0s 20ms/step\n",
            "1/1 [==============================] - 0s 20ms/step\n",
            "1/1 [==============================] - 0s 20ms/step\n",
            "1/1 [==============================] - 0s 19ms/step\n",
            "1/1 [==============================] - 0s 21ms/step\n",
            "1/1 [==============================] - 0s 22ms/step\n",
            "1/1 [==============================] - 0s 21ms/step\n",
            "1/1 [==============================] - 0s 20ms/step\n",
            "1/1 [==============================] - 0s 19ms/step\n",
            "1/1 [==============================] - 0s 19ms/step\n",
            "1/1 [==============================] - 0s 20ms/step\n",
            "1/1 [==============================] - 0s 21ms/step\n",
            "1/1 [==============================] - 0s 19ms/step\n",
            "1/1 [==============================] - 0s 19ms/step\n",
            "1/1 [==============================] - 0s 21ms/step\n",
            "1/1 [==============================] - 0s 20ms/step\n",
            "1/1 [==============================] - 0s 20ms/step\n",
            "1/1 [==============================] - 0s 20ms/step\n",
            "1/1 [==============================] - 0s 19ms/step\n",
            "1/1 [==============================] - 0s 20ms/step\n",
            "1/1 [==============================] - 0s 20ms/step\n",
            "1/1 [==============================] - 0s 20ms/step\n",
            "1/1 [==============================] - 0s 19ms/step\n",
            "1/1 [==============================] - 0s 21ms/step\n",
            "1/1 [==============================] - 0s 21ms/step\n",
            "1/1 [==============================] - 0s 22ms/step\n",
            "1/1 [==============================] - 0s 20ms/step\n",
            "1/1 [==============================] - 0s 20ms/step\n",
            "1/1 [==============================] - 0s 20ms/step\n",
            "1/1 [==============================] - 0s 19ms/step\n",
            "1/1 [==============================] - 0s 19ms/step\n",
            "1/1 [==============================] - 0s 20ms/step\n",
            "1/1 [==============================] - 0s 20ms/step\n",
            "1/1 [==============================] - 0s 20ms/step\n",
            "1/1 [==============================] - 0s 19ms/step\n",
            "1/1 [==============================] - 0s 20ms/step\n",
            "1/1 [==============================] - 0s 19ms/step\n",
            "1/1 [==============================] - 0s 19ms/step\n",
            "1/1 [==============================] - 0s 20ms/step\n",
            "1/1 [==============================] - 0s 20ms/step\n",
            "1/1 [==============================] - 0s 19ms/step\n",
            "1/1 [==============================] - 0s 20ms/step\n",
            "1/1 [==============================] - 0s 20ms/step\n",
            "1/1 [==============================] - 0s 20ms/step\n",
            "1/1 [==============================] - 0s 20ms/step\n",
            "1/1 [==============================] - 0s 20ms/step\n",
            "1/1 [==============================] - 0s 19ms/step\n",
            "1/1 [==============================] - 0s 20ms/step\n",
            "1/1 [==============================] - 0s 19ms/step\n",
            "1/1 [==============================] - 0s 19ms/step\n",
            "1/1 [==============================] - 0s 19ms/step\n",
            "1/1 [==============================] - 0s 19ms/step\n",
            "1/1 [==============================] - 0s 20ms/step\n",
            "1/1 [==============================] - 0s 19ms/step\n",
            "1/1 [==============================] - 0s 19ms/step\n",
            "1/1 [==============================] - 0s 19ms/step\n",
            "1/1 [==============================] - 0s 20ms/step\n",
            "1/1 [==============================] - 0s 21ms/step\n",
            "1/1 [==============================] - 0s 20ms/step\n",
            "1/1 [==============================] - 0s 19ms/step\n",
            "1/1 [==============================] - 0s 19ms/step\n",
            "1/1 [==============================] - 0s 20ms/step\n",
            "1/1 [==============================] - 0s 20ms/step\n",
            "1/1 [==============================] - 0s 20ms/step\n",
            "1/1 [==============================] - 0s 20ms/step\n",
            "1/1 [==============================] - 0s 20ms/step\n",
            "1/1 [==============================] - 0s 19ms/step\n",
            "1/1 [==============================] - 0s 20ms/step\n",
            "1/1 [==============================] - 0s 20ms/step\n",
            "1/1 [==============================] - 0s 20ms/step\n",
            "1/1 [==============================] - 0s 19ms/step\n",
            "1/1 [==============================] - 0s 19ms/step\n",
            "1/1 [==============================] - 0s 21ms/step\n",
            "1/1 [==============================] - 0s 20ms/step\n",
            "1/1 [==============================] - 0s 19ms/step\n",
            "1/1 [==============================] - 0s 20ms/step\n",
            "1/1 [==============================] - 0s 21ms/step\n",
            "1/1 [==============================] - 0s 22ms/step\n",
            "1/1 [==============================] - 0s 20ms/step\n",
            "1/1 [==============================] - 0s 19ms/step\n",
            "1/1 [==============================] - 0s 21ms/step\n",
            "1/1 [==============================] - 0s 20ms/step\n",
            "1/1 [==============================] - 0s 20ms/step\n",
            "1/1 [==============================] - 0s 19ms/step\n",
            "1/1 [==============================] - 0s 19ms/step\n",
            "1/1 [==============================] - 0s 20ms/step\n",
            "1/1 [==============================] - 0s 21ms/step\n",
            "1/1 [==============================] - 0s 20ms/step\n",
            "1/1 [==============================] - 0s 20ms/step\n",
            "1/1 [==============================] - 0s 20ms/step\n",
            "1/1 [==============================] - 0s 20ms/step\n",
            "1/1 [==============================] - 0s 19ms/step\n",
            "1/1 [==============================] - 0s 19ms/step\n",
            "1/1 [==============================] - 0s 19ms/step\n",
            "1/1 [==============================] - 0s 20ms/step\n",
            "1/1 [==============================] - 0s 20ms/step\n",
            "1/1 [==============================] - 0s 19ms/step\n",
            "1/1 [==============================] - 0s 21ms/step\n",
            "1/1 [==============================] - 0s 19ms/step\n",
            "1/1 [==============================] - 0s 19ms/step\n",
            "1/1 [==============================] - 0s 19ms/step\n",
            "1/1 [==============================] - 0s 20ms/step\n",
            "1/1 [==============================] - 0s 19ms/step\n",
            "1/1 [==============================] - 0s 21ms/step\n",
            "1/1 [==============================] - 0s 21ms/step\n",
            "1/1 [==============================] - 0s 21ms/step\n",
            "1/1 [==============================] - 0s 20ms/step\n",
            "1/1 [==============================] - 0s 19ms/step\n",
            "1/1 [==============================] - 0s 19ms/step\n",
            "1/1 [==============================] - 0s 19ms/step\n",
            "1/1 [==============================] - 0s 20ms/step\n",
            "1/1 [==============================] - 0s 20ms/step\n",
            "1/1 [==============================] - 0s 20ms/step\n",
            "1/1 [==============================] - 0s 19ms/step\n",
            "1/1 [==============================] - 0s 20ms/step\n",
            "1/1 [==============================] - 0s 20ms/step\n",
            "1/1 [==============================] - 0s 19ms/step\n",
            "1/1 [==============================] - 0s 19ms/step\n",
            "1/1 [==============================] - 0s 20ms/step\n",
            "1/1 [==============================] - 0s 21ms/step\n",
            "1/1 [==============================] - 0s 19ms/step\n",
            "1/1 [==============================] - 0s 20ms/step\n",
            "1/1 [==============================] - 0s 20ms/step\n",
            "1/1 [==============================] - 0s 20ms/step\n",
            "1/1 [==============================] - 0s 20ms/step\n",
            "1/1 [==============================] - 0s 20ms/step\n",
            "1/1 [==============================] - 0s 20ms/step\n",
            "1/1 [==============================] - 0s 20ms/step\n",
            "1/1 [==============================] - 0s 23ms/step\n",
            "1/1 [==============================] - 0s 19ms/step\n",
            "1/1 [==============================] - 0s 20ms/step\n",
            "1/1 [==============================] - 0s 20ms/step\n",
            "1/1 [==============================] - 0s 20ms/step\n",
            "1/1 [==============================] - 0s 20ms/step\n",
            "1/1 [==============================] - 0s 20ms/step\n",
            "1/1 [==============================] - 0s 21ms/step\n",
            "1/1 [==============================] - 0s 20ms/step\n",
            "1/1 [==============================] - 0s 19ms/step\n",
            "1/1 [==============================] - 0s 19ms/step\n",
            "1/1 [==============================] - 0s 20ms/step\n",
            "1/1 [==============================] - 0s 21ms/step\n",
            "1/1 [==============================] - 0s 20ms/step\n",
            "1/1 [==============================] - 0s 20ms/step\n",
            "1/1 [==============================] - 0s 19ms/step\n",
            "1/1 [==============================] - 0s 19ms/step\n",
            "1/1 [==============================] - 0s 20ms/step\n",
            "1/1 [==============================] - 0s 20ms/step\n",
            "1/1 [==============================] - 0s 19ms/step\n",
            "1/1 [==============================] - 0s 20ms/step\n",
            "1/1 [==============================] - 0s 19ms/step\n",
            "1/1 [==============================] - 0s 19ms/step\n",
            "1/1 [==============================] - 0s 20ms/step\n",
            "1/1 [==============================] - 0s 20ms/step\n",
            "1/1 [==============================] - 0s 19ms/step\n",
            "1/1 [==============================] - 0s 19ms/step\n",
            "1/1 [==============================] - 0s 20ms/step\n",
            "1/1 [==============================] - 0s 20ms/step\n",
            "1/1 [==============================] - 0s 21ms/step\n",
            "1/1 [==============================] - 0s 20ms/step\n",
            "1/1 [==============================] - 0s 19ms/step\n",
            "1/1 [==============================] - 0s 20ms/step\n",
            "1/1 [==============================] - 0s 20ms/step\n",
            "1/1 [==============================] - 0s 20ms/step\n",
            "1/1 [==============================] - 0s 21ms/step\n",
            "1/1 [==============================] - 0s 21ms/step\n",
            "1/1 [==============================] - 0s 22ms/step\n",
            "1/1 [==============================] - 0s 20ms/step\n",
            "1/1 [==============================] - 0s 20ms/step\n",
            "1/1 [==============================] - 0s 20ms/step\n",
            "1/1 [==============================] - 0s 20ms/step\n",
            "1/1 [==============================] - 0s 20ms/step\n",
            "1/1 [==============================] - 0s 20ms/step\n",
            "1/1 [==============================] - 0s 20ms/step\n",
            "1/1 [==============================] - 0s 20ms/step\n",
            "1/1 [==============================] - 0s 20ms/step\n",
            "1/1 [==============================] - 0s 21ms/step\n",
            "1/1 [==============================] - 0s 20ms/step\n",
            "1/1 [==============================] - 0s 21ms/step\n",
            "1/1 [==============================] - 0s 22ms/step\n",
            "1/1 [==============================] - 0s 20ms/step\n",
            "1/1 [==============================] - 0s 20ms/step\n",
            "1/1 [==============================] - 0s 20ms/step\n",
            "1/1 [==============================] - 0s 19ms/step\n",
            "1/1 [==============================] - 0s 19ms/step\n",
            "1/1 [==============================] - 0s 20ms/step\n",
            "1/1 [==============================] - 0s 23ms/step\n",
            "1/1 [==============================] - 0s 20ms/step\n",
            "1/1 [==============================] - 0s 21ms/step\n",
            "1/1 [==============================] - 0s 21ms/step\n",
            "1/1 [==============================] - 0s 21ms/step\n",
            "1/1 [==============================] - 0s 20ms/step\n",
            "1/1 [==============================] - 0s 20ms/step\n",
            "1/1 [==============================] - 0s 20ms/step\n",
            "1/1 [==============================] - 0s 21ms/step\n",
            "1/1 [==============================] - 0s 20ms/step\n",
            "1/1 [==============================] - 0s 20ms/step\n",
            "1/1 [==============================] - 0s 19ms/step\n",
            "1/1 [==============================] - 0s 20ms/step\n",
            "1/1 [==============================] - 0s 21ms/step\n",
            "1/1 [==============================] - 0s 20ms/step\n",
            "1/1 [==============================] - 0s 20ms/step\n",
            "1/1 [==============================] - 0s 22ms/step\n",
            "1/1 [==============================] - 0s 21ms/step\n",
            "1/1 [==============================] - 0s 22ms/step\n",
            "1/1 [==============================] - 0s 21ms/step\n",
            "1/1 [==============================] - 0s 20ms/step\n",
            "1/1 [==============================] - 0s 22ms/step\n",
            "1/1 [==============================] - 0s 20ms/step\n",
            "1/1 [==============================] - 0s 21ms/step\n",
            "1/1 [==============================] - 0s 22ms/step\n",
            "1/1 [==============================] - 0s 21ms/step\n",
            "1/1 [==============================] - 0s 21ms/step\n",
            "1/1 [==============================] - 0s 22ms/step\n",
            "1/1 [==============================] - 0s 20ms/step\n",
            "1/1 [==============================] - 0s 20ms/step\n",
            "1/1 [==============================] - 0s 20ms/step\n",
            "1/1 [==============================] - 0s 20ms/step\n",
            "1/1 [==============================] - 0s 20ms/step\n",
            "1/1 [==============================] - 0s 21ms/step\n",
            "1/1 [==============================] - 0s 22ms/step\n",
            "1/1 [==============================] - 0s 21ms/step\n",
            "1/1 [==============================] - 0s 21ms/step\n",
            "1/1 [==============================] - 0s 20ms/step\n",
            "1/1 [==============================] - 0s 20ms/step\n",
            "1/1 [==============================] - 0s 19ms/step\n",
            "1/1 [==============================] - 0s 20ms/step\n",
            "1/1 [==============================] - 0s 20ms/step\n",
            "1/1 [==============================] - 0s 19ms/step\n",
            "1/1 [==============================] - 0s 20ms/step\n",
            "1/1 [==============================] - 0s 20ms/step\n",
            "1/1 [==============================] - 0s 20ms/step\n",
            "1/1 [==============================] - 0s 19ms/step\n",
            "1/1 [==============================] - 0s 20ms/step\n",
            "1/1 [==============================] - 0s 19ms/step\n",
            "1/1 [==============================] - 0s 20ms/step\n",
            "1/1 [==============================] - 0s 19ms/step\n",
            "1/1 [==============================] - 0s 20ms/step\n",
            "1/1 [==============================] - 0s 20ms/step\n",
            "1/1 [==============================] - 0s 20ms/step\n",
            "1/1 [==============================] - 0s 19ms/step\n",
            "1/1 [==============================] - 0s 20ms/step\n",
            "1/1 [==============================] - 0s 20ms/step\n",
            "1/1 [==============================] - 0s 20ms/step\n",
            "1/1 [==============================] - 0s 22ms/step\n",
            "1/1 [==============================] - 0s 21ms/step\n",
            "1/1 [==============================] - 0s 20ms/step\n",
            "1/1 [==============================] - 0s 21ms/step\n",
            "1/1 [==============================] - 0s 20ms/step\n",
            "1/1 [==============================] - 0s 21ms/step\n",
            "1/1 [==============================] - 0s 20ms/step\n",
            "1/1 [==============================] - 0s 20ms/step\n",
            "1/1 [==============================] - 0s 19ms/step\n",
            "1/1 [==============================] - 0s 19ms/step\n",
            "1/1 [==============================] - 0s 19ms/step\n",
            "1/1 [==============================] - 0s 20ms/step\n",
            "1/1 [==============================] - 0s 20ms/step\n",
            "1/1 [==============================] - 0s 21ms/step\n",
            "1/1 [==============================] - 0s 19ms/step\n",
            "1/1 [==============================] - 0s 19ms/step\n",
            "1/1 [==============================] - 0s 20ms/step\n",
            "1/1 [==============================] - 0s 20ms/step\n",
            "1/1 [==============================] - 0s 20ms/step\n",
            "1/1 [==============================] - 0s 19ms/step\n",
            "1/1 [==============================] - 0s 20ms/step\n",
            "1/1 [==============================] - 0s 20ms/step\n",
            "1/1 [==============================] - 0s 20ms/step\n",
            "1/1 [==============================] - 0s 20ms/step\n",
            "1/1 [==============================] - 0s 19ms/step\n",
            "1/1 [==============================] - 0s 21ms/step\n",
            "1/1 [==============================] - 0s 20ms/step\n",
            "1/1 [==============================] - 0s 20ms/step\n",
            "1/1 [==============================] - 0s 19ms/step\n",
            "1/1 [==============================] - 0s 19ms/step\n",
            "1/1 [==============================] - 0s 22ms/step\n",
            "1/1 [==============================] - 0s 21ms/step\n",
            "1/1 [==============================] - 0s 21ms/step\n",
            "1/1 [==============================] - 0s 19ms/step\n",
            "1/1 [==============================] - 0s 20ms/step\n",
            "1/1 [==============================] - 0s 19ms/step\n",
            "1/1 [==============================] - 0s 20ms/step\n",
            "1/1 [==============================] - 0s 19ms/step\n",
            "1/1 [==============================] - 0s 21ms/step\n",
            "1/1 [==============================] - 0s 21ms/step\n",
            "1/1 [==============================] - 0s 21ms/step\n",
            "1/1 [==============================] - 0s 21ms/step\n",
            "1/1 [==============================] - 0s 21ms/step\n",
            "1/1 [==============================] - 0s 21ms/step\n",
            "1/1 [==============================] - 0s 21ms/step\n"
          ]
        },
        {
          "name": "stderr",
          "output_type": "stream",
          "text": [
            "2023-05-31 03:04:47 633684638fd9 root[1152] DEBUG Buy at: $38245.61\n"
          ]
        },
        {
          "name": "stdout",
          "output_type": "stream",
          "text": [
            "1/1 [==============================] - 0s 20ms/step\n"
          ]
        },
        {
          "name": "stderr",
          "output_type": "stream",
          "text": [
            "2023-05-31 03:04:47 633684638fd9 root[1152] DEBUG Sell at: $38328.03 | Position: +$82.42\n"
          ]
        },
        {
          "name": "stdout",
          "output_type": "stream",
          "text": [
            "1/1 [==============================] - 0s 19ms/step\n",
            "1/1 [==============================] - 0s 20ms/step\n",
            "1/1 [==============================] - 0s 21ms/step\n",
            "1/1 [==============================] - 0s 20ms/step\n",
            "1/1 [==============================] - 0s 20ms/step\n",
            "1/1 [==============================] - 0s 19ms/step\n",
            "1/1 [==============================] - 0s 19ms/step\n",
            "1/1 [==============================] - 0s 20ms/step\n",
            "1/1 [==============================] - 0s 19ms/step\n",
            "1/1 [==============================] - 0s 20ms/step\n",
            "1/1 [==============================] - 0s 20ms/step\n",
            "1/1 [==============================] - 0s 20ms/step\n",
            "1/1 [==============================] - 0s 20ms/step\n",
            "1/1 [==============================] - 0s 20ms/step\n",
            "1/1 [==============================] - 0s 19ms/step\n",
            "1/1 [==============================] - 0s 19ms/step\n",
            "1/1 [==============================] - 0s 20ms/step\n",
            "1/1 [==============================] - 0s 19ms/step\n",
            "1/1 [==============================] - 0s 19ms/step\n",
            "1/1 [==============================] - 0s 19ms/step\n",
            "1/1 [==============================] - 0s 20ms/step\n",
            "1/1 [==============================] - 0s 21ms/step\n",
            "1/1 [==============================] - 0s 19ms/step\n",
            "1/1 [==============================] - 0s 20ms/step\n",
            "1/1 [==============================] - 0s 19ms/step\n",
            "1/1 [==============================] - 0s 19ms/step\n",
            "1/1 [==============================] - 0s 19ms/step\n",
            "1/1 [==============================] - 0s 19ms/step\n",
            "1/1 [==============================] - 0s 19ms/step\n",
            "1/1 [==============================] - 0s 21ms/step\n",
            "1/1 [==============================] - 0s 20ms/step\n",
            "1/1 [==============================] - 0s 19ms/step\n",
            "1/1 [==============================] - 0s 19ms/step\n",
            "1/1 [==============================] - 0s 20ms/step\n",
            "1/1 [==============================] - 0s 19ms/step\n",
            "1/1 [==============================] - 0s 19ms/step\n",
            "1/1 [==============================] - 0s 20ms/step\n",
            "1/1 [==============================] - 0s 21ms/step\n",
            "1/1 [==============================] - 0s 21ms/step\n",
            "1/1 [==============================] - 0s 19ms/step\n",
            "1/1 [==============================] - 0s 20ms/step\n",
            "1/1 [==============================] - 0s 20ms/step\n",
            "1/1 [==============================] - 0s 19ms/step\n",
            "1/1 [==============================] - 0s 19ms/step\n",
            "1/1 [==============================] - 0s 19ms/step\n",
            "1/1 [==============================] - 0s 19ms/step\n",
            "1/1 [==============================] - 0s 20ms/step\n",
            "1/1 [==============================] - 0s 20ms/step\n",
            "1/1 [==============================] - 0s 20ms/step\n",
            "1/1 [==============================] - 0s 20ms/step\n",
            "1/1 [==============================] - 0s 19ms/step\n",
            "1/1 [==============================] - 0s 20ms/step\n",
            "1/1 [==============================] - 0s 19ms/step\n",
            "1/1 [==============================] - 0s 20ms/step\n",
            "1/1 [==============================] - 0s 21ms/step\n",
            "1/1 [==============================] - 0s 21ms/step\n",
            "1/1 [==============================] - 0s 20ms/step\n",
            "1/1 [==============================] - 0s 19ms/step\n",
            "1/1 [==============================] - 0s 19ms/step\n",
            "1/1 [==============================] - 0s 20ms/step\n",
            "1/1 [==============================] - 0s 20ms/step\n",
            "1/1 [==============================] - 0s 19ms/step\n",
            "1/1 [==============================] - 0s 20ms/step\n",
            "1/1 [==============================] - 0s 21ms/step\n",
            "1/1 [==============================] - 0s 20ms/step\n",
            "1/1 [==============================] - 0s 19ms/step\n",
            "1/1 [==============================] - 0s 20ms/step\n",
            "1/1 [==============================] - 0s 20ms/step\n",
            "1/1 [==============================] - 0s 20ms/step\n",
            "1/1 [==============================] - 0s 19ms/step\n",
            "1/1 [==============================] - 0s 20ms/step\n",
            "1/1 [==============================] - 0s 19ms/step\n",
            "1/1 [==============================] - 0s 19ms/step\n",
            "1/1 [==============================] - 0s 21ms/step\n",
            "1/1 [==============================] - 0s 20ms/step\n",
            "1/1 [==============================] - 0s 20ms/step\n",
            "1/1 [==============================] - 0s 19ms/step\n",
            "1/1 [==============================] - 0s 19ms/step\n"
          ]
        },
        {
          "name": "stderr",
          "output_type": "stream",
          "text": [
            "2023-05-31 03:04:51 633684638fd9 root[1152] INFO model_BTC_2021: +$242.08\n",
            "\n"
          ]
        }
      ],
      "source": [
        "coloredlogs.install(level='DEBUG')\n",
        "switch_k_backend_device()\n",
        "\n",
        "test_data = get_stock_data(test_stock)[:int(len(df)*0.002)]\n",
        "initial_offset = test_data[1] - test_data[0]\n",
        "\n",
        "test_result, history = evaluate_model(agent, test_data, window_size, debug)\n",
        "show_eval_result(model_name, test_result, initial_offset)"
      ]
    },
    {
      "cell_type": "code",
      "execution_count": null,
      "metadata": {
        "colab": {
          "base_uri": "https://localhost:8080/",
          "height": 614
        },
        "id": "Tawj_BCQ82Ab",
        "outputId": "dc2eb7c0-43d3-4906-dbce-75b5b1a7fcbc"
      },
      "outputs": [
        {
          "name": "stderr",
          "output_type": "stream",
          "text": [
            "<ipython-input-17-09db1cc8c2ab>:5: SettingWithCopyWarning: \n",
            "A value is trying to be set on a copy of a slice from a DataFrame.\n",
            "Try using .loc[row_indexer,col_indexer] = value instead\n",
            "\n",
            "See the caveats in the documentation: https://pandas.pydata.org/pandas-docs/stable/user_guide/indexing.html#returning-a-view-versus-a-copy\n",
            "  df['position'] = position\n",
            "<ipython-input-17-09db1cc8c2ab>:6: SettingWithCopyWarning: \n",
            "A value is trying to be set on a copy of a slice from a DataFrame.\n",
            "Try using .loc[row_indexer,col_indexer] = value instead\n",
            "\n",
            "See the caveats in the documentation: https://pandas.pydata.org/pandas-docs/stable/user_guide/indexing.html#returning-a-view-versus-a-copy\n",
            "  df['action'] = actions\n"
          ]
        },
        {
          "data": {
            "text/html": [
              "\n",
              "<div id=\"altair-viz-59b8ef1f26ee46aaab8af1a54ae5ab30\"></div>\n",
              "<script type=\"text/javascript\">\n",
              "  var VEGA_DEBUG = (typeof VEGA_DEBUG == \"undefined\") ? {} : VEGA_DEBUG;\n",
              "  (function(spec, embedOpt){\n",
              "    let outputDiv = document.currentScript.previousElementSibling;\n",
              "    if (outputDiv.id !== \"altair-viz-59b8ef1f26ee46aaab8af1a54ae5ab30\") {\n",
              "      outputDiv = document.getElementById(\"altair-viz-59b8ef1f26ee46aaab8af1a54ae5ab30\");\n",
              "    }\n",
              "    const paths = {\n",
              "      \"vega\": \"https://cdn.jsdelivr.net/npm//vega@5?noext\",\n",
              "      \"vega-lib\": \"https://cdn.jsdelivr.net/npm//vega-lib?noext\",\n",
              "      \"vega-lite\": \"https://cdn.jsdelivr.net/npm//vega-lite@4.17.0?noext\",\n",
              "      \"vega-embed\": \"https://cdn.jsdelivr.net/npm//vega-embed@6?noext\",\n",
              "    };\n",
              "\n",
              "    function maybeLoadScript(lib, version) {\n",
              "      var key = `${lib.replace(\"-\", \"\")}_version`;\n",
              "      return (VEGA_DEBUG[key] == version) ?\n",
              "        Promise.resolve(paths[lib]) :\n",
              "        new Promise(function(resolve, reject) {\n",
              "          var s = document.createElement('script');\n",
              "          document.getElementsByTagName(\"head\")[0].appendChild(s);\n",
              "          s.async = true;\n",
              "          s.onload = () => {\n",
              "            VEGA_DEBUG[key] = version;\n",
              "            return resolve(paths[lib]);\n",
              "          };\n",
              "          s.onerror = () => reject(`Error loading script: ${paths[lib]}`);\n",
              "          s.src = paths[lib];\n",
              "        });\n",
              "    }\n",
              "\n",
              "    function showError(err) {\n",
              "      outputDiv.innerHTML = `<div class=\"error\" style=\"color:red;\">${err}</div>`;\n",
              "      throw err;\n",
              "    }\n",
              "\n",
              "    function displayChart(vegaEmbed) {\n",
              "      vegaEmbed(outputDiv, spec, embedOpt)\n",
              "        .catch(err => showError(`Javascript Error: ${err.message}<br>This usually means there's a typo in your chart specification. See the javascript console for the full traceback.`));\n",
              "    }\n",
              "\n",
              "    if(typeof define === \"function\" && define.amd) {\n",
              "      requirejs.config({paths});\n",
              "      require([\"vega-embed\"], displayChart, err => showError(`Error loading script: ${err.message}`));\n",
              "    } else {\n",
              "      maybeLoadScript(\"vega\", \"5\")\n",
              "        .then(() => maybeLoadScript(\"vega-lite\", \"4.17.0\"))\n",
              "        .then(() => maybeLoadScript(\"vega-embed\", \"6\"))\n",
              "        .catch(showError)\n",
              "        .then(() => displayChart(vegaEmbed));\n",
              "    }\n",
              "  })({\"config\": {\"view\": {\"continuousWidth\": 400, \"continuousHeight\": 300}}, \"layer\": [{\"mark\": {\"type\": \"line\", \"color\": \"green\", \"opacity\": 0.5}, \"encoding\": {\"x\": {\"field\": \"date\", \"type\": \"temporal\"}, \"y\": {\"axis\": {\"format\": \"$.2f\", \"title\": \"Price\"}, \"field\": \"position\", \"scale\": {\"clamp\": true, \"domain\": [37916.46, 44147.13]}, \"type\": \"quantitative\"}}, \"selection\": {\"selector015\": {\"type\": \"interval\", \"bind\": \"scales\", \"encodings\": [\"x\"]}}}, {\"mark\": {\"type\": \"point\", \"filled\": true}, \"encoding\": {\"color\": {\"field\": \"action\", \"type\": \"nominal\"}, \"x\": {\"axis\": {\"title\": \"Date\"}, \"field\": \"date\", \"type\": \"temporal\"}, \"y\": {\"axis\": {\"format\": \"$.2f\", \"title\": \"Price\"}, \"field\": \"position\", \"scale\": {\"clamp\": true, \"domain\": [37916.46, 44147.13]}, \"type\": \"quantitative\"}}, \"selection\": {\"selector016\": {\"type\": \"interval\", \"bind\": \"scales\", \"encodings\": [\"x\"]}}, \"transform\": [{\"filter\": \"(datum.action !== 'HOLD')\"}]}], \"data\": {\"name\": \"data-e8e25f625c3d214e091ddceb0bda463f\"}, \"height\": 300, \"title\": \"./dataset/archive/BTC-2021min.csv\", \"width\": 1000, \"$schema\": \"https://vega.github.io/schema/vega-lite/v4.17.0.json\", \"datasets\": {\"data-e8e25f625c3d214e091ddceb0bda463f\": [{\"date\": \"2022-03-01T03:43:00\", \"actual\": 43046.58, \"position\": 43046.58, \"action\": \"HOLD\"}, {\"date\": \"2022-03-01T03:41:00\", \"actual\": 43046.58, \"position\": 43046.58, \"action\": \"BUY\"}, {\"date\": \"2022-03-01T03:40:00\", \"actual\": 43016.03, \"position\": 43046.58, \"action\": \"SELL\"}, {\"date\": \"2022-03-01T03:39:00\", \"actual\": 42999.44, \"position\": 43016.03, \"action\": \"HOLD\"}, {\"date\": \"2022-03-01T03:38:00\", \"actual\": 43049.46, \"position\": 42999.44, \"action\": \"HOLD\"}, {\"date\": \"2022-03-01T03:37:00\", \"actual\": 43088.92, \"position\": 43049.46, \"action\": \"HOLD\"}, {\"date\": \"2022-03-01T03:36:00\", \"actual\": 43090.55, \"position\": 43088.92, \"action\": \"HOLD\"}, {\"date\": \"2022-03-01T03:35:00\", \"actual\": 43083.17, \"position\": 43090.55, \"action\": \"HOLD\"}, {\"date\": \"2022-03-01T03:34:00\", \"actual\": 43098.42, \"position\": 43083.17, \"action\": \"HOLD\"}, {\"date\": \"2022-03-01T03:33:00\", \"actual\": 43098.42, \"position\": 43098.42, \"action\": \"HOLD\"}, {\"date\": \"2022-03-01T03:32:00\", \"actual\": 43107.67, \"position\": 43098.42, \"action\": \"HOLD\"}, {\"date\": \"2022-03-01T03:31:00\", \"actual\": 43107.67, \"position\": 43107.67, \"action\": \"HOLD\"}, {\"date\": \"2022-03-01T03:30:00\", \"actual\": 43093.52, \"position\": 43107.67, \"action\": \"HOLD\"}, {\"date\": \"2022-03-01T03:29:00\", \"actual\": 43065.82, \"position\": 43093.52, \"action\": \"HOLD\"}, {\"date\": \"2022-03-01T03:28:00\", \"actual\": 43047.74, \"position\": 43065.82, \"action\": \"HOLD\"}, {\"date\": \"2022-03-01T03:27:00\", \"actual\": 42976.12, \"position\": 43047.74, \"action\": \"HOLD\"}, {\"date\": \"2022-03-01T03:26:00\", \"actual\": 42960.8, \"position\": 42976.12, \"action\": \"HOLD\"}, {\"date\": \"2022-03-01T03:25:00\", \"actual\": 43002.3, \"position\": 42960.8, \"action\": \"HOLD\"}, {\"date\": \"2022-03-01T03:24:00\", \"actual\": 43030.53, \"position\": 43002.3, \"action\": \"HOLD\"}, {\"date\": \"2022-03-01T03:23:00\", \"actual\": 43011.93, \"position\": 43030.53, \"action\": \"HOLD\"}, {\"date\": \"2022-03-01T03:22:00\", \"actual\": 43009.83, \"position\": 43011.93, \"action\": \"HOLD\"}, {\"date\": \"2022-03-01T03:21:00\", \"actual\": 42983.81, \"position\": 43009.83, \"action\": \"HOLD\"}, {\"date\": \"2022-03-01T03:20:00\", \"actual\": 42984.45, \"position\": 42983.81, \"action\": \"BUY\"}, {\"date\": \"2022-03-01T03:19:00\", \"actual\": 42982.96, \"position\": 42984.45, \"action\": \"SELL\"}, {\"date\": \"2022-03-01T03:18:00\", \"actual\": 42939.95, \"position\": 42982.96, \"action\": \"HOLD\"}, {\"date\": \"2022-03-01T03:17:00\", \"actual\": 42920.46, \"position\": 42939.95, \"action\": \"HOLD\"}, {\"date\": \"2022-03-01T03:16:00\", \"actual\": 42981.47, \"position\": 42920.46, \"action\": \"HOLD\"}, {\"date\": \"2022-03-01T03:15:00\", \"actual\": 42986.98, \"position\": 42981.47, \"action\": \"HOLD\"}, {\"date\": \"2022-03-01T03:14:00\", \"actual\": 42973.47, \"position\": 42986.98, \"action\": \"HOLD\"}, {\"date\": \"2022-03-01T03:13:00\", \"actual\": 43031.39, \"position\": 42973.47, \"action\": \"HOLD\"}, {\"date\": \"2022-03-01T03:12:00\", \"actual\": 43049.5, \"position\": 43031.39, \"action\": \"HOLD\"}, {\"date\": \"2022-03-01T03:11:00\", \"actual\": 43093.02, \"position\": 43049.5, \"action\": \"HOLD\"}, {\"date\": \"2022-03-01T03:10:00\", \"actual\": 43088.9, \"position\": 43093.02, \"action\": \"HOLD\"}, {\"date\": \"2022-03-01T03:09:00\", \"actual\": 43044.8, \"position\": 43088.9, \"action\": \"HOLD\"}, {\"date\": \"2022-03-01T03:08:00\", \"actual\": 43109.3, \"position\": 43044.8, \"action\": \"HOLD\"}, {\"date\": \"2022-03-01T03:07:00\", \"actual\": 43098.99, \"position\": 43109.3, \"action\": \"HOLD\"}, {\"date\": \"2022-03-01T03:06:00\", \"actual\": 43088.98, \"position\": 43098.99, \"action\": \"HOLD\"}, {\"date\": \"2022-03-01T03:05:00\", \"actual\": 43088.7, \"position\": 43088.98, \"action\": \"HOLD\"}, {\"date\": \"2022-03-01T03:04:00\", \"actual\": 43103.01, \"position\": 43088.7, \"action\": \"HOLD\"}, {\"date\": \"2022-03-01T03:03:00\", \"actual\": 43104.5, \"position\": 43103.01, \"action\": \"HOLD\"}, {\"date\": \"2022-03-01T03:02:00\", \"actual\": 43130.33, \"position\": 43104.5, \"action\": \"HOLD\"}, {\"date\": \"2022-03-01T03:01:00\", \"actual\": 43142.0, \"position\": 43130.33, \"action\": \"HOLD\"}, {\"date\": \"2022-03-01T03:00:00\", \"actual\": 43161.21, \"position\": 43142.0, \"action\": \"HOLD\"}, {\"date\": \"2022-03-01T02:59:00\", \"actual\": 43161.09, \"position\": 43161.21, \"action\": \"BUY\"}, {\"date\": \"2022-03-01T02:58:00\", \"actual\": 43175.73, \"position\": 43161.09, \"action\": \"SELL\"}, {\"date\": \"2022-03-01T02:57:00\", \"actual\": 43154.82, \"position\": 43175.73, \"action\": \"HOLD\"}, {\"date\": \"2022-03-01T02:56:00\", \"actual\": 43169.63, \"position\": 43154.82, \"action\": \"HOLD\"}, {\"date\": \"2022-03-01T02:55:00\", \"actual\": 43137.22, \"position\": 43169.63, \"action\": \"HOLD\"}, {\"date\": \"2022-03-01T02:54:00\", \"actual\": 43113.31, \"position\": 43137.22, \"action\": \"HOLD\"}, {\"date\": \"2022-03-01T02:53:00\", \"actual\": 43120.8, \"position\": 43113.31, \"action\": \"HOLD\"}, {\"date\": \"2022-03-01T02:52:00\", \"actual\": 43143.52, \"position\": 43120.8, \"action\": \"HOLD\"}, {\"date\": \"2022-03-01T02:51:00\", \"actual\": 43091.2, \"position\": 43143.52, \"action\": \"HOLD\"}, {\"date\": \"2022-03-01T02:50:00\", \"actual\": 43122.71, \"position\": 43091.2, \"action\": \"HOLD\"}, {\"date\": \"2022-03-01T02:49:00\", \"actual\": 43107.8, \"position\": 43122.71, \"action\": \"HOLD\"}, {\"date\": \"2022-03-01T02:48:00\", \"actual\": 43137.22, \"position\": 43107.8, \"action\": \"HOLD\"}, {\"date\": \"2022-03-01T02:47:00\", \"actual\": 43151.22, \"position\": 43137.22, \"action\": \"HOLD\"}, {\"date\": \"2022-03-01T02:46:00\", \"actual\": 43147.7, \"position\": 43151.22, \"action\": \"HOLD\"}, {\"date\": \"2022-03-01T02:45:00\", \"actual\": 43137.61, \"position\": 43147.7, \"action\": \"HOLD\"}, {\"date\": \"2022-03-01T02:44:00\", \"actual\": 43133.69, \"position\": 43137.61, \"action\": \"HOLD\"}, {\"date\": \"2022-03-01T02:43:00\", \"actual\": 43130.43, \"position\": 43133.69, \"action\": \"HOLD\"}, {\"date\": \"2022-03-01T02:42:00\", \"actual\": 43125.61, \"position\": 43130.43, \"action\": \"HOLD\"}, {\"date\": \"2022-03-01T02:41:00\", \"actual\": 43125.32, \"position\": 43125.61, \"action\": \"HOLD\"}, {\"date\": \"2022-03-01T02:40:00\", \"actual\": 43118.91, \"position\": 43125.32, \"action\": \"HOLD\"}, {\"date\": \"2022-03-01T02:39:00\", \"actual\": 43103.4, \"position\": 43118.91, \"action\": \"HOLD\"}, {\"date\": \"2022-03-01T02:38:00\", \"actual\": 43103.4, \"position\": 43103.4, \"action\": \"HOLD\"}, {\"date\": \"2022-03-01T02:37:00\", \"actual\": 43125.69, \"position\": 43103.4, \"action\": \"HOLD\"}, {\"date\": \"2022-03-01T02:36:00\", \"actual\": 43118.31, \"position\": 43125.69, \"action\": \"HOLD\"}, {\"date\": \"2022-03-01T02:35:00\", \"actual\": 43091.17, \"position\": 43118.31, \"action\": \"HOLD\"}, {\"date\": \"2022-03-01T02:34:00\", \"actual\": 43084.5, \"position\": 43091.17, \"action\": \"HOLD\"}, {\"date\": \"2022-03-01T02:33:00\", \"actual\": 43071.75, \"position\": 43084.5, \"action\": \"HOLD\"}, {\"date\": \"2022-03-01T02:32:00\", \"actual\": 43026.72, \"position\": 43071.75, \"action\": \"HOLD\"}, {\"date\": \"2022-03-01T02:31:00\", \"actual\": 43024.5, \"position\": 43026.72, \"action\": \"HOLD\"}, {\"date\": \"2022-03-01T02:30:00\", \"actual\": 43036.61, \"position\": 43024.5, \"action\": \"HOLD\"}, {\"date\": \"2022-03-01T02:29:00\", \"actual\": 43083.5, \"position\": 43036.61, \"action\": \"HOLD\"}, {\"date\": \"2022-03-01T02:28:00\", \"actual\": 43065.39, \"position\": 43083.5, \"action\": \"HOLD\"}, {\"date\": \"2022-03-01T02:27:00\", \"actual\": 43103.32, \"position\": 43065.39, \"action\": \"BUY\"}, {\"date\": \"2022-03-01T02:26:00\", \"actual\": 43194.13, \"position\": 43103.32, \"action\": \"SELL\"}, {\"date\": \"2022-03-01T02:25:00\", \"actual\": 43223.14, \"position\": 43194.13, \"action\": \"HOLD\"}, {\"date\": \"2022-03-01T02:24:00\", \"actual\": 43234.03, \"position\": 43223.14, \"action\": \"HOLD\"}, {\"date\": \"2022-03-01T02:23:00\", \"actual\": 43234.03, \"position\": 43234.03, \"action\": \"HOLD\"}, {\"date\": \"2022-03-01T02:22:00\", \"actual\": 43233.7, \"position\": 43234.03, \"action\": \"HOLD\"}, {\"date\": \"2022-03-01T02:21:00\", \"actual\": 43174.67, \"position\": 43233.7, \"action\": \"HOLD\"}, {\"date\": \"2022-03-01T02:20:00\", \"actual\": 43178.1, \"position\": 43174.67, \"action\": \"HOLD\"}, {\"date\": \"2022-03-01T02:19:00\", \"actual\": 43188.09, \"position\": 43178.1, \"action\": \"HOLD\"}, {\"date\": \"2022-03-01T02:18:00\", \"actual\": 43197.83, \"position\": 43188.09, \"action\": \"HOLD\"}, {\"date\": \"2022-03-01T02:17:00\", \"actual\": 43138.52, \"position\": 43197.83, \"action\": \"HOLD\"}, {\"date\": \"2022-03-01T02:16:00\", \"actual\": 43107.31, \"position\": 43138.52, \"action\": \"HOLD\"}, {\"date\": \"2022-03-01T02:15:00\", \"actual\": 43009.25, \"position\": 43107.31, \"action\": \"HOLD\"}, {\"date\": \"2022-03-01T02:14:00\", \"actual\": 43116.71, \"position\": 43009.25, \"action\": \"HOLD\"}, {\"date\": \"2022-03-01T02:13:00\", \"actual\": 43136.62, \"position\": 43116.71, \"action\": \"HOLD\"}, {\"date\": \"2022-03-01T02:12:00\", \"actual\": 43115.19, \"position\": 43136.62, \"action\": \"HOLD\"}, {\"date\": \"2022-03-01T02:11:00\", \"actual\": 43148.29, \"position\": 43115.19, \"action\": \"HOLD\"}, {\"date\": \"2022-03-01T02:10:00\", \"actual\": 43142.97, \"position\": 43148.29, \"action\": \"HOLD\"}, {\"date\": \"2022-03-01T02:09:00\", \"actual\": 43139.57, \"position\": 43142.97, \"action\": \"HOLD\"}, {\"date\": \"2022-03-01T02:08:00\", \"actual\": 43182.73, \"position\": 43139.57, \"action\": \"HOLD\"}, {\"date\": \"2022-03-01T02:07:00\", \"actual\": 43192.08, \"position\": 43182.73, \"action\": \"HOLD\"}, {\"date\": \"2022-03-01T02:06:00\", \"actual\": 43162.42, \"position\": 43192.08, \"action\": \"HOLD\"}, {\"date\": \"2022-03-01T02:05:00\", \"actual\": 43190.03, \"position\": 43162.42, \"action\": \"HOLD\"}, {\"date\": \"2022-03-01T02:04:00\", \"actual\": 43229.85, \"position\": 43190.03, \"action\": \"HOLD\"}, {\"date\": \"2022-03-01T02:03:00\", \"actual\": 43234.81, \"position\": 43229.85, \"action\": \"HOLD\"}, {\"date\": \"2022-03-01T02:02:00\", \"actual\": 43263.05, \"position\": 43234.81, \"action\": \"HOLD\"}, {\"date\": \"2022-03-01T02:01:00\", \"actual\": 43287.82, \"position\": 43263.05, \"action\": \"HOLD\"}, {\"date\": \"2022-03-01T02:00:00\", \"actual\": 43296.76, \"position\": 43287.82, \"action\": \"HOLD\"}, {\"date\": \"2022-03-01T01:59:00\", \"actual\": 43296.36, \"position\": 43296.76, \"action\": \"HOLD\"}, {\"date\": \"2022-03-01T01:58:00\", \"actual\": 43258.75, \"position\": 43296.36, \"action\": \"HOLD\"}, {\"date\": \"2022-03-01T01:57:00\", \"actual\": 43273.95, \"position\": 43258.75, \"action\": \"HOLD\"}, {\"date\": \"2022-03-01T01:56:00\", \"actual\": 43317.96, \"position\": 43273.95, \"action\": \"HOLD\"}, {\"date\": \"2022-03-01T01:55:00\", \"actual\": 43358.68, \"position\": 43317.96, \"action\": \"HOLD\"}, {\"date\": \"2022-03-01T01:54:00\", \"actual\": 43404.59, \"position\": 43358.68, \"action\": \"HOLD\"}, {\"date\": \"2022-03-01T01:53:00\", \"actual\": 43360.73, \"position\": 43404.59, \"action\": \"HOLD\"}, {\"date\": \"2022-03-01T01:52:00\", \"actual\": 43412.42, \"position\": 43360.73, \"action\": \"HOLD\"}, {\"date\": \"2022-03-01T01:51:00\", \"actual\": 43431.39, \"position\": 43412.42, \"action\": \"HOLD\"}, {\"date\": \"2022-03-01T01:50:00\", \"actual\": 43419.49, \"position\": 43431.39, \"action\": \"HOLD\"}, {\"date\": \"2022-03-01T01:49:00\", \"actual\": 43416.49, \"position\": 43419.49, \"action\": \"HOLD\"}, {\"date\": \"2022-03-01T01:48:00\", \"actual\": 43388.38, \"position\": 43416.49, \"action\": \"HOLD\"}, {\"date\": \"2022-03-01T01:47:00\", \"actual\": 43383.03, \"position\": 43388.38, \"action\": \"HOLD\"}, {\"date\": \"2022-03-01T01:46:00\", \"actual\": 43367.56, \"position\": 43383.03, \"action\": \"HOLD\"}, {\"date\": \"2022-03-01T01:45:00\", \"actual\": 43362.48, \"position\": 43367.56, \"action\": \"HOLD\"}, {\"date\": \"2022-03-01T01:44:00\", \"actual\": 43413.91, \"position\": 43362.48, \"action\": \"HOLD\"}, {\"date\": \"2022-03-01T01:43:00\", \"actual\": 43432.54, \"position\": 43413.91, \"action\": \"HOLD\"}, {\"date\": \"2022-03-01T01:42:00\", \"actual\": 43400.84, \"position\": 43432.54, \"action\": \"HOLD\"}, {\"date\": \"2022-03-01T01:41:00\", \"actual\": 43440.83, \"position\": 43400.84, \"action\": \"HOLD\"}, {\"date\": \"2022-03-01T01:40:00\", \"actual\": 43442.8, \"position\": 43440.83, \"action\": \"HOLD\"}, {\"date\": \"2022-03-01T01:39:00\", \"actual\": 43353.36, \"position\": 43442.8, \"action\": \"HOLD\"}, {\"date\": \"2022-03-01T01:38:00\", \"actual\": 43350.24, \"position\": 43353.36, \"action\": \"HOLD\"}, {\"date\": \"2022-03-01T01:37:00\", \"actual\": 43353.46, \"position\": 43350.24, \"action\": \"HOLD\"}, {\"date\": \"2022-03-01T01:36:00\", \"actual\": 43350.77, \"position\": 43353.46, \"action\": \"HOLD\"}, {\"date\": \"2022-03-01T01:35:00\", \"actual\": 43324.1, \"position\": 43350.77, \"action\": \"HOLD\"}, {\"date\": \"2022-03-01T01:34:00\", \"actual\": 43309.34, \"position\": 43324.1, \"action\": \"HOLD\"}, {\"date\": \"2022-03-01T01:33:00\", \"actual\": 43356.64, \"position\": 43309.34, \"action\": \"HOLD\"}, {\"date\": \"2022-03-01T01:32:00\", \"actual\": 43327.54, \"position\": 43356.64, \"action\": \"HOLD\"}, {\"date\": \"2022-03-01T01:31:00\", \"actual\": 43327.77, \"position\": 43327.54, \"action\": \"HOLD\"}, {\"date\": \"2022-03-01T01:30:00\", \"actual\": 43333.36, \"position\": 43327.77, \"action\": \"HOLD\"}, {\"date\": \"2022-03-01T01:29:00\", \"actual\": 43289.21, \"position\": 43333.36, \"action\": \"HOLD\"}, {\"date\": \"2022-03-01T01:28:00\", \"actual\": 43319.76, \"position\": 43289.21, \"action\": \"BUY\"}, {\"date\": \"2022-03-01T01:27:00\", \"actual\": 43290.63, \"position\": 43319.76, \"action\": \"SELL\"}, {\"date\": \"2022-03-01T01:26:00\", \"actual\": 43298.33, \"position\": 43290.63, \"action\": \"HOLD\"}, {\"date\": \"2022-03-01T01:25:00\", \"actual\": 43324.86, \"position\": 43298.33, \"action\": \"HOLD\"}, {\"date\": \"2022-03-01T01:24:00\", \"actual\": 43365.48, \"position\": 43324.86, \"action\": \"HOLD\"}, {\"date\": \"2022-03-01T01:23:00\", \"actual\": 43342.76, \"position\": 43365.48, \"action\": \"HOLD\"}, {\"date\": \"2022-03-01T01:22:00\", \"actual\": 43383.71, \"position\": 43342.76, \"action\": \"HOLD\"}, {\"date\": \"2022-03-01T01:21:00\", \"actual\": 43352.45, \"position\": 43383.71, \"action\": \"HOLD\"}, {\"date\": \"2022-03-01T01:20:00\", \"actual\": 43330.83, \"position\": 43352.45, \"action\": \"HOLD\"}, {\"date\": \"2022-03-01T01:19:00\", \"actual\": 43290.4, \"position\": 43330.83, \"action\": \"HOLD\"}, {\"date\": \"2022-03-01T01:18:00\", \"actual\": 43265.97, \"position\": 43290.4, \"action\": \"HOLD\"}, {\"date\": \"2022-03-01T01:17:00\", \"actual\": 43281.66, \"position\": 43265.97, \"action\": \"HOLD\"}, {\"date\": \"2022-03-01T01:16:00\", \"actual\": 43296.65, \"position\": 43281.66, \"action\": \"HOLD\"}, {\"date\": \"2022-03-01T01:15:00\", \"actual\": 43270.8, \"position\": 43296.65, \"action\": \"HOLD\"}, {\"date\": \"2022-03-01T01:14:00\", \"actual\": 43296.65, \"position\": 43270.8, \"action\": \"HOLD\"}, {\"date\": \"2022-03-01T01:13:00\", \"actual\": 43360.76, \"position\": 43296.65, \"action\": \"HOLD\"}, {\"date\": \"2022-03-01T01:12:00\", \"actual\": 43430.5, \"position\": 43360.76, \"action\": \"HOLD\"}, {\"date\": \"2022-03-01T01:11:00\", \"actual\": 43414.27, \"position\": 43430.5, \"action\": \"HOLD\"}, {\"date\": \"2022-03-01T01:10:00\", \"actual\": 43472.7, \"position\": 43414.27, \"action\": \"HOLD\"}, {\"date\": \"2022-03-01T01:09:00\", \"actual\": 43486.6, \"position\": 43472.7, \"action\": \"HOLD\"}, {\"date\": \"2022-03-01T01:08:00\", \"actual\": 43470.73, \"position\": 43486.6, \"action\": \"HOLD\"}, {\"date\": \"2022-03-01T01:07:00\", \"actual\": 43534.52, \"position\": 43470.73, \"action\": \"HOLD\"}, {\"date\": \"2022-03-01T01:06:00\", \"actual\": 43563.63, \"position\": 43534.52, \"action\": \"HOLD\"}, {\"date\": \"2022-03-01T01:05:00\", \"actual\": 43529.62, \"position\": 43563.63, \"action\": \"HOLD\"}, {\"date\": \"2022-03-01T01:04:00\", \"actual\": 43544.22, \"position\": 43529.62, \"action\": \"HOLD\"}, {\"date\": \"2022-03-01T01:03:00\", \"actual\": 43569.19, \"position\": 43544.22, \"action\": \"HOLD\"}, {\"date\": \"2022-03-01T01:02:00\", \"actual\": 43602.5, \"position\": 43569.19, \"action\": \"HOLD\"}, {\"date\": \"2022-03-01T01:01:00\", \"actual\": 43567.93, \"position\": 43602.5, \"action\": \"HOLD\"}, {\"date\": \"2022-03-01T01:00:00\", \"actual\": 43548.62, \"position\": 43567.93, \"action\": \"HOLD\"}, {\"date\": \"2022-03-01T00:59:00\", \"actual\": 43589.44, \"position\": 43548.62, \"action\": \"HOLD\"}, {\"date\": \"2022-03-01T00:58:00\", \"actual\": 43579.53, \"position\": 43589.44, \"action\": \"HOLD\"}, {\"date\": \"2022-03-01T00:57:00\", \"actual\": 43534.16, \"position\": 43579.53, \"action\": \"HOLD\"}, {\"date\": \"2022-03-01T00:56:00\", \"actual\": 43577.73, \"position\": 43534.16, \"action\": \"HOLD\"}, {\"date\": \"2022-03-01T00:55:00\", \"actual\": 43569.47, \"position\": 43577.73, \"action\": \"HOLD\"}, {\"date\": \"2022-03-01T00:54:00\", \"actual\": 43515.56, \"position\": 43569.47, \"action\": \"HOLD\"}, {\"date\": \"2022-03-01T00:53:00\", \"actual\": 43481.28, \"position\": 43515.56, \"action\": \"HOLD\"}, {\"date\": \"2022-03-01T00:52:00\", \"actual\": 43450.68, \"position\": 43481.28, \"action\": \"HOLD\"}, {\"date\": \"2022-03-01T00:51:00\", \"actual\": 43408.85, \"position\": 43450.68, \"action\": \"HOLD\"}, {\"date\": \"2022-03-01T00:50:00\", \"actual\": 43414.88, \"position\": 43408.85, \"action\": \"HOLD\"}, {\"date\": \"2022-03-01T00:49:00\", \"actual\": 43386.97, \"position\": 43414.88, \"action\": \"HOLD\"}, {\"date\": \"2022-03-01T00:48:00\", \"actual\": 43377.67, \"position\": 43386.97, \"action\": \"HOLD\"}, {\"date\": \"2022-03-01T00:47:00\", \"actual\": 43499.81, \"position\": 43377.67, \"action\": \"HOLD\"}, {\"date\": \"2022-03-01T00:46:00\", \"actual\": 43562.06, \"position\": 43499.81, \"action\": \"HOLD\"}, {\"date\": \"2022-03-01T00:45:00\", \"actual\": 43501.83, \"position\": 43562.06, \"action\": \"HOLD\"}, {\"date\": \"2022-03-01T00:44:00\", \"actual\": 43521.62, \"position\": 43501.83, \"action\": \"HOLD\"}, {\"date\": \"2022-03-01T00:43:00\", \"actual\": 43480.0, \"position\": 43521.62, \"action\": \"HOLD\"}, {\"date\": \"2022-03-01T00:42:00\", \"actual\": 43481.94, \"position\": 43480.0, \"action\": \"HOLD\"}, {\"date\": \"2022-03-01T00:41:00\", \"actual\": 43490.3, \"position\": 43481.94, \"action\": \"HOLD\"}, {\"date\": \"2022-03-01T00:40:00\", \"actual\": 43461.65, \"position\": 43490.3, \"action\": \"HOLD\"}, {\"date\": \"2022-03-01T00:39:00\", \"actual\": 43467.69, \"position\": 43461.65, \"action\": \"HOLD\"}, {\"date\": \"2022-03-01T00:38:00\", \"actual\": 43428.4, \"position\": 43467.69, \"action\": \"HOLD\"}, {\"date\": \"2022-03-01T00:37:00\", \"actual\": 43511.5, \"position\": 43428.4, \"action\": \"HOLD\"}, {\"date\": \"2022-03-01T00:36:00\", \"actual\": 43480.19, \"position\": 43511.5, \"action\": \"HOLD\"}, {\"date\": \"2022-03-01T00:35:00\", \"actual\": 43540.61, \"position\": 43480.19, \"action\": \"HOLD\"}, {\"date\": \"2022-03-01T00:34:00\", \"actual\": 43531.16, \"position\": 43540.61, \"action\": \"HOLD\"}, {\"date\": \"2022-03-01T00:33:00\", \"actual\": 43435.86, \"position\": 43531.16, \"action\": \"HOLD\"}, {\"date\": \"2022-03-01T00:32:00\", \"actual\": 43357.03, \"position\": 43435.86, \"action\": \"HOLD\"}, {\"date\": \"2022-03-01T00:31:00\", \"actual\": 43350.54, \"position\": 43357.03, \"action\": \"HOLD\"}, {\"date\": \"2022-03-01T00:30:00\", \"actual\": 43406.48, \"position\": 43350.54, \"action\": \"HOLD\"}, {\"date\": \"2022-03-01T00:29:00\", \"actual\": 43404.01, \"position\": 43406.48, \"action\": \"HOLD\"}, {\"date\": \"2022-03-01T00:28:00\", \"actual\": 43398.14, \"position\": 43404.01, \"action\": \"HOLD\"}, {\"date\": \"2022-03-01T00:27:00\", \"actual\": 43385.26, \"position\": 43398.14, \"action\": \"HOLD\"}, {\"date\": \"2022-03-01T00:26:00\", \"actual\": 43385.26, \"position\": 43385.26, \"action\": \"HOLD\"}, {\"date\": \"2022-03-01T00:25:00\", \"actual\": 43281.53, \"position\": 43385.26, \"action\": \"HOLD\"}, {\"date\": \"2022-03-01T00:24:00\", \"actual\": 43323.33, \"position\": 43281.53, \"action\": \"HOLD\"}, {\"date\": \"2022-03-01T00:23:00\", \"actual\": 43253.51, \"position\": 43323.33, \"action\": \"HOLD\"}, {\"date\": \"2022-03-01T00:22:00\", \"actual\": 43298.71, \"position\": 43253.51, \"action\": \"HOLD\"}, {\"date\": \"2022-03-01T00:21:00\", \"actual\": 43319.87, \"position\": 43298.71, \"action\": \"HOLD\"}, {\"date\": \"2022-03-01T00:20:00\", \"actual\": 43312.1, \"position\": 43319.87, \"action\": \"HOLD\"}, {\"date\": \"2022-03-01T00:19:00\", \"actual\": 43313.25, \"position\": 43312.1, \"action\": \"HOLD\"}, {\"date\": \"2022-03-01T00:18:00\", \"actual\": 43185.48, \"position\": 43313.25, \"action\": \"HOLD\"}, {\"date\": \"2022-03-01T00:17:00\", \"actual\": 43289.94, \"position\": 43185.48, \"action\": \"HOLD\"}, {\"date\": \"2022-03-01T00:16:00\", \"actual\": 43320.88, \"position\": 43289.94, \"action\": \"HOLD\"}, {\"date\": \"2022-03-01T00:15:00\", \"actual\": 43340.55, \"position\": 43320.88, \"action\": \"HOLD\"}, {\"date\": \"2022-03-01T00:14:00\", \"actual\": 43411.41, \"position\": 43340.55, \"action\": \"HOLD\"}, {\"date\": \"2022-03-01T00:13:00\", \"actual\": 43427.11, \"position\": 43411.41, \"action\": \"HOLD\"}, {\"date\": \"2022-03-01T00:12:00\", \"actual\": 43519.6, \"position\": 43427.11, \"action\": \"HOLD\"}, {\"date\": \"2022-03-01T00:11:00\", \"actual\": 43548.01, \"position\": 43519.6, \"action\": \"HOLD\"}, {\"date\": \"2022-03-01T00:10:00\", \"actual\": 43495.8, \"position\": 43548.01, \"action\": \"HOLD\"}, {\"date\": \"2022-03-01T00:09:00\", \"actual\": 43476.43, \"position\": 43495.8, \"action\": \"HOLD\"}, {\"date\": \"2022-03-01T00:08:00\", \"actual\": 43416.92, \"position\": 43476.43, \"action\": \"HOLD\"}, {\"date\": \"2022-03-01T00:07:00\", \"actual\": 43337.33, \"position\": 43416.92, \"action\": \"HOLD\"}, {\"date\": \"2022-03-01T00:06:00\", \"actual\": 43312.28, \"position\": 43337.33, \"action\": \"HOLD\"}, {\"date\": \"2022-03-01T00:05:00\", \"actual\": 43414.23, \"position\": 43312.28, \"action\": \"HOLD\"}, {\"date\": \"2022-03-01T00:04:00\", \"actual\": 43451.47, \"position\": 43414.23, \"action\": \"HOLD\"}, {\"date\": \"2022-03-01T00:03:00\", \"actual\": 43435.2, \"position\": 43451.47, \"action\": \"HOLD\"}, {\"date\": \"2022-03-01T00:02:00\", \"actual\": 43555.63, \"position\": 43435.2, \"action\": \"HOLD\"}, {\"date\": \"2022-03-01T00:01:00\", \"actual\": 43243.98, \"position\": 43555.63, \"action\": \"HOLD\"}, {\"date\": \"2022-03-01T00:00:00\", \"actual\": 43237.6, \"position\": 43243.98, \"action\": \"HOLD\"}, {\"date\": \"2022-02-28T23:59:00\", \"actual\": 43178.98, \"position\": 43237.6, \"action\": \"HOLD\"}, {\"date\": \"2022-02-28T23:58:00\", \"actual\": 43244.06, \"position\": 43178.98, \"action\": \"HOLD\"}, {\"date\": \"2022-02-28T23:57:00\", \"actual\": 43190.96, \"position\": 43244.06, \"action\": \"HOLD\"}, {\"date\": \"2022-02-28T23:56:00\", \"actual\": 43180.0, \"position\": 43190.96, \"action\": \"HOLD\"}, {\"date\": \"2022-02-28T23:55:00\", \"actual\": 43223.06, \"position\": 43180.0, \"action\": \"HOLD\"}, {\"date\": \"2022-02-28T23:54:00\", \"actual\": 43197.3, \"position\": 43223.06, \"action\": \"HOLD\"}, {\"date\": \"2022-02-28T23:53:00\", \"actual\": 43214.19, \"position\": 43197.3, \"action\": \"HOLD\"}, {\"date\": \"2022-02-28T23:52:00\", \"actual\": 43252.98, \"position\": 43214.19, \"action\": \"HOLD\"}, {\"date\": \"2022-02-28T23:51:00\", \"actual\": 43260.69, \"position\": 43252.98, \"action\": \"HOLD\"}, {\"date\": \"2022-02-28T23:50:00\", \"actual\": 43263.75, \"position\": 43260.69, \"action\": \"HOLD\"}, {\"date\": \"2022-02-28T23:49:00\", \"actual\": 43247.11, \"position\": 43263.75, \"action\": \"HOLD\"}, {\"date\": \"2022-02-28T23:48:00\", \"actual\": 43207.87, \"position\": 43247.11, \"action\": \"HOLD\"}, {\"date\": \"2022-02-28T23:47:00\", \"actual\": 43192.94, \"position\": 43207.87, \"action\": \"HOLD\"}, {\"date\": \"2022-02-28T23:46:00\", \"actual\": 43251.34, \"position\": 43192.94, \"action\": \"HOLD\"}, {\"date\": \"2022-02-28T23:45:00\", \"actual\": 43261.32, \"position\": 43251.34, \"action\": \"HOLD\"}, {\"date\": \"2022-02-28T23:44:00\", \"actual\": 43202.73, \"position\": 43261.32, \"action\": \"HOLD\"}, {\"date\": \"2022-02-28T23:43:00\", \"actual\": 43185.0, \"position\": 43202.73, \"action\": \"HOLD\"}, {\"date\": \"2022-02-28T23:42:00\", \"actual\": 43232.54, \"position\": 43185.0, \"action\": \"HOLD\"}, {\"date\": \"2022-02-28T23:41:00\", \"actual\": 43201.17, \"position\": 43232.54, \"action\": \"HOLD\"}, {\"date\": \"2022-02-28T23:40:00\", \"actual\": 43230.53, \"position\": 43201.17, \"action\": \"HOLD\"}, {\"date\": \"2022-02-28T23:39:00\", \"actual\": 43291.36, \"position\": 43230.53, \"action\": \"HOLD\"}, {\"date\": \"2022-02-28T23:38:00\", \"actual\": 43292.45, \"position\": 43291.36, \"action\": \"HOLD\"}, {\"date\": \"2022-02-28T23:37:00\", \"actual\": 43240.47, \"position\": 43292.45, \"action\": \"HOLD\"}, {\"date\": \"2022-02-28T23:36:00\", \"actual\": 43157.58, \"position\": 43240.47, \"action\": \"HOLD\"}, {\"date\": \"2022-02-28T23:35:00\", \"actual\": 43182.36, \"position\": 43157.58, \"action\": \"HOLD\"}, {\"date\": \"2022-02-28T23:34:00\", \"actual\": 43173.48, \"position\": 43182.36, \"action\": \"HOLD\"}, {\"date\": \"2022-02-28T23:33:00\", \"actual\": 43191.34, \"position\": 43173.48, \"action\": \"HOLD\"}, {\"date\": \"2022-02-28T23:32:00\", \"actual\": 43105.55, \"position\": 43191.34, \"action\": \"HOLD\"}, {\"date\": \"2022-02-28T23:31:00\", \"actual\": 43000.0, \"position\": 43105.55, \"action\": \"HOLD\"}, {\"date\": \"2022-02-28T23:30:00\", \"actual\": 43072.32, \"position\": 43000.0, \"action\": \"HOLD\"}, {\"date\": \"2022-02-28T23:29:00\", \"actual\": 43135.7, \"position\": 43072.32, \"action\": \"HOLD\"}, {\"date\": \"2022-02-28T23:28:00\", \"actual\": 43142.78, \"position\": 43135.7, \"action\": \"HOLD\"}, {\"date\": \"2022-02-28T23:27:00\", \"actual\": 43106.49, \"position\": 43142.78, \"action\": \"HOLD\"}, {\"date\": \"2022-02-28T23:26:00\", \"actual\": 43072.64, \"position\": 43106.49, \"action\": \"HOLD\"}, {\"date\": \"2022-02-28T23:25:00\", \"actual\": 42959.52, \"position\": 43072.64, \"action\": \"HOLD\"}, {\"date\": \"2022-02-28T23:24:00\", \"actual\": 42940.11, \"position\": 42959.52, \"action\": \"HOLD\"}, {\"date\": \"2022-02-28T23:23:00\", \"actual\": 42976.0, \"position\": 42940.11, \"action\": \"HOLD\"}, {\"date\": \"2022-02-28T23:22:00\", \"actual\": 43019.93, \"position\": 42976.0, \"action\": \"HOLD\"}, {\"date\": \"2022-02-28T23:21:00\", \"actual\": 43025.34, \"position\": 43019.93, \"action\": \"HOLD\"}, {\"date\": \"2022-02-28T23:20:00\", \"actual\": 43025.61, \"position\": 43025.34, \"action\": \"HOLD\"}, {\"date\": \"2022-02-28T23:19:00\", \"actual\": 42937.91, \"position\": 43025.61, \"action\": \"HOLD\"}, {\"date\": \"2022-02-28T23:18:00\", \"actual\": 43050.0, \"position\": 42937.91, \"action\": \"HOLD\"}, {\"date\": \"2022-02-28T23:17:00\", \"actual\": 43104.12, \"position\": 43050.0, \"action\": \"HOLD\"}, {\"date\": \"2022-02-28T23:16:00\", \"actual\": 43167.51, \"position\": 43104.12, \"action\": \"HOLD\"}, {\"date\": \"2022-02-28T23:15:00\", \"actual\": 43193.92, \"position\": 43167.51, \"action\": \"HOLD\"}, {\"date\": \"2022-02-28T23:14:00\", \"actual\": 43300.0, \"position\": 43193.92, \"action\": \"HOLD\"}, {\"date\": \"2022-02-28T23:13:00\", \"actual\": 43284.91, \"position\": 43300.0, \"action\": \"HOLD\"}, {\"date\": \"2022-02-28T23:12:00\", \"actual\": 43318.25, \"position\": 43284.91, \"action\": \"HOLD\"}, {\"date\": \"2022-02-28T23:11:00\", \"actual\": 43244.01, \"position\": 43318.25, \"action\": \"HOLD\"}, {\"date\": \"2022-02-28T23:10:00\", \"actual\": 43233.49, \"position\": 43244.01, \"action\": \"HOLD\"}, {\"date\": \"2022-02-28T23:09:00\", \"actual\": 43169.78, \"position\": 43233.49, \"action\": \"HOLD\"}, {\"date\": \"2022-02-28T23:08:00\", \"actual\": 43250.0, \"position\": 43169.78, \"action\": \"HOLD\"}, {\"date\": \"2022-02-28T23:07:00\", \"actual\": 43262.76, \"position\": 43250.0, \"action\": \"HOLD\"}, {\"date\": \"2022-02-28T23:06:00\", \"actual\": 43209.61, \"position\": 43262.76, \"action\": \"HOLD\"}, {\"date\": \"2022-02-28T23:05:00\", \"actual\": 43240.23, \"position\": 43209.61, \"action\": \"HOLD\"}, {\"date\": \"2022-02-28T23:04:00\", \"actual\": 43164.82, \"position\": 43240.23, \"action\": \"HOLD\"}, {\"date\": \"2022-02-28T23:03:00\", \"actual\": 43167.09, \"position\": 43164.82, \"action\": \"HOLD\"}, {\"date\": \"2022-02-28T23:02:00\", \"actual\": 43133.31, \"position\": 43167.09, \"action\": \"HOLD\"}, {\"date\": \"2022-02-28T23:01:00\", \"actual\": 43131.74, \"position\": 43133.31, \"action\": \"HOLD\"}, {\"date\": \"2022-02-28T23:00:00\", \"actual\": 43053.74, \"position\": 43131.74, \"action\": \"HOLD\"}, {\"date\": \"2022-02-28T22:59:00\", \"actual\": 42907.32, \"position\": 43053.74, \"action\": \"HOLD\"}, {\"date\": \"2022-02-28T22:58:00\", \"actual\": 43141.49, \"position\": 42907.32, \"action\": \"HOLD\"}, {\"date\": \"2022-02-28T22:57:00\", \"actual\": 43243.55, \"position\": 43141.49, \"action\": \"HOLD\"}, {\"date\": \"2022-02-28T22:56:00\", \"actual\": 43277.02, \"position\": 43243.55, \"action\": \"HOLD\"}, {\"date\": \"2022-02-28T22:55:00\", \"actual\": 43435.26, \"position\": 43277.02, \"action\": \"HOLD\"}, {\"date\": \"2022-02-28T22:54:00\", \"actual\": 43356.59, \"position\": 43435.26, \"action\": \"HOLD\"}, {\"date\": \"2022-02-28T22:53:00\", \"actual\": 43401.0, \"position\": 43356.59, \"action\": \"HOLD\"}, {\"date\": \"2022-02-28T22:52:00\", \"actual\": 43521.11, \"position\": 43401.0, \"action\": \"HOLD\"}, {\"date\": \"2022-02-28T22:51:00\", \"actual\": 43637.65, \"position\": 43521.11, \"action\": \"HOLD\"}, {\"date\": \"2022-02-28T22:50:00\", \"actual\": 43801.5, \"position\": 43637.65, \"action\": \"HOLD\"}, {\"date\": \"2022-02-28T22:49:00\", \"actual\": 43829.8, \"position\": 43801.5, \"action\": \"HOLD\"}, {\"date\": \"2022-02-28T22:48:00\", \"actual\": 43745.86, \"position\": 43829.8, \"action\": \"HOLD\"}, {\"date\": \"2022-02-28T22:47:00\", \"actual\": 43761.22, \"position\": 43745.86, \"action\": \"HOLD\"}, {\"date\": \"2022-02-28T22:46:00\", \"actual\": 43811.11, \"position\": 43761.22, \"action\": \"HOLD\"}, {\"date\": \"2022-02-28T22:45:00\", \"actual\": 43533.2, \"position\": 43811.11, \"action\": \"HOLD\"}, {\"date\": \"2022-02-28T22:44:00\", \"actual\": 43681.6, \"position\": 43533.2, \"action\": \"HOLD\"}, {\"date\": \"2022-02-28T22:43:00\", \"actual\": 43673.46, \"position\": 43681.6, \"action\": \"HOLD\"}, {\"date\": \"2022-02-28T22:42:00\", \"actual\": 43675.55, \"position\": 43673.46, \"action\": \"HOLD\"}, {\"date\": \"2022-02-28T22:41:00\", \"actual\": 43708.5, \"position\": 43675.55, \"action\": \"HOLD\"}, {\"date\": \"2022-02-28T22:40:00\", \"actual\": 43819.82, \"position\": 43708.5, \"action\": \"HOLD\"}, {\"date\": \"2022-02-28T22:39:00\", \"actual\": 43646.1, \"position\": 43819.82, \"action\": \"HOLD\"}, {\"date\": \"2022-02-28T22:38:00\", \"actual\": 43869.17, \"position\": 43646.1, \"action\": \"HOLD\"}, {\"date\": \"2022-02-28T22:37:00\", \"actual\": 44097.13, \"position\": 43869.17, \"action\": \"HOLD\"}, {\"date\": \"2022-02-28T22:36:00\", \"actual\": 43811.03, \"position\": 44097.13, \"action\": \"HOLD\"}, {\"date\": \"2022-02-28T22:35:00\", \"actual\": 43673.14, \"position\": 43811.03, \"action\": \"HOLD\"}, {\"date\": \"2022-02-28T22:34:00\", \"actual\": 43499.96, \"position\": 43673.14, \"action\": \"HOLD\"}, {\"date\": \"2022-02-28T22:33:00\", \"actual\": 43492.48, \"position\": 43499.96, \"action\": \"HOLD\"}, {\"date\": \"2022-02-28T22:32:00\", \"actual\": 42699.99, \"position\": 43492.48, \"action\": \"HOLD\"}, {\"date\": \"2022-02-28T22:31:00\", \"actual\": 41921.79, \"position\": 42699.99, \"action\": \"HOLD\"}, {\"date\": \"2022-02-28T22:30:00\", \"actual\": 41952.18, \"position\": 41921.79, \"action\": \"HOLD\"}, {\"date\": \"2022-02-28T22:29:00\", \"actual\": 41869.83, \"position\": 41952.18, \"action\": \"HOLD\"}, {\"date\": \"2022-02-28T22:28:00\", \"actual\": 41878.86, \"position\": 41869.83, \"action\": \"HOLD\"}, {\"date\": \"2022-02-28T22:27:00\", \"actual\": 41915.68, \"position\": 41878.86, \"action\": \"HOLD\"}, {\"date\": \"2022-02-28T22:26:00\", \"actual\": 41877.0, \"position\": 41915.68, \"action\": \"HOLD\"}, {\"date\": \"2022-02-28T22:25:00\", \"actual\": 41826.7, \"position\": 41877.0, \"action\": \"HOLD\"}, {\"date\": \"2022-02-28T22:24:00\", \"actual\": 41901.1, \"position\": 41826.7, \"action\": \"HOLD\"}, {\"date\": \"2022-02-28T22:23:00\", \"actual\": 41964.59, \"position\": 41901.1, \"action\": \"HOLD\"}, {\"date\": \"2022-02-28T22:22:00\", \"actual\": 41965.95, \"position\": 41964.59, \"action\": \"HOLD\"}, {\"date\": \"2022-02-28T22:21:00\", \"actual\": 41858.77, \"position\": 41965.95, \"action\": \"HOLD\"}, {\"date\": \"2022-02-28T22:20:00\", \"actual\": 41807.89, \"position\": 41858.77, \"action\": \"HOLD\"}, {\"date\": \"2022-02-28T22:19:00\", \"actual\": 41827.61, \"position\": 41807.89, \"action\": \"HOLD\"}, {\"date\": \"2022-02-28T22:18:00\", \"actual\": 41809.79, \"position\": 41827.61, \"action\": \"HOLD\"}, {\"date\": \"2022-02-28T22:17:00\", \"actual\": 41794.62, \"position\": 41809.79, \"action\": \"HOLD\"}, {\"date\": \"2022-02-28T22:16:00\", \"actual\": 41807.89, \"position\": 41794.62, \"action\": \"HOLD\"}, {\"date\": \"2022-02-28T22:15:00\", \"actual\": 41731.76, \"position\": 41807.89, \"action\": \"HOLD\"}, {\"date\": \"2022-02-28T22:14:00\", \"actual\": 41748.53, \"position\": 41731.76, \"action\": \"HOLD\"}, {\"date\": \"2022-02-28T22:13:00\", \"actual\": 41783.96, \"position\": 41748.53, \"action\": \"HOLD\"}, {\"date\": \"2022-02-28T22:12:00\", \"actual\": 41804.3, \"position\": 41783.96, \"action\": \"HOLD\"}, {\"date\": \"2022-02-28T22:11:00\", \"actual\": 41809.34, \"position\": 41804.3, \"action\": \"HOLD\"}, {\"date\": \"2022-02-28T22:10:00\", \"actual\": 41822.37, \"position\": 41809.34, \"action\": \"HOLD\"}, {\"date\": \"2022-02-28T22:09:00\", \"actual\": 41897.52, \"position\": 41822.37, \"action\": \"HOLD\"}, {\"date\": \"2022-02-28T22:08:00\", \"actual\": 41836.35, \"position\": 41897.52, \"action\": \"HOLD\"}, {\"date\": \"2022-02-28T22:07:00\", \"actual\": 41860.9, \"position\": 41836.35, \"action\": \"HOLD\"}, {\"date\": \"2022-02-28T22:06:00\", \"actual\": 41720.38, \"position\": 41860.9, \"action\": \"HOLD\"}, {\"date\": \"2022-02-28T22:05:00\", \"actual\": 41718.55, \"position\": 41720.38, \"action\": \"HOLD\"}, {\"date\": \"2022-02-28T22:04:00\", \"actual\": 41729.99, \"position\": 41718.55, \"action\": \"HOLD\"}, {\"date\": \"2022-02-28T22:03:00\", \"actual\": 41688.5, \"position\": 41729.99, \"action\": \"HOLD\"}, {\"date\": \"2022-02-28T22:02:00\", \"actual\": 41650.29, \"position\": 41688.5, \"action\": \"HOLD\"}, {\"date\": \"2022-02-28T22:01:00\", \"actual\": 41691.6, \"position\": 41650.29, \"action\": \"HOLD\"}, {\"date\": \"2022-02-28T22:00:00\", \"actual\": 41689.86, \"position\": 41691.6, \"action\": \"HOLD\"}, {\"date\": \"2022-02-28T21:59:00\", \"actual\": 41659.53, \"position\": 41689.86, \"action\": \"HOLD\"}, {\"date\": \"2022-02-28T21:58:00\", \"actual\": 41645.92, \"position\": 41659.53, \"action\": \"HOLD\"}, {\"date\": \"2022-02-28T21:57:00\", \"actual\": 41636.0, \"position\": 41645.92, \"action\": \"HOLD\"}, {\"date\": \"2022-02-28T21:56:00\", \"actual\": 41620.87, \"position\": 41636.0, \"action\": \"HOLD\"}, {\"date\": \"2022-02-28T21:55:00\", \"actual\": 41636.41, \"position\": 41620.87, \"action\": \"HOLD\"}, {\"date\": \"2022-02-28T21:54:00\", \"actual\": 41602.78, \"position\": 41636.41, \"action\": \"HOLD\"}, {\"date\": \"2022-02-28T21:53:00\", \"actual\": 41604.23, \"position\": 41602.78, \"action\": \"HOLD\"}, {\"date\": \"2022-02-28T21:52:00\", \"actual\": 41604.42, \"position\": 41604.23, \"action\": \"HOLD\"}, {\"date\": \"2022-02-28T21:51:00\", \"actual\": 41654.68, \"position\": 41604.42, \"action\": \"HOLD\"}, {\"date\": \"2022-02-28T21:50:00\", \"actual\": 41625.65, \"position\": 41654.68, \"action\": \"HOLD\"}, {\"date\": \"2022-02-28T21:49:00\", \"actual\": 41674.81, \"position\": 41625.65, \"action\": \"HOLD\"}, {\"date\": \"2022-02-28T21:48:00\", \"actual\": 41645.97, \"position\": 41674.81, \"action\": \"HOLD\"}, {\"date\": \"2022-02-28T21:47:00\", \"actual\": 41685.77, \"position\": 41645.97, \"action\": \"HOLD\"}, {\"date\": \"2022-02-28T21:46:00\", \"actual\": 41665.71, \"position\": 41685.77, \"action\": \"HOLD\"}, {\"date\": \"2022-02-28T21:45:00\", \"actual\": 41583.17, \"position\": 41665.71, \"action\": \"HOLD\"}, {\"date\": \"2022-02-28T21:44:00\", \"actual\": 41586.56, \"position\": 41583.17, \"action\": \"HOLD\"}, {\"date\": \"2022-02-28T21:43:00\", \"actual\": 41590.47, \"position\": 41586.56, \"action\": \"HOLD\"}, {\"date\": \"2022-02-28T21:42:00\", \"actual\": 41546.86, \"position\": 41590.47, \"action\": \"HOLD\"}, {\"date\": \"2022-02-28T21:41:00\", \"actual\": 41546.39, \"position\": 41546.86, \"action\": \"HOLD\"}, {\"date\": \"2022-02-28T21:40:00\", \"actual\": 41596.38, \"position\": 41546.39, \"action\": \"HOLD\"}, {\"date\": \"2022-02-28T21:39:00\", \"actual\": 41618.05, \"position\": 41596.38, \"action\": \"HOLD\"}, {\"date\": \"2022-02-28T21:38:00\", \"actual\": 41602.82, \"position\": 41618.05, \"action\": \"HOLD\"}, {\"date\": \"2022-02-28T21:37:00\", \"actual\": 41570.64, \"position\": 41602.82, \"action\": \"HOLD\"}, {\"date\": \"2022-02-28T21:36:00\", \"actual\": 41607.07, \"position\": 41570.64, \"action\": \"HOLD\"}, {\"date\": \"2022-02-28T21:35:00\", \"actual\": 41636.49, \"position\": 41607.07, \"action\": \"HOLD\"}, {\"date\": \"2022-02-28T21:34:00\", \"actual\": 41641.23, \"position\": 41636.49, \"action\": \"HOLD\"}, {\"date\": \"2022-02-28T21:33:00\", \"actual\": 41613.82, \"position\": 41641.23, \"action\": \"HOLD\"}, {\"date\": \"2022-02-28T21:32:00\", \"actual\": 41562.42, \"position\": 41613.82, \"action\": \"HOLD\"}, {\"date\": \"2022-02-28T21:31:00\", \"actual\": 41584.33, \"position\": 41562.42, \"action\": \"HOLD\"}, {\"date\": \"2022-02-28T21:30:00\", \"actual\": 41609.77, \"position\": 41584.33, \"action\": \"HOLD\"}, {\"date\": \"2022-02-28T21:29:00\", \"actual\": 41650.03, \"position\": 41609.77, \"action\": \"HOLD\"}, {\"date\": \"2022-02-28T21:28:00\", \"actual\": 41680.0, \"position\": 41650.03, \"action\": \"HOLD\"}, {\"date\": \"2022-02-28T21:27:00\", \"actual\": 41673.29, \"position\": 41680.0, \"action\": \"HOLD\"}, {\"date\": \"2022-02-28T21:26:00\", \"actual\": 41673.0, \"position\": 41673.29, \"action\": \"HOLD\"}, {\"date\": \"2022-02-28T21:25:00\", \"actual\": 41680.63, \"position\": 41673.0, \"action\": \"HOLD\"}, {\"date\": \"2022-02-28T21:24:00\", \"actual\": 41700.56, \"position\": 41680.63, \"action\": \"HOLD\"}, {\"date\": \"2022-02-28T21:23:00\", \"actual\": 41718.98, \"position\": 41700.56, \"action\": \"HOLD\"}, {\"date\": \"2022-02-28T21:22:00\", \"actual\": 41724.19, \"position\": 41718.98, \"action\": \"HOLD\"}, {\"date\": \"2022-02-28T21:21:00\", \"actual\": 41671.48, \"position\": 41724.19, \"action\": \"HOLD\"}, {\"date\": \"2022-02-28T21:20:00\", \"actual\": 41649.62, \"position\": 41671.48, \"action\": \"HOLD\"}, {\"date\": \"2022-02-28T21:19:00\", \"actual\": 41686.57, \"position\": 41649.62, \"action\": \"HOLD\"}, {\"date\": \"2022-02-28T21:18:00\", \"actual\": 41673.71, \"position\": 41686.57, \"action\": \"HOLD\"}, {\"date\": \"2022-02-28T21:17:00\", \"actual\": 41761.54, \"position\": 41673.71, \"action\": \"HOLD\"}, {\"date\": \"2022-02-28T21:16:00\", \"actual\": 41757.27, \"position\": 41761.54, \"action\": \"HOLD\"}, {\"date\": \"2022-02-28T21:15:00\", \"actual\": 41746.53, \"position\": 41757.27, \"action\": \"HOLD\"}, {\"date\": \"2022-02-28T21:14:00\", \"actual\": 41748.7, \"position\": 41746.53, \"action\": \"HOLD\"}, {\"date\": \"2022-02-28T21:13:00\", \"actual\": 41760.95, \"position\": 41748.7, \"action\": \"HOLD\"}, {\"date\": \"2022-02-28T21:12:00\", \"actual\": 41687.4, \"position\": 41760.95, \"action\": \"HOLD\"}, {\"date\": \"2022-02-28T21:11:00\", \"actual\": 41675.62, \"position\": 41687.4, \"action\": \"HOLD\"}, {\"date\": \"2022-02-28T21:10:00\", \"actual\": 41703.37, \"position\": 41675.62, \"action\": \"HOLD\"}, {\"date\": \"2022-02-28T21:09:00\", \"actual\": 41643.41, \"position\": 41703.37, \"action\": \"HOLD\"}, {\"date\": \"2022-02-28T21:08:00\", \"actual\": 41687.27, \"position\": 41643.41, \"action\": \"HOLD\"}, {\"date\": \"2022-02-28T21:07:00\", \"actual\": 41725.91, \"position\": 41687.27, \"action\": \"HOLD\"}, {\"date\": \"2022-02-28T21:06:00\", \"actual\": 41710.0, \"position\": 41725.91, \"action\": \"HOLD\"}, {\"date\": \"2022-02-28T21:05:00\", \"actual\": 41729.59, \"position\": 41710.0, \"action\": \"HOLD\"}, {\"date\": \"2022-02-28T21:04:00\", \"actual\": 41733.56, \"position\": 41729.59, \"action\": \"HOLD\"}, {\"date\": \"2022-02-28T21:03:00\", \"actual\": 41744.44, \"position\": 41733.56, \"action\": \"HOLD\"}, {\"date\": \"2022-02-28T21:02:00\", \"actual\": 41820.39, \"position\": 41744.44, \"action\": \"HOLD\"}, {\"date\": \"2022-02-28T21:01:00\", \"actual\": 41847.92, \"position\": 41820.39, \"action\": \"HOLD\"}, {\"date\": \"2022-02-28T21:00:00\", \"actual\": 41863.05, \"position\": 41847.92, \"action\": \"HOLD\"}, {\"date\": \"2022-02-28T20:59:00\", \"actual\": 41914.97, \"position\": 41863.05, \"action\": \"HOLD\"}, {\"date\": \"2022-02-28T20:58:00\", \"actual\": 41899.46, \"position\": 41914.97, \"action\": \"HOLD\"}, {\"date\": \"2022-02-28T20:57:00\", \"actual\": 41815.21, \"position\": 41899.46, \"action\": \"HOLD\"}, {\"date\": \"2022-02-28T20:56:00\", \"actual\": 41817.16, \"position\": 41815.21, \"action\": \"HOLD\"}, {\"date\": \"2022-02-28T20:55:00\", \"actual\": 41809.58, \"position\": 41817.16, \"action\": \"HOLD\"}, {\"date\": \"2022-02-28T20:54:00\", \"actual\": 41900.3, \"position\": 41809.58, \"action\": \"HOLD\"}, {\"date\": \"2022-02-28T20:53:00\", \"actual\": 41832.34, \"position\": 41900.3, \"action\": \"HOLD\"}, {\"date\": \"2022-02-28T20:52:00\", \"actual\": 41793.55, \"position\": 41832.34, \"action\": \"HOLD\"}, {\"date\": \"2022-02-28T20:51:00\", \"actual\": 41875.09, \"position\": 41793.55, \"action\": \"HOLD\"}, {\"date\": \"2022-02-28T20:50:00\", \"actual\": 41890.95, \"position\": 41875.09, \"action\": \"HOLD\"}, {\"date\": \"2022-02-28T20:49:00\", \"actual\": 41910.51, \"position\": 41890.95, \"action\": \"HOLD\"}, {\"date\": \"2022-02-28T20:48:00\", \"actual\": 41853.02, \"position\": 41910.51, \"action\": \"HOLD\"}, {\"date\": \"2022-02-28T20:47:00\", \"actual\": 41823.67, \"position\": 41853.02, \"action\": \"HOLD\"}, {\"date\": \"2022-02-28T20:46:00\", \"actual\": 41826.96, \"position\": 41823.67, \"action\": \"HOLD\"}, {\"date\": \"2022-02-28T20:45:00\", \"actual\": 41766.28, \"position\": 41826.96, \"action\": \"HOLD\"}, {\"date\": \"2022-02-28T20:44:00\", \"actual\": 41789.3, \"position\": 41766.28, \"action\": \"HOLD\"}, {\"date\": \"2022-02-28T20:43:00\", \"actual\": 41682.11, \"position\": 41789.3, \"action\": \"HOLD\"}, {\"date\": \"2022-02-28T20:42:00\", \"actual\": 41652.19, \"position\": 41682.11, \"action\": \"HOLD\"}, {\"date\": \"2022-02-28T20:41:00\", \"actual\": 41680.12, \"position\": 41652.19, \"action\": \"HOLD\"}, {\"date\": \"2022-02-28T20:40:00\", \"actual\": 41617.77, \"position\": 41680.12, \"action\": \"HOLD\"}, {\"date\": \"2022-02-28T20:39:00\", \"actual\": 41577.74, \"position\": 41617.77, \"action\": \"HOLD\"}, {\"date\": \"2022-02-28T20:38:00\", \"actual\": 41504.63, \"position\": 41577.74, \"action\": \"HOLD\"}, {\"date\": \"2022-02-28T20:37:00\", \"actual\": 41546.31, \"position\": 41504.63, \"action\": \"HOLD\"}, {\"date\": \"2022-02-28T20:36:00\", \"actual\": 41528.91, \"position\": 41546.31, \"action\": \"HOLD\"}, {\"date\": \"2022-02-28T20:35:00\", \"actual\": 41550.46, \"position\": 41528.91, \"action\": \"HOLD\"}, {\"date\": \"2022-02-28T20:34:00\", \"actual\": 41581.89, \"position\": 41550.46, \"action\": \"HOLD\"}, {\"date\": \"2022-02-28T20:33:00\", \"actual\": 41554.22, \"position\": 41581.89, \"action\": \"HOLD\"}, {\"date\": \"2022-02-28T20:32:00\", \"actual\": 41621.94, \"position\": 41554.22, \"action\": \"BUY\"}, {\"date\": \"2022-02-28T20:31:00\", \"actual\": 41626.82, \"position\": 41621.94, \"action\": \"SELL\"}, {\"date\": \"2022-02-28T20:30:00\", \"actual\": 41623.57, \"position\": 41626.82, \"action\": \"HOLD\"}, {\"date\": \"2022-02-28T20:29:00\", \"actual\": 41680.93, \"position\": 41623.57, \"action\": \"HOLD\"}, {\"date\": \"2022-02-28T20:28:00\", \"actual\": 41706.47, \"position\": 41680.93, \"action\": \"HOLD\"}, {\"date\": \"2022-02-28T20:27:00\", \"actual\": 41709.18, \"position\": 41706.47, \"action\": \"HOLD\"}, {\"date\": \"2022-02-28T20:26:00\", \"actual\": 41674.16, \"position\": 41709.18, \"action\": \"HOLD\"}, {\"date\": \"2022-02-28T20:25:00\", \"actual\": 41639.18, \"position\": 41674.16, \"action\": \"HOLD\"}, {\"date\": \"2022-02-28T20:24:00\", \"actual\": 41672.33, \"position\": 41639.18, \"action\": \"HOLD\"}, {\"date\": \"2022-02-28T20:23:00\", \"actual\": 41700.12, \"position\": 41672.33, \"action\": \"HOLD\"}, {\"date\": \"2022-02-28T20:22:00\", \"actual\": 41793.2, \"position\": 41700.12, \"action\": \"HOLD\"}, {\"date\": \"2022-02-28T20:21:00\", \"actual\": 41730.04, \"position\": 41793.2, \"action\": \"HOLD\"}, {\"date\": \"2022-02-28T20:20:00\", \"actual\": 41592.45, \"position\": 41730.04, \"action\": \"HOLD\"}, {\"date\": \"2022-02-28T20:19:00\", \"actual\": 41492.09, \"position\": 41592.45, \"action\": \"HOLD\"}, {\"date\": \"2022-02-28T20:18:00\", \"actual\": 41466.93, \"position\": 41492.09, \"action\": \"HOLD\"}, {\"date\": \"2022-02-28T20:17:00\", \"actual\": 41404.79, \"position\": 41466.93, \"action\": \"HOLD\"}, {\"date\": \"2022-02-28T20:16:00\", \"actual\": 41361.86, \"position\": 41404.79, \"action\": \"HOLD\"}, {\"date\": \"2022-02-28T20:15:00\", \"actual\": 41395.07, \"position\": 41361.86, \"action\": \"HOLD\"}, {\"date\": \"2022-02-28T20:14:00\", \"actual\": 41412.15, \"position\": 41395.07, \"action\": \"HOLD\"}, {\"date\": \"2022-02-28T20:13:00\", \"actual\": 41434.68, \"position\": 41412.15, \"action\": \"HOLD\"}, {\"date\": \"2022-02-28T20:12:00\", \"actual\": 41362.12, \"position\": 41434.68, \"action\": \"HOLD\"}, {\"date\": \"2022-02-28T20:11:00\", \"actual\": 41422.0, \"position\": 41362.12, \"action\": \"HOLD\"}, {\"date\": \"2022-02-28T20:10:00\", \"actual\": 41438.95, \"position\": 41422.0, \"action\": \"HOLD\"}, {\"date\": \"2022-02-28T20:09:00\", \"actual\": 41489.52, \"position\": 41438.95, \"action\": \"HOLD\"}, {\"date\": \"2022-02-28T20:08:00\", \"actual\": 41459.99, \"position\": 41489.52, \"action\": \"HOLD\"}, {\"date\": \"2022-02-28T20:07:00\", \"actual\": 41357.4, \"position\": 41459.99, \"action\": \"HOLD\"}, {\"date\": \"2022-02-28T20:06:00\", \"actual\": 41289.69, \"position\": 41357.4, \"action\": \"HOLD\"}, {\"date\": \"2022-02-28T20:05:00\", \"actual\": 41380.35, \"position\": 41289.69, \"action\": \"HOLD\"}, {\"date\": \"2022-02-28T20:04:00\", \"actual\": 41501.45, \"position\": 41380.35, \"action\": \"HOLD\"}, {\"date\": \"2022-02-28T20:03:00\", \"actual\": 41521.13, \"position\": 41501.45, \"action\": \"HOLD\"}, {\"date\": \"2022-02-28T20:02:00\", \"actual\": 41337.66, \"position\": 41521.13, \"action\": \"HOLD\"}, {\"date\": \"2022-02-28T20:01:00\", \"actual\": 41375.83, \"position\": 41337.66, \"action\": \"HOLD\"}, {\"date\": \"2022-02-28T20:00:00\", \"actual\": 41379.15, \"position\": 41375.83, \"action\": \"HOLD\"}, {\"date\": \"2022-02-28T19:59:00\", \"actual\": 41362.52, \"position\": 41379.15, \"action\": \"HOLD\"}, {\"date\": \"2022-02-28T19:58:00\", \"actual\": 41388.77, \"position\": 41362.52, \"action\": \"HOLD\"}, {\"date\": \"2022-02-28T19:57:00\", \"actual\": 41388.16, \"position\": 41388.77, \"action\": \"HOLD\"}, {\"date\": \"2022-02-28T19:56:00\", \"actual\": 41371.5, \"position\": 41388.16, \"action\": \"HOLD\"}, {\"date\": \"2022-02-28T19:55:00\", \"actual\": 41339.24, \"position\": 41371.5, \"action\": \"HOLD\"}, {\"date\": \"2022-02-28T19:54:00\", \"actual\": 41309.19, \"position\": 41339.24, \"action\": \"HOLD\"}, {\"date\": \"2022-02-28T19:53:00\", \"actual\": 41289.39, \"position\": 41309.19, \"action\": \"HOLD\"}, {\"date\": \"2022-02-28T19:52:00\", \"actual\": 41275.8, \"position\": 41289.39, \"action\": \"HOLD\"}, {\"date\": \"2022-02-28T19:51:00\", \"actual\": 41247.55, \"position\": 41275.8, \"action\": \"HOLD\"}, {\"date\": \"2022-02-28T19:50:00\", \"actual\": 41258.16, \"position\": 41247.55, \"action\": \"HOLD\"}, {\"date\": \"2022-02-28T19:49:00\", \"actual\": 41224.96, \"position\": 41258.16, \"action\": \"HOLD\"}, {\"date\": \"2022-02-28T19:48:00\", \"actual\": 41242.6, \"position\": 41224.96, \"action\": \"HOLD\"}, {\"date\": \"2022-02-28T19:47:00\", \"actual\": 41309.08, \"position\": 41242.6, \"action\": \"HOLD\"}, {\"date\": \"2022-02-28T19:46:00\", \"actual\": 41352.83, \"position\": 41309.08, \"action\": \"HOLD\"}, {\"date\": \"2022-02-28T19:45:00\", \"actual\": 41350.68, \"position\": 41352.83, \"action\": \"HOLD\"}, {\"date\": \"2022-02-28T19:44:00\", \"actual\": 41320.45, \"position\": 41350.68, \"action\": \"HOLD\"}, {\"date\": \"2022-02-28T19:43:00\", \"actual\": 41307.03, \"position\": 41320.45, \"action\": \"HOLD\"}, {\"date\": \"2022-02-28T19:42:00\", \"actual\": 41269.3, \"position\": 41307.03, \"action\": \"HOLD\"}, {\"date\": \"2022-02-28T19:41:00\", \"actual\": 41239.19, \"position\": 41269.3, \"action\": \"HOLD\"}, {\"date\": \"2022-02-28T19:40:00\", \"actual\": 41246.96, \"position\": 41239.19, \"action\": \"HOLD\"}, {\"date\": \"2022-02-28T19:39:00\", \"actual\": 41234.09, \"position\": 41246.96, \"action\": \"HOLD\"}, {\"date\": \"2022-02-28T19:38:00\", \"actual\": 41231.28, \"position\": 41234.09, \"action\": \"HOLD\"}, {\"date\": \"2022-02-28T19:37:00\", \"actual\": 41219.25, \"position\": 41231.28, \"action\": \"HOLD\"}, {\"date\": \"2022-02-28T19:36:00\", \"actual\": 41263.61, \"position\": 41219.25, \"action\": \"HOLD\"}, {\"date\": \"2022-02-28T19:35:00\", \"actual\": 41248.4, \"position\": 41263.61, \"action\": \"HOLD\"}, {\"date\": \"2022-02-28T19:34:00\", \"actual\": 41219.29, \"position\": 41248.4, \"action\": \"HOLD\"}, {\"date\": \"2022-02-28T19:33:00\", \"actual\": 41216.13, \"position\": 41219.29, \"action\": \"HOLD\"}, {\"date\": \"2022-02-28T19:32:00\", \"actual\": 41191.75, \"position\": 41216.13, \"action\": \"HOLD\"}, {\"date\": \"2022-02-28T19:31:00\", \"actual\": 41222.66, \"position\": 41191.75, \"action\": \"HOLD\"}, {\"date\": \"2022-02-28T19:30:00\", \"actual\": 41210.48, \"position\": 41222.66, \"action\": \"HOLD\"}, {\"date\": \"2022-02-28T19:29:00\", \"actual\": 41145.31, \"position\": 41210.48, \"action\": \"HOLD\"}, {\"date\": \"2022-02-28T19:28:00\", \"actual\": 41140.33, \"position\": 41145.31, \"action\": \"HOLD\"}, {\"date\": \"2022-02-28T19:27:00\", \"actual\": 41150.58, \"position\": 41140.33, \"action\": \"HOLD\"}, {\"date\": \"2022-02-28T19:26:00\", \"actual\": 41185.86, \"position\": 41150.58, \"action\": \"HOLD\"}, {\"date\": \"2022-02-28T19:25:00\", \"actual\": 41174.39, \"position\": 41185.86, \"action\": \"HOLD\"}, {\"date\": \"2022-02-28T19:24:00\", \"actual\": 41172.45, \"position\": 41174.39, \"action\": \"HOLD\"}, {\"date\": \"2022-02-28T19:23:00\", \"actual\": 41185.83, \"position\": 41172.45, \"action\": \"HOLD\"}, {\"date\": \"2022-02-28T19:22:00\", \"actual\": 41200.59, \"position\": 41185.83, \"action\": \"HOLD\"}, {\"date\": \"2022-02-28T19:21:00\", \"actual\": 41239.78, \"position\": 41200.59, \"action\": \"HOLD\"}, {\"date\": \"2022-02-28T19:20:00\", \"actual\": 41219.7, \"position\": 41239.78, \"action\": \"HOLD\"}, {\"date\": \"2022-02-28T19:19:00\", \"actual\": 41238.48, \"position\": 41219.7, \"action\": \"HOLD\"}, {\"date\": \"2022-02-28T19:18:00\", \"actual\": 41258.38, \"position\": 41238.48, \"action\": \"HOLD\"}, {\"date\": \"2022-02-28T19:17:00\", \"actual\": 41230.62, \"position\": 41258.38, \"action\": \"HOLD\"}, {\"date\": \"2022-02-28T19:16:00\", \"actual\": 41229.42, \"position\": 41230.62, \"action\": \"HOLD\"}, {\"date\": \"2022-02-28T19:15:00\", \"actual\": 41266.49, \"position\": 41229.42, \"action\": \"HOLD\"}, {\"date\": \"2022-02-28T19:14:00\", \"actual\": 41215.69, \"position\": 41266.49, \"action\": \"HOLD\"}, {\"date\": \"2022-02-28T19:13:00\", \"actual\": 41195.86, \"position\": 41215.69, \"action\": \"HOLD\"}, {\"date\": \"2022-02-28T19:12:00\", \"actual\": 41175.53, \"position\": 41195.86, \"action\": \"HOLD\"}, {\"date\": \"2022-02-28T19:11:00\", \"actual\": 41209.23, \"position\": 41175.53, \"action\": \"HOLD\"}, {\"date\": \"2022-02-28T19:10:00\", \"actual\": 41189.82, \"position\": 41209.23, \"action\": \"HOLD\"}, {\"date\": \"2022-02-28T19:09:00\", \"actual\": 41077.38, \"position\": 41189.82, \"action\": \"HOLD\"}, {\"date\": \"2022-02-28T19:08:00\", \"actual\": 41069.12, \"position\": 41077.38, \"action\": \"HOLD\"}, {\"date\": \"2022-02-28T19:07:00\", \"actual\": 41116.97, \"position\": 41069.12, \"action\": \"HOLD\"}, {\"date\": \"2022-02-28T19:06:00\", \"actual\": 41126.3, \"position\": 41116.97, \"action\": \"HOLD\"}, {\"date\": \"2022-02-28T19:05:00\", \"actual\": 41112.28, \"position\": 41126.3, \"action\": \"HOLD\"}, {\"date\": \"2022-02-28T19:04:00\", \"actual\": 41091.98, \"position\": 41112.28, \"action\": \"HOLD\"}, {\"date\": \"2022-02-28T19:03:00\", \"actual\": 41098.17, \"position\": 41091.98, \"action\": \"HOLD\"}, {\"date\": \"2022-02-28T19:02:00\", \"actual\": 41154.94, \"position\": 41098.17, \"action\": \"HOLD\"}, {\"date\": \"2022-02-28T19:01:00\", \"actual\": 41150.19, \"position\": 41154.94, \"action\": \"HOLD\"}, {\"date\": \"2022-02-28T19:00:00\", \"actual\": 41171.43, \"position\": 41150.19, \"action\": \"HOLD\"}, {\"date\": \"2022-02-28T18:59:00\", \"actual\": 41233.87, \"position\": 41171.43, \"action\": \"HOLD\"}, {\"date\": \"2022-02-28T18:58:00\", \"actual\": 41208.85, \"position\": 41233.87, \"action\": \"HOLD\"}, {\"date\": \"2022-02-28T18:57:00\", \"actual\": 41260.71, \"position\": 41208.85, \"action\": \"HOLD\"}, {\"date\": \"2022-02-28T18:56:00\", \"actual\": 41244.1, \"position\": 41260.71, \"action\": \"HOLD\"}, {\"date\": \"2022-02-28T18:55:00\", \"actual\": 41240.2, \"position\": 41244.1, \"action\": \"HOLD\"}, {\"date\": \"2022-02-28T18:54:00\", \"actual\": 41229.56, \"position\": 41240.2, \"action\": \"HOLD\"}, {\"date\": \"2022-02-28T18:53:00\", \"actual\": 41245.65, \"position\": 41229.56, \"action\": \"HOLD\"}, {\"date\": \"2022-02-28T18:52:00\", \"actual\": 41232.93, \"position\": 41245.65, \"action\": \"HOLD\"}, {\"date\": \"2022-02-28T18:51:00\", \"actual\": 41264.71, \"position\": 41232.93, \"action\": \"HOLD\"}, {\"date\": \"2022-02-28T18:50:00\", \"actual\": 41199.61, \"position\": 41264.71, \"action\": \"HOLD\"}, {\"date\": \"2022-02-28T18:49:00\", \"actual\": 41214.92, \"position\": 41199.61, \"action\": \"HOLD\"}, {\"date\": \"2022-02-28T18:48:00\", \"actual\": 41183.91, \"position\": 41214.92, \"action\": \"HOLD\"}, {\"date\": \"2022-02-28T18:47:00\", \"actual\": 41168.32, \"position\": 41183.91, \"action\": \"HOLD\"}, {\"date\": \"2022-02-28T18:46:00\", \"actual\": 41164.21, \"position\": 41168.32, \"action\": \"HOLD\"}, {\"date\": \"2022-02-28T18:45:00\", \"actual\": 41150.96, \"position\": 41164.21, \"action\": \"HOLD\"}, {\"date\": \"2022-02-28T18:44:00\", \"actual\": 41133.58, \"position\": 41150.96, \"action\": \"HOLD\"}, {\"date\": \"2022-02-28T18:43:00\", \"actual\": 41133.46, \"position\": 41133.58, \"action\": \"HOLD\"}, {\"date\": \"2022-02-28T18:42:00\", \"actual\": 41084.54, \"position\": 41133.46, \"action\": \"HOLD\"}, {\"date\": \"2022-02-28T18:41:00\", \"actual\": 41124.09, \"position\": 41084.54, \"action\": \"HOLD\"}, {\"date\": \"2022-02-28T18:40:00\", \"actual\": 41088.64, \"position\": 41124.09, \"action\": \"HOLD\"}, {\"date\": \"2022-02-28T18:39:00\", \"actual\": 41173.49, \"position\": 41088.64, \"action\": \"BUY\"}, {\"date\": \"2022-02-28T18:38:00\", \"actual\": 41249.11, \"position\": 41173.49, \"action\": \"SELL\"}, {\"date\": \"2022-02-28T18:37:00\", \"actual\": 41211.7, \"position\": 41249.11, \"action\": \"HOLD\"}, {\"date\": \"2022-02-28T18:36:00\", \"actual\": 41201.21, \"position\": 41211.7, \"action\": \"HOLD\"}, {\"date\": \"2022-02-28T18:35:00\", \"actual\": 41209.5, \"position\": 41201.21, \"action\": \"HOLD\"}, {\"date\": \"2022-02-28T18:34:00\", \"actual\": 41203.98, \"position\": 41209.5, \"action\": \"HOLD\"}, {\"date\": \"2022-02-28T18:33:00\", \"actual\": 41167.09, \"position\": 41203.98, \"action\": \"HOLD\"}, {\"date\": \"2022-02-28T18:32:00\", \"actual\": 41175.83, \"position\": 41167.09, \"action\": \"HOLD\"}, {\"date\": \"2022-02-28T18:31:00\", \"actual\": 41174.39, \"position\": 41175.83, \"action\": \"HOLD\"}, {\"date\": \"2022-02-28T18:30:00\", \"actual\": 41189.43, \"position\": 41174.39, \"action\": \"HOLD\"}, {\"date\": \"2022-02-28T18:29:00\", \"actual\": 41195.88, \"position\": 41189.43, \"action\": \"HOLD\"}, {\"date\": \"2022-02-28T18:28:00\", \"actual\": 41200.32, \"position\": 41195.88, \"action\": \"HOLD\"}, {\"date\": \"2022-02-28T18:27:00\", \"actual\": 41247.54, \"position\": 41200.32, \"action\": \"HOLD\"}, {\"date\": \"2022-02-28T18:26:00\", \"actual\": 41219.5, \"position\": 41247.54, \"action\": \"HOLD\"}, {\"date\": \"2022-02-28T18:25:00\", \"actual\": 41194.35, \"position\": 41219.5, \"action\": \"HOLD\"}, {\"date\": \"2022-02-28T18:24:00\", \"actual\": 41253.73, \"position\": 41194.35, \"action\": \"HOLD\"}, {\"date\": \"2022-02-28T18:23:00\", \"actual\": 41167.79, \"position\": 41253.73, \"action\": \"HOLD\"}, {\"date\": \"2022-02-28T18:22:00\", \"actual\": 41211.4, \"position\": 41167.79, \"action\": \"HOLD\"}, {\"date\": \"2022-02-28T18:21:00\", \"actual\": 41210.8, \"position\": 41211.4, \"action\": \"HOLD\"}, {\"date\": \"2022-02-28T18:20:00\", \"actual\": 41201.3, \"position\": 41210.8, \"action\": \"HOLD\"}, {\"date\": \"2022-02-28T18:19:00\", \"actual\": 41173.52, \"position\": 41201.3, \"action\": \"HOLD\"}, {\"date\": \"2022-02-28T18:18:00\", \"actual\": 41171.03, \"position\": 41173.52, \"action\": \"HOLD\"}, {\"date\": \"2022-02-28T18:17:00\", \"actual\": 41230.62, \"position\": 41171.03, \"action\": \"HOLD\"}, {\"date\": \"2022-02-28T18:16:00\", \"actual\": 41287.41, \"position\": 41230.62, \"action\": \"HOLD\"}, {\"date\": \"2022-02-28T18:15:00\", \"actual\": 41301.14, \"position\": 41287.41, \"action\": \"HOLD\"}, {\"date\": \"2022-02-28T18:14:00\", \"actual\": 41330.53, \"position\": 41301.14, \"action\": \"HOLD\"}, {\"date\": \"2022-02-28T18:13:00\", \"actual\": 41356.03, \"position\": 41330.53, \"action\": \"HOLD\"}, {\"date\": \"2022-02-28T18:12:00\", \"actual\": 41390.4, \"position\": 41356.03, \"action\": \"HOLD\"}, {\"date\": \"2022-02-28T18:11:00\", \"actual\": 41330.53, \"position\": 41390.4, \"action\": \"HOLD\"}, {\"date\": \"2022-02-28T18:10:00\", \"actual\": 41334.86, \"position\": 41330.53, \"action\": \"HOLD\"}, {\"date\": \"2022-02-28T18:09:00\", \"actual\": 41320.36, \"position\": 41334.86, \"action\": \"HOLD\"}, {\"date\": \"2022-02-28T18:08:00\", \"actual\": 41362.36, \"position\": 41320.36, \"action\": \"HOLD\"}, {\"date\": \"2022-02-28T18:07:00\", \"actual\": 41343.51, \"position\": 41362.36, \"action\": \"HOLD\"}, {\"date\": \"2022-02-28T18:06:00\", \"actual\": 41391.3, \"position\": 41343.51, \"action\": \"HOLD\"}, {\"date\": \"2022-02-28T18:05:00\", \"actual\": 41337.35, \"position\": 41391.3, \"action\": \"HOLD\"}, {\"date\": \"2022-02-28T18:04:00\", \"actual\": 41369.95, \"position\": 41337.35, \"action\": \"HOLD\"}, {\"date\": \"2022-02-28T18:03:00\", \"actual\": 41371.45, \"position\": 41369.95, \"action\": \"HOLD\"}, {\"date\": \"2022-02-28T18:02:00\", \"actual\": 41420.67, \"position\": 41371.45, \"action\": \"HOLD\"}, {\"date\": \"2022-02-28T18:01:00\", \"actual\": 41441.27, \"position\": 41420.67, \"action\": \"HOLD\"}, {\"date\": \"2022-02-28T18:00:00\", \"actual\": 41410.66, \"position\": 41441.27, \"action\": \"HOLD\"}, {\"date\": \"2022-02-28T17:59:00\", \"actual\": 41432.91, \"position\": 41410.66, \"action\": \"HOLD\"}, {\"date\": \"2022-02-28T17:58:00\", \"actual\": 41326.46, \"position\": 41432.91, \"action\": \"HOLD\"}, {\"date\": \"2022-02-28T17:57:00\", \"actual\": 41284.11, \"position\": 41326.46, \"action\": \"HOLD\"}, {\"date\": \"2022-02-28T17:56:00\", \"actual\": 41167.12, \"position\": 41284.11, \"action\": \"HOLD\"}, {\"date\": \"2022-02-28T17:55:00\", \"actual\": 41058.88, \"position\": 41167.12, \"action\": \"HOLD\"}, {\"date\": \"2022-02-28T17:54:00\", \"actual\": 40981.18, \"position\": 41058.88, \"action\": \"HOLD\"}, {\"date\": \"2022-02-28T17:53:00\", \"actual\": 41009.44, \"position\": 40981.18, \"action\": \"HOLD\"}, {\"date\": \"2022-02-28T17:52:00\", \"actual\": 40963.15, \"position\": 41009.44, \"action\": \"HOLD\"}, {\"date\": \"2022-02-28T17:51:00\", \"actual\": 40991.97, \"position\": 40963.15, \"action\": \"HOLD\"}, {\"date\": \"2022-02-28T17:50:00\", \"actual\": 40969.04, \"position\": 40991.97, \"action\": \"HOLD\"}, {\"date\": \"2022-02-28T17:49:00\", \"actual\": 40935.05, \"position\": 40969.04, \"action\": \"HOLD\"}, {\"date\": \"2022-02-28T17:48:00\", \"actual\": 40899.63, \"position\": 40935.05, \"action\": \"HOLD\"}, {\"date\": \"2022-02-28T17:47:00\", \"actual\": 40850.0, \"position\": 40899.63, \"action\": \"HOLD\"}, {\"date\": \"2022-02-28T17:46:00\", \"actual\": 40880.0, \"position\": 40850.0, \"action\": \"HOLD\"}, {\"date\": \"2022-02-28T17:45:00\", \"actual\": 40887.63, \"position\": 40880.0, \"action\": \"HOLD\"}, {\"date\": \"2022-02-28T17:44:00\", \"actual\": 40903.91, \"position\": 40887.63, \"action\": \"HOLD\"}, {\"date\": \"2022-02-28T17:43:00\", \"actual\": 40892.96, \"position\": 40903.91, \"action\": \"HOLD\"}, {\"date\": \"2022-02-28T17:42:00\", \"actual\": 40927.0, \"position\": 40892.96, \"action\": \"HOLD\"}, {\"date\": \"2022-02-28T17:41:00\", \"actual\": 40859.95, \"position\": 40927.0, \"action\": \"HOLD\"}, {\"date\": \"2022-02-28T17:40:00\", \"actual\": 40918.04, \"position\": 40859.95, \"action\": \"HOLD\"}, {\"date\": \"2022-02-28T17:39:00\", \"actual\": 40914.89, \"position\": 40918.04, \"action\": \"HOLD\"}, {\"date\": \"2022-02-28T17:38:00\", \"actual\": 40936.29, \"position\": 40914.89, \"action\": \"HOLD\"}, {\"date\": \"2022-02-28T17:37:00\", \"actual\": 40910.63, \"position\": 40936.29, \"action\": \"HOLD\"}, {\"date\": \"2022-02-28T17:36:00\", \"actual\": 40941.04, \"position\": 40910.63, \"action\": \"HOLD\"}, {\"date\": \"2022-02-28T17:35:00\", \"actual\": 40977.02, \"position\": 40941.04, \"action\": \"HOLD\"}, {\"date\": \"2022-02-28T17:34:00\", \"actual\": 40910.68, \"position\": 40977.02, \"action\": \"HOLD\"}, {\"date\": \"2022-02-28T17:33:00\", \"actual\": 40926.64, \"position\": 40910.68, \"action\": \"HOLD\"}, {\"date\": \"2022-02-28T17:32:00\", \"actual\": 40938.45, \"position\": 40926.64, \"action\": \"HOLD\"}, {\"date\": \"2022-02-28T17:31:00\", \"actual\": 40986.34, \"position\": 40938.45, \"action\": \"HOLD\"}, {\"date\": \"2022-02-28T17:30:00\", \"actual\": 40947.79, \"position\": 40986.34, \"action\": \"HOLD\"}, {\"date\": \"2022-02-28T17:29:00\", \"actual\": 40918.24, \"position\": 40947.79, \"action\": \"HOLD\"}, {\"date\": \"2022-02-28T17:28:00\", \"actual\": 40914.64, \"position\": 40918.24, \"action\": \"HOLD\"}, {\"date\": \"2022-02-28T17:27:00\", \"actual\": 40924.44, \"position\": 40914.64, \"action\": \"HOLD\"}, {\"date\": \"2022-02-28T17:26:00\", \"actual\": 40928.44, \"position\": 40924.44, \"action\": \"HOLD\"}, {\"date\": \"2022-02-28T17:25:00\", \"actual\": 40903.24, \"position\": 40928.44, \"action\": \"HOLD\"}, {\"date\": \"2022-02-28T17:24:00\", \"actual\": 40873.22, \"position\": 40903.24, \"action\": \"HOLD\"}, {\"date\": \"2022-02-28T17:23:00\", \"actual\": 40879.11, \"position\": 40873.22, \"action\": \"HOLD\"}, {\"date\": \"2022-02-28T17:22:00\", \"actual\": 40976.94, \"position\": 40879.11, \"action\": \"HOLD\"}, {\"date\": \"2022-02-28T17:21:00\", \"actual\": 40999.76, \"position\": 40976.94, \"action\": \"HOLD\"}, {\"date\": \"2022-02-28T17:20:00\", \"actual\": 41006.05, \"position\": 40999.76, \"action\": \"HOLD\"}, {\"date\": \"2022-02-28T17:19:00\", \"actual\": 40926.62, \"position\": 41006.05, \"action\": \"HOLD\"}, {\"date\": \"2022-02-28T17:18:00\", \"actual\": 40950.55, \"position\": 40926.62, \"action\": \"HOLD\"}, {\"date\": \"2022-02-28T17:17:00\", \"actual\": 40862.17, \"position\": 40950.55, \"action\": \"HOLD\"}, {\"date\": \"2022-02-28T17:16:00\", \"actual\": 40760.36, \"position\": 40862.17, \"action\": \"HOLD\"}, {\"date\": \"2022-02-28T17:15:00\", \"actual\": 40826.32, \"position\": 40760.36, \"action\": \"HOLD\"}, {\"date\": \"2022-02-28T17:14:00\", \"actual\": 40921.7, \"position\": 40826.32, \"action\": \"HOLD\"}, {\"date\": \"2022-02-28T17:13:00\", \"actual\": 40920.36, \"position\": 40921.7, \"action\": \"HOLD\"}, {\"date\": \"2022-02-28T17:12:00\", \"actual\": 40924.03, \"position\": 40920.36, \"action\": \"HOLD\"}, {\"date\": \"2022-02-28T17:11:00\", \"actual\": 40940.65, \"position\": 40924.03, \"action\": \"HOLD\"}, {\"date\": \"2022-02-28T17:10:00\", \"actual\": 40886.3, \"position\": 40940.65, \"action\": \"HOLD\"}, {\"date\": \"2022-02-28T17:09:00\", \"actual\": 40915.92, \"position\": 40886.3, \"action\": \"HOLD\"}, {\"date\": \"2022-02-28T17:08:00\", \"actual\": 40900.0, \"position\": 40915.92, \"action\": \"HOLD\"}, {\"date\": \"2022-02-28T17:07:00\", \"actual\": 40945.65, \"position\": 40900.0, \"action\": \"HOLD\"}, {\"date\": \"2022-02-28T17:06:00\", \"actual\": 40943.65, \"position\": 40945.65, \"action\": \"HOLD\"}, {\"date\": \"2022-02-28T17:05:00\", \"actual\": 40941.14, \"position\": 40943.65, \"action\": \"HOLD\"}, {\"date\": \"2022-02-28T17:04:00\", \"actual\": 40988.11, \"position\": 40941.14, \"action\": \"HOLD\"}, {\"date\": \"2022-02-28T17:03:00\", \"actual\": 41053.99, \"position\": 40988.11, \"action\": \"HOLD\"}, {\"date\": \"2022-02-28T17:02:00\", \"actual\": 41082.35, \"position\": 41053.99, \"action\": \"HOLD\"}, {\"date\": \"2022-02-28T17:01:00\", \"actual\": 41064.06, \"position\": 41082.35, \"action\": \"HOLD\"}, {\"date\": \"2022-02-28T17:00:00\", \"actual\": 40973.34, \"position\": 41064.06, \"action\": \"HOLD\"}, {\"date\": \"2022-02-28T16:59:00\", \"actual\": 41008.37, \"position\": 40973.34, \"action\": \"HOLD\"}, {\"date\": \"2022-02-28T16:58:00\", \"actual\": 41021.46, \"position\": 41008.37, \"action\": \"HOLD\"}, {\"date\": \"2022-02-28T16:57:00\", \"actual\": 41061.94, \"position\": 41021.46, \"action\": \"HOLD\"}, {\"date\": \"2022-02-28T16:56:00\", \"actual\": 41052.68, \"position\": 41061.94, \"action\": \"HOLD\"}, {\"date\": \"2022-02-28T16:55:00\", \"actual\": 40999.15, \"position\": 41052.68, \"action\": \"HOLD\"}, {\"date\": \"2022-02-28T16:54:00\", \"actual\": 40989.16, \"position\": 40999.15, \"action\": \"HOLD\"}, {\"date\": \"2022-02-28T16:53:00\", \"actual\": 41040.87, \"position\": 40989.16, \"action\": \"HOLD\"}, {\"date\": \"2022-02-28T16:52:00\", \"actual\": 40926.18, \"position\": 41040.87, \"action\": \"HOLD\"}, {\"date\": \"2022-02-28T16:51:00\", \"actual\": 40873.67, \"position\": 40926.18, \"action\": \"HOLD\"}, {\"date\": \"2022-02-28T16:50:00\", \"actual\": 40900.0, \"position\": 40873.67, \"action\": \"HOLD\"}, {\"date\": \"2022-02-28T16:49:00\", \"actual\": 40982.76, \"position\": 40900.0, \"action\": \"HOLD\"}, {\"date\": \"2022-02-28T16:48:00\", \"actual\": 40963.45, \"position\": 40982.76, \"action\": \"HOLD\"}, {\"date\": \"2022-02-28T16:47:00\", \"actual\": 40974.86, \"position\": 40963.45, \"action\": \"HOLD\"}, {\"date\": \"2022-02-28T16:46:00\", \"actual\": 41037.3, \"position\": 40974.86, \"action\": \"HOLD\"}, {\"date\": \"2022-02-28T16:45:00\", \"actual\": 41103.79, \"position\": 41037.3, \"action\": \"HOLD\"}, {\"date\": \"2022-02-28T16:44:00\", \"actual\": 41151.28, \"position\": 41103.79, \"action\": \"HOLD\"}, {\"date\": \"2022-02-28T16:43:00\", \"actual\": 41219.41, \"position\": 41151.28, \"action\": \"HOLD\"}, {\"date\": \"2022-02-28T16:42:00\", \"actual\": 41214.72, \"position\": 41219.41, \"action\": \"HOLD\"}, {\"date\": \"2022-02-28T16:41:00\", \"actual\": 41267.84, \"position\": 41214.72, \"action\": \"HOLD\"}, {\"date\": \"2022-02-28T16:40:00\", \"actual\": 41174.01, \"position\": 41267.84, \"action\": \"HOLD\"}, {\"date\": \"2022-02-28T16:39:00\", \"actual\": 41132.4, \"position\": 41174.01, \"action\": \"HOLD\"}, {\"date\": \"2022-02-28T16:38:00\", \"actual\": 41090.99, \"position\": 41132.4, \"action\": \"HOLD\"}, {\"date\": \"2022-02-28T16:37:00\", \"actual\": 41130.63, \"position\": 41090.99, \"action\": \"HOLD\"}, {\"date\": \"2022-02-28T16:36:00\", \"actual\": 41109.28, \"position\": 41130.63, \"action\": \"HOLD\"}, {\"date\": \"2022-02-28T16:35:00\", \"actual\": 41068.39, \"position\": 41109.28, \"action\": \"HOLD\"}, {\"date\": \"2022-02-28T16:34:00\", \"actual\": 41099.09, \"position\": 41068.39, \"action\": \"HOLD\"}, {\"date\": \"2022-02-28T16:33:00\", \"actual\": 41099.59, \"position\": 41099.09, \"action\": \"HOLD\"}, {\"date\": \"2022-02-28T16:32:00\", \"actual\": 41146.35, \"position\": 41099.59, \"action\": \"HOLD\"}, {\"date\": \"2022-02-28T16:31:00\", \"actual\": 41133.3, \"position\": 41146.35, \"action\": \"HOLD\"}, {\"date\": \"2022-02-28T16:30:00\", \"actual\": 41186.4, \"position\": 41133.3, \"action\": \"HOLD\"}, {\"date\": \"2022-02-28T16:29:00\", \"actual\": 41154.23, \"position\": 41186.4, \"action\": \"HOLD\"}, {\"date\": \"2022-02-28T16:28:00\", \"actual\": 41240.92, \"position\": 41154.23, \"action\": \"HOLD\"}, {\"date\": \"2022-02-28T16:27:00\", \"actual\": 41255.28, \"position\": 41240.92, \"action\": \"HOLD\"}, {\"date\": \"2022-02-28T16:26:00\", \"actual\": 41302.94, \"position\": 41255.28, \"action\": \"HOLD\"}, {\"date\": \"2022-02-28T16:25:00\", \"actual\": 41217.21, \"position\": 41302.94, \"action\": \"HOLD\"}, {\"date\": \"2022-02-28T16:24:00\", \"actual\": 41230.46, \"position\": 41217.21, \"action\": \"HOLD\"}, {\"date\": \"2022-02-28T16:23:00\", \"actual\": 41181.81, \"position\": 41230.46, \"action\": \"HOLD\"}, {\"date\": \"2022-02-28T16:22:00\", \"actual\": 41051.88, \"position\": 41181.81, \"action\": \"HOLD\"}, {\"date\": \"2022-02-28T16:21:00\", \"actual\": 41035.17, \"position\": 41051.88, \"action\": \"HOLD\"}, {\"date\": \"2022-02-28T16:20:00\", \"actual\": 41052.18, \"position\": 41035.17, \"action\": \"HOLD\"}, {\"date\": \"2022-02-28T16:19:00\", \"actual\": 41047.77, \"position\": 41052.18, \"action\": \"HOLD\"}, {\"date\": \"2022-02-28T16:18:00\", \"actual\": 41020.67, \"position\": 41047.77, \"action\": \"HOLD\"}, {\"date\": \"2022-02-28T16:17:00\", \"actual\": 40969.75, \"position\": 41020.67, \"action\": \"HOLD\"}, {\"date\": \"2022-02-28T16:16:00\", \"actual\": 40907.84, \"position\": 40969.75, \"action\": \"BUY\"}, {\"date\": \"2022-02-28T16:15:00\", \"actual\": 40903.84, \"position\": 40907.84, \"action\": \"SELL\"}, {\"date\": \"2022-02-28T16:14:00\", \"actual\": 40924.04, \"position\": 40903.84, \"action\": \"HOLD\"}, {\"date\": \"2022-02-28T16:13:00\", \"actual\": 40936.57, \"position\": 40924.04, \"action\": \"HOLD\"}, {\"date\": \"2022-02-28T16:12:00\", \"actual\": 40896.45, \"position\": 40936.57, \"action\": \"HOLD\"}, {\"date\": \"2022-02-28T16:11:00\", \"actual\": 40861.68, \"position\": 40896.45, \"action\": \"HOLD\"}, {\"date\": \"2022-02-28T16:10:00\", \"actual\": 40780.9, \"position\": 40861.68, \"action\": \"HOLD\"}, {\"date\": \"2022-02-28T16:09:00\", \"actual\": 40868.89, \"position\": 40780.9, \"action\": \"HOLD\"}, {\"date\": \"2022-02-28T16:08:00\", \"actual\": 40885.13, \"position\": 40868.89, \"action\": \"HOLD\"}, {\"date\": \"2022-02-28T16:07:00\", \"actual\": 40899.34, \"position\": 40885.13, \"action\": \"HOLD\"}, {\"date\": \"2022-02-28T16:06:00\", \"actual\": 40965.25, \"position\": 40899.34, \"action\": \"HOLD\"}, {\"date\": \"2022-02-28T16:05:00\", \"actual\": 41059.59, \"position\": 40965.25, \"action\": \"HOLD\"}, {\"date\": \"2022-02-28T16:04:00\", \"actual\": 41169.87, \"position\": 41059.59, \"action\": \"HOLD\"}, {\"date\": \"2022-02-28T16:03:00\", \"actual\": 41133.06, \"position\": 41169.87, \"action\": \"HOLD\"}, {\"date\": \"2022-02-28T16:02:00\", \"actual\": 40978.94, \"position\": 41133.06, \"action\": \"HOLD\"}, {\"date\": \"2022-02-28T16:01:00\", \"actual\": 40916.54, \"position\": 40978.94, \"action\": \"HOLD\"}, {\"date\": \"2022-02-28T16:00:00\", \"actual\": 40862.08, \"position\": 40916.54, \"action\": \"HOLD\"}, {\"date\": \"2022-02-28T15:59:00\", \"actual\": 40846.38, \"position\": 40862.08, \"action\": \"HOLD\"}, {\"date\": \"2022-02-28T15:58:00\", \"actual\": 40827.98, \"position\": 40846.38, \"action\": \"HOLD\"}, {\"date\": \"2022-02-28T15:57:00\", \"actual\": 40764.49, \"position\": 40827.98, \"action\": \"HOLD\"}, {\"date\": \"2022-02-28T15:56:00\", \"actual\": 40876.33, \"position\": 40764.49, \"action\": \"HOLD\"}, {\"date\": \"2022-02-28T15:55:00\", \"actual\": 40747.53, \"position\": 40876.33, \"action\": \"HOLD\"}, {\"date\": \"2022-02-28T15:54:00\", \"actual\": 40714.55, \"position\": 40747.53, \"action\": \"HOLD\"}, {\"date\": \"2022-02-28T15:53:00\", \"actual\": 40711.74, \"position\": 40714.55, \"action\": \"HOLD\"}, {\"date\": \"2022-02-28T15:52:00\", \"actual\": 40721.79, \"position\": 40711.74, \"action\": \"HOLD\"}, {\"date\": \"2022-02-28T15:51:00\", \"actual\": 40618.28, \"position\": 40721.79, \"action\": \"HOLD\"}, {\"date\": \"2022-02-28T15:50:00\", \"actual\": 40590.04, \"position\": 40618.28, \"action\": \"HOLD\"}, {\"date\": \"2022-02-28T15:49:00\", \"actual\": 40618.55, \"position\": 40590.04, \"action\": \"HOLD\"}, {\"date\": \"2022-02-28T15:48:00\", \"actual\": 40627.66, \"position\": 40618.55, \"action\": \"HOLD\"}, {\"date\": \"2022-02-28T15:47:00\", \"actual\": 40620.97, \"position\": 40627.66, \"action\": \"HOLD\"}, {\"date\": \"2022-02-28T15:46:00\", \"actual\": 40650.06, \"position\": 40620.97, \"action\": \"HOLD\"}, {\"date\": \"2022-02-28T15:45:00\", \"actual\": 40571.35, \"position\": 40650.06, \"action\": \"HOLD\"}, {\"date\": \"2022-02-28T15:44:00\", \"actual\": 40512.6, \"position\": 40571.35, \"action\": \"HOLD\"}, {\"date\": \"2022-02-28T15:43:00\", \"actual\": 40631.23, \"position\": 40512.6, \"action\": \"HOLD\"}, {\"date\": \"2022-02-28T15:42:00\", \"actual\": 40618.31, \"position\": 40631.23, \"action\": \"HOLD\"}, {\"date\": \"2022-02-28T15:41:00\", \"actual\": 40631.53, \"position\": 40618.31, \"action\": \"HOLD\"}, {\"date\": \"2022-02-28T15:40:00\", \"actual\": 40623.16, \"position\": 40631.53, \"action\": \"HOLD\"}, {\"date\": \"2022-02-28T15:39:00\", \"actual\": 40586.93, \"position\": 40623.16, \"action\": \"HOLD\"}, {\"date\": \"2022-02-28T15:38:00\", \"actual\": 40678.13, \"position\": 40586.93, \"action\": \"HOLD\"}, {\"date\": \"2022-02-28T15:37:00\", \"actual\": 40620.0, \"position\": 40678.13, \"action\": \"HOLD\"}, {\"date\": \"2022-02-28T15:36:00\", \"actual\": 40718.55, \"position\": 40620.0, \"action\": \"HOLD\"}, {\"date\": \"2022-02-28T15:35:00\", \"actual\": 40666.38, \"position\": 40718.55, \"action\": \"HOLD\"}, {\"date\": \"2022-02-28T15:34:00\", \"actual\": 40635.82, \"position\": 40666.38, \"action\": \"HOLD\"}, {\"date\": \"2022-02-28T15:33:00\", \"actual\": 40599.13, \"position\": 40635.82, \"action\": \"HOLD\"}, {\"date\": \"2022-02-28T15:32:00\", \"actual\": 40577.75, \"position\": 40599.13, \"action\": \"HOLD\"}, {\"date\": \"2022-02-28T15:31:00\", \"actual\": 40593.35, \"position\": 40577.75, \"action\": \"HOLD\"}, {\"date\": \"2022-02-28T15:30:00\", \"actual\": 40604.05, \"position\": 40593.35, \"action\": \"HOLD\"}, {\"date\": \"2022-02-28T15:29:00\", \"actual\": 40477.63, \"position\": 40604.05, \"action\": \"HOLD\"}, {\"date\": \"2022-02-28T15:28:00\", \"actual\": 40487.93, \"position\": 40477.63, \"action\": \"HOLD\"}, {\"date\": \"2022-02-28T15:27:00\", \"actual\": 40514.63, \"position\": 40487.93, \"action\": \"HOLD\"}, {\"date\": \"2022-02-28T15:26:00\", \"actual\": 40430.27, \"position\": 40514.63, \"action\": \"HOLD\"}, {\"date\": \"2022-02-28T15:25:00\", \"actual\": 40485.51, \"position\": 40430.27, \"action\": \"HOLD\"}, {\"date\": \"2022-02-28T15:24:00\", \"actual\": 40527.15, \"position\": 40485.51, \"action\": \"HOLD\"}, {\"date\": \"2022-02-28T15:23:00\", \"actual\": 40627.27, \"position\": 40527.15, \"action\": \"HOLD\"}, {\"date\": \"2022-02-28T15:22:00\", \"actual\": 40645.46, \"position\": 40627.27, \"action\": \"HOLD\"}, {\"date\": \"2022-02-28T15:21:00\", \"actual\": 40617.46, \"position\": 40645.46, \"action\": \"HOLD\"}, {\"date\": \"2022-02-28T15:20:00\", \"actual\": 40449.07, \"position\": 40617.46, \"action\": \"HOLD\"}, {\"date\": \"2022-02-28T15:19:00\", \"actual\": 40536.37, \"position\": 40449.07, \"action\": \"HOLD\"}, {\"date\": \"2022-02-28T15:18:00\", \"actual\": 40427.2, \"position\": 40536.37, \"action\": \"HOLD\"}, {\"date\": \"2022-02-28T15:17:00\", \"actual\": 40336.66, \"position\": 40427.2, \"action\": \"HOLD\"}, {\"date\": \"2022-02-28T15:16:00\", \"actual\": 39959.09, \"position\": 40336.66, \"action\": \"HOLD\"}, {\"date\": \"2022-02-28T15:15:00\", \"actual\": 39848.52, \"position\": 39959.09, \"action\": \"HOLD\"}, {\"date\": \"2022-02-28T15:14:00\", \"actual\": 39797.66, \"position\": 39848.52, \"action\": \"HOLD\"}, {\"date\": \"2022-02-28T15:13:00\", \"actual\": 39774.64, \"position\": 39797.66, \"action\": \"HOLD\"}, {\"date\": \"2022-02-28T15:12:00\", \"actual\": 39764.94, \"position\": 39774.64, \"action\": \"HOLD\"}, {\"date\": \"2022-02-28T15:11:00\", \"actual\": 39748.19, \"position\": 39764.94, \"action\": \"HOLD\"}, {\"date\": \"2022-02-28T15:10:00\", \"actual\": 39761.47, \"position\": 39748.19, \"action\": \"HOLD\"}, {\"date\": \"2022-02-28T15:09:00\", \"actual\": 39729.99, \"position\": 39761.47, \"action\": \"HOLD\"}, {\"date\": \"2022-02-28T15:08:00\", \"actual\": 39768.04, \"position\": 39729.99, \"action\": \"HOLD\"}, {\"date\": \"2022-02-28T15:07:00\", \"actual\": 39772.14, \"position\": 39768.04, \"action\": \"HOLD\"}, {\"date\": \"2022-02-28T15:06:00\", \"actual\": 39749.88, \"position\": 39772.14, \"action\": \"HOLD\"}, {\"date\": \"2022-02-28T15:05:00\", \"actual\": 39772.77, \"position\": 39749.88, \"action\": \"HOLD\"}, {\"date\": \"2022-02-28T15:04:00\", \"actual\": 39707.82, \"position\": 39772.77, \"action\": \"HOLD\"}, {\"date\": \"2022-02-28T15:03:00\", \"actual\": 39634.59, \"position\": 39707.82, \"action\": \"HOLD\"}, {\"date\": \"2022-02-28T15:02:00\", \"actual\": 39760.94, \"position\": 39634.59, \"action\": \"HOLD\"}, {\"date\": \"2022-02-28T15:01:00\", \"actual\": 39762.37, \"position\": 39760.94, \"action\": \"HOLD\"}, {\"date\": \"2022-02-28T15:00:00\", \"actual\": 39830.08, \"position\": 39762.37, \"action\": \"HOLD\"}, {\"date\": \"2022-02-28T14:59:00\", \"actual\": 39840.1, \"position\": 39830.08, \"action\": \"HOLD\"}, {\"date\": \"2022-02-28T14:58:00\", \"actual\": 39871.47, \"position\": 39840.1, \"action\": \"HOLD\"}, {\"date\": \"2022-02-28T14:57:00\", \"actual\": 39823.89, \"position\": 39871.47, \"action\": \"HOLD\"}, {\"date\": \"2022-02-28T14:56:00\", \"actual\": 39699.99, \"position\": 39823.89, \"action\": \"HOLD\"}, {\"date\": \"2022-02-28T14:55:00\", \"actual\": 39674.91, \"position\": 39699.99, \"action\": \"HOLD\"}, {\"date\": \"2022-02-28T14:54:00\", \"actual\": 39592.07, \"position\": 39674.91, \"action\": \"HOLD\"}, {\"date\": \"2022-02-28T14:53:00\", \"actual\": 39592.52, \"position\": 39592.07, \"action\": \"HOLD\"}, {\"date\": \"2022-02-28T14:52:00\", \"actual\": 39418.2, \"position\": 39592.52, \"action\": \"HOLD\"}, {\"date\": \"2022-02-28T14:51:00\", \"actual\": 39404.14, \"position\": 39418.2, \"action\": \"HOLD\"}, {\"date\": \"2022-02-28T14:50:00\", \"actual\": 39447.63, \"position\": 39404.14, \"action\": \"HOLD\"}, {\"date\": \"2022-02-28T14:49:00\", \"actual\": 39355.27, \"position\": 39447.63, \"action\": \"HOLD\"}, {\"date\": \"2022-02-28T14:48:00\", \"actual\": 39368.7, \"position\": 39355.27, \"action\": \"HOLD\"}, {\"date\": \"2022-02-28T14:47:00\", \"actual\": 39350.13, \"position\": 39368.7, \"action\": \"HOLD\"}, {\"date\": \"2022-02-28T14:46:00\", \"actual\": 39299.01, \"position\": 39350.13, \"action\": \"HOLD\"}, {\"date\": \"2022-02-28T14:45:00\", \"actual\": 39355.7, \"position\": 39299.01, \"action\": \"HOLD\"}, {\"date\": \"2022-02-28T14:44:00\", \"actual\": 39309.75, \"position\": 39355.7, \"action\": \"HOLD\"}, {\"date\": \"2022-02-28T14:43:00\", \"actual\": 39291.34, \"position\": 39309.75, \"action\": \"HOLD\"}, {\"date\": \"2022-02-28T14:42:00\", \"actual\": 39315.6, \"position\": 39291.34, \"action\": \"HOLD\"}, {\"date\": \"2022-02-28T14:41:00\", \"actual\": 39272.61, \"position\": 39315.6, \"action\": \"HOLD\"}, {\"date\": \"2022-02-28T14:40:00\", \"actual\": 39215.78, \"position\": 39272.61, \"action\": \"HOLD\"}, {\"date\": \"2022-02-28T14:39:00\", \"actual\": 39239.0, \"position\": 39215.78, \"action\": \"HOLD\"}, {\"date\": \"2022-02-28T14:38:00\", \"actual\": 39274.0, \"position\": 39239.0, \"action\": \"HOLD\"}, {\"date\": \"2022-02-28T14:37:00\", \"actual\": 39322.23, \"position\": 39274.0, \"action\": \"HOLD\"}, {\"date\": \"2022-02-28T14:36:00\", \"actual\": 39370.37, \"position\": 39322.23, \"action\": \"HOLD\"}, {\"date\": \"2022-02-28T14:35:00\", \"actual\": 39444.92, \"position\": 39370.37, \"action\": \"HOLD\"}, {\"date\": \"2022-02-28T14:34:00\", \"actual\": 39421.4, \"position\": 39444.92, \"action\": \"HOLD\"}, {\"date\": \"2022-02-28T14:33:00\", \"actual\": 39242.8, \"position\": 39421.4, \"action\": \"HOLD\"}, {\"date\": \"2022-02-28T14:32:00\", \"actual\": 39296.43, \"position\": 39242.8, \"action\": \"HOLD\"}, {\"date\": \"2022-02-28T14:31:00\", \"actual\": 39249.29, \"position\": 39296.43, \"action\": \"HOLD\"}, {\"date\": \"2022-02-28T14:30:00\", \"actual\": 39150.47, \"position\": 39249.29, \"action\": \"HOLD\"}, {\"date\": \"2022-02-28T14:29:00\", \"actual\": 38981.7, \"position\": 39150.47, \"action\": \"HOLD\"}, {\"date\": \"2022-02-28T14:28:00\", \"actual\": 39023.35, \"position\": 38981.7, \"action\": \"HOLD\"}, {\"date\": \"2022-02-28T14:27:00\", \"actual\": 38890.61, \"position\": 39023.35, \"action\": \"HOLD\"}, {\"date\": \"2022-02-28T14:26:00\", \"actual\": 38830.2, \"position\": 38890.61, \"action\": \"HOLD\"}, {\"date\": \"2022-02-28T14:25:00\", \"actual\": 38888.3, \"position\": 38830.2, \"action\": \"HOLD\"}, {\"date\": \"2022-02-28T14:24:00\", \"actual\": 38797.17, \"position\": 38888.3, \"action\": \"HOLD\"}, {\"date\": \"2022-02-28T14:23:00\", \"actual\": 38874.31, \"position\": 38797.17, \"action\": \"HOLD\"}, {\"date\": \"2022-02-28T14:22:00\", \"actual\": 38844.89, \"position\": 38874.31, \"action\": \"HOLD\"}, {\"date\": \"2022-02-28T14:21:00\", \"actual\": 38776.67, \"position\": 38844.89, \"action\": \"HOLD\"}, {\"date\": \"2022-02-28T14:20:00\", \"actual\": 38778.06, \"position\": 38776.67, \"action\": \"HOLD\"}, {\"date\": \"2022-02-28T14:19:00\", \"actual\": 38813.73, \"position\": 38778.06, \"action\": \"HOLD\"}, {\"date\": \"2022-02-28T14:18:00\", \"actual\": 38859.6, \"position\": 38813.73, \"action\": \"HOLD\"}, {\"date\": \"2022-02-28T14:17:00\", \"actual\": 38871.85, \"position\": 38859.6, \"action\": \"HOLD\"}, {\"date\": \"2022-02-28T14:16:00\", \"actual\": 38801.0, \"position\": 38871.85, \"action\": \"HOLD\"}, {\"date\": \"2022-02-28T14:15:00\", \"actual\": 38501.13, \"position\": 38801.0, \"action\": \"HOLD\"}, {\"date\": \"2022-02-28T14:14:00\", \"actual\": 38320.94, \"position\": 38501.13, \"action\": \"HOLD\"}, {\"date\": \"2022-02-28T14:13:00\", \"actual\": 38208.43, \"position\": 38320.94, \"action\": \"HOLD\"}, {\"date\": \"2022-02-28T14:12:00\", \"actual\": 38199.98, \"position\": 38208.43, \"action\": \"HOLD\"}, {\"date\": \"2022-02-28T14:11:00\", \"actual\": 38111.61, \"position\": 38199.98, \"action\": \"HOLD\"}, {\"date\": \"2022-02-28T14:10:00\", \"actual\": 38169.56, \"position\": 38111.61, \"action\": \"HOLD\"}, {\"date\": \"2022-02-28T14:09:00\", \"actual\": 38103.99, \"position\": 38169.56, \"action\": \"HOLD\"}, {\"date\": \"2022-02-28T14:08:00\", \"actual\": 38088.0, \"position\": 38103.99, \"action\": \"HOLD\"}, {\"date\": \"2022-02-28T14:07:00\", \"actual\": 38088.81, \"position\": 38088.0, \"action\": \"HOLD\"}, {\"date\": \"2022-02-28T14:06:00\", \"actual\": 38093.21, \"position\": 38088.81, \"action\": \"HOLD\"}, {\"date\": \"2022-02-28T14:05:00\", \"actual\": 38052.79, \"position\": 38093.21, \"action\": \"HOLD\"}, {\"date\": \"2022-02-28T14:04:00\", \"actual\": 38042.29, \"position\": 38052.79, \"action\": \"HOLD\"}, {\"date\": \"2022-02-28T14:03:00\", \"actual\": 38059.08, \"position\": 38042.29, \"action\": \"HOLD\"}, {\"date\": \"2022-02-28T14:02:00\", \"actual\": 38076.04, \"position\": 38059.08, \"action\": \"HOLD\"}, {\"date\": \"2022-02-28T14:01:00\", \"actual\": 38040.79, \"position\": 38076.04, \"action\": \"HOLD\"}, {\"date\": \"2022-02-28T14:00:00\", \"actual\": 38038.03, \"position\": 38040.79, \"action\": \"HOLD\"}, {\"date\": \"2022-02-28T13:59:00\", \"actual\": 38056.2, \"position\": 38038.03, \"action\": \"HOLD\"}, {\"date\": \"2022-02-28T13:58:00\", \"actual\": 38053.6, \"position\": 38056.2, \"action\": \"HOLD\"}, {\"date\": \"2022-02-28T13:57:00\", \"actual\": 38056.05, \"position\": 38053.6, \"action\": \"HOLD\"}, {\"date\": \"2022-02-28T13:56:00\", \"actual\": 38036.09, \"position\": 38056.05, \"action\": \"HOLD\"}, {\"date\": \"2022-02-28T13:55:00\", \"actual\": 38046.99, \"position\": 38036.09, \"action\": \"HOLD\"}, {\"date\": \"2022-02-28T13:54:00\", \"actual\": 38076.76, \"position\": 38046.99, \"action\": \"HOLD\"}, {\"date\": \"2022-02-28T13:53:00\", \"actual\": 38083.97, \"position\": 38076.76, \"action\": \"HOLD\"}, {\"date\": \"2022-02-28T13:52:00\", \"actual\": 38087.83, \"position\": 38083.97, \"action\": \"HOLD\"}, {\"date\": \"2022-02-28T13:51:00\", \"actual\": 38064.58, \"position\": 38087.83, \"action\": \"HOLD\"}, {\"date\": \"2022-02-28T13:50:00\", \"actual\": 38045.69, \"position\": 38064.58, \"action\": \"HOLD\"}, {\"date\": \"2022-02-28T13:49:00\", \"actual\": 38006.58, \"position\": 38045.69, \"action\": \"HOLD\"}, {\"date\": \"2022-02-28T13:48:00\", \"actual\": 38004.97, \"position\": 38006.58, \"action\": \"HOLD\"}, {\"date\": \"2022-02-28T13:47:00\", \"actual\": 38036.47, \"position\": 38004.97, \"action\": \"HOLD\"}, {\"date\": \"2022-02-28T13:46:00\", \"actual\": 38022.32, \"position\": 38036.47, \"action\": \"HOLD\"}, {\"date\": \"2022-02-28T13:45:00\", \"actual\": 38062.49, \"position\": 38022.32, \"action\": \"HOLD\"}, {\"date\": \"2022-02-28T13:44:00\", \"actual\": 38018.5, \"position\": 38062.49, \"action\": \"HOLD\"}, {\"date\": \"2022-02-28T13:43:00\", \"actual\": 38004.68, \"position\": 38018.5, \"action\": \"HOLD\"}, {\"date\": \"2022-02-28T13:42:00\", \"actual\": 38039.38, \"position\": 38004.68, \"action\": \"HOLD\"}, {\"date\": \"2022-02-28T13:41:00\", \"actual\": 38026.15, \"position\": 38039.38, \"action\": \"HOLD\"}, {\"date\": \"2022-02-28T13:40:00\", \"actual\": 38038.18, \"position\": 38026.15, \"action\": \"HOLD\"}, {\"date\": \"2022-02-28T13:39:00\", \"actual\": 38003.0, \"position\": 38038.18, \"action\": \"HOLD\"}, {\"date\": \"2022-02-28T13:38:00\", \"actual\": 37998.64, \"position\": 38003.0, \"action\": \"HOLD\"}, {\"date\": \"2022-02-28T13:37:00\", \"actual\": 37991.45, \"position\": 37998.64, \"action\": \"HOLD\"}, {\"date\": \"2022-02-28T13:36:00\", \"actual\": 37980.44, \"position\": 37991.45, \"action\": \"HOLD\"}, {\"date\": \"2022-02-28T13:35:00\", \"actual\": 37968.4, \"position\": 37980.44, \"action\": \"HOLD\"}, {\"date\": \"2022-02-28T13:34:00\", \"actual\": 38045.67, \"position\": 37968.4, \"action\": \"HOLD\"}, {\"date\": \"2022-02-28T13:33:00\", \"actual\": 38022.49, \"position\": 38045.67, \"action\": \"HOLD\"}, {\"date\": \"2022-02-28T13:32:00\", \"actual\": 38093.32, \"position\": 38022.49, \"action\": \"HOLD\"}, {\"date\": \"2022-02-28T13:31:00\", \"actual\": 38095.4, \"position\": 38093.32, \"action\": \"HOLD\"}, {\"date\": \"2022-02-28T13:30:00\", \"actual\": 38073.6, \"position\": 38095.4, \"action\": \"HOLD\"}, {\"date\": \"2022-02-28T13:29:00\", \"actual\": 38089.04, \"position\": 38073.6, \"action\": \"HOLD\"}, {\"date\": \"2022-02-28T13:28:00\", \"actual\": 38023.25, \"position\": 38089.04, \"action\": \"HOLD\"}, {\"date\": \"2022-02-28T13:27:00\", \"actual\": 38028.04, \"position\": 38023.25, \"action\": \"HOLD\"}, {\"date\": \"2022-02-28T13:26:00\", \"actual\": 38033.42, \"position\": 38028.04, \"action\": \"HOLD\"}, {\"date\": \"2022-02-28T13:25:00\", \"actual\": 37966.46, \"position\": 38033.42, \"action\": \"HOLD\"}, {\"date\": \"2022-02-28T13:24:00\", \"actual\": 38017.51, \"position\": 37966.46, \"action\": \"HOLD\"}, {\"date\": \"2022-02-28T13:23:00\", \"actual\": 38092.22, \"position\": 38017.51, \"action\": \"HOLD\"}, {\"date\": \"2022-02-28T13:22:00\", \"actual\": 38191.6, \"position\": 38092.22, \"action\": \"HOLD\"}, {\"date\": \"2022-02-28T13:21:00\", \"actual\": 38202.78, \"position\": 38191.6, \"action\": \"HOLD\"}, {\"date\": \"2022-02-28T13:20:00\", \"actual\": 38243.13, \"position\": 38202.78, \"action\": \"HOLD\"}, {\"date\": \"2022-02-28T13:19:00\", \"actual\": 38272.95, \"position\": 38243.13, \"action\": \"HOLD\"}, {\"date\": \"2022-02-28T13:18:00\", \"actual\": 38285.37, \"position\": 38272.95, \"action\": \"HOLD\"}, {\"date\": \"2022-02-28T13:17:00\", \"actual\": 38273.99, \"position\": 38285.37, \"action\": \"HOLD\"}, {\"date\": \"2022-02-28T13:16:00\", \"actual\": 38290.1, \"position\": 38273.99, \"action\": \"HOLD\"}, {\"date\": \"2022-02-28T13:15:00\", \"actual\": 38313.23, \"position\": 38290.1, \"action\": \"HOLD\"}, {\"date\": \"2022-02-28T13:14:00\", \"actual\": 38309.15, \"position\": 38313.23, \"action\": \"HOLD\"}, {\"date\": \"2022-02-28T13:13:00\", \"actual\": 38340.0, \"position\": 38309.15, \"action\": \"HOLD\"}, {\"date\": \"2022-02-28T13:12:00\", \"actual\": 38362.48, \"position\": 38340.0, \"action\": \"HOLD\"}, {\"date\": \"2022-02-28T13:11:00\", \"actual\": 38326.84, \"position\": 38362.48, \"action\": \"HOLD\"}, {\"date\": \"2022-02-28T13:10:00\", \"actual\": 38309.26, \"position\": 38326.84, \"action\": \"HOLD\"}, {\"date\": \"2022-02-28T13:09:00\", \"actual\": 38289.83, \"position\": 38309.26, \"action\": \"HOLD\"}, {\"date\": \"2022-02-28T13:08:00\", \"actual\": 38247.0, \"position\": 38289.83, \"action\": \"HOLD\"}, {\"date\": \"2022-02-28T13:07:00\", \"actual\": 38294.23, \"position\": 38247.0, \"action\": \"HOLD\"}, {\"date\": \"2022-02-28T13:06:00\", \"actual\": 38254.75, \"position\": 38294.23, \"action\": \"HOLD\"}, {\"date\": \"2022-02-28T13:05:00\", \"actual\": 38225.54, \"position\": 38254.75, \"action\": \"HOLD\"}, {\"date\": \"2022-02-28T13:04:00\", \"actual\": 38210.97, \"position\": 38225.54, \"action\": \"HOLD\"}, {\"date\": \"2022-02-28T13:03:00\", \"actual\": 38219.99, \"position\": 38210.97, \"action\": \"HOLD\"}, {\"date\": \"2022-02-28T13:02:00\", \"actual\": 38241.2, \"position\": 38219.99, \"action\": \"HOLD\"}, {\"date\": \"2022-02-28T13:01:00\", \"actual\": 38196.87, \"position\": 38241.2, \"action\": \"HOLD\"}, {\"date\": \"2022-02-28T13:00:00\", \"actual\": 38183.45, \"position\": 38196.87, \"action\": \"HOLD\"}, {\"date\": \"2022-02-28T12:59:00\", \"actual\": 38271.13, \"position\": 38183.45, \"action\": \"HOLD\"}, {\"date\": \"2022-02-28T12:58:00\", \"actual\": 38345.88, \"position\": 38271.13, \"action\": \"HOLD\"}, {\"date\": \"2022-02-28T12:57:00\", \"actual\": 38397.69, \"position\": 38345.88, \"action\": \"HOLD\"}, {\"date\": \"2022-02-28T12:56:00\", \"actual\": 38383.15, \"position\": 38397.69, \"action\": \"HOLD\"}, {\"date\": \"2022-02-28T12:55:00\", \"actual\": 38410.24, \"position\": 38383.15, \"action\": \"HOLD\"}, {\"date\": \"2022-02-28T12:54:00\", \"actual\": 38430.39, \"position\": 38410.24, \"action\": \"HOLD\"}, {\"date\": \"2022-02-28T12:53:00\", \"actual\": 38398.3, \"position\": 38430.39, \"action\": \"HOLD\"}, {\"date\": \"2022-02-28T12:52:00\", \"actual\": 38414.55, \"position\": 38398.3, \"action\": \"HOLD\"}, {\"date\": \"2022-02-28T12:51:00\", \"actual\": 38436.35, \"position\": 38414.55, \"action\": \"HOLD\"}, {\"date\": \"2022-02-28T12:50:00\", \"actual\": 38447.43, \"position\": 38436.35, \"action\": \"HOLD\"}, {\"date\": \"2022-02-28T12:49:00\", \"actual\": 38415.35, \"position\": 38447.43, \"action\": \"HOLD\"}, {\"date\": \"2022-02-28T12:48:00\", \"actual\": 38417.8, \"position\": 38415.35, \"action\": \"HOLD\"}, {\"date\": \"2022-02-28T12:47:00\", \"actual\": 38455.3, \"position\": 38417.8, \"action\": \"HOLD\"}, {\"date\": \"2022-02-28T12:46:00\", \"actual\": 38491.06, \"position\": 38455.3, \"action\": \"HOLD\"}, {\"date\": \"2022-02-28T12:45:00\", \"actual\": 38462.47, \"position\": 38491.06, \"action\": \"HOLD\"}, {\"date\": \"2022-02-28T12:44:00\", \"actual\": 38458.3, \"position\": 38462.47, \"action\": \"HOLD\"}, {\"date\": \"2022-02-28T12:43:00\", \"actual\": 38403.03, \"position\": 38458.3, \"action\": \"HOLD\"}, {\"date\": \"2022-02-28T12:42:00\", \"actual\": 38453.11, \"position\": 38403.03, \"action\": \"HOLD\"}, {\"date\": \"2022-02-28T12:41:00\", \"actual\": 38483.31, \"position\": 38453.11, \"action\": \"HOLD\"}, {\"date\": \"2022-02-28T12:40:00\", \"actual\": 38572.43, \"position\": 38483.31, \"action\": \"HOLD\"}, {\"date\": \"2022-02-28T12:39:00\", \"actual\": 38564.58, \"position\": 38572.43, \"action\": \"HOLD\"}, {\"date\": \"2022-02-28T12:38:00\", \"actual\": 38566.5, \"position\": 38564.58, \"action\": \"HOLD\"}, {\"date\": \"2022-02-28T12:37:00\", \"actual\": 38562.43, \"position\": 38566.5, \"action\": \"HOLD\"}, {\"date\": \"2022-02-28T12:36:00\", \"actual\": 38598.08, \"position\": 38562.43, \"action\": \"HOLD\"}, {\"date\": \"2022-02-28T12:35:00\", \"actual\": 38577.82, \"position\": 38598.08, \"action\": \"HOLD\"}, {\"date\": \"2022-02-28T12:34:00\", \"actual\": 38563.01, \"position\": 38577.82, \"action\": \"HOLD\"}, {\"date\": \"2022-02-28T12:33:00\", \"actual\": 38529.77, \"position\": 38563.01, \"action\": \"HOLD\"}, {\"date\": \"2022-02-28T12:32:00\", \"actual\": 38483.31, \"position\": 38529.77, \"action\": \"HOLD\"}, {\"date\": \"2022-02-28T12:31:00\", \"actual\": 38542.82, \"position\": 38483.31, \"action\": \"HOLD\"}, {\"date\": \"2022-02-28T12:30:00\", \"actual\": 38553.63, \"position\": 38542.82, \"action\": \"HOLD\"}, {\"date\": \"2022-02-28T12:29:00\", \"actual\": 38498.85, \"position\": 38553.63, \"action\": \"HOLD\"}, {\"date\": \"2022-02-28T12:28:00\", \"actual\": 38506.99, \"position\": 38498.85, \"action\": \"HOLD\"}, {\"date\": \"2022-02-28T12:27:00\", \"actual\": 38511.94, \"position\": 38506.99, \"action\": \"HOLD\"}, {\"date\": \"2022-02-28T12:26:00\", \"actual\": 38549.44, \"position\": 38511.94, \"action\": \"HOLD\"}, {\"date\": \"2022-02-28T12:25:00\", \"actual\": 38584.07, \"position\": 38549.44, \"action\": \"HOLD\"}, {\"date\": \"2022-02-28T12:24:00\", \"actual\": 38596.25, \"position\": 38584.07, \"action\": \"HOLD\"}, {\"date\": \"2022-02-28T12:23:00\", \"actual\": 38545.77, \"position\": 38596.25, \"action\": \"HOLD\"}, {\"date\": \"2022-02-28T12:22:00\", \"actual\": 38569.15, \"position\": 38545.77, \"action\": \"HOLD\"}, {\"date\": \"2022-02-28T12:21:00\", \"actual\": 38570.32, \"position\": 38569.15, \"action\": \"HOLD\"}, {\"date\": \"2022-02-28T12:20:00\", \"actual\": 38473.87, \"position\": 38570.32, \"action\": \"HOLD\"}, {\"date\": \"2022-02-28T12:19:00\", \"actual\": 38500.39, \"position\": 38473.87, \"action\": \"HOLD\"}, {\"date\": \"2022-02-28T12:18:00\", \"actual\": 38363.26, \"position\": 38500.39, \"action\": \"HOLD\"}, {\"date\": \"2022-02-28T12:17:00\", \"actual\": 38329.67, \"position\": 38363.26, \"action\": \"HOLD\"}, {\"date\": \"2022-02-28T12:16:00\", \"actual\": 38333.33, \"position\": 38329.67, \"action\": \"HOLD\"}, {\"date\": \"2022-02-28T12:15:00\", \"actual\": 38323.97, \"position\": 38333.33, \"action\": \"HOLD\"}, {\"date\": \"2022-02-28T12:14:00\", \"actual\": 38286.16, \"position\": 38323.97, \"action\": \"HOLD\"}, {\"date\": \"2022-02-28T12:13:00\", \"actual\": 38308.23, \"position\": 38286.16, \"action\": \"HOLD\"}, {\"date\": \"2022-02-28T12:12:00\", \"actual\": 38293.22, \"position\": 38308.23, \"action\": \"HOLD\"}, {\"date\": \"2022-02-28T12:11:00\", \"actual\": 38197.52, \"position\": 38293.22, \"action\": \"HOLD\"}, {\"date\": \"2022-02-28T12:10:00\", \"actual\": 38283.3, \"position\": 38197.52, \"action\": \"HOLD\"}, {\"date\": \"2022-02-28T12:09:00\", \"actual\": 38242.06, \"position\": 38283.3, \"action\": \"HOLD\"}, {\"date\": \"2022-02-28T12:08:00\", \"actual\": 38398.97, \"position\": 38242.06, \"action\": \"HOLD\"}, {\"date\": \"2022-02-28T12:07:00\", \"actual\": 38472.41, \"position\": 38398.97, \"action\": \"HOLD\"}, {\"date\": \"2022-02-28T12:06:00\", \"actual\": 38417.54, \"position\": 38472.41, \"action\": \"HOLD\"}, {\"date\": \"2022-02-28T12:05:00\", \"actual\": 38341.11, \"position\": 38417.54, \"action\": \"HOLD\"}, {\"date\": \"2022-02-28T12:04:00\", \"actual\": 38343.54, \"position\": 38341.11, \"action\": \"HOLD\"}, {\"date\": \"2022-02-28T12:03:00\", \"actual\": 38327.57, \"position\": 38343.54, \"action\": \"HOLD\"}, {\"date\": \"2022-02-28T12:02:00\", \"actual\": 38307.51, \"position\": 38327.57, \"action\": \"HOLD\"}, {\"date\": \"2022-02-28T12:01:00\", \"actual\": 38316.86, \"position\": 38307.51, \"action\": \"HOLD\"}, {\"date\": \"2022-02-28T12:00:00\", \"actual\": 38372.36, \"position\": 38316.86, \"action\": \"HOLD\"}, {\"date\": \"2022-02-28T11:59:00\", \"actual\": 38367.53, \"position\": 38372.36, \"action\": \"HOLD\"}, {\"date\": \"2022-02-28T11:58:00\", \"actual\": 38372.29, \"position\": 38367.53, \"action\": \"HOLD\"}, {\"date\": \"2022-02-28T11:57:00\", \"actual\": 38396.48, \"position\": 38372.29, \"action\": \"HOLD\"}, {\"date\": \"2022-02-28T11:56:00\", \"actual\": 38406.62, \"position\": 38396.48, \"action\": \"HOLD\"}, {\"date\": \"2022-02-28T11:55:00\", \"actual\": 38322.84, \"position\": 38406.62, \"action\": \"HOLD\"}, {\"date\": \"2022-02-28T11:54:00\", \"actual\": 38355.77, \"position\": 38322.84, \"action\": \"HOLD\"}, {\"date\": \"2022-02-28T11:53:00\", \"actual\": 38343.16, \"position\": 38355.77, \"action\": \"HOLD\"}, {\"date\": \"2022-02-28T11:52:00\", \"actual\": 38347.57, \"position\": 38343.16, \"action\": \"HOLD\"}, {\"date\": \"2022-02-28T11:51:00\", \"actual\": 38376.67, \"position\": 38347.57, \"action\": \"HOLD\"}, {\"date\": \"2022-02-28T11:50:00\", \"actual\": 38429.62, \"position\": 38376.67, \"action\": \"HOLD\"}, {\"date\": \"2022-02-28T11:49:00\", \"actual\": 38372.25, \"position\": 38429.62, \"action\": \"HOLD\"}, {\"date\": \"2022-02-28T11:48:00\", \"actual\": 38364.81, \"position\": 38372.25, \"action\": \"HOLD\"}, {\"date\": \"2022-02-28T11:47:00\", \"actual\": 38328.23, \"position\": 38364.81, \"action\": \"HOLD\"}, {\"date\": \"2022-02-28T11:46:00\", \"actual\": 38314.33, \"position\": 38328.23, \"action\": \"HOLD\"}, {\"date\": \"2022-02-28T11:45:00\", \"actual\": 38354.1, \"position\": 38314.33, \"action\": \"HOLD\"}, {\"date\": \"2022-02-28T11:44:00\", \"actual\": 38312.95, \"position\": 38354.1, \"action\": \"HOLD\"}, {\"date\": \"2022-02-28T11:43:00\", \"actual\": 38362.14, \"position\": 38312.95, \"action\": \"HOLD\"}, {\"date\": \"2022-02-28T11:42:00\", \"actual\": 38311.01, \"position\": 38362.14, \"action\": \"HOLD\"}, {\"date\": \"2022-02-28T11:41:00\", \"actual\": 38343.32, \"position\": 38311.01, \"action\": \"HOLD\"}, {\"date\": \"2022-02-28T11:40:00\", \"actual\": 38273.49, \"position\": 38343.32, \"action\": \"HOLD\"}, {\"date\": \"2022-02-28T11:39:00\", \"actual\": 38254.59, \"position\": 38273.49, \"action\": \"HOLD\"}, {\"date\": \"2022-02-28T11:38:00\", \"actual\": 38267.34, \"position\": 38254.59, \"action\": \"HOLD\"}, {\"date\": \"2022-02-28T11:37:00\", \"actual\": 38241.1, \"position\": 38267.34, \"action\": \"HOLD\"}, {\"date\": \"2022-02-28T11:36:00\", \"actual\": 38259.62, \"position\": 38241.1, \"action\": \"HOLD\"}, {\"date\": \"2022-02-28T11:35:00\", \"actual\": 38242.44, \"position\": 38259.62, \"action\": \"HOLD\"}, {\"date\": \"2022-02-28T11:34:00\", \"actual\": 38223.07, \"position\": 38242.44, \"action\": \"HOLD\"}, {\"date\": \"2022-02-28T11:33:00\", \"actual\": 38163.94, \"position\": 38223.07, \"action\": \"HOLD\"}, {\"date\": \"2022-02-28T11:32:00\", \"actual\": 38276.64, \"position\": 38163.94, \"action\": \"HOLD\"}, {\"date\": \"2022-02-28T11:31:00\", \"actual\": 38257.34, \"position\": 38276.64, \"action\": \"HOLD\"}, {\"date\": \"2022-02-28T11:30:00\", \"actual\": 38266.75, \"position\": 38257.34, \"action\": \"HOLD\"}, {\"date\": \"2022-02-28T11:29:00\", \"actual\": 38292.38, \"position\": 38266.75, \"action\": \"HOLD\"}, {\"date\": \"2022-02-28T11:28:00\", \"actual\": 38256.07, \"position\": 38292.38, \"action\": \"HOLD\"}, {\"date\": \"2022-02-28T11:27:00\", \"actual\": 38283.46, \"position\": 38256.07, \"action\": \"HOLD\"}, {\"date\": \"2022-02-28T11:26:00\", \"actual\": 38307.51, \"position\": 38283.46, \"action\": \"HOLD\"}, {\"date\": \"2022-02-28T11:25:00\", \"actual\": 38259.52, \"position\": 38307.51, \"action\": \"HOLD\"}, {\"date\": \"2022-02-28T11:24:00\", \"actual\": 38236.98, \"position\": 38259.52, \"action\": \"HOLD\"}, {\"date\": \"2022-02-28T11:23:00\", \"actual\": 38258.69, \"position\": 38236.98, \"action\": \"HOLD\"}, {\"date\": \"2022-02-28T11:22:00\", \"actual\": 38221.84, \"position\": 38258.69, \"action\": \"HOLD\"}, {\"date\": \"2022-02-28T11:21:00\", \"actual\": 38227.34, \"position\": 38221.84, \"action\": \"HOLD\"}, {\"date\": \"2022-02-28T11:20:00\", \"actual\": 38176.39, \"position\": 38227.34, \"action\": \"HOLD\"}, {\"date\": \"2022-02-28T11:19:00\", \"actual\": 38261.25, \"position\": 38176.39, \"action\": \"HOLD\"}, {\"date\": \"2022-02-28T11:18:00\", \"actual\": 38338.44, \"position\": 38261.25, \"action\": \"HOLD\"}, {\"date\": \"2022-02-28T11:17:00\", \"actual\": 38344.14, \"position\": 38338.44, \"action\": \"HOLD\"}, {\"date\": \"2022-02-28T11:16:00\", \"actual\": 38333.87, \"position\": 38344.14, \"action\": \"HOLD\"}, {\"date\": \"2022-02-28T11:15:00\", \"actual\": 38293.26, \"position\": 38333.87, \"action\": \"HOLD\"}, {\"date\": \"2022-02-28T11:14:00\", \"actual\": 38300.16, \"position\": 38293.26, \"action\": \"HOLD\"}, {\"date\": \"2022-02-28T11:13:00\", \"actual\": 38323.16, \"position\": 38300.16, \"action\": \"HOLD\"}, {\"date\": \"2022-02-28T11:12:00\", \"actual\": 38306.4, \"position\": 38323.16, \"action\": \"HOLD\"}, {\"date\": \"2022-02-28T11:11:00\", \"actual\": 38312.25, \"position\": 38306.4, \"action\": \"HOLD\"}, {\"date\": \"2022-02-28T11:10:00\", \"actual\": 38336.67, \"position\": 38312.25, \"action\": \"HOLD\"}, {\"date\": \"2022-02-28T11:09:00\", \"actual\": 38338.97, \"position\": 38336.67, \"action\": \"HOLD\"}, {\"date\": \"2022-02-28T11:08:00\", \"actual\": 38337.07, \"position\": 38338.97, \"action\": \"HOLD\"}, {\"date\": \"2022-02-28T11:07:00\", \"actual\": 38338.67, \"position\": 38337.07, \"action\": \"HOLD\"}, {\"date\": \"2022-02-28T11:06:00\", \"actual\": 38377.08, \"position\": 38338.67, \"action\": \"HOLD\"}, {\"date\": \"2022-02-28T11:05:00\", \"actual\": 38323.2, \"position\": 38377.08, \"action\": \"HOLD\"}, {\"date\": \"2022-02-28T11:04:00\", \"actual\": 38390.0, \"position\": 38323.2, \"action\": \"HOLD\"}, {\"date\": \"2022-02-28T11:03:00\", \"actual\": 38425.69, \"position\": 38390.0, \"action\": \"HOLD\"}, {\"date\": \"2022-02-28T11:02:00\", \"actual\": 38415.29, \"position\": 38425.69, \"action\": \"HOLD\"}, {\"date\": \"2022-02-28T11:01:00\", \"actual\": 38484.4, \"position\": 38415.29, \"action\": \"HOLD\"}, {\"date\": \"2022-02-28T11:00:00\", \"actual\": 38424.29, \"position\": 38484.4, \"action\": \"HOLD\"}, {\"date\": \"2022-02-28T10:59:00\", \"actual\": 38404.2, \"position\": 38424.29, \"action\": \"HOLD\"}, {\"date\": \"2022-02-28T10:58:00\", \"actual\": 38355.12, \"position\": 38404.2, \"action\": \"HOLD\"}, {\"date\": \"2022-02-28T10:57:00\", \"actual\": 38330.65, \"position\": 38355.12, \"action\": \"HOLD\"}, {\"date\": \"2022-02-28T10:56:00\", \"actual\": 38356.48, \"position\": 38330.65, \"action\": \"HOLD\"}, {\"date\": \"2022-02-28T10:55:00\", \"actual\": 38355.57, \"position\": 38356.48, \"action\": \"HOLD\"}, {\"date\": \"2022-02-28T10:54:00\", \"actual\": 38326.16, \"position\": 38355.57, \"action\": \"HOLD\"}, {\"date\": \"2022-02-28T10:53:00\", \"actual\": 38350.77, \"position\": 38326.16, \"action\": \"HOLD\"}, {\"date\": \"2022-02-28T10:52:00\", \"actual\": 38335.64, \"position\": 38350.77, \"action\": \"HOLD\"}, {\"date\": \"2022-02-28T10:51:00\", \"actual\": 38348.56, \"position\": 38335.64, \"action\": \"HOLD\"}, {\"date\": \"2022-02-28T10:50:00\", \"actual\": 38332.16, \"position\": 38348.56, \"action\": \"HOLD\"}, {\"date\": \"2022-02-28T10:49:00\", \"actual\": 38378.27, \"position\": 38332.16, \"action\": \"HOLD\"}, {\"date\": \"2022-02-28T10:48:00\", \"actual\": 38382.79, \"position\": 38378.27, \"action\": \"HOLD\"}, {\"date\": \"2022-02-28T10:47:00\", \"actual\": 38414.43, \"position\": 38382.79, \"action\": \"HOLD\"}, {\"date\": \"2022-02-28T10:46:00\", \"actual\": 38440.86, \"position\": 38414.43, \"action\": \"HOLD\"}, {\"date\": \"2022-02-28T10:45:00\", \"actual\": 38358.19, \"position\": 38440.86, \"action\": \"HOLD\"}, {\"date\": \"2022-02-28T10:44:00\", \"actual\": 38383.88, \"position\": 38358.19, \"action\": \"HOLD\"}, {\"date\": \"2022-02-28T10:43:00\", \"actual\": 38411.34, \"position\": 38383.88, \"action\": \"HOLD\"}, {\"date\": \"2022-02-28T10:42:00\", \"actual\": 38375.78, \"position\": 38411.34, \"action\": \"HOLD\"}, {\"date\": \"2022-02-28T10:41:00\", \"actual\": 38403.14, \"position\": 38375.78, \"action\": \"HOLD\"}, {\"date\": \"2022-02-28T10:40:00\", \"actual\": 38406.1, \"position\": 38403.14, \"action\": \"HOLD\"}, {\"date\": \"2022-02-28T10:39:00\", \"actual\": 38410.69, \"position\": 38406.1, \"action\": \"HOLD\"}, {\"date\": \"2022-02-28T10:38:00\", \"actual\": 38395.91, \"position\": 38410.69, \"action\": \"HOLD\"}, {\"date\": \"2022-02-28T10:37:00\", \"actual\": 38396.39, \"position\": 38395.91, \"action\": \"HOLD\"}, {\"date\": \"2022-02-28T10:36:00\", \"actual\": 38366.25, \"position\": 38396.39, \"action\": \"HOLD\"}, {\"date\": \"2022-02-28T10:35:00\", \"actual\": 38365.32, \"position\": 38366.25, \"action\": \"HOLD\"}, {\"date\": \"2022-02-28T10:34:00\", \"actual\": 38358.22, \"position\": 38365.32, \"action\": \"HOLD\"}, {\"date\": \"2022-02-28T10:33:00\", \"actual\": 38351.37, \"position\": 38358.22, \"action\": \"HOLD\"}, {\"date\": \"2022-02-28T10:32:00\", \"actual\": 38313.76, \"position\": 38351.37, \"action\": \"HOLD\"}, {\"date\": \"2022-02-28T10:31:00\", \"actual\": 38281.81, \"position\": 38313.76, \"action\": \"HOLD\"}, {\"date\": \"2022-02-28T10:30:00\", \"actual\": 38261.1, \"position\": 38281.81, \"action\": \"HOLD\"}, {\"date\": \"2022-02-28T10:29:00\", \"actual\": 38281.95, \"position\": 38261.1, \"action\": \"HOLD\"}, {\"date\": \"2022-02-28T10:28:00\", \"actual\": 38311.92, \"position\": 38281.95, \"action\": \"HOLD\"}, {\"date\": \"2022-02-28T10:27:00\", \"actual\": 38314.05, \"position\": 38311.92, \"action\": \"HOLD\"}, {\"date\": \"2022-02-28T10:26:00\", \"actual\": 38322.41, \"position\": 38314.05, \"action\": \"HOLD\"}, {\"date\": \"2022-02-28T10:25:00\", \"actual\": 38335.5, \"position\": 38322.41, \"action\": \"HOLD\"}, {\"date\": \"2022-02-28T10:24:00\", \"actual\": 38342.07, \"position\": 38335.5, \"action\": \"HOLD\"}, {\"date\": \"2022-02-28T10:23:00\", \"actual\": 38351.33, \"position\": 38342.07, \"action\": \"HOLD\"}, {\"date\": \"2022-02-28T10:22:00\", \"actual\": 38356.87, \"position\": 38351.33, \"action\": \"HOLD\"}, {\"date\": \"2022-02-28T10:21:00\", \"actual\": 38344.67, \"position\": 38356.87, \"action\": \"HOLD\"}, {\"date\": \"2022-02-28T10:20:00\", \"actual\": 38298.26, \"position\": 38344.67, \"action\": \"HOLD\"}, {\"date\": \"2022-02-28T10:19:00\", \"actual\": 38287.26, \"position\": 38298.26, \"action\": \"HOLD\"}, {\"date\": \"2022-02-28T10:18:00\", \"actual\": 38265.45, \"position\": 38287.26, \"action\": \"HOLD\"}, {\"date\": \"2022-02-28T10:17:00\", \"actual\": 38268.3, \"position\": 38265.45, \"action\": \"HOLD\"}, {\"date\": \"2022-02-28T10:16:00\", \"actual\": 38237.48, \"position\": 38268.3, \"action\": \"HOLD\"}, {\"date\": \"2022-02-28T10:15:00\", \"actual\": 38246.17, \"position\": 38237.48, \"action\": \"HOLD\"}, {\"date\": \"2022-02-28T10:14:00\", \"actual\": 38228.64, \"position\": 38246.17, \"action\": \"HOLD\"}, {\"date\": \"2022-02-28T10:13:00\", \"actual\": 38232.97, \"position\": 38228.64, \"action\": \"HOLD\"}, {\"date\": \"2022-02-28T10:12:00\", \"actual\": 38237.79, \"position\": 38232.97, \"action\": \"HOLD\"}, {\"date\": \"2022-02-28T10:11:00\", \"actual\": 38263.36, \"position\": 38237.79, \"action\": \"HOLD\"}, {\"date\": \"2022-02-28T10:10:00\", \"actual\": 38228.94, \"position\": 38263.36, \"action\": \"HOLD\"}, {\"date\": \"2022-02-28T10:09:00\", \"actual\": 38238.04, \"position\": 38228.94, \"action\": \"HOLD\"}, {\"date\": \"2022-02-28T10:08:00\", \"actual\": 38217.48, \"position\": 38238.04, \"action\": \"HOLD\"}, {\"date\": \"2022-02-28T10:07:00\", \"actual\": 38228.84, \"position\": 38217.48, \"action\": \"HOLD\"}, {\"date\": \"2022-02-28T10:06:00\", \"actual\": 38252.0, \"position\": 38228.84, \"action\": \"HOLD\"}, {\"date\": \"2022-02-28T10:05:00\", \"actual\": 38282.15, \"position\": 38252.0, \"action\": \"HOLD\"}, {\"date\": \"2022-02-28T10:04:00\", \"actual\": 38272.16, \"position\": 38282.15, \"action\": \"HOLD\"}, {\"date\": \"2022-02-28T10:03:00\", \"actual\": 38294.36, \"position\": 38272.16, \"action\": \"HOLD\"}, {\"date\": \"2022-02-28T10:02:00\", \"actual\": 38245.39, \"position\": 38294.36, \"action\": \"HOLD\"}, {\"date\": \"2022-02-28T10:01:00\", \"actual\": 38185.13, \"position\": 38245.39, \"action\": \"HOLD\"}, {\"date\": \"2022-02-28T10:00:00\", \"actual\": 38187.66, \"position\": 38185.13, \"action\": \"HOLD\"}, {\"date\": \"2022-02-28T09:59:00\", \"actual\": 38125.95, \"position\": 38187.66, \"action\": \"HOLD\"}, {\"date\": \"2022-02-28T09:58:00\", \"actual\": 38250.22, \"position\": 38125.95, \"action\": \"HOLD\"}, {\"date\": \"2022-02-28T09:57:00\", \"actual\": 38393.28, \"position\": 38250.22, \"action\": \"HOLD\"}, {\"date\": \"2022-02-28T09:56:00\", \"actual\": 38374.56, \"position\": 38393.28, \"action\": \"HOLD\"}, {\"date\": \"2022-02-28T09:55:00\", \"actual\": 38396.69, \"position\": 38374.56, \"action\": \"HOLD\"}, {\"date\": \"2022-02-28T09:54:00\", \"actual\": 38399.29, \"position\": 38396.69, \"action\": \"HOLD\"}, {\"date\": \"2022-02-28T09:53:00\", \"actual\": 38405.37, \"position\": 38399.29, \"action\": \"HOLD\"}, {\"date\": \"2022-02-28T09:52:00\", \"actual\": 38382.08, \"position\": 38405.37, \"action\": \"HOLD\"}, {\"date\": \"2022-02-28T09:51:00\", \"actual\": 38318.73, \"position\": 38382.08, \"action\": \"HOLD\"}, {\"date\": \"2022-02-28T09:50:00\", \"actual\": 38372.15, \"position\": 38318.73, \"action\": \"HOLD\"}, {\"date\": \"2022-02-28T09:49:00\", \"actual\": 38375.94, \"position\": 38372.15, \"action\": \"HOLD\"}, {\"date\": \"2022-02-28T09:48:00\", \"actual\": 38352.97, \"position\": 38375.94, \"action\": \"HOLD\"}, {\"date\": \"2022-02-28T09:47:00\", \"actual\": 38360.45, \"position\": 38352.97, \"action\": \"HOLD\"}, {\"date\": \"2022-02-28T09:46:00\", \"actual\": 38347.35, \"position\": 38360.45, \"action\": \"HOLD\"}, {\"date\": \"2022-02-28T09:45:00\", \"actual\": 38370.78, \"position\": 38347.35, \"action\": \"HOLD\"}, {\"date\": \"2022-02-28T09:44:00\", \"actual\": 38374.32, \"position\": 38370.78, \"action\": \"HOLD\"}, {\"date\": \"2022-02-28T09:43:00\", \"actual\": 38374.2, \"position\": 38374.32, \"action\": \"HOLD\"}, {\"date\": \"2022-02-28T09:42:00\", \"actual\": 38362.51, \"position\": 38374.2, \"action\": \"HOLD\"}, {\"date\": \"2022-02-28T09:41:00\", \"actual\": 38387.28, \"position\": 38362.51, \"action\": \"HOLD\"}, {\"date\": \"2022-02-28T09:40:00\", \"actual\": 38362.93, \"position\": 38387.28, \"action\": \"HOLD\"}, {\"date\": \"2022-02-28T09:39:00\", \"actual\": 38362.93, \"position\": 38362.93, \"action\": \"HOLD\"}, {\"date\": \"2022-02-28T09:38:00\", \"actual\": 38362.93, \"position\": 38362.93, \"action\": \"HOLD\"}, {\"date\": \"2022-02-28T09:37:00\", \"actual\": 38362.75, \"position\": 38362.93, \"action\": \"HOLD\"}, {\"date\": \"2022-02-28T09:36:00\", \"actual\": 38362.89, \"position\": 38362.75, \"action\": \"HOLD\"}, {\"date\": \"2022-02-28T09:35:00\", \"actual\": 38362.89, \"position\": 38362.89, \"action\": \"HOLD\"}, {\"date\": \"2022-02-28T09:34:00\", \"actual\": 38362.89, \"position\": 38362.89, \"action\": \"HOLD\"}, {\"date\": \"2022-02-28T09:33:00\", \"actual\": 38362.73, \"position\": 38362.89, \"action\": \"HOLD\"}, {\"date\": \"2022-02-28T09:32:00\", \"actual\": 38362.65, \"position\": 38362.73, \"action\": \"HOLD\"}, {\"date\": \"2022-02-28T09:31:00\", \"actual\": 38357.23, \"position\": 38362.65, \"action\": \"HOLD\"}, {\"date\": \"2022-02-28T09:30:00\", \"actual\": 38362.87, \"position\": 38357.23, \"action\": \"HOLD\"}, {\"date\": \"2022-02-28T09:29:00\", \"actual\": 38359.47, \"position\": 38362.87, \"action\": \"HOLD\"}, {\"date\": \"2022-02-28T09:28:00\", \"actual\": 38351.06, \"position\": 38359.47, \"action\": \"HOLD\"}, {\"date\": \"2022-02-28T09:27:00\", \"actual\": 38343.34, \"position\": 38351.06, \"action\": \"HOLD\"}, {\"date\": \"2022-02-28T09:26:00\", \"actual\": 38347.15, \"position\": 38343.34, \"action\": \"HOLD\"}, {\"date\": \"2022-02-28T09:25:00\", \"actual\": 38351.06, \"position\": 38347.15, \"action\": \"HOLD\"}, {\"date\": \"2022-02-28T09:24:00\", \"actual\": 38347.78, \"position\": 38351.06, \"action\": \"HOLD\"}, {\"date\": \"2022-02-28T09:23:00\", \"actual\": 38400.19, \"position\": 38347.78, \"action\": \"HOLD\"}, {\"date\": \"2022-02-28T09:22:00\", \"actual\": 38397.69, \"position\": 38400.19, \"action\": \"HOLD\"}, {\"date\": \"2022-02-28T09:21:00\", \"actual\": 38417.68, \"position\": 38397.69, \"action\": \"HOLD\"}, {\"date\": \"2022-02-28T09:20:00\", \"actual\": 38399.2, \"position\": 38417.68, \"action\": \"HOLD\"}, {\"date\": \"2022-02-28T09:19:00\", \"actual\": 38389.88, \"position\": 38399.2, \"action\": \"HOLD\"}, {\"date\": \"2022-02-28T09:18:00\", \"actual\": 38364.39, \"position\": 38389.88, \"action\": \"HOLD\"}, {\"date\": \"2022-02-28T09:17:00\", \"actual\": 38379.01, \"position\": 38364.39, \"action\": \"HOLD\"}, {\"date\": \"2022-02-28T09:16:00\", \"actual\": 38379.88, \"position\": 38379.01, \"action\": \"HOLD\"}, {\"date\": \"2022-02-28T09:15:00\", \"actual\": 38431.29, \"position\": 38379.88, \"action\": \"HOLD\"}, {\"date\": \"2022-02-28T09:14:00\", \"actual\": 38478.05, \"position\": 38431.29, \"action\": \"HOLD\"}, {\"date\": \"2022-02-28T09:13:00\", \"actual\": 38449.49, \"position\": 38478.05, \"action\": \"HOLD\"}, {\"date\": \"2022-02-28T09:12:00\", \"actual\": 38420.69, \"position\": 38449.49, \"action\": \"HOLD\"}, {\"date\": \"2022-02-28T09:11:00\", \"actual\": 38419.99, \"position\": 38420.69, \"action\": \"HOLD\"}, {\"date\": \"2022-02-28T09:10:00\", \"actual\": 38488.7, \"position\": 38419.99, \"action\": \"HOLD\"}, {\"date\": \"2022-02-28T09:09:00\", \"actual\": 38509.69, \"position\": 38488.7, \"action\": \"HOLD\"}, {\"date\": \"2022-02-28T09:08:00\", \"actual\": 38592.84, \"position\": 38509.69, \"action\": \"HOLD\"}, {\"date\": \"2022-02-28T09:07:00\", \"actual\": 38553.43, \"position\": 38592.84, \"action\": \"HOLD\"}, {\"date\": \"2022-02-28T09:06:00\", \"actual\": 38558.53, \"position\": 38553.43, \"action\": \"HOLD\"}, {\"date\": \"2022-02-28T09:05:00\", \"actual\": 38496.88, \"position\": 38558.53, \"action\": \"HOLD\"}, {\"date\": \"2022-02-28T09:04:00\", \"actual\": 38432.8, \"position\": 38496.88, \"action\": \"HOLD\"}, {\"date\": \"2022-02-28T09:03:00\", \"actual\": 38415.89, \"position\": 38432.8, \"action\": \"HOLD\"}, {\"date\": \"2022-02-28T09:02:00\", \"actual\": 38378.68, \"position\": 38415.89, \"action\": \"HOLD\"}, {\"date\": \"2022-02-28T09:01:00\", \"actual\": 38363.3, \"position\": 38378.68, \"action\": \"HOLD\"}, {\"date\": \"2022-02-28T09:00:00\", \"actual\": 38308.36, \"position\": 38363.3, \"action\": \"HOLD\"}, {\"date\": \"2022-02-28T08:59:00\", \"actual\": 38333.17, \"position\": 38308.36, \"action\": \"HOLD\"}, {\"date\": \"2022-02-28T08:58:00\", \"actual\": 38355.17, \"position\": 38333.17, \"action\": \"HOLD\"}, {\"date\": \"2022-02-28T08:57:00\", \"actual\": 38361.52, \"position\": 38355.17, \"action\": \"HOLD\"}, {\"date\": \"2022-02-28T08:56:00\", \"actual\": 38350.42, \"position\": 38361.52, \"action\": \"HOLD\"}, {\"date\": \"2022-02-28T08:55:00\", \"actual\": 38338.85, \"position\": 38350.42, \"action\": \"HOLD\"}, {\"date\": \"2022-02-28T08:54:00\", \"actual\": 38317.3, \"position\": 38338.85, \"action\": \"HOLD\"}, {\"date\": \"2022-02-28T08:53:00\", \"actual\": 38328.96, \"position\": 38317.3, \"action\": \"HOLD\"}, {\"date\": \"2022-02-28T08:52:00\", \"actual\": 38368.03, \"position\": 38328.96, \"action\": \"HOLD\"}, {\"date\": \"2022-02-28T08:51:00\", \"actual\": 38377.38, \"position\": 38368.03, \"action\": \"HOLD\"}, {\"date\": \"2022-02-28T08:50:00\", \"actual\": 38326.83, \"position\": 38377.38, \"action\": \"HOLD\"}, {\"date\": \"2022-02-28T08:49:00\", \"actual\": 38316.86, \"position\": 38326.83, \"action\": \"HOLD\"}, {\"date\": \"2022-02-28T08:48:00\", \"actual\": 38308.49, \"position\": 38316.86, \"action\": \"HOLD\"}, {\"date\": \"2022-02-28T08:47:00\", \"actual\": 38283.86, \"position\": 38308.49, \"action\": \"HOLD\"}, {\"date\": \"2022-02-28T08:46:00\", \"actual\": 38285.85, \"position\": 38283.86, \"action\": \"HOLD\"}, {\"date\": \"2022-02-28T08:45:00\", \"actual\": 38280.64, \"position\": 38285.85, \"action\": \"HOLD\"}, {\"date\": \"2022-02-28T08:44:00\", \"actual\": 38280.83, \"position\": 38280.64, \"action\": \"HOLD\"}, {\"date\": \"2022-02-28T08:43:00\", \"actual\": 38256.8, \"position\": 38280.83, \"action\": \"HOLD\"}, {\"date\": \"2022-02-28T08:42:00\", \"actual\": 38245.61, \"position\": 38256.8, \"action\": \"HOLD\"}, {\"date\": \"2022-02-28T08:41:00\", \"actual\": 38328.03, \"position\": 38245.61, \"action\": \"BUY\"}, {\"date\": \"2022-02-28T08:40:00\", \"actual\": 38349.47, \"position\": 38328.03, \"action\": \"SELL\"}, {\"date\": \"2022-02-28T08:39:00\", \"actual\": 38366.22, \"position\": 38349.47, \"action\": \"HOLD\"}, {\"date\": \"2022-02-28T08:38:00\", \"actual\": 38372.94, \"position\": 38366.22, \"action\": \"HOLD\"}, {\"date\": \"2022-02-28T08:37:00\", \"actual\": 38394.22, \"position\": 38372.94, \"action\": \"HOLD\"}, {\"date\": \"2022-02-28T08:36:00\", \"actual\": 38362.38, \"position\": 38394.22, \"action\": \"HOLD\"}, {\"date\": \"2022-02-28T08:35:00\", \"actual\": 38395.79, \"position\": 38362.38, \"action\": \"HOLD\"}, {\"date\": \"2022-02-28T08:34:00\", \"actual\": 38408.02, \"position\": 38395.79, \"action\": \"HOLD\"}, {\"date\": \"2022-02-28T08:33:00\", \"actual\": 38430.0, \"position\": 38408.02, \"action\": \"HOLD\"}, {\"date\": \"2022-02-28T08:32:00\", \"actual\": 38456.67, \"position\": 38430.0, \"action\": \"HOLD\"}, {\"date\": \"2022-02-28T08:31:00\", \"actual\": 38457.0, \"position\": 38456.67, \"action\": \"HOLD\"}, {\"date\": \"2022-02-28T08:30:00\", \"actual\": 38482.21, \"position\": 38457.0, \"action\": \"HOLD\"}, {\"date\": \"2022-02-28T08:29:00\", \"actual\": 38498.51, \"position\": 38482.21, \"action\": \"HOLD\"}, {\"date\": \"2022-02-28T08:28:00\", \"actual\": 38516.1, \"position\": 38498.51, \"action\": \"HOLD\"}, {\"date\": \"2022-02-28T08:27:00\", \"actual\": 38467.92, \"position\": 38516.1, \"action\": \"HOLD\"}, {\"date\": \"2022-02-28T08:26:00\", \"actual\": 38444.67, \"position\": 38467.92, \"action\": \"HOLD\"}, {\"date\": \"2022-02-28T08:25:00\", \"actual\": 38409.29, \"position\": 38444.67, \"action\": \"HOLD\"}, {\"date\": \"2022-02-28T08:24:00\", \"actual\": 38403.16, \"position\": 38409.29, \"action\": \"HOLD\"}, {\"date\": \"2022-02-28T08:23:00\", \"actual\": 38382.74, \"position\": 38403.16, \"action\": \"HOLD\"}, {\"date\": \"2022-02-28T08:22:00\", \"actual\": 38405.05, \"position\": 38382.74, \"action\": \"HOLD\"}, {\"date\": \"2022-02-28T08:21:00\", \"actual\": 38386.08, \"position\": 38405.05, \"action\": \"HOLD\"}, {\"date\": \"2022-02-28T08:20:00\", \"actual\": 38397.36, \"position\": 38386.08, \"action\": \"HOLD\"}, {\"date\": \"2022-02-28T08:19:00\", \"actual\": 38388.88, \"position\": 38397.36, \"action\": \"HOLD\"}, {\"date\": \"2022-02-28T08:18:00\", \"actual\": 38461.4, \"position\": 38388.88, \"action\": \"HOLD\"}, {\"date\": \"2022-02-28T08:17:00\", \"actual\": 38466.5, \"position\": 38461.4, \"action\": \"HOLD\"}, {\"date\": \"2022-02-28T08:16:00\", \"actual\": 38455.6, \"position\": 38466.5, \"action\": \"HOLD\"}, {\"date\": \"2022-02-28T08:15:00\", \"actual\": 38475.71, \"position\": 38455.6, \"action\": \"HOLD\"}, {\"date\": \"2022-02-28T08:14:00\", \"actual\": 38488.19, \"position\": 38475.71, \"action\": \"HOLD\"}, {\"date\": \"2022-02-28T08:13:00\", \"actual\": 38504.2, \"position\": 38488.19, \"action\": \"HOLD\"}, {\"date\": \"2022-02-28T08:12:00\", \"actual\": 38464.71, \"position\": 38504.2, \"action\": \"HOLD\"}, {\"date\": \"2022-02-28T08:11:00\", \"actual\": 38525.4, \"position\": 38464.71, \"action\": \"HOLD\"}, {\"date\": \"2022-02-28T08:10:00\", \"actual\": 38529.4, \"position\": 38525.4, \"action\": \"HOLD\"}, {\"date\": \"2022-02-28T08:09:00\", \"actual\": 38585.31, \"position\": 38529.4, \"action\": \"HOLD\"}, {\"date\": \"2022-02-28T08:08:00\", \"actual\": 38612.19, \"position\": 38585.31, \"action\": \"HOLD\"}, {\"date\": \"2022-02-28T08:07:00\", \"actual\": 38602.54, \"position\": 38612.19, \"action\": \"HOLD\"}, {\"date\": \"2022-02-28T08:06:00\", \"actual\": 38474.51, \"position\": 38602.54, \"action\": \"HOLD\"}, {\"date\": \"2022-02-28T08:05:00\", \"actual\": 38464.5, \"position\": 38474.51, \"action\": \"HOLD\"}, {\"date\": \"2022-02-28T08:04:00\", \"actual\": 38441.89, \"position\": 38464.5, \"action\": \"HOLD\"}, {\"date\": \"2022-02-28T08:03:00\", \"actual\": 38449.89, \"position\": 38441.89, \"action\": \"HOLD\"}, {\"date\": \"2022-02-28T08:02:00\", \"actual\": 38413.08, \"position\": 38449.89, \"action\": \"HOLD\"}, {\"date\": \"2022-02-28T08:01:00\", \"actual\": 38357.43, \"position\": 38413.08, \"action\": \"HOLD\"}, {\"date\": \"2022-02-28T08:00:00\", \"actual\": 38322.31, \"position\": 38357.43, \"action\": \"HOLD\"}, {\"date\": \"2022-02-28T07:59:00\", \"actual\": 38378.13, \"position\": 38322.31, \"action\": \"HOLD\"}, {\"date\": \"2022-02-28T07:58:00\", \"actual\": 38371.88, \"position\": 38378.13, \"action\": \"HOLD\"}, {\"date\": \"2022-02-28T07:57:00\", \"actual\": 38370.0, \"position\": 38371.88, \"action\": \"HOLD\"}, {\"date\": \"2022-02-28T07:56:00\", \"actual\": 38360.28, \"position\": 38370.0, \"action\": \"HOLD\"}, {\"date\": \"2022-02-28T07:55:00\", \"actual\": 38296.36, \"position\": 38360.28, \"action\": \"HOLD\"}, {\"date\": \"2022-02-28T07:54:00\", \"actual\": 38290.38, \"position\": 38296.36, \"action\": \"HOLD\"}, {\"date\": \"2022-02-28T07:53:00\", \"actual\": 38302.91, \"position\": 38290.38, \"action\": \"HOLD\"}, {\"date\": \"2022-02-28T07:52:00\", \"actual\": 38330.15, \"position\": 38302.91, \"action\": \"HOLD\"}, {\"date\": \"2022-02-28T07:51:00\", \"actual\": 38320.25, \"position\": 38330.15, \"action\": \"HOLD\"}, {\"date\": \"2022-02-28T07:50:00\", \"actual\": 38346.47, \"position\": 38320.25, \"action\": \"HOLD\"}, {\"date\": \"2022-02-28T07:49:00\", \"actual\": 38302.75, \"position\": 38346.47, \"action\": \"HOLD\"}, {\"date\": \"2022-02-28T07:48:00\", \"actual\": 38348.87, \"position\": 38302.75, \"action\": \"HOLD\"}, {\"date\": \"2022-02-28T07:47:00\", \"actual\": 38403.72, \"position\": 38348.87, \"action\": \"HOLD\"}, {\"date\": \"2022-02-28T07:46:00\", \"actual\": 38384.39, \"position\": 38403.72, \"action\": \"HOLD\"}, {\"date\": \"2022-02-28T07:45:00\", \"actual\": 38479.72, \"position\": 38384.39, \"action\": \"HOLD\"}, {\"date\": \"2022-02-28T07:44:00\", \"actual\": 38432.1, \"position\": 38479.72, \"action\": \"HOLD\"}, {\"date\": \"2022-02-28T07:43:00\", \"actual\": 38405.56, \"position\": 38432.1, \"action\": \"HOLD\"}, {\"date\": \"2022-02-28T07:42:00\", \"actual\": 38340.65, \"position\": 38405.56, \"action\": \"HOLD\"}, {\"date\": \"2022-02-28T07:41:00\", \"actual\": 38344.67, \"position\": 38340.65, \"action\": \"HOLD\"}, {\"date\": \"2022-02-28T07:40:00\", \"actual\": 38323.8, \"position\": 38344.67, \"action\": \"HOLD\"}, {\"date\": \"2022-02-28T07:39:00\", \"actual\": 38311.85, \"position\": 38323.8, \"action\": \"HOLD\"}, {\"date\": \"2022-02-28T07:38:00\", \"actual\": 38318.37, \"position\": 38311.85, \"action\": \"HOLD\"}, {\"date\": \"2022-02-28T07:37:00\", \"actual\": 38338.39, \"position\": 38318.37, \"action\": \"HOLD\"}, {\"date\": \"2022-02-28T07:36:00\", \"actual\": 38338.57, \"position\": 38338.39, \"action\": \"HOLD\"}, {\"date\": \"2022-02-28T07:35:00\", \"actual\": 38400.2, \"position\": 38338.57, \"action\": \"HOLD\"}, {\"date\": \"2022-02-28T07:34:00\", \"actual\": 38315.24, \"position\": 38400.2, \"action\": \"HOLD\"}, {\"date\": \"2022-02-28T07:33:00\", \"actual\": 38314.44, \"position\": 38315.24, \"action\": \"HOLD\"}, {\"date\": \"2022-02-28T07:32:00\", \"actual\": 38262.8, \"position\": 38314.44, \"action\": \"HOLD\"}, {\"date\": \"2022-02-28T07:31:00\", \"actual\": 38225.4, \"position\": 38262.8, \"action\": \"HOLD\"}, {\"date\": \"2022-02-28T07:30:00\", \"actual\": 38232.55, \"position\": 38225.4, \"action\": \"HOLD\"}, {\"date\": \"2022-02-28T07:29:00\", \"actual\": 38205.46, \"position\": 38232.55, \"action\": \"HOLD\"}, {\"date\": \"2022-02-28T07:28:00\", \"actual\": 38251.36, \"position\": 38205.46, \"action\": \"HOLD\"}, {\"date\": \"2022-02-28T07:27:00\", \"actual\": 38146.59, \"position\": 38251.36, \"action\": \"HOLD\"}, {\"date\": \"2022-02-28T07:26:00\", \"actual\": 38213.44, \"position\": 38146.59, \"action\": \"HOLD\"}, {\"date\": \"2022-02-28T07:25:00\", \"actual\": 38210.23, \"position\": 38213.44, \"action\": \"HOLD\"}, {\"date\": \"2022-02-28T07:24:00\", \"actual\": 38176.52, \"position\": 38210.23, \"action\": \"HOLD\"}, {\"date\": \"2022-02-28T07:23:00\", \"actual\": 38209.99, \"position\": 38176.52, \"action\": \"HOLD\"}, {\"date\": \"2022-02-28T07:22:00\", \"actual\": 38131.39, \"position\": 38209.99, \"action\": \"HOLD\"}]}}, {\"mode\": \"vega-lite\"});\n",
              "</script>"
            ],
            "text/plain": [
              "alt.LayerChart(...)"
            ]
          },
          "execution_count": 63,
          "metadata": {},
          "output_type": "execute_result"
        }
      ],
      "source": [
        "chart = visualize(df.iloc[:int(len(df)*0.002)], history, title=test_stock)\n",
        "chart"
      ]
    },
    {
      "cell_type": "code",
      "execution_count": null,
      "metadata": {
        "id": "CSmNQrtfDTK9"
      },
      "outputs": [],
      "source": []
    }
  ],
  "metadata": {
    "accelerator": "GPU",
    "colab": {
      "machine_shape": "hm",
      "provenance": []
    },
    "kernelspec": {
      "display_name": "Python 3",
      "name": "python3"
    },
    "language_info": {
      "name": "python"
    }
  },
  "nbformat": 4,
  "nbformat_minor": 0
}